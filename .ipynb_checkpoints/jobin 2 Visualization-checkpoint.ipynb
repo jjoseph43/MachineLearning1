{
 "cells": [
  {
   "cell_type": "markdown",
   "metadata": {},
   "source": [
    "# Grading Rubric\n",
    "### Business Understanding (10 points total).\n",
    "\n",
    "• Describe the purpose of the data set you selected (i.e., why was this data collected in the first place?). Describe how you would define and measure the outcomes from the dataset. That is, why is this data important and how do you know if you have mined useful knowledge from the dataset? How would you measure the effectiveness of a good prediction algorithm? Be specific.\n",
    "\n",
    "(Nnenna)\n",
    "\n",
    "\n",
    "We are predicting Injury Severity \n",
    "\n",
    "### Data Understanding (80 points total)\n",
    "\n",
    "#### Data Meaning Type\n",
    "• [10 points] Describe the meaning and type of data (scale, values, etc.) for each\n",
    "attribute in the data file.\n",
    "\n",
    "(Nnenna)\n",
    "#### Data Quality\n",
    "• [15 points] Verify data quality: Explain any missing values, duplicate data, and outliers.\n",
    "Are those mistakes? How do you deal with these problems? Be specific.\n",
    "\n",
    "(Satvik and Dylan)\n",
    "Data cleaning - added features, cleaned\n",
    "\n",
    "scatter plots\n",
    "\n",
    "#### Simple Statistics\n",
    "• [10 points] Give simple, appropriate statistics (range, mode, mean, median, variance,\n",
    "counts, etc.) for the most important attributes and describe what they mean or if you found something interesting. Note: You can also use data from other sources for comparison. Explain the significance of the statistics run and why they are meaningful.\n",
    "\n",
    "(Dylan)\n",
    "describe()\n",
    "\n",
    "#### Visualize Attributes\n",
    "• [15 points] Visualize the most important attributes appropriately (at least 5 attributes). Important: Provide an interpretation for each chart. Explain for each attribute why the chosen visualization is appropriate.\n",
    "\n",
    "bar graph top makes or model\n",
    "\n",
    "proportion plots - classification\n",
    "\n",
    "Satvik\n",
    "\n",
    "#### Explore Joint Attributes\n",
    "• [15 points] Visualize relationships between attributes: Look at the attributes via scatter plots, correlation, cross-tabulation, group-wise averages, etc. as appropriate. Explain any interesting relationships.\n",
    "\n",
    "(Jobin)\n",
    "boxplots - injury severity\n",
    "\n",
    "correlation\n",
    "\n",
    "violin plot \n",
    "\n",
    "\n",
    "\n",
    "\n",
    "#### Explore Attributes and Class\n",
    "• [10 points] Identify and explain interesting relationships between features and the class you are trying to predict (i.e., relationships with variables and the target classification).\n",
    "\n",
    "Accuracy, precision, recall - categorical\n",
    "ROC Curves, AUC\n",
    "\n",
    "RMSE\n",
    "(Jobin)\n",
    "\n",
    "#### New Features\n",
    "• [5 points] Are there other features that could be added to the data or created from existing features? Which ones?\n",
    "\n",
    "Copy from earlier, use some columns for another dataset.\n",
    "\n",
    "Dylan/Satvik\n",
    "\n",
    "#### Exceptional Work (10 points total)\n",
    "• You have free reign to provide additional analyses.\n",
    "• One idea: implement dimensionality reduction, then visualize and interpret the results.  "
   ]
  },
  {
   "cell_type": "markdown",
   "metadata": {},
   "source": [
    "# Lab 1 - Visualization and Preprocessing "
   ]
  },
  {
   "cell_type": "code",
   "execution_count": 11,
   "metadata": {},
   "outputs": [
    {
     "ename": "ModuleNotFoundError",
     "evalue": "No module named 'plotly'",
     "output_type": "error",
     "traceback": [
      "\u001b[1;31m---------------------------------------------------------------------------\u001b[0m",
      "\u001b[1;31mModuleNotFoundError\u001b[0m                       Traceback (most recent call last)",
      "\u001b[1;32m<ipython-input-11-a678ada492cf>\u001b[0m in \u001b[0;36m<module>\u001b[1;34m\u001b[0m\n\u001b[0;32m      5\u001b[0m \u001b[0msns\u001b[0m\u001b[1;33m.\u001b[0m\u001b[0mset\u001b[0m\u001b[1;33m(\u001b[0m\u001b[0mstyle\u001b[0m\u001b[1;33m=\u001b[0m\u001b[1;34m'darkgrid'\u001b[0m\u001b[1;33m)\u001b[0m\u001b[1;33m\u001b[0m\u001b[1;33m\u001b[0m\u001b[0m\n\u001b[0;32m      6\u001b[0m \u001b[1;33m\u001b[0m\u001b[0m\n\u001b[1;32m----> 7\u001b[1;33m \u001b[1;32mimport\u001b[0m \u001b[0mplotly\u001b[0m\u001b[1;33m.\u001b[0m\u001b[0mexpress\u001b[0m \u001b[1;32mas\u001b[0m \u001b[0mpx\u001b[0m\u001b[1;33m\u001b[0m\u001b[1;33m\u001b[0m\u001b[0m\n\u001b[0m\u001b[0;32m      8\u001b[0m \u001b[1;32mimport\u001b[0m \u001b[0mplotly\u001b[0m\u001b[1;33m.\u001b[0m\u001b[0mgraph_objects\u001b[0m \u001b[1;32mas\u001b[0m \u001b[0mgo\u001b[0m\u001b[1;33m\u001b[0m\u001b[1;33m\u001b[0m\u001b[0m\n",
      "\u001b[1;31mModuleNotFoundError\u001b[0m: No module named 'plotly'"
     ]
    }
   ],
   "source": [
    "import pandas as pd\n",
    "import numpy as np\n",
    "import matplotlib.pyplot as plt\n",
    "import seaborn as sns\n",
    "sns.set(style='darkgrid')\n",
    "\n",
    "import plotly.express as px\n",
    "import plotly.graph_objects as go"
   ]
  },
  {
   "cell_type": "markdown",
   "metadata": {},
   "source": [
    "# Business Understanding"
   ]
  },
  {
   "cell_type": "markdown",
   "metadata": {},
   "source": [
    "### Describe the purpose of the data set you selected:"
   ]
  },
  {
   "cell_type": "markdown",
   "metadata": {},
   "source": [
    "• Describe the purpose of the data set you selected (i.e., why was this data collected in the first place?). Describe how you would define and measure the outcomes from the dataset. That is, why is this data important and how do you know if you have mined useful knowledge from the dataset? How would you measure the effectiveness of a good prediction algorithm? Be specific.\n",
    "\n",
    "Info about number of records, number of attributes etc.\n",
    "\n",
    "##Data selection and purpose\n",
    "We used the Aviation dataset from the NTSB aviation accident database. The data contains information from 1962 to present about aviation accidents and incidents within the United States, its territories, and possessions, and in international waters. The NTSB database contains preliminary and final reports. The dataset has 85,000 records with 31 columns which meets our requirements for this project because we have a significant amount of data. \n",
    "The purpose of the data was to get a better understanding of aviation accidents- why they occur, the pattern among the incidents, aviation safety through the years. The dataset can also be used to answer useful questions like in what cases are the injuries fatal? During what phase of flight have accidents/incidents occurred more?\n",
    "\n",
    "##Importance of data\n",
    "Th dataset is important because we can make predictions, so we know we have mined useful information. We will be predicting the Injury severity for classification and Total injuries for regression. \n",
    "For our classification problem, we will be measuring the effectiveness of a good prediction algorithm using 10-fold cross validation and use accuracy as our metrics. Predicting Injury severity classification could aid in the allocation of resources, improve medical outcomes\n",
    "For our regression problem, we will be measuring the effectiveness of a good prediction algorithm using 10-fold cross validation and use rmse as our metrics.\n",
    "\n"
   ]
  },
  {
   "cell_type": "code",
   "execution_count": 12,
   "metadata": {},
   "outputs": [
    {
     "name": "stdout",
     "output_type": "stream",
     "text": [
      "<class 'pandas.core.frame.DataFrame'>\n",
      "RangeIndex: 85976 entries, 0 to 85975\n",
      "Data columns (total 31 columns):\n",
      " #   Column                  Non-Null Count  Dtype  \n",
      "---  ------                  --------------  -----  \n",
      " 0   Event.Id                85976 non-null  object \n",
      " 1   Investigation.Type      85963 non-null  object \n",
      " 2   Accident.Number         85976 non-null  object \n",
      " 3   Event.Date              85976 non-null  object \n",
      " 4   LOCATION                85898 non-null  object \n",
      " 5   Country                 85469 non-null  object \n",
      " 6   Latitude                31587 non-null  float64\n",
      " 7   Longitude               31578 non-null  float64\n",
      " 8   Airport.Code            48612 non-null  object \n",
      " 9   Airport.Name            51298 non-null  object \n",
      " 10  Injury.Severity         85842 non-null  object \n",
      " 11  Aircraft.damage         83047 non-null  object \n",
      " 12  Aircraft.Category       29226 non-null  object \n",
      " 13  Registration.Number     81756 non-null  object \n",
      " 14  Make                    85908 non-null  object \n",
      " 15  Model                   85877 non-null  object \n",
      " 16  Amateur.Built           85296 non-null  object \n",
      " 17  Number.of.Engines       80399 non-null  float64\n",
      " 18  Engine.Type             80872 non-null  object \n",
      " 19  FAR.Description         28929 non-null  object \n",
      " 20  Schedule                12179 non-null  object \n",
      " 21  Purpose.of.flight       80584 non-null  object \n",
      " 22  Air.carrier             4591 non-null   object \n",
      " 23  Total.Fatal.Injuries    58158 non-null  float64\n",
      " 24  Total.Serious.Injuries  55466 non-null  float64\n",
      " 25  Total.Minor.Injuries    56695 non-null  float64\n",
      " 26  Total.Uninjured         71092 non-null  float64\n",
      " 27  Weather.Condition       82304 non-null  object \n",
      " 28  Broad.phase.of.flight   78382 non-null  object \n",
      " 29  Report.Status           84983 non-null  object \n",
      " 30  Publication.Date        70326 non-null  object \n",
      "dtypes: float64(7), object(24)\n",
      "memory usage: 20.3+ MB\n"
     ]
    }
   ],
   "source": [
    "#Read in the Aviation Data\n",
    "aviation_data = pd.read_csv(\"Data/AviationData.csv\")\n",
    "aviation_data.info()"
   ]
  },
  {
   "cell_type": "markdown",
   "metadata": {},
   "source": [
    "# Data Understanding"
   ]
  },
  {
   "cell_type": "markdown",
   "metadata": {},
   "source": [
    "### Data Meaning Type"
   ]
  },
  {
   "cell_type": "markdown",
   "metadata": {},
   "source": [
    "• [10 points] Describe the meaning and type of data (scale, values, etc.) for each\n",
    "attribute in the data file."
   ]
  },
  {
   "cell_type": "code",
   "execution_count": 13,
   "metadata": {
    "scrolled": false
   },
   "outputs": [
    {
     "data": {
      "text/html": [
       "<div>\n",
       "<style scoped>\n",
       "    .dataframe tbody tr th:only-of-type {\n",
       "        vertical-align: middle;\n",
       "    }\n",
       "\n",
       "    .dataframe tbody tr th {\n",
       "        vertical-align: top;\n",
       "    }\n",
       "\n",
       "    .dataframe thead th {\n",
       "        text-align: right;\n",
       "    }\n",
       "</style>\n",
       "<table border=\"1\" class=\"dataframe\">\n",
       "  <thead>\n",
       "    <tr style=\"text-align: right;\">\n",
       "      <th></th>\n",
       "      <th>Event.Id</th>\n",
       "      <th>Investigation.Type</th>\n",
       "      <th>Accident.Number</th>\n",
       "      <th>Event.Date</th>\n",
       "      <th>LOCATION</th>\n",
       "      <th>Country</th>\n",
       "      <th>Latitude</th>\n",
       "      <th>Longitude</th>\n",
       "      <th>Airport.Code</th>\n",
       "      <th>Airport.Name</th>\n",
       "      <th>Injury.Severity</th>\n",
       "      <th>Aircraft.damage</th>\n",
       "      <th>Aircraft.Category</th>\n",
       "      <th>Registration.Number</th>\n",
       "      <th>Make</th>\n",
       "      <th>Model</th>\n",
       "      <th>Amateur.Built</th>\n",
       "      <th>Number.of.Engines</th>\n",
       "      <th>Engine.Type</th>\n",
       "      <th>FAR.Description</th>\n",
       "      <th>Schedule</th>\n",
       "      <th>Purpose.of.flight</th>\n",
       "      <th>Air.carrier</th>\n",
       "      <th>Total.Fatal.Injuries</th>\n",
       "      <th>Total.Serious.Injuries</th>\n",
       "      <th>Total.Minor.Injuries</th>\n",
       "      <th>Total.Uninjured</th>\n",
       "      <th>Weather.Condition</th>\n",
       "      <th>Broad.phase.of.flight</th>\n",
       "      <th>Report.Status</th>\n",
       "      <th>Publication.Date</th>\n",
       "    </tr>\n",
       "  </thead>\n",
       "  <tbody>\n",
       "    <tr>\n",
       "      <th>0</th>\n",
       "      <td>2.02102E+13</td>\n",
       "      <td>Accident</td>\n",
       "      <td>CEN21FA130</td>\n",
       "      <td>2021-02-16</td>\n",
       "      <td>JANESVILLE, WI</td>\n",
       "      <td>United States</td>\n",
       "      <td>42.595377</td>\n",
       "      <td>-89.030245</td>\n",
       "      <td>NaN</td>\n",
       "      <td>NaN</td>\n",
       "      <td>Fatal</td>\n",
       "      <td>Substantial</td>\n",
       "      <td>Airplane</td>\n",
       "      <td>N13VT</td>\n",
       "      <td>Velocity</td>\n",
       "      <td>Vtwin</td>\n",
       "      <td>No</td>\n",
       "      <td>2.0</td>\n",
       "      <td>NaN</td>\n",
       "      <td>91</td>\n",
       "      <td>NaN</td>\n",
       "      <td>Ferry</td>\n",
       "      <td>NaN</td>\n",
       "      <td>2.0</td>\n",
       "      <td>0.0</td>\n",
       "      <td>0.0</td>\n",
       "      <td>0.0</td>\n",
       "      <td>VMC</td>\n",
       "      <td>NaN</td>\n",
       "      <td>NaN</td>\n",
       "      <td>NaN</td>\n",
       "    </tr>\n",
       "    <tr>\n",
       "      <th>1</th>\n",
       "      <td>2.02102E+13</td>\n",
       "      <td>Accident</td>\n",
       "      <td>ERA21FA130</td>\n",
       "      <td>2021-02-15</td>\n",
       "      <td>St Thomas, CB</td>\n",
       "      <td>United States</td>\n",
       "      <td>18.354444</td>\n",
       "      <td>-65.027778</td>\n",
       "      <td>NaN</td>\n",
       "      <td>NaN</td>\n",
       "      <td>Fatal</td>\n",
       "      <td>Destroyed</td>\n",
       "      <td>Helicopter</td>\n",
       "      <td>N13AT</td>\n",
       "      <td>Bell</td>\n",
       "      <td>206</td>\n",
       "      <td>No</td>\n",
       "      <td>1.0</td>\n",
       "      <td>NaN</td>\n",
       "      <td>91</td>\n",
       "      <td>NaN</td>\n",
       "      <td>Aobv</td>\n",
       "      <td>Caribbean Buzz Management Llc.</td>\n",
       "      <td>4.0</td>\n",
       "      <td>0.0</td>\n",
       "      <td>0.0</td>\n",
       "      <td>0.0</td>\n",
       "      <td>VMC</td>\n",
       "      <td>NaN</td>\n",
       "      <td>NaN</td>\n",
       "      <td>NaN</td>\n",
       "    </tr>\n",
       "    <tr>\n",
       "      <th>2</th>\n",
       "      <td>2.02102E+13</td>\n",
       "      <td>Accident</td>\n",
       "      <td>ANC21LA017</td>\n",
       "      <td>2021-02-13</td>\n",
       "      <td>TYONEK, AK</td>\n",
       "      <td>United States</td>\n",
       "      <td>61.336392</td>\n",
       "      <td>-152.016430</td>\n",
       "      <td>NaN</td>\n",
       "      <td>NaN</td>\n",
       "      <td>Minor</td>\n",
       "      <td>Substantial</td>\n",
       "      <td>Airplane</td>\n",
       "      <td>N56517</td>\n",
       "      <td>Maule</td>\n",
       "      <td>M-6-235</td>\n",
       "      <td>No</td>\n",
       "      <td>1.0</td>\n",
       "      <td>NaN</td>\n",
       "      <td>91</td>\n",
       "      <td>NaN</td>\n",
       "      <td>Personal</td>\n",
       "      <td>Paul Andrews</td>\n",
       "      <td>0.0</td>\n",
       "      <td>0.0</td>\n",
       "      <td>2.0</td>\n",
       "      <td>0.0</td>\n",
       "      <td>NaN</td>\n",
       "      <td>NaN</td>\n",
       "      <td>NaN</td>\n",
       "      <td>NaN</td>\n",
       "    </tr>\n",
       "    <tr>\n",
       "      <th>3</th>\n",
       "      <td>2.02102E+13</td>\n",
       "      <td>Accident</td>\n",
       "      <td>CEN21LA127</td>\n",
       "      <td>2021-02-12</td>\n",
       "      <td>PRAIRIE DU SAC, WI</td>\n",
       "      <td>United States</td>\n",
       "      <td>43.297731</td>\n",
       "      <td>-89.755693</td>\n",
       "      <td>91C</td>\n",
       "      <td>SAUK-PRAIRIE</td>\n",
       "      <td>Non-Fatal</td>\n",
       "      <td>Substantial</td>\n",
       "      <td>Airplane</td>\n",
       "      <td>N3477E</td>\n",
       "      <td>Cessna</td>\n",
       "      <td>172N</td>\n",
       "      <td>No</td>\n",
       "      <td>1.0</td>\n",
       "      <td>NaN</td>\n",
       "      <td>91</td>\n",
       "      <td>NaN</td>\n",
       "      <td>Instructional</td>\n",
       "      <td>NaN</td>\n",
       "      <td>0.0</td>\n",
       "      <td>0.0</td>\n",
       "      <td>0.0</td>\n",
       "      <td>1.0</td>\n",
       "      <td>VMC</td>\n",
       "      <td>NaN</td>\n",
       "      <td>NaN</td>\n",
       "      <td>NaN</td>\n",
       "    </tr>\n",
       "    <tr>\n",
       "      <th>4</th>\n",
       "      <td>2.02102E+13</td>\n",
       "      <td>Accident</td>\n",
       "      <td>ERA21LA131</td>\n",
       "      <td>2021-02-10</td>\n",
       "      <td>LAKE PLACID, FL</td>\n",
       "      <td>United States</td>\n",
       "      <td>27.243723</td>\n",
       "      <td>-81.413767</td>\n",
       "      <td>09FA</td>\n",
       "      <td>NaN</td>\n",
       "      <td>Minor</td>\n",
       "      <td>Substantial</td>\n",
       "      <td>Airplane</td>\n",
       "      <td>N8183C</td>\n",
       "      <td>Piper</td>\n",
       "      <td>PA-18</td>\n",
       "      <td>No</td>\n",
       "      <td>1.0</td>\n",
       "      <td>NaN</td>\n",
       "      <td>91</td>\n",
       "      <td>NaN</td>\n",
       "      <td>Personal</td>\n",
       "      <td>Case Robert</td>\n",
       "      <td>0.0</td>\n",
       "      <td>0.0</td>\n",
       "      <td>1.0</td>\n",
       "      <td>0.0</td>\n",
       "      <td>NaN</td>\n",
       "      <td>NaN</td>\n",
       "      <td>NaN</td>\n",
       "      <td>NaN</td>\n",
       "    </tr>\n",
       "  </tbody>\n",
       "</table>\n",
       "</div>"
      ],
      "text/plain": [
       "      Event.Id Investigation.Type Accident.Number  Event.Date  \\\n",
       "0  2.02102E+13           Accident      CEN21FA130  2021-02-16   \n",
       "1  2.02102E+13           Accident      ERA21FA130  2021-02-15   \n",
       "2  2.02102E+13           Accident      ANC21LA017  2021-02-13   \n",
       "3  2.02102E+13           Accident      CEN21LA127  2021-02-12   \n",
       "4  2.02102E+13           Accident      ERA21LA131  2021-02-10   \n",
       "\n",
       "             LOCATION        Country   Latitude   Longitude Airport.Code  \\\n",
       "0      JANESVILLE, WI  United States  42.595377  -89.030245          NaN   \n",
       "1       St Thomas, CB  United States  18.354444  -65.027778          NaN   \n",
       "2          TYONEK, AK  United States  61.336392 -152.016430          NaN   \n",
       "3  PRAIRIE DU SAC, WI  United States  43.297731  -89.755693          91C   \n",
       "4     LAKE PLACID, FL  United States  27.243723  -81.413767         09FA   \n",
       "\n",
       "   Airport.Name Injury.Severity Aircraft.damage Aircraft.Category  \\\n",
       "0           NaN           Fatal     Substantial          Airplane   \n",
       "1           NaN           Fatal       Destroyed        Helicopter   \n",
       "2           NaN           Minor     Substantial          Airplane   \n",
       "3  SAUK-PRAIRIE       Non-Fatal     Substantial          Airplane   \n",
       "4           NaN           Minor     Substantial          Airplane   \n",
       "\n",
       "  Registration.Number      Make    Model Amateur.Built  Number.of.Engines  \\\n",
       "0               N13VT  Velocity    Vtwin            No                2.0   \n",
       "1               N13AT      Bell      206            No                1.0   \n",
       "2              N56517     Maule  M-6-235            No                1.0   \n",
       "3              N3477E    Cessna     172N            No                1.0   \n",
       "4              N8183C     Piper    PA-18            No                1.0   \n",
       "\n",
       "  Engine.Type FAR.Description Schedule Purpose.of.flight  \\\n",
       "0         NaN              91      NaN             Ferry   \n",
       "1         NaN              91      NaN              Aobv   \n",
       "2         NaN              91      NaN          Personal   \n",
       "3         NaN              91      NaN     Instructional   \n",
       "4         NaN              91      NaN          Personal   \n",
       "\n",
       "                      Air.carrier  Total.Fatal.Injuries  \\\n",
       "0                             NaN                   2.0   \n",
       "1  Caribbean Buzz Management Llc.                   4.0   \n",
       "2                    Paul Andrews                   0.0   \n",
       "3                             NaN                   0.0   \n",
       "4                     Case Robert                   0.0   \n",
       "\n",
       "   Total.Serious.Injuries  Total.Minor.Injuries  Total.Uninjured  \\\n",
       "0                     0.0                   0.0              0.0   \n",
       "1                     0.0                   0.0              0.0   \n",
       "2                     0.0                   2.0              0.0   \n",
       "3                     0.0                   0.0              1.0   \n",
       "4                     0.0                   1.0              0.0   \n",
       "\n",
       "  Weather.Condition Broad.phase.of.flight Report.Status Publication.Date  \n",
       "0               VMC                   NaN           NaN              NaN  \n",
       "1               VMC                   NaN           NaN              NaN  \n",
       "2               NaN                   NaN           NaN              NaN  \n",
       "3               VMC                   NaN           NaN              NaN  \n",
       "4               NaN                   NaN           NaN              NaN  "
      ]
     },
     "execution_count": 13,
     "metadata": {},
     "output_type": "execute_result"
    }
   ],
   "source": [
    "pd.set_option('display.max_columns', 32)\n",
    "aviation_data.head()"
   ]
  },
  {
   "cell_type": "markdown",
   "metadata": {},
   "source": [
    "### Data Quality"
   ]
  },
  {
   "cell_type": "markdown",
   "metadata": {},
   "source": [
    "• [15 points] Verify data quality: Explain any missing values, duplicate data, and outliers.\n",
    "Are those mistakes? How do you deal with these problems? Be specific.\n"
   ]
  },
  {
   "cell_type": "code",
   "execution_count": 14,
   "metadata": {
    "scrolled": true
   },
   "outputs": [
    {
     "data": {
      "text/html": [
       "<div>\n",
       "<style scoped>\n",
       "    .dataframe tbody tr th:only-of-type {\n",
       "        vertical-align: middle;\n",
       "    }\n",
       "\n",
       "    .dataframe tbody tr th {\n",
       "        vertical-align: top;\n",
       "    }\n",
       "\n",
       "    .dataframe thead th {\n",
       "        text-align: right;\n",
       "    }\n",
       "</style>\n",
       "<table border=\"1\" class=\"dataframe\">\n",
       "  <thead>\n",
       "    <tr style=\"text-align: right;\">\n",
       "      <th></th>\n",
       "      <th>column_name</th>\n",
       "      <th>percent_missing</th>\n",
       "    </tr>\n",
       "  </thead>\n",
       "  <tbody>\n",
       "    <tr>\n",
       "      <th>Air.carrier</th>\n",
       "      <td>Air.carrier</td>\n",
       "      <td>94.660138</td>\n",
       "    </tr>\n",
       "    <tr>\n",
       "      <th>Schedule</th>\n",
       "      <td>Schedule</td>\n",
       "      <td>85.834419</td>\n",
       "    </tr>\n",
       "    <tr>\n",
       "      <th>FAR.Description</th>\n",
       "      <td>FAR.Description</td>\n",
       "      <td>66.352238</td>\n",
       "    </tr>\n",
       "    <tr>\n",
       "      <th>Aircraft.Category</th>\n",
       "      <td>Aircraft.Category</td>\n",
       "      <td>66.006793</td>\n",
       "    </tr>\n",
       "    <tr>\n",
       "      <th>Longitude</th>\n",
       "      <td>Longitude</td>\n",
       "      <td>63.271145</td>\n",
       "    </tr>\n",
       "    <tr>\n",
       "      <th>Latitude</th>\n",
       "      <td>Latitude</td>\n",
       "      <td>63.260677</td>\n",
       "    </tr>\n",
       "    <tr>\n",
       "      <th>Airport.Code</th>\n",
       "      <td>Airport.Code</td>\n",
       "      <td>43.458640</td>\n",
       "    </tr>\n",
       "    <tr>\n",
       "      <th>Airport.Name</th>\n",
       "      <td>Airport.Name</td>\n",
       "      <td>40.334512</td>\n",
       "    </tr>\n",
       "    <tr>\n",
       "      <th>Total.Serious.Injuries</th>\n",
       "      <td>Total.Serious.Injuries</td>\n",
       "      <td>35.486647</td>\n",
       "    </tr>\n",
       "    <tr>\n",
       "      <th>Total.Minor.Injuries</th>\n",
       "      <td>Total.Minor.Injuries</td>\n",
       "      <td>34.057179</td>\n",
       "    </tr>\n",
       "    <tr>\n",
       "      <th>Total.Fatal.Injuries</th>\n",
       "      <td>Total.Fatal.Injuries</td>\n",
       "      <td>32.355541</td>\n",
       "    </tr>\n",
       "    <tr>\n",
       "      <th>Publication.Date</th>\n",
       "      <td>Publication.Date</td>\n",
       "      <td>18.202754</td>\n",
       "    </tr>\n",
       "    <tr>\n",
       "      <th>Total.Uninjured</th>\n",
       "      <td>Total.Uninjured</td>\n",
       "      <td>17.311808</td>\n",
       "    </tr>\n",
       "    <tr>\n",
       "      <th>Broad.phase.of.flight</th>\n",
       "      <td>Broad.phase.of.flight</td>\n",
       "      <td>8.832697</td>\n",
       "    </tr>\n",
       "    <tr>\n",
       "      <th>Number.of.Engines</th>\n",
       "      <td>Number.of.Engines</td>\n",
       "      <td>6.486694</td>\n",
       "    </tr>\n",
       "    <tr>\n",
       "      <th>Purpose.of.flight</th>\n",
       "      <td>Purpose.of.flight</td>\n",
       "      <td>6.271518</td>\n",
       "    </tr>\n",
       "    <tr>\n",
       "      <th>Engine.Type</th>\n",
       "      <td>Engine.Type</td>\n",
       "      <td>5.936540</td>\n",
       "    </tr>\n",
       "    <tr>\n",
       "      <th>Registration.Number</th>\n",
       "      <td>Registration.Number</td>\n",
       "      <td>4.908347</td>\n",
       "    </tr>\n",
       "    <tr>\n",
       "      <th>Weather.Condition</th>\n",
       "      <td>Weather.Condition</td>\n",
       "      <td>4.270959</td>\n",
       "    </tr>\n",
       "    <tr>\n",
       "      <th>Aircraft.damage</th>\n",
       "      <td>Aircraft.damage</td>\n",
       "      <td>3.406765</td>\n",
       "    </tr>\n",
       "    <tr>\n",
       "      <th>Report.Status</th>\n",
       "      <td>Report.Status</td>\n",
       "      <td>1.154973</td>\n",
       "    </tr>\n",
       "    <tr>\n",
       "      <th>Amateur.Built</th>\n",
       "      <td>Amateur.Built</td>\n",
       "      <td>0.790918</td>\n",
       "    </tr>\n",
       "    <tr>\n",
       "      <th>Country</th>\n",
       "      <td>Country</td>\n",
       "      <td>0.589699</td>\n",
       "    </tr>\n",
       "    <tr>\n",
       "      <th>Injury.Severity</th>\n",
       "      <td>Injury.Severity</td>\n",
       "      <td>0.155857</td>\n",
       "    </tr>\n",
       "    <tr>\n",
       "      <th>Model</th>\n",
       "      <td>Model</td>\n",
       "      <td>0.115148</td>\n",
       "    </tr>\n",
       "    <tr>\n",
       "      <th>LOCATION</th>\n",
       "      <td>LOCATION</td>\n",
       "      <td>0.090723</td>\n",
       "    </tr>\n",
       "    <tr>\n",
       "      <th>Make</th>\n",
       "      <td>Make</td>\n",
       "      <td>0.079092</td>\n",
       "    </tr>\n",
       "    <tr>\n",
       "      <th>Investigation.Type</th>\n",
       "      <td>Investigation.Type</td>\n",
       "      <td>0.015120</td>\n",
       "    </tr>\n",
       "    <tr>\n",
       "      <th>Event.Date</th>\n",
       "      <td>Event.Date</td>\n",
       "      <td>0.000000</td>\n",
       "    </tr>\n",
       "    <tr>\n",
       "      <th>Accident.Number</th>\n",
       "      <td>Accident.Number</td>\n",
       "      <td>0.000000</td>\n",
       "    </tr>\n",
       "    <tr>\n",
       "      <th>Event.Id</th>\n",
       "      <td>Event.Id</td>\n",
       "      <td>0.000000</td>\n",
       "    </tr>\n",
       "  </tbody>\n",
       "</table>\n",
       "</div>"
      ],
      "text/plain": [
       "                                   column_name  percent_missing\n",
       "Air.carrier                        Air.carrier        94.660138\n",
       "Schedule                              Schedule        85.834419\n",
       "FAR.Description                FAR.Description        66.352238\n",
       "Aircraft.Category            Aircraft.Category        66.006793\n",
       "Longitude                            Longitude        63.271145\n",
       "Latitude                              Latitude        63.260677\n",
       "Airport.Code                      Airport.Code        43.458640\n",
       "Airport.Name                      Airport.Name        40.334512\n",
       "Total.Serious.Injuries  Total.Serious.Injuries        35.486647\n",
       "Total.Minor.Injuries      Total.Minor.Injuries        34.057179\n",
       "Total.Fatal.Injuries      Total.Fatal.Injuries        32.355541\n",
       "Publication.Date              Publication.Date        18.202754\n",
       "Total.Uninjured                Total.Uninjured        17.311808\n",
       "Broad.phase.of.flight    Broad.phase.of.flight         8.832697\n",
       "Number.of.Engines            Number.of.Engines         6.486694\n",
       "Purpose.of.flight            Purpose.of.flight         6.271518\n",
       "Engine.Type                        Engine.Type         5.936540\n",
       "Registration.Number        Registration.Number         4.908347\n",
       "Weather.Condition            Weather.Condition         4.270959\n",
       "Aircraft.damage                Aircraft.damage         3.406765\n",
       "Report.Status                    Report.Status         1.154973\n",
       "Amateur.Built                    Amateur.Built         0.790918\n",
       "Country                                Country         0.589699\n",
       "Injury.Severity                Injury.Severity         0.155857\n",
       "Model                                    Model         0.115148\n",
       "LOCATION                              LOCATION         0.090723\n",
       "Make                                      Make         0.079092\n",
       "Investigation.Type          Investigation.Type         0.015120\n",
       "Event.Date                          Event.Date         0.000000\n",
       "Accident.Number                Accident.Number         0.000000\n",
       "Event.Id                              Event.Id         0.000000"
      ]
     },
     "execution_count": 14,
     "metadata": {},
     "output_type": "execute_result"
    }
   ],
   "source": [
    "#We have 30 columns to work with\n",
    "#First we will check to see what percent of each column is null\n",
    "\n",
    "#Percent of missing data\n",
    "percent_missing = aviation_data.isnull().sum() * 100 / len(aviation_data)\n",
    "#Create DF \n",
    "missing_value_df = pd.DataFrame({'column_name': aviation_data.columns,\n",
    "                                 'percent_missing': percent_missing})\n",
    "#Then sort by least to most\n",
    "missing_value_df.sort_values('percent_missing', inplace=True, ascending=False)\n",
    "missing_value_df"
   ]
  },
  {
   "cell_type": "markdown",
   "metadata": {},
   "source": [
    "##### Missing Values\n",
    "Looking at the missing values, there are several values we would like to remove. We want to remove the Schedule column, because 85% of the observations are missing and FAR.description because 66% of the observations are missing. Other columns of interest such as Event Id appear to have many redundant and unusable values due to being transformed by a program like Excel. Other features like Longitude, Latitude, Airport Code, Registration Number, and Event Date are not useful predictors in the model. So they have been removed.\n",
    "\n",
    "Add part about converting NAs for injuries to zero\n",
    "\n",
    "##### Outliers\n",
    "\n",
    "When dealing with outliers were looked at our continious variables. There was one record with an 8 engin plane which is not a common format these days. Since it is only one record we elected to remove it. Next we looked at our 3 injury stats. Using boxplots we can see some right skewness in the data with two outliers. One in total fatal injuries and the other in total minor injuries. Since this was only two records we simply removed them from our data.\n",
    "\n",
    "\n",
    "##### Duplicate data\n",
    "When dealing with duplicates we used Accident.Number to address any duplicates in the data. As the NTSB takes in accidents each are assigned an accident number. Regarding this dataset we did find one duplicate which was removed. We can also see that all the info was the same for the two records also indicating that it was entered twice. We combined the known data for a more complete record.\n",
    "\n",
    "##### Adding Features\n",
    "We wanted to create some additional predictors in our data that may be more meaningful. First, we wanted to split the 'LOCATION' column into a \"City\" and \"State Column\". Next, we will add a column called \"Total Injuries\" which is the sum of Total Fatal Injuries, Total Minor Injuries and Total Serious Injuries. We added a \"Year\" column to make graphs more managable.\n"
   ]
  },
  {
   "cell_type": "code",
   "execution_count": 15,
   "metadata": {
    "scrolled": true
   },
   "outputs": [
    {
     "data": {
      "text/plain": [
       "<AxesSubplot:>"
      ]
     },
     "execution_count": 15,
     "metadata": {},
     "output_type": "execute_result"
    },
    {
     "data": {
      "image/png": "[encoded data removed]",
      "text/plain": [
       "<Figure size 432x288 with 1 Axes>"
      ]
     },
     "metadata": {},
     "output_type": "display_data"
    }
   ],
   "source": [
    "#dealing with outliers\n",
    "inj_stat = aviation_data[['Total.Fatal.Injuries','Total.Serious.Injuries','Total.Minor.Injuries']]\n",
    "inj_stat.boxplot()\n",
    "#here we see two outliers with some right skewness in our data                       "
   ]
  },
  {
   "cell_type": "code",
   "execution_count": 16,
   "metadata": {
    "scrolled": true
   },
   "outputs": [
    {
     "data": {
      "text/plain": [
       "<AxesSubplot:>"
      ]
     },
     "execution_count": 16,
     "metadata": {},
     "output_type": "execute_result"
    },
    {
     "data": {
      "image/png": "[encoded data removed]",
      "text/plain": [
       "<Figure size 432x288 with 1 Axes>"
      ]
     },
     "metadata": {},
     "output_type": "display_data"
    }
   ],
   "source": [
    "#removing the two outliers\n",
    "aviation_data = aviation_data.loc[aviation_data['Total.Fatal.Injuries']!=aviation_data['Total.Fatal.Injuries'].max()]\n",
    "aviation_data = aviation_data.loc[aviation_data['Total.Minor.Injuries']!=aviation_data['Total.Minor.Injuries'].max()]\n",
    "inj_stat = aviation_data[['Total.Fatal.Injuries','Total.Serious.Injuries','Total.Minor.Injuries']]\n",
    "inj_stat.boxplot()"
   ]
  },
  {
   "cell_type": "code",
   "execution_count": 17,
   "metadata": {
    "scrolled": true
   },
   "outputs": [
    {
     "ename": "NameError",
     "evalue": "name 'rc_aviation' is not defined",
     "output_type": "error",
     "traceback": [
      "\u001b[1;31m---------------------------------------------------------------------------\u001b[0m",
      "\u001b[1;31mNameError\u001b[0m                                 Traceback (most recent call last)",
      "\u001b[1;32m<ipython-input-17-5657f2279bad>\u001b[0m in \u001b[0;36m<module>\u001b[1;34m\u001b[0m\n\u001b[0;32m      3\u001b[0m \u001b[0mfig\u001b[0m\u001b[1;33m.\u001b[0m\u001b[0msubplots_adjust\u001b[0m\u001b[1;33m(\u001b[0m\u001b[0mhspace\u001b[0m\u001b[1;33m=\u001b[0m\u001b[1;36m0\u001b[0m\u001b[1;33m,\u001b[0m \u001b[0mwspace\u001b[0m\u001b[1;33m=\u001b[0m\u001b[1;36m0.1\u001b[0m\u001b[1;33m)\u001b[0m\u001b[1;33m\u001b[0m\u001b[1;33m\u001b[0m\u001b[0m\n\u001b[0;32m      4\u001b[0m \u001b[1;33m\u001b[0m\u001b[0m\n\u001b[1;32m----> 5\u001b[1;33m \u001b[0msns\u001b[0m\u001b[1;33m.\u001b[0m\u001b[0mkdeplot\u001b[0m\u001b[1;33m(\u001b[0m\u001b[0mrc_aviation\u001b[0m\u001b[1;33m[\u001b[0m\u001b[1;34m\"Total_Injuries\"\u001b[0m\u001b[1;33m]\u001b[0m\u001b[1;33m,\u001b[0m\u001b[0mbw_adjust\u001b[0m\u001b[1;33m=\u001b[0m\u001b[1;36m10\u001b[0m\u001b[1;33m,\u001b[0m \u001b[0max\u001b[0m\u001b[1;33m=\u001b[0m\u001b[0max\u001b[0m\u001b[1;33m[\u001b[0m\u001b[1;36m0\u001b[0m\u001b[1;33m]\u001b[0m\u001b[1;33m,\u001b[0m \u001b[0mshade\u001b[0m \u001b[1;33m=\u001b[0m \u001b[1;32mTrue\u001b[0m\u001b[1;33m)\u001b[0m\u001b[1;33m\u001b[0m\u001b[1;33m\u001b[0m\u001b[0m\n\u001b[0m\u001b[0;32m      6\u001b[0m \u001b[1;33m\u001b[0m\u001b[0m\n\u001b[0;32m      7\u001b[0m \u001b[0msns\u001b[0m\u001b[1;33m.\u001b[0m\u001b[0mkdeplot\u001b[0m\u001b[1;33m(\u001b[0m\u001b[0mrc_aviation\u001b[0m\u001b[1;33m[\u001b[0m\u001b[1;34m\"Total.Minor.Injuries\"\u001b[0m\u001b[1;33m]\u001b[0m\u001b[1;33m,\u001b[0m\u001b[0mbw_adjust\u001b[0m\u001b[1;33m=\u001b[0m\u001b[1;36m10\u001b[0m\u001b[1;33m,\u001b[0m \u001b[0max\u001b[0m\u001b[1;33m=\u001b[0m\u001b[0max\u001b[0m\u001b[1;33m[\u001b[0m\u001b[1;36m1\u001b[0m\u001b[1;33m]\u001b[0m\u001b[1;33m,\u001b[0m\u001b[0mshade\u001b[0m \u001b[1;33m=\u001b[0m \u001b[1;32mTrue\u001b[0m\u001b[1;33m)\u001b[0m\u001b[1;33m\u001b[0m\u001b[1;33m\u001b[0m\u001b[0m\n",
      "\u001b[1;31mNameError\u001b[0m: name 'rc_aviation' is not defined"
     ]
    },
    {
     "data": {
      "text/plain": [
       "<Figure size 432x288 with 0 Axes>"
      ]
     },
     "metadata": {},
     "output_type": "display_data"
    },
    {
     "data": {
      "image/png": "[encoded data removed]",
      "text/plain": [
       "<Figure size 1080x288 with 4 Axes>"
      ]
     },
     "metadata": {},
     "output_type": "display_data"
    }
   ],
   "source": [
    "fig = plt.figure()\n",
    "fig, ax = plt.subplots(1,4,figsize=(15,4))\n",
    "fig.subplots_adjust(hspace=0, wspace=0.1)\n",
    "\n",
    "sns.kdeplot(rc_aviation[\"Total_Injuries\"],bw_adjust=10, ax=ax[0], shade = True)\n",
    "\n",
    "sns.kdeplot(rc_aviation[\"Total.Minor.Injuries\"],bw_adjust=10, ax=ax[1],shade = True)\n",
    "\n",
    "sns.kdeplot(rc_aviation[\"Total.Serious.Injuries\"],bw_adjust=10, ax=ax[2],shade = True)\n",
    "\n",
    "sns.kdeplot(rc_aviation[\"Total.Fatal.Injuries\"], bw_adjust=10,ax=ax[3],shade = True)\n",
    "plt.show()\n"
   ]
  },
  {
   "cell_type": "markdown",
   "metadata": {},
   "source": [
    "Our data is right skewed however, there were still some strong outliers which we decided to remove. Since there was onyl two values we were confortable removing them. Our data will still be right skewed but much less so with this removal of outliers."
   ]
  },
  {
   "cell_type": "code",
   "execution_count": 18,
   "metadata": {},
   "outputs": [],
   "source": [
    "#splitting state and city from location\n",
    "aviation_data['City'] = aviation_data['LOCATION'].str.split(',').str[0]\n",
    "aviation_data['State'] = aviation_data['LOCATION'].str.split(',').str[1]"
   ]
  },
  {
   "cell_type": "code",
   "execution_count": 19,
   "metadata": {},
   "outputs": [],
   "source": [
    "#Converted NaN to 0 so we can create the total Injuries column"
   ]
  },
  {
   "cell_type": "code",
   "execution_count": 20,
   "metadata": {
    "scrolled": true
   },
   "outputs": [
    {
     "data": {
      "text/html": [
       "<div>\n",
       "<style scoped>\n",
       "    .dataframe tbody tr th:only-of-type {\n",
       "        vertical-align: middle;\n",
       "    }\n",
       "\n",
       "    .dataframe tbody tr th {\n",
       "        vertical-align: top;\n",
       "    }\n",
       "\n",
       "    .dataframe thead th {\n",
       "        text-align: right;\n",
       "    }\n",
       "</style>\n",
       "<table border=\"1\" class=\"dataframe\">\n",
       "  <thead>\n",
       "    <tr style=\"text-align: right;\">\n",
       "      <th></th>\n",
       "      <th>Total_Injuries</th>\n",
       "      <th>Total.Fatal.Injuries</th>\n",
       "      <th>Total.Serious.Injuries</th>\n",
       "      <th>Total.Minor.Injuries</th>\n",
       "    </tr>\n",
       "  </thead>\n",
       "  <tbody>\n",
       "    <tr>\n",
       "      <th>85966</th>\n",
       "      <td>3.0</td>\n",
       "      <td>0.0</td>\n",
       "      <td>0.0</td>\n",
       "      <td>3.0</td>\n",
       "    </tr>\n",
       "    <tr>\n",
       "      <th>85967</th>\n",
       "      <td>0.0</td>\n",
       "      <td>0.0</td>\n",
       "      <td>0.0</td>\n",
       "      <td>0.0</td>\n",
       "    </tr>\n",
       "    <tr>\n",
       "      <th>85968</th>\n",
       "      <td>0.0</td>\n",
       "      <td>0.0</td>\n",
       "      <td>0.0</td>\n",
       "      <td>0.0</td>\n",
       "    </tr>\n",
       "    <tr>\n",
       "      <th>85969</th>\n",
       "      <td>4.0</td>\n",
       "      <td>4.0</td>\n",
       "      <td>0.0</td>\n",
       "      <td>0.0</td>\n",
       "    </tr>\n",
       "    <tr>\n",
       "      <th>85970</th>\n",
       "      <td>1.0</td>\n",
       "      <td>0.0</td>\n",
       "      <td>0.0</td>\n",
       "      <td>1.0</td>\n",
       "    </tr>\n",
       "    <tr>\n",
       "      <th>85971</th>\n",
       "      <td>3.0</td>\n",
       "      <td>1.0</td>\n",
       "      <td>2.0</td>\n",
       "      <td>0.0</td>\n",
       "    </tr>\n",
       "    <tr>\n",
       "      <th>85972</th>\n",
       "      <td>2.0</td>\n",
       "      <td>2.0</td>\n",
       "      <td>0.0</td>\n",
       "      <td>0.0</td>\n",
       "    </tr>\n",
       "    <tr>\n",
       "      <th>85973</th>\n",
       "      <td>3.0</td>\n",
       "      <td>3.0</td>\n",
       "      <td>0.0</td>\n",
       "      <td>0.0</td>\n",
       "    </tr>\n",
       "    <tr>\n",
       "      <th>85974</th>\n",
       "      <td>4.0</td>\n",
       "      <td>4.0</td>\n",
       "      <td>0.0</td>\n",
       "      <td>0.0</td>\n",
       "    </tr>\n",
       "    <tr>\n",
       "      <th>85975</th>\n",
       "      <td>2.0</td>\n",
       "      <td>2.0</td>\n",
       "      <td>0.0</td>\n",
       "      <td>0.0</td>\n",
       "    </tr>\n",
       "  </tbody>\n",
       "</table>\n",
       "</div>"
      ],
      "text/plain": [
       "       Total_Injuries  Total.Fatal.Injuries  Total.Serious.Injuries  \\\n",
       "85966             3.0                   0.0                     0.0   \n",
       "85967             0.0                   0.0                     0.0   \n",
       "85968             0.0                   0.0                     0.0   \n",
       "85969             4.0                   4.0                     0.0   \n",
       "85970             1.0                   0.0                     0.0   \n",
       "85971             3.0                   1.0                     2.0   \n",
       "85972             2.0                   2.0                     0.0   \n",
       "85973             3.0                   3.0                     0.0   \n",
       "85974             4.0                   4.0                     0.0   \n",
       "85975             2.0                   2.0                     0.0   \n",
       "\n",
       "       Total.Minor.Injuries  \n",
       "85966                   3.0  \n",
       "85967                   0.0  \n",
       "85968                   0.0  \n",
       "85969                   0.0  \n",
       "85970                   1.0  \n",
       "85971                   0.0  \n",
       "85972                   0.0  \n",
       "85973                   0.0  \n",
       "85974                   0.0  \n",
       "85975                   0.0  "
      ]
     },
     "execution_count": 20,
     "metadata": {},
     "output_type": "execute_result"
    }
   ],
   "source": [
    "#adding a total injuries column\n",
    "#next we need to fill in the NaN values with the injury columns in order to make our new column\n",
    "#many of the rows filled in NaN opposed to 0 for number of injuries\n",
    "aviation_data.update(aviation_data[['Total.Fatal.Injuries','Total.Serious.Injuries','Total.Minor.Injuries','Total.Uninjured']].fillna(0))\n",
    "\n",
    "aviation_data[\"Total_Injuries\"] = aviation_data['Total.Fatal.Injuries'] \\\n",
    "                            + aviation_data['Total.Serious.Injuries'] \\\n",
    "                            + aviation_data['Total.Minor.Injuries']\n",
    "num_inj=aviation_data[[\"Total_Injuries\",'Total.Fatal.Injuries','Total.Serious.Injuries','Total.Minor.Injuries',]]\n",
    "num_inj.tail(10)"
   ]
  },
  {
   "cell_type": "code",
   "execution_count": 21,
   "metadata": {},
   "outputs": [
    {
     "data": {
      "text/plain": [
       "0        2021\n",
       "1        2021\n",
       "2        2021\n",
       "3        2021\n",
       "4        2021\n",
       "         ... \n",
       "85971    1979\n",
       "85972    1977\n",
       "85973    1974\n",
       "85974    1962\n",
       "85975    1948\n",
       "Name: Year, Length: 85973, dtype: int32"
      ]
     },
     "execution_count": 21,
     "metadata": {},
     "output_type": "execute_result"
    }
   ],
   "source": [
    "#next we want to add a year column to help with graphs later on\n",
    "aviation_data[\"Year\"] = aviation_data['Event.Date'].str.split('-').str[0]\n",
    "aviation_data[\"Year\"].astype(int)"
   ]
  },
  {
   "cell_type": "markdown",
   "metadata": {},
   "source": [
    "##### Duplicates"
   ]
  },
  {
   "cell_type": "code",
   "execution_count": 22,
   "metadata": {},
   "outputs": [
    {
     "data": {
      "text/html": [
       "<div>\n",
       "<style scoped>\n",
       "    .dataframe tbody tr th:only-of-type {\n",
       "        vertical-align: middle;\n",
       "    }\n",
       "\n",
       "    .dataframe tbody tr th {\n",
       "        vertical-align: top;\n",
       "    }\n",
       "\n",
       "    .dataframe thead th {\n",
       "        text-align: right;\n",
       "    }\n",
       "</style>\n",
       "<table border=\"1\" class=\"dataframe\">\n",
       "  <thead>\n",
       "    <tr style=\"text-align: right;\">\n",
       "      <th></th>\n",
       "      <th>Event.Id</th>\n",
       "      <th>Investigation.Type</th>\n",
       "      <th>Accident.Number</th>\n",
       "      <th>Event.Date</th>\n",
       "      <th>LOCATION</th>\n",
       "      <th>Country</th>\n",
       "      <th>Latitude</th>\n",
       "      <th>Longitude</th>\n",
       "      <th>Airport.Code</th>\n",
       "      <th>Airport.Name</th>\n",
       "      <th>Injury.Severity</th>\n",
       "      <th>Aircraft.damage</th>\n",
       "      <th>Aircraft.Category</th>\n",
       "      <th>Registration.Number</th>\n",
       "      <th>Make</th>\n",
       "      <th>Model</th>\n",
       "      <th>...</th>\n",
       "      <th>FAR.Description</th>\n",
       "      <th>Schedule</th>\n",
       "      <th>Purpose.of.flight</th>\n",
       "      <th>Air.carrier</th>\n",
       "      <th>Total.Fatal.Injuries</th>\n",
       "      <th>Total.Serious.Injuries</th>\n",
       "      <th>Total.Minor.Injuries</th>\n",
       "      <th>Total.Uninjured</th>\n",
       "      <th>Weather.Condition</th>\n",
       "      <th>Broad.phase.of.flight</th>\n",
       "      <th>Report.Status</th>\n",
       "      <th>Publication.Date</th>\n",
       "      <th>City</th>\n",
       "      <th>State</th>\n",
       "      <th>Total_Injuries</th>\n",
       "      <th>Year</th>\n",
       "    </tr>\n",
       "  </thead>\n",
       "  <tbody>\n",
       "    <tr>\n",
       "      <th>973</th>\n",
       "      <td>20200509X85739</td>\n",
       "      <td>Accident</td>\n",
       "      <td>ERA20CA175</td>\n",
       "      <td>2020-05-03</td>\n",
       "      <td>SHIRLEY, NY</td>\n",
       "      <td>United States</td>\n",
       "      <td>40.828056</td>\n",
       "      <td>-72.865554</td>\n",
       "      <td>HWV</td>\n",
       "      <td>BROOKHAVEN</td>\n",
       "      <td>Non-Fatal</td>\n",
       "      <td>Substantial</td>\n",
       "      <td>Airplane</td>\n",
       "      <td>N11457</td>\n",
       "      <td>Waco</td>\n",
       "      <td>QCF</td>\n",
       "      <td>...</td>\n",
       "      <td>91</td>\n",
       "      <td>NaN</td>\n",
       "      <td>Personal</td>\n",
       "      <td>NaN</td>\n",
       "      <td>0.0</td>\n",
       "      <td>0.0</td>\n",
       "      <td>0.0</td>\n",
       "      <td>1.0</td>\n",
       "      <td>VMC</td>\n",
       "      <td>NaN</td>\n",
       "      <td>NaN</td>\n",
       "      <td>NaN</td>\n",
       "      <td>SHIRLEY</td>\n",
       "      <td>NY</td>\n",
       "      <td>0.0</td>\n",
       "      <td>2020</td>\n",
       "    </tr>\n",
       "  </tbody>\n",
       "</table>\n",
       "<p>1 rows × 35 columns</p>\n",
       "</div>"
      ],
      "text/plain": [
       "           Event.Id Investigation.Type Accident.Number  Event.Date  \\\n",
       "973  20200509X85739           Accident      ERA20CA175  2020-05-03   \n",
       "\n",
       "        LOCATION        Country   Latitude  Longitude Airport.Code  \\\n",
       "973  SHIRLEY, NY  United States  40.828056 -72.865554          HWV   \n",
       "\n",
       "    Airport.Name Injury.Severity Aircraft.damage Aircraft.Category  \\\n",
       "973   BROOKHAVEN       Non-Fatal     Substantial          Airplane   \n",
       "\n",
       "    Registration.Number  Make Model  ... FAR.Description  Schedule  \\\n",
       "973              N11457  Waco   QCF  ...              91       NaN   \n",
       "\n",
       "    Purpose.of.flight Air.carrier Total.Fatal.Injuries Total.Serious.Injuries  \\\n",
       "973          Personal         NaN                  0.0                    0.0   \n",
       "\n",
       "    Total.Minor.Injuries  Total.Uninjured  Weather.Condition  \\\n",
       "973                  0.0              1.0                VMC   \n",
       "\n",
       "     Broad.phase.of.flight  Report.Status Publication.Date     City State  \\\n",
       "973                    NaN            NaN              NaN  SHIRLEY    NY   \n",
       "\n",
       "    Total_Injuries  Year  \n",
       "973            0.0  2020  \n",
       "\n",
       "[1 rows x 35 columns]"
      ]
     },
     "execution_count": 22,
     "metadata": {},
     "output_type": "execute_result"
    }
   ],
   "source": [
    "#checking for duplicates\n",
    "#before we step into ourliars we would like to look for duplicates\n",
    "#using the field acident number we will search for duplicates\n",
    "aviation_data[aviation_data.duplicated(subset=['Accident.Number'])]"
   ]
  },
  {
   "cell_type": "code",
   "execution_count": 23,
   "metadata": {
    "scrolled": true
   },
   "outputs": [
    {
     "data": {
      "text/html": [
       "<div>\n",
       "<style scoped>\n",
       "    .dataframe tbody tr th:only-of-type {\n",
       "        vertical-align: middle;\n",
       "    }\n",
       "\n",
       "    .dataframe tbody tr th {\n",
       "        vertical-align: top;\n",
       "    }\n",
       "\n",
       "    .dataframe thead th {\n",
       "        text-align: right;\n",
       "    }\n",
       "</style>\n",
       "<table border=\"1\" class=\"dataframe\">\n",
       "  <thead>\n",
       "    <tr style=\"text-align: right;\">\n",
       "      <th></th>\n",
       "      <th>Event.Id</th>\n",
       "      <th>Investigation.Type</th>\n",
       "      <th>Accident.Number</th>\n",
       "      <th>Event.Date</th>\n",
       "      <th>LOCATION</th>\n",
       "      <th>Country</th>\n",
       "      <th>Latitude</th>\n",
       "      <th>Longitude</th>\n",
       "      <th>Airport.Code</th>\n",
       "      <th>Airport.Name</th>\n",
       "      <th>Injury.Severity</th>\n",
       "      <th>Aircraft.damage</th>\n",
       "      <th>Aircraft.Category</th>\n",
       "      <th>Registration.Number</th>\n",
       "      <th>Make</th>\n",
       "      <th>Model</th>\n",
       "      <th>...</th>\n",
       "      <th>FAR.Description</th>\n",
       "      <th>Schedule</th>\n",
       "      <th>Purpose.of.flight</th>\n",
       "      <th>Air.carrier</th>\n",
       "      <th>Total.Fatal.Injuries</th>\n",
       "      <th>Total.Serious.Injuries</th>\n",
       "      <th>Total.Minor.Injuries</th>\n",
       "      <th>Total.Uninjured</th>\n",
       "      <th>Weather.Condition</th>\n",
       "      <th>Broad.phase.of.flight</th>\n",
       "      <th>Report.Status</th>\n",
       "      <th>Publication.Date</th>\n",
       "      <th>City</th>\n",
       "      <th>State</th>\n",
       "      <th>Total_Injuries</th>\n",
       "      <th>Year</th>\n",
       "    </tr>\n",
       "  </thead>\n",
       "  <tbody>\n",
       "    <tr>\n",
       "      <th>972</th>\n",
       "      <td>20200509X85739</td>\n",
       "      <td>Accident</td>\n",
       "      <td>ERA20CA175</td>\n",
       "      <td>2020-05-03</td>\n",
       "      <td>SHIRLEY, NY</td>\n",
       "      <td>United States</td>\n",
       "      <td>40.828056</td>\n",
       "      <td>-72.865556</td>\n",
       "      <td>HWV</td>\n",
       "      <td>BROOKHAVEN</td>\n",
       "      <td>Non-Fatal</td>\n",
       "      <td>Substantial</td>\n",
       "      <td>Airplane</td>\n",
       "      <td>N11457</td>\n",
       "      <td>Waco</td>\n",
       "      <td>QCF</td>\n",
       "      <td>...</td>\n",
       "      <td>Part 91: General Aviation</td>\n",
       "      <td>NaN</td>\n",
       "      <td>Personal</td>\n",
       "      <td>NaN</td>\n",
       "      <td>0.0</td>\n",
       "      <td>0.0</td>\n",
       "      <td>0.0</td>\n",
       "      <td>1.0</td>\n",
       "      <td>VMC</td>\n",
       "      <td>NaN</td>\n",
       "      <td>Preliminary</td>\n",
       "      <td>15-05-2020</td>\n",
       "      <td>SHIRLEY</td>\n",
       "      <td>NY</td>\n",
       "      <td>0.0</td>\n",
       "      <td>2020</td>\n",
       "    </tr>\n",
       "    <tr>\n",
       "      <th>973</th>\n",
       "      <td>20200509X85739</td>\n",
       "      <td>Accident</td>\n",
       "      <td>ERA20CA175</td>\n",
       "      <td>2020-05-03</td>\n",
       "      <td>SHIRLEY, NY</td>\n",
       "      <td>United States</td>\n",
       "      <td>40.828056</td>\n",
       "      <td>-72.865554</td>\n",
       "      <td>HWV</td>\n",
       "      <td>BROOKHAVEN</td>\n",
       "      <td>Non-Fatal</td>\n",
       "      <td>Substantial</td>\n",
       "      <td>Airplane</td>\n",
       "      <td>N11457</td>\n",
       "      <td>Waco</td>\n",
       "      <td>QCF</td>\n",
       "      <td>...</td>\n",
       "      <td>91</td>\n",
       "      <td>NaN</td>\n",
       "      <td>Personal</td>\n",
       "      <td>NaN</td>\n",
       "      <td>0.0</td>\n",
       "      <td>0.0</td>\n",
       "      <td>0.0</td>\n",
       "      <td>1.0</td>\n",
       "      <td>VMC</td>\n",
       "      <td>NaN</td>\n",
       "      <td>NaN</td>\n",
       "      <td>NaN</td>\n",
       "      <td>SHIRLEY</td>\n",
       "      <td>NY</td>\n",
       "      <td>0.0</td>\n",
       "      <td>2020</td>\n",
       "    </tr>\n",
       "  </tbody>\n",
       "</table>\n",
       "<p>2 rows × 35 columns</p>\n",
       "</div>"
      ],
      "text/plain": [
       "           Event.Id Investigation.Type Accident.Number  Event.Date  \\\n",
       "972  20200509X85739           Accident      ERA20CA175  2020-05-03   \n",
       "973  20200509X85739           Accident      ERA20CA175  2020-05-03   \n",
       "\n",
       "        LOCATION        Country   Latitude  Longitude Airport.Code  \\\n",
       "972  SHIRLEY, NY  United States  40.828056 -72.865556          HWV   \n",
       "973  SHIRLEY, NY  United States  40.828056 -72.865554          HWV   \n",
       "\n",
       "    Airport.Name Injury.Severity Aircraft.damage Aircraft.Category  \\\n",
       "972   BROOKHAVEN       Non-Fatal     Substantial          Airplane   \n",
       "973   BROOKHAVEN       Non-Fatal     Substantial          Airplane   \n",
       "\n",
       "    Registration.Number  Make Model  ...            FAR.Description  Schedule  \\\n",
       "972              N11457  Waco   QCF  ...  Part 91: General Aviation       NaN   \n",
       "973              N11457  Waco   QCF  ...                         91       NaN   \n",
       "\n",
       "    Purpose.of.flight Air.carrier Total.Fatal.Injuries Total.Serious.Injuries  \\\n",
       "972          Personal         NaN                  0.0                    0.0   \n",
       "973          Personal         NaN                  0.0                    0.0   \n",
       "\n",
       "    Total.Minor.Injuries  Total.Uninjured  Weather.Condition  \\\n",
       "972                  0.0              1.0                VMC   \n",
       "973                  0.0              1.0                VMC   \n",
       "\n",
       "     Broad.phase.of.flight  Report.Status Publication.Date     City State  \\\n",
       "972                    NaN    Preliminary       15-05-2020  SHIRLEY    NY   \n",
       "973                    NaN            NaN              NaN  SHIRLEY    NY   \n",
       "\n",
       "    Total_Injuries  Year  \n",
       "972            0.0  2020  \n",
       "973            0.0  2020  \n",
       "\n",
       "[2 rows x 35 columns]"
      ]
     },
     "execution_count": 23,
     "metadata": {},
     "output_type": "execute_result"
    }
   ],
   "source": [
    "#now that we see we have a duplicate lets compare them\n",
    "aviation_data[aviation_data['Accident.Number']=='ERA20CA175']"
   ]
  },
  {
   "cell_type": "code",
   "execution_count": 24,
   "metadata": {
    "scrolled": false
   },
   "outputs": [
    {
     "data": {
      "text/html": [
       "<div>\n",
       "<style scoped>\n",
       "    .dataframe tbody tr th:only-of-type {\n",
       "        vertical-align: middle;\n",
       "    }\n",
       "\n",
       "    .dataframe tbody tr th {\n",
       "        vertical-align: top;\n",
       "    }\n",
       "\n",
       "    .dataframe thead th {\n",
       "        text-align: right;\n",
       "    }\n",
       "</style>\n",
       "<table border=\"1\" class=\"dataframe\">\n",
       "  <thead>\n",
       "    <tr style=\"text-align: right;\">\n",
       "      <th></th>\n",
       "      <th>Event.Id</th>\n",
       "      <th>Investigation.Type</th>\n",
       "      <th>Accident.Number</th>\n",
       "      <th>Event.Date</th>\n",
       "      <th>LOCATION</th>\n",
       "      <th>Country</th>\n",
       "      <th>Latitude</th>\n",
       "      <th>Longitude</th>\n",
       "      <th>Airport.Code</th>\n",
       "      <th>Airport.Name</th>\n",
       "      <th>Injury.Severity</th>\n",
       "      <th>Aircraft.damage</th>\n",
       "      <th>Aircraft.Category</th>\n",
       "      <th>Registration.Number</th>\n",
       "      <th>Make</th>\n",
       "      <th>Model</th>\n",
       "      <th>...</th>\n",
       "      <th>FAR.Description</th>\n",
       "      <th>Schedule</th>\n",
       "      <th>Purpose.of.flight</th>\n",
       "      <th>Air.carrier</th>\n",
       "      <th>Total.Fatal.Injuries</th>\n",
       "      <th>Total.Serious.Injuries</th>\n",
       "      <th>Total.Minor.Injuries</th>\n",
       "      <th>Total.Uninjured</th>\n",
       "      <th>Weather.Condition</th>\n",
       "      <th>Broad.phase.of.flight</th>\n",
       "      <th>Report.Status</th>\n",
       "      <th>Publication.Date</th>\n",
       "      <th>City</th>\n",
       "      <th>State</th>\n",
       "      <th>Total_Injuries</th>\n",
       "      <th>Year</th>\n",
       "    </tr>\n",
       "  </thead>\n",
       "  <tbody>\n",
       "    <tr>\n",
       "      <th>973</th>\n",
       "      <td>20200509X85739</td>\n",
       "      <td>Accident</td>\n",
       "      <td>ERA20CA175</td>\n",
       "      <td>2020-05-03</td>\n",
       "      <td>SHIRLEY, NY</td>\n",
       "      <td>United States</td>\n",
       "      <td>40.828056</td>\n",
       "      <td>-72.865554</td>\n",
       "      <td>HWV</td>\n",
       "      <td>BROOKHAVEN</td>\n",
       "      <td>Non-Fatal</td>\n",
       "      <td>Substantial</td>\n",
       "      <td>Airplane</td>\n",
       "      <td>N11457</td>\n",
       "      <td>Waco</td>\n",
       "      <td>QCF</td>\n",
       "      <td>...</td>\n",
       "      <td>91</td>\n",
       "      <td>NaN</td>\n",
       "      <td>Personal</td>\n",
       "      <td>NaN</td>\n",
       "      <td>0.0</td>\n",
       "      <td>0.0</td>\n",
       "      <td>0.0</td>\n",
       "      <td>1.0</td>\n",
       "      <td>VMC</td>\n",
       "      <td>NaN</td>\n",
       "      <td>NaN</td>\n",
       "      <td>NaN</td>\n",
       "      <td>SHIRLEY</td>\n",
       "      <td>NY</td>\n",
       "      <td>0.0</td>\n",
       "      <td>2020</td>\n",
       "    </tr>\n",
       "  </tbody>\n",
       "</table>\n",
       "<p>1 rows × 35 columns</p>\n",
       "</div>"
      ],
      "text/plain": [
       "           Event.Id Investigation.Type Accident.Number  Event.Date  \\\n",
       "973  20200509X85739           Accident      ERA20CA175  2020-05-03   \n",
       "\n",
       "        LOCATION        Country   Latitude  Longitude Airport.Code  \\\n",
       "973  SHIRLEY, NY  United States  40.828056 -72.865554          HWV   \n",
       "\n",
       "    Airport.Name Injury.Severity Aircraft.damage Aircraft.Category  \\\n",
       "973   BROOKHAVEN       Non-Fatal     Substantial          Airplane   \n",
       "\n",
       "    Registration.Number  Make Model  ... FAR.Description  Schedule  \\\n",
       "973              N11457  Waco   QCF  ...              91       NaN   \n",
       "\n",
       "    Purpose.of.flight Air.carrier Total.Fatal.Injuries Total.Serious.Injuries  \\\n",
       "973          Personal         NaN                  0.0                    0.0   \n",
       "\n",
       "    Total.Minor.Injuries  Total.Uninjured  Weather.Condition  \\\n",
       "973                  0.0              1.0                VMC   \n",
       "\n",
       "     Broad.phase.of.flight  Report.Status Publication.Date     City State  \\\n",
       "973                    NaN            NaN              NaN  SHIRLEY    NY   \n",
       "\n",
       "    Total_Injuries  Year  \n",
       "973            0.0  2020  \n",
       "\n",
       "[1 rows x 35 columns]"
      ]
     },
     "execution_count": 24,
     "metadata": {},
     "output_type": "execute_result"
    }
   ],
   "source": [
    "#remove the duplicate and merge in the data\n",
    "aviation_data = aviation_data.drop_duplicates(subset='Accident.Number', keep=\"last\")\n",
    "aviation_data[aviation_data['Accident.Number']=='ERA20CA175'] #Checking for dups\n",
    "#replace missing values in the duplicate kept - change report status from NaN to Preliminary\n",
    "#rc_avaition.loc[rc_avaition['Accident.Number'] == , 'ERA20CA175'] = 1"
   ]
  },
  {
   "cell_type": "markdown",
   "metadata": {},
   "source": [
    "When dealing with duplicates we used Accident.Number to address any duplicates in the data. As the NTSB takes in accidents each are assigned an accident number. Regarding this dataset we did find one duplicate which was removed. We can also see that all the info was the same for the two records also indicating that it was entered twice. We combined the known data for a more complete record."
   ]
  },
  {
   "cell_type": "code",
   "execution_count": 25,
   "metadata": {
    "scrolled": true
   },
   "outputs": [
    {
     "data": {
      "text/html": [
       "<div>\n",
       "<style scoped>\n",
       "    .dataframe tbody tr th:only-of-type {\n",
       "        vertical-align: middle;\n",
       "    }\n",
       "\n",
       "    .dataframe tbody tr th {\n",
       "        vertical-align: top;\n",
       "    }\n",
       "\n",
       "    .dataframe thead th {\n",
       "        text-align: right;\n",
       "    }\n",
       "</style>\n",
       "<table border=\"1\" class=\"dataframe\">\n",
       "  <thead>\n",
       "    <tr style=\"text-align: right;\">\n",
       "      <th></th>\n",
       "      <th>index</th>\n",
       "      <th>Number.of.Engines</th>\n",
       "    </tr>\n",
       "  </thead>\n",
       "  <tbody>\n",
       "    <tr>\n",
       "      <th>0</th>\n",
       "      <td>1.0</td>\n",
       "      <td>67513</td>\n",
       "    </tr>\n",
       "    <tr>\n",
       "      <th>1</th>\n",
       "      <td>2.0</td>\n",
       "      <td>10793</td>\n",
       "    </tr>\n",
       "    <tr>\n",
       "      <th>2</th>\n",
       "      <td>0.0</td>\n",
       "      <td>1182</td>\n",
       "    </tr>\n",
       "    <tr>\n",
       "      <th>3</th>\n",
       "      <td>3.0</td>\n",
       "      <td>481</td>\n",
       "    </tr>\n",
       "    <tr>\n",
       "      <th>4</th>\n",
       "      <td>4.0</td>\n",
       "      <td>428</td>\n",
       "    </tr>\n",
       "  </tbody>\n",
       "</table>\n",
       "</div>"
      ],
      "text/plain": [
       "   index  Number.of.Engines\n",
       "0    1.0              67513\n",
       "1    2.0              10793\n",
       "2    0.0               1182\n",
       "3    3.0                481\n",
       "4    4.0                428"
      ]
     },
     "execution_count": 25,
     "metadata": {},
     "output_type": "execute_result"
    }
   ],
   "source": [
    "aviation_data = aviation_data.loc[aviation_data[\"Number.of.Engines\"]!=8.0]\n",
    "engines=aviation_data[\"Number.of.Engines\"].value_counts().reset_index()\n",
    "engines"
   ]
  },
  {
   "cell_type": "markdown",
   "metadata": {},
   "source": [
    "Removed 8.0 engine aircraft because this style of aircraft is out of date and isn't supported much\n",
    "Since there was only 1 record of an 8 engine aircraft we felt confortable removing the record. One other interesting thing we noticed about number of engines is a value of 0. What is a 0 Engin aircraft? Investigation below:"
   ]
  },
  {
   "cell_type": "code",
   "execution_count": 26,
   "metadata": {
    "scrolled": true
   },
   "outputs": [
    {
     "data": {
      "text/plain": [
       "73           Glider\n",
       "75          Balloon\n",
       "277      Helicopter\n",
       "308          Glider\n",
       "679          Glider\n",
       "            ...    \n",
       "85535        Glider\n",
       "85550       Balloon\n",
       "85616       Balloon\n",
       "85727       Balloon\n",
       "85908        Glider\n",
       "Name: Aircraft.Category, Length: 1182, dtype: object"
      ]
     },
     "execution_count": 26,
     "metadata": {},
     "output_type": "execute_result"
    }
   ],
   "source": [
    "zero_eng = aviation_data.loc[aviation_data[\"Number.of.Engines\"] == 0.0]\n",
    "zero_eng[\"Aircraft.Category\"]"
   ]
  },
  {
   "cell_type": "markdown",
   "metadata": {},
   "source": [
    "After isolating the 0 engine rows we were able to see that transportation divices such as gliders and hot air baloons are in the data set and it was not a mistake. Nothing more to be one here. "
   ]
  },
  {
   "cell_type": "code",
   "execution_count": 27,
   "metadata": {},
   "outputs": [
    {
     "data": {
      "text/html": [
       "<div>\n",
       "<style scoped>\n",
       "    .dataframe tbody tr th:only-of-type {\n",
       "        vertical-align: middle;\n",
       "    }\n",
       "\n",
       "    .dataframe tbody tr th {\n",
       "        vertical-align: top;\n",
       "    }\n",
       "\n",
       "    .dataframe thead th {\n",
       "        text-align: right;\n",
       "    }\n",
       "</style>\n",
       "<table border=\"1\" class=\"dataframe\">\n",
       "  <thead>\n",
       "    <tr style=\"text-align: right;\">\n",
       "      <th></th>\n",
       "      <th>index</th>\n",
       "      <th>Injury.Severity</th>\n",
       "    </tr>\n",
       "  </thead>\n",
       "  <tbody>\n",
       "    <tr>\n",
       "      <th>0</th>\n",
       "      <td>Non-Fatal</td>\n",
       "      <td>64383</td>\n",
       "    </tr>\n",
       "    <tr>\n",
       "      <th>1</th>\n",
       "      <td>Fatal(1)</td>\n",
       "      <td>8435</td>\n",
       "    </tr>\n",
       "    <tr>\n",
       "      <th>2</th>\n",
       "      <td>Fatal(2)</td>\n",
       "      <td>4970</td>\n",
       "    </tr>\n",
       "    <tr>\n",
       "      <th>3</th>\n",
       "      <td>Incident</td>\n",
       "      <td>3651</td>\n",
       "    </tr>\n",
       "    <tr>\n",
       "      <th>4</th>\n",
       "      <td>Fatal(3)</td>\n",
       "      <td>1552</td>\n",
       "    </tr>\n",
       "    <tr>\n",
       "      <th>...</th>\n",
       "      <td>...</td>\n",
       "      <td>...</td>\n",
       "    </tr>\n",
       "    <tr>\n",
       "      <th>126</th>\n",
       "      <td>Fatal(135)</td>\n",
       "      <td>1</td>\n",
       "    </tr>\n",
       "    <tr>\n",
       "      <th>127</th>\n",
       "      <td>Fatal(42)</td>\n",
       "      <td>1</td>\n",
       "    </tr>\n",
       "    <tr>\n",
       "      <th>128</th>\n",
       "      <td>Fatal(295)</td>\n",
       "      <td>1</td>\n",
       "    </tr>\n",
       "    <tr>\n",
       "      <th>129</th>\n",
       "      <td>Fatal(145)</td>\n",
       "      <td>1</td>\n",
       "    </tr>\n",
       "    <tr>\n",
       "      <th>130</th>\n",
       "      <td>Fatal(121)</td>\n",
       "      <td>1</td>\n",
       "    </tr>\n",
       "  </tbody>\n",
       "</table>\n",
       "<p>131 rows × 2 columns</p>\n",
       "</div>"
      ],
      "text/plain": [
       "          index  Injury.Severity\n",
       "0     Non-Fatal            64383\n",
       "1      Fatal(1)             8435\n",
       "2      Fatal(2)             4970\n",
       "3      Incident             3651\n",
       "4      Fatal(3)             1552\n",
       "..          ...              ...\n",
       "126  Fatal(135)                1\n",
       "127   Fatal(42)                1\n",
       "128  Fatal(295)                1\n",
       "129  Fatal(145)                1\n",
       "130  Fatal(121)                1\n",
       "\n",
       "[131 rows x 2 columns]"
      ]
     },
     "execution_count": 27,
     "metadata": {},
     "output_type": "execute_result"
    }
   ],
   "source": [
    "injuryseverity = aviation_data[\"Injury.Severity\"].value_counts().reset_index()\n",
    "injuryseverity"
   ]
  },
  {
   "cell_type": "markdown",
   "metadata": {},
   "source": [
    "##### Injury Severity column fixing the levels\n",
    "Data clean up require us to fix the Injury Severity column. As you can see there are some observations that have incorrectly names"
   ]
  },
  {
   "cell_type": "code",
   "execution_count": 28,
   "metadata": {
    "scrolled": true
   },
   "outputs": [
    {
     "data": {
      "text/html": [
       "<div>\n",
       "<style scoped>\n",
       "    .dataframe tbody tr th:only-of-type {\n",
       "        vertical-align: middle;\n",
       "    }\n",
       "\n",
       "    .dataframe tbody tr th {\n",
       "        vertical-align: top;\n",
       "    }\n",
       "\n",
       "    .dataframe thead th {\n",
       "        text-align: right;\n",
       "    }\n",
       "</style>\n",
       "<table border=\"1\" class=\"dataframe\">\n",
       "  <thead>\n",
       "    <tr style=\"text-align: right;\">\n",
       "      <th></th>\n",
       "      <th>index</th>\n",
       "      <th>Injury.Severity</th>\n",
       "    </tr>\n",
       "  </thead>\n",
       "  <tbody>\n",
       "    <tr>\n",
       "      <th>0</th>\n",
       "      <td>Non-Fatal</td>\n",
       "      <td>64383</td>\n",
       "    </tr>\n",
       "    <tr>\n",
       "      <th>1</th>\n",
       "      <td>Fatal</td>\n",
       "      <td>17273</td>\n",
       "    </tr>\n",
       "    <tr>\n",
       "      <th>2</th>\n",
       "      <td>Incident</td>\n",
       "      <td>3651</td>\n",
       "    </tr>\n",
       "    <tr>\n",
       "      <th>3</th>\n",
       "      <td>Unavailable</td>\n",
       "      <td>441</td>\n",
       "    </tr>\n",
       "    <tr>\n",
       "      <th>4</th>\n",
       "      <td>Minor</td>\n",
       "      <td>122</td>\n",
       "    </tr>\n",
       "    <tr>\n",
       "      <th>5</th>\n",
       "      <td>Serious</td>\n",
       "      <td>101</td>\n",
       "    </tr>\n",
       "  </tbody>\n",
       "</table>\n",
       "</div>"
      ],
      "text/plain": [
       "         index  Injury.Severity\n",
       "0    Non-Fatal            64383\n",
       "1        Fatal            17273\n",
       "2     Incident             3651\n",
       "3  Unavailable              441\n",
       "4        Minor              122\n",
       "5      Serious              101"
      ]
     },
     "execution_count": 28,
     "metadata": {},
     "output_type": "execute_result"
    }
   ],
   "source": [
    "aviation_data.loc[aviation_data['Injury.Severity'].str.contains('Non-Fatal', na=False), 'Injury.Severity'] = 'latafnon'\n",
    "aviation_data.loc[aviation_data['Injury.Severity'].str.contains('Fatal', na=False), 'Injury.Severity'] = 'Fatal'\n",
    "aviation_data.loc[aviation_data['Injury.Severity'].str.contains('latafnon', na=False), 'Injury.Severity'] = 'Non-Fatal'\n",
    "\n",
    "#fill in NA values with Unavailable\n",
    "aviation_data['Injury.Severity'] = aviation_data['Injury.Severity'].fillna(\"Unavailable\")\n",
    "#fix spelling error of Siruose\n",
    "aviation_data.loc[aviation_data['Injury.Severity'].str.contains('Siruose', na=False), 'Injury.Severity'] = 'Serious'\n",
    "\n",
    "injuryseverity = aviation_data[\"Injury.Severity\"].value_counts().reset_index()\n",
    "injuryseverity"
   ]
  },
  {
   "cell_type": "code",
   "execution_count": 29,
   "metadata": {
    "scrolled": false
   },
   "outputs": [
    {
     "data": {
      "text/html": [
       "<div>\n",
       "<style scoped>\n",
       "    .dataframe tbody tr th:only-of-type {\n",
       "        vertical-align: middle;\n",
       "    }\n",
       "\n",
       "    .dataframe tbody tr th {\n",
       "        vertical-align: top;\n",
       "    }\n",
       "\n",
       "    .dataframe thead th {\n",
       "        text-align: right;\n",
       "    }\n",
       "</style>\n",
       "<table border=\"1\" class=\"dataframe\">\n",
       "  <thead>\n",
       "    <tr style=\"text-align: right;\">\n",
       "      <th></th>\n",
       "      <th>Event.Id</th>\n",
       "      <th>Investigation.Type</th>\n",
       "      <th>Accident.Number</th>\n",
       "      <th>Event.Date</th>\n",
       "      <th>LOCATION</th>\n",
       "      <th>Country</th>\n",
       "      <th>Latitude</th>\n",
       "      <th>Longitude</th>\n",
       "      <th>Airport.Code</th>\n",
       "      <th>Airport.Name</th>\n",
       "      <th>Injury.Severity</th>\n",
       "      <th>Aircraft.damage</th>\n",
       "      <th>Aircraft.Category</th>\n",
       "      <th>Registration.Number</th>\n",
       "      <th>Make</th>\n",
       "      <th>Model</th>\n",
       "      <th>...</th>\n",
       "      <th>FAR.Description</th>\n",
       "      <th>Schedule</th>\n",
       "      <th>Purpose.of.flight</th>\n",
       "      <th>Air.carrier</th>\n",
       "      <th>Total.Fatal.Injuries</th>\n",
       "      <th>Total.Serious.Injuries</th>\n",
       "      <th>Total.Minor.Injuries</th>\n",
       "      <th>Total.Uninjured</th>\n",
       "      <th>Weather.Condition</th>\n",
       "      <th>Broad.phase.of.flight</th>\n",
       "      <th>Report.Status</th>\n",
       "      <th>Publication.Date</th>\n",
       "      <th>City</th>\n",
       "      <th>State</th>\n",
       "      <th>Total_Injuries</th>\n",
       "      <th>Year</th>\n",
       "    </tr>\n",
       "  </thead>\n",
       "  <tbody>\n",
       "    <tr>\n",
       "      <th>0</th>\n",
       "      <td>2.02102E+13</td>\n",
       "      <td>Accident</td>\n",
       "      <td>CEN21FA130</td>\n",
       "      <td>2021-02-16</td>\n",
       "      <td>JANESVILLE, WI</td>\n",
       "      <td>United States</td>\n",
       "      <td>42.5954</td>\n",
       "      <td>-89.0302</td>\n",
       "      <td>Unknown</td>\n",
       "      <td>Unknown</td>\n",
       "      <td>Fatal</td>\n",
       "      <td>Substantial</td>\n",
       "      <td>Airplane</td>\n",
       "      <td>N13VT</td>\n",
       "      <td>Velocity</td>\n",
       "      <td>Vtwin</td>\n",
       "      <td>...</td>\n",
       "      <td>91</td>\n",
       "      <td>Unknown</td>\n",
       "      <td>Ferry</td>\n",
       "      <td>Unknown</td>\n",
       "      <td>2.0</td>\n",
       "      <td>0.0</td>\n",
       "      <td>0.0</td>\n",
       "      <td>0.0</td>\n",
       "      <td>VMC</td>\n",
       "      <td>Unknown</td>\n",
       "      <td>Unknown</td>\n",
       "      <td>Unknown</td>\n",
       "      <td>JANESVILLE</td>\n",
       "      <td>WI</td>\n",
       "      <td>2.0</td>\n",
       "      <td>2021</td>\n",
       "    </tr>\n",
       "  </tbody>\n",
       "</table>\n",
       "<p>1 rows × 35 columns</p>\n",
       "</div>"
      ],
      "text/plain": [
       "      Event.Id Investigation.Type Accident.Number  Event.Date        LOCATION  \\\n",
       "0  2.02102E+13           Accident      CEN21FA130  2021-02-16  JANESVILLE, WI   \n",
       "\n",
       "         Country Latitude Longitude Airport.Code Airport.Name Injury.Severity  \\\n",
       "0  United States  42.5954  -89.0302      Unknown      Unknown           Fatal   \n",
       "\n",
       "  Aircraft.damage Aircraft.Category Registration.Number      Make  Model  ...  \\\n",
       "0     Substantial          Airplane               N13VT  Velocity  Vtwin  ...   \n",
       "\n",
       "  FAR.Description Schedule Purpose.of.flight Air.carrier Total.Fatal.Injuries  \\\n",
       "0              91  Unknown             Ferry     Unknown                  2.0   \n",
       "\n",
       "  Total.Serious.Injuries Total.Minor.Injuries  Total.Uninjured  \\\n",
       "0                    0.0                  0.0              0.0   \n",
       "\n",
       "   Weather.Condition  Broad.phase.of.flight  Report.Status Publication.Date  \\\n",
       "0                VMC                Unknown        Unknown          Unknown   \n",
       "\n",
       "         City State Total_Injuries  Year  \n",
       "0  JANESVILLE    WI            2.0  2021  \n",
       "\n",
       "[1 rows x 35 columns]"
      ]
     },
     "execution_count": 29,
     "metadata": {},
     "output_type": "execute_result"
    }
   ],
   "source": [
    "#Filled NaNs to Unknowns\n",
    "aviation_data.update(aviation_data.fillna(\"Unknown\"))\n",
    "aviation_data.head(1)"
   ]
  },
  {
   "cell_type": "code",
   "execution_count": 30,
   "metadata": {},
   "outputs": [
    {
     "data": {
      "text/html": [
       "<div>\n",
       "<style scoped>\n",
       "    .dataframe tbody tr th:only-of-type {\n",
       "        vertical-align: middle;\n",
       "    }\n",
       "\n",
       "    .dataframe tbody tr th {\n",
       "        vertical-align: top;\n",
       "    }\n",
       "\n",
       "    .dataframe thead th {\n",
       "        text-align: right;\n",
       "    }\n",
       "</style>\n",
       "<table border=\"1\" class=\"dataframe\">\n",
       "  <thead>\n",
       "    <tr style=\"text-align: right;\">\n",
       "      <th></th>\n",
       "      <th>index</th>\n",
       "      <th>Weather.Condition</th>\n",
       "    </tr>\n",
       "  </thead>\n",
       "  <tbody>\n",
       "    <tr>\n",
       "      <th>0</th>\n",
       "      <td>VMC</td>\n",
       "      <td>75324</td>\n",
       "    </tr>\n",
       "    <tr>\n",
       "      <th>1</th>\n",
       "      <td>IMC</td>\n",
       "      <td>5899</td>\n",
       "    </tr>\n",
       "    <tr>\n",
       "      <th>2</th>\n",
       "      <td>Unknown</td>\n",
       "      <td>3670</td>\n",
       "    </tr>\n",
       "    <tr>\n",
       "      <th>3</th>\n",
       "      <td>UNK</td>\n",
       "      <td>1072</td>\n",
       "    </tr>\n",
       "    <tr>\n",
       "      <th>4</th>\n",
       "      <td>Unk</td>\n",
       "      <td>6</td>\n",
       "    </tr>\n",
       "  </tbody>\n",
       "</table>\n",
       "</div>"
      ],
      "text/plain": [
       "     index  Weather.Condition\n",
       "0      VMC              75324\n",
       "1      IMC               5899\n",
       "2  Unknown               3670\n",
       "3      UNK               1072\n",
       "4      Unk                  6"
      ]
     },
     "execution_count": 30,
     "metadata": {},
     "output_type": "execute_result"
    }
   ],
   "source": [
    "weather = aviation_data[\"Weather.Condition\"].value_counts().reset_index()\n",
    "weather"
   ]
  },
  {
   "cell_type": "code",
   "execution_count": 31,
   "metadata": {},
   "outputs": [],
   "source": [
    "#upon looking at the Weather.Condition we noticed some inconsistancies with UNK and Unk for unknown. We will correct that\n",
    "aviation_data.loc[aviation_data['Weather.Condition'].str.contains('UNK', na=False), 'Weather.Condition'] = 'Unknown'\n",
    "aviation_data.loc[aviation_data['Weather.Condition'].str.contains('Unk', na=False), 'Weather.Condition'] = 'Unknown'"
   ]
  },
  {
   "cell_type": "code",
   "execution_count": 32,
   "metadata": {},
   "outputs": [
    {
     "data": {
      "text/html": [
       "<div>\n",
       "<style scoped>\n",
       "    .dataframe tbody tr th:only-of-type {\n",
       "        vertical-align: middle;\n",
       "    }\n",
       "\n",
       "    .dataframe tbody tr th {\n",
       "        vertical-align: top;\n",
       "    }\n",
       "\n",
       "    .dataframe thead th {\n",
       "        text-align: right;\n",
       "    }\n",
       "</style>\n",
       "<table border=\"1\" class=\"dataframe\">\n",
       "  <thead>\n",
       "    <tr style=\"text-align: right;\">\n",
       "      <th></th>\n",
       "      <th>index</th>\n",
       "      <th>Weather.Condition</th>\n",
       "    </tr>\n",
       "  </thead>\n",
       "  <tbody>\n",
       "    <tr>\n",
       "      <th>0</th>\n",
       "      <td>VMC</td>\n",
       "      <td>75324</td>\n",
       "    </tr>\n",
       "    <tr>\n",
       "      <th>1</th>\n",
       "      <td>IMC</td>\n",
       "      <td>5899</td>\n",
       "    </tr>\n",
       "    <tr>\n",
       "      <th>2</th>\n",
       "      <td>Unknown</td>\n",
       "      <td>4748</td>\n",
       "    </tr>\n",
       "  </tbody>\n",
       "</table>\n",
       "</div>"
      ],
      "text/plain": [
       "     index  Weather.Condition\n",
       "0      VMC              75324\n",
       "1      IMC               5899\n",
       "2  Unknown               4748"
      ]
     },
     "execution_count": 32,
     "metadata": {},
     "output_type": "execute_result"
    }
   ],
   "source": [
    "#check to make sure the UNK issue was taken care of\n",
    "weather = aviation_data[\"Weather.Condition\"].value_counts().reset_index()\n",
    "weather"
   ]
  },
  {
   "cell_type": "markdown",
   "metadata": {},
   "source": [
    "Removed the columns for final dataframe"
   ]
  },
  {
   "cell_type": "code",
   "execution_count": 33,
   "metadata": {},
   "outputs": [
    {
     "data": {
      "text/plain": [
       "Index(['Investigation.Type', 'Accident.Number', 'Country', 'Airport.Name',\n",
       "       'Injury.Severity', 'Aircraft.damage', 'Aircraft.Category', 'Make',\n",
       "       'Model', 'Amateur.Built', 'Number.of.Engines', 'Engine.Type',\n",
       "       'Purpose.of.flight', 'Air.carrier', 'Total.Fatal.Injuries',\n",
       "       'Total.Serious.Injuries', 'Total.Minor.Injuries', 'Total.Uninjured',\n",
       "       'Weather.Condition', 'Broad.phase.of.flight', 'Report.Status', 'City',\n",
       "       'State', 'Total_Injuries', 'Year'],\n",
       "      dtype='object')"
      ]
     },
     "execution_count": 33,
     "metadata": {},
     "output_type": "execute_result"
    }
   ],
   "source": [
    "rc_aviation = aviation_data.copy()\n",
    "rc_aviation = rc_aviation.drop(columns=['FAR.Description', 'Event.Id',\"Longitude\",\n",
    "                                        \"Latitude\",\"Airport.Code\",\"Publication.Date\",\"Registration.Number\",\"LOCATION\",\n",
    "                                        \"Schedule\",\"Event.Date\"])\n",
    "aviation_data[\"Year\"].astype(int)\n",
    "rc_aviation.columns"
   ]
  },
  {
   "cell_type": "code",
   "execution_count": 34,
   "metadata": {},
   "outputs": [
    {
     "name": "stdout",
     "output_type": "stream",
     "text": [
      "<class 'pandas.core.frame.DataFrame'>\n",
      "Int64Index: 85971 entries, 0 to 85975\n",
      "Data columns (total 25 columns):\n",
      " #   Column                  Non-Null Count  Dtype  \n",
      "---  ------                  --------------  -----  \n",
      " 0   Investigation.Type      85971 non-null  object \n",
      " 1   Accident.Number         85971 non-null  object \n",
      " 2   Country                 85971 non-null  object \n",
      " 3   Airport.Name            85971 non-null  object \n",
      " 4   Injury.Severity         85971 non-null  object \n",
      " 5   Aircraft.damage         85971 non-null  object \n",
      " 6   Aircraft.Category       85971 non-null  object \n",
      " 7   Make                    85971 non-null  object \n",
      " 8   Model                   85971 non-null  object \n",
      " 9   Amateur.Built           85971 non-null  object \n",
      " 10  Number.of.Engines       85971 non-null  object \n",
      " 11  Engine.Type             85971 non-null  object \n",
      " 12  Purpose.of.flight       85971 non-null  object \n",
      " 13  Air.carrier             85971 non-null  object \n",
      " 14  Total.Fatal.Injuries    85971 non-null  float64\n",
      " 15  Total.Serious.Injuries  85971 non-null  float64\n",
      " 16  Total.Minor.Injuries    85971 non-null  float64\n",
      " 17  Total.Uninjured         85971 non-null  float64\n",
      " 18  Weather.Condition       85971 non-null  object \n",
      " 19  Broad.phase.of.flight   85971 non-null  object \n",
      " 20  Report.Status           85971 non-null  object \n",
      " 21  City                    85971 non-null  object \n",
      " 22  State                   85971 non-null  object \n",
      " 23  Total_Injuries          85971 non-null  float64\n",
      " 24  Year                    85971 non-null  object \n",
      "dtypes: float64(5), object(20)\n",
      "memory usage: 17.1+ MB\n"
     ]
    }
   ],
   "source": [
    "rc_aviation.info()"
   ]
  },
  {
   "cell_type": "markdown",
   "metadata": {},
   "source": [
    "In this section, we will verify the data quality, explain missing values, duplicate data, and outliers. We will also deal with missing values and address any points of interest. Something we would like to do before looking at missing values is make the data easier to read by adding some columns. We will split the \"LOCATION\" column into \"City\" and \"State\". Next, we will add a column called \"Total Injuries\" which is the sum of Total Fatal Injuries, Total Minor Injuries and Total Serious Injuries.\n"
   ]
  },
  {
   "cell_type": "markdown",
   "metadata": {},
   "source": [
    "Looking at the head of the data we can see some redundant columns such as location, since we split it into state and city, some missing values and a few opportunites to combine data and create new columns such as Total Injuries. Other columns of interest are Event ID which appears to have been transformed by a program like excel in order to fit all the charactors and Accident number which could be used to check for duplicates."
   ]
  },
  {
   "cell_type": "markdown",
   "metadata": {},
   "source": [
    "What we can see from the missing data above is categories such as Air Carrier and schedule are missing the most. When prodicting with this dataset we will primarly forcus on total number of injuries and Injury severity. Something to consider with the missing data in air carrier is if there was a corrlation between air carrier and plane crashes I don't beleive that business would still be operating.\n",
    "\n",
    "Regarding many of the missing values in the fields: Total Fatal Injuries, Total Minor Injuries and Total Serious Injuries: we will be adding a total injuries column. Upone further investigation of the NTSB website (https://www.ntsb.gov/Pages/default.aspx) we were able to confirm that in the event no one was hurt then the form was marked Na since it did not apply to that incident. In this case we have determiend that 0 people were injured."
   ]
  },
  {
   "cell_type": "code",
   "execution_count": 35,
   "metadata": {
    "scrolled": true
   },
   "outputs": [
    {
     "data": {
      "text/plain": [
       "Index(['Investigation.Type', 'Accident.Number', 'Country', 'Airport.Name',\n",
       "       'Injury.Severity', 'Aircraft.damage', 'Aircraft.Category', 'Make',\n",
       "       'Model', 'Amateur.Built', 'Number.of.Engines', 'Engine.Type',\n",
       "       'Purpose.of.flight', 'Air.carrier', 'Total.Fatal.Injuries',\n",
       "       'Total.Serious.Injuries', 'Total.Minor.Injuries', 'Total.Uninjured',\n",
       "       'Weather.Condition', 'Broad.phase.of.flight', 'Report.Status', 'City',\n",
       "       'State', 'Total_Injuries', 'Year'],\n",
       "      dtype='object')"
      ]
     },
     "execution_count": 35,
     "metadata": {},
     "output_type": "execute_result"
    }
   ],
   "source": [
    "#dropping FAR.Descripiton, schedule, air.carrier due to a lack of data\n",
    "#dropping location as it is redundant to city, state and country\n",
    "#also dropping column named \"text\" I am not sure how that got into our df\n",
    "rc_aviation = aviation_data.copy()\n",
    "rc_aviation = rc_aviation.drop(columns=['FAR.Description', 'Event.Id',\"Longitude\",\n",
    "                                        \"Latitude\",\"Airport.Code\",\"Publication.Date\",\"Registration.Number\",\"LOCATION\",\n",
    "                                        \"Schedule\",\"Event.Date\"])\n",
    "rc_aviation[\"Year\"].astype(int)\n",
    "rc_aviation.columns"
   ]
  },
  {
   "cell_type": "markdown",
   "metadata": {},
   "source": [
    "Using Accident Number as an indicator we checked of duplicates. There was one that we found which looked to be entered twice and is clearly an error. That duplicate was removed."
   ]
  },
  {
   "cell_type": "markdown",
   "metadata": {},
   "source": [
    "One big issue with this dataset was in the inconsistant catigorical variables. We noticed that injury servarity had multipal redundant catorgies that we needed to clean up. After cleanup we are left with 5 final categories which are recongized by NTSB as: Fatal, Incident, Unavailable, Minor, Serious."
   ]
  },
  {
   "cell_type": "markdown",
   "metadata": {},
   "source": [
    "Need to convert Total Injuries to integer, clean up fails, remove 8 engine NASA flight, drop the remaining columns, Injury Severity, that we are going to remove:\n",
    "\n",
    "Event.db, Accident.Number, Far.Description, Longitude, Latitude, Airport Code, Total Serious Injuries, Total.Minor.Injuries, Total.Fatal.Injuries, Publication.Date, Registration.Number, LOCATION, Accident.Number\n",
    "\n",
    "\n",
    "Total Injuries = Total Serious Injuries + Total.Minor.Injuries + Total.Fatal.Injuries\n",
    "Location = City, State\n",
    "\n",
    "\n",
    "\n",
    "Report.Status?"
   ]
  },
  {
   "cell_type": "markdown",
   "metadata": {},
   "source": [
    "# Simple Statisitics"
   ]
  },
  {
   "cell_type": "code",
   "execution_count": 36,
   "metadata": {},
   "outputs": [],
   "source": [
    "#looking for min and max and such"
   ]
  },
  {
   "cell_type": "code",
   "execution_count": 37,
   "metadata": {
    "scrolled": true
   },
   "outputs": [
    {
     "data": {
      "text/html": [
       "<div>\n",
       "<style scoped>\n",
       "    .dataframe tbody tr th:only-of-type {\n",
       "        vertical-align: middle;\n",
       "    }\n",
       "\n",
       "    .dataframe tbody tr th {\n",
       "        vertical-align: top;\n",
       "    }\n",
       "\n",
       "    .dataframe thead th {\n",
       "        text-align: right;\n",
       "    }\n",
       "</style>\n",
       "<table border=\"1\" class=\"dataframe\">\n",
       "  <thead>\n",
       "    <tr style=\"text-align: right;\">\n",
       "      <th></th>\n",
       "      <th>Total.Fatal.Injuries</th>\n",
       "      <th>Total.Serious.Injuries</th>\n",
       "      <th>Total.Minor.Injuries</th>\n",
       "      <th>Total.Uninjured</th>\n",
       "      <th>Total_Injuries</th>\n",
       "    </tr>\n",
       "  </thead>\n",
       "  <tbody>\n",
       "    <tr>\n",
       "      <th>count</th>\n",
       "      <td>85971.000000</td>\n",
       "      <td>85971.000000</td>\n",
       "      <td>85971.000000</td>\n",
       "      <td>85971.000000</td>\n",
       "      <td>85971.000000</td>\n",
       "    </tr>\n",
       "    <tr>\n",
       "      <th>mean</th>\n",
       "      <td>0.564888</td>\n",
       "      <td>0.213444</td>\n",
       "      <td>0.339231</td>\n",
       "      <td>5.070221</td>\n",
       "      <td>1.117563</td>\n",
       "    </tr>\n",
       "    <tr>\n",
       "      <th>std</th>\n",
       "      <td>4.909912</td>\n",
       "      <td>1.109831</td>\n",
       "      <td>1.961792</td>\n",
       "      <td>27.542505</td>\n",
       "      <td>5.754948</td>\n",
       "    </tr>\n",
       "    <tr>\n",
       "      <th>min</th>\n",
       "      <td>0.000000</td>\n",
       "      <td>0.000000</td>\n",
       "      <td>0.000000</td>\n",
       "      <td>0.000000</td>\n",
       "      <td>0.000000</td>\n",
       "    </tr>\n",
       "    <tr>\n",
       "      <th>25%</th>\n",
       "      <td>0.000000</td>\n",
       "      <td>0.000000</td>\n",
       "      <td>0.000000</td>\n",
       "      <td>0.000000</td>\n",
       "      <td>0.000000</td>\n",
       "    </tr>\n",
       "    <tr>\n",
       "      <th>50%</th>\n",
       "      <td>0.000000</td>\n",
       "      <td>0.000000</td>\n",
       "      <td>0.000000</td>\n",
       "      <td>1.000000</td>\n",
       "      <td>0.000000</td>\n",
       "    </tr>\n",
       "    <tr>\n",
       "      <th>75%</th>\n",
       "      <td>0.000000</td>\n",
       "      <td>0.000000</td>\n",
       "      <td>0.000000</td>\n",
       "      <td>2.000000</td>\n",
       "      <td>1.000000</td>\n",
       "    </tr>\n",
       "    <tr>\n",
       "      <th>max</th>\n",
       "      <td>295.000000</td>\n",
       "      <td>111.000000</td>\n",
       "      <td>200.000000</td>\n",
       "      <td>699.000000</td>\n",
       "      <td>295.000000</td>\n",
       "    </tr>\n",
       "  </tbody>\n",
       "</table>\n",
       "</div>"
      ],
      "text/plain": [
       "       Total.Fatal.Injuries  Total.Serious.Injuries  Total.Minor.Injuries  \\\n",
       "count          85971.000000            85971.000000          85971.000000   \n",
       "mean               0.564888                0.213444              0.339231   \n",
       "std                4.909912                1.109831              1.961792   \n",
       "min                0.000000                0.000000              0.000000   \n",
       "25%                0.000000                0.000000              0.000000   \n",
       "50%                0.000000                0.000000              0.000000   \n",
       "75%                0.000000                0.000000              0.000000   \n",
       "max              295.000000              111.000000            200.000000   \n",
       "\n",
       "       Total.Uninjured  Total_Injuries  \n",
       "count     85971.000000    85971.000000  \n",
       "mean          5.070221        1.117563  \n",
       "std          27.542505        5.754948  \n",
       "min           0.000000        0.000000  \n",
       "25%           0.000000        0.000000  \n",
       "50%           1.000000        0.000000  \n",
       "75%           2.000000        1.000000  \n",
       "max         699.000000      295.000000  "
      ]
     },
     "execution_count": 37,
     "metadata": {},
     "output_type": "execute_result"
    }
   ],
   "source": [
    "rc_aviation.describe()"
   ]
  },
  {
   "cell_type": "raw",
   "metadata": {},
   "source": [
    "Regarding the data the most important stats for us to look  at were regarding injuries. Ideally we would like for no one to be injured when traveling so an ideal number of injuries for this industry is 0. However, this may not be achievable. After removing the outliers we came up with a range of:\n",
    "Total fatal injuries 0-295 with a mean of .56\n",
    "Total serious injuries 0-111 with a mean of .2\n",
    "Total minor injuries 0-200 with a mean of .33\n",
    "Total injuries 0-295 with a mean of 1.12\n",
    "Total uninjured  0-699 with a mean of 5.07\n",
    "Overall these are pretty good stats which we see get better over time. Clearly there is an inverses relationship between total uninjured and total injuries as more people get injured there are less uninjured people.\n",
    "Other notable stats is the count of the different plane damages. We thought this was significant given that the more the plane was damaged we would expect more people to be injured."
   ]
  },
  {
   "cell_type": "code",
   "execution_count": 38,
   "metadata": {},
   "outputs": [
    {
     "data": {
      "text/html": [
       "<div>\n",
       "<style scoped>\n",
       "    .dataframe tbody tr th:only-of-type {\n",
       "        vertical-align: middle;\n",
       "    }\n",
       "\n",
       "    .dataframe tbody tr th {\n",
       "        vertical-align: top;\n",
       "    }\n",
       "\n",
       "    .dataframe thead th {\n",
       "        text-align: right;\n",
       "    }\n",
       "</style>\n",
       "<table border=\"1\" class=\"dataframe\">\n",
       "  <thead>\n",
       "    <tr style=\"text-align: right;\">\n",
       "      <th></th>\n",
       "      <th>index</th>\n",
       "      <th>Aircraft.damage</th>\n",
       "    </tr>\n",
       "  </thead>\n",
       "  <tbody>\n",
       "    <tr>\n",
       "      <th>0</th>\n",
       "      <td>Substantial</td>\n",
       "      <td>62012</td>\n",
       "    </tr>\n",
       "    <tr>\n",
       "      <th>1</th>\n",
       "      <td>Destroyed</td>\n",
       "      <td>18275</td>\n",
       "    </tr>\n",
       "    <tr>\n",
       "      <th>2</th>\n",
       "      <td>Unknown</td>\n",
       "      <td>2927</td>\n",
       "    </tr>\n",
       "    <tr>\n",
       "      <th>3</th>\n",
       "      <td>Minor</td>\n",
       "      <td>2757</td>\n",
       "    </tr>\n",
       "  </tbody>\n",
       "</table>\n",
       "</div>"
      ],
      "text/plain": [
       "         index  Aircraft.damage\n",
       "0  Substantial            62012\n",
       "1    Destroyed            18275\n",
       "2      Unknown             2927\n",
       "3        Minor             2757"
      ]
     },
     "execution_count": 38,
     "metadata": {},
     "output_type": "execute_result"
    }
   ],
   "source": [
    "plane_dmg = rc_aviation[\"Aircraft.damage\"].value_counts().reset_index()\n",
    "plane_dmg"
   ]
  },
  {
   "cell_type": "markdown",
   "metadata": {},
   "source": [
    "As we can see the majority of these reports were reported with substantial damaged or destroyed. This is to be expected as many of these events resulted in some sort of injury to a passenger."
   ]
  },
  {
   "cell_type": "markdown",
   "metadata": {},
   "source": []
  },
  {
   "cell_type": "code",
   "execution_count": 39,
   "metadata": {},
   "outputs": [
    {
     "name": "stderr",
     "output_type": "stream",
     "text": [
      "*c* argument looks like a single numeric RGB or RGBA sequence, which should be avoided as value-mapping will have precedence in case its length matches with *x* & *y*.  Please use the *color* keyword-argument or provide a 2-D array with a single row if you intend to specify the same RGB or RGBA value for all points.\n"
     ]
    },
    {
     "data": {
      "text/plain": [
       "<AxesSubplot:xlabel='Total_Injuries', ylabel='Total.Uninjured'>"
      ]
     },
     "execution_count": 39,
     "metadata": {},
     "output_type": "execute_result"
    },
    {
     "data": {
      "image/png": "[encoded data removed]",
      "text/plain": [
       "<Figure size 432x288 with 1 Axes>"
      ]
     },
     "metadata": {},
     "output_type": "display_data"
    }
   ],
   "source": [
    "#inverse relationship between uninjured and total injuries\n",
    "rc_aviation.plot.scatter(\"Total_Injuries\",\"Total.Uninjured\")"
   ]
  },
  {
   "cell_type": "code",
   "execution_count": 40,
   "metadata": {
    "scrolled": true
   },
   "outputs": [
    {
     "data": {
      "text/plain": [
       "Country\n",
       "Afghanistan       14\n",
       "Albania            1\n",
       "Algeria            5\n",
       "American Samoa    10\n",
       "Angola            11\n",
       "                  ..\n",
       "Vietnam            5\n",
       "West Indies       11\n",
       "Yemen              1\n",
       "Zambia             2\n",
       "Zimbabwe           4\n",
       "Name: Country, Length: 185, dtype: int64"
      ]
     },
     "execution_count": 40,
     "metadata": {},
     "output_type": "execute_result"
    }
   ],
   "source": [
    "#looking at accidents by Country\n",
    "aviation_country = rc_aviation['Country'].groupby(rc_aviation['Country']).count()\n",
    "aviation_country"
   ]
  },
  {
   "cell_type": "markdown",
   "metadata": {},
   "source": [
    "Lastly we wanted to look at accidents by country. We can see in our dataset that we have over 185 countries with the majority of these flights coming from the United States. This is to be expected as the United States has a higher travel industry over many other counties. Furthermore any Europeans businesses travel there in order to conduct business in our market which would directly increase the number of flights in the US."
   ]
  },
  {
   "cell_type": "markdown",
   "metadata": {},
   "source": [
    "# Explore Joint Attributes "
   ]
  },
  {
   "cell_type": "markdown",
   "metadata": {},
   "source": [
    "### Injuries from Flight Accidents over Time "
   ]
  },
  {
   "cell_type": "code",
   "execution_count": 41,
   "metadata": {
    "scrolled": true
   },
   "outputs": [
    {
     "data": {
      "text/plain": [
       "<matplotlib.legend.Legend at 0x18709b89280>"
      ]
     },
     "execution_count": 41,
     "metadata": {},
     "output_type": "execute_result"
    },
    {
     "data": {
      "image/png": "[encoded data removed]",
      "text/plain": [
       "<Figure size 864x432 with 1 Axes>"
      ]
     },
     "metadata": {},
     "output_type": "display_data"
    }
   ],
   "source": [
    "#showing injuries by year\n",
    "by_year = rc_aviation.groupby('Year').sum()\n",
    "by_year[['Total.Fatal.Injuries','Total.Serious.Injuries','Total.Minor.Injuries','Total_Injuries']].plot(lw = 2, figsize=(12,6))\n",
    "# to move the legend outside of graph\n",
    "plt.legend(bbox_to_anchor = (1.05,1), loc=2, borderaxespad=0)"
   ]
  },
  {
   "cell_type": "markdown",
   "metadata": {},
   "source": [
    "The above chart is a line graph which tells the story of the number of injuries over time. We wanted to see if there was changes over time as technology improves. There seems to  be a slight decrease of injuries over the years."
   ]
  },
  {
   "cell_type": "markdown",
   "metadata": {},
   "source": [
    "### Correlation Plot  of the Continuous Variables"
   ]
  },
  {
   "cell_type": "code",
   "execution_count": 42,
   "metadata": {
    "scrolled": false
   },
   "outputs": [
    {
     "data": {
      "image/png": "[encoded data removed]",
      "text/plain": [
       "<Figure size 432x288 with 2 Axes>"
      ]
     },
     "metadata": {},
     "output_type": "display_data"
    }
   ],
   "source": [
    "corr =rc_aviation.corr()\n",
    "ax = sns.heatmap(\n",
    "    corr, \n",
    "    vmin=-1, vmax=1, center=0,\n",
    "    cmap=sns.diverging_palette(20, 220, n=200),\n",
    "    square=True\n",
    ")\n",
    "ax.set_xticklabels(\n",
    "    ax.get_xticklabels(),\n",
    "    rotation=45,\n",
    "    horizontalalignment='right'\n",
    ");"
   ]
  },
  {
   "cell_type": "markdown",
   "metadata": {},
   "source": [
    "In any type of data exploration is good to look at the correlation between continous varibales using a correlation heat map. Using this graph there seems to be correlation between the different injury varibles which do make sense ."
   ]
  },
  {
   "cell_type": "markdown",
   "metadata": {},
   "source": [
    "### Box Plot of  Different Engines Sizes vs Injuries"
   ]
  },
  {
   "cell_type": "code",
   "execution_count": 71,
   "metadata": {},
   "outputs": [
    {
     "data": {
      "image/png": "[encoded data removed]",
      "text/plain": [
       "<Figure size 432x288 with 1 Axes>"
      ]
     },
     "metadata": {},
     "output_type": "display_data"
    }
   ],
   "source": [
    "#Box plot for each of the engine size\n",
    "# limited the size of the axis \n",
    "\n",
    "sns.boxplot( x=rc_aviation[\"Number.of.Engines\"], y=rc_aviation[\"Total_Injuries\"] );\n",
    "plt.ylim(0, 20)\n",
    "plt.show()"
   ]
  },
  {
   "cell_type": "markdown",
   "metadata": {},
   "source": [
    "Here we used a box plot to see if the number of engines had an effect on the total amount of injuries. It is tough to tell  but the number of engines do not look to to be a strong differentiator for the total injuries."
   ]
  },
  {
   "cell_type": "markdown",
   "metadata": {},
   "source": [
    "# Explore Attributes and Class"
   ]
  },
  {
   "cell_type": "markdown",
   "metadata": {},
   "source": [
    "Our two varibles that we are looking to predict in the future are phase of flight and aircraft damage"
   ]
  },
  {
   "cell_type": "markdown",
   "metadata": {},
   "source": [
    "### Broad phase of flight  vs Total Injuries  "
   ]
  },
  {
   "cell_type": "code",
   "execution_count": 36,
   "metadata": {},
   "outputs": [
    {
     "data": {
      "image/png": "[encoded data removed]",
      "text/plain": [
       "<Figure size 2160x576 with 1 Axes>"
      ]
     },
     "metadata": {},
     "output_type": "display_data"
    }
   ],
   "source": [
    "sns.boxplot(x=rc_aviation[\"Broad.phase.of.flight\"], y=rc_aviation[\"Total_Injuries\"] );\n",
    "sns.set(rc={'figure.figsize':(40, 8)})\n",
    "plt.show()"
   ]
  },
  {
   "cell_type": "markdown",
   "metadata": {},
   "source": [
    "This boxplot plot is used to show what phase of the flight does the accidents happen and how many injuries tend to occur."
   ]
  },
  {
   "cell_type": "markdown",
   "metadata": {},
   "source": [
    "### Aircraft Category and  Broad phase of flight  vs Total Injuries  "
   ]
  },
  {
   "cell_type": "code",
   "execution_count": 90,
   "metadata": {},
   "outputs": [
    {
     "name": "stderr",
     "output_type": "stream",
     "text": [
      "C:\\Users\\jjose\\anaconda3\\lib\\site-packages\\seaborn\\_decorators.py:36: FutureWarning: Pass the following variables as keyword args: x, y. From version 0.12, the only valid positional argument will be `data`, and passing other arguments without an explicit keyword will result in an error or misinterpretation.\n",
      "  warnings.warn(\n"
     ]
    },
    {
     "data": {
      "image/png": "[encoded data removed]",
      "text/plain": [
       "<Figure size 2880x576 with 1 Axes>"
      ]
     },
     "metadata": {},
     "output_type": "display_data"
    }
   ],
   "source": [
    "import seaborn as sns\n",
    "sns.scatterplot('Aircraft.Category','Total_Injuries',  data=rc_aviation, hue=\"Broad.phase.of.flight\")\n",
    "\n",
    "plt.show()"
   ]
  },
  {
   "cell_type": "markdown",
   "metadata": {},
   "source": [
    "The above scatter plot  helps show the different types of Aircrafts  were in accidents and during what phase of the flight did the  air craft go down. We can see there are unique types of aircrafts that might not help with making our predicition model."
   ]
  },
  {
   "cell_type": "markdown",
   "metadata": {},
   "source": [
    "### Broad phase of flight and Make  vs Total Injuries  "
   ]
  },
  {
   "cell_type": "code",
   "execution_count": 87,
   "metadata": {},
   "outputs": [
    {
     "data": {
      "image/png": "[encoded data removed]",
      "text/plain": [
       "<Figure size 478.675x360 with 1 Axes>"
      ]
     },
     "metadata": {},
     "output_type": "display_data"
    }
   ],
   "source": [
    "totinj_make = rc_aviation.groupby(['Make']).count().reset_index().sort_values(by=\"Investigation.Type\", ascending=False)[:10]\n",
    "totinj_make = totinj_make.rename(columns= {\"Investigation.Type\":\"Make_Count\"})\n",
    "sns.catplot(x=\"Total_Injuries\", y=\"Make\", hue=\"Broad.phase.of.flight\", kind=\"box\", data=totinj_make)\n",
    "sns.set(rc={'figure.figsize':(40, 8)})\n",
    "plt.show()\n"
   ]
  },
  {
   "cell_type": "code",
   "execution_count": 88,
   "metadata": {},
   "outputs": [
    {
     "data": {
      "text/html": [
       "<div>\n",
       "<style scoped>\n",
       "    .dataframe tbody tr th:only-of-type {\n",
       "        vertical-align: middle;\n",
       "    }\n",
       "\n",
       "    .dataframe tbody tr th {\n",
       "        vertical-align: top;\n",
       "    }\n",
       "\n",
       "    .dataframe thead th {\n",
       "        text-align: right;\n",
       "    }\n",
       "</style>\n",
       "<table border=\"1\" class=\"dataframe\">\n",
       "  <thead>\n",
       "    <tr style=\"text-align: right;\">\n",
       "      <th></th>\n",
       "      <th>Make</th>\n",
       "      <th>Make_Count</th>\n",
       "      <th>Accident.Number</th>\n",
       "      <th>Country</th>\n",
       "      <th>Airport.Name</th>\n",
       "      <th>Injury.Severity</th>\n",
       "      <th>Aircraft.damage</th>\n",
       "      <th>Aircraft.Category</th>\n",
       "      <th>Model</th>\n",
       "      <th>Amateur.Built</th>\n",
       "      <th>Number.of.Engines</th>\n",
       "      <th>Engine.Type</th>\n",
       "      <th>Purpose.of.flight</th>\n",
       "      <th>Air.carrier</th>\n",
       "      <th>Total.Fatal.Injuries</th>\n",
       "      <th>Total.Serious.Injuries</th>\n",
       "      <th>Total.Minor.Injuries</th>\n",
       "      <th>Total.Uninjured</th>\n",
       "      <th>Weather.Condition</th>\n",
       "      <th>Broad.phase.of.flight</th>\n",
       "      <th>Report.Status</th>\n",
       "      <th>City</th>\n",
       "      <th>State</th>\n",
       "      <th>Total_Injuries</th>\n",
       "      <th>Year</th>\n",
       "    </tr>\n",
       "  </thead>\n",
       "  <tbody>\n",
       "    <tr>\n",
       "      <th>1202</th>\n",
       "      <td>Cessna</td>\n",
       "      <td>26430</td>\n",
       "      <td>26430</td>\n",
       "      <td>26430</td>\n",
       "      <td>26430</td>\n",
       "      <td>26430</td>\n",
       "      <td>26430</td>\n",
       "      <td>26430</td>\n",
       "      <td>26430</td>\n",
       "      <td>26430</td>\n",
       "      <td>26430</td>\n",
       "      <td>26430</td>\n",
       "      <td>26430</td>\n",
       "      <td>26430</td>\n",
       "      <td>26430</td>\n",
       "      <td>26430</td>\n",
       "      <td>26430</td>\n",
       "      <td>26430</td>\n",
       "      <td>26430</td>\n",
       "      <td>26430</td>\n",
       "      <td>26430</td>\n",
       "      <td>26430</td>\n",
       "      <td>26430</td>\n",
       "      <td>26430</td>\n",
       "      <td>26430</td>\n",
       "    </tr>\n",
       "    <tr>\n",
       "      <th>5050</th>\n",
       "      <td>Piper</td>\n",
       "      <td>14462</td>\n",
       "      <td>14462</td>\n",
       "      <td>14462</td>\n",
       "      <td>14462</td>\n",
       "      <td>14462</td>\n",
       "      <td>14462</td>\n",
       "      <td>14462</td>\n",
       "      <td>14462</td>\n",
       "      <td>14462</td>\n",
       "      <td>14462</td>\n",
       "      <td>14462</td>\n",
       "      <td>14462</td>\n",
       "      <td>14462</td>\n",
       "      <td>14462</td>\n",
       "      <td>14462</td>\n",
       "      <td>14462</td>\n",
       "      <td>14462</td>\n",
       "      <td>14462</td>\n",
       "      <td>14462</td>\n",
       "      <td>14462</td>\n",
       "      <td>14462</td>\n",
       "      <td>14462</td>\n",
       "      <td>14462</td>\n",
       "      <td>14462</td>\n",
       "    </tr>\n",
       "    <tr>\n",
       "      <th>608</th>\n",
       "      <td>Beech</td>\n",
       "      <td>5229</td>\n",
       "      <td>5229</td>\n",
       "      <td>5229</td>\n",
       "      <td>5229</td>\n",
       "      <td>5229</td>\n",
       "      <td>5229</td>\n",
       "      <td>5229</td>\n",
       "      <td>5229</td>\n",
       "      <td>5229</td>\n",
       "      <td>5229</td>\n",
       "      <td>5229</td>\n",
       "      <td>5229</td>\n",
       "      <td>5229</td>\n",
       "      <td>5229</td>\n",
       "      <td>5229</td>\n",
       "      <td>5229</td>\n",
       "      <td>5229</td>\n",
       "      <td>5229</td>\n",
       "      <td>5229</td>\n",
       "      <td>5229</td>\n",
       "      <td>5229</td>\n",
       "      <td>5229</td>\n",
       "      <td>5229</td>\n",
       "      <td>5229</td>\n",
       "    </tr>\n",
       "    <tr>\n",
       "      <th>626</th>\n",
       "      <td>Bell</td>\n",
       "      <td>2632</td>\n",
       "      <td>2632</td>\n",
       "      <td>2632</td>\n",
       "      <td>2632</td>\n",
       "      <td>2632</td>\n",
       "      <td>2632</td>\n",
       "      <td>2632</td>\n",
       "      <td>2632</td>\n",
       "      <td>2632</td>\n",
       "      <td>2632</td>\n",
       "      <td>2632</td>\n",
       "      <td>2632</td>\n",
       "      <td>2632</td>\n",
       "      <td>2632</td>\n",
       "      <td>2632</td>\n",
       "      <td>2632</td>\n",
       "      <td>2632</td>\n",
       "      <td>2632</td>\n",
       "      <td>2632</td>\n",
       "      <td>2632</td>\n",
       "      <td>2632</td>\n",
       "      <td>2632</td>\n",
       "      <td>2632</td>\n",
       "      <td>2632</td>\n",
       "    </tr>\n",
       "    <tr>\n",
       "      <th>788</th>\n",
       "      <td>Boeing</td>\n",
       "      <td>2585</td>\n",
       "      <td>2585</td>\n",
       "      <td>2585</td>\n",
       "      <td>2585</td>\n",
       "      <td>2585</td>\n",
       "      <td>2585</td>\n",
       "      <td>2585</td>\n",
       "      <td>2585</td>\n",
       "      <td>2585</td>\n",
       "      <td>2585</td>\n",
       "      <td>2585</td>\n",
       "      <td>2585</td>\n",
       "      <td>2585</td>\n",
       "      <td>2585</td>\n",
       "      <td>2585</td>\n",
       "      <td>2585</td>\n",
       "      <td>2585</td>\n",
       "      <td>2585</td>\n",
       "      <td>2585</td>\n",
       "      <td>2585</td>\n",
       "      <td>2585</td>\n",
       "      <td>2585</td>\n",
       "      <td>2585</td>\n",
       "      <td>2585</td>\n",
       "    </tr>\n",
       "  </tbody>\n",
       "</table>\n",
       "</div>"
      ],
      "text/plain": [
       "        Make  Make_Count  Accident.Number  Country  Airport.Name  \\\n",
       "1202  Cessna       26430            26430    26430         26430   \n",
       "5050   Piper       14462            14462    14462         14462   \n",
       "608    Beech        5229             5229     5229          5229   \n",
       "626     Bell        2632             2632     2632          2632   \n",
       "788   Boeing        2585             2585     2585          2585   \n",
       "\n",
       "      Injury.Severity  Aircraft.damage  Aircraft.Category  Model  \\\n",
       "1202            26430            26430              26430  26430   \n",
       "5050            14462            14462              14462  14462   \n",
       "608              5229             5229               5229   5229   \n",
       "626              2632             2632               2632   2632   \n",
       "788              2585             2585               2585   2585   \n",
       "\n",
       "      Amateur.Built  Number.of.Engines  Engine.Type  Purpose.of.flight  \\\n",
       "1202          26430              26430        26430              26430   \n",
       "5050          14462              14462        14462              14462   \n",
       "608            5229               5229         5229               5229   \n",
       "626            2632               2632         2632               2632   \n",
       "788            2585               2585         2585               2585   \n",
       "\n",
       "      Air.carrier  Total.Fatal.Injuries  Total.Serious.Injuries  \\\n",
       "1202        26430                 26430                   26430   \n",
       "5050        14462                 14462                   14462   \n",
       "608          5229                  5229                    5229   \n",
       "626          2632                  2632                    2632   \n",
       "788          2585                  2585                    2585   \n",
       "\n",
       "      Total.Minor.Injuries  Total.Uninjured  Weather.Condition  \\\n",
       "1202                 26430            26430              26430   \n",
       "5050                 14462            14462              14462   \n",
       "608                   5229             5229               5229   \n",
       "626                   2632             2632               2632   \n",
       "788                   2585             2585               2585   \n",
       "\n",
       "      Broad.phase.of.flight  Report.Status   City  State  Total_Injuries  \\\n",
       "1202                  26430          26430  26430  26430           26430   \n",
       "5050                  14462          14462  14462  14462           14462   \n",
       "608                    5229           5229   5229   5229            5229   \n",
       "626                    2632           2632   2632   2632            2632   \n",
       "788                    2585           2585   2585   2585            2585   \n",
       "\n",
       "       Year  \n",
       "1202  26430  \n",
       "5050  14462  \n",
       "608    5229  \n",
       "626    2632  \n",
       "788    2585  "
      ]
     },
     "execution_count": 88,
     "metadata": {},
     "output_type": "execute_result"
    }
   ],
   "source": [
    "totinj_make.head()"
   ]
  },
  {
   "cell_type": "markdown",
   "metadata": {},
   "source": [
    "Here we  can see the top ten makes of the aircrafts which were in accidents and during what phase of the flight did these top ten models go down. This can be helpful as we could potenially link faulty builds on  certain makes of plane that  might affect a single phase of the flight like take off. "
   ]
  },
  {
   "cell_type": "markdown",
   "metadata": {},
   "source": [
    "### Aircraft Damage  vs Total Injuries"
   ]
  },
  {
   "cell_type": "code",
   "execution_count": 59,
   "metadata": {},
   "outputs": [
    {
     "name": "stderr",
     "output_type": "stream",
     "text": [
      "C:\\Users\\jjose\\anaconda3\\lib\\site-packages\\seaborn\\_decorators.py:36: FutureWarning: Pass the following variables as keyword args: x, y. From version 0.12, the only valid positional argument will be `data`, and passing other arguments without an explicit keyword will result in an error or misinterpretation.\n",
      "  warnings.warn(\n"
     ]
    },
    {
     "data": {
      "image/png": "[encoded data removed]",
      "text/plain": [
       "<Figure size 432x288 with 1 Axes>"
      ]
     },
     "metadata": {},
     "output_type": "display_data"
    }
   ],
   "source": [
    "import seaborn as sns\n",
    "sns.scatterplot('Aircraft.damage','Total_Injuries',  data=rc_aviation, hue='Aircraft.damage')\n",
    "\n",
    "plt.show()"
   ]
  },
  {
   "cell_type": "markdown",
   "metadata": {},
   "source": [
    "In this scatterplot we are mostly comparing the 3 main levels of aircraft damage substantial, destroyed, and minor. This plot clearly shows the aircrafts that were categorzied as destroyed  had the  most injuries. This can be used when making our prediction models."
   ]
  },
  {
   "cell_type": "markdown",
   "metadata": {},
   "source": [
    "### Aircraft Damage and Weather vs Total Injuries"
   ]
  },
  {
   "cell_type": "code",
   "execution_count": 68,
   "metadata": {},
   "outputs": [
    {
     "data": {
      "text/plain": [
       "<seaborn.axisgrid.FacetGrid at 0x1870ccc32e0>"
      ]
     },
     "execution_count": 68,
     "metadata": {},
     "output_type": "execute_result"
    },
    {
     "data": {
      "image/png": "[encoded data removed]",
      "text/plain": [
       "<Figure size 467.175x360 with 1 Axes>"
      ]
     },
     "metadata": {},
     "output_type": "display_data"
    }
   ],
   "source": [
    "sns.catplot(x=\"Aircraft.damage\", y=\"Total_Injuries\", hue=\"Weather.Condition\", kind=\"bar\", data=rc_aviation)"
   ]
  },
  {
   "cell_type": "markdown",
   "metadata": {},
   "source": [
    "In this bar plot we can see the different types  of  weather conditions that were reported. IMC is when the pilot is mostly using the instrument panel to  control the flight where as  VMC  the pilot is more relying on  their visual ability. In this plot it clearly points to more injuries happening when flying under IMC conditions which also relate to level of aircraft damage. "
   ]
  },
  {
   "cell_type": "markdown",
   "metadata": {},
   "source": [
    "### Aircraft Damage and Amatuer Built vs Total Injuries"
   ]
  },
  {
   "cell_type": "code",
   "execution_count": 70,
   "metadata": {},
   "outputs": [
    {
     "data": {
      "text/plain": [
       "<seaborn.axisgrid.FacetGrid at 0x1870b08ed00>"
      ]
     },
     "execution_count": 70,
     "metadata": {},
     "output_type": "execute_result"
    },
    {
     "data": {
      "image/png": "[encoded data removed]",
      "text/plain": [
       "<Figure size 445.475x360 with 1 Axes>"
      ]
     },
     "metadata": {},
     "output_type": "display_data"
    }
   ],
   "source": [
    "sns.catplot(x=\"Aircraft.damage\", y=\"Total_Injuries\", hue=\"Amateur.Built\", kind=\"bar\", data=rc_aviation)"
   ]
  },
  {
   "cell_type": "markdown",
   "metadata": {},
   "source": [
    "In this bar plot we can see whether the aircraft was built by an amateur. In this plot it showsfrom the data collected  the accidents mostly did not occur on amateur builds."
   ]
  },
  {
   "cell_type": "code",
   "execution_count": null,
   "metadata": {},
   "outputs": [],
   "source": []
  }
 ],
 "metadata": {
  "kernelspec": {
   "display_name": "Python 3",
   "language": "python",
   "name": "python3"
  },
  "language_info": {
   "codemirror_mode": {
    "name": "ipython",
    "version": 3
   },
   "file_extension": ".py",
   "mimetype": "text/x-python",
   "name": "python",
   "nbconvert_exporter": "python",
   "pygments_lexer": "ipython3",
   "version": "3.8.5"
  }
 },
 "nbformat": 4,
 "nbformat_minor": 5
}
