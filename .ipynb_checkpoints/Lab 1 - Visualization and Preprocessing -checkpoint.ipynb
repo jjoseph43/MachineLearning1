{
 "cells": [
  {
   "cell_type": "markdown",
   "id": "1ab083ff",
   "metadata": {},
   "source": [
    "## Grading Rubric\n",
    "### Business Understanding (10 points total).\n",
    "\n",
    "• Describe the purpose of the data set you selected (i.e., why was this data collected in the first place?). Describe how you would define and measure the outcomes from the dataset. That is, why is this data important and how do you know if you have mined useful knowledge from the dataset? How would you measure the effectiveness of a good prediction algorithm? Be specific.\n",
    "\n",
    "### Data Understanding (80 points total)\n",
    "• [10 points] Describe the meaning and type of data (scale, values, etc.) for each\n",
    "attribute in the data file.\n",
    "\n",
    "• [15 points] Verify data quality: Explain any missing values, duplicate data, and outliers.\n",
    "Are those mistakes? How do you deal with these problems? Be specific.\n",
    "\n",
    "• [10 points] Give simple, appropriate statistics (range, mode, mean, median, variance,\n",
    "counts, etc.) for the most important attributes and describe what they mean or if you found something interesting. Note: You can also use data from other sources for comparison. Explain the significance of the statistics run and why they are meaningful.\n",
    "\n",
    "• [15 points] Visualize the most important attributes appropriately (at least 5 attributes). Important: Provide an interpretation for each chart. Explain for each attribute why the chosen visualization is appropriate.\n",
    "\n",
    "• [15 points] Explore relationships between attributes: Look at the attributes via scatter plots, correlation, cross-tabulation, group-wise averages, etc. as appropriate. Explain any interesting relationships.\n",
    "\n",
    "• [10 points] Identify and explain interesting relationships between features and the class you are trying to predict (i.e., relationships with variables and the target classification).\n",
    "\n",
    "• [5 points] Are there other features that could be added to the data or created from existing features? Which ones?\n",
    " \n",
    "### Exceptional Work (10 points total)\n",
    "• You have free reign to provide additional analyses.\n",
    "• One idea: implement dimensionality reduction, then visualize and interpret the results.  "
   ]
  },
  {
   "cell_type": "code",
   "execution_count": 2,
   "id": "dfd0855a",
   "metadata": {},
   "outputs": [],
   "source": [
    "import pandas as pd\n",
    "import numpy as np"
   ]
  },
  {
   "cell_type": "code",
   "execution_count": 10,
   "id": "759bc943",
   "metadata": {},
   "outputs": [
    {
     "data": {
      "text/plain": [
       "Index(['Event.Id', 'Investigation.Type', 'Accident.Number', 'Event.Date',\n",
       "       'LOCATION', 'Country', 'Latitude', 'Longitude', 'Airport.Code',\n",
       "       'Airport.Name', 'Injury.Severity', 'Aircraft.damage',\n",
       "       'Aircraft.Category', 'Registration.Number', 'Make', 'Model',\n",
       "       'Amateur.Built', 'Number.of.Engines', 'Engine.Type', 'FAR.Description',\n",
       "       'Schedule', 'Purpose.of.flight', 'Air.carrier', 'Total.Fatal.Injuries',\n",
       "       'Total.Serious.Injuries', 'Total.Minor.Injuries', 'Total.Uninjured',\n",
       "       'Weather.Condition', 'Broad.phase.of.flight', 'Report.Status',\n",
       "       'Publication.Date'],\n",
       "      dtype='object')"
      ]
     },
     "execution_count": 10,
     "metadata": {},
     "output_type": "execute_result"
    }
   ],
   "source": [
    "aviation_data = pd.read_csv(\"Data/AviationData.csv\")\n",
    "aviation_data.columns"
   ]
  },
  {
   "cell_type": "code",
   "execution_count": 11,
   "id": "27472f96",
   "metadata": {},
   "outputs": [
    {
     "name": "stdout",
     "output_type": "stream",
     "text": [
      "<class 'pandas.core.frame.DataFrame'>\n",
      "RangeIndex: 85976 entries, 0 to 85975\n",
      "Data columns (total 31 columns):\n",
      " #   Column                  Non-Null Count  Dtype  \n",
      "---  ------                  --------------  -----  \n",
      " 0   Event.Id                85976 non-null  object \n",
      " 1   Investigation.Type      85963 non-null  object \n",
      " 2   Accident.Number         85976 non-null  object \n",
      " 3   Event.Date              85976 non-null  object \n",
      " 4   LOCATION                85898 non-null  object \n",
      " 5   Country                 85469 non-null  object \n",
      " 6   Latitude                31587 non-null  float64\n",
      " 7   Longitude               31578 non-null  float64\n",
      " 8   Airport.Code            48612 non-null  object \n",
      " 9   Airport.Name            51298 non-null  object \n",
      " 10  Injury.Severity         85842 non-null  object \n",
      " 11  Aircraft.damage         83047 non-null  object \n",
      " 12  Aircraft.Category       29226 non-null  object \n",
      " 13  Registration.Number     81756 non-null  object \n",
      " 14  Make                    85908 non-null  object \n",
      " 15  Model                   85877 non-null  object \n",
      " 16  Amateur.Built           85296 non-null  object \n",
      " 17  Number.of.Engines       80399 non-null  float64\n",
      " 18  Engine.Type             80872 non-null  object \n",
      " 19  FAR.Description         28929 non-null  object \n",
      " 20  Schedule                12179 non-null  object \n",
      " 21  Purpose.of.flight       80584 non-null  object \n",
      " 22  Air.carrier             4591 non-null   object \n",
      " 23  Total.Fatal.Injuries    58158 non-null  float64\n",
      " 24  Total.Serious.Injuries  55466 non-null  float64\n",
      " 25  Total.Minor.Injuries    56695 non-null  float64\n",
      " 26  Total.Uninjured         71092 non-null  float64\n",
      " 27  Weather.Condition       82304 non-null  object \n",
      " 28  Broad.phase.of.flight   78382 non-null  object \n",
      " 29  Report.Status           84983 non-null  object \n",
      " 30  Publication.Date        70326 non-null  object \n",
      "dtypes: float64(7), object(24)\n",
      "memory usage: 20.3+ MB\n"
     ]
    }
   ],
   "source": [
    "aviation_data.info()"
   ]
  },
  {
   "cell_type": "code",
   "execution_count": null,
   "id": "5c02fdcf",
   "metadata": {},
   "outputs": [],
   "source": []
  }
 ],
 "metadata": {
  "kernelspec": {
   "display_name": "Python 3.7.5 64-bit ('PythonData': conda)",
   "language": "python",
   "name": "python37564bitpythondatacondabec8827403bf4b13bfd7414cd4c5629e"
  },
  "language_info": {
   "codemirror_mode": {
    "name": "ipython",
    "version": 3
   },
   "file_extension": ".py",
   "mimetype": "text/x-python",
   "name": "python",
   "nbconvert_exporter": "python",
   "pygments_lexer": "ipython3",
   "version": "3.7.11"
  }
 },
 "nbformat": 4,
 "nbformat_minor": 5
}
