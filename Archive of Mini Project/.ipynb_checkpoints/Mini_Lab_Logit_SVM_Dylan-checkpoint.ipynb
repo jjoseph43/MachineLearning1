{
 "cells": [
  {
   "cell_type": "markdown",
   "id": "b4533a11",
   "metadata": {},
   "source": [
    "# Mini-Lab: Logistic Regression and SVMs"
   ]
  },
  {
   "cell_type": "markdown",
   "id": "87b873ac",
   "metadata": {},
   "source": [
    "Names:\n",
    "Dylan Scott\n",
    "Jobin Joseph\n",
    "Nnenna Okpara\n",
    "Satvik Ajmera"
   ]
  },
  {
   "cell_type": "markdown",
   "id": "70e0455b",
   "metadata": {},
   "source": [
    "Instructions:\n",
    "You are to perform predictive analysis (classification) upon a data set: model the dataset using\n",
    "methods we have discussed in class: logistic regression and support vector machines, and making\n",
    "conclusions from the analysis. Follow the CRISP-DM framework in your analysis (you are not\n",
    "performing all of the CRISP-DM outline, only the portions relevant to the grading rubric outlined\n",
    "below). This report is worth 10% of the final grade. You may complete this assignment in teams of\n",
    "as many as three people.\n",
    "\n",
    "Write a report covering all the steps of the project. The format of the document can be PDF,\n",
    "*.ipynb, or HTML. You can write the report in whatever format you like, but it is easiest to turn in the\n",
    "rendered iPython notebook. The results should be reproducible using your report. Please carefully\n",
    "describe every assumption and every step in your report.\n",
    "\n",
    "SVM and Logistic Regression Modeling\n",
    "• [50 points] Create a logistic regression model and a support vector machine model for the\n",
    "classification task involved with your dataset. Assess how well each model performs (use\n",
    "80/20 training/testing split for your data). Adjust parameters of the models to make them more\n",
    "accurate. If your dataset size requires the use of stochastic gradient descent, then linear kernel\n",
    "only is fine to use.\n",
    "\n",
    "[pick performance stats]\n",
    "\n",
    "• [10 points] Discuss the advantages of each model for each classification task. Does one type\n",
    "of model offer superior performance over another in terms of prediction accuracy? In terms of\n",
    "training time or efficiency? Explain in detail.\n",
    "\n",
    "• [30 points] Use the weights from logistic regression to interpret the importance of different\n",
    "features for each classification task. Explain your interpretation in detail. Why do you think\n",
    "some variables are more important?\n",
    "\n",
    "• [10 points] Look at the chosen support vectors for the classification task. Do these provide\n",
    "any insight into the data? Explain."
   ]
  },
  {
   "cell_type": "code",
   "execution_count": 1,
   "id": "a7aa276e",
   "metadata": {},
   "outputs": [],
   "source": [
    "import pandas as pd\n",
    "import numpy as np\n",
    "import matplotlib.pyplot as plt\n",
    "import seaborn as sns\n",
    "sns.set(style='darkgrid')\n",
    "\n",
    "import plotly.express as px\n",
    "import plotly.graph_objects as go"
   ]
  },
  {
   "cell_type": "markdown",
   "id": "3436381f",
   "metadata": {},
   "source": [
    "### Dataset add-on\n",
    "From the first project we submitted we have since added on more data that we found on the NTSB website. We were able to merge in new columns using join as well as apend on more recent data. This will give us more vairables but we will have to clean up some of those added rows. This next section will be the clean up."
   ]
  },
  {
   "cell_type": "code",
   "execution_count": 2,
   "id": "e2eb3769",
   "metadata": {
    "scrolled": true
   },
   "outputs": [
    {
     "name": "stdout",
     "output_type": "stream",
     "text": [
      "<class 'pandas.core.frame.DataFrame'>\n",
      "RangeIndex: 115706 entries, 0 to 115705\n",
      "Data columns (total 31 columns):\n",
      " #   Column             Non-Null Count   Dtype  \n",
      "---  ------             --------------   -----  \n",
      " 0   ev_id              115706 non-null  object \n",
      " 1   acft_make          115643 non-null  object \n",
      " 2   acft_model         115630 non-null  object \n",
      " 3   cert_max_gr_wt     98673 non-null   float64\n",
      " 4   acft_category      115287 non-null  object \n",
      " 5   damage             113877 non-null  object \n",
      " 6   far_part           114925 non-null  object \n",
      " 7   afm_hrs_last_insp  60298 non-null   float64\n",
      " 8   type_fly           108599 non-null  object \n",
      " 9   dprt_city          111864 non-null  object \n",
      " 10  dprt_state         108791 non-null  object \n",
      " 11  rwy_len            64222 non-null   float64\n",
      " 12  rwy_width          63110 non-null   float64\n",
      " 13  ev_type            115706 non-null  object \n",
      " 14  ev_city            115646 non-null  object \n",
      " 15  ev_state           109635 non-null  object \n",
      " 16  ev_country         115199 non-null  object \n",
      " 17  ev_highest_injury  114384 non-null  object \n",
      " 18  inj_f_grnd         51624 non-null   float64\n",
      " 19  inj_m_grnd         51543 non-null   float64\n",
      " 20  inj_s_grnd         51520 non-null   float64\n",
      " 21  inj_tot_f          64375 non-null   float64\n",
      " 22  inj_tot_m          63902 non-null   float64\n",
      " 23  inj_tot_n          90784 non-null   float64\n",
      " 24  inj_tot_s          60713 non-null   float64\n",
      " 25  inj_tot_t          79933 non-null   float64\n",
      " 26  sky_cond_ceil      104219 non-null  object \n",
      " 27  sky_cond_nonceil   100624 non-null  object \n",
      " 28  wind_vel_ind       113623 non-null  object \n",
      " 29  wx_int_precip      49898 non-null   object \n",
      " 30  phase_flt_spec     113882 non-null  object \n",
      "dtypes: float64(12), object(19)\n",
      "memory usage: 27.4+ MB\n"
     ]
    }
   ],
   "source": [
    "#Read in the Aviation Data\n",
    "final_data = pd.read_csv(\"../Data/final_data.csv\",low_memory=False,dtype={'damage': str})\n",
    "#Delete columns that were imported incorrectly\n",
    "del final_data[\"Unnamed: 0\"]\n",
    "del final_data[\"dprt_state.1\"]\n",
    "del final_data[\"index\"]\n",
    "del final_data[\"ntsb_no_x\"]\n",
    "final_data.info()"
   ]
  },
  {
   "cell_type": "markdown",
   "id": "f2df169c",
   "metadata": {},
   "source": [
    "# Checking Data Cleaning"
   ]
  },
  {
   "cell_type": "code",
   "execution_count": 3,
   "id": "c67f397d",
   "metadata": {},
   "outputs": [
    {
     "data": {
      "text/html": [
       "<div>\n",
       "<style scoped>\n",
       "    .dataframe tbody tr th:only-of-type {\n",
       "        vertical-align: middle;\n",
       "    }\n",
       "\n",
       "    .dataframe tbody tr th {\n",
       "        vertical-align: top;\n",
       "    }\n",
       "\n",
       "    .dataframe thead th {\n",
       "        text-align: right;\n",
       "    }\n",
       "</style>\n",
       "<table border=\"1\" class=\"dataframe\">\n",
       "  <thead>\n",
       "    <tr style=\"text-align: right;\">\n",
       "      <th></th>\n",
       "      <th>index</th>\n",
       "      <th>damage</th>\n",
       "    </tr>\n",
       "  </thead>\n",
       "  <tbody>\n",
       "    <tr>\n",
       "      <th>0</th>\n",
       "      <td>SUBS</td>\n",
       "      <td>87994</td>\n",
       "    </tr>\n",
       "    <tr>\n",
       "      <th>1</th>\n",
       "      <td>DEST</td>\n",
       "      <td>20892</td>\n",
       "    </tr>\n",
       "    <tr>\n",
       "      <th>2</th>\n",
       "      <td>MINR</td>\n",
       "      <td>3302</td>\n",
       "    </tr>\n",
       "    <tr>\n",
       "      <th>3</th>\n",
       "      <td>NONE</td>\n",
       "      <td>1600</td>\n",
       "    </tr>\n",
       "    <tr>\n",
       "      <th>4</th>\n",
       "      <td>UNK</td>\n",
       "      <td>45</td>\n",
       "    </tr>\n",
       "    <tr>\n",
       "      <th>5</th>\n",
       "      <td>UNK</td>\n",
       "      <td>44</td>\n",
       "    </tr>\n",
       "  </tbody>\n",
       "</table>\n",
       "</div>"
      ],
      "text/plain": [
       "  index  damage\n",
       "0  SUBS   87994\n",
       "1  DEST   20892\n",
       "2  MINR    3302\n",
       "3  NONE    1600\n",
       "4  UNK       45\n",
       "5   UNK      44"
      ]
     },
     "execution_count": 3,
     "metadata": {},
     "output_type": "execute_result"
    }
   ],
   "source": [
    "#It looks like we have some missing values and have an inconsistant UNK vs UNK on flight damage\n",
    "#combine all injuries includigng those on the ground\n",
    "#sky_cond_ceil, sky_cond_nonceil\n",
    "#chekc U vs Unk for wind_vel_ind\n",
    "#flight crew \n",
    "finaldamagecount = final_data[\"damage\"].value_counts().reset_index()\n",
    "finaldamagecount.head(50)"
   ]
  },
  {
   "cell_type": "code",
   "execution_count": 4,
   "id": "6a4e9aad",
   "metadata": {},
   "outputs": [
    {
     "data": {
      "text/html": [
       "<div>\n",
       "<style scoped>\n",
       "    .dataframe tbody tr th:only-of-type {\n",
       "        vertical-align: middle;\n",
       "    }\n",
       "\n",
       "    .dataframe tbody tr th {\n",
       "        vertical-align: top;\n",
       "    }\n",
       "\n",
       "    .dataframe thead th {\n",
       "        text-align: right;\n",
       "    }\n",
       "</style>\n",
       "<table border=\"1\" class=\"dataframe\">\n",
       "  <thead>\n",
       "    <tr style=\"text-align: right;\">\n",
       "      <th></th>\n",
       "      <th>index</th>\n",
       "      <th>ev_city</th>\n",
       "    </tr>\n",
       "  </thead>\n",
       "  <tbody>\n",
       "    <tr>\n",
       "      <th>0</th>\n",
       "      <td>ANCHORAGE</td>\n",
       "      <td>358</td>\n",
       "    </tr>\n",
       "    <tr>\n",
       "      <th>1</th>\n",
       "      <td>ANCHORAGE</td>\n",
       "      <td>286</td>\n",
       "    </tr>\n",
       "    <tr>\n",
       "      <th>2</th>\n",
       "      <td>FORT LAUDERDALE</td>\n",
       "      <td>206</td>\n",
       "    </tr>\n",
       "    <tr>\n",
       "      <th>3</th>\n",
       "      <td>FAIRBANKS</td>\n",
       "      <td>203</td>\n",
       "    </tr>\n",
       "    <tr>\n",
       "      <th>4</th>\n",
       "      <td>PHOENIX</td>\n",
       "      <td>202</td>\n",
       "    </tr>\n",
       "    <tr>\n",
       "      <th>5</th>\n",
       "      <td>HOUSTON</td>\n",
       "      <td>196</td>\n",
       "    </tr>\n",
       "    <tr>\n",
       "      <th>6</th>\n",
       "      <td>MIAMI</td>\n",
       "      <td>188</td>\n",
       "    </tr>\n",
       "    <tr>\n",
       "      <th>7</th>\n",
       "      <td>ATLANTA</td>\n",
       "      <td>186</td>\n",
       "    </tr>\n",
       "    <tr>\n",
       "      <th>8</th>\n",
       "      <td>RENO</td>\n",
       "      <td>185</td>\n",
       "    </tr>\n",
       "    <tr>\n",
       "      <th>9</th>\n",
       "      <td>TALKEETNA</td>\n",
       "      <td>182</td>\n",
       "    </tr>\n",
       "  </tbody>\n",
       "</table>\n",
       "</div>"
      ],
      "text/plain": [
       "             index  ev_city\n",
       "0  ANCHORAGE            358\n",
       "1        ANCHORAGE      286\n",
       "2  FORT LAUDERDALE      206\n",
       "3        FAIRBANKS      203\n",
       "4          PHOENIX      202\n",
       "5          HOUSTON      196\n",
       "6  MIAMI                188\n",
       "7          ATLANTA      186\n",
       "8             RENO      185\n",
       "9        TALKEETNA      182"
      ]
     },
     "execution_count": 4,
     "metadata": {},
     "output_type": "execute_result"
    }
   ],
   "source": [
    "#looks like we have some inconsistant cities since some are upper and some are lower case\n",
    "final_data['ev_city'] = final_data['ev_city'].str.upper()\n",
    "ev_city_fix = final_data[\"ev_city\"].value_counts().reset_index()\n",
    "ev_city_fix.head(10)"
   ]
  },
  {
   "cell_type": "code",
   "execution_count": 5,
   "id": "06aba0aa",
   "metadata": {},
   "outputs": [
    {
     "data": {
      "text/html": [
       "<div>\n",
       "<style scoped>\n",
       "    .dataframe tbody tr th:only-of-type {\n",
       "        vertical-align: middle;\n",
       "    }\n",
       "\n",
       "    .dataframe tbody tr th {\n",
       "        vertical-align: top;\n",
       "    }\n",
       "\n",
       "    .dataframe thead th {\n",
       "        text-align: right;\n",
       "    }\n",
       "</style>\n",
       "<table border=\"1\" class=\"dataframe\">\n",
       "  <thead>\n",
       "    <tr style=\"text-align: right;\">\n",
       "      <th></th>\n",
       "      <th>index</th>\n",
       "      <th>ev_city</th>\n",
       "    </tr>\n",
       "  </thead>\n",
       "  <tbody>\n",
       "    <tr>\n",
       "      <th>0</th>\n",
       "      <td>ANCHORAGE</td>\n",
       "      <td>358</td>\n",
       "    </tr>\n",
       "    <tr>\n",
       "      <th>1</th>\n",
       "      <td>ANCHORAGE</td>\n",
       "      <td>286</td>\n",
       "    </tr>\n",
       "    <tr>\n",
       "      <th>2</th>\n",
       "      <td>FORT LAUDERDALE</td>\n",
       "      <td>206</td>\n",
       "    </tr>\n",
       "    <tr>\n",
       "      <th>3</th>\n",
       "      <td>FAIRBANKS</td>\n",
       "      <td>203</td>\n",
       "    </tr>\n",
       "    <tr>\n",
       "      <th>4</th>\n",
       "      <td>PHOENIX</td>\n",
       "      <td>202</td>\n",
       "    </tr>\n",
       "    <tr>\n",
       "      <th>5</th>\n",
       "      <td>HOUSTON</td>\n",
       "      <td>196</td>\n",
       "    </tr>\n",
       "    <tr>\n",
       "      <th>6</th>\n",
       "      <td>MIAMI</td>\n",
       "      <td>188</td>\n",
       "    </tr>\n",
       "    <tr>\n",
       "      <th>7</th>\n",
       "      <td>ATLANTA</td>\n",
       "      <td>186</td>\n",
       "    </tr>\n",
       "    <tr>\n",
       "      <th>8</th>\n",
       "      <td>RENO</td>\n",
       "      <td>185</td>\n",
       "    </tr>\n",
       "    <tr>\n",
       "      <th>9</th>\n",
       "      <td>TALKEETNA</td>\n",
       "      <td>182</td>\n",
       "    </tr>\n",
       "  </tbody>\n",
       "</table>\n",
       "</div>"
      ],
      "text/plain": [
       "             index  ev_city\n",
       "0  ANCHORAGE            358\n",
       "1        ANCHORAGE      286\n",
       "2  FORT LAUDERDALE      206\n",
       "3        FAIRBANKS      203\n",
       "4          PHOENIX      202\n",
       "5          HOUSTON      196\n",
       "6  MIAMI                188\n",
       "7          ATLANTA      186\n",
       "8             RENO      185\n",
       "9        TALKEETNA      182"
      ]
     },
     "execution_count": 5,
     "metadata": {},
     "output_type": "execute_result"
    }
   ],
   "source": [
    "#looks like we have some inconsistant cities since some are upper and some are lower case\n",
    "final_data['ev_city'] = final_data['ev_city'].str.upper()\n",
    "ev_city_fix = final_data[\"ev_city\"].value_counts().reset_index()\n",
    "ev_city_fix.head(10)"
   ]
  },
  {
   "cell_type": "code",
   "execution_count": 6,
   "id": "b6578a70",
   "metadata": {},
   "outputs": [
    {
     "data": {
      "text/html": [
       "<div>\n",
       "<style scoped>\n",
       "    .dataframe tbody tr th:only-of-type {\n",
       "        vertical-align: middle;\n",
       "    }\n",
       "\n",
       "    .dataframe tbody tr th {\n",
       "        vertical-align: top;\n",
       "    }\n",
       "\n",
       "    .dataframe thead th {\n",
       "        text-align: right;\n",
       "    }\n",
       "</style>\n",
       "<table border=\"1\" class=\"dataframe\">\n",
       "  <thead>\n",
       "    <tr style=\"text-align: right;\">\n",
       "      <th></th>\n",
       "      <th>index</th>\n",
       "      <th>damage</th>\n",
       "    </tr>\n",
       "  </thead>\n",
       "  <tbody>\n",
       "    <tr>\n",
       "      <th>0</th>\n",
       "      <td>SUBS</td>\n",
       "      <td>87994</td>\n",
       "    </tr>\n",
       "    <tr>\n",
       "      <th>1</th>\n",
       "      <td>DEST</td>\n",
       "      <td>20892</td>\n",
       "    </tr>\n",
       "    <tr>\n",
       "      <th>2</th>\n",
       "      <td>MINR</td>\n",
       "      <td>3302</td>\n",
       "    </tr>\n",
       "    <tr>\n",
       "      <th>3</th>\n",
       "      <td>NONE</td>\n",
       "      <td>1600</td>\n",
       "    </tr>\n",
       "    <tr>\n",
       "      <th>4</th>\n",
       "      <td>UNK</td>\n",
       "      <td>89</td>\n",
       "    </tr>\n",
       "  </tbody>\n",
       "</table>\n",
       "</div>"
      ],
      "text/plain": [
       "  index  damage\n",
       "0  SUBS   87994\n",
       "1  DEST   20892\n",
       "2  MINR    3302\n",
       "3  NONE    1600\n",
       "4   UNK      89"
      ]
     },
     "execution_count": 6,
     "metadata": {},
     "output_type": "execute_result"
    }
   ],
   "source": [
    "final_data.loc[final_data['damage'].str.contains('UNK', na=False), 'damage'] = 'UNK'\n",
    "finaldamagecount = final_data[\"damage\"].value_counts().reset_index()\n",
    "finaldamagecount.head(50)"
   ]
  },
  {
   "cell_type": "code",
   "execution_count": 7,
   "id": "71cf0b35",
   "metadata": {},
   "outputs": [
    {
     "data": {
      "text/html": [
       "<div>\n",
       "<style scoped>\n",
       "    .dataframe tbody tr th:only-of-type {\n",
       "        vertical-align: middle;\n",
       "    }\n",
       "\n",
       "    .dataframe tbody tr th {\n",
       "        vertical-align: top;\n",
       "    }\n",
       "\n",
       "    .dataframe thead th {\n",
       "        text-align: right;\n",
       "    }\n",
       "</style>\n",
       "<table border=\"1\" class=\"dataframe\">\n",
       "  <thead>\n",
       "    <tr style=\"text-align: right;\">\n",
       "      <th></th>\n",
       "      <th>index</th>\n",
       "      <th>wind_vel_ind</th>\n",
       "    </tr>\n",
       "  </thead>\n",
       "  <tbody>\n",
       "    <tr>\n",
       "      <th>0</th>\n",
       "      <td>F</td>\n",
       "      <td>47663</td>\n",
       "    </tr>\n",
       "    <tr>\n",
       "      <th>1</th>\n",
       "      <td>UNK</td>\n",
       "      <td>42470</td>\n",
       "    </tr>\n",
       "    <tr>\n",
       "      <th>2</th>\n",
       "      <td>SPEC</td>\n",
       "      <td>10900</td>\n",
       "    </tr>\n",
       "    <tr>\n",
       "      <th>3</th>\n",
       "      <td>CALM</td>\n",
       "      <td>7074</td>\n",
       "    </tr>\n",
       "    <tr>\n",
       "      <th>4</th>\n",
       "      <td>T</td>\n",
       "      <td>4030</td>\n",
       "    </tr>\n",
       "    <tr>\n",
       "      <th>5</th>\n",
       "      <td>LVAR</td>\n",
       "      <td>1486</td>\n",
       "    </tr>\n",
       "  </tbody>\n",
       "</table>\n",
       "</div>"
      ],
      "text/plain": [
       "  index  wind_vel_ind\n",
       "0     F         47663\n",
       "1   UNK         42470\n",
       "2  SPEC         10900\n",
       "3  CALM          7074\n",
       "4     T          4030\n",
       "5  LVAR          1486"
      ]
     },
     "execution_count": 7,
     "metadata": {},
     "output_type": "execute_result"
    }
   ],
   "source": [
    "#checking to see if wind_vel_ind had a miss-match with U and UNK\n",
    "wind_count = final_data[\"wind_vel_ind\"].value_counts().reset_index()\n",
    "wind_count.head(50)"
   ]
  },
  {
   "cell_type": "code",
   "execution_count": 8,
   "id": "aa66c009",
   "metadata": {},
   "outputs": [],
   "source": [
    "#dealing with unknnowns\n",
    "#some columns we can't simply replace the blank value with \"Unknown\" or 0s since that will skew our data\n",
    "#'cert_max_gr_wt','afm_hrs_last_insp','rwy_len','rwy_width'\n",
    "# with the columns listed above we have elected to remove any rows where they are blank. This will help focus our data and it will still leave us with an ample amount of data\n",
    "final_data.dropna(subset=['cert_max_gr_wt','afm_hrs_last_insp','rwy_len','rwy_width'],inplace=True)"
   ]
  },
  {
   "cell_type": "code",
   "execution_count": 9,
   "id": "169aa750",
   "metadata": {},
   "outputs": [
    {
     "data": {
      "text/html": [
       "<div>\n",
       "<style scoped>\n",
       "    .dataframe tbody tr th:only-of-type {\n",
       "        vertical-align: middle;\n",
       "    }\n",
       "\n",
       "    .dataframe tbody tr th {\n",
       "        vertical-align: top;\n",
       "    }\n",
       "\n",
       "    .dataframe thead th {\n",
       "        text-align: right;\n",
       "    }\n",
       "</style>\n",
       "<table border=\"1\" class=\"dataframe\">\n",
       "  <thead>\n",
       "    <tr style=\"text-align: right;\">\n",
       "      <th></th>\n",
       "      <th>ev_id</th>\n",
       "      <th>acft_make</th>\n",
       "      <th>acft_model</th>\n",
       "      <th>cert_max_gr_wt</th>\n",
       "      <th>acft_category</th>\n",
       "      <th>damage</th>\n",
       "      <th>far_part</th>\n",
       "      <th>afm_hrs_last_insp</th>\n",
       "      <th>type_fly</th>\n",
       "      <th>dprt_city</th>\n",
       "      <th>...</th>\n",
       "      <th>Total_Fatal_Injuries</th>\n",
       "      <th>Total_Minor_Injuries</th>\n",
       "      <th>Total_Uninjured</th>\n",
       "      <th>Total_Serious_Injuries</th>\n",
       "      <th>Total_Injuries_Flight</th>\n",
       "      <th>sky_cond_ceil</th>\n",
       "      <th>sky_cond_nonceil</th>\n",
       "      <th>wind_vel_ind</th>\n",
       "      <th>wx_int_precip</th>\n",
       "      <th>phase_flt_spec</th>\n",
       "    </tr>\n",
       "  </thead>\n",
       "  <tbody>\n",
       "    <tr>\n",
       "      <th>1</th>\n",
       "      <td>20001204X00001</td>\n",
       "      <td>Boeing</td>\n",
       "      <td>747-100</td>\n",
       "      <td>750000.0</td>\n",
       "      <td>AIR</td>\n",
       "      <td>MINR</td>\n",
       "      <td>121</td>\n",
       "      <td>113.0</td>\n",
       "      <td>UNK</td>\n",
       "      <td>CHITOSE</td>\n",
       "      <td>...</td>\n",
       "      <td>0.0</td>\n",
       "      <td>0.0</td>\n",
       "      <td>4.0</td>\n",
       "      <td>0.0</td>\n",
       "      <td>0.0</td>\n",
       "      <td>NONE</td>\n",
       "      <td>SCAT</td>\n",
       "      <td>CALM</td>\n",
       "      <td>UNK</td>\n",
       "      <td>Landing</td>\n",
       "    </tr>\n",
       "    <tr>\n",
       "      <th>3</th>\n",
       "      <td>20001204X00003</td>\n",
       "      <td>Cessna</td>\n",
       "      <td>172</td>\n",
       "      <td>2300.0</td>\n",
       "      <td>AIR</td>\n",
       "      <td>SUBS</td>\n",
       "      <td>091</td>\n",
       "      <td>40.0</td>\n",
       "      <td>PERS</td>\n",
       "      <td></td>\n",
       "      <td>...</td>\n",
       "      <td>0.0</td>\n",
       "      <td>0.0</td>\n",
       "      <td>1.0</td>\n",
       "      <td>0.0</td>\n",
       "      <td>0.0</td>\n",
       "      <td>BKN</td>\n",
       "      <td>UNK</td>\n",
       "      <td>UNK</td>\n",
       "      <td>LGT</td>\n",
       "      <td>Unknown</td>\n",
       "    </tr>\n",
       "    <tr>\n",
       "      <th>4</th>\n",
       "      <td>20001204X00004</td>\n",
       "      <td>Cessna</td>\n",
       "      <td>207</td>\n",
       "      <td>3800.0</td>\n",
       "      <td>AIR</td>\n",
       "      <td>SUBS</td>\n",
       "      <td>135</td>\n",
       "      <td>49.0</td>\n",
       "      <td>UNK</td>\n",
       "      <td></td>\n",
       "      <td>...</td>\n",
       "      <td>0.0</td>\n",
       "      <td>0.0</td>\n",
       "      <td>1.0</td>\n",
       "      <td>0.0</td>\n",
       "      <td>0.0</td>\n",
       "      <td>BKN</td>\n",
       "      <td>UNK</td>\n",
       "      <td>UNK</td>\n",
       "      <td>UNK</td>\n",
       "      <td>Descent</td>\n",
       "    </tr>\n",
       "    <tr>\n",
       "      <th>6</th>\n",
       "      <td>20001204X00006</td>\n",
       "      <td>Beech</td>\n",
       "      <td>300</td>\n",
       "      <td>14100.0</td>\n",
       "      <td>AIR</td>\n",
       "      <td>DEST</td>\n",
       "      <td>091</td>\n",
       "      <td>3.0</td>\n",
       "      <td>EXEC</td>\n",
       "      <td>GREENEVILLE</td>\n",
       "      <td>...</td>\n",
       "      <td>2.0</td>\n",
       "      <td>0.0</td>\n",
       "      <td>0.0</td>\n",
       "      <td>0.0</td>\n",
       "      <td>2.0</td>\n",
       "      <td>BKN</td>\n",
       "      <td>UNK</td>\n",
       "      <td>UNK</td>\n",
       "      <td>MOD</td>\n",
       "      <td>Approach</td>\n",
       "    </tr>\n",
       "    <tr>\n",
       "      <th>8</th>\n",
       "      <td>20001204X00008</td>\n",
       "      <td>Aero Commander</td>\n",
       "      <td>560A</td>\n",
       "      <td>6000.0</td>\n",
       "      <td>AIR</td>\n",
       "      <td>DEST</td>\n",
       "      <td>091</td>\n",
       "      <td>13.0</td>\n",
       "      <td>PERS</td>\n",
       "      <td></td>\n",
       "      <td>...</td>\n",
       "      <td>2.0</td>\n",
       "      <td>0.0</td>\n",
       "      <td>0.0</td>\n",
       "      <td>2.0</td>\n",
       "      <td>4.0</td>\n",
       "      <td>NONE</td>\n",
       "      <td>CLER</td>\n",
       "      <td>UNK</td>\n",
       "      <td>UNK</td>\n",
       "      <td>Approach</td>\n",
       "    </tr>\n",
       "  </tbody>\n",
       "</table>\n",
       "<p>5 rows × 31 columns</p>\n",
       "</div>"
      ],
      "text/plain": [
       "            ev_id                       acft_make            acft_model  \\\n",
       "1  20001204X00001  Boeing                          747-100                \n",
       "3  20001204X00003  Cessna                          172                    \n",
       "4  20001204X00004  Cessna                          207                    \n",
       "6  20001204X00006  Beech                           300                    \n",
       "8  20001204X00008  Aero Commander                  560A                   \n",
       "\n",
       "   cert_max_gr_wt acft_category damage far_part  afm_hrs_last_insp type_fly  \\\n",
       "1        750000.0          AIR    MINR     121               113.0     UNK    \n",
       "3          2300.0          AIR    SUBS     091                40.0     PERS   \n",
       "4          3800.0          AIR    SUBS     135                49.0     UNK    \n",
       "6         14100.0          AIR    DEST     091                 3.0     EXEC   \n",
       "8          6000.0          AIR    DEST     091                13.0     PERS   \n",
       "\n",
       "         dprt_city  ... Total_Fatal_Injuries  Total_Minor_Injuries  \\\n",
       "1  CHITOSE          ...                  0.0                   0.0   \n",
       "3                   ...                  0.0                   0.0   \n",
       "4                   ...                  0.0                   0.0   \n",
       "6  GREENEVILLE      ...                  2.0                   0.0   \n",
       "8                   ...                  2.0                   0.0   \n",
       "\n",
       "   Total_Uninjured Total_Serious_Injuries Total_Injuries_Flight sky_cond_ceil  \\\n",
       "1              4.0                    0.0                   0.0          NONE   \n",
       "3              1.0                    0.0                   0.0           BKN   \n",
       "4              1.0                    0.0                   0.0           BKN   \n",
       "6              0.0                    0.0                   2.0           BKN   \n",
       "8              0.0                    2.0                   4.0          NONE   \n",
       "\n",
       "  sky_cond_nonceil wind_vel_ind  wx_int_precip  phase_flt_spec  \n",
       "1             SCAT         CALM            UNK         Landing  \n",
       "3              UNK          UNK            LGT         Unknown  \n",
       "4              UNK          UNK            UNK         Descent  \n",
       "6              UNK          UNK            MOD        Approach  \n",
       "8             CLER          UNK            UNK        Approach  \n",
       "\n",
       "[5 rows x 31 columns]"
      ]
     },
     "execution_count": 9,
     "metadata": {},
     "output_type": "execute_result"
    }
   ],
   "source": [
    "#rename the injuries columns to make them easier to read\n",
    "final_data = final_data.rename(columns={\"inj_tot_f\": \"Total_Fatal_Injuries\", \"inj_tot_s\": \"Total_Serious_Injuries\",\"inj_tot_m\":\"Total_Minor_Injuries\",\"inj_tot_n\":'Total_Uninjured',\"inj_tot_t\":\"Total_Injuries_Flight\"})\n",
    "\n",
    "#fill in 0s when there wasn't an injury in that category\n",
    "final_data.update(final_data[['Total_Fatal_Injuries','Total_Serious_Injuries','Total_Minor_Injuries','Total_Uninjured','Total_Injuries_Flight','inj_f_grnd','inj_m_grnd','inj_s_grnd']].fillna(0))\n",
    "final_data.head()"
   ]
  },
  {
   "cell_type": "code",
   "execution_count": 10,
   "id": "9dbf7b58",
   "metadata": {},
   "outputs": [
    {
     "name": "stdout",
     "output_type": "stream",
     "text": [
      "<class 'pandas.core.frame.DataFrame'>\n",
      "Int64Index: 35427 entries, 1 to 115696\n",
      "Data columns (total 31 columns):\n",
      " #   Column                  Non-Null Count  Dtype  \n",
      "---  ------                  --------------  -----  \n",
      " 0   ev_id                   35427 non-null  object \n",
      " 1   acft_make               35427 non-null  object \n",
      " 2   acft_model              35427 non-null  object \n",
      " 3   cert_max_gr_wt          35427 non-null  float64\n",
      " 4   acft_category           35427 non-null  object \n",
      " 5   damage                  35427 non-null  object \n",
      " 6   far_part                35427 non-null  object \n",
      " 7   afm_hrs_last_insp       35427 non-null  float64\n",
      " 8   type_fly                35427 non-null  object \n",
      " 9   dprt_city               35427 non-null  object \n",
      " 10  dprt_state              35427 non-null  object \n",
      " 11  rwy_len                 35427 non-null  float64\n",
      " 12  rwy_width               35427 non-null  float64\n",
      " 13  ev_type                 35427 non-null  object \n",
      " 14  ev_city                 35427 non-null  object \n",
      " 15  ev_state                35427 non-null  object \n",
      " 16  ev_country              35427 non-null  object \n",
      " 17  ev_highest_injury       35427 non-null  object \n",
      " 18  inj_f_grnd              35427 non-null  float64\n",
      " 19  inj_m_grnd              35427 non-null  float64\n",
      " 20  inj_s_grnd              35427 non-null  float64\n",
      " 21  Total_Fatal_Injuries    35427 non-null  float64\n",
      " 22  Total_Minor_Injuries    35427 non-null  float64\n",
      " 23  Total_Uninjured         35427 non-null  float64\n",
      " 24  Total_Serious_Injuries  35427 non-null  float64\n",
      " 25  Total_Injuries_Flight   35427 non-null  float64\n",
      " 26  sky_cond_ceil           35427 non-null  object \n",
      " 27  sky_cond_nonceil        35427 non-null  object \n",
      " 28  wind_vel_ind            35427 non-null  object \n",
      " 29  wx_int_precip           35427 non-null  object \n",
      " 30  phase_flt_spec          35427 non-null  object \n",
      "dtypes: float64(12), object(19)\n",
      "memory usage: 8.6+ MB\n"
     ]
    }
   ],
   "source": [
    "#set missing variables to Unknown in order to run our models\n",
    "final_data.update(final_data.fillna(\"UNK\"))\n",
    "final_data.info()"
   ]
  },
  {
   "cell_type": "markdown",
   "id": "2775f324",
   "metadata": {},
   "source": [
    "We will be using code from this classes Github: \n",
    "https://github.com/jakemdrew/DataMiningNotebooks/blob/master/04.%20Logits%20and%20SVM.ipynb"
   ]
  },
  {
   "cell_type": "code",
   "execution_count": 11,
   "id": "7af3235e",
   "metadata": {},
   "outputs": [
    {
     "data": {
      "text/html": [
       "<div>\n",
       "<style scoped>\n",
       "    .dataframe tbody tr th:only-of-type {\n",
       "        vertical-align: middle;\n",
       "    }\n",
       "\n",
       "    .dataframe tbody tr th {\n",
       "        vertical-align: top;\n",
       "    }\n",
       "\n",
       "    .dataframe thead th {\n",
       "        text-align: right;\n",
       "    }\n",
       "</style>\n",
       "<table border=\"1\" class=\"dataframe\">\n",
       "  <thead>\n",
       "    <tr style=\"text-align: right;\">\n",
       "      <th></th>\n",
       "      <th>ev_id</th>\n",
       "      <th>acft_make</th>\n",
       "      <th>acft_model</th>\n",
       "      <th>cert_max_gr_wt</th>\n",
       "      <th>acft_category</th>\n",
       "      <th>damage</th>\n",
       "      <th>far_part</th>\n",
       "      <th>afm_hrs_last_insp</th>\n",
       "      <th>type_fly</th>\n",
       "      <th>dprt_city</th>\n",
       "      <th>...</th>\n",
       "      <th>Total_Uninjured</th>\n",
       "      <th>Total_Serious_Injuries</th>\n",
       "      <th>Total_Injuries_Flight</th>\n",
       "      <th>sky_cond_ceil</th>\n",
       "      <th>sky_cond_nonceil</th>\n",
       "      <th>wind_vel_ind</th>\n",
       "      <th>wx_int_precip</th>\n",
       "      <th>phase_flt_spec</th>\n",
       "      <th>Total_Injuries_Ground</th>\n",
       "      <th>Total_Injuries</th>\n",
       "    </tr>\n",
       "  </thead>\n",
       "  <tbody>\n",
       "    <tr>\n",
       "      <th>1</th>\n",
       "      <td>20001204X00001</td>\n",
       "      <td>Boeing</td>\n",
       "      <td>747-100</td>\n",
       "      <td>750000.0</td>\n",
       "      <td>AIR</td>\n",
       "      <td>MINR</td>\n",
       "      <td>121</td>\n",
       "      <td>113.0</td>\n",
       "      <td>UNK</td>\n",
       "      <td>CHITOSE</td>\n",
       "      <td>...</td>\n",
       "      <td>4.0</td>\n",
       "      <td>0.0</td>\n",
       "      <td>0.0</td>\n",
       "      <td>NONE</td>\n",
       "      <td>SCAT</td>\n",
       "      <td>CALM</td>\n",
       "      <td>UNK</td>\n",
       "      <td>Landing</td>\n",
       "      <td>0.0</td>\n",
       "      <td>0.0</td>\n",
       "    </tr>\n",
       "    <tr>\n",
       "      <th>3</th>\n",
       "      <td>20001204X00003</td>\n",
       "      <td>Cessna</td>\n",
       "      <td>172</td>\n",
       "      <td>2300.0</td>\n",
       "      <td>AIR</td>\n",
       "      <td>SUBS</td>\n",
       "      <td>091</td>\n",
       "      <td>40.0</td>\n",
       "      <td>PERS</td>\n",
       "      <td></td>\n",
       "      <td>...</td>\n",
       "      <td>1.0</td>\n",
       "      <td>0.0</td>\n",
       "      <td>0.0</td>\n",
       "      <td>BKN</td>\n",
       "      <td>UNK</td>\n",
       "      <td>UNK</td>\n",
       "      <td>LGT</td>\n",
       "      <td>Unknown</td>\n",
       "      <td>0.0</td>\n",
       "      <td>0.0</td>\n",
       "    </tr>\n",
       "    <tr>\n",
       "      <th>4</th>\n",
       "      <td>20001204X00004</td>\n",
       "      <td>Cessna</td>\n",
       "      <td>207</td>\n",
       "      <td>3800.0</td>\n",
       "      <td>AIR</td>\n",
       "      <td>SUBS</td>\n",
       "      <td>135</td>\n",
       "      <td>49.0</td>\n",
       "      <td>UNK</td>\n",
       "      <td></td>\n",
       "      <td>...</td>\n",
       "      <td>1.0</td>\n",
       "      <td>0.0</td>\n",
       "      <td>0.0</td>\n",
       "      <td>BKN</td>\n",
       "      <td>UNK</td>\n",
       "      <td>UNK</td>\n",
       "      <td>UNK</td>\n",
       "      <td>Descent</td>\n",
       "      <td>0.0</td>\n",
       "      <td>0.0</td>\n",
       "    </tr>\n",
       "    <tr>\n",
       "      <th>6</th>\n",
       "      <td>20001204X00006</td>\n",
       "      <td>Beech</td>\n",
       "      <td>300</td>\n",
       "      <td>14100.0</td>\n",
       "      <td>AIR</td>\n",
       "      <td>DEST</td>\n",
       "      <td>091</td>\n",
       "      <td>3.0</td>\n",
       "      <td>EXEC</td>\n",
       "      <td>GREENEVILLE</td>\n",
       "      <td>...</td>\n",
       "      <td>0.0</td>\n",
       "      <td>0.0</td>\n",
       "      <td>2.0</td>\n",
       "      <td>BKN</td>\n",
       "      <td>UNK</td>\n",
       "      <td>UNK</td>\n",
       "      <td>MOD</td>\n",
       "      <td>Approach</td>\n",
       "      <td>0.0</td>\n",
       "      <td>2.0</td>\n",
       "    </tr>\n",
       "    <tr>\n",
       "      <th>8</th>\n",
       "      <td>20001204X00008</td>\n",
       "      <td>Aero Commander</td>\n",
       "      <td>560A</td>\n",
       "      <td>6000.0</td>\n",
       "      <td>AIR</td>\n",
       "      <td>DEST</td>\n",
       "      <td>091</td>\n",
       "      <td>13.0</td>\n",
       "      <td>PERS</td>\n",
       "      <td></td>\n",
       "      <td>...</td>\n",
       "      <td>0.0</td>\n",
       "      <td>2.0</td>\n",
       "      <td>4.0</td>\n",
       "      <td>NONE</td>\n",
       "      <td>CLER</td>\n",
       "      <td>UNK</td>\n",
       "      <td>UNK</td>\n",
       "      <td>Approach</td>\n",
       "      <td>0.0</td>\n",
       "      <td>4.0</td>\n",
       "    </tr>\n",
       "  </tbody>\n",
       "</table>\n",
       "<p>5 rows × 33 columns</p>\n",
       "</div>"
      ],
      "text/plain": [
       "            ev_id                       acft_make            acft_model  \\\n",
       "1  20001204X00001  Boeing                          747-100                \n",
       "3  20001204X00003  Cessna                          172                    \n",
       "4  20001204X00004  Cessna                          207                    \n",
       "6  20001204X00006  Beech                           300                    \n",
       "8  20001204X00008  Aero Commander                  560A                   \n",
       "\n",
       "   cert_max_gr_wt acft_category damage far_part  afm_hrs_last_insp type_fly  \\\n",
       "1        750000.0          AIR    MINR     121               113.0     UNK    \n",
       "3          2300.0          AIR    SUBS     091                40.0     PERS   \n",
       "4          3800.0          AIR    SUBS     135                49.0     UNK    \n",
       "6         14100.0          AIR    DEST     091                 3.0     EXEC   \n",
       "8          6000.0          AIR    DEST     091                13.0     PERS   \n",
       "\n",
       "         dprt_city  ... Total_Uninjured  Total_Serious_Injuries  \\\n",
       "1  CHITOSE          ...             4.0                     0.0   \n",
       "3                   ...             1.0                     0.0   \n",
       "4                   ...             1.0                     0.0   \n",
       "6  GREENEVILLE      ...             0.0                     0.0   \n",
       "8                   ...             0.0                     2.0   \n",
       "\n",
       "   Total_Injuries_Flight sky_cond_ceil sky_cond_nonceil wind_vel_ind  \\\n",
       "1                    0.0          NONE             SCAT         CALM   \n",
       "3                    0.0           BKN              UNK          UNK   \n",
       "4                    0.0           BKN              UNK          UNK   \n",
       "6                    2.0           BKN              UNK          UNK   \n",
       "8                    4.0          NONE             CLER          UNK   \n",
       "\n",
       "  wx_int_precip phase_flt_spec  Total_Injuries_Ground  Total_Injuries  \n",
       "1           UNK        Landing                    0.0             0.0  \n",
       "3           LGT        Unknown                    0.0             0.0  \n",
       "4           UNK        Descent                    0.0             0.0  \n",
       "6           MOD       Approach                    0.0             2.0  \n",
       "8           UNK       Approach                    0.0             4.0  \n",
       "\n",
       "[5 rows x 33 columns]"
      ]
     },
     "execution_count": 11,
     "metadata": {},
     "output_type": "execute_result"
    }
   ],
   "source": [
    "#we want to account for ALL injuries. This includes injuries on the ground as well as passangers\n",
    "#Here we will make a new column that shows total injuries including ground ones\n",
    "final_data['Total_Injuries_Ground'] = final_data['inj_f_grnd']+final_data['inj_m_grnd']+final_data['inj_s_grnd']\n",
    "final_data['Total_Injuries'] = final_data['Total_Injuries_Ground']+final_data['Total_Injuries_Flight']\n",
    "final_data.head()"
   ]
  },
  {
   "cell_type": "code",
   "execution_count": 12,
   "id": "a3217b4b",
   "metadata": {},
   "outputs": [
    {
     "data": {
      "text/html": [
       "<div>\n",
       "<style scoped>\n",
       "    .dataframe tbody tr th:only-of-type {\n",
       "        vertical-align: middle;\n",
       "    }\n",
       "\n",
       "    .dataframe tbody tr th {\n",
       "        vertical-align: top;\n",
       "    }\n",
       "\n",
       "    .dataframe thead th {\n",
       "        text-align: right;\n",
       "    }\n",
       "</style>\n",
       "<table border=\"1\" class=\"dataframe\">\n",
       "  <thead>\n",
       "    <tr style=\"text-align: right;\">\n",
       "      <th></th>\n",
       "      <th>index</th>\n",
       "      <th>Injury</th>\n",
       "    </tr>\n",
       "  </thead>\n",
       "  <tbody>\n",
       "    <tr>\n",
       "      <th>0</th>\n",
       "      <td>1</td>\n",
       "      <td>18750</td>\n",
       "    </tr>\n",
       "    <tr>\n",
       "      <th>1</th>\n",
       "      <td>0</td>\n",
       "      <td>16677</td>\n",
       "    </tr>\n",
       "  </tbody>\n",
       "</table>\n",
       "</div>"
      ],
      "text/plain": [
       "   index  Injury\n",
       "0      1   18750\n",
       "1      0   16677"
      ]
     },
     "execution_count": 12,
     "metadata": {},
     "output_type": "execute_result"
    }
   ],
   "source": [
    "#create a new column of injuried or not to get a binary response\n",
    "#1 means someone was hurt 0 means someone was not\n",
    "final_data['Injury'] = np.where(final_data['Total_Injuries'] >0,1,0)\n",
    "injuries = final_data[\"Injury\"].value_counts().reset_index()\n",
    "injuries.head(50)"
   ]
  },
  {
   "cell_type": "code",
   "execution_count": 13,
   "id": "c8649fa0",
   "metadata": {},
   "outputs": [
    {
     "data": {
      "text/plain": [
       "<AxesSubplot:xlabel='Injury', ylabel='count'>"
      ]
     },
     "execution_count": 13,
     "metadata": {},
     "output_type": "execute_result"
    },
    {
     "data": {
      "image/png": "[encoded data removed]",
      "text/plain": [
       "<Figure size 432x288 with 1 Axes>"
      ]
     },
     "metadata": {},
     "output_type": "display_data"
    }
   ],
   "source": [
    "final_data['Injury'].value_counts()\n",
    "\n",
    "sns.countplot(x='Injury',data=final_data,palette='hls')"
   ]
  },
  {
   "cell_type": "code",
   "execution_count": 14,
   "id": "af720631",
   "metadata": {},
   "outputs": [
    {
     "name": "stdout",
     "output_type": "stream",
     "text": [
      "<class 'pandas.core.frame.DataFrame'>\n",
      "Int64Index: 35427 entries, 1 to 115696\n",
      "Data columns (total 34 columns):\n",
      " #   Column                  Non-Null Count  Dtype  \n",
      "---  ------                  --------------  -----  \n",
      " 0   ev_id                   35427 non-null  object \n",
      " 1   acft_make               35427 non-null  object \n",
      " 2   acft_model              35427 non-null  object \n",
      " 3   cert_max_gr_wt          35427 non-null  float64\n",
      " 4   acft_category           35427 non-null  object \n",
      " 5   damage                  35427 non-null  object \n",
      " 6   far_part                35427 non-null  object \n",
      " 7   afm_hrs_last_insp       35427 non-null  float64\n",
      " 8   type_fly                35427 non-null  object \n",
      " 9   dprt_city               35427 non-null  object \n",
      " 10  dprt_state              35427 non-null  object \n",
      " 11  rwy_len                 35427 non-null  float64\n",
      " 12  rwy_width               35427 non-null  float64\n",
      " 13  ev_type                 35427 non-null  object \n",
      " 14  ev_city                 35427 non-null  object \n",
      " 15  ev_state                35427 non-null  object \n",
      " 16  ev_country              35427 non-null  object \n",
      " 17  ev_highest_injury       35427 non-null  object \n",
      " 18  inj_f_grnd              35427 non-null  float64\n",
      " 19  inj_m_grnd              35427 non-null  float64\n",
      " 20  inj_s_grnd              35427 non-null  float64\n",
      " 21  Total_Fatal_Injuries    35427 non-null  float64\n",
      " 22  Total_Minor_Injuries    35427 non-null  float64\n",
      " 23  Total_Uninjured         35427 non-null  float64\n",
      " 24  Total_Serious_Injuries  35427 non-null  float64\n",
      " 25  Total_Injuries_Flight   35427 non-null  float64\n",
      " 26  sky_cond_ceil           35427 non-null  object \n",
      " 27  sky_cond_nonceil        35427 non-null  object \n",
      " 28  wind_vel_ind            35427 non-null  object \n",
      " 29  wx_int_precip           35427 non-null  object \n",
      " 30  phase_flt_spec          35427 non-null  object \n",
      " 31  Total_Injuries_Ground   35427 non-null  float64\n",
      " 32  Total_Injuries          35427 non-null  float64\n",
      " 33  Injury                  35427 non-null  int32  \n",
      "dtypes: float64(14), int32(1), object(19)\n",
      "memory usage: 10.3+ MB\n"
     ]
    }
   ],
   "source": [
    "final_data.info()"
   ]
  },
  {
   "cell_type": "code",
   "execution_count": 15,
   "id": "8cc3fdab",
   "metadata": {},
   "outputs": [],
   "source": [
    "#delete the index column called \"Unnamed: 0\"\n",
    "final_df = final_data.copy()\n",
    "#Since we added up all of our injuries we don't need the other columns that include injury count since it will be colinear to our prediction variable\n",
    "final_df = final_df.drop(['Total_Fatal_Injuries','Total_Serious_Injuries','Total_Minor_Injuries','Total_Uninjured','Total_Injuries_Flight','inj_f_grnd','inj_m_grnd','inj_s_grnd','Total_Injuries_Ground',\"Total_Injuries\",\"ev_id\", \"dprt_city\"],axis = 1)"
   ]
  },
  {
   "cell_type": "code",
   "execution_count": 16,
   "id": "dc385d7a",
   "metadata": {},
   "outputs": [],
   "source": [
    "X = final_df.drop(\"Injury\", axis = 1).copy()\n",
    "y = final_df[\"Injury\"].copy()"
   ]
  },
  {
   "cell_type": "markdown",
   "id": "49a85815",
   "metadata": {},
   "source": [
    "Do not run this cell!!"
   ]
  },
  {
   "cell_type": "code",
   "execution_count": 17,
   "id": "a7e6e041",
   "metadata": {},
   "outputs": [],
   "source": [
    "# from sklearn.preprocessing import StandardScaler, OneHotEncoder\n",
    "\n",
    "# # Define which columns should be encoded vs scaled\n",
    "# #Categorical columns to convert to one hot encoding\n",
    "# columns_to_encode = ['acft_make',\"acft_model\",\"acft_category\", \"damage\",\n",
    "#                      \"far_part\",\"type_fly\",\"dprt_state\",\n",
    "#                      \"ev_type\",\"ev_city\",\"ev_state\",\"ev_country\",\n",
    "#                      \"ev_highest_injury\",\"sky_cond_ceil\",\n",
    "#                      \"sky_cond_nonceil\",\"wind_vel_ind\",\"wx_int_precip\",\n",
    "#                      \"phase_flt_spec\"]\n",
    "# #Continuous columns to be scaled\n",
    "# columns_to_scale  = ['cert_max_gr_wt', 'afm_hrs_last_insp',\n",
    "#                      'rwy_len',\"rwy_width\"]\n",
    "\n",
    "# # Instantiate encoder/scaler\n",
    "# scaler = StandardScaler()\n",
    "# ohe = OneHotEncoder(drop=\"first\")\n",
    "\n",
    "# # Scale and Encode Separate Columns\n",
    "# scaled_columns = scaler.fit(X[columns_to_scale]) \n",
    "# a = scaled_columns.transform(X)\n",
    "# encoded_columns = ohe.fit(X[columns_to_encode])\n",
    "# b = encoded_columns.transform(X)\n",
    "# # Concatenate (Column-Bind) Processed Columns Back Together\n",
    "# c = np.concatenate([a, b], axis=1)"
   ]
  },
  {
   "cell_type": "markdown",
   "id": "d43c7824",
   "metadata": {},
   "source": [
    "# One hot encoding"
   ]
  },
  {
   "cell_type": "code",
   "execution_count": 18,
   "id": "ecf66ad6",
   "metadata": {},
   "outputs": [
    {
     "data": {
      "text/plain": [
       "<35427x25112 sparse matrix of type '<class 'numpy.float64'>'\n",
       "\twith 646102 stored elements in Compressed Sparse Row format>"
      ]
     },
     "execution_count": 18,
     "metadata": {},
     "output_type": "execute_result"
    }
   ],
   "source": [
    "from sklearn.preprocessing import OneHotEncoder\n",
    "encoder = OneHotEncoder(drop=\"first\")\n",
    "encoder.fit(X)\n",
    "X = encoder.transform(X)\n",
    "X"
   ]
  },
  {
   "cell_type": "code",
   "execution_count": 19,
   "id": "e2b0dcd5",
   "metadata": {},
   "outputs": [
    {
     "data": {
      "text/plain": [
       "array([0, 0, 0, ..., 1, 1, 1], dtype=int64)"
      ]
     },
     "execution_count": 19,
     "metadata": {},
     "output_type": "execute_result"
    }
   ],
   "source": [
    "from sklearn import preprocessing\n",
    "le = preprocessing.LabelEncoder()\n",
    "le.fit(y)\n",
    "y = le.transform(y)\n",
    "y"
   ]
  },
  {
   "cell_type": "markdown",
   "id": "457c77eb",
   "metadata": {},
   "source": [
    "# Train/test split"
   ]
  },
  {
   "cell_type": "code",
   "execution_count": 20,
   "id": "8309cb3f",
   "metadata": {},
   "outputs": [],
   "source": [
    "from sklearn.model_selection import train_test_split\n",
    "X_train, X_test, y_train, y_test = train_test_split(X, y, test_size=0.20, random_state=42)"
   ]
  },
  {
   "cell_type": "code",
   "execution_count": 21,
   "id": "c48b9ee7",
   "metadata": {},
   "outputs": [],
   "source": [
    "from sklearn.preprocessing import StandardScaler\n",
    "\n",
    "scl_obj = StandardScaler(with_mean=False)\n",
    "scl_obj.fit(X_train) \n",
    "\n",
    "X_train_scaled = scl_obj.transform(X_train) \n",
    "X_test_scaled = scl_obj.transform(X_test)"
   ]
  },
  {
   "cell_type": "code",
   "execution_count": 22,
   "id": "cf91303d",
   "metadata": {},
   "outputs": [],
   "source": [
    "from sklearn.linear_model import LogisticRegression\n",
    "logisticRegr = LogisticRegression(class_weight=\"balanced\")\n",
    "logisticRegr.fit(X_train, y_train)\n",
    "y_hat = logisticRegr.predict(X_test)"
   ]
  },
  {
   "cell_type": "code",
   "execution_count": 23,
   "id": "c8365f1d",
   "metadata": {},
   "outputs": [
    {
     "name": "stdout",
     "output_type": "stream",
     "text": [
      "0.9992943832909963\n",
      "[[3330    5]\n",
      " [   0 3751]]\n"
     ]
    }
   ],
   "source": [
    "from sklearn import metrics as mt\n",
    "acc = mt.accuracy_score(y_test,y_hat)\n",
    "conf = mt.confusion_matrix(y_test,y_hat)\n",
    "print(acc)\n",
    "print(conf)"
   ]
  },
  {
   "cell_type": "markdown",
   "id": "e3626e7c",
   "metadata": {},
   "source": [
    "final_data"
   ]
  },
  {
   "cell_type": "markdown",
   "id": "8114799b",
   "metadata": {},
   "source": [
    "Here, we looked to see if there were any variables that may be too coorlated with our regression. We got a 99% prediction rate which told us we had a variable that should be considered \"unknown\" We removed ev_highest_injury which should be treated as unknown. This fixes our issues of too high of accurcy."
   ]
  },
  {
   "cell_type": "markdown",
   "id": "98741685",
   "metadata": {},
   "source": [
    "# Final Models: USE THIS HOMIES"
   ]
  },
  {
   "cell_type": "code",
   "execution_count": 24,
   "id": "a5318991",
   "metadata": {},
   "outputs": [],
   "source": [
    "df = final_df.copy()\n",
    "del df['ev_highest_injury']"
   ]
  },
  {
   "cell_type": "code",
   "execution_count": 25,
   "id": "8f3c63bb",
   "metadata": {},
   "outputs": [],
   "source": [
    "X = df.drop(\"Injury\", axis = 1).copy()\n",
    "y = df[\"Injury\"].copy()"
   ]
  },
  {
   "cell_type": "code",
   "execution_count": 26,
   "id": "1d927ccb",
   "metadata": {},
   "outputs": [],
   "source": [
    "#one hot encoding with proper model\n",
    "from sklearn.preprocessing import OneHotEncoder\n",
    "encoder = OneHotEncoder(drop=\"first\")\n",
    "encoder.fit(X)\n",
    "X = encoder.transform(X)\n",
    "from sklearn import preprocessing\n",
    "# le = preprocessing.LabelEncoder()\n",
    "# le.fit(y)\n",
    "# y = le.transform(y)"
   ]
  },
  {
   "cell_type": "code",
   "execution_count": 27,
   "id": "af3d0323",
   "metadata": {},
   "outputs": [],
   "source": [
    "from sklearn.model_selection import train_test_split\n",
    "X_train, X_test, y_train, y_test = train_test_split(X, y, test_size=0.20, random_state=42)"
   ]
  },
  {
   "cell_type": "code",
   "execution_count": 28,
   "id": "3f444583",
   "metadata": {},
   "outputs": [],
   "source": [
    "from sklearn.preprocessing import StandardScaler\n",
    "# scale attributes by the training set\n",
    "scl_obj = StandardScaler(with_mean=False)\n",
    "scl_obj.fit(X_train) # find scalings for each column that make this zero mean and unit std\n",
    "# the line of code above only looks at training data to get mean and std and we can use it \n",
    "# to transform new feature data\n",
    "\n",
    "X_train_scaled = scl_obj.transform(X_train) # apply to training\n",
    "X_test_scaled = scl_obj.transform(X_test)"
   ]
  },
  {
   "cell_type": "markdown",
   "id": "9b806dff",
   "metadata": {},
   "source": [
    "# Cross Validation"
   ]
  },
  {
   "cell_type": "code",
   "execution_count": 29,
   "id": "793c4658",
   "metadata": {},
   "outputs": [
    {
     "name": "stdout",
     "output_type": "stream",
     "text": [
      "ShuffleSplit(n_splits=10, random_state=None, test_size=0.2, train_size=None)\n"
     ]
    }
   ],
   "source": [
    "from sklearn.model_selection import ShuffleSplit\n",
    "\n",
    "num_cv_iterations = 10\n",
    "num_instances = len(y)\n",
    "cv_object = ShuffleSplit(n_splits=num_cv_iterations,\n",
    "                         test_size  = 0.2)\n",
    "                         \n",
    "print(cv_object)"
   ]
  },
  {
   "cell_type": "code",
   "execution_count": 30,
   "id": "b01f573f",
   "metadata": {},
   "outputs": [
    {
     "ename": "KeyError",
     "evalue": "'[28140, 27594, 33342, 11564, 18221, 19903, 34504, 33755, 2369, 13177, 23917, 3534, 23478, 178, 31368, 14776, 30534, 12877, 30666, 26644, 3827, 32546, 17765, 22268, 19422, 4213, 17285, 2016, 5215, 13129, 25334, 32308, 9802, 16431, 23417, 5720, 25863, 20119, 25223, 9404, 10385, 7720, 3566, 16908, 25318, 14392, 3630, 28888, 17357, 12259, 7928, 15675, 12297, 24208, 25054, 21823, 4976, 15182, 33029, 34362, 35187, 26300, 9343, 19014, 5531, 21491, 31939, 16133, 34127, 12673, 19753, 2962, 22639, 8244, 1350, 4426, 25491, 30161, 31125, 23984, 12931, 23012, 5533, 13789, 1524, 27894, 19765, 2679, 31305, 14643, 2441, 21431, 1509, 22316, 29729, 3250, 886, 14787, 7874, 18242, 8365, 18502, 33012, 6683, 14864, 2230, 9807, 24861, 5435, 26029, 33797, 20427, 15067, 2125, 7194, 27325, 8132, 7333, 11384, 34955, 25382, 32182, 20523, 14356, 10587, 5994, 4052, 17404, 15704, 21316, 33612, 28830, 27054, 1071, 9381, 29889, 26489, 34961, 8763, 34535, 19514, 19878, 11572, 20741, 14953, 3203, 15711, 14920, 23889, 3524, 13958, 13023, 1302, 24485, 3425, 11532, 18875, 1485, 9193, 2952, 30986, 15953, 11719, 20880, 2, 21765, 2706, 35146, 27070, 21205, 6018, 4960, 9298, 15270, 12258, 10880, 28838, 14130, 31434, 19467, 19061, 34573, 5482, 33792, 3981, 11461, 2015, 33625, 11257, 19469, 21804, 2466, 16372, 5470, 33604, 17982, 25983, 17576, 22610, 19557, 4848, 5816, 20295, 7705, 20800, 32616, 21776, 1651, 35095, 13595, 21098, 5931, 3780, 11650, 2719, 5706, 13437, 28423, 22215, 976, 18333, 12687, 19831, 13827, 16478, 21360, 1765, 16919, 26555, 31818, 11784, 19592, 5909, 30648, 3334, 30938, 2017, 32304, 7332, 1387, 13223, 30435, 1074, 22164, 20387, 25469, 28703, 102, 9113, 7369, 28169, 20572, 2029, 18605, 22999, 6046, 3043, 17907, 32461, 35021, 9352, 21182, 3759, 12442, 14088, 30767, 19436, 8917, 21319, 10501, 19763, 3777, 20462, 16501, 13497, 7156, 7021, 18463, 7355, 26530, 11651, 19556, 22754, 1286, 31983, 19083, 16296, 20173, 18065, 32653, 20819, 10860, 8695, 10250, 1617, 31852, 17846, 1570, 20052, 5599, 33697, 8842, 26564, 20935, 14160, 19712, 26083, 13294, 20348, 34466, 33769, 22166, 27194, 20702, 32092, 6483, 11321, 23886, 14360, 17717, 25704, 14764, 5017, 32521, 33668, 1236, 9558, 31851, 13903, 29182, 1496, 29833, 33384, 25637, 13176, 15440, 1868, 7338, 19598, 23454, 23627, 11392, 12252, 4723, 26863, 10807, 13321, 1944, 34011, 30273, 12026, 17273, 5019, 9951, 31981, 8292, 2259, 10972, 24107, 22187, 323, 24542, 28073, 10816, 9502, 30281, 33981, 10937, 30339, 19015, 21476, 8932, 34951, 10857, 2645, 11595, 7706, 14095, 31154, 1577, 7911, 15549, 28689, 8643, 29402, 5014, 15918, 35253, 18816, 19967, 16605, 14358, 5122, 21949, 20718, 1801, 31044, 29962, 6522, 12864, 31096, 34305, 25575, 4615, 15792, 6450, 359, 23200, 5176, 20560, 13673, 2955, 14607, 1796, 14191, 12626, 32818, 8175, 20324, 9312, 13613, 34877, 30379, 29589, 13174, 13555, 2508, 34107, 3150, 30449, 16834, 9437, 8293, 26229, 29503, 25532, 30118, 16229, 31987, 14121, 114, 7875, 546, 4207, 312, 23833, 31685, 33338, 9598, 23972, 1912, 13605, 17555, 3933, 7085, 29140, 14233, 6489, 28370, 14558, 4501, 17819, 10599, 10074, 30113, 1492, 11198, 9501, 2699, 29204, 32195, 3011, 21618, 11909, 33908, 23524, 32402, 34742, 17500, 10144, 16096, 3564, 29863, 6890, 8123, 31178, 29511, 21619, 12588, 26077, 11433, 18400, 514, 7882, 34564, 19856, 29073, 11512, 6928, 11694, 21914, 31807, 29581, 23974, 25414, 23435, 34813, 32689, 17085, 33364, 13520, 30436, 19134, 25545, 7470, 31446, 32169, 18244, 12137, 10760, 7825, 8973, 15837, 31321, 24796, 7637, 18178, 11146, 27809, 34312, 11639, 7938, 26612, 16548, 11083, 778, 14080, 19684, 12859, 30514, 21412, 20515, 13639, 10933, 31093, 12537, 11728, 7648, 11874, 6681, 10233, 30739, 6290, 15804, 19235, 22315, 13704, 13005, 6687, 34539, 20573, 18029, 3831, 35297, 4529, 12908, 4203, 10067, 13265, 11583, 3805, 16928, 10041, 9654, 10418, 8911, 15422, 26241, 3735, 14788, 8534, 20491, 29783, 20264, 9843, 27428, 18803, 12468, 26966, 1565, 30676, 3320, 29574, 12375, 4651, 33085, 3797, 3201, 15413, 32970, 17771, 23427, 21446, 16116, 16196, 5135, 15319, 13804, 2808, 15663, 14205, 20708, 20042, 19759, 31318, 22331, 21117, 32693, 16896, 7378, 9378, 1013, 106, 1936, 15678, 1777, 4738, 5881, 24070, 24387, 7354, 23389, 24063, 27407, 27543, 21921, 31508, 29004, 21119, 775, 34445, 19184, 10450, 14177, 31650, 14946, 4543, 9754, 25162, 15655, 22437, 30517, 12030, 31779, 8694, 20436, 33449, 24239, 4499, 439, 13682, 10831, 31956, 4673, 10387, 22396, 3131, 21759, 33515, 12638, 31165, 4044, 24567, 13299, 6540, 28120, 20367, 11510, 16880, 19928, 2753, 26569, 1179, 11712, 20220, 30109, 19074, 23429, 6453, 5231, 153, 23522, 18763, 24556, 10134, 32084, 16227, 33066, 1036, 20601, 22224, 31901, 19849, 27515, 15984, 7525, 32201, 3195, 22559, 26221, 35301, 31306, 19749, 12533, 14099, 30202, 18344, 15235, 18256, 12836, 8898, 7172, 26302, 22965, 6577, 12844, 21497, 28605, 22085, 22407, 24439, 17025, 2428, 12861, 33076, 14074, 8589, 1520, 34787, 11044, 6456, 2748, 12712, 70, 27218, 16455, 34051, 8756, 14418, 33705, 10068, 5949, 21445, 7672, 8709, 8210, 21198, 31641, 75, 31249, 26558, 20222, 14541, 19908, 28310, 3487, 11319, 8644, 22589, 9552, 7008, 19546, 6267, 33282, 19973, 3878, 22046, 14703, 19495, 2406, 12857, 18770, 7446, 17778, 13432, 19188, 13343, 2764, 6048, 26288, 3253, 62, 33897, 34522, 1287, 15394, 11756, 27203, 6238, 2197, 7528, 9127, 18306, 10878, 364, 6555, 3391, 34629, 4164, 24913, 34294, 14872, 3434, 9941, 4150, 30076, 13506, 9953, 29543, 7755, 16336, 2196, 30502, 6467, 12683, 24999, 8781, 20333, 3110, 24418, 27030, 2246, 17543, 32617, 2616, 7000, 26492, 30128, 16188, 9123, 20585, 5958, 32883, 32264, 21148, 11562, 11161, 16689, 7184, 31827, 15241, 9466, 15976, 12640, 33050, 7063, 13368, 35078, 3152, 30663, 24513, 6925, 22351, 17174, 23714, 17197, 6613, 31021, 10674, 18600, 18340, 612, 4669, 17607, 22217, 24936, 3786, 28687, 35174, 6012, 31023, 26651, 2182, 3651, 4214, 1863, 2164, 10981, 7851, 16596, 15040, 27954, 33728, 19109, 32405, 5334, 33841, 16315, 13059, 2874, 32141, 29115, 8739, 207, 2348, 10324, 27815, 13842, 6990, 2014, 35000, 13360, 16907, 7527, 15407, 3379, 8280, 17433, 20453, 24016, 34804, 27670, 29635, 19473, 5226, 11101, 18992, 12540, 8764, 10302, 18218, 32722, 17386, 13298, 34749, 30538, 32708, 4322, 22817, 8654, 1403, 4431, 31984, 15384, 6299, 12854, 2377, 1420, 701, 11828, 32598, 18248, 18088, 31248, 6480, 15291, 2713, 28279, 30121, 16642, 21652, 4194, 15084, 12393, 25327, 20115, 8438, 33260, 12145, 4333, 24854, 23172, 6328, 16170, 1646, 23691, 21142, 14006, 10156, 18599, 17912, 34313, 31070, 5542, 7522, 21422, 29819, 13743, 2529, 6593, 15442, 26799, 18598, 18092, 15572, 20414, 27724, 7257, 3881, 8820, 1900, 31909, 20650, 3516, 5971, 13654, 25186, 6338, 11980, 4661, 8187, 34759, 3719, 19607, 19804, 25424, 16848, 33383, 3125, 34153, 35392, 21579, 15854, 13806, 4768, 34507, 9423, 261, 20155, 31669, 26493, 23313, 29653, 14467, 18702, 11735, 31135, 35352, 6962, 21696, 9894, 16988, 20167, 10389, 33241, 17281, 1307, 28382, 14522, 13853, 21327, 19351, 12450, 15885, 2807, 12506, 24068, 5345, 11195, 8554, 20840, 31569, 31469, 11402, 29841, 34658, 35299, 15840, 22136, 19477, 2689, 1423, 12419, 11653, 16870, 9944, 19956, 18656, 24471, 33555, 26875, 9799, 29854, 8704, 16992, 4594, 6909, 23244, 5459, 29811, 7655, 35178, 17299, 8276, 33351, 32111, 24161, 28447, 4883, 22022, 14777, 13826, 4299, 23153, 13793, 34923, 4027, 29172, 3783, 7182, 8749, 19836, 12425, 4142, 8279, 10574, 35209, 33394, 11839, 6435, 10063, 5416, 6625, 20024, 33007, 31613, 10113, 6986, 25460, 14232, 11430, 11200, 28508, 13593, 4807, 31518, 16146, 22465, 7088, 3113, 9138, 14512, 7737, 31110, 23777, 20513, 33794, 7775, 15628, 27686, 28427, 20841, 13675, 9518, 32474, 17842, 16272, 16969, 5230, 14437, 1083, 14824, 23114, 4237, 16786, 638, 33185, 28425, 8303, 16225, 6466, 4635, 25905, 12647, 34465, 1549, 6037, 14504, 5770, 22183, 3161, 26270, 13621, 25176, 5029, 30170, 6710, 6995, 21554, 10379, 9031, 33414, 21722, 3802, 7301, 18423, 19734, 4475, 9169, 29496, 31671, 31778, 32166, 12560, 2849, 30059, 6372, 24619, 8745, 19933, 16469, 27339, 23439, 15122, 19305, 6893, 26560, 20623, 2853, 25404, 32412, 18962, 9174, 9983, 3488, 22110, 22209, 19799, 16079, 20280, 605, 6820, 4670, 13563, 9695, 28589, 7601, 9431, 12866, 32404, 10961, 2974, 17575, 8386, 14592, 9565, 14183, 13776, 17990, 19431, 4087, 2651, 13445, 3418, 16424, 9739, 12482, 21283, 21507, 5158, 22044, 32057, 34374, 24539, 31481, 31589, 18279, 16700, 17182, 10547, 11286, 19832, 34597, 18341, 33390, 233, 16357, 15598, 21281, 26888, 14621, 17092, 24675, 4702, 26599, 32009, 15646, 9130, 18316, 890, 14016, 34199, 22279, 29175, 28834, 656, 3801, 29207, 20636, 11333, 17618, 1854, 5410, 6063, 21407, 23141, 21890, 27341, 20094, 8940, 17660, 27320, 35363, 8121, 6672, 28540, 21202, 29671, 35073, 26852, 18369, 899, 11230, 4758, 5925, 19925, 9467, 1696, 23247, 4678, 795, 35229, 29984, 9249, 29732, 5147, 31080, 24260, 28347, 10084, 18983, 18868, 8505, 15273, 12705, 17424, 15785, 11415, 14699, 3832, 33041, 11118, 23378, 3038, 16147, 13832, 26914, 7238, 887, 17187, 31272, 31099, 30702, 29142, 6086, 33660, 33874, 20370, 33429, 3492, 17685, 15686, 9224, 15478, 11174, 25029, 32214, 3986, 14060, 19516, 5763, 19362, 18787, 18429, 14198, 3465, 8676, 1463, 11509, 17742, 22449, 6922, 9742, 5928, 10598, 9625, 35405, 19932, 3686, 5627, 23285, 8054, 20713, 14579, 9582, 14185, 19129, 8320, 14064, 19503, 21883, 15875, 6395, 30383, 31465, 10184, 32540, 7671, 28099, 20997, 34277, 8113, 1503, 27760, 34585, 6617, 12352, 32886, 32553, 14417, 25368, 16099, 22080, 14753, 9735, 31118, 32806, 3258, 10140, 33167, 30557, 3259, 3715, 22182, 26622, 19158, 2039, 22736, 7912, 18014, 15267, 25350, 13384, 27286, 20688, 15464, 30300, 11231, 16348, 21486, 30380, 31312, 29333, 26174, 885, 12704, 32727, 2818, 31556, 21456, 2074, 19086, 7603, 26795, 30129, 11996, 21195, 2665, 14344, 31784, 10852, 22943, 22038, 3629, 1849, 565, 27500, 3098, 34552, 34464, 21735, 17960, 1596, 8417, 20968, 18660, 12761, 6548, 17701, 35266, 15013, 5076, 19774, 34100, 4345, 13753, 20812, 20516, 14678, 29192, 18802, 4058, 5216, 2213, 5787, 1065, 20385, 34970, 17905, 20878, 16681, 13973, 33941, 1085, 2723, 22597, 12677, 11672, 25676, 1271, 6709, 21543, 20615, 12065, 6877, 11568, 12517, 1727, 11974, 3466, 18588, 6141, 33879, 33191, 33551, 4551, 12598, 3279, 30926, 1748, 28068, 19814, 19652, 1141, 6772, 3985, 22097, 24267, 31885, 20759, 17139, 26140, 17152, 22863, 23266, 1835, 31645, 17522, 22252, 28019, 25539, 23426, 24672, 18966, 7606, 30744, 30623, 33147, 12154, 3030, 29663, 26901, 14736, 700, 10544, 16723, 4162, 6009, 11267, 28489, 35218, 28976, 25312, 13233, 12132, 27591, 7209, 14576, 4847, 24256, 4211, 27165, 10883, 25123, 17368, 17020, 10832, 15805, 23904, 32993, 32407, 24416, 2997, 31864, 5687, 24377, 31897, 20608, 5436, 21515, 23448, 16081, 33634, 26849, 14769, 8493, 8573, 16286, 29695, 1425, 20216, 16964, 34428, 285, 29566, 1859, 17697, 21311, 32134, 13505, 41, 23943, 16203, 19602, 31816, 24874, 13970, 469, 8660, 12688, 2934, 15495, 30840, 4566, 22298, 33022, 33919, 18501, 11350, 15652, 31565, 19519, 7187, 4561, 2472, 22487, 29335, 2796, 18976, 25138, 15809, 19240, 9774, 24448, 22185, 25929, 9005, 26133, 6157, 26551, 16822, 23895, 23526, 33840, 3583, 8903, 23970, 4056, 25697, 14507, 17359, 35412, 13184, 17260, 32260, 16724, 19446, 1641, 11312, 1128, 26646, 27242, 6583, 5245, 7976, 13915, 10107, 5297, 15611, 32441, 34982, 17689, 1595, 21835, 21365, 34583, 7047, 4107, 34181, 14707, 29680, 30493, 2832, 8735, 1799, 27150, 7069, 19698, 601, 13666, 5438, 3107, 12865, 10016, 4600, 15261, 12934, 1027, 33172, 24873, 9835, 20946, 29483, 13724, 5737, 1830, 8339, 20619, 8827, 26494, 15921, 19387, 10121, 25277, 11922, 32194, 33576, 21789, 7294, 10567, 20904, 15997, 28160, 21156, 2046, 30846, 27093, 30466, 5945, 5456, 160, 26814, 33092, 33978, 18452, 20858, 15430, 18231, 24123, 19942, 6268, 20068, 14624, 13616, 29852, 19676, 30970, 2982, 30197, 33545, 45, 7725, 11503, 32150, 19751, 6213, 26773, 3702, 815, 21217, 14145, 17490, 22676, 31169, 6700, 32377, 21144, 22818, 15070, 2308, 15947, 11571, 9809, 26415, 18365, 23155, 2116, 21725, 15493, 8841, 15453, 34798, 21290, 5897, 30576, 3039, 16634, 17412, 33785, 29734, 17670, 16041, 14147, 8558, 10077, 2908, 15483, 13064, 32019, 9446, 5821, 10276, 8353, 10912, 8680, 13784, 32686, 21030, 17471, 20710, 25456, 118, 770, 19909, 11446, 24700, 21266, 18110, 18952, 6766, 2673, 5686, 20320, 33883, 35260, 3665, 15476, 1282, 18618, 21913, 6216, 10670, 34328, 17287, 30269, 34105, 30856, 30055, 10762, 18629, 14626, 10264, 21664, 3200, 661, 5557, 32184, 25530, 31056, 1404, 23623, 13602, 15296, 453, 33766, 1906, 22930, 11955, 29057, 14209, 14914, 29994, 881, 23955, 26091, 34218, 8804, 10048, 6726, 7567, 421, 26063, 12415, 29724, 11001, 21866, 1759, 31307, 8409, 35285, 3383, 28193, 17936, 22816, 2569, 18540, 13262, 10538, 10481, 33242, 5797, 1603, 29629, 21831, 18262, 12341, 1493, 11368, 21106, 19081, 19880, 2056, 7017, 19294, 6237, 19780, 28367, 19382, 31214, 27948, 18046, 2656, 34274, 22352, 10195, 21994, 12155, 7786, 34396, 19762, 1640, 14373, 10995, 2438, 34766, 20184, 32702, 5995, 25754, 29763, 9048, 23631, 4463, 2353, 25061, 695, 22365, 14413, 20679, 28243, 25687, 32638, 1127, 17968, 15632, 33574, 6172, 14084, 589, 5110, 11041, 16598, 29904, 12348, 17684, 147, 18493, 10668, 2933, 20790, 25935, 9165, 14910, 30762, 31559, 1736, 794, 20391, 30122, 29210, 1580, 26365, 19450, 16064, 21297, 25049, 17171, 15340, 17867, 17198, 5820, 26033, 11308, 16177, 29122, 15653, 5688, 32949, 2519, 646, 7660, 34772, 20508, 6753, 31429, 24476, 16400, 19531, 29323, 31216, 6580, 745, 31553, 31168, 11069, 1081, 24231, 17644, 12084, 25896, 2782, 17410, 1212, 33524, 20037, 26681, 34365, 1319, 15410, 29473, 4822, 20034, 7640, 11018, 28484, 1789, 14292, 19039, 24105, 746, 26806, 15765, 6374, 9190, 5372, 537, 31008, 31152, 7752, 11949, 30638, 30759, 5778, 1101, 33325, 24210, 24102, 7612, 30223, 7924, 17916, 4364, 17747, 18043, 20242, 14941, 31683, 4606, 8608, 22310, 31145, 12962, 19223, 21706, 12654, 34591, 20023, 6217, 34771, 5424, 29156, 18225, 13068, 26608, 7713, 21703, 25122, 25525, 19090, 9901, 2145, 198, 35028, 15518, 31150, 13608, 9866, 23017, 10867, 18083, 6519, 24544, 844, 12952, 6240, 7407, 2093, 6863, 21176, 4835, 21240, 4258, 8582, 3165, 8305, 17461, 771, 2758, 10984, 15860, 900, 6428, 18370, 13338, 19336, 30656, 31087, 13058, 15512, 30366, 18687, 7503, 2568, 320, 904, 11169, 30996, 15151, 2637, 33669, 27430, 22868, 13569, 18255, 31536, 25713, 11244, 22972, 8931, 4797, 29236, 8516, 13945, 16143, 9814, 19969, 12516, 10474, 6296, 34292, 8124, 18606, 2744, 7888, 7886, 3046, 34134, 10275, 15074, 12955, 20842, 21563, 10073, 10445, 22843, 20643, 35111, 10399, 9699, 26766, 10813, 33136, 6623, 30978, 27665, 1591, 4707, 19325, 17480, 15939, 10549, 6703, 7385, 2154, 17999, 21170, 2062, 7716, 26026, 22293, 13221, 25112, 29076, 8615, 22122, 11889, 28805, 11253, 17991, 24119, 13454, 8199, 18291, 25557, 3274, 1890, 10038, 12394, 15406, 2141, 1862, 21077, 24051, 29118, 19340, 23436, 30827, 13237, 2104, 18812, 25466, 5247, 33739, 2587, 27511, 15226, 17835, 13580, 19692, 27097, 20123, 21853, 32129, 14745, 27562, 29464, 9382, 32094, 12660, 1388, 3591, 19841, 11742, 8736, 1814, 6543, 2417, 28922, 22155, 4218, 1555, 7746, 4187, 10049, 8017, 20380, 29558, 17807, 20808, 28263, 9797, 9634, 5629, 30800, 22369, 35014, 32811, 10299, 15335, 25924, 29836, 13282, 18709, 11608, 20289, 9396, 17116, 7956, 27536, 18913, 25250, 12008, 2644, 11019, 18016, 3058, 11950, 5538, 26518, 16220, 10338, 13794, 21286, 22762, 30106, 34836, 3315, 27444, 3168, 2580, 28788, 25656, 8983, 15787, 5152, 10282, 19911, 3942, 34644, 33230, 22350, 5782, 32921, 8411, 29980, 15358, 1002, 6539, 33451, 11499, 4421, 8836, 22632, 5683, 8611, 4889, 2129, 18033, 14857, 4541, 11276, 13469, 27819, 27473, 20228, 26293, 7598, 10944, 20266, 8133, 30900, 10827, 15920, 5018, 7773, 16696, 15006, 14434, 6331, 16697, 29241, 8659, 20951, 12484, 30748, 3141, 33127, 17646, 34387, 22496, 24385, 29244, 8231, 13110, 16508, 19204, 219, 1490, 9268, 14972, 11987, 18914, 3743, 12582, 5833, 8570, 18013, 32917, 1882, 29027, 21215, 17366, 803, 11549, 14740, 12492, 1767, 26209, 8240, 12943, 24118, 31530, 16815, 24508, 17219, 1600, 6443, 17677, 9498, 31254, 35308, 10837, 21505, 35372, 380, 18623, 33297, 20492, 14116, 2309, 25761, 2390, 34187, 14780, 30452, 30867, 9494, 15798, 2655, 31408, 2692, 27950, 31194, 10942, 13761, 16171, 3257, 29913, 14242, 14037, 5048, 7150, 34148, 3365, 21342, 7693, 21150, 12966, 16540, 466, 19016, 13423, 6812, 16898, 35330, 20670, 25047, 11274, 12584, 14562, 32498, 15078, 1574, 13247, 665, 14324, 35402, 20064, 9490, 11369, 25862, 3014, 13544, 18269, 15872, 5376, 4733, 25341, 17777, 30571, 13893, 10309, 25885, 14921, 25623, 10001, 33305, 28785, 24930, 33440, 14586, 29112, 32466, 27731, 20934, 5287, 20791, 30740, 2770, 13708, 14310, 25887, 25801, 7185, 24890, 7844, 17129, 26061, 8604, 16152, 28752, 10730, 26481, 27771, 10291, 29161, 24703, 8930, 20723, 28651, 22047, 13550, 19659, 6781, 13874, 16832, 3207, 33250, 21988, 25450, 12177, 24196, 11565, 9980, 35183, 5213, 10560, 19700, 8888, 25897, 23937, 13216, 21800, 32256, 1334, 13394, 24661, 19040, 1726, 1642, 18173, 16345, 10602, 813, 5752, 30599, 35012, 26829, 16806, 5866, 12112, 12769, 25475, 28704, 28439, 20845, 24216, 26459, 20397, 16298, 1909, 14260, 19888, 1288, 5551, 19515, 16995, 18592, 1358, 911, 27390, 1232, 3381, 7211, 21965, 2320, 7050, 9566, 33710, 4628, 13415, 20261, 24414, 25844, 30577, 30908, 7602, 16094, 16457, 30485, 29900, 26116, 11596, 8290, 21484, 1389, 5841, 25650, 22300, 2654, 33654, 15961, 21838, 33984, 1430, 10258, 16149, 32927, 32124, 27148, 18796, 3036, 15819, 4233, 28151, 33607, 11084, 13470, 4459, 5097, 22336, 16265, 31119, 35009, 8372, 18004, 3924, 35194, 20528, 3396, 14383, 6098, 26251, 22267, 2798, 31854, 6956, 31541, 34598, 21116, 32641, 2622, 15189, 3204, 34578, 9297, 11574, 20955, 34022, 26129, 26770, 22979, 9319, 10631, 1325, 2380, 21265, 3282, 35091, 20678, 9185, 26362, 28161, 10791, 32537, 1032, 11869, 628, 14848, 12652, 15684, 18098, 34889, 23032, 189, 17164, 12548, 27971, 19110, 940, 31743, 5198, 25941, 23532, 28307, 24694, 13824, 1263, 35149, 27453, 14036, 23346, 1473, 21312, 5985, 21686, 837, 29949, 18358, 25655, 4133, 28862, 32031, 15623, 18653, 7835, 13548, 20502, 19499, 21386, 12361, 23933, 27604, 29465, 15029, 24642, 19678, 3845, 3527, 30898, 27333, 2746, 16813, 6924, 21164, 18494, 1658, 7331, 18141, 13488, 6432, 11907, 12919, 26148, 24559, 34905, 5397, 33097, 19657, 4123, 2755, 30279, 20060, 18052, 10186, 19123, 16575, 7668, 1650, 18852, 540, 6248, 12494, 30302, 24033, 2904, 14009, 6319, 13725, 13528, 6688, 17523, 28325, 21331, 26020, 12989, 18073, 14602, 9235, 22186, 25967, 4640, 35058, 3572, 6865, 17096, 22087, 17384, 17201, 27598, 13206, 30911, 26943, 4075, 19653, 29388, 12802, 3292, 16264, 9334, 17894, 32485, 30252, 10188, 2211, 15371, 10141, 5109, 17091, 18055, 30766, 6358, 23675, 2899, 24920, 15279, 22922, 33501, 18680, 9819, 13757, 24600, 31111, 19708, 18749, 32196, 11846, 31985, 21911, 34339, 8533, 34173, 12400, 18389, 8183, 2396, 804, 23201, 31630, 17440, 5938, 1343, 20038, 2033, 16254, 8410, 12961, 16321, 25693, 12326, 7155, 21230, 9036, 5403, 5238, 14912, 15142, 31171, 21013, 33213, 15897, 18632, 7466, 3729, 748, 27072, 2805, 10593, 16982, 22518, 23411, 20918, 32049, 9299, 19810, 20341, 7987, 4481, 14791, 22228, 14206, 22253, 25166, 33787, 15993, 31363, 6827, 4786, 14362, 18405, 11748, 9943, 29816, 4574, 28296, 28958, 32165, 9506, 9665, 16380, 4590, 20618, 8215, 12089, 14768, 9965, 28522, 2180, 14733, 34887, 10031, 4510, 25872, 32935, 16829, 27503, 14422, 24264, 18230, 6760, 34607, 1277, 20058, 11077, 34468, 505, 1920, 10200, 6191, 7935, 9067, 29661, 149, 1808, 23432, 9672, 26295, 7785, 34386, 29401, 25777, 30540, 17008, 34899, 4423, 13075, 30242, 4171, 4120, 6869, 32314, 9134, 20877, 34499, 14476, 21134, 11208, 16750, 12295, 4497, 23014, 3608, 10743, 14642, 32055, 29658, 33778, 14423, 28551, 18764, 14816, 7248, 34222, 4282, 22325, 20911, 34512, 31934, 5772, 15772, 776, 13892, 29400, 10625, 30555, 11614, 18227, 4609, 10227, 26450, 33166, 11860, 28, 5957, 7518, 9317, 2432, 1204, 17836, 20843, 30976, 28301, 3135, 25425, 2436, 21687, 13334, 2638, 2071, 6870, 32434, 8196, 15726, 2936, 8826, 28869, 7872, 8064, 6488, 13372, 7018, 15584, 4849, 17147, 35171, 17966, 20748, 3256, 33366, 28853, 21341, 27963, 19582, 18436, 19023, 35059, 24492, 13087, 20112, 15588, 8953, 21166, 20120, 2420, 35060, 2802, 29727, 5168, 9918, 15281, 21111, 31362, 32771, 15389, 6334, 30481, 10706, 34057, 34195, 1145, 26522, 16195, 19097, 33000, 2739, 16693, 21320, 30467, 27514, 17784, 34310, 1957, 3754, 3744, 9817, 7433, 8129, 14810, 12363, 7098, 28443, 13647, 13535, 10362, 22961, 21377, 12763, 17797, 6254, 31795, 29801, 27143, 25079, 1938, 7623, 11438, 7169, 12115, 30511, 16911, 7237, 9118, 10271, 22383, 4961, 22558, 9584, 16213, 23159, 22933, 18938, 5547, 32942, 20314, 9195, 32460, 6264, 28999, 5390, 14199, 22249, 15061, 1732, 31561, 16033, 10218, 21808, 13220, 11664, 5165, 11080, 17808, 17138, 7923, 10206, 20494, 5285, 11713, 10955, 30796, 4623, 34514, 10921, 20622, 10894, 17655, 1725, 22689, 24878, 21962, 12693, 11954, 27458, 6381, 22703, 17780, 12634, 15852, 5516, 15506, 5218, 33489, 30644, 34156, 12206, 12219, 12064, 33906, 6939, 17899, 19360, 30692, 26327, 12527, 21416, 152, 26890, 9604, 17387, 14963, 17482, 168, 15905, 13778, 5997, 7181, 30732, 19792, 23910, 17801, 8028, 21790, 10492, 20837, 33300, 27997, 689, 4727, 1821, 1606, 20019, 18694, 2484, 1452, 15676, 17705, 11278, 2660, 14277, 10173, 17984, 29173, 29798, 25104, 25612, 26791, 1367, 12315, 8496, 13910, 28025, 5437, 30595, 25258, 12824, 23342, 3401, 29751, 6093, 22181, 8523, 25792, 26228, 12186, 146, 31460, 2834, 16692, 653, 16811, 28246, 21945, 10397, 2269, 4776, 5943, 3116, 12905, 2990, 34096, 31651, 10189, 12702, 14604, 172, 26386, 8948, 12574, 13835, 8440, 35024, 13935, 8596, 33359, 12138, 33659, 3642, 21886, 13484, 10292, 30340, 29776, 2864, 7546, 7712, 22290, 14916, 10313, 7424, 6727, 10124, 13785, 4204, 33562, 17544, 21657, 13845, 21506, 11776, 20401, 4622, 15610, 4511, 754, 19661, 34568, 6529, 30207, 20207, 9197, 10909, 25151, 8362, 15480, 27122, 17659, 48, 4933, 7430, 15206, 16725, 1498, 24012, 25204, 19957, 8377, 30990, 32536, 26014, 27049, 20248, 28682, 33633, 25793, 31409, 23178, 18607, 4271, 1268, 32762, 20584, 7564, 20974, 14506, 14804, 23980, 12150, 18935, 13635, 23187, 10711, 3531, 21990, 8201, 30516, 29229, 3648, 31277, 22751, 19528, 6933, 7810, 876, 21643, 18862, 9399, 18523, 5911, 3091, 7806, 12930, 5746, 6246, 6430, 19018, 29081, 34258, 8572, 7766, 25694, 27785, 9228, 4286, 28340, 33759, 7429, 10080, 34635, 8860, 15597, 19128, 615, 11710, 7944, 31030, 2365, 23625, 25919, 493, 18192, 12749, 27675, 25696, 20546, 22246, 8700, 29544, 14288, 21002, 3589, 29532, 34678, 24374, 12835, 20826, 3238, 4216, 6823, 22934, 5808, 30312, 31791, 22723, 30484, 32059, 21549, 18524, 28131, 22477, 13766, 20818, 6943, 15643, 1943, 34206, 2183, 22479, 12035, 17014, 31101, 2993, 20734, 20479, 2430, 28349, 7362, 14503, 9644, 23188, 23503, 9562, 15064, 21391, 15988, 482, 32835, 4870, 7410, 7456, 19333, 1997, 24747, 34594, 26193, 25137, 9455, 12244, 3496, 8995, 7023, 13081, 34357, 21755, 18206, 21037, 17394, 7137, 5141, 21651, 33195, 10037, 11632, 14142, 25721, 5455, 8645, 3982, 836, 10862, 31308, 22347, 32146, 16619, 31106, 15054, 19139, 6382, 12535, 5102, 11529, 15327, 409, 6557, 15494, 21513, 19379, 326, 18343, 2909, 7141, 18584, 28748, 9636, 18904, 8619, 3013, 7013, 13329, 4055, 13825, 29923, 14333, 6957, 2047, 28924, 30250, 1722, 10364, 23325, 21091, 7202, 10150, 14650, 30346, 28720, 2204, 7303, 2721, 25126, 3361, 32187, 5983, 7940, 20340, 9743, 8259, 10004, 12405, 13836, 26938, 15174, 34163, 23613, 7898, 5589, 16721, 8264, 29111, 14427, 1001, 5154, 13288, 17587, 34527, 33851, 7482, 32443, 3738, 32056, 7565, 31217, 22277, 2520, 33131, 17251, 20017, 10268, 2871, 11528, 22587, 18157, 8420, 3778, 2528, 10815, 25364, 17924, 14664, 9397, 3515, 25522, 33721, 15746, 34956, 22296, 14114, 31734, 32647, 26499, 7670, 18720, 27830, 859, 5027, 14548, 8002, 32801, 32406, 6633, 4791, 3872, 20945, 34172, 33825, 9044, 5299, 12176, 28337, 35261, 4767, 20485, 2737, 9173, 19726, 23715, 9691, 28669, 32489, 20764, 19857, 18471, 3495, 16174, 19489, 22713, 6907, 28166, 30432, 33381, 24039, 2757, 32649, 7682, 22995, 17499, 2321, 13746, 1597, 35316, 5618, 33818, 1461, 14323, 27848, 30950, 783, 8737, 9698, 25067, 2233, 19929, 13462, 15042, 10251, 9639, 16263, 26589, 1053, 5069, 17639, 12286, 26836, 8512, 27851, 9702, 17143, 5704, 24692, 13833, 2350, 13163, 11858, 29265, 21038, 26094, 12367, 7748, 19386, 2896, 14659, 34209, 14925, 29977, 28518, 11234, 19507, 34968, 4355, 15636, 20043, 34618, 33970, 13756, 28058, 2857, 22067, 21085, 11676, 5822, 14840, 3541, 4106, 20820, 18479, 21885, 3413, 2925, 4067, 5690, 25594, 8992, 6486, 7279, 2828, 10045, 24512, 32797, 31762, 29960, 22262, 5317, 11941, 19026, 15621, 4844, 3055, 20999, 13517, 2167, 29318, 26824, 1460, 21551, 26104, 17388, 9250, 31623, 23899, 19279, 16530, 15217, 25068, 12383, 6195, 14566, 2885, 16092, 6708, 12909, 11222, 14316, 29930, 16022, 34080, 22261, 2873, 32114, 22063, 29813, 26005, 3994, 27195, 16073, 5463, 5057, 3206, 16899, 1176, 16935, 16354, 24358, 13807, 17806, 9344, 4796, 6282, 10655, 6346, 11409, 32867, 16370, 1784, 34590, 5308, 28171, 2241, 1122, 19438, 31496, 17029, 25191, 8683, 25119, 28085, 5349, 30681, 619, 2756, 13878, 1790, 32798, 19517, 11787, 12886, 21368, 27752, 11050, 27501, 8923, 30662, 865, 3308, 12818, 18878, 21267, 19269, 21436, 5419, 6215, 11005, 20549, 5002, 637, 290, 3222, 15673, 35185, 21326, 14042, 19501, 1488, 11829, 18277, 8087, 13326, 7879, 20354, 10817, 20345, 13792, 21716, 13356, 18395, 1235, 11026, 31842, 17214, 1590, 33447, 735, 34150, 7371, 15466, 5484, 1721, 17277, 22062, 14725, 72, 21122, 21447, 14425, 5726, 13961, 423, 7915, 11547, 6021, 34670, 30713, 4427, 1918, 20208, 10076, 7315, 4428, 32930, 20674, 9881, 2590, 28602, 7883, 27979, 22726, 14742, 5819, 30074, 19421, 5988, 13050, 14214, 33511, 9202, 1326, 9939, 2370, 15661, 11443, 17010, 11774, 2068, 5133, 19474, 26462, 17986, 26822, 20771, 8624, 14553, 19961, 1144, 1272, 18159, 24373, 8042, 15544, 4440, 6114, 19439, 34807, 1750, 17003, 18790, 21633, 2416, 29482, 20126, 3672, 7309, 12319, 34773, 11283, 10506, 11004, 29494, 23584, 3650, 8927, 13146, 21214, 607, 8262, 30568, 31693, 24733, 33531, 3544, 17235, 33711, 17923, 6776, 34581, 24287, 14909, 14455, 9959, 30999, 7064, 346, 6746, 32026, 2688, 21605, 21018, 927, 22770, 22791, 26525, 31822, 23356, 28865, 2063, 8883, 3791, 4525, 4365, 8103, 10773, 19772, 1278, 27644, 1402, 225, 28537, 25524, 26313, 6362, 15541, 13570, 8823, 12767, 20130, 14543, 35159, 21991, 4323, 26189, 21625, 30536, 30082, 7917, 10241, 17893, 18532, 2621, 14938, 10647, 23660, 19293, 6706, 1347, 6441, 21375, 13783, 24421, 11466, 7132, 29184, 16066, 29394, 4943, 25311, 33149, 6038, 32199, 464, 26, 9434, 3435, 1688, 17696, 33081, 34601, 10255, 20072, 24449, 26194, 17468, 9948, 4447, 24641, 39, 30388, 32128, 7193, 1956, 17024, 20490, 13398, 10502, 7081, 1530, 8162, 31273, 19251, 8777, 21879, 2718, 30165, 20788, 16310, 11561, 1364, 21794, 19214, 17902, 5536, 25092, 5454, 23370, 29730, 5446, 16065, 16103, 2496, 2696, 10312, 6412, 7311, 9697, 23739, 17702, 6679, 11265, 32079, 29416, 10805, 14751, 32372, 3400, 20738, 28758, 32471, 24103, 18204, 17301, 2449, 29631, 6325, 31384, 33438, 3937, 11744, 17271, 1055, 6329, 18234, 3580, 14808, 4813, 30752, 4370, 5037, 7319, 26290, 11736, 7863, 23546, 2393, 13908, 27134, 3215, 6730, 747, 6256, 21829, 3675, 16616, 33272, 13626, 5953, 32413, 14937, 16255, 30132, 13628, 6461, 10424, 11429, 25050, 14993, 19183, 3722, 9611, 13320, 19964, 22484, 2815, 20638, 32456, 15973, 25653, 2465, 2989, 13707, 13759, 33357, 19087, 30274, 29093, 17263, 25296, 14265, 5271, 4913, 32053, 18826, 6973, 31005, 10913, 35414, 20551, 18224, 11266, 17240, 12785, 13586, 5003, 35205, 20382, 16560, 21465, 7551, 34815, 13681, 23145, 28405, 20846, 33950, 23134, 32787, 8635, 15324, 25959, 2457, 12004, 27479, 10120, 1153, 8758, 17302, 1429, 16035, 16281, 17082, 538, 14031, 15367, 29956, 14902, 28626, 3514, 27756, 35106, 21160, 17582, 23001, 6427, 18528, 9874, 84, 17258, 14250, 33747, 26580, 3231, 33563, 19532, 24581, 5495, 8230, 17015, 17028, 16672, 22254, 11557, 22011, 237, 8425, 30768, 33961, 26441, 25962, 20860, 30470, 6001, 34895, 12645, 28849, 687, 31900, 21243, 19970, 7631, 14961, 857, 4838, 35249, 9601, 9355, 8682, 5412, 12082, 13557, 25599, 11715, 4134, 19262, 21552, 3128, 6780, 24831, 3347, 12727, 5189, 5485, 21642, 9599, 34788, 13332, 4255, 12845, 15870, 9738, 164, 10653, 64, 7114, 17989, 9658, 7087, 5433, 6512, 3543, 1467, 18219, 31515, 30883, 26075, 14404, 20156, 16709, 7286, 11962, 2931, 3896, 1609, 2666, 8665, 21233, 16978, 2215, 13061, 5254, 4744, 32541, 2691, 782, 10383, 24867, 6526, 14173, 22538, 27411, 28312, 18459, 7239, 25501, 9977, 24230, 16691, 19370, 7703, 15416, 16280, 3915, 25471, 17469, 9624, 1060, 23580, 13802, 21181, 14867, 19646, 5203, 6478, 19078, 25565, 22772, 3402, 9773, 15612, 1716, 33567, 21304, 5799, 35017, 8877, 31345, 23481, 18140, 6514, 34797, 21083, 20077, 11060, 24467, 28516, 34826, 19510, 22512, 9981, 10517, 18307, 22320, 2078, 4647, 3026, 21983, 11643, 7685, 25558, 28641, 6587, 20929, 24198, 15665, 25243, 6838, 25949, 33190, 19975, 1352, 17718, 925, 33307, 15977, 11725, 13271, 32913, 2090, 27721, 30604, 31462, 28649, 21291, 3635, 26252, 25255, 5473, 35155, 19590, 11224, 22731, 1508, 17458, 16606, 12230, 131, 21372, 4247, 18616, 18543, 13386, 1247, 19757, 967, 9198, 17785, 624, 19483, 8906, 7768, 5338, 4617, 2342, 12036, 5350, 16948, 10290, 23552, 1207, 1348, 358, 25948, 4921, 22552, 22911, 7627, 31127, 21931, 21662, 26532, 8748, 33706, 13723, 34614, 12599, 3251, 304, 11641, 11683, 22633, 32299, 7411, 7659, 11072, 17477, 4393, 18779, 7428, 22399, 758, 25211, 5987, 21542, 20635, 16884, 20575, 4002, 11511, 32558, 33237, 12454, 824, 15316, 21405, 3858, 4442, 24615, 14805, 23591, 10253, 31282, 259, 7006, 7208, 10372, 5406, 568, 1258, 22677, 2284, 34349, 13590, 30690, 8991, 2613, 13979, 34633, 6115, 22378, 3969, 9347, 20384, 13938, 16792, 28283, 21964, 22453, 32181, 28903, 21640, 6978, 1544, 5273, 22175, 3136, 13364, 25707, 25588, 29134, 34355, 13133, 18384, 15318, 10881, 9084, 12611, 13940, 28673, 33570, 11862, 29189, 28674, 32117, 25843, 10963, 8908, 32593, 17775, 28801, 6224, 31824, 34764, 20784, 33378, 9955, 27254, 2041, 495, 1440, 4199, 30338, 26908, 12825, 31711, 8371, 16986, 23823, 9001, 7610, 14826, 21277, 20844, 14359, 24975, 5586, 34024, 33234, 34191, 21054, 11248, 34528, 76, 26103, 5356, 2408, 33332, 13204, 16308, 781, 34450, 20151, 2431, 1188, 21854, 11665, 30580, 15647, 32379, 32823, 16712, 24325, 10739, 7213, 5124, 522, 30902, 10204, 25970, 14003, 19334, 1500, 29080, 1616, 25413, 19790, 34140, 16578, 19866, 13273, 18619, 9311, 19537, 3027, 249, 25795, 10853, 1355, 5040, 23366, 29986, 16987, 33418, 23021, 22395, 6003, 8052, 3305, 2229, 8263, 8126, 1457, 1869, 21208, 23360, 21294, 17363, 27152, 33161, 22195, 14721, 35142, 351, 34719, 13840, 15171, 551, 3631, 6966, 22265, 13934, 5780, 21610, 506, 18696, 14796, 34143, 31142, 11619, 35186, 15748, 19806, 10136, 6149, 30301, 17381, 32544, 33793, 21396, 10011, 9230, 8216, 25440, 19278, 4858, 10000, 18381, 31940, 30699, 20240, 22094, 7585, 4863, 30394, 19746, 9194, 7974, 11706, 19987, 17430, 14718, 3880, 21218, 33417, 21539, 14513, 1637, 1666, 197, 21763, 25819, 20534, 14847, 1152, 32643, 19715, 30191, 20938, 33709, 19968, 27317, 12360, 1807, 3364, 13526, 13982, 19587, 4373, 20442, 5616, 16546, 3093, 10637, 21708, 22951, 14997, 20224, 2478, 27542, 10483, 24372, 19662, 1898, 15751, 29068, 14351, 2711, 22163, 20612, 26240, 19482, 9496, 33603, 286, 18050, 10363, 28928, 34454, 16334, 13710, 34849, 19355, 15771, 31279, 12713, 7487, 30000, 17348, 21060, 33815, 3588, 16793, 26460, 30309, 15498, 19202, 11391, 30678, 12458, 7339, 14497, 34066, 22422, 4681, 28708, 4368, 31148, 33619, 32317, 24954, 21810, 5534, 4677, 17162, 20962, 21972, 10261, 3958, 20008, 16084, 34584, 21786, 21518, 13889, 20953, 17369, 726, 4928, 18246, 23068, 9199, 5692, 25249, 10750, 1124, 13619, 1826, 34770, 32347, 7972, 10979, 32127, 14502, 31492, 32080, 11268, 17988, 10432, 17013, 16541, 19635, 17268, 20402, 7402, 11908, 16757, 11334, 13060, 8278, 14631, 30613, 16589, 10006, 18865, 11223, 10349, 8955, 34085, 11657, 642, 18044, 26472, 11883, 25640, 29038, 26868, 5973, 17700, 355, 25297, 13117, 34170, 28950, 19703, 8075, 20410, 28017, 22098, 9151, 6802, 26284, 3339, 11490, 26885, 31262, 21167, 24029, 11624, 4325, 34364, 184, 12039, 2413, 25543, 12948, 22037, 1428, 15243, 27271, 9265, 6356, 16410, 31810, 4193, 8503, 23519, 19206, 23670, 18038, 27502, 11360, 16976, 4122, 12972, 26987, 698, 3616, 20978, 27923, 5651, 21102, 25337, 23826, 30929, 28201, 34475, 9791, 24784, 34111, 8765, 6330, 25201, 6335, 17585, 4544, 3680, 19037, 12610, 3734, 35419, 27660, 9593, 3019, 33495, 11901, 17283, 9074, 3779, 15023, 1877, 8010, 15127, 17763, 22381, 8358, 19822, 29575, 34538, 30395, 25972, 157, 25561, 2978, 4584, 34620, 6657, 9020, 33948, 2159, 20786, 17593, 31347, 9341, 7148, 22410, 16939, 9595, 17083, 5895, 27706, 30734, 4349, 32243, 9567, 28663, 27636, 2733, 32376, 19807, 34189, 31617, 24252, 34477, 22618, 2043, 22481, 17674, 10643, 6515, 32563, 7539, 4035, 8039, 18642, 6630, 13907, 13339, 17821, 25461, 3067, 18825, 30722, 2784, 27226, 33243, 12518, 16571, 21475, 8401, 15448, 17754, 8192, 21873, 1480, 19784, 21915, 10824, 20541, 14711, 25781, 34129, 32523, 4746, 17612, 34859, 21522, 1009, 15964, 12833, 21781, 22311, 356, 16313, 30075, 9368, 25366, 4077, 6662, 20498, 26372, 22627, 15487, 17943, 24085, 14773, 7770, 2902, 20154, 29313, 27233, 16211, 19377, 23994, 1527, 20888, 16088, 7344, 18477, 6735, 22167, 2742, 21361, 25603, 28538, 18074, 31692, 15351, 10265, 7105, 17304, 8524, 14756, 13777, 2492, 27037, 32990, 19530, 14883, 19368, 3659, 1813, 217, 28899, 34036, 6472, 11823, 27874, 19839, 26656, 8843, 21614, 9921, 30327, 24637, 18464, 18980, 1251, 2539, 2295, 13962, 13037, 29530, 34937, 10266, 17884, 3464, 33556, 33118, 23398, 34733, 20113, 7167, 17186, 17672, 2797, 343, 27074, 11621, 19586, 18241, 28245, 26206, 1504, 33780, 1563, 19948, 11372, 11217, 22093, 25835, 32677, 20237, 13658, 21387, 16312, 12184, 19673, 9616, 22607, 25071, 14468, 3938, 32684, 33736, 14614, 17205, 21356, 1973, 15297, 15700, 7406, 9252, 31391, 33946, 34653, 30753, 110, 16714, 21271, 16246, 8448, 8933, 1290, 6301, 3649, 8024, 2307, 14395, 18755, 25136, 3736, 18633, 11182, 7740, 27380, 29344, 475, 8829, 15484, 19268, 34893, 20218, 15103, 22968, 1010, 21324, 27496, 13953, 13993, 20750, 17057, 27374, 30478, 6565, 19045, 3560, 4252, 25616, 31557, 23906, 30757, 19824, 4274, 4652, 1147, 9696, 10472, 12881, 3410, 13813, 31458, 8355, 8407, 11977, 9864, 9681, 145, 12710, 31097, 2556, 20321, 4083, 16878, 14595, 8422, 14407, 15844, 8363, 8798, 8494, 32234, 17054, 26051, 30392, 11221, 34049, 30975, 22386, 13072, 4637, 14915, 11530, 14361, 10451, 13769, 6062, 21489, 14494, 10490, 17832, 9011, 26535, 32552, 13927, 17711, 8323, 32839, 3025, 30418, 13559, 23555, 18448, 25441, 12136, 8179, 2625, 8149, 13969, 18794, 942, 33252, 27379, 25918, 10196, 6002, 22698, 13638, 4725, 31337, 33238, 4043, 26171, 10606, 34478, 3590, 870, 5266, 10680, 12526, 9318, 3731, 9375, 7488, 34596, 18131, 30546, 9056, 19006, 34544, 33168, 35177, 24947, 35390, 25904, 13268, 29357, 3568, 19200, 6493, 408, 3395, 32619, 7677, 10941, 21746, 24454, 7641, 7657, 24366, 14223, 15233, 26523, 3965, 6491, 33982, 20457, 32866, 10797, 11002, 11527, 21779, 11428, 15258, 30668, 15539, 8287, 28363, 7449, 1548, 20411, 21135, 22550, 21442, 25462, 791, 7913, 25478, 8074, 10248, 2501, 28412, 15773, 863, 6536, 10380, 31476, 9678, 9633, 9585, 2956, 11741, 4319, 2494, 22740, 32144, 25152, 19066, 12762, 8085, 16024, 24336, 28722, 33582, 8001, 23025, 3814, 29084, 6383, 20789, 3429, 29148, 32941, 25505, 16235, 27118, 2225, 5118, 9167, 7071, 11747, 19105, 20022, 20475, 5316, 17450, 31288, 2690, 21059, 1588, 2095, 14539, 31875, 23751, 28323, 13086, 30381, 32755, 24360, 14246, 14202, 12401, 14492, 1932, 34459, 35255, 8186, 10240, 8617, 30892, 4872, 6671, 11936, 17766, 16446, 20286, 8051, 31156, 4634, 28694, 17978, 26926, 32556, 9111, 21055, 32033, 1039, 2349, 21896, 14991, 11420, 25731, 9638, 11965, 14850, 10819, 31804, 3893, 7597, 20661, 14126, 30615, 12430, 21071, 19564, 17762, 9040, 9153, 31401, 2793, 11553, 11102, 6573, 10892, 16193, 6370, 2092, 7849, 7521, 5989, 22428, 14834, 19258, 25226, 2906, 32961, 4690, 1924, 27801, 28732, 18682, 34048, 12233, 23673, 3227, 17102, 18798, 18208, 31064, 22082, 17883, 27223, 32175, 17194, 28786, 21112, 24121, 9714, 9828, 3452, 20360, 15205, 15462, 16002, 22109, 32329, 4694, 8622, 5517, 5767, 1895, 9718, 16544, 9832, 4449, 4369, 22420, 5723, 17376, 8014, 15948, 6183, 34931, 269, 14093, 4054, 18655, 25003, 21237, 33389, 22334, 1624, 5539, 15053, 8767, 1742, 8691, 11367, 30504, 32753, 33308, 21947, 18946, 6645, 8450, 8791, 3554, 19930, 5272, 35238, 26256, 23222, 25682, 17545, 161, 13352, 31972, 27797, 8393, 18451, 13214, 29564, 23112, 21544, 11473, 30374, 14856, 30776, 9443, 5707, 32895, 33047, 2082, 25347, 12771, 18854, 1783, 32512, 13185, 14421, 30324, 9216, 35004, 381, 12532, 17669, 10091, 5032, 13354, 21858, 35207, 7557, 25826, 2919, 6500, 33624, 16366, 704, 448, 1593, 16983, 34579, 9362, 3682, 9263, 4621, 8972, 4138, 15309, 10098, 14945, 19229, 25030, 24222, 1264, 20906, 24044, 22710, 3732, 31702, 3486, 31988, 19313, 12580, 22064, 21700, 5279, 22735, 6437, 31304, 6345, 12353, 235, 14393, 15607, 6856, 21204, 11336, 7818, 7490, 6118, 16217, 28627, 20932, 20461, 24773, 18521, 1572, 14129, 570, 13597, 7251, 2704, 18882, 24724, 8942, 27471, 2011, 4485, 10222, 25732, 3597, 19907, 15468, 11963, 33569, 12807, 5382, 6429, 40, 9682, 28072, 13738, 33573, 3603, 20653, 31260, 17046, 31632, 33380, 9267, 6161, 7802, 32501, 35190, 3114, 16720, 24979, 8459, 4159, 30232, 34439, 27655, 5923, 14001, 15654, 25096, 21276, 26568, 29919, 2632, 65, 5217, 32013, 6117, 2374, 24989, 18045, 15499, 17608, 27804, 11071, 33005, 5369, 21395, 13179, 35257, 8136, 14238, 3538, 22590, 17773, 5621, 4812, 29770, 2473, 1435, 3852, 33703, 14094, 18205, 8106, 30824, 7492, 27217, 14484, 18090, 1040, 10725, 15517, 1241, 24136, 6606, 21693, 19534, 22353, 128, 18659, 1829, 7530, 17892, 9705, 22079, 843, 6042, 852, 2668, 25263, 28889, 318, 15368, 4589, 11566, 26607, 19019, 8020, 9359, 23902, 16163, 643, 24235, 19488, 4236, 25476, 9875, 24658, 8520, 30233, 4579, 26277, 1554, 1537, 8016, 12914, 30790, 33322, 16278, 21336, 21095, 6406, 33043, 14101, 6905, 13854, 26153, 3517, 2852, 11644, 2980, 18075, 34360, 12085, 9337, 1427, 1739, 20418, 31910, 27878, 27429, 17233, 25207, 21597, 11618, 25438, 30225, 33827, 10531, 34093, 6602, 3440, 8058, 7543, 4496, 33839, 16961, 9794, 379, 3846, 18877, 15133, 21678, 16449, 35376, 33248, 15113, 28001, 7591, 29258, 4624, 25973, 2199, 24294, 12321, 20346, 1386, 3720, 8038, 2476, 11156, 11054, 29302, 4470, 12399, 8383, 22906, 9612, 34144, 5090, 22015, 14051, 10522, 9384, 12191, 2958, 16633, 2426, 20356, 11550, 738, 18283, 34869, 17220, 1738, 7046, 384, 1393, 2130, 23814, 4341, 5038, 23104, 19254, 32424, 25943, 20824, 27466, 23471, 370, 10591, 18827, 28539, 4317, 447, 34917, 8885, 9386, 16836, 28612, 17475, 25613, 33068, 693, 25928, 31809, 4648, 2833, 1246, 30532, 13536, 19706, 30642, 31120, 3741, 29509, 7032, 10719, 6004, 8104, 9158, 7999, 23934, 32714, 15085, 19174, 10663, 4467, 4450, 31652, 32589, 22211, 12464, 8246, 23963, 8154, 23303, 30686, 26237, 24183, 22837, 4235, 3151, 4506, 6901, 25969, 2450, 4000, 21350, 10767, 34073, 19748, 23912, 31546, 29295, 11600, 18003, 23409, 4149, 25205, 19117, 3567, 23030, 30815, 10754, 8018, 3945, 14192, 33963, 12899, 12728, 7553, 8483, 1967, 19215, 7127, 1436, 6249, 851, 33434, 623, 19750, 31018, 9588, 5614, 26666, 33602, 35354, 17288, 21663, 20924, 12207, 34695, 17360, 8277, 13750, 17243, 34171, 442, 435, 4923, 12874, 12946, 16473, 10785, 15540, 20312, 18912, 6996, 17203, 12772, 22239, 11481, 32639, 12101, 26676, 2325, 98, 17221, 7119, 23668, 2495, 31092, 31677, 15812, 7735, 19796, 30495, 14573, 30446, 14046, 7204, 24275, 13898, 7823, 28387, 15808, 19284, 10841, 1931, 31717, 647, 34347, 716, 11199, 19410, 27387, 1354, 16359, 6080, 32555, 14518, 19995, 4975, 25544, 20011, 7489, 23577, 26037, 19190, 31500, 31341, 8167, 11959, 6197, 12680, 18714, 22, 16955, 5620, 33244, 17586, 21526, 16863, 11452, 15352, 30771, 414, 3653, 9629, 20933, 21482, 2820, 11942, 8526, 24754, 31406, 8268, 20473, 9757, 1471, 8754, 1114, 12813, 20311, 10834, 3875, 14950, 3652, 34828, 12568, 4940, 7929, 17324, 21352, 6604, 15207, 2800, 32666, 16998, 35277, 19445, 13414, 15437, 17910, 8462, 20070, 6684, 14216, 21097, 8155, 23508, 7288, 477, 19625, 1892, 32300, 16852, 33144, 32253, 20774, 27973, 32594, 7096, 1945, 31596, 6368, 15056, 18015, 4130, 8423, 15418, 31057, 11627, 22335, 22278, 14685, 19999, 4003, 4032, 3973, 23479, 26916, 35045, 25879, 11752, 20972, 22150, 7165, 11259, 14081, 11138, 8083, 16230, 24533, 959, 12139, 7154, 11815, 8419, 15169, 21188, 26049, 7138, 4415, 16534, 24998, 19944, 28858, 12751, 9099, 17645, 22072, 20687, 10768, 3411, 5544, 5776, 5034, 18757, 3947, 13336, 20254, 28185, 30314, 15952, 23164, 3366, 17880, 636, 15591, 33936, 20484, 23567, 12382, 6129, 12936, 22117, 9626, 3605, 13975, 22184, 25307, 26442, 28434, 24491, 34605, 22600, 5128, 28956, 4950, 23991, 7516, 2383, 4015, 3510, 16887, 9313, 29135, 14726, 12459, 16399, 34330, 32900, 32535, 30854, 25160, 22111, 29847, 19798, 22328, 26236, 7120, 29682, 31484, 27983, 23431, 32514, 34050, 17709, 6176, 16192, 2382, 12192, 16144, 33918, 12389, 3428, 9322, 30980, 25577, 14166, 27318, 19487, 4880, 21273, 3241, 32603, 7220, 14812, 17710, 7949, 17470, 14734, 28227, 7157, 34035, 19901, 10249, 34005, 13168, 10778, 33770, 3691, 8705, 29375, 2783, 34210, 9328, 15762, 17407, 17860, 3988, 34537, 5832, 27955, 12199, 13416, 6895, 25634, 7555, 25494, 25439, 610, 21477, 11130, 16559, 2589, 30271, 13381, 111, 25329, 12546, 29037, 16552, 27288, 20757, 32994, 8602, 4918, 15107, 11497, 27616, 18267, 4689, 2882, 23578, 10689, 8618, 32749, 11028, 19669, 1453, 9013, 13141, 31113, 29484, 1199, 3859, 1132, 9041, 18125, 33894, 2044, 25236, 21438, 10991, 1280, 17418, 32481, 737, 21909, 27656, 30816, 31906, 15693, 27046, 7418, 2347, 13164, 9316, 18278, 25659, 3670, 10419, 3276, 1870, 29794, 5409, 7989, 2419, 26565, 19904, 20467, 18319, 3521, 8429, 26781, 10024, 21841, 685, 7877, 10307, 16733, 3367, 5641, 26574, 6513, 19150, 6332, 13286, 12550, 20430, 16338, 20540, 7986, 15092, 6137, 14131, 1061, 6425, 11848, 14610, 35113, 21420, 21787, 499, 19044, 35324, 27862, 33226, 13461, 9889, 5196, 26653, 30936, 34929, 18662, 28295, 6016, 15914, 6747, 30669, 15747, 34337, 11022, 4845, 7254, 29539, 35355, 1072, 7471, 13134, 5984, 24087, 5307, 2836, 23056, 1907, 10703, 1315, 21742, 2378, 26078, 7537, 8629, 17419, 457, 15717, 946, 3393, 4342, 13568, 1465, 5559, 2738, 24678, 15758, 18354, 10888, 16921, 13739, 17595, 35362, 10488, 9411, 21937, 14722, 25619, 3954, 6852, 8356, 5689, 19178, 18574, 9508, 30450, 25294, 5640, 7062, 7462, 11587, 30882, 21480, 18339, 22282, 6068, 3737, 7618, 35167, 8351, 30746, 4641, 19156, 3278, 16290, 7995, 27498, 32135, 28684, 30298, 8439, 5028, 15963, 33989, 26321, 8081, 18053, 14673, 32626, 32534, 20606, 15511, 8687, 6024, 29907, 14652, 11751, 21521, 11847, 32303, 20765, 15268, 7475, 11654, 20646, 15458, 4877, 16767, 3298, 5601, 6620, 14402, 4137, 21819, 22229, 22077, 35371, 22641, 5407, 15076, 29945, 3889, 12314, 7356, 12238, 21989, 27547, 4167, 16117, 10561, 6571, 4491, 33976, 16699, 13781, 2397, 27870, 30837, 20779, 8954, 7387, 9986, 26106, 14495, 34441, 25708, 8871, 8207, 1167, 11795, 1456, 33723, 19508, 6524, 7068, 9021, 497, 15003, 33051, 9356, 7079, 20512, 31894, 22947, 33368, 22053, 29577, 16326, 31426, 12940, 33600, 31411, 24693, 21108, 1021, 28276, 3468, 9207, 10390, 19876, 24426, 121, 1437, 13346, 8265, 18661, 29316, 22782, 15436, 16113, 28580, 26744, 15479, 27423, 34545, 30918, 12500, 33516, 8055, 4671, 27540, 12776, 29340, 16768, 10588, 22388, 7349, 32690, 25482, 5394, 15565, 17453, 25463, 28226, 32395, 17465, 5791, 24422, 1151, 20449, 5026, 15001, 32143, 12429, 15941, 13323, 30782, 15967, 19640, 19801, 1963, 25569, 26086, 23249, 11323, 3232, 3384, 3898, 1401, 3977, 14175, 5368, 30408, 31354, 18177, 4995, 16251, 12434, 21101, 6655, 26833, 8964, 16016, 29777, 13082, 18591, 16239, 24830, 19848, 17843, 8822, 13404, 11714, 26480, 18376, 22692, 26786, 15670, 16363, 63, 7143, 17833, 18580, 15752, 14598, 9043, 22585, 2398, 18475, 13989, 579, 21517, 27061, 4202, 30009, 23640, 24463, 10498, 2979, 16570, 32209, 21295, 8690, 2847, 7393, 24576, 3701, 7626, 16791, 1974, 26031, 29608, 4607, 12987, 27951, 9657, 2629, 1392, 28097, 30706, 29396, 8661, 25488, 10529, 22245, 5096, 34, 29684, 35416, 9445, 11255, 16367, 4424, 4608, 32345, 20451, 8306, 17932, 1049, 31545, 11485, 13573, 14596, 11484, 8787, 4611, 2585, 23541, 21255, 12388, 0, 21929, 5129, 4119, 28117, 11426, 34563, 10664, 5959, 10453, 6971, 18257, 12212, 3142, 23354, 26710, 23518, 33788, 19159, 15162, 4129, 20116, 4151, 3946, 35418, 17703, 23600, 25394, 14227, 7206, 30654, 6469, 26891, 31486, 16101, 20758, 8304, 33193, 12820, 20250, 17891, 11875, 16996, 9037, 32763, 20755, 3375, 32340, 34775, 22553, 23792, 5283, 13519, 10339, 13543, 20719, 26449, 15098, 20428, 14195, 9007, 20751, 7051, 3700, 9982, 6102, 21604, 8592, 7229, 32060, 8163, 6446, 20676, 4575, 15201, 15101, 4332, 7481, 8082, 20334, 16702, 15644, 2550, 26151, 30633, 7943, 16492, 29447, 21561, 6850, 3470, 6930, 20725, 892, 9144, 31052, 18153, 19665, 19627, 2801, 1708, 30825, 15719, 15307, 16237, 11013, 14017, 17682, 13377, 9465, 22929, 14057, 25486, 17760, 5282, 35003, 3795, 11763, 17901, 7852, 32573, 10759, 29208, 1117, 3998, 7232, 1047, 27563, 12379, 17783, 20236, 27164, 1623, 27431, 21855, 25034, 6032, 15393, 14050, 34878, 34410, 34306, 5745, 34315, 5894, 12711, 2513, 5530, 10790, 30641, 187, 12625, 21220, 13020, 10779, 20901, 35407, 31574, 17908, 31392, 16362, 15222, 12958, 20692, 34909, 749, 11789, 7654, 17415, 20995, 18422, 8928, 17734, 7112, 17768, 2261, 21880, 2564, 14108, 12639, 587, 10583, 1379, 19075, 6952, 10885, 29411, 15102, 759, 14087, 29019, 17134, 8926, 29089, 1233, 7758, 1082, 24096, 22625, 31078, 1250, 15184, 2411, 12114, 9095, 16275, 32029, 2050, 20629, 31255, 2127, 23150, 30617, 20852, 4766, 1058, 26902, 922, 11327, 13598, 13198, 2918, 14862, 34052, 25292, 35379, 19490, 481, 19570, 18972, 16962, 15421, 20743, 13436, 26737, 3920, 31453, 5548, 8525, 8815, 4753, 3228, 19241, 2414, 32760, 29860, 1552, 5252, 24274, 33932, 15579, 4430, 15357, 18378, 10094, 15901, 7287, 11243, 21463, 21224, 8817, 22423, 26018, 19375, 18132, 24494, 14649, 21298, 23733, 32605, 4283, 19329, 18094, 32042, 27467, 18974, 26118, 29059, 2240, 14778, 4144, 3866, 32746, 28088, 7931, 706, 11721, 29702, 10154, 28014, 17136, 20766, 33458, 12679, 24185, 22248, 28491, 28007, 7719, 25251, 5796, 26447, 11157, 19940, 14058, 7440, 3127, 25140, 13677, 22204, 3392, 18187, 29757, 17872, 32874, 9076, 17421, 9480, 9997, 22247, 2124, 21895, 18294, 19295, 18489, 26465, 6030, 11649, 5672, 4809, 14282, 7855, 16809, 6736, 5481, 4229, 16719, 3716, 28291, 1375, 35369, 848, 5888, 11609, 29363, 31040, 35156, 16759, 884, 10868, 20828, 1636, 2777, 29837, 16674, 31788, 6505, 11459, 15404, 13063, 17393, 6084, 31313, 5383, 10228, 8197, 25336, 11343, 7078, 14775, 22457, 30297, 18396, 1839, 649, 21125, 5227, 20599, 1089, 3536, 28970, 6771, 500, 20223, 8591, 25670, 22364, 30526, 10052, 34542, 14574, 21589, 8692, 11184, 32458, 4070, 22709, 5566, 34985, 30598, 20313, 10503, 3482, 12298, 10334, 20373, 32401, 31777, 22154, 10115, 11172, 12080, 23434, 9042, 10622, 2646, 22956, 33558, 23538, 14408, 20152, 23079, 26505, 9082, 7003, 31242, 11400, 32337, 19353, 30605, 20915, 18281, 2725, 16708, 25945, 14011, 9405, 14312, 12734, 13375, 11498, 23611, 16543, 21429, 26610, 28837, 15959, 31397, 32832, 19042, 4294, 34408, 5232, 17566, 4520, 20106, 15486, 19004, 12792, 6261, 5191, 3313, 32646, 26572, 9087, 1568, 35153, 24224, 34363, 5050, 10713, 1802, 31826, 3343, 31947, 26098, 6026, 27114, 19062, 11944, 34513, 8396, 6953, 26282, 2926, 14083, 26188, 18602, 2437, 897, 31544, 20274, 9231, 34747, 31340, 9358, 33644, 17927, 16109, 7259, 438, 20691, 19470, 21775, 8223, 32587, 1357, 32560, 32205, 19403, 17862, 24321, 10893, 7962, 6247, 27703, 32885, 30351, 29064, 6642, 4983, 13741, 12521, 16344, 2923, 13393, 12445, 25853, 1682, 13909, 25940, 7867, 34146, 19545, 4401, 907, 2372, 23163, 25213, 1937, 113, 7057, 26515, 9707, 17837, 20624, 18308, 14193, 13201, 7642, 21274, 31635, 6403, 32034, 13727, 32240, 8432, 33452, 3935, 9091, 32766, 13837, 2099, 8814, 32989, 3342, 8598, 11705, 14168, 29419, 11279, 31646, 28931, 14436, 20464, 30723, 30378, 27153, 12203, 29979, 13774, 14113, 16627, 11275, 1171, 10246, 16882, 8257, 8531, 13079, 2581, 9535, 2000, 16590, 13525, 4443, 6582, 11427, 35291, 25874, 28329, 33188, 18564, 11068, 20900, 19224, 31528, 12701, 35245, 25020, 14285, 23836, 9893, 34589, 24730, 4262, 12485, 17033, 32848, 18302, 20012, 12922, 22120, 7947, 17409, 403, 3284, 11880, 19104, 33679, 7751, 27580, 30791, 1088, 15463, 23682, 21124, 12988, 16971, 22969, 17572, 5001, 25639, 11306, 10427, 29914, 19443, 12469, 11661, 11447, 21419, 33487, 20882, 35368, 11017, 18760, 26371, 3903, 29332, 4084, 13302, 1861, 490, 14266, 14342, 27929, 18072, 22561, 12183, 24643, 8097, 2680, 33869, 9964, 32229, 14465, 33847, 9756, 2042, 16990, 3532, 27432, 15790, 16259, 1000, 7616, 21371, 8349, 14053, 2422, 27968, 12288, 10519, 29264, 25324, 29758, 31629, 17764, 32650, 19007, 4939, 486, 15677, 33321, 14739, 11489, 34267, 2351, 17809, 33448, 586, 1362, 6998, 4250, 1827, 29311, 21023, 5053, 30367, 18109, 19146, 6485, 14529, 20282, 10373, 26482, 32955, 16025, 31112, 13990, 21299, 11934, 9930, 14827, 15880, 18953, 35361, 13768, 18861, 8164, 15284, 1143, 3706, 613, 2424, 33854, 15551, 32393, 24357, 4104, 32065, 27786, 763, 33956, 33240, 14273, 7264, 18783, 4667, 32418, 9170, 9387, 32001, 4034, 30667, 1853, 4136, 7667, 9398, 12194, 30155, 30995, 14366, 231, 27743, 32455, 4350, 12999, 18824, 21435, 16855, 25190, 20802, 1902, 1320, 11806, 14532, 4853, 19820, 27744, 8681, 3552, 11819, 4598, 5280, 25022, 33611, 22051, 24034, 2983, 26982, 20276, 21845, 7345, 27314, 34402, 18136, 13443, 5159, 2418, 34604, 3747, 3598, 24253, 10839, 1706, 8527, 9656, 9748, 30671, 5255, 35103, 21439, 23248, 6396, 17815, 33987, 30214, 11777, 319, 19842, 33271, 4886, 17641, 22700, 13195, 7794, 22065, 14551, 3214, 2122, 27645, 24547, 7824, 23062, 3968, 31708, 22134, 21402, 16173, 14326, 7873, 9764, 14908, 11991, 27745, 20663, 28506, 8904, 24540, 15190, 5434, 33098, 8068, 5679, 13864, 34779, 2223, 3001, 22263, 30687, 18547, 3348, 10315, 25500, 1103, 16356, 3676, 30675, 23604, 7842, 27925, 9833, 28660, 14012, 33107, 29772, 30973, 1094, 18866, 29591, 26995, 13560, 26203, 26869, 15824, 1797, 5398, 29104, 21584, 3961, 20714, 19011, 20157, 27715, 16901, 938, 24113, 32834, 17472, 7308, 10157, 23699, 4268, 32636, 33391, 32529, 11663, 18287, 35364, 35329, 13518, 9837, 24795, 13304, 14549, 17166, 29439, 32980, 17180, 350, 32946, 22563, 6413, 33079, 8805, 11078, 23416, 2553, 32943, 31503, 4013, 549, 7160, 25600, 13083, 17130, 11229, 26936, 7730, 26652, 23911, 10355, 20440, 29594, 21127, 29322, 31375, 21878, 4025, 33488, 15723, 28995, 25714, 17788, 9673, 13158, 12590, 5289, 2135, 1313, 17727, 20649, 20165, 18774, 29195, 32999, 6394, 19681, 12733, 7439, 17087, 9168, 8300, 18441, 6549, 7674, 9979, 7342, 10053, 5864, 17456, 23130, 23312, 17650, 22180, 1075, 25431, 230, 14618, 31866, 7124, 1125, 17228, 1818, 31573, 10, 4806, 14842, 18106, 8510, 6563, 10111, 11837, 5035, 22280, 4795, 516, 1934, 14716, 33938, 30429, 30812, 2054, 33962, 171, 16511, 32934, 18572, 17896, 5741, 16118, 5039, 582, 33255, 22005, 15800, 30444, 4160, 12635, 16625, 17929, 11155, 7117, 26591, 30284, 27924, 18624, 24699, 34025, 659, 18265, 732, 22749, 15605, 17567, 449, 3369, 18080, 33698, 12338, 25763, 6423, 1511, 22225, 34228, 5329, 4397, 1645, 3476, 20527, 2238, 31042, 6970, 32157, 29328, 15116, 3004, 16044, 9176, 33256, 26210, 21684, 32397, 19542, 22549, 20885, 3394, 30177, 21228, 9937, 22223, 19845, 13327, 2954, 34963, 4344, 13552, 12265, 30705, 18022, 14613, 25812, 17411, 31295, 10085, 34490, 19877, 4354, 18654, 27661, 12617, 5190, 4981, 16837, 17745, 19479, 19644, 5571, 10019, 10243, 4038, 10306, 31107, 35152, 13653, 13153, 32342, 16705, 25353, 26929, 3602, 2712, 18201, 21382, 6277, 16089, 268, 3785, 20544, 17911, 10358, 29162, 17208, 27527, 31893, 2158, 5395, 4441, 6135, 7743, 6800, 21433, 24862, 23022, 12164, 17779, 20343, 3006, 26787, 32947, 846, 2728, 3991, 33491, 6284, 16043, 7253, 10940, 27593, 18567, 5552, 18117, 32952, 12906, 28087, 16547, 15725, 24326, 21818, 7955, 9361, 18085, 21492, 6745, 29103, 27031, 17995, 18630, 8879, 20656, 13646, 17971, 10137, 9637, 9890, 26815, 19800, 31366, 50, 21192, 26260, 11923, 7030, 34389, 35408, 1349, 35349, 3326, 9365, 35223, 15041, 33881, 12013, 8115, 18457, 16867, 28098, 18621, 251, 29677, 35025, 16940, 9039, 30349, 16450, 3979, 5717, 17125, 14431, 2683, 6748, 33198, 24133, 18432, 8651, 11500, 6862, 12449, 4472, 2693, 15508, 7179, 11373, 536, 18160, 2178, 95, 25548, 7091, 10683, 6477, 13007, 32156, 11187, 31845, 28082, 15741, 33909, 21999, 5475, 1329, 9883, 16496, 5059, 33784, 5295, 11688, 29478, 6581, 26475, 5709, 5366, 1731, 4721, 19342, 2912, 33295, 30455, 31855, 22178, 18454, 1361, 20565, 10236, 22919, 30813, 15836, 29453, 13396, 4312, 11518, 15269, 12198, 27338, 14487, 33439, 17023, 3887, 11173, 30809, 1316, 8916, 17725, 14287, 8546, 23642, 25568, 6031, 2747, 15876, 29230, 6777, 14478, 3828, 31853, 9379, 9147, 31151, 35121, 1419, 4994, 8721, 15263, 29058, 11166, 23915, 7394, 2572, 17336, 28220, 5411, 5290, 9725, 2935, 21727, 10287, 21229, 22865, 14066, 15011, 34715, 11398, 1672, 18963, 10409, 26894, 32241, 1478, 5991, 29570, 6204, 3936, 20153, 25878, 5809, 6073, 9726, 34841, 11046, 1665, 31438, 35417, 12119, 5906, 4632, 33735, 11348, 17551, 26521, 18288, 1424, 5117, 31765, 17992, 32691, 26211, 13041, 8036, 21780, 8389, 10381, 19979, 35381, 26264, 9876, 22476, 30464, 16371, 5635, 532, 2399, 175, 24237, 34324, 15365, 3081, 4073, 20231, 27685, 5153, 35280, 21946, 15497, 9054, 31813, 18238, 10411, 7963, 34561, 2823, 31649, 19196, 15987, 10057, 1396, 5033, 18059, 12786, 34061, 16045, 14007, 15137, 26597, 30640, 4329, 27051, 28383, 6979, 1479, 22259, 8435, 18424, 544, 11656, 6770, 22522, 5810, 6779, 1292, 29476, 2059, 22789, 20613, 10712, 1391, 11457, 807, 31519, 19654, 33179, 32356, 3179, 18608, 18453, 21889, 4759, 13057, 27055, 24316, 24944, 17581, 14138, 3311, 17457, 17898, 6414, 28910, 3733, 33335, 24803, 16299, 9086, 1294, 23009, 34621, 4775, 30135, 1720, 6765, 14055, 30176, 8412, 2840, 73, 29892, 27259, 1840, 2730, 17328, 27323, 14022, 7878, 16464, 19022, 8701, 21183, 34599, 20437, 12, 5840, 16236, 7242, 31789, 27658, 19511, 17382, 23900, 1972, 2548, 22784, 10717, 31439, 29390, 25435, 13657, 6740, 2166, 7587, 6251, 3504, 32984, 19951, 28188, 6449, 21307, 24598, 25278, 23787, 2549, 19079, 1611, 27012, 27534, 2444, 32856, 3300, 599, 31039, 20081, 15299, 2515, 14182, 14445, 18005, 25010, 31299, 33154, 19920, 16131, 1531, 5086, 12852, 16972, 13073, 16175, 1439, 3810, 12609, 11563, 22434, 8007, 4991, 3422, 14956, 3723, 2862, 32794, 30836, 14018, 23487, 34314, 7314, 17583, 4668, 14258, 8056, 31407, 11878, 22704, 10447, 24711, 7850, 9839, 3022, 440, 31162, 17549, 31123, 208, 10844, 13413, 4604, 1927, 10983, 15908, 3742, 27904, 14027, 24390, 20958, 1256, 33763, 21900, 20055, 16514, 14045, 13790, 6405, 20539, 27899, 31731, 12077, 32468, 17408, 19641, 6448, 20853, 31878, 2169, 2848, 20979, 30967, 12985, 31220, 33717, 19055, 22118, 1474, 15857, 19851, 19629, 31767, 33695, 2051, 10033, 10520, 35267, 2686, 28272, 27921, 33072, 13135, 32244, 10569, 6369, 19603, 16635, 1407, 24346, 2156, 1825, 12860, 7722, 16219, 21906, 13885, 13576, 10699, 15050, 30873, 9689, 11781, 7483, 8673, 12735, 14355, 853, 13949, 17750, 10463, 12706, 29371, 7726, 4292, 1340, 5079, 14680, 6984, 7834, 19811, 905, 4683, 19674, 2297, 7272, 15524, 32995, 24987, 1057, 11877, 11985, 30531, 880, 22050, 28048, 7687, 28693, 8490, 14948, 14134, 23885, 34409, 24486, 22088, 11673, 14197, 25077, 4016, 9700, 14554, 22656, 28680, 10044, 11262, 14439, 22636, 14866, 22809, 10676, 18797, 10417, 17850, 32804, 29060, 26423, 29009, 24970, 6340, 21740, 20985, 14178, 2045, 28255, 2106, 27608, 31886, 18211, 16498, 1921, 15912, 13729, 19352, 24723, 9761, 13899, 19817, 9574, 3540, 26400, 17163, 6830, 31370, 20578, 9732, 6454, 7494, 9842, 32204, 3071, 7782, 2026, 4306, 7542, 32464, 21118, 11780, 17979, 6170, 20302, 30093, 29245, 30724, 24303, 14951, 21598, 5671, 7709, 17327, 28544, 10548, 15432, 30708, 2517, 31396, 1994, 24381, 93, 32685, 34435, 13417, 13648, 12510, 9824, 16282, 26939, 25099, 19827, 16208, 7002, 2105, 10225, 20588, 17770, 11893, 29965, 13171, 4507, 30046, 2724, 847, 33285, 18258, 4763, 18321, 3102, 20931, 22250, 29310, 29020, 16127, 10171, 8473, 3808, 2577, 2345, 18932, 9260, 32683, 34662, 10662, 3362, 1561, 4533, 13161, 22471, 18582, 25095, 33977, 25737, 10051, 5742, 28796, 25184, 13049, 19764, 24217, 21887, 21225, 18808, 16046, 8437, 13013, 21318, 4808, 15847, 32608, 3192, 15030, 26655, 14092, 13630, 14452, 4474, 25984, 7799, 6366, 4066, 20870, 21494, 1155, 18620, 35300, 21113, 21655, 28194, 23387, 13491, 17185, 31839, 13540, 15331, 23722, 11256, 13930, 6088, 34622, 27722, 9033, 8267, 30774, 3066, 25304, 20432, 26166, 6803, 9679, 28808, 809, 18533, 19265, 10319, 1093, 18416, 9663, 27207, 34950, 18020, 19271, 16416, 22435, 25664, 9471, 26951, 1447, 10456, 15002, 2264, 20322, 14172, 14419, 30329, 26513, 2996, 10370, 21369, 12187, 21748, 6517, 11273, 5986, 7461, 21910, 5105, 5405, 21734, 14819, 30315, 9215, 29742, 21784, 3261, 19388, 11899, 725, 31908, 3507, 2089, 6528, 17146, 25085, 32700, 3730, 6054, 18944, 2037, 34224, 35342, 27042, 7754, 22829, 31325, 9214, 19846, 2433, 15816, 25282, 15355, 26160, 30363, 7437, 18271, 18078, 11968, 31376, 1196, 13473, 25342, 11575, 15503, 9942, 9097, 20942, 28270, 1257, 27720, 2780, 580, 17781, 1618, 13314, 30506, 8291, 31459, 11150, 8550, 26931, 31298, 14974, 7566, 23720, 23756, 12982, 27519, 12339, 8413, 20795, 6873, 1230, 5367, 15789, 15510, 12939, 27364, 11254, 32769, 26712, 3901, 14671, 5071, 2856, 5728, 15889, 8824, 28346, 20493, 19267, 12923, 15211, 1988, 28810, 15473, 8248, 12569, 10122, 13452, 13906, 17695, 2939, 15409, 17464, 27860, 8874, 19068, 27544, 3220, 4205, 15689, 25198, 28075, 31605, 7195, 2639, 35133, 18492, 25145, 18490, 34009, 9301, 20816, 27615, 1842, 8970, 28118, 6499, 15292, 19604, 11599, 3970, 12927, 20131, 14170, 3234, 9163, 9990, 6153, 26549, 3048, 34122, 25129, 27700, 10414, 3966, 11281, 34082, 29203, 6611, 3557, 6874, 5540, 26301, 19060, 25267, 12779, 27120, 28018, 30461, 3885, 2053, 31054, 29034, 14433, 21072, 32348, 923, 13932, 23477, 24564, 22812, 27766, 8326, 22230, 29739, 9094, 12970, 3518, 15537, 7732, 19314, 120, 18750, 33995, 9744, 31698, 7227, 9335, 24712, 23901, 22341, 14498, 19994, 16157, 28121, 35114, 21843, 3902, 12371, 18076, 8517, 4676, 14155, 19544, 23063, 18272, 33613, 33781, 6705, 18609, 5261, 26287, 3307, 4358, 12891, 1408, 19154, 28308, 16891, 17510, 11871, 26543, 12215, 13407, 6981, 14552, 2227, 24338, 13516, 33704, 12778, 6082, 16583, 5468, 12519, 13442, 8350, 16261, 31860, 16949, 19549, 15419, 17664, 16914, 6949, 33113, 20363, 5428, 22405, 18293, 14234, 6300, 8548, 1864, 4971, 33986, 16070, 20943, 16888, 7379, 24302, 31840, 34436, 15585, 6927, 473, 10300, 18447, 23540, 20944, 5837, 9727, 3546, 4385, 22712, 1293, 33760, 21452, 6674, 22125, 2429, 831, 26152, 11926, 12632, 6769, 20632, 8610, 33128, 22161, 23395, 31703, 21289, 6069, 8354, 23633, 5012, 3820, 5339, 22992, 8151, 34531, 8141, 24689, 11442, 11918, 28124, 8920, 6431, 28900, 17871, 26422, 2207, 9507, 19554, 2186, 5318, 7292, 501, 1627, 28576, 5545, 11546, 21109, 30503, 30719, 25899, 10999, 31914, 6807, 10874, 16333, 30350, 17396, 9834, 3430, 34575, 18149, 10046, 16347, 11867, 26308, 27872, 680, 12491, 19879, 15835, 15204, 26978, 22096, 31944, 12809, 4226, 4238, 1534, 32884, 30200, 19077, 22308, 6226, 14999, 21799, 9583, 15075, 16555, 31993, 14666, 25246, 2474, 32380, 13045, 9279, 5328, 26062, 10518, 5645, 321, 17508, 6570, 34027, 11162, 31637, 28208, 3876, 35074, 7233, 872, 31316, 7575, 11569, 2216, 1855, 21982, 19680, 28397, 2775, 23903, 8612, 6720, 30256, 20438, 28705, 3668, 23724, 14394, 33726, 25779, 19047, 2964, 4001, 17802, 17075, 12337, 19082, 19227, 8866, 4041, 24027, 16694, 1523, 35262, 20720, 5595, 24394, 25002, 1020, 7417, 6707, 23630, 11626, 31680, 22006, 2324, 32960, 25182, 12511, 19498, 15538, 3005, 35043, 10384, 19850, 25927, 20500, 27321, 17592, 3929, 7634, 10079, 22291, 18640, 12330, 13112, 7493, 10795, 14400, 15807, 24991, 2271, 15848, 34784, 7717, 15757, 19527, 10576, 33395, 15699, 13504, 17890, 29746, 18555, 11479, 23474, 17128, 16629, 4865, 8227, 6361, 8886, 21850, 13606, 16080, 6721, 25510, 11966, 32815, 3900, 17698, 15841, 13571, 914, 31398, 2877, 12768, 883, 23718, 14605, 4069, 6900, 12179, 19690, 12558, 34139, 3771, 31966, 27684, 898, 10345, 33843, 6039, 3586, 31946, 33628, 32615, 12086, 7004, 29974, 29427, 10682, 8696, 4469, 25419, 6839, 25638, 35334, 30958, 19813, 7240, 2894, 952, 31247, 29737, 2794, 12808, 26336, 7495, 1558, 26562, 21468, 13758, 26751, 16124, 9245, 17140, 20122, 9556, 30528, 19906, 12021, 4153, 9867, 21694, 28954, 5451, 30257, 6169, 33553, 12628, 32425, 20458, 20061, 19095, 6945, 15323, 24262, 13289, 15606, 2034, 26378, 20731, 19584, 19052, 10607, 16376, 16604, 32427, 11598, 14789, 9646, 1871, 1494, 25409, 25303, 11640, 2631, 20696, 18484, 27357, 33821, 26182, 12392, 25834, 31665, 26071, 14414, 26279, 15943, 28271, 32902, 23647, 15179, 19949, 12793, 27158, 13125, 20726, 33182, 15225, 21211, 28638, 30616, 35286, 34256, 7649, 4290, 29179, 6685, 33336, 16903, 5505, 20514, 3445, 742, 25778, 11517, 7223, 12757, 5828, 21264, 26503, 2452, 2134, 21771, 5682, 28469, 18458, 32283, 16072, 6744, 20197, 34988, 20044, 3421, 20662, 32334, 4696, 8258, 5131, 3414, 28152, 11193, 30829, 6276, 19152, 4082, 30589, 27687, 11232, 29469, 4817, 5408, 19588, 20362, 34790, 15398, 3633, 5691, 8666, 27768, 29750, 16842, 13513, 12614, 25716, 27734, 21881, 20140, 29870, 14893, 31904, 33643, 11099, 34095, 18428, 32893, 17792, 12816, 30313, 25232, 15290, 17967, 13459, 9499, 9100, 30332, 15253, 18751, 17391, 6208, 27699, 2152, 8621, 29336, 10818, 32370, 15845, 18469, 32852, 25290, 15095, 5596, 2389, 26840, 2161, 29470, 3931, 21933, 15072, 21562, 14741, 12386, 30592, 8004, 28274, 31603, 15455, 5631, 3505, 20078, 7409, 19270, 32631, 16036, 31577, 35269, 11190, 19960, 25815, 19859, 13331, 29420, 32130, 27377, 3826, 5729, 13742, 7200, 11919, 34934, 12828, 5753, 4944, 2232, 2907, 6527, 16178, 9491, 1327, 21654, 30343, 4922, 17864, 34297, 11233, 8684, 16698, 8311, 7445, 34875, 32578, 17488, 9407, 8956, 33838, 21600, 15210, 15671, 27794, 17444, 20506, 26087, 27854, 28115, 17420, 14488, 32860, 21556, 22036, 12331, 18027, 18051, 1383, 4927, 15313, 10449, 17665, 2965, 6831, 9232, 10193, 3767, 13919, 18726, 13524, 6912, 14793, 7759, 25231, 9820, 10023, 27931, 6884, 1741, 19952, 21174, 35041, 26713, 33512, 5889, 18012, 34414, 32250, 11432, 7401, 19408, 14765, 5300, 17089, 24577, 9711, 15271, 21189, 14128, 3451, 22076, 6028, 30733, 10484, 15616, 23074, 34736, 4915, 874, 3899, 4903, 24032, 25397, 29199, 22339, 17776, 15692, 21981, 30030, 20329, 33358, 12975, 31903, 26952, 30138, 10898, 3595, 17095, 11855, 16468, 17851, 21145, 10667, 10776, 12022, 9586, 2785, 26125, 7781, 4912, 1451, 27439, 34341, 12565, 29910, 29780, 5514, 27802, 19465, 13999, 10035, 4152, 10505, 8835, 7508, 4987, 31753, 30727, 34047, 25758, 21666, 9614, 588, 31735, 5474, 33492, 26122, 10918, 3905, 5711, 19253, 29781, 31965, 23240, 11805, 16613, 7556, 13664, 13964, 10320, 17520, 10003, 14767, 34246, 1980, 24778, 13022, 30149, 20350, 25044, 18162, 23598, 2455, 14069, 29803, 13748, 10330, 282, 20847, 1041, 17721, 16561, 11025, 4103, 15797, 10322, 29808, 4340, 23205, 11331, 25710, 21970, 3669, 12855, 23790, 17395, 31962, 8461, 20279, 24768, 14841, 7744, 5863, 10737, 26352, 17467, 22626, 34674, 25195, 33146, 614, 24457, 1582, 33730, 9946, 30860, 4557, 1631, 5605, 17236, 26756, 32436, 23080, 18438, 5734, 29582, 9219, 24009, 20805, 18167, 4439, 10047, 413, 30010, 14363, 9345, 19981, 30979, 20673, 12880, 26598, 13693, 34298, 7533, 22469, 4396, 12418, 31686, 4509, 2917, 32522, 8398, 3015, 12867, 1243, 29893, 4477, 24409, 11797, 9782, 16234, 21345, 2235, 31179, 18853, 16377, 23639, 571, 14878, 3978, 24250, 12479, 1758, 20365, 33405, 23175, 2048, 34885, 18071, 18338, 7486, 14969, 12707, 22403, 17688, 29022, 1274, 30119, 19735, 12173, 33608, 13736, 7139, 28502, 4094, 11057, 13136, 6731, 4163, 32574, 557, 5449, 226, 33010, 4059, 11165, 30261, 35027, 27695, 14998, 6184, 31523, 7701, 26794, 11592, 15991, 788, 37, 7946, 10579, 9436, 1538, 14879, 13692, 8678, 1664, 33658, 16736, 2649, 7090, 21261, 27917, 348, 5381, 31280, 4538, 12160, 26424, 21245, 12567, 18991, 13156, 23820, 8782, 3926, 2058, 14391, 25963, 5703, 8357, 15055, 5355, 12976, 30583, 25340, 2779, 16941, 26340, 12504, 2503, 11521, 18537, 5373, 25110, 10278, 19787, 16166, 28459, 8536, 26853, 20083, 16199, 21394, 25272, 20331, 16447, 2842, 390, 18988, 31212, 15202, 16297, 368, 35234, 2306, 25427, 1421, 1930, 17142, 33037, 2736, 33464, 5724, 16471, 31776, 24490, 10539, 12287, 26831, 34494, 1519, 6915, 30290, 7756, 17647, 21941, 14459, 2602, 1086, 13699, 9581, 18032, 16443, 6767, 6066, 7997, 2333, 31387, 10957, 35314, 24026, 28067, 10089, 21877, 4803, 2630, 14704, 31372, 3202, 21532, 21061, 27620, 25310, 8977, 22554, 11396, 34652, 34852, 9164, 26142, 5969, 3415, 16602, 7281, 23896, 1515, 34641, 33031, 34705, 2726, 8152, 23151, 16364, 7186, 23415, 34099, 10161, 17810, 9, 5674, 2076, 14774, 34241, 4993, 11117, 33280, 31233, 16538, 6608, 16412, 3712, 13643, 21713, 25620, 3551, 35404, 15192, 28941, 10308, 15073, 2527, 34010, 14005, 25836, 7529, 19567, 15523, 22472, 15932, 25057, 13558, 21193, 27417, 12603, 6150, 20361, 3009, 15722, 24190, 13451, 4158, 5472, 10948, 2695, 22716, 20096, 29486, 24300, 23401, 8989, 29028, 32872, 33008, 25065, 33006, 12355, 29373, 3255, 18901, 32478, 28671, 8168, 4581, 16349, 23209, 22227, 12380, 34920, 28936, 18793, 15626, 12839, 23553, 17018, 14262, 20524, 16504, 24058, 33855, 25365, 3217, 30934, 30229, 5666, 18223, 26583, 3867, 10394, 9464, 2811, 8910, 33482, 31697, 14712, 31133, 10367, 10438, 12798, 26053, 22971, 10347, 17190, 22329, 6386, 33532, 2537, 16701, 7747, 20085, 20066, 32336, 24099, 17361, 14890, 15743, 6128, 12493, 30272, 16853, 13342, 20000, 8069, 28582, 11816, 5522, 28511, 11307, 16123, 20769, 7893, 32531, 34884, 26812, 30003, 5130, 16737, 10997, 25977, 34331, 7841, 23314, 19140, 27384, 710, 6380, 31927, 25847, 30362, 17399, 30248, 19778, 16934, 14043, 24261, 13849, 18305, 17640, 2586, 31709, 35175, 4338, 22360, 5072, 9420, 2886, 20114, 12032, 10686, 29489, 34251, 10365, 17127, 6185, 2675, 12260, 13744, 4061, 9571, 35093, 32360, 9854, 14926, 13367, 21049, 4380, 16329, 16190, 18314, 9896, 23006, 9196, 4970, 26529, 1381, 23131, 15240, 7813, 3917, 14115, 11778, 33744, 10126, 7258, 17759, 14331, 11011, 7977, 30804, 21259, 19985, 9902, 4582, 29871, 15326, 9745, 28490, 20067, 29859, 32533, 20838, 9806, 27372, 21130, 29822, 1824, 29782, 23658, 21963, 18275, 1996, 12309, 14546, 33211, 14818, 19591, 34442, 1260, 29271, 27488, 31636, 21045, 5447, 6903, 6520, 14766, 4996, 16781, 19481, 10192, 18375, 5903, 28153, 9904, 6887, 3056, 6886, 11206, 30375, 16607, 1604, 35288, 9401, 4251, 22177, 3542, 14263, 18250, 11310, 7036, 17740, 2392, 903, 29176, 21731, 18746, 30501, 18519, 26592, 33817, 14771, 15782, 29888, 30371, 19151, 15846, 7843, 31928, 16744, 27629, 18330, 17961, 1908, 15272, 10687, 20161, 12868, 31890, 33944, 4504, 18456, 32012, 21414, 13209, 23309, 7467, 2574, 6422, 31234, 22608, 21920, 18299, 11820, 27222, 33496, 14059, 1446, 31531, 17505, 18171, 13711, 14379, 24588, 25738, 31800, 7110, 575, 16031, 15550, 4452, 16523, 8208, 18216, 8981, 23050, 35046, 4466, 21778, 17708, 11711, 21159, 1173, 32477, 7608, 20326, 4046, 19707, 6008, 26227, 28639, 2924, 6243, 1671, 3397, 18834, 1048, 13124, 25423, 9576, 17293, 6020, 13453, 4391, 17084, 4565, 4476, 3784, 25346, 7221, 6579, 12143, 19381, 9172, 1190, 23528, 32672, 950, 32439, 17441, 13592, 8896, 29703, 5639, 16979, 19182, 20905, 18196, 23866, 15627, 2863, 21546, 140, 26909, 16001, 3822, 17653, 16000, 16061, 3373, 10610, 33304, 27367, 11981, 1630, 16753, 19595, 13424, 23969, 17289, 6797, 14955, 22090, 3713, 20648, 11917, 15759, 11882, 9841, 19721, 21851, 17021, 4378, 33217, 10103, 30738, 8583, 6402, 21572, 46, 28685, 30685, 8846, 15838, 22598, 8476, 7243, 27383, 14822, 27609, 6592, 35162, 2133, 24036, 7199, 33200, 21699, 9240, 30939, 30459, 3462, 34592, 10928, 10543, 33664, 25192, 15058, 16106, 10523, 176, 2368, 4360, 4962, 27285, 3612, 31062, 13771, 16487, 29272, 31291, 5847, 2870, 4110, 17400, 32516, 32744, 8563, 6470, 20530, 26739, 25556, 6075, 25646, 6181, 11734, 2905, 34718, 22416, 15754, 24144, 2031, 27098, 3807, 26871, 8650, 25852, 25994, 27087, 2304, 21774, 20768, 2635, 21040, 8521, 14577, 33004, 25165, 15980, 8460, 2596, 14876, 21834, 19883, 30355, 10458, 4750, 32431, 14935, 14962, 14578, 24028, 31253, 21813, 35132, 22529, 23197, 10002, 18805, 21630, 640, 7173, 32105, 845, 28974, 22121, 15461, 14308, 23867, 15492, 32629, 18000, 22864, 3666, 5155, 29293, 17405, 18024, 25538, 4745, 9456, 5625, 33291, 15639, 19166, 27130, 16622, 34296, 25780, 23345, 13575, 18336, 16426, 18011, 3180, 31164, 24075, 17101, 30619, 32172, 25023, 31036, 7101, 14939, 20919, 654, 31825, 10090, 18404, 28275, 13431, 17354, 3345, 12863, 29638, 19256, 19193, 34272, 24478, 965, 3972, 26253, 23666, 35176, 11914, 20594, 9400, 35072, 1484, 27133, 21310, 1605, 31285, 17398, 13143, 28040, 18874, 22159, 21498, 31990, 2236, 33221, 10758, 6649, 8233, 9630, 23672, 11483, 10190, 30735, 4949, 24404, 21577, 27469, 23797, 21891, 270, 26647, 7698, 177, 20327, 21241, 11690, 13848, 27082, 6151, 18728, 35341, 21669, 20014, 13600, 4893, 19853, 27269, 14533, 10654, 5286, 4224, 4008, 6236, 11843, 5872, 18848, 13175, 21987, 6393, 8865, 5960, 14340, 12060, 4902, 14917, 18134, 25727, 4390, 26001, 10507, 1776, 21423, 14924, 17123, 21555, 27499, 3199, 15021, 13752, 8876, 33751, 6397, 16639, 34997, 26887, 22462, 1717, 17681, 24584, 10925, 27827, 31980, 5042, 24496, 7590, 11924, 12544, 9380, 18115, 18587, 32524, 772, 3079, 16413, 17232, 23920, 29537, 23513, 16584, 3974, 13662, 11696, 16830, 16615, 19725, 27313, 33334, 9101, 33415, 16729, 6392, 13868, 22198, 6673, 15212, 21063, 24884, 5256, 9489, 13374, 29123, 5970, 30420, 14341, 34991, 12555, 10318, 26692, 3824, 22683, 30851, 30218, 18503, 3683, 26911, 7568, 24845, 11287, 17257, 18772, 9641, 29042, 29282, 16493, 12781, 32676, 26244, 7450, 16145, 23536, 31833, 26034, 21791, 3264, 18461, 8889, 3894, 6113, 16748, 4881, 5603, 21503, 32695, 10060, 22179, 33266, 17511, 27240, 11505, 26956, 17112, 4248, 23507, 17462, 25308, 24996, 13538, 27578, 12949, 1643, 4403, 2280, 11703, 16318, 12439, 3512, 930, 23510, 30635, 8072, 6377, 26662, 26779, 7236, 15485, 4434, 19760, 31449, 8319, 19543, 5705, 35116, 11346, 1743, 3539, 16763, 3550, 34352, 4610, 1542, 27010, 1455, 15620, 21912, 28525, 9143, 32634, 27402, 2189, 34831, 26545, 25025, 23676, 14387, 16248, 7130, 33347, 20041, 1261, 33493, 7890, 9080, 5022, 7431, 5504, 21378, 10350, 4713, 29024, 3057, 33718, 7469, 22753, 13341, 10155, 10528, 26862, 6269, 27928, 25194, 77, 6868, 27405, 21893, 21701, 521, 1476, 25701, 19248, 16445, 11441, 12756, 20278, 27758, 2624, 9620, 16027, 31625, 30684, 19347, 30872, 3614, 11785, 4629, 33810, 27123, 26184, 31835, 30490, 35084, 30292, 31069, 29285, 4974, 3816, 24806, 51, 30982, 30627, 33517, 21041, 16785, 29251, 27406, 8667, 16104, 25909, 7020, 18782, 27408, 11590, 17649, 2977, 19924, 29821, 3100, 21648, 4616, 9994, 27016, 6434, 23815, 32180, 14797, 18455, 32576, 4166, 18143, 19509, 28517, 18425, 17903, 32219, 1353, 22454, 30321, 9898, 29887, 11515, 7772, 25877, 10494, 22321, 12062, 21207, 13123, 16582, 31614, 16581, 33365, 23629, 1712, 1481, 24388, 17693, 3314, 23852, 22340, 20372, 8532, 7532, 7550, 26084, 26172, 31149, 7582, 5144, 17928, 29098, 20429, 9447, 24549, 7686, 11034, 33475, 32488, 22294, 5246, 3864, 19642, 6106, 7454, 9823, 8518, 13357, 29804, 5825, 6375, 17438, 13074, 3788, 2507, 34329, 8728, 7745, 10316, 4498, 8882, 16666, 2367, 30244, 15343, 30997, 29832, 11545, 18666, 13567, 19186, 8580, 4982, 27057, 33446, 4819, 2662, 2025, 578, 34043, 34004, 28369, 6987, 1084, 24482, 21185, 8158, 14470, 17080, 24959, 32717, 8203, 4416, 29276, 24368, 7168, 20830, 6899, 9769, 25163, 18768, 12910, 20756, 25931, 18151, 17030, 29054, 10877, 32640, 8174, 14156, 6311, 14713, 26039, 14301, 20964, 34623, 16271, 21082, 11636, 3459, 7271, 16938, 200, 8013, 823, 5611, 15366, 5115, 31672, 8561, 1512, 30101, 289, 17200, 32697, 16675, 11900, 10012, 28486, 5180, 10926, 22045, 8093, 186, 10234, 32312, 20941, 1629, 953, 14947, 18166, 5418, 7826, 20200, 154, 300, 33500, 31329, 20300, 18993, 16879, 21292, 12630, 1539, 21238, 29239, 2916, 1285, 26064, 16717, 15156, 4957, 3086, 18284, 19577, 5363, 20335, 10533, 14985, 26752, 13816, 3181, 5186, 17643, 9342, 14364, 30574, 15708, 18889, 10769, 3843, 23371, 19523, 19233, 3074, 10467, 16055, 306, 27844, 3811, 29116, 28824, 26573, 21187, 18641, 6076, 696, 14754, 21599, 6148, 12822, 25916, 31483, 8838, 35350, 23128, 29849, 9530, 10901, 32151, 8646, 32078, 9910, 5730, 4488, 31537, 7749, 27440, 5680, 10099, 4909, 26168, 3047, 16451, 25426, 3625, 24297, 23742, 27570, 19525, 2288, 25139, 30626, 7066, 9364, 23509, 33527, 3812, 960, 16894, 25898, 19835, 29932, 29701, 16365, 115, 27770, 11522, 17699, 27781, 18268, 27060, 19710, 27605, 6533, 21606, 33115, 12091, 8796, 33731, 23381, 14516, 7197, 4814, 10486, 17436, 7067, 20664, 12681, 18945, 8270, 17906, 18064, 987, 18259, 10702, 32268, 2610, 33688, 29466, 12615, 16532, 17791, 26266, 24437, 29337, 14792, 3724, 15575, 535, 9950, 33402, 8122, 16695, 10479, 2763, 20603, 20477, 667, 4757, 34817, 16402, 23399, 28436, 526, 21057, 24885, 27105, 26706, 11123, 19475, 721, 17022, 24283, 4093, 27678, 8845, 7884, 426, 31823, 7764, 14179, 34178, 15491, 34118, 22418, 12127, 14249, 20715, 5267, 29576, 23784, 12741, 33714, 27472, 9419, 20899, 6722, 21374, 21121, 595, 31210, 13116, 18145, 3766, 30885, 32701, 28825, 19172, 33540, 17115, 33973, 2294, 22202, 418, 24396, 30858, 19478, 25932, 6825, 6317, 21424, 13333, 2300, 17683, 17079, 598, 8797, 26728, 20694, 4830, 20532, 18496, 29051, 13663, 11551, 14606, 35048, 7015, 26233, 5294, 17895, 7812, 34254, 12941, 21178, 19373, 13403, 26280, 12528, 919, 13189, 23872, 25300, 30116, 27464, 31300, 5652, 11095, 23644, 30021, 17887, 21741, 34900, 13920, 11325, 12890, 11246, 2953, 9511, 6648, 13870, 12651, 29308, 2313, 29212, 17676, 30793, 31771, 16495, 3267, 17559, 18977, 5425, 4729, 13501, 19492, 17548, 32202, 6156, 21852, 19371, 4412, 30857, 811, 22000, 32637, 8639, 1723, 30433, 419, 28769, 10461, 14672, 26298, 23359, 10949, 22795, 9403, 20761, 27015, 31326, 21466, 12428, 28972, 17179, 28574, 29775, 10635, 23397, 6755, 6594, 10337, 14004, 1106, 15796, 10238, 8464, 682, 5051, 10224, 4535, 32004, 2671, 25224, 23029, 26537, 18290, 8189, 2234, 2242, 12334, 19918, 6791, 25788, 29132, 3913, 31258, 15614, 32911, 16726, 21688, 25933, 30775, 7111, 34530, 25454, 12742, 33042, 11076, 14078, 17498, 15923, 32346, 34418, 5523, 13243, 7005, 29196, 8614, 7658, 16850, 15057, 7541, 33170, 13957, 32502, 24122, 19887, 27704, 15203, 13498, 13036, 4408, 15624, 17706, 8627, 6287, 2854, 23485, 12370, 15443, 9191, 2859, 8209, 19828, 562, 3287, 17296, 6065, 14248, 31433, 10748, 13472, 18394, 17834, 15105, 21801, 12503, 28440, 4959, 23038, 34481, 22014, 10340, 13890, 32206, 18864, 27083, 2898, 22648, 3537, 4774, 28015, 21223, 21302, 5323, 28148, 19307, 7304, 6938, 30964, 6773, 22108, 14374, 32561, 26134, 7780, 27273, 27232, 10441, 4821, 13004, 1774, 20895, 11110, 22425, 31310, 3983, 7996, 2710, 33382, 18229, 16872, 13457, 9122, 21384, 30127, 32827, 34245, 2545, 19936, 22964, 1724, 22474, 9851, 4752, 26045, 15302, 10281, 30694, 16050, 23341, 4871, 6305, 14611, 31727, 20364, 22238, 6373, 18679, 15196, 2421, 10741, 4656, 32200, 13366, 34353, 8595, 26496, 10211, 4458, 25388, 25981, 31454, 20246, 23358, 31091, 10392, 4045, 19407, 26500, 25578, 3644, 9524, 6447, 20285, 19838, 29625, 11857, 18114, 12595, 6131, 14601, 28765, 17933, 12856, 3622, 4145, 32663, 34154, 32837, 1378, 14569, 19626, 29548, 11888, 31317, 6840, 3726, 22460, 16129, 8513, 18443, 14284, 31673, 31265, 19802, 7299, 10640, 5998, 14275, 10876, 4552, 32167, 26195, 2143, 6835, 5497, 25691, 3224, 13755, 23798, 16924, 12281, 19027, 3444, 592, 19374, 10627, 11611, 29407, 6680, 35154, 28656, 23002, 31548, 21321, 26892, 10572, 27774, 19594, 18625, 5904, 24072, 32642, 2709, 12270, 33026, 7973, 21907, 9425, 16568, 195, 5876, 6347, 12740, 22451, 2153, 4315, 7436, 8686, 15239, 8400, 750, 21039, 16218, 17786, 2217, 27753, 30570, 19432, 9591, 31526, 15887, 8379, 13539, 25974, 26993, 9485, 31948, 29674, 27976, 22409, 23875, 9055, 28366, 20368, 1873, 24125, 2096, 27603, 21103, 32212, 785, 32572, 33859, 19819, 24383, 20903, 34656, 27834, 7869, 15622, 28755, 22216, 8325, 30764, 1121, 33, 8895, 10305, 12913, 27017, 3689, 1090, 12823, 34565, 15009, 5, 6322, 28039, 25041, 27769, 441, 8457, 4263, 25679, 1505, 33331, 10900, 20909, 19297, 17535, 16438, 32266, 18228, 20307, 23813, 20310, 604, 18729, 4740, 25245, 33070, 13084, 14072, 12075, 2667, 262, 1775, 1510, 26473, 23489, 1215, 13856, 16960, 9863, 15803, 17723, 17051, 21718, 25498, 29915, 14608, 34525, 1594, 21985, 14744, 29524, 10764, 19384, 9428, 9220, 29171, 6442, 5036, 5380, 6138, 16105, 32002, 15617, 31715, 22135, 6307, 24399, 6853, 12812, 6023, 11946, 25921, 32799, 5460, 5445, 33363, 1573, 5452, 35081, 1905, 2256, 1935, 7266, 9547, 29246, 1649, 10201, 3328, 5337, 8336, 33514, 30304, 19316, 30499, 20404, 24129, 20262, 1140, 26557, 1164, 7891, 28304, 17732, 1314, 18118, 33529, 24762, 24401, 11009, 19500, 33834, 498, 5777, 17855, 20271, 34006, 363, 20233, 29814, 15710, 23224, 3762, 13263, 8446, 6343, 27231, 18981, 35036, 5907, 4988, 14103, 928, 16680, 17262, 25100, 3178, 5812, 27755, 34062, 15256, 22839, 34646, 25408, 11270, 15979, 26139, 8825, 32500, 4662, 5160, 18359, 21432, 34698, 26123, 19397, 13190, 17076, 12189, 22156, 3407, 9749, 14730, 4633, 5996, 22725, 12945, 3996, 20079, 12953, 13186, 20092, 9474, 12175, 13405, 5077, 26245, 13137, 8986, 13313, 29071, 2205, 11176, 11061, 7765, 20407, 23939, 9505, 14047, 1795, 15682, 26332, 31847, 1299, 30384, 29139, 6378, 3508, 21373, 14067, 19913, 10542, 3412, 11753, 34040, 32076, 8924, 4402, 3817, 6424, 26769, 12618, 10919, 21938, 14640, 26584, 25021, 4479, 17767, 32988, 29584, 32926, 5262, 12641, 15945, 20739, 12272, 7444, 20010, 22404, 19385, 21036, 18039, 9590, 27507, 4124, 12422, 29474, 28876, 24971, 12547, 4178, 24772, 17155, 26032, 14350, 33649, 4619, 7921, 15138, 34654, 19071, 16549, 19414, 17122, 31710, 18133, 2927, 22199, 21770, 35311, 7969, 32305, 8288, 26889, 28585, 34473, 5471, 5212, 12200, 25153, 25739, 218, 31549, 2250, 1950, 989, 2851, 25150, 5073, 5766, 8430, 20582, 10757, 24038, 26012, 9868, 135, 24648, 30051, 2497, 1982, 29061, 33413, 5932, 20164, 5401, 14385, 21370, 4030, 5955, 11538, 21206, 9045, 7285, 33922, 25432, 10509, 5453, 17594, 29600, 21676, 22663, 35210, 12118, 16654, 6354, 11633, 35139, 20332, 27972, 28247, 19611, 13042, 17425, 13726, 8706, 21073, 4293, 21918, 15172, 11416, 34682, 34570, 13016, 20369, 6559, 29338, 1729, 5137, 32043, 11929, 3426, 34835, 8146, 20849, 20468, 3478, 14062, 15391, 31238, 13599, 11116, 567, 10534, 24960, 19164, 12912, 13527, 24391, 2208, 19561, 10032, 9564, 9669, 22376, 16981, 14228, 1449, 29442, 22715, 10050, 31404, 13310, 12369, 15775, 25621, 3356, 23005, 12110, 8588, 10499, 15883, 23480, 10939, 7894, 2778, 7270, 20117, 22069, 32479, 4846, 12608, 17976, 2201, 29626, 26469, 13728, 33696, 25773, 17897, 28460, 32645, 11111, 11852, 9826, 35100, 26490, 14922, 20339, 13578, 14015, 2253, 16802, 1405, 29109, 33141, 10746, 7838, 11474, 14825, 5483, 5078, 6824, 11859, 22042, 2098, 5486, 8447, 11856, 20700, 26542, 17536, 21339, 22905, 30525, 25838, 3288, 805, 10828, 12477, 5114, 6842, 11761, 25005, 8314, 9830, 15985, 14077, 10165, 8253, 32411, 16185, 9956, 11543, 5170, 4937, 10083, 431, 10735, 34326, 21691, 11686, 16032, 6523, 21172, 19177, 13894, 5440, 5310, 28729, 8156, 6235, 15855, 14477, 18739, 21753, 10594, 279, 13534, 34630, 34694, 23020, 34216, 1601, 16398, 15089, 19962, 30802, 12911, 17652, 13561, 1005, 5979, 10809, 25952, 32731, 32115, 16579, 19601, 32981, 12125, 23781, 26102, 2113, 1133, 8391, 34865, 21152, 16874, 20336, 24797, 8631, 6622, 29573, 34938, 24327, 5184, 32688, 6761, 33892, 34631, 17564, 8307, 21089, 21553, 20016, 5253, 6087, 31802, 13335, 22458, 9690, 6618, 15096, 19069, 22138, 12737, 17965, 9704, 20201, 14979, 21510, 2561, 21508, 20732, 11764, 33015, 34198, 14472, 30743, 31877, 21624, 32116, 712, 1960, 28292, 20564, 19002, 19020, 33652, 27449, 4436, 32858, 24927, 7459, 28917, 8408, 9989, 12416, 7178, 29846, 34857, 6637, 14995, 17487, 13353, 22299, 1227, 31764, 13617, 7836, 12950, 29713, 3024, 19589, 33288, 14526, 35290, 13239, 16690, 18775, 21856, 24159, 6738, 22685, 21330, 27975, 3547, 9816, 1368, 18243, 6541, 7365, 9077, 15981, 14803, 17215, 4446, 15609, 12283, 13716, 27937, 18617, 18778, 4321, 14136, 15750, 29507, 22593, 34303, 525, 17192, 13205, 13197, 1416, 8712, 26392, 29301, 10917, 7463, 1341, 18058, 29240, 19520, 3319, 6411, 800, 15077, 14167, 31554, 12038, 8508, 17690, 4722, 19111, 24209, 10354, 7578, 15022, 18334, 16843, 3506, 6867, 18951, 11450, 32192, 32274, 31583, 10159, 18604, 21860, 17093, 32549, 1693, 21721, 22276, 15970, 3097, 18740, 22433, 30451, 26810, 22516, 2192, 13601, 12408, 16609, 8801, 27117, 16576, 22659, 3196, 10546, 1016, 14235, 21846, 1947, 28303, 21450, 29379, 12672, 27342, 15895, 9786, 4462, 34872, 29901, 11724, 5981, 902, 12690, 20793, 17804, 2766, 4885, 22237, 21421, 3145, 18829, 7040, 25376, 7336, 7293, 19275, 19413, 7001, 29997, 15794, 9928, 13551, 14863, 17484, 25103, 31579, 18282, 27154, 14762, 17918, 26845, 32570, 19724, 22322, 21795, 8328, 5164, 8662, 13467, 12051, 20158, 7953, 20501, 33401, 21194, 13584, 34334, 1445, 5623, 25888, 10586, 35304, 15732, 24881, 12050, 4778, 13482, 34949, 31209, 31751, 32975, 6014, 17635, 26664, 8046, 12629, 20744, 34432, 34406, 1607, 33618, 22876, 17476, 2285, 3012, 34060, 18372, 33666, 20009, 11349, 5617, 6363, 20948, 26435, 29807, 23788, 26408, 182, 7695, 34602, 10163, 11453, 1219, 1977, 545, 1011, 2115, 19245, 7593, 8555, 18156, 26418, 20988, 25515, 30471, 1728, 10026, 5278, 9570, 9093, 30166, 1816, 83, 13311, 28477, 28792, 14633, 5085, 25437, 4146, 18184, 29191, 4065, 2108, 15881, 20390, 20422, 8724, 24632, 11023, 24045, 12604, 23573, 32102, 6229, 6019, 14354, 3509, 20330, 29991, 30169, 22049, 22649, 25735, 13280, 17849, 4074, 25018, 9848, 11042, 23202, 10570, 25219, 18468, 20839, 4620, 17981, 19776, 18111, 22579, 30831, 12846, 12284, 502, 16835, 24244, 296, 31811, 13730, 17086, 6186, 22785, 26733, 12312, 1007, 2676, 2915, 1803, 21379, 32233, 5264, 15214, 15081, 24468, 28688, 468, 22221, 26632, 9865, 15716, 21270, 2772, 33848, 4400, 8943, 15353, 5779, 15420, 20488, 17160, 25032, 19683, 12586, 9071, 21268, 7269, 33969, 5480, 5749, 7261, 11313, 9348, 11638, 966, 3923, 35061, 15801, 27470, 13232, 7416, 1226, 9057, 28388, 19539, 24701, 15968, 3405, 32164, 22446, 16774, 8733, 9424, 3371, 14609, 7103, 3523, 18559, 7600, 9406, 5736, 33090, 29430, 7545, 29649, 10333, 14723, 14547, 13347, 25480, 30625, 625, 33229, 6914, 3331, 13085, 116, 14695, 28050, 31761, 28285, 33687, 32189, 8165, 1158, 13267, 35087, 27701, 33046, 26484, 17372, 30940, 28650, 22099, 10636, 4563, 33065, 28163, 21443, 15777, 3752, 33547, 19658, 24698, 18498, 5209, 9975, 609, 13955, 18936, 15231, 11227, 6665, 25855, 12420, 26197, 9613, 10199, 33675, 2972, 8135, 2171, 2137, 5757, 9706, 11431, 9538, 12374, 7060, 33416, 5351, 1952, 21559, 4254, 7604, 33971, 17042, 17245, 8098, 34497, 1673, 24199, 18066, 32657, 14384, 19221, 30120, 34045, 24570, 15697, 16404, 34816, 17704, 1370, 2995, 12100, 8112, 13661, 30422, 28205, 31964, 25859, 10146, 32724, 5788, 4257, 18915, 2346, 8808, 22473, 11978, 8403, 16630, 33001, 14367, 14162, 10078, 32191, 33637, 27437, 1259, 4112, 32909, 26179, 27846, 33606, 23019, 12373, 6173, 14151, 8428, 3194, 29778, 14952, 19919, 4997, 3570, 875, 15008, 24647, 14299, 10444, 12539, 6342, 13614, 10181, 22151, 9888, 7673, 15238, 7029, 27646, 11762, 20171, 17746, 32367, 33343, 10814, 8674, 17255, 38, 14222, 2187, 19024, 6547, 14853, 34725, 4165, 7967, 13290, 148, 10009, 7998, 32410, 17870, 5178, 17707, 22744, 12478, 1648, 7816, 11951, 24286, 11074, 2705, 19148, 6969, 2103, 23143, 23272, 15168, 20470, 4036, 353, 132, 11492, 8488, 21129, 22359, 33344, 26596, 3146, 917, 13440, 6913, 34290, 10535, 5570, 21798, 7162, 1380, 18675, 12723, 2386, 28471, 13689, 18741, 17133, 2064, 13637, 9024, 34532, 20641, 9351, 30596, 34159, 22845, 14782, 30335, 15334, 14157, 7054, 641, 17973, 23621, 13113, 1182, 18900, 14616, 21288, 1267, 17114, 34776, 34851, 25091, 10092, 29317, 10659, 18573, 20238, 9137, 10062, 28979, 11814, 15862, 6598, 7656, 27601, 17272, 35338, 17935, 15170, 13879, 20817, 30216, 10915, 6318, 7691, 21115, 26762, 13773, 18769, 5792, 15014, 5801, 25468, 14964, 2612, 7347, 20570, 8060, 34571, 24946, 30333, 18274, 32728, 13033, 16886, 20392, 29017, 27034, 25938, 25999, 30544, 27554, 17877, 33158, 29415, 31225, 34417, 27022, 11467, 410, 33656, 2024, 34778, 27633, 30282, 26107, 9349, 13831, 21575, 9617, 29005, 18063, 4244, 28779, 21334, 32591, 24022, 5976, 18270, 1699, 33767, 5179, 10497, 23098, 13612, 28659, 29992, 16164, 1249, 32991, 32067, 34966, 14014, 32276, 11052, 22302, 3705, 281, 5088, 33126, 15362, 7035, 26764, 5201, 19986, 29307, 35240, 33994, 18488, 22412, 22285, 17202, 17239, 24088, 11211, 5185, 20323, 4468, 19506, 14861, 10557, 30543, 1459, 6654, 2327, 1915, 4636, 16503, 29538, 17610, 1747, 19426, 4587, 4407, 4972, 15946, 503, 15312, 32109, 10781, 879, 26124, 19409, 16428, 23060, 6293, 29497, 23406, 1528, 25744, 28524, 13939, 16226, 32704, 229, 32831, 29688, 34037, 10971, 9046, 17370, 32698, 5529, 17755, 2400, 22417, 617, 10516, 19131, 27267, 17406, 22970, 29201, 16608, 29954, 10600, 19844, 1794, 6929, 17692, 31283, 33490, 20908, 33816, 4383, 4128, 15668, 32145, 33407, 2439, 17280, 33054, 19773, 10672, 20634, 31792, 23499, 19442, 12240, 12977, 13493, 19322, 6130, 33813, 13684, 35237, 20051, 11863, 10525, 18937, 31689, 22026, 26754, 32459, 12682, 5789, 18062, 31002, 20063, 4060, 30657, 23757, 22896, 20504, 30874, 8688, 7212, 14807, 33965, 34234, 773, 18731, 8802, 1581, 29693, 11729, 165, 10804, 1703, 12463, 600, 18823, 34793, 9106, 11560, 7927, 7588, 2502, 16048, 33293, 9969, 7609, 26895, 8999, 26899, 16093, 7710, 30066, 8789, 2605, 19239, 21816, 6234, 9737, 11464, 20288, 14171, 35145, 31872, 33187, 7388, 6967, 8160, 16238, 22566, 3351, 13435, 9651, 31128, 4086, 30718, 31844, 26923, 7422, 7382, 27336, 23662, 30027, 3904, 3176, 17658, 3710, 28437, 22236, 11332, 6692, 23157, 32624, 26466, 25960, 11979, 13754, 4356, 3685, 15155, 22439, 27328, 5007, 20695, 15354, 7817, 3385, 12655, 19786, 21516, 32756, 33998, 21496, 10301, 34735, 16556, 15347, 16970, 4815, 7447, 9783, 24580, 3034, 16707, 24100, 13181, 18239, 2565, 27369, 27403, 6854, 20666, 31245, 14008, 20103, 32859, 31445, 13952, 27908, 16937, 18261, 16221, 20507, 34059, 2884, 22176, 29218, 10288, 33601, 7848, 31749, 29041, 25829, 5378, 2829, 30749, 6510, 2245, 21100, 31639, 28356, 2170, 14186, 32515, 22948, 18876, 34557, 15695, 32628, 28091, 18871, 12853, 4028, 5694, 32021, 17813, 35022, 18174, 16734, 31103, 1860, 21901, 23138, 15954, 35380, 23870, 15131, 9209, 20186, 14291, 10766, 8390, 20374, 3883, 11584, 22115, 28027, 21689, 10277, 12806, 2601, 18, 31550, 10512, 35184, 29315, 4241, 9647, 8388, 27210, 27427, 22913, 22427, 22251, 6457, 1986, 27180, 34366, 16915, 2835, 11277, 16611, 21043, 7460, 7702, 2506, 31060, 14286, 18047, 10923, 27557, 9628, 30100, 7811, 22078, 15851, 12134, 8309, 17534, 17151, 1965, 28353, 10428, 5010, 29292, 5298, 422, 17315, 1322, 23300, 10608, 29228, 3995, 8169, 10826, 4420, 34102, 31104, 12876, 16963, 19155, 10325, 5404, 3594, 1662, 33286, 25420, 10578, 5322, 31226, 5900, 7377, 19343, 32865, 484, 12659, 18644, 369, 13871, 28615, 3349, 27987, 32751, 7892, 17009, 29209, 18021, 5573, 17603, 31647, 1073, 29451, 8166, 11242, 68, 36, 6711, 10751, 25717, 16460, 13240, 10693, 25651, 33246, 10771, 14971, 3208, 30639, 3618, 17048, 6465, 2355, 4249, 9580, 21645, 13229, 1014, 32148, 1940, 6550, 16467, 16222, 14010, 17720, 15449, 12423, 24124, 33708, 31770, 5785, 14024, 10585, 2067, 17250, 34215, 2337, 2535, 4599, 4272, 17793, 6910, 16595, 19558, 15415, 20960, 34690, 9114, 2598, 16335, 1309, 16456, 20160, 34854, 11444, 30036, 8891, 14688, 4505, 32271, 10661, 21464, 1454, 34892, 26286, 31201, 11581, 26924, 34039, 14572, 17856, 23882, 5974, 30277, 2971, 21935, 25624, 18189, 32974, 11523, 2195, 33479, 26136, 3660, 20247, 14189, 28863, 25514, 10093, 29676, 4516, 32621, 32462, 3569, 30597, 651, 3799, 11733, 16577, 34275, 18982, 14813, 3911, 22844, 14727, 3175, 3847, 5225, 4779, 24977, 21698, 15314, 15237, 29384, 18318, 19367, 20351, 18161, 10597, 2447, 2786, 5134, 12770, 9160, 11016, 7144, 32711, 16801, 28542, 834, 21309, 23775, 9432, 8935, 21042, 28681, 33313, 974, 1598, 31585, 12787, 34368, 21882, 25154, 21612, 35108, 19119, 27112, 16276, 11405, 18688, 14505, 17117, 7370, 28257, 21161, 21570, 15554, 7632, 16927, 19783, 14811, 19213, 21557, 1209, 33315, 14823, 3684, 4313, 21749, 17636, 23926, 19238, 13718, 20749, 28955, 2554, 7628, 32630, 7520, 28712, 25181, 20857, 28057, 5402, 5223, 8211, 214, 34933, 33039, 12658, 5312, 90, 3806, 27422, 9329, 25550, 5636, 14799, 17657, 26059, 14089, 17145, 18562, 5696, 15635, 21520, 35397, 1458, 30411, 18734, 14456, 25585, 28896, 6194, 1916, 2685, 34056, 26802, 28918, 25083, 4666, 10696, 28533, 4769, 13382, 10723, 31344, 12210, 21859, 26774, 16716, 3244, 18999, 29187, 14410, 10143, 28895, 20465, 22421, 7367, 32442, 7742, 4572, 4367, 411, 10927, 13499, 9102, 27296, 2788, 30361, 29243, 18407, 24565, 18842, 18792, 7910, 4784, 20914, 6560, 13039, 2142, 18226, 22997, 5761, 28328, 32767, 673, 25036, 6364, 3398, 8979, 27657, 26771, 10752, 22171, 2831, 31000, 18433, 9047, 34348, 23235, 17642, 20721, 8575, 17671, 14403, 14564, 26817, 12587, 33397, 11662, 4680, 12016, 3031, 9389, 20660, 28284, 3112, 15477, 3455, 30041, 23530, 18026, 8606, 26011, 21615, 4789, 19541, 21495, 162, 21998, 23230, 27654, 35221, 33412, 13549, 301, 19616, 133, 25102, 25159, 4482, 14112, 23863, 19147, 31848, 31377, 20132, 12579, 23643, 22498, 13458, 31137, 22210, 13665, 25841, 25446, 1371, 22424, 32437, 6798, 7925, 6619, 3628, 105, 10460, 21139, 11610, 12782, 31513, 2283, 32435, 16476, 294, 3949, 18001, 35375, 6799, 31330, 4239, 561, 11015, 9869, 2562, 4284, 20398, 12357, 33990, 17242, 4569, 27332, 21707, 28254, 22271, 7065, 6651, 20675, 7858, 6071, 24649, 8034, 10628, 17311, 6663, 9899, 34767, 16539, 13886, 686, 14534, 471, 29056, 13344, 24626, 11655, 28986, 137, 7215, 32614, 10491, 22243, 17728, 20409, 28937, 35151, 11003, 3103, 20814, 7149, 13200, 17292, 3763, 3916, 3927, 28581, 954, 10511, 12181, 3317, 10215, 22759, 15513, 26047, 35305, 34964, 13803, 21244, 20366, 25741, 31502, 245, 32358, 340, 28497, 32774, 13425, 12529, 9855, 11750, 12157, 16077, 16844, 27047, 11854, 11079, 6871, 22411, 30260, 29922, 33279, 3117, 33678, 2743, 23284, 17694, 10061, 5865, 5149, 3798, 30488, 7994, 15764, 5099, 17811, 4874, 6836, 15294, 13122, 7614, 33533, 14161, 27048, 6696, 10191, 4953, 12862, 14105, 8441, 32830, 24515, 30751, 18379, 14176, 23669, 24153, 18833, 17313, 10765, 25549, 28483, 17987, 25485, 34948, 7397, 5340, 20353, 1632, 33774, 6188, 998, 27101, 16728, 14976, 1634, 2055, 5880, 32982, 21441, 2061, 33215, 4793, 12904, 26030, 32249, 20683, 18473, 26854, 11260, 6192, 32077, 31477, 33100, 22831, 32331, 1838, 14644, 15199, 112, 20259, 27864, 30788, 13178, 33437, 12306, 28777, 14895, 21531, 30235, 29069, 18869, 30112, 11866, 17524, 4530, 2714, 9680, 16580, 21714, 10182, 17560, 29505, 16900, 22577, 19143, 18554, 33867, 1999, 25706, 2514, 31694, 1689, 1269, 23547, 11269, 26611, 951, 1295, 22521, 30904, 10408, 22256, 25900, 31332, 2992, 2237, 27606, 22189, 15806, 19634, 20028, 30655, 9884, 18251, 19121, 3842, 34054, 29898, 34880, 7059, 16009, 25519, 17589, 20921, 14002, 25796, 16592, 9372, 21457, 32580, 23475, 11006, 20963, 2523, 3137, 22545, 35282, 13591, 3677, 33870, 17712, 6897, 33748, 11121, 4147, 23679, 27032, 5444, 4382, 32232, 12071, 33400, 11594, 14929, 32163, 19261, 17389, 1757, 18956, 14622, 10727, 5834, 25934, 7011, 19912, 20886, 20199, 23958, 23607, 209, 15119, 14615, 14720, 12633, 31724, 28316, 32038, 8212, 3101, 6693, 13034, 6027, 13968, 32289, 16060, 21305, 21171, 21024, 367, 4717, 32526, 12575, 3000, 15379, 11451, 24798, 31011, 16804, 32879, 12407, 13365, 23152, 31552, 28588, 32670, 3262, 21092, 2941, 16755, 19330, 6846, 18950, 16459, 33641, 27930, 4654, 31050, 21874, 5132, 33550, 5744, 18280, 4068, 17189, 20517, 1149, 17058, 30632, 7696, 6471, 21960, 25098, 8934, 8000, 7620, 1119, 2627, 8360, 28926, 29963, 33450, 26208, 25946, 1422, 10632, 2194, 1518, 24909, 23601, 9468, 34685, 23418, 6715, 32922, 6518, 35310, 34536, 24057, 12435, 11382, 10245, 34476, 16037, 34472, 21530, 20108, 26819, 2611, 7980, 9861, 8434, 8480, 15965, 34238, 6158, 5500, 24024, 28404, 7443, 26990, 28861, 17454, 10356, 4946, 5934, 17502, 23289, 6445, 21968, 33891, 8217, 26219, 22638, 3111, 4102, 28781, 6837, 12347, 12773, 15213, 543, 10065, 19049, 32881, 179, 16112, 6695, 9996, 33385, 32564, 19053, 10644, 22644, 1110, 19816, 2270, 19461, 13, 31261, 4455, 26857, 779, 12543, 3699, 28500, 31861, 22821, 15587, 2551, 14661, 17584, 5041, 3664, 19034, 6763, 4829, 11835, 2193, 6053, 25667, 11133, 31367, 3855, 21724, 34284, 5855, 29917, 12275, 17111, 16789, 10297, 7136, 21346, 28818, 1704, 7803, 26917, 11759, 8581, 22466, 14474, 29786, 16485, 2609, 32720, 20760, 19632, 9645, 15534, 22406, 1647, 27185, 23854, 12884, 28377, 16775, 24800, 19815, 13120, 1115, 32944, 31428, 13622, 34014, 31007, 7295, 14582, 21058, 1374, 6165, 16977, 11737, 23396, 7951, 15159, 1281, 9741, 20610, 34158, 11746, 15783, 2162, 14700, 34965, 6306, 1120, 8968, 3183, 15144, 21793, 11159, 34825, 18766, 23195, 14180, 7129, 16883, 33882, 7128, 4658, 18551, 24591, 19383, 11439, 1298, 29609, 33621, 7245, 15255, 17840, 30730, 6280, 11939, 7479, 35051, 9504, 10194, 34812, 13363, 10950, 16803, 74, 19655, 25208, 3054, 7661, 19058, 26657, 5526, 33605, 28554, 25987, 467, 1346, 6190, 26615, 34524, 34673, 17247, 7548, 35099, 32047, 20851, 32313, 35032, 10726, 19303, 7256, 10740, 1159, 27272, 30542, 8922, 25789, 7033, 33476, 6482, 16510, 18023, 8774, 6231, 4131, 3740, 15402, 34898, 2582, 20630, 2212, 7783, 15460, 10812, 9462, 5771, 3021, 27085, 3793, 19926, 21293, 9736, 15360, 9856, 35313, 33186, 583, 6794, 15266, 27664, 19714, 1756, 2949, 2659, 8993, 19114, 25373, 18549, 31211, 4057, 8079, 26621, 23351, 9526, 17686, 3882, 12797, 20576, 28090, 14911, 29818, 16819, 34829, 20005, 29097, 26898, 6948, 16854, 2290, 5922, 31836, 35426, 13071, 14779, 15545, 9323, 2530, 3577, 23036, 14461, 31144, 8757, 8697, 11236, 19433, 15999, 17875, 8313, 17532, 13167, 21031, 6193, 17509, 7099, 5291, 10581, 12794, 2642, 5095, 10789, 5826, 22937, 32035, 489, 7629, 15951, 13489, 25433, 13624, 26782, 3357, 13234, 8477, 14435, 35394, 11309, 32747, 14630, 22447, 1715, 19696, 12470, 31578, 24089, 14923, 27992, 2677, 18867, 13154, 14244, 14457, 7645, 22771, 30103, 4891, 15245, 12832, 23105, 17347, 8272, 2107, 19345, 32247, 23624, 18986, 2895, 4405, 10530, 33102, 3745, 20393, 17043, 9081, 25344, 8564, 8491, 6691, 7320, 29055, 18548, 21821, 4435, 32335, 12627, 19744, 20654, 14041, 21459, 35173, 2311, 943, 9062, 16897, 945, 15167, 18626, 21428, 8655, 15687, 4783, 1303, 14210, 21905, 18497, 15651, 12499, 13305, 3519, 5370, 19106, 25635, 12102, 18928, 31124, 21069, 24473, 16100, 25591, 24194, 20633, 6223, 3064, 10738, 18462, 16975, 9880, 33676, 21867, 28583, 9321, 8286, 29472, 23165, 25547, 12444, 2075, 11171, 6829, 18958, 20147, 7613, 17269, 13696, 34894, 855, 35347, 11037, 15285, 8892, 18419, 2190, 9931, 3463, 4227, 6439, 15589, 25442, 18965, 2861, 3041, 23339, 30317, 25348, 13169, 30136, 8193, 977, 11014, 7250, 28408, 10973, 34444, 31239, 7724, 12697, 11964, 28089, 9908, 31073, 19522, 2594, 15136, 8975, 3166, 22034, 17137, 21616, 20952, 3316, 3023, 4004, 16156, 3167, 26366, 27545, 21950, 21016, 10966, 6241, 15191, 10273, 18019, 25771, 14509, 31970, 10924, 9412, 25367, 10690, 25881, 14343, 13884, 16906, 25608, 15439, 4954, 25726, 11067, 15522, 7, 9481, 33942, 15163, 32504, 31192, 8613, 5813, 11513, 25641, 2604, 32713, 9778, 27759, 18435, 302, 19441, 16704, 1702, 7679, 21723, 6656, 17107, 31830, 32660, 11897, 21210, 33171, 12239, 7290, 15929, 26173, 22470, 31600, 21690, 12561, 398, 298, 28101, 1752, 13782, 20671, 20574, 9947, 1279, 19705, 15892, 13292, 531, 26066, 22805, 4850, 20460, 35007, 10039, 28315, 17019, 13183, 6937, 14715, 14620, 14438, 11635, 3984, 34321, 12266, 33233, 16216, 34686, 27029, 18240, 5479, 29070, 22747, 35115, 724, 1525, 11896, 32585, 31010, 33289, 3606, 35192, 4148, 8658, 11722, 6982, 20698, 2128, 18857, 25947, 14619, 13474, 10879, 11604, 34289, 29790, 34953, 10382, 733, 2110, 13270, 20193, 10887, 1332, 14882, 13855, 10070, 13502, 16341, 17853, 10641, 10902, 21338, 3283, 3252, 25328, 8720, 30961, 8369, 15859, 20047, 16014, 6658, 1043, 18324, 26588, 25114, 9701, 25398, 18781, 17590, 11205, 10119, 26337, 10808, 9402, 9936, 5993, 20746, 4591, 4741, 6942, 33163, 981, 20651, 26358, 8044, 11892, 15300, 15504, 2618, 35393, 7909, 28065, 17715, 21279, 20707, 10612, 20308, 16323, 24330, 11802, 9846, 30787, 1872, 5251, 1172, 792, 19435, 16419, 4577, 31243, 17731, 8806, 24728, 22695, 430, 29124, 13564, 12674, 33900, 30889, 20986, 5167, 3756, 658, 26734, 478, 1793, 21070, 33972, 2767, 6965, 7922, 8541, 910, 16139, 3160, 16881, 3761, 31756, 16452, 33077, 21869, 1628, 14838, 12926, 1635, 21329, 32450, 15944, 4125, 4548, 25375, 18084, 31882, 20894, 31182, 8348, 2163, 19993, 8813, 12715, 11793, 14075, 20105, 7392, 20035, 1146, 6678, 3050, 21628, 10247, 31604, 17435, 10081, 12817, 12010, 17507, 15681, 27777, 29039, 16706, 8500, 21301, 14139, 27027, 183, 31068, 13446, 21807, 9394, 31495, 15745, 3449, 2703, 11707, 4649, 19189, 22444, 97, 16252, 5125, 26082, 11147, 24079, 34586, 7316, 23447, 34225, 21986, 22923, 9346, 17350, 4833, 19057, 33534, 1019, 17353, 1394, 34471, 15788, 14886, 8150, 17691, 3997, 4876, 34201, 5860, 29454, 4719, 21376, 33222, 34883, 32788, 222, 23016, 4554, 31821, 4630, 6758, 21973, 8857, 33465, 6022, 4437, 11997, 20801, 21623, 18885, 21222, 10235, 8747, 7569, 30426, 35144, 5305, 2976, 17578, 169, 30769, 1148, 7914, 5108, 8089, 19622, 32737, 2669, 31274, 15570, 18507, 30549, 28044, 1681, 3613, 32775, 5024, 30661, 9789, 34114, 27761, 20071, 31879, 8976, 11056, 22394, 32951, 12502, 12264, 13795, 24353, 14211, 10298, 1553, 16250, 23805, 22003, 31193, 35050, 4508, 3132, 21729, 18569, 6101, 34526, 12920, 31230, 18006, 9903, 9282, 14221, 30060, 8449, 27009, 19971, 35080, 6266, 14237, 24128, 3002, 10082, 15657, 17687, 5564, 10510, 18105, 19966, 35137, 3147, 4989, 2482, 32088, 23466, 21922, 8137, 9671, 8321, 7774, 17495, 394, 12714, 15177, 16968, 18495, 30224, 5584, 18665, 2301, 25876, 14378, 5977, 9849, 28365, 5594, 8780, 27666, 3578, 21631, 18327, 7363, 708, 27229, 12780, 15152, 34281, 1883, 19456, 16754, 5489, 3717, 9550, 20971, 8649, 16558, 26775, 21227, 2319, 2771, 7763, 30253, 13822, 5807, 13687, 10485, 4595, 11425, 28644, 2066, 15899, 18382, 2381, 23408, 4887, 8195, 28661, 3503, 15321, 24220, 14019, 23071, 28901, 19255, 21825, 16083, 9410, 32321, 2032, 20480, 33267, 25264, 4958, 6451, 20212, 13259, 26199, 31499, 8616, 24688, 17521, 33578, 25965, 24566, 4438, 16821, 28839, 13080, 32850, 31328, 15066, 17131, 19894, 20389, 31846, 19862, 13911, 32662, 20998, 4799, 9895, 15573, 30728, 25301, 11142, 28390, 20030, 1200, 33572, 11351, 20450, 14894, 8853, 29722, 10553, 660, 20600, 28504, 3162, 25111, 1583, 10040, 28541, 24142, 25783, 8012, 33655, 33225, 21732, 21596, 29569, 25729, 28474, 5946, 4243, 10289, 12789, 13468, 14831, 18759, 33541, 5560, 1899, 18356, 10207, 29492, 16151, 5161, 1878, 33457, 34227, 10820, 32841, 14786, 3115, 19576, 2483, 11536, 30056, 8469, 6554, 15998, 27618, 10526, 1615, 3360, 10589, 33591, 458, 23367, 14694, 16740, 7452, 8048, 27182, 16765, 16491, 5093, 18652, 432, 10666, 30879, 31627, 10138, 16653, 9484, 32275, 6677, 14682, 30756, 3646, 23890, 29490, 23801, 24474, 32281, 19032, 8685, 26306, 7505, 21849, 14746, 4287, 11393, 5722, 21768, 7723, 34013, 10452, 34724, 27375, 18402, 1499, 2275, 2607, 14441, 18511, 22987, 3247, 12024, 8854, 14519, 5964, 8501, 34792, 28850, 12063, 16916, 31251, 4414, 21627, 765, 9780, 33812, 29479, 23380, 34806, 34567, 9038, 1434, 5070, 9385, 19434, 29747, 2231, 4456, 34983, 16223, 17736, 24395, 27347, 25452, 4051, 11378, 22123, 32469, 7265, 27575, 22089, 14538, 3083, 15120, 4828, 4638, 24681, 25806, 22519, 15739, 22362, 20717, 29586, 22483, 6857, 4433, 23992, 3177, 31722, 12108, 8600, 21303, 9433, 2883, 15580, 6415, 34675, 15317, 12838, 6999, 14076, 17556, 24314, 5081, 24719, 396, 13281, 2826, 5846, 12014, 5432, 34856, 24501, 5793, 30209, 14317, 7807, 16820, 26296, 23199, 2085, 16632, 14357, 35275, 22275, 2592, 16484, 29160, 581, 29683, 29718, 6991, 10216, 6163, 7948, 30472, 6108, 16648, 8936, 8715, 6752, 1834, 7753, 7694, 10770, 26984, 31907, 6180, 35126, 32136, 33588, 23185, 11055, 13218, 31442, 21449, 3758, 35160, 12738, 3711, 21408, 34691, 1584, 26896, 9221, 18007, 32519, 2615, 2292, 20452, 789, 21956, 1023, 11238, 20062, 23938, 22544, 4471, 24170, 27136, 32699, 20754, 31805, 8341, 5831, 3453, 2394, 9954, 20004, 5195, 21608, 34401, 9171, 220, 18326, 13422, 27356, 3640, 27628, 31015, 5250, 1740, 17922, 9019, 11122, 10798, 25688, 33310, 22343, 26304, 32338, 6498, 29774, 10064, 17993, 711, 29995, 6199, 16194, 33299, 35037, 11677, 13015, 15894, 5235, 3623, 34068, 33333, 3748, 13679, 12289, 11548, 34663, 19569, 16322, 7076, 15515, 32551, 15784, 19046, 21817, 27050, 14309, 30770, 19300, 20592, 11984, 32125, 19777, 29197, 3749, 13043, 16685, 397, 3271, 6757, 5513, 19008, 9935, 1324, 35157, 1157, 30620, 2869, 30777, 1344, 28157, 18264, 12047, 11386, 13861, 12656, 25451, 5348, 1174, 13688, 23067, 19983, 12033, 30664, 22165, 28893, 383, 19526, 24682, 1483, 20101, 26940, 34044, 2179, 7408, 7198, 34996, 8335, 4755, 22769, 25075, 32332, 32892, 34765, 13627, 6698, 3692, 24812, 33312, 19727, 26330, 25925, 23575, 20889, 12545, 34927, 32707, 3502, 2566, 8032, 32062, 24911, 5249, 17925, 21453, 29500, 17997, 33632, 17323, 19427, 4578, 16953, 23688, 26263, 7100, 15879, 1929, 6686, 12938, 14585, 15250, 9676, 8086, 1800, 10596, 23822, 11957, 21163, 3269, 2913, 17909, 13019, 14318, 34734, 31913, 11953, 32098, 24771, 4298, 19296, 24769, 5157, 3218, 8750, 27933, 16909, 28222, 7196, 19656, 12843, 29233, 17378, 14442, 11516, 9926, 21383, 20863, 13701, 10930, 30001, 32967, 34941, 31198, 387, 3696, 27175, 26292, 29119, 15126, 8198, 28515, 17611, 14454, 4524, 25288, 33354, 5924, 9940, 31525, 15715, 4643, 2385, 299, 20652, 5875, 27421, 3337, 34373, 21460, 12411, 10086, 5829, 7219, 8076, 23905, 32554, 17913, 12409, 524, 6252, 22114, 757, 2136, 10929, 34760, 15940, 33934, 35206, 20716, 13162, 13509, 35057, 10592, 16989, 16361, 15705, 34369, 26609, 21609, 2985, 14491, 32362, 4330, 6821, 19283, 28675, 31858, 21677, 6584, 17730, 14204, 32752, 11998, 21792, 9569, 22129, 19225, 32171, 11383, 1400, 12273, 9497, 16126, 30629, 23619, 3679, 21772, 25643, 17735, 19145, 5396, 33626, 31682, 12333, 20267, 10568, 25950, 361, 12719, 3877, 17224, 263, 17303, 34287, 28362, 6920, 28300, 2947, 25602, 14462, 20729, 4011, 13944, 23273, 19444, 3848, 6848, 22066, 31871, 18030, 2226, 822, 22009, 14965, 10022, 25814, 15383, 8816, 9543, 25587, 3213, 10321, 12041, 7583, 1812, 19524, 17282, 16833, 33232, 31999, 9418, 284, 35370, 25767, 1698, 33083, 12263, 28880, 34155, 32414, 32784, 31945, 12276, 7757, 23234, 15566, 30998, 13388, 26800, 34220, 18421, 1529, 20089, 23940, 4050, 12879, 19080, 4827, 3850, 5952, 34689, 26821, 11302, 7218] not in index'",
     "output_type": "error",
     "traceback": [
      "\u001b[1;31m---------------------------------------------------------------------------\u001b[0m",
      "\u001b[1;31mKeyError\u001b[0m                                  Traceback (most recent call last)",
      "\u001b[1;32m~\\AppData\\Local\\Temp/ipykernel_24212/69824909.py\u001b[0m in \u001b[0;36m<module>\u001b[1;34m\u001b[0m\n\u001b[0;32m      6\u001b[0m \u001b[1;33m\u001b[0m\u001b[0m\n\u001b[0;32m      7\u001b[0m \u001b[1;32mfor\u001b[0m \u001b[0miter_num\u001b[0m\u001b[1;33m,\u001b[0m \u001b[1;33m(\u001b[0m\u001b[0mtrain_indices\u001b[0m\u001b[1;33m,\u001b[0m \u001b[0mtest_indices\u001b[0m\u001b[1;33m)\u001b[0m \u001b[1;32min\u001b[0m \u001b[0menumerate\u001b[0m\u001b[1;33m(\u001b[0m\u001b[0mcv_object\u001b[0m\u001b[1;33m.\u001b[0m\u001b[0msplit\u001b[0m\u001b[1;33m(\u001b[0m\u001b[0mX\u001b[0m\u001b[1;33m,\u001b[0m\u001b[0my\u001b[0m\u001b[1;33m)\u001b[0m\u001b[1;33m)\u001b[0m\u001b[1;33m:\u001b[0m\u001b[1;33m\u001b[0m\u001b[1;33m\u001b[0m\u001b[0m\n\u001b[1;32m----> 8\u001b[1;33m     \u001b[0mlr_clf\u001b[0m\u001b[1;33m.\u001b[0m\u001b[0mfit\u001b[0m\u001b[1;33m(\u001b[0m\u001b[0mX\u001b[0m\u001b[1;33m[\u001b[0m\u001b[0mtrain_indices\u001b[0m\u001b[1;33m]\u001b[0m\u001b[1;33m,\u001b[0m\u001b[0my\u001b[0m\u001b[1;33m[\u001b[0m\u001b[0mtrain_indices\u001b[0m\u001b[1;33m]\u001b[0m\u001b[1;33m)\u001b[0m  \u001b[1;31m# train object\u001b[0m\u001b[1;33m\u001b[0m\u001b[1;33m\u001b[0m\u001b[0m\n\u001b[0m\u001b[0;32m      9\u001b[0m     \u001b[0my_hat\u001b[0m \u001b[1;33m=\u001b[0m \u001b[0mlr_clf\u001b[0m\u001b[1;33m.\u001b[0m\u001b[0mpredict\u001b[0m\u001b[1;33m(\u001b[0m\u001b[0mX\u001b[0m\u001b[1;33m[\u001b[0m\u001b[0mtest_indices\u001b[0m\u001b[1;33m]\u001b[0m\u001b[1;33m)\u001b[0m \u001b[1;31m# get test set precitions\u001b[0m\u001b[1;33m\u001b[0m\u001b[1;33m\u001b[0m\u001b[0m\n\u001b[0;32m     10\u001b[0m \u001b[1;33m\u001b[0m\u001b[0m\n",
      "\u001b[1;32m~\\anaconda3\\envs\\MachineL1\\lib\\site-packages\\pandas\\core\\series.py\u001b[0m in \u001b[0;36m__getitem__\u001b[1;34m(self, key)\u001b[0m\n\u001b[0;32m    964\u001b[0m             \u001b[1;32mreturn\u001b[0m \u001b[0mself\u001b[0m\u001b[1;33m.\u001b[0m\u001b[0m_get_values\u001b[0m\u001b[1;33m(\u001b[0m\u001b[0mkey\u001b[0m\u001b[1;33m)\u001b[0m\u001b[1;33m\u001b[0m\u001b[1;33m\u001b[0m\u001b[0m\n\u001b[0;32m    965\u001b[0m \u001b[1;33m\u001b[0m\u001b[0m\n\u001b[1;32m--> 966\u001b[1;33m         \u001b[1;32mreturn\u001b[0m \u001b[0mself\u001b[0m\u001b[1;33m.\u001b[0m\u001b[0m_get_with\u001b[0m\u001b[1;33m(\u001b[0m\u001b[0mkey\u001b[0m\u001b[1;33m)\u001b[0m\u001b[1;33m\u001b[0m\u001b[1;33m\u001b[0m\u001b[0m\n\u001b[0m\u001b[0;32m    967\u001b[0m \u001b[1;33m\u001b[0m\u001b[0m\n\u001b[0;32m    968\u001b[0m     \u001b[1;32mdef\u001b[0m \u001b[0m_get_with\u001b[0m\u001b[1;33m(\u001b[0m\u001b[0mself\u001b[0m\u001b[1;33m,\u001b[0m \u001b[0mkey\u001b[0m\u001b[1;33m)\u001b[0m\u001b[1;33m:\u001b[0m\u001b[1;33m\u001b[0m\u001b[1;33m\u001b[0m\u001b[0m\n",
      "\u001b[1;32m~\\anaconda3\\envs\\MachineL1\\lib\\site-packages\\pandas\\core\\series.py\u001b[0m in \u001b[0;36m_get_with\u001b[1;34m(self, key)\u001b[0m\n\u001b[0;32m    999\u001b[0m             \u001b[1;31m#  (i.e. self.iloc) or label-based (i.e. self.loc)\u001b[0m\u001b[1;33m\u001b[0m\u001b[1;33m\u001b[0m\u001b[1;33m\u001b[0m\u001b[0m\n\u001b[0;32m   1000\u001b[0m             \u001b[1;32mif\u001b[0m \u001b[1;32mnot\u001b[0m \u001b[0mself\u001b[0m\u001b[1;33m.\u001b[0m\u001b[0mindex\u001b[0m\u001b[1;33m.\u001b[0m\u001b[0m_should_fallback_to_positional\u001b[0m\u001b[1;33m(\u001b[0m\u001b[1;33m)\u001b[0m\u001b[1;33m:\u001b[0m\u001b[1;33m\u001b[0m\u001b[1;33m\u001b[0m\u001b[0m\n\u001b[1;32m-> 1001\u001b[1;33m                 \u001b[1;32mreturn\u001b[0m \u001b[0mself\u001b[0m\u001b[1;33m.\u001b[0m\u001b[0mloc\u001b[0m\u001b[1;33m[\u001b[0m\u001b[0mkey\u001b[0m\u001b[1;33m]\u001b[0m\u001b[1;33m\u001b[0m\u001b[1;33m\u001b[0m\u001b[0m\n\u001b[0m\u001b[0;32m   1002\u001b[0m             \u001b[1;32melse\u001b[0m\u001b[1;33m:\u001b[0m\u001b[1;33m\u001b[0m\u001b[1;33m\u001b[0m\u001b[0m\n\u001b[0;32m   1003\u001b[0m                 \u001b[1;32mreturn\u001b[0m \u001b[0mself\u001b[0m\u001b[1;33m.\u001b[0m\u001b[0miloc\u001b[0m\u001b[1;33m[\u001b[0m\u001b[0mkey\u001b[0m\u001b[1;33m]\u001b[0m\u001b[1;33m\u001b[0m\u001b[1;33m\u001b[0m\u001b[0m\n",
      "\u001b[1;32m~\\anaconda3\\envs\\MachineL1\\lib\\site-packages\\pandas\\core\\indexing.py\u001b[0m in \u001b[0;36m__getitem__\u001b[1;34m(self, key)\u001b[0m\n\u001b[0;32m    929\u001b[0m \u001b[1;33m\u001b[0m\u001b[0m\n\u001b[0;32m    930\u001b[0m             \u001b[0mmaybe_callable\u001b[0m \u001b[1;33m=\u001b[0m \u001b[0mcom\u001b[0m\u001b[1;33m.\u001b[0m\u001b[0mapply_if_callable\u001b[0m\u001b[1;33m(\u001b[0m\u001b[0mkey\u001b[0m\u001b[1;33m,\u001b[0m \u001b[0mself\u001b[0m\u001b[1;33m.\u001b[0m\u001b[0mobj\u001b[0m\u001b[1;33m)\u001b[0m\u001b[1;33m\u001b[0m\u001b[1;33m\u001b[0m\u001b[0m\n\u001b[1;32m--> 931\u001b[1;33m             \u001b[1;32mreturn\u001b[0m \u001b[0mself\u001b[0m\u001b[1;33m.\u001b[0m\u001b[0m_getitem_axis\u001b[0m\u001b[1;33m(\u001b[0m\u001b[0mmaybe_callable\u001b[0m\u001b[1;33m,\u001b[0m \u001b[0maxis\u001b[0m\u001b[1;33m=\u001b[0m\u001b[0maxis\u001b[0m\u001b[1;33m)\u001b[0m\u001b[1;33m\u001b[0m\u001b[1;33m\u001b[0m\u001b[0m\n\u001b[0m\u001b[0;32m    932\u001b[0m \u001b[1;33m\u001b[0m\u001b[0m\n\u001b[0;32m    933\u001b[0m     \u001b[1;32mdef\u001b[0m \u001b[0m_is_scalar_access\u001b[0m\u001b[1;33m(\u001b[0m\u001b[0mself\u001b[0m\u001b[1;33m,\u001b[0m \u001b[0mkey\u001b[0m\u001b[1;33m:\u001b[0m \u001b[0mtuple\u001b[0m\u001b[1;33m)\u001b[0m\u001b[1;33m:\u001b[0m\u001b[1;33m\u001b[0m\u001b[1;33m\u001b[0m\u001b[0m\n",
      "\u001b[1;32m~\\anaconda3\\envs\\MachineL1\\lib\\site-packages\\pandas\\core\\indexing.py\u001b[0m in \u001b[0;36m_getitem_axis\u001b[1;34m(self, key, axis)\u001b[0m\n\u001b[0;32m   1151\u001b[0m                     \u001b[1;32mraise\u001b[0m \u001b[0mValueError\u001b[0m\u001b[1;33m(\u001b[0m\u001b[1;34m\"Cannot index with multidimensional key\"\u001b[0m\u001b[1;33m)\u001b[0m\u001b[1;33m\u001b[0m\u001b[1;33m\u001b[0m\u001b[0m\n\u001b[0;32m   1152\u001b[0m \u001b[1;33m\u001b[0m\u001b[0m\n\u001b[1;32m-> 1153\u001b[1;33m                 \u001b[1;32mreturn\u001b[0m \u001b[0mself\u001b[0m\u001b[1;33m.\u001b[0m\u001b[0m_getitem_iterable\u001b[0m\u001b[1;33m(\u001b[0m\u001b[0mkey\u001b[0m\u001b[1;33m,\u001b[0m \u001b[0maxis\u001b[0m\u001b[1;33m=\u001b[0m\u001b[0maxis\u001b[0m\u001b[1;33m)\u001b[0m\u001b[1;33m\u001b[0m\u001b[1;33m\u001b[0m\u001b[0m\n\u001b[0m\u001b[0;32m   1154\u001b[0m \u001b[1;33m\u001b[0m\u001b[0m\n\u001b[0;32m   1155\u001b[0m             \u001b[1;31m# nested tuple slicing\u001b[0m\u001b[1;33m\u001b[0m\u001b[1;33m\u001b[0m\u001b[1;33m\u001b[0m\u001b[0m\n",
      "\u001b[1;32m~\\anaconda3\\envs\\MachineL1\\lib\\site-packages\\pandas\\core\\indexing.py\u001b[0m in \u001b[0;36m_getitem_iterable\u001b[1;34m(self, key, axis)\u001b[0m\n\u001b[0;32m   1091\u001b[0m \u001b[1;33m\u001b[0m\u001b[0m\n\u001b[0;32m   1092\u001b[0m         \u001b[1;31m# A collection of keys\u001b[0m\u001b[1;33m\u001b[0m\u001b[1;33m\u001b[0m\u001b[1;33m\u001b[0m\u001b[0m\n\u001b[1;32m-> 1093\u001b[1;33m         \u001b[0mkeyarr\u001b[0m\u001b[1;33m,\u001b[0m \u001b[0mindexer\u001b[0m \u001b[1;33m=\u001b[0m \u001b[0mself\u001b[0m\u001b[1;33m.\u001b[0m\u001b[0m_get_listlike_indexer\u001b[0m\u001b[1;33m(\u001b[0m\u001b[0mkey\u001b[0m\u001b[1;33m,\u001b[0m \u001b[0maxis\u001b[0m\u001b[1;33m)\u001b[0m\u001b[1;33m\u001b[0m\u001b[1;33m\u001b[0m\u001b[0m\n\u001b[0m\u001b[0;32m   1094\u001b[0m         return self.obj._reindex_with_indexers(\n\u001b[0;32m   1095\u001b[0m             \u001b[1;33m{\u001b[0m\u001b[0maxis\u001b[0m\u001b[1;33m:\u001b[0m \u001b[1;33m[\u001b[0m\u001b[0mkeyarr\u001b[0m\u001b[1;33m,\u001b[0m \u001b[0mindexer\u001b[0m\u001b[1;33m]\u001b[0m\u001b[1;33m}\u001b[0m\u001b[1;33m,\u001b[0m \u001b[0mcopy\u001b[0m\u001b[1;33m=\u001b[0m\u001b[1;32mTrue\u001b[0m\u001b[1;33m,\u001b[0m \u001b[0mallow_dups\u001b[0m\u001b[1;33m=\u001b[0m\u001b[1;32mTrue\u001b[0m\u001b[1;33m\u001b[0m\u001b[1;33m\u001b[0m\u001b[0m\n",
      "\u001b[1;32m~\\anaconda3\\envs\\MachineL1\\lib\\site-packages\\pandas\\core\\indexing.py\u001b[0m in \u001b[0;36m_get_listlike_indexer\u001b[1;34m(self, key, axis)\u001b[0m\n\u001b[0;32m   1312\u001b[0m             \u001b[0mkeyarr\u001b[0m\u001b[1;33m,\u001b[0m \u001b[0mindexer\u001b[0m\u001b[1;33m,\u001b[0m \u001b[0mnew_indexer\u001b[0m \u001b[1;33m=\u001b[0m \u001b[0max\u001b[0m\u001b[1;33m.\u001b[0m\u001b[0m_reindex_non_unique\u001b[0m\u001b[1;33m(\u001b[0m\u001b[0mkeyarr\u001b[0m\u001b[1;33m)\u001b[0m\u001b[1;33m\u001b[0m\u001b[1;33m\u001b[0m\u001b[0m\n\u001b[0;32m   1313\u001b[0m \u001b[1;33m\u001b[0m\u001b[0m\n\u001b[1;32m-> 1314\u001b[1;33m         \u001b[0mself\u001b[0m\u001b[1;33m.\u001b[0m\u001b[0m_validate_read_indexer\u001b[0m\u001b[1;33m(\u001b[0m\u001b[0mkeyarr\u001b[0m\u001b[1;33m,\u001b[0m \u001b[0mindexer\u001b[0m\u001b[1;33m,\u001b[0m \u001b[0maxis\u001b[0m\u001b[1;33m)\u001b[0m\u001b[1;33m\u001b[0m\u001b[1;33m\u001b[0m\u001b[0m\n\u001b[0m\u001b[0;32m   1315\u001b[0m \u001b[1;33m\u001b[0m\u001b[0m\n\u001b[0;32m   1316\u001b[0m         if needs_i8_conversion(ax.dtype) or isinstance(\n",
      "\u001b[1;32m~\\anaconda3\\envs\\MachineL1\\lib\\site-packages\\pandas\\core\\indexing.py\u001b[0m in \u001b[0;36m_validate_read_indexer\u001b[1;34m(self, key, indexer, axis)\u001b[0m\n\u001b[0;32m   1375\u001b[0m \u001b[1;33m\u001b[0m\u001b[0m\n\u001b[0;32m   1376\u001b[0m             \u001b[0mnot_found\u001b[0m \u001b[1;33m=\u001b[0m \u001b[0mlist\u001b[0m\u001b[1;33m(\u001b[0m\u001b[0mensure_index\u001b[0m\u001b[1;33m(\u001b[0m\u001b[0mkey\u001b[0m\u001b[1;33m)\u001b[0m\u001b[1;33m[\u001b[0m\u001b[0mmissing_mask\u001b[0m\u001b[1;33m.\u001b[0m\u001b[0mnonzero\u001b[0m\u001b[1;33m(\u001b[0m\u001b[1;33m)\u001b[0m\u001b[1;33m[\u001b[0m\u001b[1;36m0\u001b[0m\u001b[1;33m]\u001b[0m\u001b[1;33m]\u001b[0m\u001b[1;33m.\u001b[0m\u001b[0munique\u001b[0m\u001b[1;33m(\u001b[0m\u001b[1;33m)\u001b[0m\u001b[1;33m)\u001b[0m\u001b[1;33m\u001b[0m\u001b[1;33m\u001b[0m\u001b[0m\n\u001b[1;32m-> 1377\u001b[1;33m             \u001b[1;32mraise\u001b[0m \u001b[0mKeyError\u001b[0m\u001b[1;33m(\u001b[0m\u001b[1;34mf\"{not_found} not in index\"\u001b[0m\u001b[1;33m)\u001b[0m\u001b[1;33m\u001b[0m\u001b[1;33m\u001b[0m\u001b[0m\n\u001b[0m\u001b[0;32m   1378\u001b[0m \u001b[1;33m\u001b[0m\u001b[0m\n\u001b[0;32m   1379\u001b[0m \u001b[1;33m\u001b[0m\u001b[0m\n",
      "\u001b[1;31mKeyError\u001b[0m: '[28140, 27594, 33342, 11564, 18221, 19903, 34504, 33755, 2369, 13177, 23917, 3534, 23478, 178, 31368, 14776, 30534, 12877, 30666, 26644, 3827, 32546, 17765, 22268, 19422, 4213, 17285, 2016, 5215, 13129, 25334, 32308, 9802, 16431, 23417, 5720, 25863, 20119, 25223, 9404, 10385, 7720, 3566, 16908, 25318, 14392, 3630, 28888, 17357, 12259, 7928, 15675, 12297, 24208, 25054, 21823, 4976, 15182, 33029, 34362, 35187, 26300, 9343, 19014, 5531, 21491, 31939, 16133, 34127, 12673, 19753, 2962, 22639, 8244, 1350, 4426, 25491, 30161, 31125, 23984, 12931, 23012, 5533, 13789, 1524, 27894, 19765, 2679, 31305, 14643, 2441, 21431, 1509, 22316, 29729, 3250, 886, 14787, 7874, 18242, 8365, 18502, 33012, 6683, 14864, 2230, 9807, 24861, 5435, 26029, 33797, 20427, 15067, 2125, 7194, 27325, 8132, 7333, 11384, 34955, 25382, 32182, 20523, 14356, 10587, 5994, 4052, 17404, 15704, 21316, 33612, 28830, 27054, 1071, 9381, 29889, 26489, 34961, 8763, 34535, 19514, 19878, 11572, 20741, 14953, 3203, 15711, 14920, 23889, 3524, 13958, 13023, 1302, 24485, 3425, 11532, 18875, 1485, 9193, 2952, 30986, 15953, 11719, 20880, 2, 21765, 2706, 35146, 27070, 21205, 6018, 4960, 9298, 15270, 12258, 10880, 28838, 14130, 31434, 19467, 19061, 34573, 5482, 33792, 3981, 11461, 2015, 33625, 11257, 19469, 21804, 2466, 16372, 5470, 33604, 17982, 25983, 17576, 22610, 19557, 4848, 5816, 20295, 7705, 20800, 32616, 21776, 1651, 35095, 13595, 21098, 5931, 3780, 11650, 2719, 5706, 13437, 28423, 22215, 976, 18333, 12687, 19831, 13827, 16478, 21360, 1765, 16919, 26555, 31818, 11784, 19592, 5909, 30648, 3334, 30938, 2017, 32304, 7332, 1387, 13223, 30435, 1074, 22164, 20387, 25469, 28703, 102, 9113, 7369, 28169, 20572, 2029, 18605, 22999, 6046, 3043, 17907, 32461, 35021, 9352, 21182, 3759, 12442, 14088, 30767, 19436, 8917, 21319, 10501, 19763, 3777, 20462, 16501, 13497, 7156, 7021, 18463, 7355, 26530, 11651, 19556, 22754, 1286, 31983, 19083, 16296, 20173, 18065, 32653, 20819, 10860, 8695, 10250, 1617, 31852, 17846, 1570, 20052, 5599, 33697, 8842, 26564, 20935, 14160, 19712, 26083, 13294, 20348, 34466, 33769, 22166, 27194, 20702, 32092, 6483, 11321, 23886, 14360, 17717, 25704, 14764, 5017, 32521, 33668, 1236, 9558, 31851, 13903, 29182, 1496, 29833, 33384, 25637, 13176, 15440, 1868, 7338, 19598, 23454, 23627, 11392, 12252, 4723, 26863, 10807, 13321, 1944, 34011, 30273, 12026, 17273, 5019, 9951, 31981, 8292, 2259, 10972, 24107, 22187, 323, 24542, 28073, 10816, 9502, 30281, 33981, 10937, 30339, 19015, 21476, 8932, 34951, 10857, 2645, 11595, 7706, 14095, 31154, 1577, 7911, 15549, 28689, 8643, 29402, 5014, 15918, 35253, 18816, 19967, 16605, 14358, 5122, 21949, 20718, 1801, 31044, 29962, 6522, 12864, 31096, 34305, 25575, 4615, 15792, 6450, 359, 23200, 5176, 20560, 13673, 2955, 14607, 1796, 14191, 12626, 32818, 8175, 20324, 9312, 13613, 34877, 30379, 29589, 13174, 13555, 2508, 34107, 3150, 30449, 16834, 9437, 8293, 26229, 29503, 25532, 30118, 16229, 31987, 14121, 114, 7875, 546, 4207, 312, 23833, 31685, 33338, 9598, 23972, 1912, 13605, 17555, 3933, 7085, 29140, 14233, 6489, 28370, 14558, 4501, 17819, 10599, 10074, 30113, 1492, 11198, 9501, 2699, 29204, 32195, 3011, 21618, 11909, 33908, 23524, 32402, 34742, 17500, 10144, 16096, 3564, 29863, 6890, 8123, 31178, 29511, 21619, 12588, 26077, 11433, 18400, 514, 7882, 34564, 19856, 29073, 11512, 6928, 11694, 21914, 31807, 29581, 23974, 25414, 23435, 34813, 32689, 17085, 33364, 13520, 30436, 19134, 25545, 7470, 31446, 32169, 18244, 12137, 10760, 7825, 8973, 15837, 31321, 24796, 7637, 18178, 11146, 27809, 34312, 11639, 7938, 26612, 16548, 11083, 778, 14080, 19684, 12859, 30514, 21412, 20515, 13639, 10933, 31093, 12537, 11728, 7648, 11874, 6681, 10233, 30739, 6290, 15804, 19235, 22315, 13704, 13005, 6687, 34539, 20573, 18029, 3831, 35297, 4529, 12908, 4203, 10067, 13265, 11583, 3805, 16928, 10041, 9654, 10418, 8911, 15422, 26241, 3735, 14788, 8534, 20491, 29783, 20264, 9843, 27428, 18803, 12468, 26966, 1565, 30676, 3320, 29574, 12375, 4651, 33085, 3797, 3201, 15413, 32970, 17771, 23427, 21446, 16116, 16196, 5135, 15319, 13804, 2808, 15663, 14205, 20708, 20042, 19759, 31318, 22331, 21117, 32693, 16896, 7378, 9378, 1013, 106, 1936, 15678, 1777, 4738, 5881, 24070, 24387, 7354, 23389, 24063, 27407, 27543, 21921, 31508, 29004, 21119, 775, 34445, 19184, 10450, 14177, 31650, 14946, 4543, 9754, 25162, 15655, 22437, 30517, 12030, 31779, 8694, 20436, 33449, 24239, 4499, 439, 13682, 10831, 31956, 4673, 10387, 22396, 3131, 21759, 33515, 12638, 31165, 4044, 24567, 13299, 6540, 28120, 20367, 11510, 16880, 19928, 2753, 26569, 1179, 11712, 20220, 30109, 19074, 23429, 6453, 5231, 153, 23522, 18763, 24556, 10134, 32084, 16227, 33066, 1036, 20601, 22224, 31901, 19849, 27515, 15984, 7525, 32201, 3195, 22559, 26221, 35301, 31306, 19749, 12533, 14099, 30202, 18344, 15235, 18256, 12836, 8898, 7172, 26302, 22965, 6577, 12844, 21497, 28605, 22085, 22407, 24439, 17025, 2428, 12861, 33076, 14074, 8589, 1520, 34787, 11044, 6456, 2748, 12712, 70, 27218, 16455, 34051, 8756, 14418, 33705, 10068, 5949, 21445, 7672, 8709, 8210, 21198, 31641, 75, 31249, 26558, 20222, 14541, 19908, 28310, 3487, 11319, 8644, 22589, 9552, 7008, 19546, 6267, 33282, 19973, 3878, 22046, 14703, 19495, 2406, 12857, 18770, 7446, 17778, 13432, 19188, 13343, 2764, 6048, 26288, 3253, 62, 33897, 34522, 1287, 15394, 11756, 27203, 6238, 2197, 7528, 9127, 18306, 10878, 364, 6555, 3391, 34629, 4164, 24913, 34294, 14872, 3434, 9941, 4150, 30076, 13506, 9953, 29543, 7755, 16336, 2196, 30502, 6467, 12683, 24999, 8781, 20333, 3110, 24418, 27030, 2246, 17543, 32617, 2616, 7000, 26492, 30128, 16188, 9123, 20585, 5958, 32883, 32264, 21148, 11562, 11161, 16689, 7184, 31827, 15241, 9466, 15976, 12640, 33050, 7063, 13368, 35078, 3152, 30663, 24513, 6925, 22351, 17174, 23714, 17197, 6613, 31021, 10674, 18600, 18340, 612, 4669, 17607, 22217, 24936, 3786, 28687, 35174, 6012, 31023, 26651, 2182, 3651, 4214, 1863, 2164, 10981, 7851, 16596, 15040, 27954, 33728, 19109, 32405, 5334, 33841, 16315, 13059, 2874, 32141, 29115, 8739, 207, 2348, 10324, 27815, 13842, 6990, 2014, 35000, 13360, 16907, 7527, 15407, 3379, 8280, 17433, 20453, 24016, 34804, 27670, 29635, 19473, 5226, 11101, 18992, 12540, 8764, 10302, 18218, 32722, 17386, 13298, 34749, 30538, 32708, 4322, 22817, 8654, 1403, 4431, 31984, 15384, 6299, 12854, 2377, 1420, 701, 11828, 32598, 18248, 18088, 31248, 6480, 15291, 2713, 28279, 30121, 16642, 21652, 4194, 15084, 12393, 25327, 20115, 8438, 33260, 12145, 4333, 24854, 23172, 6328, 16170, 1646, 23691, 21142, 14006, 10156, 18599, 17912, 34313, 31070, 5542, 7522, 21422, 29819, 13743, 2529, 6593, 15442, 26799, 18598, 18092, 15572, 20414, 27724, 7257, 3881, 8820, 1900, 31909, 20650, 3516, 5971, 13654, 25186, 6338, 11980, 4661, 8187, 34759, 3719, 19607, 19804, 25424, 16848, 33383, 3125, 34153, 35392, 21579, 15854, 13806, 4768, 34507, 9423, 261, 20155, 31669, 26493, 23313, 29653, 14467, 18702, 11735, 31135, 35352, 6962, 21696, 9894, 16988, 20167, 10389, 33241, 17281, 1307, 28382, 14522, 13853, 21327, 19351, 12450, 15885, 2807, 12506, 24068, 5345, 11195, 8554, 20840, 31569, 31469, 11402, 29841, 34658, 35299, 15840, 22136, 19477, 2689, 1423, 12419, 11653, 16870, 9944, 19956, 18656, 24471, 33555, 26875, 9799, 29854, 8704, 16992, 4594, 6909, 23244, 5459, 29811, 7655, 35178, 17299, 8276, 33351, 32111, 24161, 28447, 4883, 22022, 14777, 13826, 4299, 23153, 13793, 34923, 4027, 29172, 3783, 7182, 8749, 19836, 12425, 4142, 8279, 10574, 35209, 33394, 11839, 6435, 10063, 5416, 6625, 20024, 33007, 31613, 10113, 6986, 25460, 14232, 11430, 11200, 28508, 13593, 4807, 31518, 16146, 22465, 7088, 3113, 9138, 14512, 7737, 31110, 23777, 20513, 33794, 7775, 15628, 27686, 28427, 20841, 13675, 9518, 32474, 17842, 16272, 16969, 5230, 14437, 1083, 14824, 23114, 4237, 16786, 638, 33185, 28425, 8303, 16225, 6466, 4635, 25905, 12647, 34465, 1549, 6037, 14504, 5770, 22183, 3161, 26270, 13621, 25176, 5029, 30170, 6710, 6995, 21554, 10379, 9031, 33414, 21722, 3802, 7301, 18423, 19734, 4475, 9169, 29496, 31671, 31778, 32166, 12560, 2849, 30059, 6372, 24619, 8745, 19933, 16469, 27339, 23439, 15122, 19305, 6893, 26560, 20623, 2853, 25404, 32412, 18962, 9174, 9983, 3488, 22110, 22209, 19799, 16079, 20280, 605, 6820, 4670, 13563, 9695, 28589, 7601, 9431, 12866, 32404, 10961, 2974, 17575, 8386, 14592, 9565, 14183, 13776, 17990, 19431, 4087, 2651, 13445, 3418, 16424, 9739, 12482, 21283, 21507, 5158, 22044, 32057, 34374, 24539, 31481, 31589, 18279, 16700, 17182, 10547, 11286, 19832, 34597, 18341, 33390, 233, 16357, 15598, 21281, 26888, 14621, 17092, 24675, 4702, 26599, 32009, 15646, 9130, 18316, 890, 14016, 34199, 22279, 29175, 28834, 656, 3801, 29207, 20636, 11333, 17618, 1854, 5410, 6063, 21407, 23141, 21890, 27341, 20094, 8940, 17660, 27320, 35363, 8121, 6672, 28540, 21202, 29671, 35073, 26852, 18369, 899, 11230, 4758, 5925, 19925, 9467, 1696, 23247, 4678, 795, 35229, 29984, 9249, 29732, 5147, 31080, 24260, 28347, 10084, 18983, 18868, 8505, 15273, 12705, 17424, 15785, 11415, 14699, 3832, 33041, 11118, 23378, 3038, 16147, 13832, 26914, 7238, 887, 17187, 31272, 31099, 30702, 29142, 6086, 33660, 33874, 20370, 33429, 3492, 17685, 15686, 9224, 15478, 11174, 25029, 32214, 3986, 14060, 19516, 5763, 19362, 18787, 18429, 14198, 3465, 8676, 1463, 11509, 17742, 22449, 6922, 9742, 5928, 10598, 9625, 35405, 19932, 3686, 5627, 23285, 8054, 20713, 14579, 9582, 14185, 19129, 8320, 14064, 19503, 21883, 15875, 6395, 30383, 31465, 10184, 32540, 7671, 28099, 20997, 34277, 8113, 1503, 27760, 34585, 6617, 12352, 32886, 32553, 14417, 25368, 16099, 22080, 14753, 9735, 31118, 32806, 3258, 10140, 33167, 30557, 3259, 3715, 22182, 26622, 19158, 2039, 22736, 7912, 18014, 15267, 25350, 13384, 27286, 20688, 15464, 30300, 11231, 16348, 21486, 30380, 31312, 29333, 26174, 885, 12704, 32727, 2818, 31556, 21456, 2074, 19086, 7603, 26795, 30129, 11996, 21195, 2665, 14344, 31784, 10852, 22943, 22038, 3629, 1849, 565, 27500, 3098, 34552, 34464, 21735, 17960, 1596, 8417, 20968, 18660, 12761, 6548, 17701, 35266, 15013, 5076, 19774, 34100, 4345, 13753, 20812, 20516, 14678, 29192, 18802, 4058, 5216, 2213, 5787, 1065, 20385, 34970, 17905, 20878, 16681, 13973, 33941, 1085, 2723, 22597, 12677, 11672, 25676, 1271, 6709, 21543, 20615, 12065, 6877, 11568, 12517, 1727, 11974, 3466, 18588, 6141, 33879, 33191, 33551, 4551, 12598, 3279, 30926, 1748, 28068, 19814, 19652, 1141, 6772, 3985, 22097, 24267, 31885, 20759, 17139, 26140, 17152, 22863, 23266, 1835, 31645, 17522, 22252, 28019, 25539, 23426, 24672, 18966, 7606, 30744, 30623, 33147, 12154, 3030, 29663, 26901, 14736, 700, 10544, 16723, 4162, 6009, 11267, 28489, 35218, 28976, 25312, 13233, 12132, 27591, 7209, 14576, 4847, 24256, 4211, 27165, 10883, 25123, 17368, 17020, 10832, 15805, 23904, 32993, 32407, 24416, 2997, 31864, 5687, 24377, 31897, 20608, 5436, 21515, 23448, 16081, 33634, 26849, 14769, 8493, 8573, 16286, 29695, 1425, 20216, 16964, 34428, 285, 29566, 1859, 17697, 21311, 32134, 13505, 41, 23943, 16203, 19602, 31816, 24874, 13970, 469, 8660, 12688, 2934, 15495, 30840, 4566, 22298, 33022, 33919, 18501, 11350, 15652, 31565, 19519, 7187, 4561, 2472, 22487, 29335, 2796, 18976, 25138, 15809, 19240, 9774, 24448, 22185, 25929, 9005, 26133, 6157, 26551, 16822, 23895, 23526, 33840, 3583, 8903, 23970, 4056, 25697, 14507, 17359, 35412, 13184, 17260, 32260, 16724, 19446, 1641, 11312, 1128, 26646, 27242, 6583, 5245, 7976, 13915, 10107, 5297, 15611, 32441, 34982, 17689, 1595, 21835, 21365, 34583, 7047, 4107, 34181, 14707, 29680, 30493, 2832, 8735, 1799, 27150, 7069, 19698, 601, 13666, 5438, 3107, 12865, 10016, 4600, 15261, 12934, 1027, 33172, 24873, 9835, 20946, 29483, 13724, 5737, 1830, 8339, 20619, 8827, 26494, 15921, 19387, 10121, 25277, 11922, 32194, 33576, 21789, 7294, 10567, 20904, 15997, 28160, 21156, 2046, 30846, 27093, 30466, 5945, 5456, 160, 26814, 33092, 33978, 18452, 20858, 15430, 18231, 24123, 19942, 6268, 20068, 14624, 13616, 29852, 19676, 30970, 2982, 30197, 33545, 45, 7725, 11503, 32150, 19751, 6213, 26773, 3702, 815, 21217, 14145, 17490, 22676, 31169, 6700, 32377, 21144, 22818, 15070, 2308, 15947, 11571, 9809, 26415, 18365, 23155, 2116, 21725, 15493, 8841, 15453, 34798, 21290, 5897, 30576, 3039, 16634, 17412, 33785, 29734, 17670, 16041, 14147, 8558, 10077, 2908, 15483, 13064, 32019, 9446, 5821, 10276, 8353, 10912, 8680, 13784, 32686, 21030, 17471, 20710, 25456, 118, 770, 19909, 11446, 24700, 21266, 18110, 18952, 6766, 2673, 5686, 20320, 33883, 35260, 3665, 15476, 1282, 18618, 21913, 6216, 10670, 34328, 17287, 30269, 34105, 30856, 30055, 10762, 18629, 14626, 10264, 21664, 3200, 661, 5557, 32184, 25530, 31056, 1404, 23623, 13602, 15296, 453, 33766, 1906, 22930, 11955, 29057, 14209, 14914, 29994, 881, 23955, 26091, 34218, 8804, 10048, 6726, 7567, 421, 26063, 12415, 29724, 11001, 21866, 1759, 31307, 8409, 35285, 3383, 28193, 17936, 22816, 2569, 18540, 13262, 10538, 10481, 33242, 5797, 1603, 29629, 21831, 18262, 12341, 1493, 11368, 21106, 19081, 19880, 2056, 7017, 19294, 6237, 19780, 28367, 19382, 31214, 27948, 18046, 2656, 34274, 22352, 10195, 21994, 12155, 7786, 34396, 19762, 1640, 14373, 10995, 2438, 34766, 20184, 32702, 5995, 25754, 29763, 9048, 23631, 4463, 2353, 25061, 695, 22365, 14413, 20679, 28243, 25687, 32638, 1127, 17968, 15632, 33574, 6172, 14084, 589, 5110, 11041, 16598, 29904, 12348, 17684, 147, 18493, 10668, 2933, 20790, 25935, 9165, 14910, 30762, 31559, 1736, 794, 20391, 30122, 29210, 1580, 26365, 19450, 16064, 21297, 25049, 17171, 15340, 17867, 17198, 5820, 26033, 11308, 16177, 29122, 15653, 5688, 32949, 2519, 646, 7660, 34772, 20508, 6753, 31429, 24476, 16400, 19531, 29323, 31216, 6580, 745, 31553, 31168, 11069, 1081, 24231, 17644, 12084, 25896, 2782, 17410, 1212, 33524, 20037, 26681, 34365, 1319, 15410, 29473, 4822, 20034, 7640, 11018, 28484, 1789, 14292, 19039, 24105, 746, 26806, 15765, 6374, 9190, 5372, 537, 31008, 31152, 7752, 11949, 30638, 30759, 5778, 1101, 33325, 24210, 24102, 7612, 30223, 7924, 17916, 4364, 17747, 18043, 20242, 14941, 31683, 4606, 8608, 22310, 31145, 12962, 19223, 21706, 12654, 34591, 20023, 6217, 34771, 5424, 29156, 18225, 13068, 26608, 7713, 21703, 25122, 25525, 19090, 9901, 2145, 198, 35028, 15518, 31150, 13608, 9866, 23017, 10867, 18083, 6519, 24544, 844, 12952, 6240, 7407, 2093, 6863, 21176, 4835, 21240, 4258, 8582, 3165, 8305, 17461, 771, 2758, 10984, 15860, 900, 6428, 18370, 13338, 19336, 30656, 31087, 13058, 15512, 30366, 18687, 7503, 2568, 320, 904, 11169, 30996, 15151, 2637, 33669, 27430, 22868, 13569, 18255, 31536, 25713, 11244, 22972, 8931, 4797, 29236, 8516, 13945, 16143, 9814, 19969, 12516, 10474, 6296, 34292, 8124, 18606, 2744, 7888, 7886, 3046, 34134, 10275, 15074, 12955, 20842, 21563, 10073, 10445, 22843, 20643, 35111, 10399, 9699, 26766, 10813, 33136, 6623, 30978, 27665, 1591, 4707, 19325, 17480, 15939, 10549, 6703, 7385, 2154, 17999, 21170, 2062, 7716, 26026, 22293, 13221, 25112, 29076, 8615, 22122, 11889, 28805, 11253, 17991, 24119, 13454, 8199, 18291, 25557, 3274, 1890, 10038, 12394, 15406, 2141, 1862, 21077, 24051, 29118, 19340, 23436, 30827, 13237, 2104, 18812, 25466, 5247, 33739, 2587, 27511, 15226, 17835, 13580, 19692, 27097, 20123, 21853, 32129, 14745, 27562, 29464, 9382, 32094, 12660, 1388, 3591, 19841, 11742, 8736, 1814, 6543, 2417, 28922, 22155, 4218, 1555, 7746, 4187, 10049, 8017, 20380, 29558, 17807, 20808, 28263, 9797, 9634, 5629, 30800, 22369, 35014, 32811, 10299, 15335, 25924, 29836, 13282, 18709, 11608, 20289, 9396, 17116, 7956, 27536, 18913, 25250, 12008, 2644, 11019, 18016, 3058, 11950, 5538, 26518, 16220, 10338, 13794, 21286, 22762, 30106, 34836, 3315, 27444, 3168, 2580, 28788, 25656, 8983, 15787, 5152, 10282, 19911, 3942, 34644, 33230, 22350, 5782, 32921, 8411, 29980, 15358, 1002, 6539, 33451, 11499, 4421, 8836, 22632, 5683, 8611, 4889, 2129, 18033, 14857, 4541, 11276, 13469, 27819, 27473, 20228, 26293, 7598, 10944, 20266, 8133, 30900, 10827, 15920, 5018, 7773, 16696, 15006, 14434, 6331, 16697, 29241, 8659, 20951, 12484, 30748, 3141, 33127, 17646, 34387, 22496, 24385, 29244, 8231, 13110, 16508, 19204, 219, 1490, 9268, 14972, 11987, 18914, 3743, 12582, 5833, 8570, 18013, 32917, 1882, 29027, 21215, 17366, 803, 11549, 14740, 12492, 1767, 26209, 8240, 12943, 24118, 31530, 16815, 24508, 17219, 1600, 6443, 17677, 9498, 31254, 35308, 10837, 21505, 35372, 380, 18623, 33297, 20492, 14116, 2309, 25761, 2390, 34187, 14780, 30452, 30867, 9494, 15798, 2655, 31408, 2692, 27950, 31194, 10942, 13761, 16171, 3257, 29913, 14242, 14037, 5048, 7150, 34148, 3365, 21342, 7693, 21150, 12966, 16540, 466, 19016, 13423, 6812, 16898, 35330, 20670, 25047, 11274, 12584, 14562, 32498, 15078, 1574, 13247, 665, 14324, 35402, 20064, 9490, 11369, 25862, 3014, 13544, 18269, 15872, 5376, 4733, 25341, 17777, 30571, 13893, 10309, 25885, 14921, 25623, 10001, 33305, 28785, 24930, 33440, 14586, 29112, 32466, 27731, 20934, 5287, 20791, 30740, 2770, 13708, 14310, 25887, 25801, 7185, 24890, 7844, 17129, 26061, 8604, 16152, 28752, 10730, 26481, 27771, 10291, 29161, 24703, 8930, 20723, 28651, 22047, 13550, 19659, 6781, 13874, 16832, 3207, 33250, 21988, 25450, 12177, 24196, 11565, 9980, 35183, 5213, 10560, 19700, 8888, 25897, 23937, 13216, 21800, 32256, 1334, 13394, 24661, 19040, 1726, 1642, 18173, 16345, 10602, 813, 5752, 30599, 35012, 26829, 16806, 5866, 12112, 12769, 25475, 28704, 28439, 20845, 24216, 26459, 20397, 16298, 1909, 14260, 19888, 1288, 5551, 19515, 16995, 18592, 1358, 911, 27390, 1232, 3381, 7211, 21965, 2320, 7050, 9566, 33710, 4628, 13415, 20261, 24414, 25844, 30577, 30908, 7602, 16094, 16457, 30485, 29900, 26116, 11596, 8290, 21484, 1389, 5841, 25650, 22300, 2654, 33654, 15961, 21838, 33984, 1430, 10258, 16149, 32927, 32124, 27148, 18796, 3036, 15819, 4233, 28151, 33607, 11084, 13470, 4459, 5097, 22336, 16265, 31119, 35009, 8372, 18004, 3924, 35194, 20528, 3396, 14383, 6098, 26251, 22267, 2798, 31854, 6956, 31541, 34598, 21116, 32641, 2622, 15189, 3204, 34578, 9297, 11574, 20955, 34022, 26129, 26770, 22979, 9319, 10631, 1325, 2380, 21265, 3282, 35091, 20678, 9185, 26362, 28161, 10791, 32537, 1032, 11869, 628, 14848, 12652, 15684, 18098, 34889, 23032, 189, 17164, 12548, 27971, 19110, 940, 31743, 5198, 25941, 23532, 28307, 24694, 13824, 1263, 35149, 27453, 14036, 23346, 1473, 21312, 5985, 21686, 837, 29949, 18358, 25655, 4133, 28862, 32031, 15623, 18653, 7835, 13548, 20502, 19499, 21386, 12361, 23933, 27604, 29465, 15029, 24642, 19678, 3845, 3527, 30898, 27333, 2746, 16813, 6924, 21164, 18494, 1658, 7331, 18141, 13488, 6432, 11907, 12919, 26148, 24559, 34905, 5397, 33097, 19657, 4123, 2755, 30279, 20060, 18052, 10186, 19123, 16575, 7668, 1650, 18852, 540, 6248, 12494, 30302, 24033, 2904, 14009, 6319, 13725, 13528, 6688, 17523, 28325, 21331, 26020, 12989, 18073, 14602, 9235, 22186, 25967, 4640, 35058, 3572, 6865, 17096, 22087, 17384, 17201, 27598, 13206, 30911, 26943, 4075, 19653, 29388, 12802, 3292, 16264, 9334, 17894, 32485, 30252, 10188, 2211, 15371, 10141, 5109, 17091, 18055, 30766, 6358, 23675, 2899, 24920, 15279, 22922, 33501, 18680, 9819, 13757, 24600, 31111, 19708, 18749, 32196, 11846, 31985, 21911, 34339, 8533, 34173, 12400, 18389, 8183, 2396, 804, 23201, 31630, 17440, 5938, 1343, 20038, 2033, 16254, 8410, 12961, 16321, 25693, 12326, 7155, 21230, 9036, 5403, 5238, 14912, 15142, 31171, 21013, 33213, 15897, 18632, 7466, 3729, 748, 27072, 2805, 10593, 16982, 22518, 23411, 20918, 32049, 9299, 19810, 20341, 7987, 4481, 14791, 22228, 14206, 22253, 25166, 33787, 15993, 31363, 6827, 4786, 14362, 18405, 11748, 9943, 29816, 4574, 28296, 28958, 32165, 9506, 9665, 16380, 4590, 20618, 8215, 12089, 14768, 9965, 28522, 2180, 14733, 34887, 10031, 4510, 25872, 32935, 16829, 27503, 14422, 24264, 18230, 6760, 34607, 1277, 20058, 11077, 34468, 505, 1920, 10200, 6191, 7935, 9067, 29661, 149, 1808, 23432, 9672, 26295, 7785, 34386, 29401, 25777, 30540, 17008, 34899, 4423, 13075, 30242, 4171, 4120, 6869, 32314, 9134, 20877, 34499, 14476, 21134, 11208, 16750, 12295, 4497, 23014, 3608, 10743, 14642, 32055, 29658, 33778, 14423, 28551, 18764, 14816, 7248, 34222, 4282, 22325, 20911, 34512, 31934, 5772, 15772, 776, 13892, 29400, 10625, 30555, 11614, 18227, 4609, 10227, 26450, 33166, 11860, 28, 5957, 7518, 9317, 2432, 1204, 17836, 20843, 30976, 28301, 3135, 25425, 2436, 21687, 13334, 2638, 2071, 6870, 32434, 8196, 15726, 2936, 8826, 28869, 7872, 8064, 6488, 13372, 7018, 15584, 4849, 17147, 35171, 17966, 20748, 3256, 33366, 28853, 21341, 27963, 19582, 18436, 19023, 35059, 24492, 13087, 20112, 15588, 8953, 21166, 20120, 2420, 35060, 2802, 29727, 5168, 9918, 15281, 21111, 31362, 32771, 15389, 6334, 30481, 10706, 34057, 34195, 1145, 26522, 16195, 19097, 33000, 2739, 16693, 21320, 30467, 27514, 17784, 34310, 1957, 3754, 3744, 9817, 7433, 8129, 14810, 12363, 7098, 28443, 13647, 13535, 10362, 22961, 21377, 12763, 17797, 6254, 31795, 29801, 27143, 25079, 1938, 7623, 11438, 7169, 12115, 30511, 16911, 7237, 9118, 10271, 22383, 4961, 22558, 9584, 16213, 23159, 22933, 18938, 5547, 32942, 20314, 9195, 32460, 6264, 28999, 5390, 14199, 22249, 15061, 1732, 31561, 16033, 10218, 21808, 13220, 11664, 5165, 11080, 17808, 17138, 7923, 10206, 20494, 5285, 11713, 10955, 30796, 4623, 34514, 10921, 20622, 10894, 17655, 1725, 22689, 24878, 21962, 12693, 11954, 27458, 6381, 22703, 17780, 12634, 15852, 5516, 15506, 5218, 33489, 30644, 34156, 12206, 12219, 12064, 33906, 6939, 17899, 19360, 30692, 26327, 12527, 21416, 152, 26890, 9604, 17387, 14963, 17482, 168, 15905, 13778, 5997, 7181, 30732, 19792, 23910, 17801, 8028, 21790, 10492, 20837, 33300, 27997, 689, 4727, 1821, 1606, 20019, 18694, 2484, 1452, 15676, 17705, 11278, 2660, 14277, 10173, 17984, 29173, 29798, 25104, 25612, 26791, 1367, 12315, 8496, 13910, 28025, 5437, 30595, 25258, 12824, 23342, 3401, 29751, 6093, 22181, 8523, 25792, 26228, 12186, 146, 31460, 2834, 16692, 653, 16811, 28246, 21945, 10397, 2269, 4776, 5943, 3116, 12905, 2990, 34096, 31651, 10189, 12702, 14604, 172, 26386, 8948, 12574, 13835, 8440, 35024, 13935, 8596, 33359, 12138, 33659, 3642, 21886, 13484, 10292, 30340, 29776, 2864, 7546, 7712, 22290, 14916, 10313, 7424, 6727, 10124, 13785, 4204, 33562, 17544, 21657, 13845, 21506, 11776, 20401, 4622, 15610, 4511, 754, 19661, 34568, 6529, 30207, 20207, 9197, 10909, 25151, 8362, 15480, 27122, 17659, 48, 4933, 7430, 15206, 16725, 1498, 24012, 25204, 19957, 8377, 30990, 32536, 26014, 27049, 20248, 28682, 33633, 25793, 31409, 23178, 18607, 4271, 1268, 32762, 20584, 7564, 20974, 14506, 14804, 23980, 12150, 18935, 13635, 23187, 10711, 3531, 21990, 8201, 30516, 29229, 3648, 31277, 22751, 19528, 6933, 7810, 876, 21643, 18862, 9399, 18523, 5911, 3091, 7806, 12930, 5746, 6246, 6430, 19018, 29081, 34258, 8572, 7766, 25694, 27785, 9228, 4286, 28340, 33759, 7429, 10080, 34635, 8860, 15597, 19128, 615, 11710, 7944, 31030, 2365, 23625, 25919, 493, 18192, 12749, 27675, 25696, 20546, 22246, 8700, 29544, 14288, 21002, 3589, 29532, 34678, 24374, 12835, 20826, 3238, 4216, 6823, 22934, 5808, 30312, 31791, 22723, 30484, 32059, 21549, 18524, 28131, 22477, 13766, 20818, 6943, 15643, 1943, 34206, 2183, 22479, 12035, 17014, 31101, 2993, 20734, 20479, 2430, 28349, 7362, 14503, 9644, 23188, 23503, 9562, 15064, 21391, 15988, 482, 32835, 4870, 7410, 7456, 19333, 1997, 24747, 34594, 26193, 25137, 9455, 12244, 3496, 8995, 7023, 13081, 34357, 21755, 18206, 21037, 17394, 7137, 5141, 21651, 33195, 10037, 11632, 14142, 25721, 5455, 8645, 3982, 836, 10862, 31308, 22347, 32146, 16619, 31106, 15054, 19139, 6382, 12535, 5102, 11529, 15327, 409, 6557, 15494, 21513, 19379, 326, 18343, 2909, 7141, 18584, 28748, 9636, 18904, 8619, 3013, 7013, 13329, 4055, 13825, 29923, 14333, 6957, 2047, 28924, 30250, 1722, 10364, 23325, 21091, 7202, 10150, 14650, 30346, 28720, 2204, 7303, 2721, 25126, 3361, 32187, 5983, 7940, 20340, 9743, 8259, 10004, 12405, 13836, 26938, 15174, 34163, 23613, 7898, 5589, 16721, 8264, 29111, 14427, 1001, 5154, 13288, 17587, 34527, 33851, 7482, 32443, 3738, 32056, 7565, 31217, 22277, 2520, 33131, 17251, 20017, 10268, 2871, 11528, 22587, 18157, 8420, 3778, 2528, 10815, 25364, 17924, 14664, 9397, 3515, 25522, 33721, 15746, 34956, 22296, 14114, 31734, 32647, 26499, 7670, 18720, 27830, 859, 5027, 14548, 8002, 32801, 32406, 6633, 4791, 3872, 20945, 34172, 33825, 9044, 5299, 12176, 28337, 35261, 4767, 20485, 2737, 9173, 19726, 23715, 9691, 28669, 32489, 20764, 19857, 18471, 3495, 16174, 19489, 22713, 6907, 28166, 30432, 33381, 24039, 2757, 32649, 7682, 22995, 17499, 2321, 13746, 1597, 35316, 5618, 33818, 1461, 14323, 27848, 30950, 783, 8737, 9698, 25067, 2233, 19929, 13462, 15042, 10251, 9639, 16263, 26589, 1053, 5069, 17639, 12286, 26836, 8512, 27851, 9702, 17143, 5704, 24692, 13833, 2350, 13163, 11858, 29265, 21038, 26094, 12367, 7748, 19386, 2896, 14659, 34209, 14925, 29977, 28518, 11234, 19507, 34968, 4355, 15636, 20043, 34618, 33970, 13756, 28058, 2857, 22067, 21085, 11676, 5822, 14840, 3541, 4106, 20820, 18479, 21885, 3413, 2925, 4067, 5690, 25594, 8992, 6486, 7279, 2828, 10045, 24512, 32797, 31762, 29960, 22262, 5317, 11941, 19026, 15621, 4844, 3055, 20999, 13517, 2167, 29318, 26824, 1460, 21551, 26104, 17388, 9250, 31623, 23899, 19279, 16530, 15217, 25068, 12383, 6195, 14566, 2885, 16092, 6708, 12909, 11222, 14316, 29930, 16022, 34080, 22261, 2873, 32114, 22063, 29813, 26005, 3994, 27195, 16073, 5463, 5057, 3206, 16899, 1176, 16935, 16354, 24358, 13807, 17806, 9344, 4796, 6282, 10655, 6346, 11409, 32867, 16370, 1784, 34590, 5308, 28171, 2241, 1122, 19438, 31496, 17029, 25191, 8683, 25119, 28085, 5349, 30681, 619, 2756, 13878, 1790, 32798, 19517, 11787, 12886, 21368, 27752, 11050, 27501, 8923, 30662, 865, 3308, 12818, 18878, 21267, 19269, 21436, 5419, 6215, 11005, 20549, 5002, 637, 290, 3222, 15673, 35185, 21326, 14042, 19501, 1488, 11829, 18277, 8087, 13326, 7879, 20354, 10817, 20345, 13792, 21716, 13356, 18395, 1235, 11026, 31842, 17214, 1590, 33447, 735, 34150, 7371, 15466, 5484, 1721, 17277, 22062, 14725, 72, 21122, 21447, 14425, 5726, 13961, 423, 7915, 11547, 6021, 34670, 30713, 4427, 1918, 20208, 10076, 7315, 4428, 32930, 20674, 9881, 2590, 28602, 7883, 27979, 22726, 14742, 5819, 30074, 19421, 5988, 13050, 14214, 33511, 9202, 1326, 9939, 2370, 15661, 11443, 17010, 11774, 2068, 5133, 19474, 26462, 17986, 26822, 20771, 8624, 14553, 19961, 1144, 1272, 18159, 24373, 8042, 15544, 4440, 6114, 19439, 34807, 1750, 17003, 18790, 21633, 2416, 29482, 20126, 3672, 7309, 12319, 34773, 11283, 10506, 11004, 29494, 23584, 3650, 8927, 13146, 21214, 607, 8262, 30568, 31693, 24733, 33531, 3544, 17235, 33711, 17923, 6776, 34581, 24287, 14909, 14455, 9959, 30999, 7064, 346, 6746, 32026, 2688, 21605, 21018, 927, 22770, 22791, 26525, 31822, 23356, 28865, 2063, 8883, 3791, 4525, 4365, 8103, 10773, 19772, 1278, 27644, 1402, 225, 28537, 25524, 26313, 6362, 15541, 13570, 8823, 12767, 20130, 14543, 35159, 21991, 4323, 26189, 21625, 30536, 30082, 7917, 10241, 17893, 18532, 2621, 14938, 10647, 23660, 19293, 6706, 1347, 6441, 21375, 13783, 24421, 11466, 7132, 29184, 16066, 29394, 4943, 25311, 33149, 6038, 32199, 464, 26, 9434, 3435, 1688, 17696, 33081, 34601, 10255, 20072, 24449, 26194, 17468, 9948, 4447, 24641, 39, 30388, 32128, 7193, 1956, 17024, 20490, 13398, 10502, 7081, 1530, 8162, 31273, 19251, 8777, 21879, 2718, 30165, 20788, 16310, 11561, 1364, 21794, 19214, 17902, 5536, 25092, 5454, 23370, 29730, 5446, 16065, 16103, 2496, 2696, 10312, 6412, 7311, 9697, 23739, 17702, 6679, 11265, 32079, 29416, 10805, 14751, 32372, 3400, 20738, 28758, 32471, 24103, 18204, 17301, 2449, 29631, 6325, 31384, 33438, 3937, 11744, 17271, 1055, 6329, 18234, 3580, 14808, 4813, 30752, 4370, 5037, 7319, 26290, 11736, 7863, 23546, 2393, 13908, 27134, 3215, 6730, 747, 6256, 21829, 3675, 16616, 33272, 13626, 5953, 32413, 14937, 16255, 30132, 13628, 6461, 10424, 11429, 25050, 14993, 19183, 3722, 9611, 13320, 19964, 22484, 2815, 20638, 32456, 15973, 25653, 2465, 2989, 13707, 13759, 33357, 19087, 30274, 29093, 17263, 25296, 14265, 5271, 4913, 32053, 18826, 6973, 31005, 10913, 35414, 20551, 18224, 11266, 17240, 12785, 13586, 5003, 35205, 20382, 16560, 21465, 7551, 34815, 13681, 23145, 28405, 20846, 33950, 23134, 32787, 8635, 15324, 25959, 2457, 12004, 27479, 10120, 1153, 8758, 17302, 1429, 16035, 16281, 17082, 538, 14031, 15367, 29956, 14902, 28626, 3514, 27756, 35106, 21160, 17582, 23001, 6427, 18528, 9874, 84, 17258, 14250, 33747, 26580, 3231, 33563, 19532, 24581, 5495, 8230, 17015, 17028, 16672, 22254, 11557, 22011, 237, 8425, 30768, 33961, 26441, 25962, 20860, 30470, 6001, 34895, 12645, 28849, 687, 31900, 21243, 19970, 7631, 14961, 857, 4838, 35249, 9601, 9355, 8682, 5412, 12082, 13557, 25599, 11715, 4134, 19262, 21552, 3128, 6780, 24831, 3347, 12727, 5189, 5485, 21642, 9599, 34788, 13332, 4255, 12845, 15870, 9738, 164, 10653, 64, 7114, 17989, 9658, 7087, 5433, 6512, 3543, 1467, 18219, 31515, 30883, 26075, 14404, 20156, 16709, 7286, 11962, 2931, 3896, 1609, 2666, 8665, 21233, 16978, 2215, 13061, 5254, 4744, 32541, 2691, 782, 10383, 24867, 6526, 14173, 22538, 27411, 28312, 18459, 7239, 25501, 9977, 24230, 16691, 19370, 7703, 15416, 16280, 3915, 25471, 17469, 9624, 1060, 23580, 13802, 21181, 14867, 19646, 5203, 6478, 19078, 25565, 22772, 3402, 9773, 15612, 1716, 33567, 21304, 5799, 35017, 8877, 31345, 23481, 18140, 6514, 34797, 21083, 20077, 11060, 24467, 28516, 34826, 19510, 22512, 9981, 10517, 18307, 22320, 2078, 4647, 3026, 21983, 11643, 7685, 25558, 28641, 6587, 20929, 24198, 15665, 25243, 6838, 25949, 33190, 19975, 1352, 17718, 925, 33307, 15977, 11725, 13271, 32913, 2090, 27721, 30604, 31462, 28649, 21291, 3635, 26252, 25255, 5473, 35155, 19590, 11224, 22731, 1508, 17458, 16606, 12230, 131, 21372, 4247, 18616, 18543, 13386, 1247, 19757, 967, 9198, 17785, 624, 19483, 8906, 7768, 5338, 4617, 2342, 12036, 5350, 16948, 10290, 23552, 1207, 1348, 358, 25948, 4921, 22552, 22911, 7627, 31127, 21931, 21662, 26532, 8748, 33706, 13723, 34614, 12599, 3251, 304, 11641, 11683, 22633, 32299, 7411, 7659, 11072, 17477, 4393, 18779, 7428, 22399, 758, 25211, 5987, 21542, 20635, 16884, 20575, 4002, 11511, 32558, 33237, 12454, 824, 15316, 21405, 3858, 4442, 24615, 14805, 23591, 10253, 31282, 259, 7006, 7208, 10372, 5406, 568, 1258, 22677, 2284, 34349, 13590, 30690, 8991, 2613, 13979, 34633, 6115, 22378, 3969, 9347, 20384, 13938, 16792, 28283, 21964, 22453, 32181, 28903, 21640, 6978, 1544, 5273, 22175, 3136, 13364, 25707, 25588, 29134, 34355, 13133, 18384, 15318, 10881, 9084, 12611, 13940, 28673, 33570, 11862, 29189, 28674, 32117, 25843, 10963, 8908, 32593, 17775, 28801, 6224, 31824, 34764, 20784, 33378, 9955, 27254, 2041, 495, 1440, 4199, 30338, 26908, 12825, 31711, 8371, 16986, 23823, 9001, 7610, 14826, 21277, 20844, 14359, 24975, 5586, 34024, 33234, 34191, 21054, 11248, 34528, 76, 26103, 5356, 2408, 33332, 13204, 16308, 781, 34450, 20151, 2431, 1188, 21854, 11665, 30580, 15647, 32379, 32823, 16712, 24325, 10739, 7213, 5124, 522, 30902, 10204, 25970, 14003, 19334, 1500, 29080, 1616, 25413, 19790, 34140, 16578, 19866, 13273, 18619, 9311, 19537, 3027, 249, 25795, 10853, 1355, 5040, 23366, 29986, 16987, 33418, 23021, 22395, 6003, 8052, 3305, 2229, 8263, 8126, 1457, 1869, 21208, 23360, 21294, 17363, 27152, 33161, 22195, 14721, 35142, 351, 34719, 13840, 15171, 551, 3631, 6966, 22265, 13934, 5780, 21610, 506, 18696, 14796, 34143, 31142, 11619, 35186, 15748, 19806, 10136, 6149, 30301, 17381, 32544, 33793, 21396, 10011, 9230, 8216, 25440, 19278, 4858, 10000, 18381, 31940, 30699, 20240, 22094, 7585, 4863, 30394, 19746, 9194, 7974, 11706, 19987, 17430, 14718, 3880, 21218, 33417, 21539, 14513, 1637, 1666, 197, 21763, 25819, 20534, 14847, 1152, 32643, 19715, 30191, 20938, 33709, 19968, 27317, 12360, 1807, 3364, 13526, 13982, 19587, 4373, 20442, 5616, 16546, 3093, 10637, 21708, 22951, 14997, 20224, 2478, 27542, 10483, 24372, 19662, 1898, 15751, 29068, 14351, 2711, 22163, 20612, 26240, 19482, 9496, 33603, 286, 18050, 10363, 28928, 34454, 16334, 13710, 34849, 19355, 15771, 31279, 12713, 7487, 30000, 17348, 21060, 33815, 3588, 16793, 26460, 30309, 15498, 19202, 11391, 30678, 12458, 7339, 14497, 34066, 22422, 4681, 28708, 4368, 31148, 33619, 32317, 24954, 21810, 5534, 4677, 17162, 20962, 21972, 10261, 3958, 20008, 16084, 34584, 21786, 21518, 13889, 20953, 17369, 726, 4928, 18246, 23068, 9199, 5692, 25249, 10750, 1124, 13619, 1826, 34770, 32347, 7972, 10979, 32127, 14502, 31492, 32080, 11268, 17988, 10432, 17013, 16541, 19635, 17268, 20402, 7402, 11908, 16757, 11334, 13060, 8278, 14631, 30613, 16589, 10006, 18865, 11223, 10349, 8955, 34085, 11657, 642, 18044, 26472, 11883, 25640, 29038, 26868, 5973, 17700, 355, 25297, 13117, 34170, 28950, 19703, 8075, 20410, 28017, 22098, 9151, 6802, 26284, 3339, 11490, 26885, 31262, 21167, 24029, 11624, 4325, 34364, 184, 12039, 2413, 25543, 12948, 22037, 1428, 15243, 27271, 9265, 6356, 16410, 31810, 4193, 8503, 23519, 19206, 23670, 18038, 27502, 11360, 16976, 4122, 12972, 26987, 698, 3616, 20978, 27923, 5651, 21102, 25337, 23826, 30929, 28201, 34475, 9791, 24784, 34111, 8765, 6330, 25201, 6335, 17585, 4544, 3680, 19037, 12610, 3734, 35419, 27660, 9593, 3019, 33495, 11901, 17283, 9074, 3779, 15023, 1877, 8010, 15127, 17763, 22381, 8358, 19822, 29575, 34538, 30395, 25972, 157, 25561, 2978, 4584, 34620, 6657, 9020, 33948, 2159, 20786, 17593, 31347, 9341, 7148, 22410, 16939, 9595, 17083, 5895, 27706, 30734, 4349, 32243, 9567, 28663, 27636, 2733, 32376, 19807, 34189, 31617, 24252, 34477, 22618, 2043, 22481, 17674, 10643, 6515, 32563, 7539, 4035, 8039, 18642, 6630, 13907, 13339, 17821, 25461, 3067, 18825, 30722, 2784, 27226, 33243, 12518, 16571, 21475, 8401, 15448, 17754, 8192, 21873, 1480, 19784, 21915, 10824, 20541, 14711, 25781, 34129, 32523, 4746, 17612, 34859, 21522, 1009, 15964, 12833, 21781, 22311, 356, 16313, 30075, 9368, 25366, 4077, 6662, 20498, 26372, 22627, 15487, 17943, 24085, 14773, 7770, 2902, 20154, 29313, 27233, 16211, 19377, 23994, 1527, 20888, 16088, 7344, 18477, 6735, 22167, 2742, 21361, 25603, 28538, 18074, 31692, 15351, 10265, 7105, 17304, 8524, 14756, 13777, 2492, 27037, 32990, 19530, 14883, 19368, 3659, 1813, 217, 28899, 34036, 6472, 11823, 27874, 19839, 26656, 8843, 21614, 9921, 30327, 24637, 18464, 18980, 1251, 2539, 2295, 13962, 13037, 29530, 34937, 10266, 17884, 3464, 33556, 33118, 23398, 34733, 20113, 7167, 17186, 17672, 2797, 343, 27074, 11621, 19586, 18241, 28245, 26206, 1504, 33780, 1563, 19948, 11372, 11217, 22093, 25835, 32677, 20237, 13658, 21387, 16312, 12184, 19673, 9616, 22607, 25071, 14468, 3938, 32684, 33736, 14614, 17205, 21356, 1973, 15297, 15700, 7406, 9252, 31391, 33946, 34653, 30753, 110, 16714, 21271, 16246, 8448, 8933, 1290, 6301, 3649, 8024, 2307, 14395, 18755, 25136, 3736, 18633, 11182, 7740, 27380, 29344, 475, 8829, 15484, 19268, 34893, 20218, 15103, 22968, 1010, 21324, 27496, 13953, 13993, 20750, 17057, 27374, 30478, 6565, 19045, 3560, 4252, 25616, 31557, 23906, 30757, 19824, 4274, 4652, 1147, 9696, 10472, 12881, 3410, 13813, 31458, 8355, 8407, 11977, 9864, 9681, 145, 12710, 31097, 2556, 20321, 4083, 16878, 14595, 8422, 14407, 15844, 8363, 8798, 8494, 32234, 17054, 26051, 30392, 11221, 34049, 30975, 22386, 13072, 4637, 14915, 11530, 14361, 10451, 13769, 6062, 21489, 14494, 10490, 17832, 9011, 26535, 32552, 13927, 17711, 8323, 32839, 3025, 30418, 13559, 23555, 18448, 25441, 12136, 8179, 2625, 8149, 13969, 18794, 942, 33252, 27379, 25918, 10196, 6002, 22698, 13638, 4725, 31337, 33238, 4043, 26171, 10606, 34478, 3590, 870, 5266, 10680, 12526, 9318, 3731, 9375, 7488, 34596, 18131, 30546, 9056, 19006, 34544, 33168, 35177, 24947, 35390, 25904, 13268, 29357, 3568, 19200, 6493, 408, 3395, 32619, 7677, 10941, 21746, 24454, 7641, 7657, 24366, 14223, 15233, 26523, 3965, 6491, 33982, 20457, 32866, 10797, 11002, 11527, 21779, 11428, 15258, 30668, 15539, 8287, 28363, 7449, 1548, 20411, 21135, 22550, 21442, 25462, 791, 7913, 25478, 8074, 10248, 2501, 28412, 15773, 863, 6536, 10380, 31476, 9678, 9633, 9585, 2956, 11741, 4319, 2494, 22740, 32144, 25152, 19066, 12762, 8085, 16024, 24336, 28722, 33582, 8001, 23025, 3814, 29084, 6383, 20789, 3429, 29148, 32941, 25505, 16235, 27118, 2225, 5118, 9167, 7071, 11747, 19105, 20022, 20475, 5316, 17450, 31288, 2690, 21059, 1588, 2095, 14539, 31875, 23751, 28323, 13086, 30381, 32755, 24360, 14246, 14202, 12401, 14492, 1932, 34459, 35255, 8186, 10240, 8617, 30892, 4872, 6671, 11936, 17766, 16446, 20286, 8051, 31156, 4634, 28694, 17978, 26926, 32556, 9111, 21055, 32033, 1039, 2349, 21896, 14991, 11420, 25731, 9638, 11965, 14850, 10819, 31804, 3893, 7597, 20661, 14126, 30615, 12430, 21071, 19564, 17762, 9040, 9153, 31401, 2793, 11553, 11102, 6573, 10892, 16193, 6370, 2092, 7849, 7521, 5989, 22428, 14834, 19258, 25226, 2906, 32961, 4690, 1924, 27801, 28732, 18682, 34048, 12233, 23673, 3227, 17102, 18798, 18208, 31064, 22082, 17883, 27223, 32175, 17194, 28786, 21112, 24121, 9714, 9828, 3452, 20360, 15205, 15462, 16002, 22109, 32329, 4694, 8622, 5517, 5767, 1895, 9718, 16544, 9832, 4449, 4369, 22420, 5723, 17376, 8014, 15948, 6183, 34931, 269, 14093, 4054, 18655, 25003, 21237, 33389, 22334, 1624, 5539, 15053, 8767, 1742, 8691, 11367, 30504, 32753, 33308, 21947, 18946, 6645, 8450, 8791, 3554, 19930, 5272, 35238, 26256, 23222, 25682, 17545, 161, 13352, 31972, 27797, 8393, 18451, 13214, 29564, 23112, 21544, 11473, 30374, 14856, 30776, 9443, 5707, 32895, 33047, 2082, 25347, 12771, 18854, 1783, 32512, 13185, 14421, 30324, 9216, 35004, 381, 12532, 17669, 10091, 5032, 13354, 21858, 35207, 7557, 25826, 2919, 6500, 33624, 16366, 704, 448, 1593, 16983, 34579, 9362, 3682, 9263, 4621, 8972, 4138, 15309, 10098, 14945, 19229, 25030, 24222, 1264, 20906, 24044, 22710, 3732, 31702, 3486, 31988, 19313, 12580, 22064, 21700, 5279, 22735, 6437, 31304, 6345, 12353, 235, 14393, 15607, 6856, 21204, 11336, 7818, 7490, 6118, 16217, 28627, 20932, 20461, 24773, 18521, 1572, 14129, 570, 13597, 7251, 2704, 18882, 24724, 8942, 27471, 2011, 4485, 10222, 25732, 3597, 19907, 15468, 11963, 33569, 12807, 5382, 6429, 40, 9682, 28072, 13738, 33573, 3603, 20653, 31260, 17046, 31632, 33380, 9267, 6161, 7802, 32501, 35190, 3114, 16720, 24979, 8459, 4159, 30232, 34439, 27655, 5923, 14001, 15654, 25096, 21276, 26568, 29919, 2632, 65, 5217, 32013, 6117, 2374, 24989, 18045, 15499, 17608, 27804, 11071, 33005, 5369, 21395, 13179, 35257, 8136, 14238, 3538, 22590, 17773, 5621, 4812, 29770, 2473, 1435, 3852, 33703, 14094, 18205, 8106, 30824, 7492, 27217, 14484, 18090, 1040, 10725, 15517, 1241, 24136, 6606, 21693, 19534, 22353, 128, 18659, 1829, 7530, 17892, 9705, 22079, 843, 6042, 852, 2668, 25263, 28889, 318, 15368, 4589, 11566, 26607, 19019, 8020, 9359, 23902, 16163, 643, 24235, 19488, 4236, 25476, 9875, 24658, 8520, 30233, 4579, 26277, 1554, 1537, 8016, 12914, 30790, 33322, 16278, 21336, 21095, 6406, 33043, 14101, 6905, 13854, 26153, 3517, 2852, 11644, 2980, 18075, 34360, 12085, 9337, 1427, 1739, 20418, 31910, 27878, 27429, 17233, 25207, 21597, 11618, 25438, 30225, 33827, 10531, 34093, 6602, 3440, 8058, 7543, 4496, 33839, 16961, 9794, 379, 3846, 18877, 15133, 21678, 16449, 35376, 33248, 15113, 28001, 7591, 29258, 4624, 25973, 2199, 24294, 12321, 20346, 1386, 3720, 8038, 2476, 11156, 11054, 29302, 4470, 12399, 8383, 22906, 9612, 34144, 5090, 22015, 14051, 10522, 9384, 12191, 2958, 16633, 2426, 20356, 11550, 738, 18283, 34869, 17220, 1738, 7046, 384, 1393, 2130, 23814, 4341, 5038, 23104, 19254, 32424, 25943, 20824, 27466, 23471, 370, 10591, 18827, 28539, 4317, 447, 34917, 8885, 9386, 16836, 28612, 17475, 25613, 33068, 693, 25928, 31809, 4648, 2833, 1246, 30532, 13536, 19706, 30642, 31120, 3741, 29509, 7032, 10719, 6004, 8104, 9158, 7999, 23934, 32714, 15085, 19174, 10663, 4467, 4450, 31652, 32589, 22211, 12464, 8246, 23963, 8154, 23303, 30686, 26237, 24183, 22837, 4235, 3151, 4506, 6901, 25969, 2450, 4000, 21350, 10767, 34073, 19748, 23912, 31546, 29295, 11600, 18003, 23409, 4149, 25205, 19117, 3567, 23030, 30815, 10754, 8018, 3945, 14192, 33963, 12899, 12728, 7553, 8483, 1967, 19215, 7127, 1436, 6249, 851, 33434, 623, 19750, 31018, 9588, 5614, 26666, 33602, 35354, 17288, 21663, 20924, 12207, 34695, 17360, 8277, 13750, 17243, 34171, 442, 435, 4923, 12874, 12946, 16473, 10785, 15540, 20312, 18912, 6996, 17203, 12772, 22239, 11481, 32639, 12101, 26676, 2325, 98, 17221, 7119, 23668, 2495, 31092, 31677, 15812, 7735, 19796, 30495, 14573, 30446, 14046, 7204, 24275, 13898, 7823, 28387, 15808, 19284, 10841, 1931, 31717, 647, 34347, 716, 11199, 19410, 27387, 1354, 16359, 6080, 32555, 14518, 19995, 4975, 25544, 20011, 7489, 23577, 26037, 19190, 31500, 31341, 8167, 11959, 6197, 12680, 18714, 22, 16955, 5620, 33244, 17586, 21526, 16863, 11452, 15352, 30771, 414, 3653, 9629, 20933, 21482, 2820, 11942, 8526, 24754, 31406, 8268, 20473, 9757, 1471, 8754, 1114, 12813, 20311, 10834, 3875, 14950, 3652, 34828, 12568, 4940, 7929, 17324, 21352, 6604, 15207, 2800, 32666, 16998, 35277, 19445, 13414, 15437, 17910, 8462, 20070, 6684, 14216, 21097, 8155, 23508, 7288, 477, 19625, 1892, 32300, 16852, 33144, 32253, 20774, 27973, 32594, 7096, 1945, 31596, 6368, 15056, 18015, 4130, 8423, 15418, 31057, 11627, 22335, 22278, 14685, 19999, 4003, 4032, 3973, 23479, 26916, 35045, 25879, 11752, 20972, 22150, 7165, 11259, 14081, 11138, 8083, 16230, 24533, 959, 12139, 7154, 11815, 8419, 15169, 21188, 26049, 7138, 4415, 16534, 24998, 19944, 28858, 12751, 9099, 17645, 22072, 20687, 10768, 3411, 5544, 5776, 5034, 18757, 3947, 13336, 20254, 28185, 30314, 15952, 23164, 3366, 17880, 636, 15591, 33936, 20484, 23567, 12382, 6129, 12936, 22117, 9626, 3605, 13975, 22184, 25307, 26442, 28434, 24491, 34605, 22600, 5128, 28956, 4950, 23991, 7516, 2383, 4015, 3510, 16887, 9313, 29135, 14726, 12459, 16399, 34330, 32900, 32535, 30854, 25160, 22111, 29847, 19798, 22328, 26236, 7120, 29682, 31484, 27983, 23431, 32514, 34050, 17709, 6176, 16192, 2382, 12192, 16144, 33918, 12389, 3428, 9322, 30980, 25577, 14166, 27318, 19487, 4880, 21273, 3241, 32603, 7220, 14812, 17710, 7949, 17470, 14734, 28227, 7157, 34035, 19901, 10249, 34005, 13168, 10778, 33770, 3691, 8705, 29375, 2783, 34210, 9328, 15762, 17407, 17860, 3988, 34537, 5832, 27955, 12199, 13416, 6895, 25634, 7555, 25494, 25439, 610, 21477, 11130, 16559, 2589, 30271, 13381, 111, 25329, 12546, 29037, 16552, 27288, 20757, 32994, 8602, 4918, 15107, 11497, 27616, 18267, 4689, 2882, 23578, 10689, 8618, 32749, 11028, 19669, 1453, 9013, 13141, 31113, 29484, 1199, 3859, 1132, 9041, 18125, 33894, 2044, 25236, 21438, 10991, 1280, 17418, 32481, 737, 21909, 27656, 30816, 31906, 15693, 27046, 7418, 2347, 13164, 9316, 18278, 25659, 3670, 10419, 3276, 1870, 29794, 5409, 7989, 2419, 26565, 19904, 20467, 18319, 3521, 8429, 26781, 10024, 21841, 685, 7877, 10307, 16733, 3367, 5641, 26574, 6513, 19150, 6332, 13286, 12550, 20430, 16338, 20540, 7986, 15092, 6137, 14131, 1061, 6425, 11848, 14610, 35113, 21420, 21787, 499, 19044, 35324, 27862, 33226, 13461, 9889, 5196, 26653, 30936, 34929, 18662, 28295, 6016, 15914, 6747, 30669, 15747, 34337, 11022, 4845, 7254, 29539, 35355, 1072, 7471, 13134, 5984, 24087, 5307, 2836, 23056, 1907, 10703, 1315, 21742, 2378, 26078, 7537, 8629, 17419, 457, 15717, 946, 3393, 4342, 13568, 1465, 5559, 2738, 24678, 15758, 18354, 10888, 16921, 13739, 17595, 35362, 10488, 9411, 21937, 14722, 25619, 3954, 6852, 8356, 5689, 19178, 18574, 9508, 30450, 25294, 5640, 7062, 7462, 11587, 30882, 21480, 18339, 22282, 6068, 3737, 7618, 35167, 8351, 30746, 4641, 19156, 3278, 16290, 7995, 27498, 32135, 28684, 30298, 8439, 5028, 15963, 33989, 26321, 8081, 18053, 14673, 32626, 32534, 20606, 15511, 8687, 6024, 29907, 14652, 11751, 21521, 11847, 32303, 20765, 15268, 7475, 11654, 20646, 15458, 4877, 16767, 3298, 5601, 6620, 14402, 4137, 21819, 22229, 22077, 35371, 22641, 5407, 15076, 29945, 3889, 12314, 7356, 12238, 21989, 27547, 4167, 16117, 10561, 6571, 4491, 33976, 16699, 13781, 2397, 27870, 30837, 20779, 8954, 7387, 9986, 26106, 14495, 34441, 25708, 8871, 8207, 1167, 11795, 1456, 33723, 19508, 6524, 7068, 9021, 497, 15003, 33051, 9356, 7079, 20512, 31894, 22947, 33368, 22053, 29577, 16326, 31426, 12940, 33600, 31411, 24693, 21108, 1021, 28276, 3468, 9207, 10390, 19876, 24426, 121, 1437, 13346, 8265, 18661, 29316, 22782, 15436, 16113, 28580, 26744, 15479, 27423, 34545, 30918, 12500, 33516, 8055, 4671, 27540, 12776, 29340, 16768, 10588, 22388, 7349, 32690, 25482, 5394, 15565, 17453, 25463, 28226, 32395, 17465, 5791, 24422, 1151, 20449, 5026, 15001, 32143, 12429, 15941, 13323, 30782, 15967, 19640, 19801, 1963, 25569, 26086, 23249, 11323, 3232, 3384, 3898, 1401, 3977, 14175, 5368, 30408, 31354, 18177, 4995, 16251, 12434, 21101, 6655, 26833, 8964, 16016, 29777, 13082, 18591, 16239, 24830, 19848, 17843, 8822, 13404, 11714, 26480, 18376, 22692, 26786, 15670, 16363, 63, 7143, 17833, 18580, 15752, 14598, 9043, 22585, 2398, 18475, 13989, 579, 21517, 27061, 4202, 30009, 23640, 24463, 10498, 2979, 16570, 32209, 21295, 8690, 2847, 7393, 24576, 3701, 7626, 16791, 1974, 26031, 29608, 4607, 12987, 27951, 9657, 2629, 1392, 28097, 30706, 29396, 8661, 25488, 10529, 22245, 5096, 34, 29684, 35416, 9445, 11255, 16367, 4424, 4608, 32345, 20451, 8306, 17932, 1049, 31545, 11485, 13573, 14596, 11484, 8787, 4611, 2585, 23541, 21255, 12388, 0, 21929, 5129, 4119, 28117, 11426, 34563, 10664, 5959, 10453, 6971, 18257, 12212, 3142, 23354, 26710, 23518, 33788, 19159, 15162, 4129, 20116, 4151, 3946, 35418, 17703, 23600, 25394, 14227, 7206, 30654, 6469, 26891, 31486, 16101, 20758, 8304, 33193, 12820, 20250, 17891, 11875, 16996, 9037, 32763, 20755, 3375, 32340, 34775, 22553, 23792, 5283, 13519, 10339, 13543, 20719, 26449, 15098, 20428, 14195, 9007, 20751, 7051, 3700, 9982, 6102, 21604, 8592, 7229, 32060, 8163, 6446, 20676, 4575, 15201, 15101, 4332, 7481, 8082, 20334, 16702, 15644, 2550, 26151, 30633, 7943, 16492, 29447, 21561, 6850, 3470, 6930, 20725, 892, 9144, 31052, 18153, 19665, 19627, 2801, 1708, 30825, 15719, 15307, 16237, 11013, 14017, 17682, 13377, 9465, 22929, 14057, 25486, 17760, 5282, 35003, 3795, 11763, 17901, 7852, 32573, 10759, 29208, 1117, 3998, 7232, 1047, 27563, 12379, 17783, 20236, 27164, 1623, 27431, 21855, 25034, 6032, 15393, 14050, 34878, 34410, 34306, 5745, 34315, 5894, 12711, 2513, 5530, 10790, 30641, 187, 12625, 21220, 13020, 10779, 20901, 35407, 31574, 17908, 31392, 16362, 15222, 12958, 20692, 34909, 749, 11789, 7654, 17415, 20995, 18422, 8928, 17734, 7112, 17768, 2261, 21880, 2564, 14108, 12639, 587, 10583, 1379, 19075, 6952, 10885, 29411, 15102, 759, 14087, 29019, 17134, 8926, 29089, 1233, 7758, 1082, 24096, 22625, 31078, 1250, 15184, 2411, 12114, 9095, 16275, 32029, 2050, 20629, 31255, 2127, 23150, 30617, 20852, 4766, 1058, 26902, 922, 11327, 13598, 13198, 2918, 14862, 34052, 25292, 35379, 19490, 481, 19570, 18972, 16962, 15421, 20743, 13436, 26737, 3920, 31453, 5548, 8525, 8815, 4753, 3228, 19241, 2414, 32760, 29860, 1552, 5252, 24274, 33932, 15579, 4430, 15357, 18378, 10094, 15901, 7287, 11243, 21463, 21224, 8817, 22423, 26018, 19375, 18132, 24494, 14649, 21298, 23733, 32605, 4283, 19329, 18094, 32042, 27467, 18974, 26118, 29059, 2240, 14778, 4144, 3866, 32746, 28088, 7931, 706, 11721, 29702, 10154, 28014, 17136, 20766, 33458, 12679, 24185, 22248, 28491, 28007, 7719, 25251, 5796, 26447, 11157, 19940, 14058, 7440, 3127, 25140, 13677, 22204, 3392, 18187, 29757, 17872, 32874, 9076, 17421, 9480, 9997, 22247, 2124, 21895, 18294, 19295, 18489, 26465, 6030, 11649, 5672, 4809, 14282, 7855, 16809, 6736, 5481, 4229, 16719, 3716, 28291, 1375, 35369, 848, 5888, 11609, 29363, 31040, 35156, 16759, 884, 10868, 20828, 1636, 2777, 29837, 16674, 31788, 6505, 11459, 15404, 13063, 17393, 6084, 31313, 5383, 10228, 8197, 25336, 11343, 7078, 14775, 22457, 30297, 18396, 1839, 649, 21125, 5227, 20599, 1089, 3536, 28970, 6771, 500, 20223, 8591, 25670, 22364, 30526, 10052, 34542, 14574, 21589, 8692, 11184, 32458, 4070, 22709, 5566, 34985, 30598, 20313, 10503, 3482, 12298, 10334, 20373, 32401, 31777, 22154, 10115, 11172, 12080, 23434, 9042, 10622, 2646, 22956, 33558, 23538, 14408, 20152, 23079, 26505, 9082, 7003, 31242, 11400, 32337, 19353, 30605, 20915, 18281, 2725, 16708, 25945, 14011, 9405, 14312, 12734, 13375, 11498, 23611, 16543, 21429, 26610, 28837, 15959, 31397, 32832, 19042, 4294, 34408, 5232, 17566, 4520, 20106, 15486, 19004, 12792, 6261, 5191, 3313, 32646, 26572, 9087, 1568, 35153, 24224, 34363, 5050, 10713, 1802, 31826, 3343, 31947, 26098, 6026, 27114, 19062, 11944, 34513, 8396, 6953, 26282, 2926, 14083, 26188, 18602, 2437, 897, 31544, 20274, 9231, 34747, 31340, 9358, 33644, 17927, 16109, 7259, 438, 20691, 19470, 21775, 8223, 32587, 1357, 32560, 32205, 19403, 17862, 24321, 10893, 7962, 6247, 27703, 32885, 30351, 29064, 6642, 4983, 13741, 12521, 16344, 2923, 13393, 12445, 25853, 1682, 13909, 25940, 7867, 34146, 19545, 4401, 907, 2372, 23163, 25213, 1937, 113, 7057, 26515, 9707, 17837, 20624, 18308, 14193, 13201, 7642, 21274, 31635, 6403, 32034, 13727, 32240, 8432, 33452, 3935, 9091, 32766, 13837, 2099, 8814, 32989, 3342, 8598, 11705, 14168, 29419, 11279, 31646, 28931, 14436, 20464, 30723, 30378, 27153, 12203, 29979, 13774, 14113, 16627, 11275, 1171, 10246, 16882, 8257, 8531, 13079, 2581, 9535, 2000, 16590, 13525, 4443, 6582, 11427, 35291, 25874, 28329, 33188, 18564, 11068, 20900, 19224, 31528, 12701, 35245, 25020, 14285, 23836, 9893, 34589, 24730, 4262, 12485, 17033, 32848, 18302, 20012, 12922, 22120, 7947, 17409, 403, 3284, 11880, 19104, 33679, 7751, 27580, 30791, 1088, 15463, 23682, 21124, 12988, 16971, 22969, 17572, 5001, 25639, 11306, 10427, 29914, 19443, 12469, 11661, 11447, 21419, 33487, 20882, 35368, 11017, 18760, 26371, 3903, 29332, 4084, 13302, 1861, 490, 14266, 14342, 27929, 18072, 22561, 12183, 24643, 8097, 2680, 33869, 9964, 32229, 14465, 33847, 9756, 2042, 16990, 3532, 27432, 15790, 16259, 1000, 7616, 21371, 8349, 14053, 2422, 27968, 12288, 10519, 29264, 25324, 29758, 31629, 17764, 32650, 19007, 4939, 486, 15677, 33321, 14739, 11489, 34267, 2351, 17809, 33448, 586, 1362, 6998, 4250, 1827, 29311, 21023, 5053, 30367, 18109, 19146, 6485, 14529, 20282, 10373, 26482, 32955, 16025, 31112, 13990, 21299, 11934, 9930, 14827, 15880, 18953, 35361, 13768, 18861, 8164, 15284, 1143, 3706, 613, 2424, 33854, 15551, 32393, 24357, 4104, 32065, 27786, 763, 33956, 33240, 14273, 7264, 18783, 4667, 32418, 9170, 9387, 32001, 4034, 30667, 1853, 4136, 7667, 9398, 12194, 30155, 30995, 14366, 231, 27743, 32455, 4350, 12999, 18824, 21435, 16855, 25190, 20802, 1902, 1320, 11806, 14532, 4853, 19820, 27744, 8681, 3552, 11819, 4598, 5280, 25022, 33611, 22051, 24034, 2983, 26982, 20276, 21845, 7345, 27314, 34402, 18136, 13443, 5159, 2418, 34604, 3747, 3598, 24253, 10839, 1706, 8527, 9656, 9748, 30671, 5255, 35103, 21439, 23248, 6396, 17815, 33987, 30214, 11777, 319, 19842, 33271, 4886, 17641, 22700, 13195, 7794, 22065, 14551, 3214, 2122, 27645, 24547, 7824, 23062, 3968, 31708, 22134, 21402, 16173, 14326, 7873, 9764, 14908, 11991, 27745, 20663, 28506, 8904, 24540, 15190, 5434, 33098, 8068, 5679, 13864, 34779, 2223, 3001, 22263, 30687, 18547, 3348, 10315, 25500, 1103, 16356, 3676, 30675, 23604, 7842, 27925, 9833, 28660, 14012, 33107, 29772, 30973, 1094, 18866, 29591, 26995, 13560, 26203, 26869, 15824, 1797, 5398, 29104, 21584, 3961, 20714, 19011, 20157, 27715, 16901, 938, 24113, 32834, 17472, 7308, 10157, 23699, 4268, 32636, 33391, 32529, 11663, 18287, 35364, 35329, 13518, 9837, 24795, 13304, 14549, 17166, 29439, 32980, 17180, 350, 32946, 22563, 6413, 33079, 8805, 11078, 23416, 2553, 32943, 31503, 4013, 549, 7160, 25600, 13083, 17130, 11229, 26936, 7730, 26652, 23911, 10355, 20440, 29594, 21127, 29322, 31375, 21878, 4025, 33488, 15723, 28995, 25714, 17788, 9673, 13158, 12590, 5289, 2135, 1313, 17727, 20649, 20165, 18774, 29195, 32999, 6394, 19681, 12733, 7439, 17087, 9168, 8300, 18441, 6549, 7674, 9979, 7342, 10053, 5864, 17456, 23130, 23312, 17650, 22180, 1075, 25431, 230, 14618, 31866, 7124, 1125, 17228, 1818, 31573, 10, 4806, 14842, 18106, 8510, 6563, 10111, 11837, 5035, 22280, 4795, 516, 1934, 14716, 33938, 30429, 30812, 2054, 33962, 171, 16511, 32934, 18572, 17896, 5741, 16118, 5039, 582, 33255, 22005, 15800, 30444, 4160, 12635, 16625, 17929, 11155, 7117, 26591, 30284, 27924, 18624, 24699, 34025, 659, 18265, 732, 22749, 15605, 17567, 449, 3369, 18080, 33698, 12338, 25763, 6423, 1511, 22225, 34228, 5329, 4397, 1645, 3476, 20527, 2238, 31042, 6970, 32157, 29328, 15116, 3004, 16044, 9176, 33256, 26210, 21684, 32397, 19542, 22549, 20885, 3394, 30177, 21228, 9937, 22223, 19845, 13327, 2954, 34963, 4344, 13552, 12265, 30705, 18022, 14613, 25812, 17411, 31295, 10085, 34490, 19877, 4354, 18654, 27661, 12617, 5190, 4981, 16837, 17745, 19479, 19644, 5571, 10019, 10243, 4038, 10306, 31107, 35152, 13653, 13153, 32342, 16705, 25353, 26929, 3602, 2712, 18201, 21382, 6277, 16089, 268, 3785, 20544, 17911, 10358, 29162, 17208, 27527, 31893, 2158, 5395, 4441, 6135, 7743, 6800, 21433, 24862, 23022, 12164, 17779, 20343, 3006, 26787, 32947, 846, 2728, 3991, 33491, 6284, 16043, 7253, 10940, 27593, 18567, 5552, 18117, 32952, 12906, 28087, 16547, 15725, 24326, 21818, 7955, 9361, 18085, 21492, 6745, 29103, 27031, 17995, 18630, 8879, 20656, 13646, 17971, 10137, 9637, 9890, 26815, 19800, 31366, 50, 21192, 26260, 11923, 7030, 34389, 35408, 1349, 35349, 3326, 9365, 35223, 15041, 33881, 12013, 8115, 18457, 16867, 28098, 18621, 251, 29677, 35025, 16940, 9039, 30349, 16450, 3979, 5717, 17125, 14431, 2683, 6748, 33198, 24133, 18432, 8651, 11500, 6862, 12449, 4472, 2693, 15508, 7179, 11373, 536, 18160, 2178, 95, 25548, 7091, 10683, 6477, 13007, 32156, 11187, 31845, 28082, 15741, 33909, 21999, 5475, 1329, 9883, 16496, 5059, 33784, 5295, 11688, 29478, 6581, 26475, 5709, 5366, 1731, 4721, 19342, 2912, 33295, 30455, 31855, 22178, 18454, 1361, 20565, 10236, 22919, 30813, 15836, 29453, 13396, 4312, 11518, 15269, 12198, 27338, 14487, 33439, 17023, 3887, 11173, 30809, 1316, 8916, 17725, 14287, 8546, 23642, 25568, 6031, 2747, 15876, 29230, 6777, 14478, 3828, 31853, 9379, 9147, 31151, 35121, 1419, 4994, 8721, 15263, 29058, 11166, 23915, 7394, 2572, 17336, 28220, 5411, 5290, 9725, 2935, 21727, 10287, 21229, 22865, 14066, 15011, 34715, 11398, 1672, 18963, 10409, 26894, 32241, 1478, 5991, 29570, 6204, 3936, 20153, 25878, 5809, 6073, 9726, 34841, 11046, 1665, 31438, 35417, 12119, 5906, 4632, 33735, 11348, 17551, 26521, 18288, 1424, 5117, 31765, 17992, 32691, 26211, 13041, 8036, 21780, 8389, 10381, 19979, 35381, 26264, 9876, 22476, 30464, 16371, 5635, 532, 2399, 175, 24237, 34324, 15365, 3081, 4073, 20231, 27685, 5153, 35280, 21946, 15497, 9054, 31813, 18238, 10411, 7963, 34561, 2823, 31649, 19196, 15987, 10057, 1396, 5033, 18059, 12786, 34061, 16045, 14007, 15137, 26597, 30640, 4329, 27051, 28383, 6979, 1479, 22259, 8435, 18424, 544, 11656, 6770, 22522, 5810, 6779, 1292, 29476, 2059, 22789, 20613, 10712, 1391, 11457, 807, 31519, 19654, 33179, 32356, 3179, 18608, 18453, 21889, 4759, 13057, 27055, 24316, 24944, 17581, 14138, 3311, 17457, 17898, 6414, 28910, 3733, 33335, 24803, 16299, 9086, 1294, 23009, 34621, 4775, 30135, 1720, 6765, 14055, 30176, 8412, 2840, 73, 29892, 27259, 1840, 2730, 17328, 27323, 14022, 7878, 16464, 19022, 8701, 21183, 34599, 20437, 12, 5840, 16236, 7242, 31789, 27658, 19511, 17382, 23900, 1972, 2548, 22784, 10717, 31439, 29390, 25435, 13657, 6740, 2166, 7587, 6251, 3504, 32984, 19951, 28188, 6449, 21307, 24598, 25278, 23787, 2549, 19079, 1611, 27012, 27534, 2444, 32856, 3300, 599, 31039, 20081, 15299, 2515, 14182, 14445, 18005, 25010, 31299, 33154, 19920, 16131, 1531, 5086, 12852, 16972, 13073, 16175, 1439, 3810, 12609, 11563, 22434, 8007, 4991, 3422, 14956, 3723, 2862, 32794, 30836, 14018, 23487, 34314, 7314, 17583, 4668, 14258, 8056, 31407, 11878, 22704, 10447, 24711, 7850, 9839, 3022, 440, 31162, 17549, 31123, 208, 10844, 13413, 4604, 1927, 10983, 15908, 3742, 27904, 14027, 24390, 20958, 1256, 33763, 21900, 20055, 16514, 14045, 13790, 6405, 20539, 27899, 31731, 12077, 32468, 17408, 19641, 6448, 20853, 31878, 2169, 2848, 20979, 30967, 12985, 31220, 33717, 19055, 22118, 1474, 15857, 19851, 19629, 31767, 33695, 2051, 10033, 10520, 35267, 2686, 28272, 27921, 33072, 13135, 32244, 10569, 6369, 19603, 16635, 1407, 24346, 2156, 1825, 12860, 7722, 16219, 21906, 13885, 13576, 10699, 15050, 30873, 9689, 11781, 7483, 8673, 12735, 14355, 853, 13949, 17750, 10463, 12706, 29371, 7726, 4292, 1340, 5079, 14680, 6984, 7834, 19811, 905, 4683, 19674, 2297, 7272, 15524, 32995, 24987, 1057, 11877, 11985, 30531, 880, 22050, 28048, 7687, 28693, 8490, 14948, 14134, 23885, 34409, 24486, 22088, 11673, 14197, 25077, 4016, 9700, 14554, 22656, 28680, 10044, 11262, 14439, 22636, 14866, 22809, 10676, 18797, 10417, 17850, 32804, 29060, 26423, 29009, 24970, 6340, 21740, 20985, 14178, 2045, 28255, 2106, 27608, 31886, 18211, 16498, 1921, 15912, 13729, 19352, 24723, 9761, 13899, 19817, 9574, 3540, 26400, 17163, 6830, 31370, 20578, 9732, 6454, 7494, 9842, 32204, 3071, 7782, 2026, 4306, 7542, 32464, 21118, 11780, 17979, 6170, 20302, 30093, 29245, 30724, 24303, 14951, 21598, 5671, 7709, 17327, 28544, 10548, 15432, 30708, 2517, 31396, 1994, 24381, 93, 32685, 34435, 13417, 13648, 12510, 9824, 16282, 26939, 25099, 19827, 16208, 7002, 2105, 10225, 20588, 17770, 11893, 29965, 13171, 4507, 30046, 2724, 847, 33285, 18258, 4763, 18321, 3102, 20931, 22250, 29310, 29020, 16127, 10171, 8473, 3808, 2577, 2345, 18932, 9260, 32683, 34662, 10662, 3362, 1561, 4533, 13161, 22471, 18582, 25095, 33977, 25737, 10051, 5742, 28796, 25184, 13049, 19764, 24217, 21887, 21225, 18808, 16046, 8437, 13013, 21318, 4808, 15847, 32608, 3192, 15030, 26655, 14092, 13630, 14452, 4474, 25984, 7799, 6366, 4066, 20870, 21494, 1155, 18620, 35300, 21113, 21655, 28194, 23387, 13491, 17185, 31839, 13540, 15331, 23722, 11256, 13930, 6088, 34622, 27722, 9033, 8267, 30774, 3066, 25304, 20432, 26166, 6803, 9679, 28808, 809, 18533, 19265, 10319, 1093, 18416, 9663, 27207, 34950, 18020, 19271, 16416, 22435, 25664, 9471, 26951, 1447, 10456, 15002, 2264, 20322, 14172, 14419, 30329, 26513, 2996, 10370, 21369, 12187, 21748, 6517, 11273, 5986, 7461, 21910, 5105, 5405, 21734, 14819, 30315, 9215, 29742, 21784, 3261, 19388, 11899, 725, 31908, 3507, 2089, 6528, 17146, 25085, 32700, 3730, 6054, 18944, 2037, 34224, 35342, 27042, 7754, 22829, 31325, 9214, 19846, 2433, 15816, 25282, 15355, 26160, 30363, 7437, 18271, 18078, 11968, 31376, 1196, 13473, 25342, 11575, 15503, 9942, 9097, 20942, 28270, 1257, 27720, 2780, 580, 17781, 1618, 13314, 30506, 8291, 31459, 11150, 8550, 26931, 31298, 14974, 7566, 23720, 23756, 12982, 27519, 12339, 8413, 20795, 6873, 1230, 5367, 15789, 15510, 12939, 27364, 11254, 32769, 26712, 3901, 14671, 5071, 2856, 5728, 15889, 8824, 28346, 20493, 19267, 12923, 15211, 1988, 28810, 15473, 8248, 12569, 10122, 13452, 13906, 17695, 2939, 15409, 17464, 27860, 8874, 19068, 27544, 3220, 4205, 15689, 25198, 28075, 31605, 7195, 2639, 35133, 18492, 25145, 18490, 34009, 9301, 20816, 27615, 1842, 8970, 28118, 6499, 15292, 19604, 11599, 3970, 12927, 20131, 14170, 3234, 9163, 9990, 6153, 26549, 3048, 34122, 25129, 27700, 10414, 3966, 11281, 34082, 29203, 6611, 3557, 6874, 5540, 26301, 19060, 25267, 12779, 27120, 28018, 30461, 3885, 2053, 31054, 29034, 14433, 21072, 32348, 923, 13932, 23477, 24564, 22812, 27766, 8326, 22230, 29739, 9094, 12970, 3518, 15537, 7732, 19314, 120, 18750, 33995, 9744, 31698, 7227, 9335, 24712, 23901, 22341, 14498, 19994, 16157, 28121, 35114, 21843, 3902, 12371, 18076, 8517, 4676, 14155, 19544, 23063, 18272, 33613, 33781, 6705, 18609, 5261, 26287, 3307, 4358, 12891, 1408, 19154, 28308, 16891, 17510, 11871, 26543, 12215, 13407, 6981, 14552, 2227, 24338, 13516, 33704, 12778, 6082, 16583, 5468, 12519, 13442, 8350, 16261, 31860, 16949, 19549, 15419, 17664, 16914, 6949, 33113, 20363, 5428, 22405, 18293, 14234, 6300, 8548, 1864, 4971, 33986, 16070, 20943, 16888, 7379, 24302, 31840, 34436, 15585, 6927, 473, 10300, 18447, 23540, 20944, 5837, 9727, 3546, 4385, 22712, 1293, 33760, 21452, 6674, 22125, 2429, 831, 26152, 11926, 12632, 6769, 20632, 8610, 33128, 22161, 23395, 31703, 21289, 6069, 8354, 23633, 5012, 3820, 5339, 22992, 8151, 34531, 8141, 24689, 11442, 11918, 28124, 8920, 6431, 28900, 17871, 26422, 2207, 9507, 19554, 2186, 5318, 7292, 501, 1627, 28576, 5545, 11546, 21109, 30503, 30719, 25899, 10999, 31914, 6807, 10874, 16333, 30350, 17396, 9834, 3430, 34575, 18149, 10046, 16347, 11867, 26308, 27872, 680, 12491, 19879, 15835, 15204, 26978, 22096, 31944, 12809, 4226, 4238, 1534, 32884, 30200, 19077, 22308, 6226, 14999, 21799, 9583, 15075, 16555, 31993, 14666, 25246, 2474, 32380, 13045, 9279, 5328, 26062, 10518, 5645, 321, 17508, 6570, 34027, 11162, 31637, 28208, 3876, 35074, 7233, 872, 31316, 7575, 11569, 2216, 1855, 21982, 19680, 28397, 2775, 23903, 8612, 6720, 30256, 20438, 28705, 3668, 23724, 14394, 33726, 25779, 19047, 2964, 4001, 17802, 17075, 12337, 19082, 19227, 8866, 4041, 24027, 16694, 1523, 35262, 20720, 5595, 24394, 25002, 1020, 7417, 6707, 23630, 11626, 31680, 22006, 2324, 32960, 25182, 12511, 19498, 15538, 3005, 35043, 10384, 19850, 25927, 20500, 27321, 17592, 3929, 7634, 10079, 22291, 18640, 12330, 13112, 7493, 10795, 14400, 15807, 24991, 2271, 15848, 34784, 7717, 15757, 19527, 10576, 33395, 15699, 13504, 17890, 29746, 18555, 11479, 23474, 17128, 16629, 4865, 8227, 6361, 8886, 21850, 13606, 16080, 6721, 25510, 11966, 32815, 3900, 17698, 15841, 13571, 914, 31398, 2877, 12768, 883, 23718, 14605, 4069, 6900, 12179, 19690, 12558, 34139, 3771, 31966, 27684, 898, 10345, 33843, 6039, 3586, 31946, 33628, 32615, 12086, 7004, 29974, 29427, 10682, 8696, 4469, 25419, 6839, 25638, 35334, 30958, 19813, 7240, 2894, 952, 31247, 29737, 2794, 12808, 26336, 7495, 1558, 26562, 21468, 13758, 26751, 16124, 9245, 17140, 20122, 9556, 30528, 19906, 12021, 4153, 9867, 21694, 28954, 5451, 30257, 6169, 33553, 12628, 32425, 20458, 20061, 19095, 6945, 15323, 24262, 13289, 15606, 2034, 26378, 20731, 19584, 19052, 10607, 16376, 16604, 32427, 11598, 14789, 9646, 1871, 1494, 25409, 25303, 11640, 2631, 20696, 18484, 27357, 33821, 26182, 12392, 25834, 31665, 26071, 14414, 26279, 15943, 28271, 32902, 23647, 15179, 19949, 12793, 27158, 13125, 20726, 33182, 15225, 21211, 28638, 30616, 35286, 34256, 7649, 4290, 29179, 6685, 33336, 16903, 5505, 20514, 3445, 742, 25778, 11517, 7223, 12757, 5828, 21264, 26503, 2452, 2134, 21771, 5682, 28469, 18458, 32283, 16072, 6744, 20197, 34988, 20044, 3421, 20662, 32334, 4696, 8258, 5131, 3414, 28152, 11193, 30829, 6276, 19152, 4082, 30589, 27687, 11232, 29469, 4817, 5408, 19588, 20362, 34790, 15398, 3633, 5691, 8666, 27768, 29750, 16842, 13513, 12614, 25716, 27734, 21881, 20140, 29870, 14893, 31904, 33643, 11099, 34095, 18428, 32893, 17792, 12816, 30313, 25232, 15290, 17967, 13459, 9499, 9100, 30332, 15253, 18751, 17391, 6208, 27699, 2152, 8621, 29336, 10818, 32370, 15845, 18469, 32852, 25290, 15095, 5596, 2389, 26840, 2161, 29470, 3931, 21933, 15072, 21562, 14741, 12386, 30592, 8004, 28274, 31603, 15455, 5631, 3505, 20078, 7409, 19270, 32631, 16036, 31577, 35269, 11190, 19960, 25815, 19859, 13331, 29420, 32130, 27377, 3826, 5729, 13742, 7200, 11919, 34934, 12828, 5753, 4944, 2232, 2907, 6527, 16178, 9491, 1327, 21654, 30343, 4922, 17864, 34297, 11233, 8684, 16698, 8311, 7445, 34875, 32578, 17488, 9407, 8956, 33838, 21600, 15210, 15671, 27794, 17444, 20506, 26087, 27854, 28115, 17420, 14488, 32860, 21556, 22036, 12331, 18027, 18051, 1383, 4927, 15313, 10449, 17665, 2965, 6831, 9232, 10193, 3767, 13919, 18726, 13524, 6912, 14793, 7759, 25231, 9820, 10023, 27931, 6884, 1741, 19952, 21174, 35041, 26713, 33512, 5889, 18012, 34414, 32250, 11432, 7401, 19408, 14765, 5300, 17089, 24577, 9711, 15271, 21189, 14128, 3451, 22076, 6028, 30733, 10484, 15616, 23074, 34736, 4915, 874, 3899, 4903, 24032, 25397, 29199, 22339, 17776, 15692, 21981, 30030, 20329, 33358, 12975, 31903, 26952, 30138, 10898, 3595, 17095, 11855, 16468, 17851, 21145, 10667, 10776, 12022, 9586, 2785, 26125, 7781, 4912, 1451, 27439, 34341, 12565, 29910, 29780, 5514, 27802, 19465, 13999, 10035, 4152, 10505, 8835, 7508, 4987, 31753, 30727, 34047, 25758, 21666, 9614, 588, 31735, 5474, 33492, 26122, 10918, 3905, 5711, 19253, 29781, 31965, 23240, 11805, 16613, 7556, 13664, 13964, 10320, 17520, 10003, 14767, 34246, 1980, 24778, 13022, 30149, 20350, 25044, 18162, 23598, 2455, 14069, 29803, 13748, 10330, 282, 20847, 1041, 17721, 16561, 11025, 4103, 15797, 10322, 29808, 4340, 23205, 11331, 25710, 21970, 3669, 12855, 23790, 17395, 31962, 8461, 20279, 24768, 14841, 7744, 5863, 10737, 26352, 17467, 22626, 34674, 25195, 33146, 614, 24457, 1582, 33730, 9946, 30860, 4557, 1631, 5605, 17236, 26756, 32436, 23080, 18438, 5734, 29582, 9219, 24009, 20805, 18167, 4439, 10047, 413, 30010, 14363, 9345, 19981, 30979, 20673, 12880, 26598, 13693, 34298, 7533, 22469, 4396, 12418, 31686, 4509, 2917, 32522, 8398, 3015, 12867, 1243, 29893, 4477, 24409, 11797, 9782, 16234, 21345, 2235, 31179, 18853, 16377, 23639, 571, 14878, 3978, 24250, 12479, 1758, 20365, 33405, 23175, 2048, 34885, 18071, 18338, 7486, 14969, 12707, 22403, 17688, 29022, 1274, 30119, 19735, 12173, 33608, 13736, 7139, 28502, 4094, 11057, 13136, 6731, 4163, 32574, 557, 5449, 226, 33010, 4059, 11165, 30261, 35027, 27695, 14998, 6184, 31523, 7701, 26794, 11592, 15991, 788, 37, 7946, 10579, 9436, 1538, 14879, 13692, 8678, 1664, 33658, 16736, 2649, 7090, 21261, 27917, 348, 5381, 31280, 4538, 12160, 26424, 21245, 12567, 18991, 13156, 23820, 8782, 3926, 2058, 14391, 25963, 5703, 8357, 15055, 5355, 12976, 30583, 25340, 2779, 16941, 26340, 12504, 2503, 11521, 18537, 5373, 25110, 10278, 19787, 16166, 28459, 8536, 26853, 20083, 16199, 21394, 25272, 20331, 16447, 2842, 390, 18988, 31212, 15202, 16297, 368, 35234, 2306, 25427, 1421, 1930, 17142, 33037, 2736, 33464, 5724, 16471, 31776, 24490, 10539, 12287, 26831, 34494, 1519, 6915, 30290, 7756, 17647, 21941, 14459, 2602, 1086, 13699, 9581, 18032, 16443, 6767, 6066, 7997, 2333, 31387, 10957, 35314, 24026, 28067, 10089, 21877, 4803, 2630, 14704, 31372, 3202, 21532, 21061, 27620, 25310, 8977, 22554, 11396, 34652, 34852, 9164, 26142, 5969, 3415, 16602, 7281, 23896, 1515, 34641, 33031, 34705, 2726, 8152, 23151, 16364, 7186, 23415, 34099, 10161, 17810, 9, 5674, 2076, 14774, 34241, 4993, 11117, 33280, 31233, 16538, 6608, 16412, 3712, 13643, 21713, 25620, 3551, 35404, 15192, 28941, 10308, 15073, 2527, 34010, 14005, 25836, 7529, 19567, 15523, 22472, 15932, 25057, 13558, 21193, 27417, 12603, 6150, 20361, 3009, 15722, 24190, 13451, 4158, 5472, 10948, 2695, 22716, 20096, 29486, 24300, 23401, 8989, 29028, 32872, 33008, 25065, 33006, 12355, 29373, 3255, 18901, 32478, 28671, 8168, 4581, 16349, 23209, 22227, 12380, 34920, 28936, 18793, 15626, 12839, 23553, 17018, 14262, 20524, 16504, 24058, 33855, 25365, 3217, 30934, 30229, 5666, 18223, 26583, 3867, 10394, 9464, 2811, 8910, 33482, 31697, 14712, 31133, 10367, 10438, 12798, 26053, 22971, 10347, 17190, 22329, 6386, 33532, 2537, 16701, 7747, 20085, 20066, 32336, 24099, 17361, 14890, 15743, 6128, 12493, 30272, 16853, 13342, 20000, 8069, 28582, 11816, 5522, 28511, 11307, 16123, 20769, 7893, 32531, 34884, 26812, 30003, 5130, 16737, 10997, 25977, 34331, 7841, 23314, 19140, 27384, 710, 6380, 31927, 25847, 30362, 17399, 30248, 19778, 16934, 14043, 24261, 13849, 18305, 17640, 2586, 31709, 35175, 4338, 22360, 5072, 9420, 2886, 20114, 12032, 10686, 29489, 34251, 10365, 17127, 6185, 2675, 12260, 13744, 4061, 9571, 35093, 32360, 9854, 14926, 13367, 21049, 4380, 16329, 16190, 18314, 9896, 23006, 9196, 4970, 26529, 1381, 23131, 15240, 7813, 3917, 14115, 11778, 33744, 10126, 7258, 17759, 14331, 11011, 7977, 30804, 21259, 19985, 9902, 4582, 29871, 15326, 9745, 28490, 20067, 29859, 32533, 20838, 9806, 27372, 21130, 29822, 1824, 29782, 23658, 21963, 18275, 1996, 12309, 14546, 33211, 14818, 19591, 34442, 1260, 29271, 27488, 31636, 21045, 5447, 6903, 6520, 14766, 4996, 16781, 19481, 10192, 18375, 5903, 28153, 9904, 6887, 3056, 6886, 11206, 30375, 16607, 1604, 35288, 9401, 4251, 22177, 3542, 14263, 18250, 11310, 7036, 17740, 2392, 903, 29176, 21731, 18746, 30501, 18519, 26592, 33817, 14771, 15782, 29888, 30371, 19151, 15846, 7843, 31928, 16744, 27629, 18330, 17961, 1908, 15272, 10687, 20161, 12868, 31890, 33944, 4504, 18456, 32012, 21414, 13209, 23309, 7467, 2574, 6422, 31234, 22608, 21920, 18299, 11820, 27222, 33496, 14059, 1446, 31531, 17505, 18171, 13711, 14379, 24588, 25738, 31800, 7110, 575, 16031, 15550, 4452, 16523, 8208, 18216, 8981, 23050, 35046, 4466, 21778, 17708, 11711, 21159, 1173, 32477, 7608, 20326, 4046, 19707, 6008, 26227, 28639, 2924, 6243, 1671, 3397, 18834, 1048, 13124, 25423, 9576, 17293, 6020, 13453, 4391, 17084, 4565, 4476, 3784, 25346, 7221, 6579, 12143, 19381, 9172, 1190, 23528, 32672, 950, 32439, 17441, 13592, 8896, 29703, 5639, 16979, 19182, 20905, 18196, 23866, 15627, 2863, 21546, 140, 26909, 16001, 3822, 17653, 16000, 16061, 3373, 10610, 33304, 27367, 11981, 1630, 16753, 19595, 13424, 23969, 17289, 6797, 14955, 22090, 3713, 20648, 11917, 15759, 11882, 9841, 19721, 21851, 17021, 4378, 33217, 10103, 30738, 8583, 6402, 21572, 46, 28685, 30685, 8846, 15838, 22598, 8476, 7243, 27383, 14822, 27609, 6592, 35162, 2133, 24036, 7199, 33200, 21699, 9240, 30939, 30459, 3462, 34592, 10928, 10543, 33664, 25192, 15058, 16106, 10523, 176, 2368, 4360, 4962, 27285, 3612, 31062, 13771, 16487, 29272, 31291, 5847, 2870, 4110, 17400, 32516, 32744, 8563, 6470, 20530, 26739, 25556, 6075, 25646, 6181, 11734, 2905, 34718, 22416, 15754, 24144, 2031, 27098, 3807, 26871, 8650, 25852, 25994, 27087, 2304, 21774, 20768, 2635, 21040, 8521, 14577, 33004, 25165, 15980, 8460, 2596, 14876, 21834, 19883, 30355, 10458, 4750, 32431, 14935, 14962, 14578, 24028, 31253, 21813, 35132, 22529, 23197, 10002, 18805, 21630, 640, 7173, 32105, 845, 28974, 22121, 15461, 14308, 23867, 15492, 32629, 18000, 22864, 3666, 5155, 29293, 17405, 18024, 25538, 4745, 9456, 5625, 33291, 15639, 19166, 27130, 16622, 34296, 25780, 23345, 13575, 18336, 16426, 18011, 3180, 31164, 24075, 17101, 30619, 32172, 25023, 31036, 7101, 14939, 20919, 654, 31825, 10090, 18404, 28275, 13431, 17354, 3345, 12863, 29638, 19256, 19193, 34272, 24478, 965, 3972, 26253, 23666, 35176, 11914, 20594, 9400, 35072, 1484, 27133, 21310, 1605, 31285, 17398, 13143, 28040, 18874, 22159, 21498, 31990, 2236, 33221, 10758, 6649, 8233, 9630, 23672, 11483, 10190, 30735, 4949, 24404, 21577, 27469, 23797, 21891, 270, 26647, 7698, 177, 20327, 21241, 11690, 13848, 27082, 6151, 18728, 35341, 21669, 20014, 13600, 4893, 19853, 27269, 14533, 10654, 5286, 4224, 4008, 6236, 11843, 5872, 18848, 13175, 21987, 6393, 8865, 5960, 14340, 12060, 4902, 14917, 18134, 25727, 4390, 26001, 10507, 1776, 21423, 14924, 17123, 21555, 27499, 3199, 15021, 13752, 8876, 33751, 6397, 16639, 34997, 26887, 22462, 1717, 17681, 24584, 10925, 27827, 31980, 5042, 24496, 7590, 11924, 12544, 9380, 18115, 18587, 32524, 772, 3079, 16413, 17232, 23920, 29537, 23513, 16584, 3974, 13662, 11696, 16830, 16615, 19725, 27313, 33334, 9101, 33415, 16729, 6392, 13868, 22198, 6673, 15212, 21063, 24884, 5256, 9489, 13374, 29123, 5970, 30420, 14341, 34991, 12555, 10318, 26692, 3824, 22683, 30851, 30218, 18503, 3683, 26911, 7568, 24845, 11287, 17257, 18772, 9641, 29042, 29282, 16493, 12781, 32676, 26244, 7450, 16145, 23536, 31833, 26034, 21791, 3264, 18461, 8889, 3894, 6113, 16748, 4881, 5603, 21503, 32695, 10060, 22179, 33266, 17511, 27240, 11505, 26956, 17112, 4248, 23507, 17462, 25308, 24996, 13538, 27578, 12949, 1643, 4403, 2280, 11703, 16318, 12439, 3512, 930, 23510, 30635, 8072, 6377, 26662, 26779, 7236, 15485, 4434, 19760, 31449, 8319, 19543, 5705, 35116, 11346, 1743, 3539, 16763, 3550, 34352, 4610, 1542, 27010, 1455, 15620, 21912, 28525, 9143, 32634, 27402, 2189, 34831, 26545, 25025, 23676, 14387, 16248, 7130, 33347, 20041, 1261, 33493, 7890, 9080, 5022, 7431, 5504, 21378, 10350, 4713, 29024, 3057, 33718, 7469, 22753, 13341, 10155, 10528, 26862, 6269, 27928, 25194, 77, 6868, 27405, 21893, 21701, 521, 1476, 25701, 19248, 16445, 11441, 12756, 20278, 27758, 2624, 9620, 16027, 31625, 30684, 19347, 30872, 3614, 11785, 4629, 33810, 27123, 26184, 31835, 30490, 35084, 30292, 31069, 29285, 4974, 3816, 24806, 51, 30982, 30627, 33517, 21041, 16785, 29251, 27406, 8667, 16104, 25909, 7020, 18782, 27408, 11590, 17649, 2977, 19924, 29821, 3100, 21648, 4616, 9994, 27016, 6434, 23815, 32180, 14797, 18455, 32576, 4166, 18143, 19509, 28517, 18425, 17903, 32219, 1353, 22454, 30321, 9898, 29887, 11515, 7772, 25877, 10494, 22321, 12062, 21207, 13123, 16582, 31614, 16581, 33365, 23629, 1712, 1481, 24388, 17693, 3314, 23852, 22340, 20372, 8532, 7532, 7550, 26084, 26172, 31149, 7582, 5144, 17928, 29098, 20429, 9447, 24549, 7686, 11034, 33475, 32488, 22294, 5246, 3864, 19642, 6106, 7454, 9823, 8518, 13357, 29804, 5825, 6375, 17438, 13074, 3788, 2507, 34329, 8728, 7745, 10316, 4498, 8882, 16666, 2367, 30244, 15343, 30997, 29832, 11545, 18666, 13567, 19186, 8580, 4982, 27057, 33446, 4819, 2662, 2025, 578, 34043, 34004, 28369, 6987, 1084, 24482, 21185, 8158, 14470, 17080, 24959, 32717, 8203, 4416, 29276, 24368, 7168, 20830, 6899, 9769, 25163, 18768, 12910, 20756, 25931, 18151, 17030, 29054, 10877, 32640, 8174, 14156, 6311, 14713, 26039, 14301, 20964, 34623, 16271, 21082, 11636, 3459, 7271, 16938, 200, 8013, 823, 5611, 15366, 5115, 31672, 8561, 1512, 30101, 289, 17200, 32697, 16675, 11900, 10012, 28486, 5180, 10926, 22045, 8093, 186, 10234, 32312, 20941, 1629, 953, 14947, 18166, 5418, 7826, 20200, 154, 300, 33500, 31329, 20300, 18993, 16879, 21292, 12630, 1539, 21238, 29239, 2916, 1285, 26064, 16717, 15156, 4957, 3086, 18284, 19577, 5363, 20335, 10533, 14985, 26752, 13816, 3181, 5186, 17643, 9342, 14364, 30574, 15708, 18889, 10769, 3843, 23371, 19523, 19233, 3074, 10467, 16055, 306, 27844, 3811, 29116, 28824, 26573, 21187, 18641, 6076, 696, 14754, 21599, 6148, 12822, 25916, 31483, 8838, 35350, 23128, 29849, 9530, 10901, 32151, 8646, 32078, 9910, 5730, 4488, 31537, 7749, 27440, 5680, 10099, 4909, 26168, 3047, 16451, 25426, 3625, 24297, 23742, 27570, 19525, 2288, 25139, 30626, 7066, 9364, 23509, 33527, 3812, 960, 16894, 25898, 19835, 29932, 29701, 16365, 115, 27770, 11522, 17699, 27781, 18268, 27060, 19710, 27605, 6533, 21606, 33115, 12091, 8796, 33731, 23381, 14516, 7197, 4814, 10486, 17436, 7067, 20664, 12681, 18945, 8270, 17906, 18064, 987, 18259, 10702, 32268, 2610, 33688, 29466, 12615, 16532, 17791, 26266, 24437, 29337, 14792, 3724, 15575, 535, 9950, 33402, 8122, 16695, 10479, 2763, 20603, 20477, 667, 4757, 34817, 16402, 23399, 28436, 526, 21057, 24885, 27105, 26706, 11123, 19475, 721, 17022, 24283, 4093, 27678, 8845, 7884, 426, 31823, 7764, 14179, 34178, 15491, 34118, 22418, 12127, 14249, 20715, 5267, 29576, 23784, 12741, 33714, 27472, 9419, 20899, 6722, 21374, 21121, 595, 31210, 13116, 18145, 3766, 30885, 32701, 28825, 19172, 33540, 17115, 33973, 2294, 22202, 418, 24396, 30858, 19478, 25932, 6825, 6317, 21424, 13333, 2300, 17683, 17079, 598, 8797, 26728, 20694, 4830, 20532, 18496, 29051, 13663, 11551, 14606, 35048, 7015, 26233, 5294, 17895, 7812, 34254, 12941, 21178, 19373, 13403, 26280, 12528, 919, 13189, 23872, 25300, 30116, 27464, 31300, 5652, 11095, 23644, 30021, 17887, 21741, 34900, 13920, 11325, 12890, 11246, 2953, 9511, 6648, 13870, 12651, 29308, 2313, 29212, 17676, 30793, 31771, 16495, 3267, 17559, 18977, 5425, 4729, 13501, 19492, 17548, 32202, 6156, 21852, 19371, 4412, 30857, 811, 22000, 32637, 8639, 1723, 30433, 419, 28769, 10461, 14672, 26298, 23359, 10949, 22795, 9403, 20761, 27015, 31326, 21466, 12428, 28972, 17179, 28574, 29775, 10635, 23397, 6755, 6594, 10337, 14004, 1106, 15796, 10238, 8464, 682, 5051, 10224, 4535, 32004, 2671, 25224, 23029, 26537, 18290, 8189, 2234, 2242, 12334, 19918, 6791, 25788, 29132, 3913, 31258, 15614, 32911, 16726, 21688, 25933, 30775, 7111, 34530, 25454, 12742, 33042, 11076, 14078, 17498, 15923, 32346, 34418, 5523, 13243, 7005, 29196, 8614, 7658, 16850, 15057, 7541, 33170, 13957, 32502, 24122, 19887, 27704, 15203, 13498, 13036, 4408, 15624, 17706, 8627, 6287, 2854, 23485, 12370, 15443, 9191, 2859, 8209, 19828, 562, 3287, 17296, 6065, 14248, 31433, 10748, 13472, 18394, 17834, 15105, 21801, 12503, 28440, 4959, 23038, 34481, 22014, 10340, 13890, 32206, 18864, 27083, 2898, 22648, 3537, 4774, 28015, 21223, 21302, 5323, 28148, 19307, 7304, 6938, 30964, 6773, 22108, 14374, 32561, 26134, 7780, 27273, 27232, 10441, 4821, 13004, 1774, 20895, 11110, 22425, 31310, 3983, 7996, 2710, 33382, 18229, 16872, 13457, 9122, 21384, 30127, 32827, 34245, 2545, 19936, 22964, 1724, 22474, 9851, 4752, 26045, 15302, 10281, 30694, 16050, 23341, 4871, 6305, 14611, 31727, 20364, 22238, 6373, 18679, 15196, 2421, 10741, 4656, 32200, 13366, 34353, 8595, 26496, 10211, 4458, 25388, 25981, 31454, 20246, 23358, 31091, 10392, 4045, 19407, 26500, 25578, 3644, 9524, 6447, 20285, 19838, 29625, 11857, 18114, 12595, 6131, 14601, 28765, 17933, 12856, 3622, 4145, 32663, 34154, 32837, 1378, 14569, 19626, 29548, 11888, 31317, 6840, 3726, 22460, 16129, 8513, 18443, 14284, 31673, 31265, 19802, 7299, 10640, 5998, 14275, 10876, 4552, 32167, 26195, 2143, 6835, 5497, 25691, 3224, 13755, 23798, 16924, 12281, 19027, 3444, 592, 19374, 10627, 11611, 29407, 6680, 35154, 28656, 23002, 31548, 21321, 26892, 10572, 27774, 19594, 18625, 5904, 24072, 32642, 2709, 12270, 33026, 7973, 21907, 9425, 16568, 195, 5876, 6347, 12740, 22451, 2153, 4315, 7436, 8686, 15239, 8400, 750, 21039, 16218, 17786, 2217, 27753, 30570, 19432, 9591, 31526, 15887, 8379, 13539, 25974, 26993, 9485, 31948, 29674, 27976, 22409, 23875, 9055, 28366, 20368, 1873, 24125, 2096, 27603, 21103, 32212, 785, 32572, 33859, 19819, 24383, 20903, 34656, 27834, 7869, 15622, 28755, 22216, 8325, 30764, 1121, 33, 8895, 10305, 12913, 27017, 3689, 1090, 12823, 34565, 15009, 5, 6322, 28039, 25041, 27769, 441, 8457, 4263, 25679, 1505, 33331, 10900, 20909, 19297, 17535, 16438, 32266, 18228, 20307, 23813, 20310, 604, 18729, 4740, 25245, 33070, 13084, 14072, 12075, 2667, 262, 1775, 1510, 26473, 23489, 1215, 13856, 16960, 9863, 15803, 17723, 17051, 21718, 25498, 29915, 14608, 34525, 1594, 21985, 14744, 29524, 10764, 19384, 9428, 9220, 29171, 6442, 5036, 5380, 6138, 16105, 32002, 15617, 31715, 22135, 6307, 24399, 6853, 12812, 6023, 11946, 25921, 32799, 5460, 5445, 33363, 1573, 5452, 35081, 1905, 2256, 1935, 7266, 9547, 29246, 1649, 10201, 3328, 5337, 8336, 33514, 30304, 19316, 30499, 20404, 24129, 20262, 1140, 26557, 1164, 7891, 28304, 17732, 1314, 18118, 33529, 24762, 24401, 11009, 19500, 33834, 498, 5777, 17855, 20271, 34006, 363, 20233, 29814, 15710, 23224, 3762, 13263, 8446, 6343, 27231, 18981, 35036, 5907, 4988, 14103, 928, 16680, 17262, 25100, 3178, 5812, 27755, 34062, 15256, 22839, 34646, 25408, 11270, 15979, 26139, 8825, 32500, 4662, 5160, 18359, 21432, 34698, 26123, 19397, 13190, 17076, 12189, 22156, 3407, 9749, 14730, 4633, 5996, 22725, 12945, 3996, 20079, 12953, 13186, 20092, 9474, 12175, 13405, 5077, 26245, 13137, 8986, 13313, 29071, 2205, 11176, 11061, 7765, 20407, 23939, 9505, 14047, 1795, 15682, 26332, 31847, 1299, 30384, 29139, 6378, 3508, 21373, 14067, 19913, 10542, 3412, 11753, 34040, 32076, 8924, 4402, 3817, 6424, 26769, 12618, 10919, 21938, 14640, 26584, 25021, 4479, 17767, 32988, 29584, 32926, 5262, 12641, 15945, 20739, 12272, 7444, 20010, 22404, 19385, 21036, 18039, 9590, 27507, 4124, 12422, 29474, 28876, 24971, 12547, 4178, 24772, 17155, 26032, 14350, 33649, 4619, 7921, 15138, 34654, 19071, 16549, 19414, 17122, 31710, 18133, 2927, 22199, 21770, 35311, 7969, 32305, 8288, 26889, 28585, 34473, 5471, 5212, 12200, 25153, 25739, 218, 31549, 2250, 1950, 989, 2851, 25150, 5073, 5766, 8430, 20582, 10757, 24038, 26012, 9868, 135, 24648, 30051, 2497, 1982, 29061, 33413, 5932, 20164, 5401, 14385, 21370, 4030, 5955, 11538, 21206, 9045, 7285, 33922, 25432, 10509, 5453, 17594, 29600, 21676, 22663, 35210, 12118, 16654, 6354, 11633, 35139, 20332, 27972, 28247, 19611, 13042, 17425, 13726, 8706, 21073, 4293, 21918, 15172, 11416, 34682, 34570, 13016, 20369, 6559, 29338, 1729, 5137, 32043, 11929, 3426, 34835, 8146, 20849, 20468, 3478, 14062, 15391, 31238, 13599, 11116, 567, 10534, 24960, 19164, 12912, 13527, 24391, 2208, 19561, 10032, 9564, 9669, 22376, 16981, 14228, 1449, 29442, 22715, 10050, 31404, 13310, 12369, 15775, 25621, 3356, 23005, 12110, 8588, 10499, 15883, 23480, 10939, 7894, 2778, 7270, 20117, 22069, 32479, 4846, 12608, 17976, 2201, 29626, 26469, 13728, 33696, 25773, 17897, 28460, 32645, 11111, 11852, 9826, 35100, 26490, 14922, 20339, 13578, 14015, 2253, 16802, 1405, 29109, 33141, 10746, 7838, 11474, 14825, 5483, 5078, 6824, 11859, 22042, 2098, 5486, 8447, 11856, 20700, 26542, 17536, 21339, 22905, 30525, 25838, 3288, 805, 10828, 12477, 5114, 6842, 11761, 25005, 8314, 9830, 15985, 14077, 10165, 8253, 32411, 16185, 9956, 11543, 5170, 4937, 10083, 431, 10735, 34326, 21691, 11686, 16032, 6523, 21172, 19177, 13894, 5440, 5310, 28729, 8156, 6235, 15855, 14477, 18739, 21753, 10594, 279, 13534, 34630, 34694, 23020, 34216, 1601, 16398, 15089, 19962, 30802, 12911, 17652, 13561, 1005, 5979, 10809, 25952, 32731, 32115, 16579, 19601, 32981, 12125, 23781, 26102, 2113, 1133, 8391, 34865, 21152, 16874, 20336, 24797, 8631, 6622, 29573, 34938, 24327, 5184, 32688, 6761, 33892, 34631, 17564, 8307, 21089, 21553, 20016, 5253, 6087, 31802, 13335, 22458, 9690, 6618, 15096, 19069, 22138, 12737, 17965, 9704, 20201, 14979, 21510, 2561, 21508, 20732, 11764, 33015, 34198, 14472, 30743, 31877, 21624, 32116, 712, 1960, 28292, 20564, 19002, 19020, 33652, 27449, 4436, 32858, 24927, 7459, 28917, 8408, 9989, 12416, 7178, 29846, 34857, 6637, 14995, 17487, 13353, 22299, 1227, 31764, 13617, 7836, 12950, 29713, 3024, 19589, 33288, 14526, 35290, 13239, 16690, 18775, 21856, 24159, 6738, 22685, 21330, 27975, 3547, 9816, 1368, 18243, 6541, 7365, 9077, 15981, 14803, 17215, 4446, 15609, 12283, 13716, 27937, 18617, 18778, 4321, 14136, 15750, 29507, 22593, 34303, 525, 17192, 13205, 13197, 1416, 8712, 26392, 29301, 10917, 7463, 1341, 18058, 29240, 19520, 3319, 6411, 800, 15077, 14167, 31554, 12038, 8508, 17690, 4722, 19111, 24209, 10354, 7578, 15022, 18334, 16843, 3506, 6867, 18951, 11450, 32192, 32274, 31583, 10159, 18604, 21860, 17093, 32549, 1693, 21721, 22276, 15970, 3097, 18740, 22433, 30451, 26810, 22516, 2192, 13601, 12408, 16609, 8801, 27117, 16576, 22659, 3196, 10546, 1016, 14235, 21846, 1947, 28303, 21450, 29379, 12672, 27342, 15895, 9786, 4462, 34872, 29901, 11724, 5981, 902, 12690, 20793, 17804, 2766, 4885, 22237, 21421, 3145, 18829, 7040, 25376, 7336, 7293, 19275, 19413, 7001, 29997, 15794, 9928, 13551, 14863, 17484, 25103, 31579, 18282, 27154, 14762, 17918, 26845, 32570, 19724, 22322, 21795, 8328, 5164, 8662, 13467, 12051, 20158, 7953, 20501, 33401, 21194, 13584, 34334, 1445, 5623, 25888, 10586, 35304, 15732, 24881, 12050, 4778, 13482, 34949, 31209, 31751, 32975, 6014, 17635, 26664, 8046, 12629, 20744, 34432, 34406, 1607, 33618, 22876, 17476, 2285, 3012, 34060, 18372, 33666, 20009, 11349, 5617, 6363, 20948, 26435, 29807, 23788, 26408, 182, 7695, 34602, 10163, 11453, 1219, 1977, 545, 1011, 2115, 19245, 7593, 8555, 18156, 26418, 20988, 25515, 30471, 1728, 10026, 5278, 9570, 9093, 30166, 1816, 83, 13311, 28477, 28792, 14633, 5085, 25437, 4146, 18184, 29191, 4065, 2108, 15881, 20390, 20422, 8724, 24632, 11023, 24045, 12604, 23573, 32102, 6229, 6019, 14354, 3509, 20330, 29991, 30169, 22049, 22649, 25735, 13280, 17849, 4074, 25018, 9848, 11042, 23202, 10570, 25219, 18468, 20839, 4620, 17981, 19776, 18111, 22579, 30831, 12846, 12284, 502, 16835, 24244, 296, 31811, 13730, 17086, 6186, 22785, 26733, 12312, 1007, 2676, 2915, 1803, 21379, 32233, 5264, 15214, 15081, 24468, 28688, 468, 22221, 26632, 9865, 15716, 21270, 2772, 33848, 4400, 8943, 15353, 5779, 15420, 20488, 17160, 25032, 19683, 12586, 9071, 21268, 7269, 33969, 5480, 5749, 7261, 11313, 9348, 11638, 966, 3923, 35061, 15801, 27470, 13232, 7416, 1226, 9057, 28388, 19539, 24701, 15968, 3405, 32164, 22446, 16774, 8733, 9424, 3371, 14609, 7103, 3523, 18559, 7600, 9406, 5736, 33090, 29430, 7545, 29649, 10333, 14723, 14547, 13347, 25480, 30625, 625, 33229, 6914, 3331, 13085, 116, 14695, 28050, 31761, 28285, 33687, 32189, 8165, 1158, 13267, 35087, 27701, 33046, 26484, 17372, 30940, 28650, 22099, 10636, 4563, 33065, 28163, 21443, 15777, 3752, 33547, 19658, 24698, 18498, 5209, 9975, 609, 13955, 18936, 15231, 11227, 6665, 25855, 12420, 26197, 9613, 10199, 33675, 2972, 8135, 2171, 2137, 5757, 9706, 11431, 9538, 12374, 7060, 33416, 5351, 1952, 21559, 4254, 7604, 33971, 17042, 17245, 8098, 34497, 1673, 24199, 18066, 32657, 14384, 19221, 30120, 34045, 24570, 15697, 16404, 34816, 17704, 1370, 2995, 12100, 8112, 13661, 30422, 28205, 31964, 25859, 10146, 32724, 5788, 4257, 18915, 2346, 8808, 22473, 11978, 8403, 16630, 33001, 14367, 14162, 10078, 32191, 33637, 27437, 1259, 4112, 32909, 26179, 27846, 33606, 23019, 12373, 6173, 14151, 8428, 3194, 29778, 14952, 19919, 4997, 3570, 875, 15008, 24647, 14299, 10444, 12539, 6342, 13614, 10181, 22151, 9888, 7673, 15238, 7029, 27646, 11762, 20171, 17746, 32367, 33343, 10814, 8674, 17255, 38, 14222, 2187, 19024, 6547, 14853, 34725, 4165, 7967, 13290, 148, 10009, 7998, 32410, 17870, 5178, 17707, 22744, 12478, 1648, 7816, 11951, 24286, 11074, 2705, 19148, 6969, 2103, 23143, 23272, 15168, 20470, 4036, 353, 132, 11492, 8488, 21129, 22359, 33344, 26596, 3146, 917, 13440, 6913, 34290, 10535, 5570, 21798, 7162, 1380, 18675, 12723, 2386, 28471, 13689, 18741, 17133, 2064, 13637, 9024, 34532, 20641, 9351, 30596, 34159, 22845, 14782, 30335, 15334, 14157, 7054, 641, 17973, 23621, 13113, 1182, 18900, 14616, 21288, 1267, 17114, 34776, 34851, 25091, 10092, 29317, 10659, 18573, 20238, 9137, 10062, 28979, 11814, 15862, 6598, 7656, 27601, 17272, 35338, 17935, 15170, 13879, 20817, 30216, 10915, 6318, 7691, 21115, 26762, 13773, 18769, 5792, 15014, 5801, 25468, 14964, 2612, 7347, 20570, 8060, 34571, 24946, 30333, 18274, 32728, 13033, 16886, 20392, 29017, 27034, 25938, 25999, 30544, 27554, 17877, 33158, 29415, 31225, 34417, 27022, 11467, 410, 33656, 2024, 34778, 27633, 30282, 26107, 9349, 13831, 21575, 9617, 29005, 18063, 4244, 28779, 21334, 32591, 24022, 5976, 18270, 1699, 33767, 5179, 10497, 23098, 13612, 28659, 29992, 16164, 1249, 32991, 32067, 34966, 14014, 32276, 11052, 22302, 3705, 281, 5088, 33126, 15362, 7035, 26764, 5201, 19986, 29307, 35240, 33994, 18488, 22412, 22285, 17202, 17239, 24088, 11211, 5185, 20323, 4468, 19506, 14861, 10557, 30543, 1459, 6654, 2327, 1915, 4636, 16503, 29538, 17610, 1747, 19426, 4587, 4407, 4972, 15946, 503, 15312, 32109, 10781, 879, 26124, 19409, 16428, 23060, 6293, 29497, 23406, 1528, 25744, 28524, 13939, 16226, 32704, 229, 32831, 29688, 34037, 10971, 9046, 17370, 32698, 5529, 17755, 2400, 22417, 617, 10516, 19131, 27267, 17406, 22970, 29201, 16608, 29954, 10600, 19844, 1794, 6929, 17692, 31283, 33490, 20908, 33816, 4383, 4128, 15668, 32145, 33407, 2439, 17280, 33054, 19773, 10672, 20634, 31792, 23499, 19442, 12240, 12977, 13493, 19322, 6130, 33813, 13684, 35237, 20051, 11863, 10525, 18937, 31689, 22026, 26754, 32459, 12682, 5789, 18062, 31002, 20063, 4060, 30657, 23757, 22896, 20504, 30874, 8688, 7212, 14807, 33965, 34234, 773, 18731, 8802, 1581, 29693, 11729, 165, 10804, 1703, 12463, 600, 18823, 34793, 9106, 11560, 7927, 7588, 2502, 16048, 33293, 9969, 7609, 26895, 8999, 26899, 16093, 7710, 30066, 8789, 2605, 19239, 21816, 6234, 9737, 11464, 20288, 14171, 35145, 31872, 33187, 7388, 6967, 8160, 16238, 22566, 3351, 13435, 9651, 31128, 4086, 30718, 31844, 26923, 7422, 7382, 27336, 23662, 30027, 3904, 3176, 17658, 3710, 28437, 22236, 11332, 6692, 23157, 32624, 26466, 25960, 11979, 13754, 4356, 3685, 15155, 22439, 27328, 5007, 20695, 15354, 7817, 3385, 12655, 19786, 21516, 32756, 33998, 21496, 10301, 34735, 16556, 15347, 16970, 4815, 7447, 9783, 24580, 3034, 16707, 24100, 13181, 18239, 2565, 27369, 27403, 6854, 20666, 31245, 14008, 20103, 32859, 31445, 13952, 27908, 16937, 18261, 16221, 20507, 34059, 2884, 22176, 29218, 10288, 33601, 7848, 31749, 29041, 25829, 5378, 2829, 30749, 6510, 2245, 21100, 31639, 28356, 2170, 14186, 32515, 22948, 18876, 34557, 15695, 32628, 28091, 18871, 12853, 4028, 5694, 32021, 17813, 35022, 18174, 16734, 31103, 1860, 21901, 23138, 15954, 35380, 23870, 15131, 9209, 20186, 14291, 10766, 8390, 20374, 3883, 11584, 22115, 28027, 21689, 10277, 12806, 2601, 18, 31550, 10512, 35184, 29315, 4241, 9647, 8388, 27210, 27427, 22913, 22427, 22251, 6457, 1986, 27180, 34366, 16915, 2835, 11277, 16611, 21043, 7460, 7702, 2506, 31060, 14286, 18047, 10923, 27557, 9628, 30100, 7811, 22078, 15851, 12134, 8309, 17534, 17151, 1965, 28353, 10428, 5010, 29292, 5298, 422, 17315, 1322, 23300, 10608, 29228, 3995, 8169, 10826, 4420, 34102, 31104, 12876, 16963, 19155, 10325, 5404, 3594, 1662, 33286, 25420, 10578, 5322, 31226, 5900, 7377, 19343, 32865, 484, 12659, 18644, 369, 13871, 28615, 3349, 27987, 32751, 7892, 17009, 29209, 18021, 5573, 17603, 31647, 1073, 29451, 8166, 11242, 68, 36, 6711, 10751, 25717, 16460, 13240, 10693, 25651, 33246, 10771, 14971, 3208, 30639, 3618, 17048, 6465, 2355, 4249, 9580, 21645, 13229, 1014, 32148, 1940, 6550, 16467, 16222, 14010, 17720, 15449, 12423, 24124, 33708, 31770, 5785, 14024, 10585, 2067, 17250, 34215, 2337, 2535, 4599, 4272, 17793, 6910, 16595, 19558, 15415, 20960, 34690, 9114, 2598, 16335, 1309, 16456, 20160, 34854, 11444, 30036, 8891, 14688, 4505, 32271, 10661, 21464, 1454, 34892, 26286, 31201, 11581, 26924, 34039, 14572, 17856, 23882, 5974, 30277, 2971, 21935, 25624, 18189, 32974, 11523, 2195, 33479, 26136, 3660, 20247, 14189, 28863, 25514, 10093, 29676, 4516, 32621, 32462, 3569, 30597, 651, 3799, 11733, 16577, 34275, 18982, 14813, 3911, 22844, 14727, 3175, 3847, 5225, 4779, 24977, 21698, 15314, 15237, 29384, 18318, 19367, 20351, 18161, 10597, 2447, 2786, 5134, 12770, 9160, 11016, 7144, 32711, 16801, 28542, 834, 21309, 23775, 9432, 8935, 21042, 28681, 33313, 974, 1598, 31585, 12787, 34368, 21882, 25154, 21612, 35108, 19119, 27112, 16276, 11405, 18688, 14505, 17117, 7370, 28257, 21161, 21570, 15554, 7632, 16927, 19783, 14811, 19213, 21557, 1209, 33315, 14823, 3684, 4313, 21749, 17636, 23926, 19238, 13718, 20749, 28955, 2554, 7628, 32630, 7520, 28712, 25181, 20857, 28057, 5402, 5223, 8211, 214, 34933, 33039, 12658, 5312, 90, 3806, 27422, 9329, 25550, 5636, 14799, 17657, 26059, 14089, 17145, 18562, 5696, 15635, 21520, 35397, 1458, 30411, 18734, 14456, 25585, 28896, 6194, 1916, 2685, 34056, 26802, 28918, 25083, 4666, 10696, 28533, 4769, 13382, 10723, 31344, 12210, 21859, 26774, 16716, 3244, 18999, 29187, 14410, 10143, 28895, 20465, 22421, 7367, 32442, 7742, 4572, 4367, 411, 10927, 13499, 9102, 27296, 2788, 30361, 29243, 18407, 24565, 18842, 18792, 7910, 4784, 20914, 6560, 13039, 2142, 18226, 22997, 5761, 28328, 32767, 673, 25036, 6364, 3398, 8979, 27657, 26771, 10752, 22171, 2831, 31000, 18433, 9047, 34348, 23235, 17642, 20721, 8575, 17671, 14403, 14564, 26817, 12587, 33397, 11662, 4680, 12016, 3031, 9389, 20660, 28284, 3112, 15477, 3455, 30041, 23530, 18026, 8606, 26011, 21615, 4789, 19541, 21495, 162, 21998, 23230, 27654, 35221, 33412, 13549, 301, 19616, 133, 25102, 25159, 4482, 14112, 23863, 19147, 31848, 31377, 20132, 12579, 23643, 22498, 13458, 31137, 22210, 13665, 25841, 25446, 1371, 22424, 32437, 6798, 7925, 6619, 3628, 105, 10460, 21139, 11610, 12782, 31513, 2283, 32435, 16476, 294, 3949, 18001, 35375, 6799, 31330, 4239, 561, 11015, 9869, 2562, 4284, 20398, 12357, 33990, 17242, 4569, 27332, 21707, 28254, 22271, 7065, 6651, 20675, 7858, 6071, 24649, 8034, 10628, 17311, 6663, 9899, 34767, 16539, 13886, 686, 14534, 471, 29056, 13344, 24626, 11655, 28986, 137, 7215, 32614, 10491, 22243, 17728, 20409, 28937, 35151, 11003, 3103, 20814, 7149, 13200, 17292, 3763, 3916, 3927, 28581, 954, 10511, 12181, 3317, 10215, 22759, 15513, 26047, 35305, 34964, 13803, 21244, 20366, 25741, 31502, 245, 32358, 340, 28497, 32774, 13425, 12529, 9855, 11750, 12157, 16077, 16844, 27047, 11854, 11079, 6871, 22411, 30260, 29922, 33279, 3117, 33678, 2743, 23284, 17694, 10061, 5865, 5149, 3798, 30488, 7994, 15764, 5099, 17811, 4874, 6836, 15294, 13122, 7614, 33533, 14161, 27048, 6696, 10191, 4953, 12862, 14105, 8441, 32830, 24515, 30751, 18379, 14176, 23669, 24153, 18833, 17313, 10765, 25549, 28483, 17987, 25485, 34948, 7397, 5340, 20353, 1632, 33774, 6188, 998, 27101, 16728, 14976, 1634, 2055, 5880, 32982, 21441, 2061, 33215, 4793, 12904, 26030, 32249, 20683, 18473, 26854, 11260, 6192, 32077, 31477, 33100, 22831, 32331, 1838, 14644, 15199, 112, 20259, 27864, 30788, 13178, 33437, 12306, 28777, 14895, 21531, 30235, 29069, 18869, 30112, 11866, 17524, 4530, 2714, 9680, 16580, 21714, 10182, 17560, 29505, 16900, 22577, 19143, 18554, 33867, 1999, 25706, 2514, 31694, 1689, 1269, 23547, 11269, 26611, 951, 1295, 22521, 30904, 10408, 22256, 25900, 31332, 2992, 2237, 27606, 22189, 15806, 19634, 20028, 30655, 9884, 18251, 19121, 3842, 34054, 29898, 34880, 7059, 16009, 25519, 17589, 20921, 14002, 25796, 16592, 9372, 21457, 32580, 23475, 11006, 20963, 2523, 3137, 22545, 35282, 13591, 3677, 33870, 17712, 6897, 33748, 11121, 4147, 23679, 27032, 5444, 4382, 32232, 12071, 33400, 11594, 14929, 32163, 19261, 17389, 1757, 18956, 14622, 10727, 5834, 25934, 7011, 19912, 20886, 20199, 23958, 23607, 209, 15119, 14615, 14720, 12633, 31724, 28316, 32038, 8212, 3101, 6693, 13034, 6027, 13968, 32289, 16060, 21305, 21171, 21024, 367, 4717, 32526, 12575, 3000, 15379, 11451, 24798, 31011, 16804, 32879, 12407, 13365, 23152, 31552, 28588, 32670, 3262, 21092, 2941, 16755, 19330, 6846, 18950, 16459, 33641, 27930, 4654, 31050, 21874, 5132, 33550, 5744, 18280, 4068, 17189, 20517, 1149, 17058, 30632, 7696, 6471, 21960, 25098, 8934, 8000, 7620, 1119, 2627, 8360, 28926, 29963, 33450, 26208, 25946, 1422, 10632, 2194, 1518, 24909, 23601, 9468, 34685, 23418, 6715, 32922, 6518, 35310, 34536, 24057, 12435, 11382, 10245, 34476, 16037, 34472, 21530, 20108, 26819, 2611, 7980, 9861, 8434, 8480, 15965, 34238, 6158, 5500, 24024, 28404, 7443, 26990, 28861, 17454, 10356, 4946, 5934, 17502, 23289, 6445, 21968, 33891, 8217, 26219, 22638, 3111, 4102, 28781, 6837, 12347, 12773, 15213, 543, 10065, 19049, 32881, 179, 16112, 6695, 9996, 33385, 32564, 19053, 10644, 22644, 1110, 19816, 2270, 19461, 13, 31261, 4455, 26857, 779, 12543, 3699, 28500, 31861, 22821, 15587, 2551, 14661, 17584, 5041, 3664, 19034, 6763, 4829, 11835, 2193, 6053, 25667, 11133, 31367, 3855, 21724, 34284, 5855, 29917, 12275, 17111, 16789, 10297, 7136, 21346, 28818, 1704, 7803, 26917, 11759, 8581, 22466, 14474, 29786, 16485, 2609, 32720, 20760, 19632, 9645, 15534, 22406, 1647, 27185, 23854, 12884, 28377, 16775, 24800, 19815, 13120, 1115, 32944, 31428, 13622, 34014, 31007, 7295, 14582, 21058, 1374, 6165, 16977, 11737, 23396, 7951, 15159, 1281, 9741, 20610, 34158, 11746, 15783, 2162, 14700, 34965, 6306, 1120, 8968, 3183, 15144, 21793, 11159, 34825, 18766, 23195, 14180, 7129, 16883, 33882, 7128, 4658, 18551, 24591, 19383, 11439, 1298, 29609, 33621, 7245, 15255, 17840, 30730, 6280, 11939, 7479, 35051, 9504, 10194, 34812, 13363, 10950, 16803, 74, 19655, 25208, 3054, 7661, 19058, 26657, 5526, 33605, 28554, 25987, 467, 1346, 6190, 26615, 34524, 34673, 17247, 7548, 35099, 32047, 20851, 32313, 35032, 10726, 19303, 7256, 10740, 1159, 27272, 30542, 8922, 25789, 7033, 33476, 6482, 16510, 18023, 8774, 6231, 4131, 3740, 15402, 34898, 2582, 20630, 2212, 7783, 15460, 10812, 9462, 5771, 3021, 27085, 3793, 19926, 21293, 9736, 15360, 9856, 35313, 33186, 583, 6794, 15266, 27664, 19714, 1756, 2949, 2659, 8993, 19114, 25373, 18549, 31211, 4057, 8079, 26621, 23351, 9526, 17686, 3882, 12797, 20576, 28090, 14911, 29818, 16819, 34829, 20005, 29097, 26898, 6948, 16854, 2290, 5922, 31836, 35426, 13071, 14779, 15545, 9323, 2530, 3577, 23036, 14461, 31144, 8757, 8697, 11236, 19433, 15999, 17875, 8313, 17532, 13167, 21031, 6193, 17509, 7099, 5291, 10581, 12794, 2642, 5095, 10789, 5826, 22937, 32035, 489, 7629, 15951, 13489, 25433, 13624, 26782, 3357, 13234, 8477, 14435, 35394, 11309, 32747, 14630, 22447, 1715, 19696, 12470, 31578, 24089, 14923, 27992, 2677, 18867, 13154, 14244, 14457, 7645, 22771, 30103, 4891, 15245, 12832, 23105, 17347, 8272, 2107, 19345, 32247, 23624, 18986, 2895, 4405, 10530, 33102, 3745, 20393, 17043, 9081, 25344, 8564, 8491, 6691, 7320, 29055, 18548, 21821, 4435, 32335, 12627, 19744, 20654, 14041, 21459, 35173, 2311, 943, 9062, 16897, 945, 15167, 18626, 21428, 8655, 15687, 4783, 1303, 14210, 21905, 18497, 15651, 12499, 13305, 3519, 5370, 19106, 25635, 12102, 18928, 31124, 21069, 24473, 16100, 25591, 24194, 20633, 6223, 3064, 10738, 18462, 16975, 9880, 33676, 21867, 28583, 9321, 8286, 29472, 23165, 25547, 12444, 2075, 11171, 6829, 18958, 20147, 7613, 17269, 13696, 34894, 855, 35347, 11037, 15285, 8892, 18419, 2190, 9931, 3463, 4227, 6439, 15589, 25442, 18965, 2861, 3041, 23339, 30317, 25348, 13169, 30136, 8193, 977, 11014, 7250, 28408, 10973, 34444, 31239, 7724, 12697, 11964, 28089, 9908, 31073, 19522, 2594, 15136, 8975, 3166, 22034, 17137, 21616, 20952, 3316, 3023, 4004, 16156, 3167, 26366, 27545, 21950, 21016, 10966, 6241, 15191, 10273, 18019, 25771, 14509, 31970, 10924, 9412, 25367, 10690, 25881, 14343, 13884, 16906, 25608, 15439, 4954, 25726, 11067, 15522, 7, 9481, 33942, 15163, 32504, 31192, 8613, 5813, 11513, 25641, 2604, 32713, 9778, 27759, 18435, 302, 19441, 16704, 1702, 7679, 21723, 6656, 17107, 31830, 32660, 11897, 21210, 33171, 12239, 7290, 15929, 26173, 22470, 31600, 21690, 12561, 398, 298, 28101, 1752, 13782, 20671, 20574, 9947, 1279, 19705, 15892, 13292, 531, 26066, 22805, 4850, 20460, 35007, 10039, 28315, 17019, 13183, 6937, 14715, 14620, 14438, 11635, 3984, 34321, 12266, 33233, 16216, 34686, 27029, 18240, 5479, 29070, 22747, 35115, 724, 1525, 11896, 32585, 31010, 33289, 3606, 35192, 4148, 8658, 11722, 6982, 20698, 2128, 18857, 25947, 14619, 13474, 10879, 11604, 34289, 29790, 34953, 10382, 733, 2110, 13270, 20193, 10887, 1332, 14882, 13855, 10070, 13502, 16341, 17853, 10641, 10902, 21338, 3283, 3252, 25328, 8720, 30961, 8369, 15859, 20047, 16014, 6658, 1043, 18324, 26588, 25114, 9701, 25398, 18781, 17590, 11205, 10119, 26337, 10808, 9402, 9936, 5993, 20746, 4591, 4741, 6942, 33163, 981, 20651, 26358, 8044, 11892, 15300, 15504, 2618, 35393, 7909, 28065, 17715, 21279, 20707, 10612, 20308, 16323, 24330, 11802, 9846, 30787, 1872, 5251, 1172, 792, 19435, 16419, 4577, 31243, 17731, 8806, 24728, 22695, 430, 29124, 13564, 12674, 33900, 30889, 20986, 5167, 3756, 658, 26734, 478, 1793, 21070, 33972, 2767, 6965, 7922, 8541, 910, 16139, 3160, 16881, 3761, 31756, 16452, 33077, 21869, 1628, 14838, 12926, 1635, 21329, 32450, 15944, 4125, 4548, 25375, 18084, 31882, 20894, 31182, 8348, 2163, 19993, 8813, 12715, 11793, 14075, 20105, 7392, 20035, 1146, 6678, 3050, 21628, 10247, 31604, 17435, 10081, 12817, 12010, 17507, 15681, 27777, 29039, 16706, 8500, 21301, 14139, 27027, 183, 31068, 13446, 21807, 9394, 31495, 15745, 3449, 2703, 11707, 4649, 19189, 22444, 97, 16252, 5125, 26082, 11147, 24079, 34586, 7316, 23447, 34225, 21986, 22923, 9346, 17350, 4833, 19057, 33534, 1019, 17353, 1394, 34471, 15788, 14886, 8150, 17691, 3997, 4876, 34201, 5860, 29454, 4719, 21376, 33222, 34883, 32788, 222, 23016, 4554, 31821, 4630, 6758, 21973, 8857, 33465, 6022, 4437, 11997, 20801, 21623, 18885, 21222, 10235, 8747, 7569, 30426, 35144, 5305, 2976, 17578, 169, 30769, 1148, 7914, 5108, 8089, 19622, 32737, 2669, 31274, 15570, 18507, 30549, 28044, 1681, 3613, 32775, 5024, 30661, 9789, 34114, 27761, 20071, 31879, 8976, 11056, 22394, 32951, 12502, 12264, 13795, 24353, 14211, 10298, 1553, 16250, 23805, 22003, 31193, 35050, 4508, 3132, 21729, 18569, 6101, 34526, 12920, 31230, 18006, 9903, 9282, 14221, 30060, 8449, 27009, 19971, 35080, 6266, 14237, 24128, 3002, 10082, 15657, 17687, 5564, 10510, 18105, 19966, 35137, 3147, 4989, 2482, 32088, 23466, 21922, 8137, 9671, 8321, 7774, 17495, 394, 12714, 15177, 16968, 18495, 30224, 5584, 18665, 2301, 25876, 14378, 5977, 9849, 28365, 5594, 8780, 27666, 3578, 21631, 18327, 7363, 708, 27229, 12780, 15152, 34281, 1883, 19456, 16754, 5489, 3717, 9550, 20971, 8649, 16558, 26775, 21227, 2319, 2771, 7763, 30253, 13822, 5807, 13687, 10485, 4595, 11425, 28644, 2066, 15899, 18382, 2381, 23408, 4887, 8195, 28661, 3503, 15321, 24220, 14019, 23071, 28901, 19255, 21825, 16083, 9410, 32321, 2032, 20480, 33267, 25264, 4958, 6451, 20212, 13259, 26199, 31499, 8616, 24688, 17521, 33578, 25965, 24566, 4438, 16821, 28839, 13080, 32850, 31328, 15066, 17131, 19894, 20389, 31846, 19862, 13911, 32662, 20998, 4799, 9895, 15573, 30728, 25301, 11142, 28390, 20030, 1200, 33572, 11351, 20450, 14894, 8853, 29722, 10553, 660, 20600, 28504, 3162, 25111, 1583, 10040, 28541, 24142, 25783, 8012, 33655, 33225, 21732, 21596, 29569, 25729, 28474, 5946, 4243, 10289, 12789, 13468, 14831, 18759, 33541, 5560, 1899, 18356, 10207, 29492, 16151, 5161, 1878, 33457, 34227, 10820, 32841, 14786, 3115, 19576, 2483, 11536, 30056, 8469, 6554, 15998, 27618, 10526, 1615, 3360, 10589, 33591, 458, 23367, 14694, 16740, 7452, 8048, 27182, 16765, 16491, 5093, 18652, 432, 10666, 30879, 31627, 10138, 16653, 9484, 32275, 6677, 14682, 30756, 3646, 23890, 29490, 23801, 24474, 32281, 19032, 8685, 26306, 7505, 21849, 14746, 4287, 11393, 5722, 21768, 7723, 34013, 10452, 34724, 27375, 18402, 1499, 2275, 2607, 14441, 18511, 22987, 3247, 12024, 8854, 14519, 5964, 8501, 34792, 28850, 12063, 16916, 31251, 4414, 21627, 765, 9780, 33812, 29479, 23380, 34806, 34567, 9038, 1434, 5070, 9385, 19434, 29747, 2231, 4456, 34983, 16223, 17736, 24395, 27347, 25452, 4051, 11378, 22123, 32469, 7265, 27575, 22089, 14538, 3083, 15120, 4828, 4638, 24681, 25806, 22519, 15739, 22362, 20717, 29586, 22483, 6857, 4433, 23992, 3177, 31722, 12108, 8600, 21303, 9433, 2883, 15580, 6415, 34675, 15317, 12838, 6999, 14076, 17556, 24314, 5081, 24719, 396, 13281, 2826, 5846, 12014, 5432, 34856, 24501, 5793, 30209, 14317, 7807, 16820, 26296, 23199, 2085, 16632, 14357, 35275, 22275, 2592, 16484, 29160, 581, 29683, 29718, 6991, 10216, 6163, 7948, 30472, 6108, 16648, 8936, 8715, 6752, 1834, 7753, 7694, 10770, 26984, 31907, 6180, 35126, 32136, 33588, 23185, 11055, 13218, 31442, 21449, 3758, 35160, 12738, 3711, 21408, 34691, 1584, 26896, 9221, 18007, 32519, 2615, 2292, 20452, 789, 21956, 1023, 11238, 20062, 23938, 22544, 4471, 24170, 27136, 32699, 20754, 31805, 8341, 5831, 3453, 2394, 9954, 20004, 5195, 21608, 34401, 9171, 220, 18326, 13422, 27356, 3640, 27628, 31015, 5250, 1740, 17922, 9019, 11122, 10798, 25688, 33310, 22343, 26304, 32338, 6498, 29774, 10064, 17993, 711, 29995, 6199, 16194, 33299, 35037, 11677, 13015, 15894, 5235, 3623, 34068, 33333, 3748, 13679, 12289, 11548, 34663, 19569, 16322, 7076, 15515, 32551, 15784, 19046, 21817, 27050, 14309, 30770, 19300, 20592, 11984, 32125, 19777, 29197, 3749, 13043, 16685, 397, 3271, 6757, 5513, 19008, 9935, 1324, 35157, 1157, 30620, 2869, 30777, 1344, 28157, 18264, 12047, 11386, 13861, 12656, 25451, 5348, 1174, 13688, 23067, 19983, 12033, 30664, 22165, 28893, 383, 19526, 24682, 1483, 20101, 26940, 34044, 2179, 7408, 7198, 34996, 8335, 4755, 22769, 25075, 32332, 32892, 34765, 13627, 6698, 3692, 24812, 33312, 19727, 26330, 25925, 23575, 20889, 12545, 34927, 32707, 3502, 2566, 8032, 32062, 24911, 5249, 17925, 21453, 29500, 17997, 33632, 17323, 19427, 4578, 16953, 23688, 26263, 7100, 15879, 1929, 6686, 12938, 14585, 15250, 9676, 8086, 1800, 10596, 23822, 11957, 21163, 3269, 2913, 17909, 13019, 14318, 34734, 31913, 11953, 32098, 24771, 4298, 19296, 24769, 5157, 3218, 8750, 27933, 16909, 28222, 7196, 19656, 12843, 29233, 17378, 14442, 11516, 9926, 21383, 20863, 13701, 10930, 30001, 32967, 34941, 31198, 387, 3696, 27175, 26292, 29119, 15126, 8198, 28515, 17611, 14454, 4524, 25288, 33354, 5924, 9940, 31525, 15715, 4643, 2385, 299, 20652, 5875, 27421, 3337, 34373, 21460, 12411, 10086, 5829, 7219, 8076, 23905, 32554, 17913, 12409, 524, 6252, 22114, 757, 2136, 10929, 34760, 15940, 33934, 35206, 20716, 13162, 13509, 35057, 10592, 16989, 16361, 15705, 34369, 26609, 21609, 2985, 14491, 32362, 4330, 6821, 19283, 28675, 31858, 21677, 6584, 17730, 14204, 32752, 11998, 21792, 9569, 22129, 19225, 32171, 11383, 1400, 12273, 9497, 16126, 30629, 23619, 3679, 21772, 25643, 17735, 19145, 5396, 33626, 31682, 12333, 20267, 10568, 25950, 361, 12719, 3877, 17224, 263, 17303, 34287, 28362, 6920, 28300, 2947, 25602, 14462, 20729, 4011, 13944, 23273, 19444, 3848, 6848, 22066, 31871, 18030, 2226, 822, 22009, 14965, 10022, 25814, 15383, 8816, 9543, 25587, 3213, 10321, 12041, 7583, 1812, 19524, 17282, 16833, 33232, 31999, 9418, 284, 35370, 25767, 1698, 33083, 12263, 28880, 34155, 32414, 32784, 31945, 12276, 7757, 23234, 15566, 30998, 13388, 26800, 34220, 18421, 1529, 20089, 23940, 4050, 12879, 19080, 4827, 3850, 5952, 34689, 26821, 11302, 7218] not in index'"
     ]
    }
   ],
   "source": [
    "#cross validation\n",
    "from sklearn.linear_model import LogisticRegression\n",
    "from sklearn import metrics as mt\n",
    "\n",
    "lr_clf = LogisticRegression(penalty='l2', C=1.0, class_weight=None, solver='liblinear' )\n",
    "\n",
    "for iter_num, (train_indices, test_indices) in enumerate(cv_object.split(X,y)):\n",
    "    lr_clf.fit(X[train_indices],y[train_indices])  # train object\n",
    "    y_hat = lr_clf.predict(X[test_indices]) # get test set precitions\n",
    "\n",
    "    # print the accuracy and confusion matrix \n",
    "    print(\"====Iteration\",iter_num,\" ====\")\n",
    "    print(\"accuracy\", mt.accuracy_score(y[test_indices],y_hat)) \n",
    "    print(\"confusion matrix\\n\",mt.confusion_matrix(y[test_indices],y_hat))"
   ]
  },
  {
   "cell_type": "markdown",
   "id": "c5b34b98",
   "metadata": {},
   "source": [
    "# Logistic Regression"
   ]
  },
  {
   "cell_type": "code",
   "execution_count": null,
   "id": "65b4f208",
   "metadata": {},
   "outputs": [],
   "source": [
    "#scaled\n",
    "from sklearn.linear_model import LogisticRegression\n",
    "logisticRegr = LogisticRegression(class_weight=\"balanced\",solver='liblinear',penalty = 'l2')\n",
    "logisticRegr.fit(X_train_scaled, y_train)\n",
    "y_hat = logisticRegr.predict(X_test_scaled)\n",
    "\n",
    "from sklearn import metrics as mt\n",
    "acc = mt.accuracy_score(y_test,y_hat)\n",
    "conf = mt.confusion_matrix(y_test,y_hat)\n",
    "print(acc)\n",
    "print(conf)"
   ]
  },
  {
   "cell_type": "code",
   "execution_count": null,
   "id": "00373b28",
   "metadata": {},
   "outputs": [],
   "source": [
    "#NOT Scaled\n",
    "from sklearn.linear_model import LogisticRegression\n",
    "logisticRegr = LogisticRegression(class_weight=\"balanced\",solver='liblinear', max_iter=1000)\n",
    "logisticRegr.fit(X_train, y_train)\n",
    "y_hat = logisticRegr.predict(X_test)\n",
    "\n",
    "from sklearn import metrics as mt\n",
    "acc = mt.accuracy_score(y_test,y_hat)\n",
    "conf = mt.confusion_matrix(y_test,y_hat)\n",
    "print(acc)\n",
    "print(conf)"
   ]
  },
  {
   "cell_type": "markdown",
   "id": "8450ffa6",
   "metadata": {},
   "source": [
    "to do:\n",
    "one hot encoding\n",
    "avoid confounding variables - this causes an issue with feature importance\n",
    "check for highly corrilated variables - \n",
    "use a confusion matrix\n",
    "scale our data\n",
    "large diff in KDE for support vectors - it falls along the decision bountry vs the read data\n"
   ]
  },
  {
   "cell_type": "code",
   "execution_count": null,
   "id": "e5365cd3",
   "metadata": {},
   "outputs": [],
   "source": [
    "#CV split\n",
    "from sklearn.model_selection import StratifiedShuffleSplit \n",
    "cv = StratifiedShuffleSplit( n_splits=5,test_size=0.2,random_state = 42)"
   ]
  },
  {
   "cell_type": "code",
   "execution_count": null,
   "id": "b58212e2",
   "metadata": {},
   "outputs": [],
   "source": [
    "from sklearn.svm import SVC\n",
    "\n",
    "for train_indices, test_indices in cv.split(X,y): \n",
    "    X_train = X[train_indices]\n",
    "    y_train = y[train_indices]\n",
    "    \n",
    "    X_test = X[test_indices]\n",
    "    y_test = y[test_indices]\n",
    "    \n",
    "X_train_scaled = scl_obj.transform(X_train) # apply to training\n",
    "X_test_scaled = scl_obj.transform(X_test)\n",
    "\n",
    "\n",
    "svm_clf = SVC(C=0.5, kernel='rbf', degree=3, gamma='auto') # get object\n",
    "svm_clf.fit(X_train_scaled, y_train)  # train object\n",
    "\n",
    "y_hat = svm_clf.predict(X_test_scaled) # get test set precitions\n",
    "\n",
    "acc = mt.accuracy_score(y_test,y_hat)\n",
    "conf = mt.confusion_matrix(y_test,y_hat)\n",
    "print('accuracy:', acc )\n",
    "print(conf)"
   ]
  },
  {
   "cell_type": "markdown",
   "id": "58b99631",
   "metadata": {},
   "source": [
    "# Gradient Based Alternatives"
   ]
  },
  {
   "cell_type": "markdown",
   "id": "9b777fd4",
   "metadata": {},
   "source": [
    "So far our SVM only has done worse than our Logistic Regression with an accuracy of 69% so we will look to improve this."
   ]
  },
  {
   "cell_type": "code",
   "execution_count": null,
   "id": "94934749",
   "metadata": {},
   "outputs": [],
   "source": [
    "from sklearn.linear_model import SGDClassifier\n",
    "#Log grad dec\n",
    "regularize_const = .5\n",
    "iterations = 5\n",
    "svm_sgd = SGDClassifier(alpha=regularize_const,\n",
    "        fit_intercept=True, l1_ratio=0.0, learning_rate='optimal',\n",
    "        loss='log', n_iter_no_change=iterations, n_jobs=-1, penalty='l2')\n",
    "\n",
    "scl = StandardScaler(with_mean=False)\n",
    "for train_idx, test_idx in cv.split(X,y):\n",
    "    svm_sgd.fit(scl.fit_transform(X[train_idx]),y[train_idx])\n",
    "    yhat = svm_sgd.predict(scl.transform(X[test_idx]))\n",
    "    \n",
    "    conf = mt.confusion_matrix(y[test_idx],yhat)\n",
    "    acc = mt.accuracy_score(y[test_idx],yhat)\n",
    "\n",
    "print('Log:', acc)\n",
    "print(conf)"
   ]
  },
  {
   "cell_type": "code",
   "execution_count": null,
   "id": "d73d8845",
   "metadata": {},
   "outputs": [],
   "source": [
    "#SVM grad dec\n",
    "regularize_const = .5\n",
    "iterations = 5\n",
    "svm_sgd = SGDClassifier(alpha=regularize_const,\n",
    "        fit_intercept=True, l1_ratio=0.0, learning_rate='optimal',\n",
    "        loss='hinge', n_iter_no_change=iterations, n_jobs=-1, penalty='l2')\n",
    "\n",
    "scl = StandardScaler(with_mean=False)\n",
    "for train_idx, test_idx in cv.split(X,y):\n",
    "    svm_sgd.fit(scl.fit_transform(X[train_idx]),y[train_idx])\n",
    "    yhat = svm_sgd.predict(scl.transform(X[test_idx]))\n",
    "    \n",
    "    conf = mt.confusion_matrix(y[test_idx],yhat)\n",
    "    acc = mt.accuracy_score(y[test_idx],yhat)\n",
    "\n",
    "print('SVM:', acc)\n",
    "print(conf)"
   ]
  },
  {
   "cell_type": "markdown",
   "id": "90f7d724",
   "metadata": {},
   "source": [
    "# Log Weights"
   ]
  },
  {
   "cell_type": "code",
   "execution_count": null,
   "id": "036fe822",
   "metadata": {
    "scrolled": false
   },
   "outputs": [],
   "source": [
    "weights = logisticRegr.coef_.T # take transpose to make a column vector\n",
    "variable_names = df.columns\n",
    "for coef, name in zip(weights,variable_names):\n",
    "    print(name, 'has weight of', coef[0])"
   ]
  },
  {
   "cell_type": "code",
   "execution_count": null,
   "id": "8dffdbf8",
   "metadata": {
    "scrolled": true
   },
   "outputs": [],
   "source": [
    "from matplotlib import pyplot as plt\n",
    "%matplotlib inline\n",
    "plt.style.use('ggplot')\n",
    "#I am not sure but out arry for these weights is much higher than it should be\n",
    "#it should only be the lenght of our vairables\n",
    "logreg=logisticRegr.coef_[0]\n",
    "logreg=logreg[:len(variable_names)]\n",
    "weights = pd.Series(logreg,variable_names)\n",
    "weights[:len(variable_names)]\n",
    "weights.plot(kind='bar')\n",
    "plt.show()"
   ]
  },
  {
   "cell_type": "code",
   "execution_count": null,
   "id": "69f4cca3",
   "metadata": {},
   "outputs": [],
   "source": [
    "len(logreg)"
   ]
  },
  {
   "cell_type": "code",
   "execution_count": null,
   "id": "5d31c8cf",
   "metadata": {},
   "outputs": [],
   "source": [
    "# work in progress\n",
    "import plotly\n",
    "plotly.offline.init_notebook_mode() # run at the start of every notebook\n",
    "\n",
    "error_y=dict(\n",
    "            type='data',\n",
    "            array=np.std(weights,axis=0),\n",
    "            visible=True\n",
    "        )\n",
    "\n",
    "graph1 = {'x': df.columns,\n",
    "          'y': np.mean(weights,axis=0),\n",
    "    'error_y':error_y,\n",
    "       'type': 'bar'}\n",
    "\n",
    "fig = dict()\n",
    "fig['data'] = [graph1]\n",
    "fig['layout'] = {'title': 'Logistic Regression Weights, with error bars'}\n",
    "\n",
    "plotly.offline.iplot(fig)"
   ]
  },
  {
   "cell_type": "code",
   "execution_count": null,
   "id": "9cdb3113",
   "metadata": {},
   "outputs": [],
   "source": []
  }
 ],
 "metadata": {
  "kernelspec": {
   "display_name": "Python 3 (ipykernel)",
   "language": "python",
   "name": "python3"
  },
  "language_info": {
   "codemirror_mode": {
    "name": "ipython",
    "version": 3
   },
   "file_extension": ".py",
   "mimetype": "text/x-python",
   "name": "python",
   "nbconvert_exporter": "python",
   "pygments_lexer": "ipython3",
   "version": "3.8.11"
  }
 },
 "nbformat": 4,
 "nbformat_minor": 5
}
