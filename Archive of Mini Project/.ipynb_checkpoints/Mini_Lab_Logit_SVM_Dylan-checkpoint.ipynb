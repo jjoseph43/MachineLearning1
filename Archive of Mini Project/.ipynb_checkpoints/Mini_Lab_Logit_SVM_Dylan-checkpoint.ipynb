{
 "cells": [
  {
   "cell_type": "markdown",
   "id": "b4533a11",
   "metadata": {},
   "source": [
    "# Mini-Lab: Logistic Regression and SVMs"
   ]
  },
  {
   "cell_type": "markdown",
   "id": "87b873ac",
   "metadata": {},
   "source": [
    "Names:\n",
    "Dylan Scott\n",
    "Jobin Joseph\n",
    "Nnenna Okpara\n",
    "Satvik Ajmera"
   ]
  },
  {
   "cell_type": "markdown",
   "id": "70e0455b",
   "metadata": {},
   "source": [
    "Instructions:\n",
    "You are to perform predictive analysis (classification) upon a data set: model the dataset using\n",
    "methods we have discussed in class: logistic regression and support vector machines, and making\n",
    "conclusions from the analysis. Follow the CRISP-DM framework in your analysis (you are not\n",
    "performing all of the CRISP-DM outline, only the portions relevant to the grading rubric outlined\n",
    "below). This report is worth 10% of the final grade. You may complete this assignment in teams of\n",
    "as many as three people.\n",
    "\n",
    "Write a report covering all the steps of the project. The format of the document can be PDF,\n",
    "*.ipynb, or HTML. You can write the report in whatever format you like, but it is easiest to turn in the\n",
    "rendered iPython notebook. The results should be reproducible using your report. Please carefully\n",
    "describe every assumption and every step in your report.\n",
    "\n",
    "SVM and Logistic Regression Modeling\n",
    "• [50 points] Create a logistic regression model and a support vector machine model for the\n",
    "classification task involved with your dataset. Assess how well each model performs (use\n",
    "80/20 training/testing split for your data). Adjust parameters of the models to make them more\n",
    "accurate. If your dataset size requires the use of stochastic gradient descent, then linear kernel\n",
    "only is fine to use.\n",
    "\n",
    "[pick performance stats]\n",
    "\n",
    "• [10 points] Discuss the advantages of each model for each classification task. Does one type\n",
    "of model offer superior performance over another in terms of prediction accuracy? In terms of\n",
    "training time or efficiency? Explain in detail.\n",
    "\n",
    "• [30 points] Use the weights from logistic regression to interpret the importance of different\n",
    "features for each classification task. Explain your interpretation in detail. Why do you think\n",
    "some variables are more important?\n",
    "\n",
    "• [10 points] Look at the chosen support vectors for the classification task. Do these provide\n",
    "any insight into the data? Explain."
   ]
  },
  {
   "cell_type": "code",
   "execution_count": 1,
   "id": "a7aa276e",
   "metadata": {},
   "outputs": [],
   "source": [
    "import pandas as pd\n",
    "import numpy as np\n",
    "import matplotlib.pyplot as plt\n",
    "import seaborn as sns\n",
    "sns.set(style='darkgrid')\n",
    "\n",
    "import plotly.express as px\n",
    "import plotly.graph_objects as go"
   ]
  },
  {
   "cell_type": "markdown",
   "id": "3436381f",
   "metadata": {},
   "source": [
    "### Dataset add-on\n",
    "From the first project we submitted we have since added on more data that we found on the NTSB website. We were able to merge in new columns using join as well as apend on more recent data. This will give us more vairables but we will have to clean up some of those added rows. This next section will be the clean up."
   ]
  },
  {
   "cell_type": "code",
   "execution_count": 2,
   "id": "e2eb3769",
   "metadata": {
    "scrolled": true
   },
   "outputs": [
    {
     "name": "stdout",
     "output_type": "stream",
     "text": [
      "<class 'pandas.core.frame.DataFrame'>\n",
      "RangeIndex: 115706 entries, 0 to 115705\n",
      "Data columns (total 31 columns):\n",
      " #   Column             Non-Null Count   Dtype  \n",
      "---  ------             --------------   -----  \n",
      " 0   ev_id              115706 non-null  object \n",
      " 1   acft_make          115643 non-null  object \n",
      " 2   acft_model         115630 non-null  object \n",
      " 3   cert_max_gr_wt     98673 non-null   float64\n",
      " 4   acft_category      115287 non-null  object \n",
      " 5   damage             113877 non-null  object \n",
      " 6   far_part           114925 non-null  object \n",
      " 7   afm_hrs_last_insp  60298 non-null   float64\n",
      " 8   type_fly           108599 non-null  object \n",
      " 9   dprt_city          111864 non-null  object \n",
      " 10  dprt_state         108791 non-null  object \n",
      " 11  rwy_len            64222 non-null   float64\n",
      " 12  rwy_width          63110 non-null   float64\n",
      " 13  ev_type            115706 non-null  object \n",
      " 14  ev_city            115646 non-null  object \n",
      " 15  ev_state           109635 non-null  object \n",
      " 16  ev_country         115199 non-null  object \n",
      " 17  ev_highest_injury  114384 non-null  object \n",
      " 18  inj_f_grnd         51624 non-null   float64\n",
      " 19  inj_m_grnd         51543 non-null   float64\n",
      " 20  inj_s_grnd         51520 non-null   float64\n",
      " 21  inj_tot_f          64375 non-null   float64\n",
      " 22  inj_tot_m          63902 non-null   float64\n",
      " 23  inj_tot_n          90784 non-null   float64\n",
      " 24  inj_tot_s          60713 non-null   float64\n",
      " 25  inj_tot_t          79933 non-null   float64\n",
      " 26  sky_cond_ceil      104219 non-null  object \n",
      " 27  sky_cond_nonceil   100624 non-null  object \n",
      " 28  wind_vel_ind       113623 non-null  object \n",
      " 29  wx_int_precip      49898 non-null   object \n",
      " 30  phase_flt_spec     113882 non-null  object \n",
      "dtypes: float64(12), object(19)\n",
      "memory usage: 27.4+ MB\n"
     ]
    }
   ],
   "source": [
    "#Read in the Aviation Data\n",
    "final_data = pd.read_csv(\"../Data/final_data.csv\",low_memory=False,dtype={'damage': str})\n",
    "#Delete columns that were imported incorrectly\n",
    "del final_data[\"Unnamed: 0\"]\n",
    "del final_data[\"dprt_state.1\"]\n",
    "del final_data[\"index\"]\n",
    "del final_data[\"ntsb_no_x\"]\n",
    "final_data.info()"
   ]
  },
  {
   "cell_type": "markdown",
   "id": "f2df169c",
   "metadata": {},
   "source": [
    "# Checking Data Cleaning"
   ]
  },
  {
   "cell_type": "code",
   "execution_count": 3,
   "id": "c67f397d",
   "metadata": {},
   "outputs": [
    {
     "data": {
      "text/html": [
       "<div>\n",
       "<style scoped>\n",
       "    .dataframe tbody tr th:only-of-type {\n",
       "        vertical-align: middle;\n",
       "    }\n",
       "\n",
       "    .dataframe tbody tr th {\n",
       "        vertical-align: top;\n",
       "    }\n",
       "\n",
       "    .dataframe thead th {\n",
       "        text-align: right;\n",
       "    }\n",
       "</style>\n",
       "<table border=\"1\" class=\"dataframe\">\n",
       "  <thead>\n",
       "    <tr style=\"text-align: right;\">\n",
       "      <th></th>\n",
       "      <th>index</th>\n",
       "      <th>damage</th>\n",
       "    </tr>\n",
       "  </thead>\n",
       "  <tbody>\n",
       "    <tr>\n",
       "      <th>0</th>\n",
       "      <td>SUBS</td>\n",
       "      <td>87994</td>\n",
       "    </tr>\n",
       "    <tr>\n",
       "      <th>1</th>\n",
       "      <td>DEST</td>\n",
       "      <td>20892</td>\n",
       "    </tr>\n",
       "    <tr>\n",
       "      <th>2</th>\n",
       "      <td>MINR</td>\n",
       "      <td>3302</td>\n",
       "    </tr>\n",
       "    <tr>\n",
       "      <th>3</th>\n",
       "      <td>NONE</td>\n",
       "      <td>1600</td>\n",
       "    </tr>\n",
       "    <tr>\n",
       "      <th>4</th>\n",
       "      <td>UNK</td>\n",
       "      <td>45</td>\n",
       "    </tr>\n",
       "    <tr>\n",
       "      <th>5</th>\n",
       "      <td>UNK</td>\n",
       "      <td>44</td>\n",
       "    </tr>\n",
       "  </tbody>\n",
       "</table>\n",
       "</div>"
      ],
      "text/plain": [
       "  index  damage\n",
       "0  SUBS   87994\n",
       "1  DEST   20892\n",
       "2  MINR    3302\n",
       "3  NONE    1600\n",
       "4  UNK       45\n",
       "5   UNK      44"
      ]
     },
     "execution_count": 3,
     "metadata": {},
     "output_type": "execute_result"
    }
   ],
   "source": [
    "#It looks like we have some missing values and have an inconsistant UNK vs UNK on flight damage\n",
    "#combine all injuries includigng those on the ground\n",
    "#sky_cond_ceil, sky_cond_nonceil\n",
    "#chekc U vs Unk for wind_vel_ind\n",
    "#flight crew \n",
    "finaldamagecount = final_data[\"damage\"].value_counts().reset_index()\n",
    "finaldamagecount.head(50)"
   ]
  },
  {
   "cell_type": "code",
   "execution_count": 4,
   "id": "6a4e9aad",
   "metadata": {},
   "outputs": [
    {
     "data": {
      "text/html": [
       "<div>\n",
       "<style scoped>\n",
       "    .dataframe tbody tr th:only-of-type {\n",
       "        vertical-align: middle;\n",
       "    }\n",
       "\n",
       "    .dataframe tbody tr th {\n",
       "        vertical-align: top;\n",
       "    }\n",
       "\n",
       "    .dataframe thead th {\n",
       "        text-align: right;\n",
       "    }\n",
       "</style>\n",
       "<table border=\"1\" class=\"dataframe\">\n",
       "  <thead>\n",
       "    <tr style=\"text-align: right;\">\n",
       "      <th></th>\n",
       "      <th>index</th>\n",
       "      <th>ev_city</th>\n",
       "    </tr>\n",
       "  </thead>\n",
       "  <tbody>\n",
       "    <tr>\n",
       "      <th>0</th>\n",
       "      <td>ANCHORAGE</td>\n",
       "      <td>358</td>\n",
       "    </tr>\n",
       "    <tr>\n",
       "      <th>1</th>\n",
       "      <td>ANCHORAGE</td>\n",
       "      <td>286</td>\n",
       "    </tr>\n",
       "    <tr>\n",
       "      <th>2</th>\n",
       "      <td>FORT LAUDERDALE</td>\n",
       "      <td>206</td>\n",
       "    </tr>\n",
       "    <tr>\n",
       "      <th>3</th>\n",
       "      <td>FAIRBANKS</td>\n",
       "      <td>203</td>\n",
       "    </tr>\n",
       "    <tr>\n",
       "      <th>4</th>\n",
       "      <td>PHOENIX</td>\n",
       "      <td>202</td>\n",
       "    </tr>\n",
       "    <tr>\n",
       "      <th>5</th>\n",
       "      <td>HOUSTON</td>\n",
       "      <td>196</td>\n",
       "    </tr>\n",
       "    <tr>\n",
       "      <th>6</th>\n",
       "      <td>MIAMI</td>\n",
       "      <td>188</td>\n",
       "    </tr>\n",
       "    <tr>\n",
       "      <th>7</th>\n",
       "      <td>ATLANTA</td>\n",
       "      <td>186</td>\n",
       "    </tr>\n",
       "    <tr>\n",
       "      <th>8</th>\n",
       "      <td>RENO</td>\n",
       "      <td>185</td>\n",
       "    </tr>\n",
       "    <tr>\n",
       "      <th>9</th>\n",
       "      <td>TALKEETNA</td>\n",
       "      <td>182</td>\n",
       "    </tr>\n",
       "  </tbody>\n",
       "</table>\n",
       "</div>"
      ],
      "text/plain": [
       "             index  ev_city\n",
       "0  ANCHORAGE            358\n",
       "1        ANCHORAGE      286\n",
       "2  FORT LAUDERDALE      206\n",
       "3        FAIRBANKS      203\n",
       "4          PHOENIX      202\n",
       "5          HOUSTON      196\n",
       "6  MIAMI                188\n",
       "7          ATLANTA      186\n",
       "8             RENO      185\n",
       "9        TALKEETNA      182"
      ]
     },
     "execution_count": 4,
     "metadata": {},
     "output_type": "execute_result"
    }
   ],
   "source": [
    "#looks like we have some inconsistant cities since some are upper and some are lower case\n",
    "final_data['ev_city'] = final_data['ev_city'].str.upper()\n",
    "ev_city_fix = final_data[\"ev_city\"].value_counts().reset_index()\n",
    "ev_city_fix.head(10)"
   ]
  },
  {
   "cell_type": "code",
   "execution_count": 5,
   "id": "06aba0aa",
   "metadata": {},
   "outputs": [
    {
     "data": {
      "text/html": [
       "<div>\n",
       "<style scoped>\n",
       "    .dataframe tbody tr th:only-of-type {\n",
       "        vertical-align: middle;\n",
       "    }\n",
       "\n",
       "    .dataframe tbody tr th {\n",
       "        vertical-align: top;\n",
       "    }\n",
       "\n",
       "    .dataframe thead th {\n",
       "        text-align: right;\n",
       "    }\n",
       "</style>\n",
       "<table border=\"1\" class=\"dataframe\">\n",
       "  <thead>\n",
       "    <tr style=\"text-align: right;\">\n",
       "      <th></th>\n",
       "      <th>index</th>\n",
       "      <th>ev_city</th>\n",
       "    </tr>\n",
       "  </thead>\n",
       "  <tbody>\n",
       "    <tr>\n",
       "      <th>0</th>\n",
       "      <td>ANCHORAGE</td>\n",
       "      <td>358</td>\n",
       "    </tr>\n",
       "    <tr>\n",
       "      <th>1</th>\n",
       "      <td>ANCHORAGE</td>\n",
       "      <td>286</td>\n",
       "    </tr>\n",
       "    <tr>\n",
       "      <th>2</th>\n",
       "      <td>FORT LAUDERDALE</td>\n",
       "      <td>206</td>\n",
       "    </tr>\n",
       "    <tr>\n",
       "      <th>3</th>\n",
       "      <td>FAIRBANKS</td>\n",
       "      <td>203</td>\n",
       "    </tr>\n",
       "    <tr>\n",
       "      <th>4</th>\n",
       "      <td>PHOENIX</td>\n",
       "      <td>202</td>\n",
       "    </tr>\n",
       "    <tr>\n",
       "      <th>5</th>\n",
       "      <td>HOUSTON</td>\n",
       "      <td>196</td>\n",
       "    </tr>\n",
       "    <tr>\n",
       "      <th>6</th>\n",
       "      <td>MIAMI</td>\n",
       "      <td>188</td>\n",
       "    </tr>\n",
       "    <tr>\n",
       "      <th>7</th>\n",
       "      <td>ATLANTA</td>\n",
       "      <td>186</td>\n",
       "    </tr>\n",
       "    <tr>\n",
       "      <th>8</th>\n",
       "      <td>RENO</td>\n",
       "      <td>185</td>\n",
       "    </tr>\n",
       "    <tr>\n",
       "      <th>9</th>\n",
       "      <td>TALKEETNA</td>\n",
       "      <td>182</td>\n",
       "    </tr>\n",
       "  </tbody>\n",
       "</table>\n",
       "</div>"
      ],
      "text/plain": [
       "             index  ev_city\n",
       "0  ANCHORAGE            358\n",
       "1        ANCHORAGE      286\n",
       "2  FORT LAUDERDALE      206\n",
       "3        FAIRBANKS      203\n",
       "4          PHOENIX      202\n",
       "5          HOUSTON      196\n",
       "6  MIAMI                188\n",
       "7          ATLANTA      186\n",
       "8             RENO      185\n",
       "9        TALKEETNA      182"
      ]
     },
     "execution_count": 5,
     "metadata": {},
     "output_type": "execute_result"
    }
   ],
   "source": [
    "#looks like we have some inconsistant cities since some are upper and some are lower case\n",
    "final_data['ev_city'] = final_data['ev_city'].str.upper()\n",
    "ev_city_fix = final_data[\"ev_city\"].value_counts().reset_index()\n",
    "ev_city_fix.head(10)"
   ]
  },
  {
   "cell_type": "code",
   "execution_count": 6,
   "id": "b6578a70",
   "metadata": {},
   "outputs": [
    {
     "data": {
      "text/html": [
       "<div>\n",
       "<style scoped>\n",
       "    .dataframe tbody tr th:only-of-type {\n",
       "        vertical-align: middle;\n",
       "    }\n",
       "\n",
       "    .dataframe tbody tr th {\n",
       "        vertical-align: top;\n",
       "    }\n",
       "\n",
       "    .dataframe thead th {\n",
       "        text-align: right;\n",
       "    }\n",
       "</style>\n",
       "<table border=\"1\" class=\"dataframe\">\n",
       "  <thead>\n",
       "    <tr style=\"text-align: right;\">\n",
       "      <th></th>\n",
       "      <th>index</th>\n",
       "      <th>damage</th>\n",
       "    </tr>\n",
       "  </thead>\n",
       "  <tbody>\n",
       "    <tr>\n",
       "      <th>0</th>\n",
       "      <td>SUBS</td>\n",
       "      <td>87994</td>\n",
       "    </tr>\n",
       "    <tr>\n",
       "      <th>1</th>\n",
       "      <td>DEST</td>\n",
       "      <td>20892</td>\n",
       "    </tr>\n",
       "    <tr>\n",
       "      <th>2</th>\n",
       "      <td>MINR</td>\n",
       "      <td>3302</td>\n",
       "    </tr>\n",
       "    <tr>\n",
       "      <th>3</th>\n",
       "      <td>NONE</td>\n",
       "      <td>1600</td>\n",
       "    </tr>\n",
       "    <tr>\n",
       "      <th>4</th>\n",
       "      <td>UNK</td>\n",
       "      <td>89</td>\n",
       "    </tr>\n",
       "  </tbody>\n",
       "</table>\n",
       "</div>"
      ],
      "text/plain": [
       "  index  damage\n",
       "0  SUBS   87994\n",
       "1  DEST   20892\n",
       "2  MINR    3302\n",
       "3  NONE    1600\n",
       "4   UNK      89"
      ]
     },
     "execution_count": 6,
     "metadata": {},
     "output_type": "execute_result"
    }
   ],
   "source": [
    "final_data.loc[final_data['damage'].str.contains('UNK', na=False), 'damage'] = 'UNK'\n",
    "finaldamagecount = final_data[\"damage\"].value_counts().reset_index()\n",
    "finaldamagecount.head(50)"
   ]
  },
  {
   "cell_type": "code",
   "execution_count": 7,
   "id": "71cf0b35",
   "metadata": {},
   "outputs": [
    {
     "data": {
      "text/html": [
       "<div>\n",
       "<style scoped>\n",
       "    .dataframe tbody tr th:only-of-type {\n",
       "        vertical-align: middle;\n",
       "    }\n",
       "\n",
       "    .dataframe tbody tr th {\n",
       "        vertical-align: top;\n",
       "    }\n",
       "\n",
       "    .dataframe thead th {\n",
       "        text-align: right;\n",
       "    }\n",
       "</style>\n",
       "<table border=\"1\" class=\"dataframe\">\n",
       "  <thead>\n",
       "    <tr style=\"text-align: right;\">\n",
       "      <th></th>\n",
       "      <th>index</th>\n",
       "      <th>wind_vel_ind</th>\n",
       "    </tr>\n",
       "  </thead>\n",
       "  <tbody>\n",
       "    <tr>\n",
       "      <th>0</th>\n",
       "      <td>F</td>\n",
       "      <td>47663</td>\n",
       "    </tr>\n",
       "    <tr>\n",
       "      <th>1</th>\n",
       "      <td>UNK</td>\n",
       "      <td>42470</td>\n",
       "    </tr>\n",
       "    <tr>\n",
       "      <th>2</th>\n",
       "      <td>SPEC</td>\n",
       "      <td>10900</td>\n",
       "    </tr>\n",
       "    <tr>\n",
       "      <th>3</th>\n",
       "      <td>CALM</td>\n",
       "      <td>7074</td>\n",
       "    </tr>\n",
       "    <tr>\n",
       "      <th>4</th>\n",
       "      <td>T</td>\n",
       "      <td>4030</td>\n",
       "    </tr>\n",
       "    <tr>\n",
       "      <th>5</th>\n",
       "      <td>LVAR</td>\n",
       "      <td>1486</td>\n",
       "    </tr>\n",
       "  </tbody>\n",
       "</table>\n",
       "</div>"
      ],
      "text/plain": [
       "  index  wind_vel_ind\n",
       "0     F         47663\n",
       "1   UNK         42470\n",
       "2  SPEC         10900\n",
       "3  CALM          7074\n",
       "4     T          4030\n",
       "5  LVAR          1486"
      ]
     },
     "execution_count": 7,
     "metadata": {},
     "output_type": "execute_result"
    }
   ],
   "source": [
    "#checking to see if wind_vel_ind had a miss-match with U and UNK\n",
    "wind_count = final_data[\"wind_vel_ind\"].value_counts().reset_index()\n",
    "wind_count.head(50)"
   ]
  },
  {
   "cell_type": "code",
   "execution_count": 8,
   "id": "aa66c009",
   "metadata": {},
   "outputs": [],
   "source": [
    "#dealing with unknnowns\n",
    "#some columns we can't simply replace the blank value with \"Unknown\" or 0s since that will skew our data\n",
    "#'cert_max_gr_wt','afm_hrs_last_insp','rwy_len','rwy_width'\n",
    "# with the columns listed above we have elected to remove any rows where they are blank. This will help focus our data and it will still leave us with an ample amount of data\n",
    "final_data.dropna(subset=['cert_max_gr_wt','afm_hrs_last_insp','rwy_len','rwy_width'],inplace=True)"
   ]
  },
  {
   "cell_type": "code",
   "execution_count": 9,
   "id": "169aa750",
   "metadata": {},
   "outputs": [
    {
     "data": {
      "text/html": [
       "<div>\n",
       "<style scoped>\n",
       "    .dataframe tbody tr th:only-of-type {\n",
       "        vertical-align: middle;\n",
       "    }\n",
       "\n",
       "    .dataframe tbody tr th {\n",
       "        vertical-align: top;\n",
       "    }\n",
       "\n",
       "    .dataframe thead th {\n",
       "        text-align: right;\n",
       "    }\n",
       "</style>\n",
       "<table border=\"1\" class=\"dataframe\">\n",
       "  <thead>\n",
       "    <tr style=\"text-align: right;\">\n",
       "      <th></th>\n",
       "      <th>ev_id</th>\n",
       "      <th>acft_make</th>\n",
       "      <th>acft_model</th>\n",
       "      <th>cert_max_gr_wt</th>\n",
       "      <th>acft_category</th>\n",
       "      <th>damage</th>\n",
       "      <th>far_part</th>\n",
       "      <th>afm_hrs_last_insp</th>\n",
       "      <th>type_fly</th>\n",
       "      <th>dprt_city</th>\n",
       "      <th>...</th>\n",
       "      <th>Total_Fatal_Injuries</th>\n",
       "      <th>Total_Minor_Injuries</th>\n",
       "      <th>Total_Uninjured</th>\n",
       "      <th>Total_Serious_Injuries</th>\n",
       "      <th>Total_Injuries_Flight</th>\n",
       "      <th>sky_cond_ceil</th>\n",
       "      <th>sky_cond_nonceil</th>\n",
       "      <th>wind_vel_ind</th>\n",
       "      <th>wx_int_precip</th>\n",
       "      <th>phase_flt_spec</th>\n",
       "    </tr>\n",
       "  </thead>\n",
       "  <tbody>\n",
       "    <tr>\n",
       "      <th>1</th>\n",
       "      <td>20001204X00001</td>\n",
       "      <td>Boeing</td>\n",
       "      <td>747-100</td>\n",
       "      <td>750000.0</td>\n",
       "      <td>AIR</td>\n",
       "      <td>MINR</td>\n",
       "      <td>121</td>\n",
       "      <td>113.0</td>\n",
       "      <td>UNK</td>\n",
       "      <td>CHITOSE</td>\n",
       "      <td>...</td>\n",
       "      <td>0.0</td>\n",
       "      <td>0.0</td>\n",
       "      <td>4.0</td>\n",
       "      <td>0.0</td>\n",
       "      <td>0.0</td>\n",
       "      <td>NONE</td>\n",
       "      <td>SCAT</td>\n",
       "      <td>CALM</td>\n",
       "      <td>UNK</td>\n",
       "      <td>Landing</td>\n",
       "    </tr>\n",
       "    <tr>\n",
       "      <th>3</th>\n",
       "      <td>20001204X00003</td>\n",
       "      <td>Cessna</td>\n",
       "      <td>172</td>\n",
       "      <td>2300.0</td>\n",
       "      <td>AIR</td>\n",
       "      <td>SUBS</td>\n",
       "      <td>091</td>\n",
       "      <td>40.0</td>\n",
       "      <td>PERS</td>\n",
       "      <td></td>\n",
       "      <td>...</td>\n",
       "      <td>0.0</td>\n",
       "      <td>0.0</td>\n",
       "      <td>1.0</td>\n",
       "      <td>0.0</td>\n",
       "      <td>0.0</td>\n",
       "      <td>BKN</td>\n",
       "      <td>UNK</td>\n",
       "      <td>UNK</td>\n",
       "      <td>LGT</td>\n",
       "      <td>Unknown</td>\n",
       "    </tr>\n",
       "    <tr>\n",
       "      <th>4</th>\n",
       "      <td>20001204X00004</td>\n",
       "      <td>Cessna</td>\n",
       "      <td>207</td>\n",
       "      <td>3800.0</td>\n",
       "      <td>AIR</td>\n",
       "      <td>SUBS</td>\n",
       "      <td>135</td>\n",
       "      <td>49.0</td>\n",
       "      <td>UNK</td>\n",
       "      <td></td>\n",
       "      <td>...</td>\n",
       "      <td>0.0</td>\n",
       "      <td>0.0</td>\n",
       "      <td>1.0</td>\n",
       "      <td>0.0</td>\n",
       "      <td>0.0</td>\n",
       "      <td>BKN</td>\n",
       "      <td>UNK</td>\n",
       "      <td>UNK</td>\n",
       "      <td>UNK</td>\n",
       "      <td>Descent</td>\n",
       "    </tr>\n",
       "    <tr>\n",
       "      <th>6</th>\n",
       "      <td>20001204X00006</td>\n",
       "      <td>Beech</td>\n",
       "      <td>300</td>\n",
       "      <td>14100.0</td>\n",
       "      <td>AIR</td>\n",
       "      <td>DEST</td>\n",
       "      <td>091</td>\n",
       "      <td>3.0</td>\n",
       "      <td>EXEC</td>\n",
       "      <td>GREENEVILLE</td>\n",
       "      <td>...</td>\n",
       "      <td>2.0</td>\n",
       "      <td>0.0</td>\n",
       "      <td>0.0</td>\n",
       "      <td>0.0</td>\n",
       "      <td>2.0</td>\n",
       "      <td>BKN</td>\n",
       "      <td>UNK</td>\n",
       "      <td>UNK</td>\n",
       "      <td>MOD</td>\n",
       "      <td>Approach</td>\n",
       "    </tr>\n",
       "    <tr>\n",
       "      <th>8</th>\n",
       "      <td>20001204X00008</td>\n",
       "      <td>Aero Commander</td>\n",
       "      <td>560A</td>\n",
       "      <td>6000.0</td>\n",
       "      <td>AIR</td>\n",
       "      <td>DEST</td>\n",
       "      <td>091</td>\n",
       "      <td>13.0</td>\n",
       "      <td>PERS</td>\n",
       "      <td></td>\n",
       "      <td>...</td>\n",
       "      <td>2.0</td>\n",
       "      <td>0.0</td>\n",
       "      <td>0.0</td>\n",
       "      <td>2.0</td>\n",
       "      <td>4.0</td>\n",
       "      <td>NONE</td>\n",
       "      <td>CLER</td>\n",
       "      <td>UNK</td>\n",
       "      <td>UNK</td>\n",
       "      <td>Approach</td>\n",
       "    </tr>\n",
       "  </tbody>\n",
       "</table>\n",
       "<p>5 rows × 31 columns</p>\n",
       "</div>"
      ],
      "text/plain": [
       "            ev_id                       acft_make            acft_model  \\\n",
       "1  20001204X00001  Boeing                          747-100                \n",
       "3  20001204X00003  Cessna                          172                    \n",
       "4  20001204X00004  Cessna                          207                    \n",
       "6  20001204X00006  Beech                           300                    \n",
       "8  20001204X00008  Aero Commander                  560A                   \n",
       "\n",
       "   cert_max_gr_wt acft_category damage far_part  afm_hrs_last_insp type_fly  \\\n",
       "1        750000.0          AIR    MINR     121               113.0     UNK    \n",
       "3          2300.0          AIR    SUBS     091                40.0     PERS   \n",
       "4          3800.0          AIR    SUBS     135                49.0     UNK    \n",
       "6         14100.0          AIR    DEST     091                 3.0     EXEC   \n",
       "8          6000.0          AIR    DEST     091                13.0     PERS   \n",
       "\n",
       "         dprt_city  ... Total_Fatal_Injuries  Total_Minor_Injuries  \\\n",
       "1  CHITOSE          ...                  0.0                   0.0   \n",
       "3                   ...                  0.0                   0.0   \n",
       "4                   ...                  0.0                   0.0   \n",
       "6  GREENEVILLE      ...                  2.0                   0.0   \n",
       "8                   ...                  2.0                   0.0   \n",
       "\n",
       "   Total_Uninjured Total_Serious_Injuries Total_Injuries_Flight sky_cond_ceil  \\\n",
       "1              4.0                    0.0                   0.0          NONE   \n",
       "3              1.0                    0.0                   0.0           BKN   \n",
       "4              1.0                    0.0                   0.0           BKN   \n",
       "6              0.0                    0.0                   2.0           BKN   \n",
       "8              0.0                    2.0                   4.0          NONE   \n",
       "\n",
       "  sky_cond_nonceil wind_vel_ind  wx_int_precip  phase_flt_spec  \n",
       "1             SCAT         CALM            UNK         Landing  \n",
       "3              UNK          UNK            LGT         Unknown  \n",
       "4              UNK          UNK            UNK         Descent  \n",
       "6              UNK          UNK            MOD        Approach  \n",
       "8             CLER          UNK            UNK        Approach  \n",
       "\n",
       "[5 rows x 31 columns]"
      ]
     },
     "execution_count": 9,
     "metadata": {},
     "output_type": "execute_result"
    }
   ],
   "source": [
    "#rename the injuries columns to make them easier to read\n",
    "final_data = final_data.rename(columns={\"inj_tot_f\": \"Total_Fatal_Injuries\", \"inj_tot_s\": \"Total_Serious_Injuries\",\"inj_tot_m\":\"Total_Minor_Injuries\",\"inj_tot_n\":'Total_Uninjured',\"inj_tot_t\":\"Total_Injuries_Flight\"})\n",
    "\n",
    "#fill in 0s when there wasn't an injury in that category\n",
    "final_data.update(final_data[['Total_Fatal_Injuries','Total_Serious_Injuries','Total_Minor_Injuries','Total_Uninjured','Total_Injuries_Flight','inj_f_grnd','inj_m_grnd','inj_s_grnd']].fillna(0))\n",
    "final_data.head()"
   ]
  },
  {
   "cell_type": "code",
   "execution_count": 10,
   "id": "9dbf7b58",
   "metadata": {},
   "outputs": [
    {
     "name": "stdout",
     "output_type": "stream",
     "text": [
      "<class 'pandas.core.frame.DataFrame'>\n",
      "Int64Index: 35427 entries, 1 to 115696\n",
      "Data columns (total 31 columns):\n",
      " #   Column                  Non-Null Count  Dtype  \n",
      "---  ------                  --------------  -----  \n",
      " 0   ev_id                   35427 non-null  object \n",
      " 1   acft_make               35427 non-null  object \n",
      " 2   acft_model              35427 non-null  object \n",
      " 3   cert_max_gr_wt          35427 non-null  float64\n",
      " 4   acft_category           35427 non-null  object \n",
      " 5   damage                  35427 non-null  object \n",
      " 6   far_part                35427 non-null  object \n",
      " 7   afm_hrs_last_insp       35427 non-null  float64\n",
      " 8   type_fly                35427 non-null  object \n",
      " 9   dprt_city               35427 non-null  object \n",
      " 10  dprt_state              35427 non-null  object \n",
      " 11  rwy_len                 35427 non-null  float64\n",
      " 12  rwy_width               35427 non-null  float64\n",
      " 13  ev_type                 35427 non-null  object \n",
      " 14  ev_city                 35427 non-null  object \n",
      " 15  ev_state                35427 non-null  object \n",
      " 16  ev_country              35427 non-null  object \n",
      " 17  ev_highest_injury       35427 non-null  object \n",
      " 18  inj_f_grnd              35427 non-null  float64\n",
      " 19  inj_m_grnd              35427 non-null  float64\n",
      " 20  inj_s_grnd              35427 non-null  float64\n",
      " 21  Total_Fatal_Injuries    35427 non-null  float64\n",
      " 22  Total_Minor_Injuries    35427 non-null  float64\n",
      " 23  Total_Uninjured         35427 non-null  float64\n",
      " 24  Total_Serious_Injuries  35427 non-null  float64\n",
      " 25  Total_Injuries_Flight   35427 non-null  float64\n",
      " 26  sky_cond_ceil           35427 non-null  object \n",
      " 27  sky_cond_nonceil        35427 non-null  object \n",
      " 28  wind_vel_ind            35427 non-null  object \n",
      " 29  wx_int_precip           35427 non-null  object \n",
      " 30  phase_flt_spec          35427 non-null  object \n",
      "dtypes: float64(12), object(19)\n",
      "memory usage: 8.6+ MB\n"
     ]
    }
   ],
   "source": [
    "#set missing variables to Unknown in order to run our models\n",
    "final_data.update(final_data.fillna(\"UNK\"))\n",
    "final_data.info()"
   ]
  },
  {
   "cell_type": "markdown",
   "id": "2775f324",
   "metadata": {},
   "source": [
    "We will be using code from this classes Github: \n",
    "https://github.com/jakemdrew/DataMiningNotebooks/blob/master/04.%20Logits%20and%20SVM.ipynb"
   ]
  },
  {
   "cell_type": "code",
   "execution_count": 11,
   "id": "7af3235e",
   "metadata": {},
   "outputs": [
    {
     "data": {
      "text/html": [
       "<div>\n",
       "<style scoped>\n",
       "    .dataframe tbody tr th:only-of-type {\n",
       "        vertical-align: middle;\n",
       "    }\n",
       "\n",
       "    .dataframe tbody tr th {\n",
       "        vertical-align: top;\n",
       "    }\n",
       "\n",
       "    .dataframe thead th {\n",
       "        text-align: right;\n",
       "    }\n",
       "</style>\n",
       "<table border=\"1\" class=\"dataframe\">\n",
       "  <thead>\n",
       "    <tr style=\"text-align: right;\">\n",
       "      <th></th>\n",
       "      <th>ev_id</th>\n",
       "      <th>acft_make</th>\n",
       "      <th>acft_model</th>\n",
       "      <th>cert_max_gr_wt</th>\n",
       "      <th>acft_category</th>\n",
       "      <th>damage</th>\n",
       "      <th>far_part</th>\n",
       "      <th>afm_hrs_last_insp</th>\n",
       "      <th>type_fly</th>\n",
       "      <th>dprt_city</th>\n",
       "      <th>...</th>\n",
       "      <th>Total_Uninjured</th>\n",
       "      <th>Total_Serious_Injuries</th>\n",
       "      <th>Total_Injuries_Flight</th>\n",
       "      <th>sky_cond_ceil</th>\n",
       "      <th>sky_cond_nonceil</th>\n",
       "      <th>wind_vel_ind</th>\n",
       "      <th>wx_int_precip</th>\n",
       "      <th>phase_flt_spec</th>\n",
       "      <th>Total_Injuries_Ground</th>\n",
       "      <th>Total_Injuries</th>\n",
       "    </tr>\n",
       "  </thead>\n",
       "  <tbody>\n",
       "    <tr>\n",
       "      <th>1</th>\n",
       "      <td>20001204X00001</td>\n",
       "      <td>Boeing</td>\n",
       "      <td>747-100</td>\n",
       "      <td>750000.0</td>\n",
       "      <td>AIR</td>\n",
       "      <td>MINR</td>\n",
       "      <td>121</td>\n",
       "      <td>113.0</td>\n",
       "      <td>UNK</td>\n",
       "      <td>CHITOSE</td>\n",
       "      <td>...</td>\n",
       "      <td>4.0</td>\n",
       "      <td>0.0</td>\n",
       "      <td>0.0</td>\n",
       "      <td>NONE</td>\n",
       "      <td>SCAT</td>\n",
       "      <td>CALM</td>\n",
       "      <td>UNK</td>\n",
       "      <td>Landing</td>\n",
       "      <td>0.0</td>\n",
       "      <td>0.0</td>\n",
       "    </tr>\n",
       "    <tr>\n",
       "      <th>3</th>\n",
       "      <td>20001204X00003</td>\n",
       "      <td>Cessna</td>\n",
       "      <td>172</td>\n",
       "      <td>2300.0</td>\n",
       "      <td>AIR</td>\n",
       "      <td>SUBS</td>\n",
       "      <td>091</td>\n",
       "      <td>40.0</td>\n",
       "      <td>PERS</td>\n",
       "      <td></td>\n",
       "      <td>...</td>\n",
       "      <td>1.0</td>\n",
       "      <td>0.0</td>\n",
       "      <td>0.0</td>\n",
       "      <td>BKN</td>\n",
       "      <td>UNK</td>\n",
       "      <td>UNK</td>\n",
       "      <td>LGT</td>\n",
       "      <td>Unknown</td>\n",
       "      <td>0.0</td>\n",
       "      <td>0.0</td>\n",
       "    </tr>\n",
       "    <tr>\n",
       "      <th>4</th>\n",
       "      <td>20001204X00004</td>\n",
       "      <td>Cessna</td>\n",
       "      <td>207</td>\n",
       "      <td>3800.0</td>\n",
       "      <td>AIR</td>\n",
       "      <td>SUBS</td>\n",
       "      <td>135</td>\n",
       "      <td>49.0</td>\n",
       "      <td>UNK</td>\n",
       "      <td></td>\n",
       "      <td>...</td>\n",
       "      <td>1.0</td>\n",
       "      <td>0.0</td>\n",
       "      <td>0.0</td>\n",
       "      <td>BKN</td>\n",
       "      <td>UNK</td>\n",
       "      <td>UNK</td>\n",
       "      <td>UNK</td>\n",
       "      <td>Descent</td>\n",
       "      <td>0.0</td>\n",
       "      <td>0.0</td>\n",
       "    </tr>\n",
       "    <tr>\n",
       "      <th>6</th>\n",
       "      <td>20001204X00006</td>\n",
       "      <td>Beech</td>\n",
       "      <td>300</td>\n",
       "      <td>14100.0</td>\n",
       "      <td>AIR</td>\n",
       "      <td>DEST</td>\n",
       "      <td>091</td>\n",
       "      <td>3.0</td>\n",
       "      <td>EXEC</td>\n",
       "      <td>GREENEVILLE</td>\n",
       "      <td>...</td>\n",
       "      <td>0.0</td>\n",
       "      <td>0.0</td>\n",
       "      <td>2.0</td>\n",
       "      <td>BKN</td>\n",
       "      <td>UNK</td>\n",
       "      <td>UNK</td>\n",
       "      <td>MOD</td>\n",
       "      <td>Approach</td>\n",
       "      <td>0.0</td>\n",
       "      <td>2.0</td>\n",
       "    </tr>\n",
       "    <tr>\n",
       "      <th>8</th>\n",
       "      <td>20001204X00008</td>\n",
       "      <td>Aero Commander</td>\n",
       "      <td>560A</td>\n",
       "      <td>6000.0</td>\n",
       "      <td>AIR</td>\n",
       "      <td>DEST</td>\n",
       "      <td>091</td>\n",
       "      <td>13.0</td>\n",
       "      <td>PERS</td>\n",
       "      <td></td>\n",
       "      <td>...</td>\n",
       "      <td>0.0</td>\n",
       "      <td>2.0</td>\n",
       "      <td>4.0</td>\n",
       "      <td>NONE</td>\n",
       "      <td>CLER</td>\n",
       "      <td>UNK</td>\n",
       "      <td>UNK</td>\n",
       "      <td>Approach</td>\n",
       "      <td>0.0</td>\n",
       "      <td>4.0</td>\n",
       "    </tr>\n",
       "  </tbody>\n",
       "</table>\n",
       "<p>5 rows × 33 columns</p>\n",
       "</div>"
      ],
      "text/plain": [
       "            ev_id                       acft_make            acft_model  \\\n",
       "1  20001204X00001  Boeing                          747-100                \n",
       "3  20001204X00003  Cessna                          172                    \n",
       "4  20001204X00004  Cessna                          207                    \n",
       "6  20001204X00006  Beech                           300                    \n",
       "8  20001204X00008  Aero Commander                  560A                   \n",
       "\n",
       "   cert_max_gr_wt acft_category damage far_part  afm_hrs_last_insp type_fly  \\\n",
       "1        750000.0          AIR    MINR     121               113.0     UNK    \n",
       "3          2300.0          AIR    SUBS     091                40.0     PERS   \n",
       "4          3800.0          AIR    SUBS     135                49.0     UNK    \n",
       "6         14100.0          AIR    DEST     091                 3.0     EXEC   \n",
       "8          6000.0          AIR    DEST     091                13.0     PERS   \n",
       "\n",
       "         dprt_city  ... Total_Uninjured  Total_Serious_Injuries  \\\n",
       "1  CHITOSE          ...             4.0                     0.0   \n",
       "3                   ...             1.0                     0.0   \n",
       "4                   ...             1.0                     0.0   \n",
       "6  GREENEVILLE      ...             0.0                     0.0   \n",
       "8                   ...             0.0                     2.0   \n",
       "\n",
       "   Total_Injuries_Flight sky_cond_ceil sky_cond_nonceil wind_vel_ind  \\\n",
       "1                    0.0          NONE             SCAT         CALM   \n",
       "3                    0.0           BKN              UNK          UNK   \n",
       "4                    0.0           BKN              UNK          UNK   \n",
       "6                    2.0           BKN              UNK          UNK   \n",
       "8                    4.0          NONE             CLER          UNK   \n",
       "\n",
       "  wx_int_precip phase_flt_spec  Total_Injuries_Ground  Total_Injuries  \n",
       "1           UNK        Landing                    0.0             0.0  \n",
       "3           LGT        Unknown                    0.0             0.0  \n",
       "4           UNK        Descent                    0.0             0.0  \n",
       "6           MOD       Approach                    0.0             2.0  \n",
       "8           UNK       Approach                    0.0             4.0  \n",
       "\n",
       "[5 rows x 33 columns]"
      ]
     },
     "execution_count": 11,
     "metadata": {},
     "output_type": "execute_result"
    }
   ],
   "source": [
    "#we want to account for ALL injuries. This includes injuries on the ground as well as passangers\n",
    "#Here we will make a new column that shows total injuries including ground ones\n",
    "final_data['Total_Injuries_Ground'] = final_data['inj_f_grnd']+final_data['inj_m_grnd']+final_data['inj_s_grnd']\n",
    "final_data['Total_Injuries'] = final_data['Total_Injuries_Ground']+final_data['Total_Injuries_Flight']\n",
    "final_data.head()"
   ]
  },
  {
   "cell_type": "code",
   "execution_count": 12,
   "id": "a3217b4b",
   "metadata": {},
   "outputs": [
    {
     "data": {
      "text/html": [
       "<div>\n",
       "<style scoped>\n",
       "    .dataframe tbody tr th:only-of-type {\n",
       "        vertical-align: middle;\n",
       "    }\n",
       "\n",
       "    .dataframe tbody tr th {\n",
       "        vertical-align: top;\n",
       "    }\n",
       "\n",
       "    .dataframe thead th {\n",
       "        text-align: right;\n",
       "    }\n",
       "</style>\n",
       "<table border=\"1\" class=\"dataframe\">\n",
       "  <thead>\n",
       "    <tr style=\"text-align: right;\">\n",
       "      <th></th>\n",
       "      <th>index</th>\n",
       "      <th>Injury</th>\n",
       "    </tr>\n",
       "  </thead>\n",
       "  <tbody>\n",
       "    <tr>\n",
       "      <th>0</th>\n",
       "      <td>1</td>\n",
       "      <td>18750</td>\n",
       "    </tr>\n",
       "    <tr>\n",
       "      <th>1</th>\n",
       "      <td>0</td>\n",
       "      <td>16677</td>\n",
       "    </tr>\n",
       "  </tbody>\n",
       "</table>\n",
       "</div>"
      ],
      "text/plain": [
       "   index  Injury\n",
       "0      1   18750\n",
       "1      0   16677"
      ]
     },
     "execution_count": 12,
     "metadata": {},
     "output_type": "execute_result"
    }
   ],
   "source": [
    "#create a new column of injuried or not to get a binary response\n",
    "#1 means someone was hurt 0 means someone was not\n",
    "final_data['Injury'] = np.where(final_data['Total_Injuries'] >0,1,0)\n",
    "injuries = final_data[\"Injury\"].value_counts().reset_index()\n",
    "injuries.head(50)"
   ]
  },
  {
   "cell_type": "code",
   "execution_count": 13,
   "id": "c8649fa0",
   "metadata": {},
   "outputs": [
    {
     "data": {
      "text/plain": [
       "<AxesSubplot:xlabel='Injury', ylabel='count'>"
      ]
     },
     "execution_count": 13,
     "metadata": {},
     "output_type": "execute_result"
    },
    {
     "data": {
      "image/png": "[encoded data removed]",
      "text/plain": [
       "<Figure size 432x288 with 1 Axes>"
      ]
     },
     "metadata": {},
     "output_type": "display_data"
    }
   ],
   "source": [
    "final_data['Injury'].value_counts()\n",
    "\n",
    "sns.countplot(x='Injury',data=final_data,palette='hls')"
   ]
  },
  {
   "cell_type": "code",
   "execution_count": 14,
   "id": "af720631",
   "metadata": {},
   "outputs": [
    {
     "name": "stdout",
     "output_type": "stream",
     "text": [
      "<class 'pandas.core.frame.DataFrame'>\n",
      "Int64Index: 35427 entries, 1 to 115696\n",
      "Data columns (total 34 columns):\n",
      " #   Column                  Non-Null Count  Dtype  \n",
      "---  ------                  --------------  -----  \n",
      " 0   ev_id                   35427 non-null  object \n",
      " 1   acft_make               35427 non-null  object \n",
      " 2   acft_model              35427 non-null  object \n",
      " 3   cert_max_gr_wt          35427 non-null  float64\n",
      " 4   acft_category           35427 non-null  object \n",
      " 5   damage                  35427 non-null  object \n",
      " 6   far_part                35427 non-null  object \n",
      " 7   afm_hrs_last_insp       35427 non-null  float64\n",
      " 8   type_fly                35427 non-null  object \n",
      " 9   dprt_city               35427 non-null  object \n",
      " 10  dprt_state              35427 non-null  object \n",
      " 11  rwy_len                 35427 non-null  float64\n",
      " 12  rwy_width               35427 non-null  float64\n",
      " 13  ev_type                 35427 non-null  object \n",
      " 14  ev_city                 35427 non-null  object \n",
      " 15  ev_state                35427 non-null  object \n",
      " 16  ev_country              35427 non-null  object \n",
      " 17  ev_highest_injury       35427 non-null  object \n",
      " 18  inj_f_grnd              35427 non-null  float64\n",
      " 19  inj_m_grnd              35427 non-null  float64\n",
      " 20  inj_s_grnd              35427 non-null  float64\n",
      " 21  Total_Fatal_Injuries    35427 non-null  float64\n",
      " 22  Total_Minor_Injuries    35427 non-null  float64\n",
      " 23  Total_Uninjured         35427 non-null  float64\n",
      " 24  Total_Serious_Injuries  35427 non-null  float64\n",
      " 25  Total_Injuries_Flight   35427 non-null  float64\n",
      " 26  sky_cond_ceil           35427 non-null  object \n",
      " 27  sky_cond_nonceil        35427 non-null  object \n",
      " 28  wind_vel_ind            35427 non-null  object \n",
      " 29  wx_int_precip           35427 non-null  object \n",
      " 30  phase_flt_spec          35427 non-null  object \n",
      " 31  Total_Injuries_Ground   35427 non-null  float64\n",
      " 32  Total_Injuries          35427 non-null  float64\n",
      " 33  Injury                  35427 non-null  int32  \n",
      "dtypes: float64(14), int32(1), object(19)\n",
      "memory usage: 10.3+ MB\n"
     ]
    }
   ],
   "source": [
    "final_data.info()"
   ]
  },
  {
   "cell_type": "code",
   "execution_count": 15,
   "id": "8cc3fdab",
   "metadata": {},
   "outputs": [],
   "source": [
    "#delete the index column called \"Unnamed: 0\"\n",
    "final_df = final_data.copy()\n",
    "#Since we added up all of our injuries we don't need the other columns that include injury count since it will be colinear to our prediction variable\n",
    "final_df = final_df.drop(['Total_Fatal_Injuries','Total_Serious_Injuries','Total_Minor_Injuries','Total_Uninjured','Total_Injuries_Flight','inj_f_grnd','inj_m_grnd','inj_s_grnd','Total_Injuries_Ground',\"Total_Injuries\",\"ev_id\", \"dprt_city\"],axis = 1)"
   ]
  },
  {
   "cell_type": "code",
   "execution_count": 16,
   "id": "dc385d7a",
   "metadata": {},
   "outputs": [],
   "source": [
    "X = final_df.drop(\"Injury\", axis = 1).copy()\n",
    "y = final_df[\"Injury\"].copy()"
   ]
  },
  {
   "cell_type": "markdown",
   "id": "49a85815",
   "metadata": {},
   "source": [
    "Do not run this cell!!"
   ]
  },
  {
   "cell_type": "code",
   "execution_count": 17,
   "id": "a7e6e041",
   "metadata": {},
   "outputs": [],
   "source": [
    "# from sklearn.preprocessing import StandardScaler, OneHotEncoder\n",
    "\n",
    "# # Define which columns should be encoded vs scaled\n",
    "# #Categorical columns to convert to one hot encoding\n",
    "# columns_to_encode = ['acft_make',\"acft_model\",\"acft_category\", \"damage\",\n",
    "#                      \"far_part\",\"type_fly\",\"dprt_state\",\n",
    "#                      \"ev_type\",\"ev_city\",\"ev_state\",\"ev_country\",\n",
    "#                      \"ev_highest_injury\",\"sky_cond_ceil\",\n",
    "#                      \"sky_cond_nonceil\",\"wind_vel_ind\",\"wx_int_precip\",\n",
    "#                      \"phase_flt_spec\"]\n",
    "# #Continuous columns to be scaled\n",
    "# columns_to_scale  = ['cert_max_gr_wt', 'afm_hrs_last_insp',\n",
    "#                      'rwy_len',\"rwy_width\"]\n",
    "\n",
    "# # Instantiate encoder/scaler\n",
    "# scaler = StandardScaler()\n",
    "# ohe = OneHotEncoder(drop=\"first\")\n",
    "\n",
    "# # Scale and Encode Separate Columns\n",
    "# scaled_columns = scaler.fit(X[columns_to_scale]) \n",
    "# a = scaled_columns.transform(X)\n",
    "# encoded_columns = ohe.fit(X[columns_to_encode])\n",
    "# b = encoded_columns.transform(X)\n",
    "# # Concatenate (Column-Bind) Processed Columns Back Together\n",
    "# c = np.concatenate([a, b], axis=1)"
   ]
  },
  {
   "cell_type": "markdown",
   "id": "d43c7824",
   "metadata": {},
   "source": [
    "# One hot encoding"
   ]
  },
  {
   "cell_type": "code",
   "execution_count": 18,
   "id": "ecf66ad6",
   "metadata": {},
   "outputs": [
    {
     "data": {
      "text/plain": [
       "<35427x25112 sparse matrix of type '<class 'numpy.float64'>'\n",
       "\twith 646102 stored elements in Compressed Sparse Row format>"
      ]
     },
     "execution_count": 18,
     "metadata": {},
     "output_type": "execute_result"
    }
   ],
   "source": [
    "from sklearn.preprocessing import OneHotEncoder\n",
    "encoder = OneHotEncoder(drop=\"first\")\n",
    "encoder.fit(X)\n",
    "X = encoder.transform(X)\n",
    "X"
   ]
  },
  {
   "cell_type": "code",
   "execution_count": 19,
   "id": "e2b0dcd5",
   "metadata": {},
   "outputs": [
    {
     "data": {
      "text/plain": [
       "array([0, 0, 0, ..., 1, 1, 1], dtype=int64)"
      ]
     },
     "execution_count": 19,
     "metadata": {},
     "output_type": "execute_result"
    }
   ],
   "source": [
    "from sklearn import preprocessing\n",
    "le = preprocessing.LabelEncoder()\n",
    "le.fit(y)\n",
    "y = le.transform(y)\n",
    "y"
   ]
  },
  {
   "cell_type": "markdown",
   "id": "457c77eb",
   "metadata": {},
   "source": [
    "# Train/test split"
   ]
  },
  {
   "cell_type": "code",
   "execution_count": 20,
   "id": "8309cb3f",
   "metadata": {},
   "outputs": [],
   "source": [
    "from sklearn.model_selection import train_test_split\n",
    "X_train, X_test, y_train, y_test = train_test_split(X, y, test_size=0.20, random_state=42)"
   ]
  },
  {
   "cell_type": "code",
   "execution_count": 21,
   "id": "c48b9ee7",
   "metadata": {},
   "outputs": [],
   "source": [
    "from sklearn.preprocessing import StandardScaler\n",
    "\n",
    "scl_obj = StandardScaler(with_mean=False)\n",
    "scl_obj.fit(X_train) \n",
    "\n",
    "X_train_scaled = scl_obj.transform(X_train) \n",
    "X_test_scaled = scl_obj.transform(X_test)"
   ]
  },
  {
   "cell_type": "code",
   "execution_count": 22,
   "id": "cf91303d",
   "metadata": {},
   "outputs": [],
   "source": [
    "from sklearn.linear_model import LogisticRegression\n",
    "logisticRegr = LogisticRegression(class_weight=\"balanced\")\n",
    "logisticRegr.fit(X_train, y_train)\n",
    "y_hat = logisticRegr.predict(X_test)"
   ]
  },
  {
   "cell_type": "code",
   "execution_count": 23,
   "id": "c8365f1d",
   "metadata": {},
   "outputs": [
    {
     "name": "stdout",
     "output_type": "stream",
     "text": [
      "0.9992943832909963\n",
      "[[3330    5]\n",
      " [   0 3751]]\n"
     ]
    }
   ],
   "source": [
    "from sklearn import metrics as mt\n",
    "acc = mt.accuracy_score(y_test,y_hat)\n",
    "conf = mt.confusion_matrix(y_test,y_hat)\n",
    "print(acc)\n",
    "print(conf)"
   ]
  },
  {
   "cell_type": "markdown",
   "id": "e3626e7c",
   "metadata": {},
   "source": [
    "final_data"
   ]
  },
  {
   "cell_type": "markdown",
   "id": "8114799b",
   "metadata": {},
   "source": [
    "Here, we looked to see if there were any variables that may be too coorlated with our regression. We got a 99% prediction rate which told us we had a variable that should be considered \"unknown\" We removed ev_highest_injury which should be treated as unknown. This fixes our issues of too high of accurcy."
   ]
  },
  {
   "cell_type": "markdown",
   "id": "98741685",
   "metadata": {},
   "source": [
    "# Final Models: USE THIS HOMIES"
   ]
  },
  {
   "cell_type": "code",
   "execution_count": 24,
   "id": "a5318991",
   "metadata": {},
   "outputs": [],
   "source": [
    "df = final_df.copy()\n",
    "del df['ev_highest_injury']"
   ]
  },
  {
   "cell_type": "code",
   "execution_count": 25,
   "id": "8f3c63bb",
   "metadata": {},
   "outputs": [],
   "source": [
    "X = df.drop(\"Injury\", axis = 1).copy()\n",
    "y = df[\"Injury\"].copy()"
   ]
  },
  {
   "cell_type": "code",
   "execution_count": 26,
   "id": "1d927ccb",
   "metadata": {},
   "outputs": [],
   "source": [
    "#one hot encoding with proper model\n",
    "from sklearn.preprocessing import OneHotEncoder\n",
    "encoder = OneHotEncoder(drop=\"first\")\n",
    "encoder.fit(X)\n",
    "X = encoder.transform(X)\n",
    "from sklearn import preprocessing\n",
    "le = preprocessing.LabelEncoder()\n",
    "le.fit(y)\n",
    "y = le.transform(y)"
   ]
  },
  {
   "cell_type": "code",
   "execution_count": 27,
   "id": "af3d0323",
   "metadata": {},
   "outputs": [],
   "source": [
    "from sklearn.model_selection import train_test_split\n",
    "X_train, X_test, y_train, y_test = train_test_split(X, y, test_size=0.20, random_state=42)"
   ]
  },
  {
   "cell_type": "code",
   "execution_count": 28,
   "id": "3f444583",
   "metadata": {},
   "outputs": [],
   "source": [
    "from sklearn.preprocessing import StandardScaler\n",
    "# scale attributes by the training set\n",
    "scl_obj = StandardScaler(with_mean=False)\n",
    "scl_obj.fit(X_train) # find scalings for each column that make this zero mean and unit std\n",
    "# the line of code above only looks at training data to get mean and std and we can use it \n",
    "# to transform new feature data\n",
    "\n",
    "X_train_scaled = scl_obj.transform(X_train) # apply to training\n",
    "X_test_scaled = scl_obj.transform(X_test)"
   ]
  },
  {
   "cell_type": "markdown",
   "id": "9b806dff",
   "metadata": {},
   "source": [
    "# Cross Validation"
   ]
  },
  {
   "cell_type": "code",
   "execution_count": 29,
   "id": "793c4658",
   "metadata": {},
   "outputs": [
    {
     "name": "stdout",
     "output_type": "stream",
     "text": [
      "ShuffleSplit(n_splits=10, random_state=None, test_size=0.2, train_size=None)\n"
     ]
    }
   ],
   "source": [
    "from sklearn.model_selection import ShuffleSplit\n",
    "\n",
    "num_cv_iterations = 10\n",
    "num_instances = len(y)\n",
    "cv_object = ShuffleSplit(n_splits=num_cv_iterations,\n",
    "                         test_size  = 0.2)\n",
    "                         \n",
    "print(cv_object)"
   ]
  },
  {
   "cell_type": "code",
   "execution_count": 30,
   "id": "b01f573f",
   "metadata": {},
   "outputs": [
    {
     "name": "stdout",
     "output_type": "stream",
     "text": [
      "====Iteration 0  ====\n",
      "accuracy 0.8233135760654813\n",
      "confusion matrix\n",
      " [[2870  433]\n",
      " [ 819 2964]]\n",
      "====Iteration 1  ====\n",
      "accuracy 0.8163985323172452\n",
      "confusion matrix\n",
      " [[2928  413]\n",
      " [ 888 2857]]\n",
      "====Iteration 2  ====\n",
      "accuracy 0.8231724527236804\n",
      "confusion matrix\n",
      " [[2871  423]\n",
      " [ 830 2962]]\n",
      "====Iteration 3  ====\n",
      "accuracy 0.8110358453288173\n",
      "confusion matrix\n",
      " [[2873  436]\n",
      " [ 903 2874]]\n",
      "====Iteration 4  ====\n",
      "accuracy 0.8210556025966695\n",
      "confusion matrix\n",
      " [[2899  416]\n",
      " [ 852 2919]]\n",
      "====Iteration 5  ====\n",
      "accuracy 0.8152695455828394\n",
      "confusion matrix\n",
      " [[2880  433]\n",
      " [ 876 2897]]\n",
      "====Iteration 6  ====\n",
      "accuracy 0.8175275190516511\n",
      "confusion matrix\n",
      " [[2913  434]\n",
      " [ 859 2880]]\n",
      "====Iteration 7  ====\n",
      "accuracy 0.8193621224950607\n",
      "confusion matrix\n",
      " [[2910  432]\n",
      " [ 848 2896]]\n",
      "====Iteration 8  ====\n",
      "accuracy 0.8197854925204628\n",
      "confusion matrix\n",
      " [[2939  438]\n",
      " [ 839 2870]]\n",
      "====Iteration 9  ====\n",
      "accuracy 0.81922099915326\n",
      "confusion matrix\n",
      " [[2862  435]\n",
      " [ 846 2943]]\n"
     ]
    }
   ],
   "source": [
    "#cross validation\n",
    "from sklearn.linear_model import LogisticRegression\n",
    "from sklearn import metrics as mt\n",
    "\n",
    "lr_clf = LogisticRegression(penalty='l2', C=1.0, class_weight=None, solver='liblinear' )\n",
    "\n",
    "for iter_num, (train_indices, test_indices) in enumerate(cv_object.split(X,y)):\n",
    "    lr_clf.fit(X[train_indices],y[train_indices])  # train object\n",
    "    y_hat = lr_clf.predict(X[test_indices]) # get test set precitions\n",
    "\n",
    "    # print the accuracy and confusion matrix \n",
    "    print(\"====Iteration\",iter_num,\" ====\")\n",
    "    print(\"accuracy\", mt.accuracy_score(y[test_indices],y_hat)) \n",
    "    print(\"confusion matrix\\n\",mt.confusion_matrix(y[test_indices],y_hat))"
   ]
  },
  {
   "cell_type": "markdown",
   "id": "c5b34b98",
   "metadata": {},
   "source": [
    "# Logistic Regression"
   ]
  },
  {
   "cell_type": "code",
   "execution_count": 31,
   "id": "65b4f208",
   "metadata": {},
   "outputs": [
    {
     "name": "stdout",
     "output_type": "stream",
     "text": [
      "0.7313011572114028\n",
      "[[2423  912]\n",
      " [ 992 2759]]\n"
     ]
    }
   ],
   "source": [
    "#scaled\n",
    "from sklearn.linear_model import LogisticRegression\n",
    "logisticRegr = LogisticRegression(class_weight=\"balanced\",solver='liblinear',penalty = 'l2')\n",
    "logisticRegr.fit(X_train_scaled, y_train)\n",
    "y_hat = logisticRegr.predict(X_test_scaled)\n",
    "\n",
    "from sklearn import metrics as mt\n",
    "acc = mt.accuracy_score(y_test,y_hat)\n",
    "conf = mt.confusion_matrix(y_test,y_hat)\n",
    "print(acc)\n",
    "print(conf)"
   ]
  },
  {
   "cell_type": "code",
   "execution_count": 32,
   "id": "00373b28",
   "metadata": {},
   "outputs": [
    {
     "name": "stdout",
     "output_type": "stream",
     "text": [
      "0.817104149026249\n",
      "[[2933  402]\n",
      " [ 894 2857]]\n"
     ]
    }
   ],
   "source": [
    "#NOT Scaled\n",
    "from sklearn.linear_model import LogisticRegression\n",
    "logisticRegr = LogisticRegression(class_weight=\"balanced\",solver='liblinear', max_iter=1000)\n",
    "logisticRegr.fit(X_train, y_train)\n",
    "y_hat = logisticRegr.predict(X_test)\n",
    "\n",
    "from sklearn import metrics as mt\n",
    "acc = mt.accuracy_score(y_test,y_hat)\n",
    "conf = mt.confusion_matrix(y_test,y_hat)\n",
    "print(acc)\n",
    "print(conf)"
   ]
  },
  {
   "cell_type": "markdown",
   "id": "8450ffa6",
   "metadata": {},
   "source": [
    "to do:\n",
    "one hot encoding\n",
    "avoid confounding variables - this causes an issue with feature importance\n",
    "check for highly corrilated variables - \n",
    "use a confusion matrix\n",
    "scale our data\n",
    "large diff in KDE for support vectors - it falls along the decision bountry vs the read data\n"
   ]
  },
  {
   "cell_type": "code",
   "execution_count": null,
   "id": "e5365cd3",
   "metadata": {},
   "outputs": [],
   "source": [
    "#CV split\n",
    "from sklearn.model_selection import StratifiedShuffleSplit \n",
    "cv = StratifiedShuffleSplit( n_splits=5,test_size=0.2,random_state = 42)"
   ]
  },
  {
   "cell_type": "code",
   "execution_count": null,
   "id": "b58212e2",
   "metadata": {},
   "outputs": [],
   "source": [
    "from sklearn.svm import SVC\n",
    "\n",
    "for train_indices, test_indices in cv.split(X,y): \n",
    "    X_train = X[train_indices]\n",
    "    y_train = y[train_indices]\n",
    "    \n",
    "    X_test = X[test_indices]\n",
    "    y_test = y[test_indices]\n",
    "    \n",
    "X_train_scaled = scl_obj.transform(X_train) # apply to training\n",
    "X_test_scaled = scl_obj.transform(X_test)\n",
    "\n",
    "\n",
    "svm_clf = SVC(C=0.5, kernel='rbf', degree=3, gamma='auto') # get object\n",
    "svm_clf.fit(X_train_scaled, y_train)  # train object\n",
    "\n",
    "y_hat = svm_clf.predict(X_test_scaled) # get test set precitions\n",
    "\n",
    "acc = mt.accuracy_score(y_test,y_hat)\n",
    "conf = mt.confusion_matrix(y_test,y_hat)\n",
    "print('accuracy:', acc )\n",
    "print(conf)"
   ]
  },
  {
   "cell_type": "markdown",
   "id": "58b99631",
   "metadata": {},
   "source": [
    "# Gradient Based Alternatives"
   ]
  },
  {
   "cell_type": "markdown",
   "id": "9b777fd4",
   "metadata": {},
   "source": [
    "So far our SVM only has done worse than our Logistic Regression with an accuracy of 69% so we will look to improve this."
   ]
  },
  {
   "cell_type": "code",
   "execution_count": null,
   "id": "94934749",
   "metadata": {},
   "outputs": [],
   "source": [
    "from sklearn.linear_model import SGDClassifier\n",
    "#Log grad dec\n",
    "regularize_const = .5\n",
    "iterations = 5\n",
    "svm_sgd = SGDClassifier(alpha=regularize_const,\n",
    "        fit_intercept=True, l1_ratio=0.0, learning_rate='optimal',\n",
    "        loss='log', n_iter_no_change=iterations, n_jobs=-1, penalty='l2')\n",
    "\n",
    "scl = StandardScaler(with_mean=False)\n",
    "for train_idx, test_idx in cv.split(X,y):\n",
    "    svm_sgd.fit(scl.fit_transform(X[train_idx]),y[train_idx])\n",
    "    yhat = svm_sgd.predict(scl.transform(X[test_idx]))\n",
    "    \n",
    "    conf = mt.confusion_matrix(y[test_idx],yhat)\n",
    "    acc = mt.accuracy_score(y[test_idx],yhat)\n",
    "\n",
    "print('Log:', acc)\n",
    "print(conf)"
   ]
  },
  {
   "cell_type": "code",
   "execution_count": null,
   "id": "d73d8845",
   "metadata": {},
   "outputs": [],
   "source": [
    "#SVM grad dec\n",
    "regularize_const = .5\n",
    "iterations = 5\n",
    "svm_sgd = SGDClassifier(alpha=regularize_const,\n",
    "        fit_intercept=True, l1_ratio=0.0, learning_rate='optimal',\n",
    "        loss='hinge', n_iter_no_change=iterations, n_jobs=-1, penalty='l2')\n",
    "\n",
    "scl = StandardScaler(with_mean=False)\n",
    "for train_idx, test_idx in cv.split(X,y):\n",
    "    svm_sgd.fit(scl.fit_transform(X[train_idx]),y[train_idx])\n",
    "    yhat = svm_sgd.predict(scl.transform(X[test_idx]))\n",
    "    \n",
    "    conf = mt.confusion_matrix(y[test_idx],yhat)\n",
    "    acc = mt.accuracy_score(y[test_idx],yhat)\n",
    "\n",
    "print('SVM:', acc)\n",
    "print(conf)"
   ]
  },
  {
   "cell_type": "markdown",
   "id": "90f7d724",
   "metadata": {},
   "source": [
    "# Log Weights"
   ]
  },
  {
   "cell_type": "code",
   "execution_count": 36,
   "id": "036fe822",
   "metadata": {
    "scrolled": false
   },
   "outputs": [
    {
     "name": "stdout",
     "output_type": "stream",
     "text": [
      "acft_make has weight of 0.0\n",
      "acft_model has weight of 0.12886932687340405\n",
      "cert_max_gr_wt has weight of 0.2971592309222274\n",
      "acft_category has weight of 0.10403260953515966\n",
      "damage has weight of 0.0013133334996874042\n",
      "far_part has weight of 0.0\n",
      "afm_hrs_last_insp has weight of -0.6078009072811833\n",
      "type_fly has weight of 0.00017924841971461654\n",
      "dprt_state has weight of 0.003133557298948663\n",
      "rwy_len has weight of 0.273491550525028\n",
      "rwy_width has weight of 0.0\n",
      "ev_type has weight of 0.0026084674341966623\n",
      "ev_city has weight of -0.2943991243353877\n",
      "ev_state has weight of 0.12999416765396188\n",
      "ev_country has weight of 0.05394551041150402\n",
      "sky_cond_ceil has weight of -0.2025596955097444\n",
      "sky_cond_nonceil has weight of 0.40424110247076045\n",
      "wind_vel_ind has weight of 0.00017873940682412113\n",
      "wx_int_precip has weight of -0.385026927419158\n",
      "phase_flt_spec has weight of 0.001544618065318501\n",
      "Injury has weight of 5.07200112128694e-05\n"
     ]
    }
   ],
   "source": [
    "weights = logisticRegr.coef_.T # take transpose to make a column vector\n",
    "variable_names = df.columns\n",
    "for coef, name in zip(weights,variable_names):\n",
    "    print(name, 'has weight of', coef[0])"
   ]
  },
  {
   "cell_type": "code",
   "execution_count": 37,
   "id": "8dffdbf8",
   "metadata": {
    "scrolled": true
   },
   "outputs": [
    {
     "data": {
      "image/png": "[encoded data removed]",
      "text/plain": [
       "<Figure size 432x288 with 1 Axes>"
      ]
     },
     "metadata": {},
     "output_type": "display_data"
    }
   ],
   "source": [
    "from matplotlib import pyplot as plt\n",
    "%matplotlib inline\n",
    "plt.style.use('ggplot')\n",
    "#I am not sure but out arry for these weights is much higher than it should be\n",
    "#it should only be the lenght of our vairables\n",
    "logreg=logisticRegr.coef_[0]\n",
    "logreg=logreg[:len(variable_names)]\n",
    "weights = pd.Series(logreg,variable_names)\n",
    "weights[:len(variable_names)]\n",
    "weights.plot(kind='bar')\n",
    "plt.show()"
   ]
  },
  {
   "cell_type": "code",
   "execution_count": null,
   "id": "5d31c8cf",
   "metadata": {},
   "outputs": [],
   "source": [
    "# work in progress\n",
    "import plotly\n",
    "plotly.offline.init_notebook_mode() # run at the start of every notebook\n",
    "\n",
    "error_y=dict(\n",
    "            type='data',\n",
    "            array=np.std(weights,axis=0),\n",
    "            visible=True\n",
    "        )\n",
    "\n",
    "graph1 = {'x': df.columns,\n",
    "          'y': np.mean(weights,axis=0),\n",
    "    'error_y':error_y,\n",
    "       'type': 'bar'}\n",
    "\n",
    "fig = dict()\n",
    "fig['data'] = [graph1]\n",
    "fig['layout'] = {'title': 'Logistic Regression Weights, with error bars'}\n",
    "\n",
    "plotly.offline.iplot(fig)"
   ]
  },
  {
   "cell_type": "code",
   "execution_count": null,
   "id": "9cdb3113",
   "metadata": {},
   "outputs": [],
   "source": [
    "%matplotlib inline\n",
    "from matplotlib import pyplot as plt\n",
    "\n",
    "# now lets see the statistics of these attributes\n",
    "from pandas.plotting import boxplot\n",
    "\n",
    "# group the original data and the support vectors\n",
    "df_grouped_support = df_support.groupby(['ON_TIME_ARRIVAL'])\n",
    "df_grouped = SVMDat.groupby(['ON_TIME_ARRIVAL'])\n",
    "\n",
    "# plot KDE of Different variables\n",
    "vars_to_plot = ['ACTUAL_ELAPSED_TIME','DEP_DELAY','ARR_TIME','CRS_ELAPSED_TIME','Operating Carrier_WN','Origin_SFO','CARRIER_DELAY']\n",
    "\n",
    "for v in vars_to_plot:\n",
    "    plt.figure(figsize=(10,4))\n",
    "    # plot support vector stats\n",
    "    plt.subplot(1,2,1)\n",
    "    ax = df_grouped_support[v].plot.kde() \n",
    "    plt.legend(['ON_TIME_ARRIVAL','LATE'])\n",
    "    plt.title(v+' (Instances chosen as Support Vectors)')\n",
    "    \n",
    "    # plot original distributions\n",
    "    plt.subplot(1,2,2)\n",
    "    ax = df_grouped[v].plot.kde() \n",
    "    plt.legend(['LATE','ON_TIME_ARRIVAL'])\n",
    "    plt.title(v+' (Original)')"
   ]
  }
 ],
 "metadata": {
  "kernelspec": {
   "display_name": "Python 3 (ipykernel)",
   "language": "python",
   "name": "python3"
  },
  "language_info": {
   "codemirror_mode": {
    "name": "ipython",
    "version": 3
   },
   "file_extension": ".py",
   "mimetype": "text/x-python",
   "name": "python",
   "nbconvert_exporter": "python",
   "pygments_lexer": "ipython3",
   "version": "3.8.11"
  }
 },
 "nbformat": 4,
 "nbformat_minor": 5
}
