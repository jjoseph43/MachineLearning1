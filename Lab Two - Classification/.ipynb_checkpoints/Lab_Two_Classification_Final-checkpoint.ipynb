{
 "cells": [
  {
   "cell_type": "markdown",
   "id": "24237f4a",
   "metadata": {},
   "source": [
    "You are to build upon the predictive analysis (classification) that you already completed in the previous mini-project, adding additional modeling from new classification algorithms as well as more explanations that are inline with the CRISP-DM framework. You should use appropriate cross validation for all of your analysis (explain your chosen method of performance validation in detail). Try to use as much testing data as possible in a realistic manner (you should define what you think is realistic and why).\n",
    "This report is worth 20% of the final grade. Please upload a report (one per team) with all code used, visualizations, and text in a single document. The format of the document can be PDF, *.ipynb, or HTML. You can write the report in whatever format you like, but it is easiest to turn in the rendered iPython notebook. The results should be reproducible using your report. Please carefully describe every assumption and every step in your report.\n",
    "\n",
    "### Dataset Selection\n",
    "Select a dataset identically to the way you selected for the first project work week and mini-project. You are not required to use the same dataset that you used in the past, but you are encouraged. You must identify two tasks from the dataset to regress or classify. That is:\n",
    "- two classification tasks OR\n",
    "- two regression tasks OR\n",
    "- one classification task and one regression task\n",
    "\n",
    "For example, if your dataset was from the diabetes data you might try to predict two tasks: (1) classifying if a patient will be readmitted within a 30 day period or not, and (2) regressing what the total number of days a patient will spend in the hospital, given their history and specifics of the encounter like tests administered and previous admittance.\n",
    "\n",
    "### Grading Rubric\n",
    "\n",
    "#### Data Preparation (15 points total)\n",
    "- [10 points] Define and prepare your class variables. Use proper variable representations (int, float, one-hot, etc.). Use pre-processing methods (as needed) for dimensionality reduction, scaling, etc. Remove variables that are not needed/useful for the analysis.\n",
    "\n",
    "**Satvik** - write detailed explanation\n",
    "\n",
    "- [5 points] Describe the final dataset that is used for classification/regression (include a description of any newly formed variables you created).\n",
    "\n",
    "**Satvik** - write detailed explanation\n",
    "\n",
    "\n",
    "### Modeling and Evaluation (70 points total)\n",
    "\n",
    "- [10 points] Choose and explain your evaluation metrics that you will use (i.e., accuracy, precision, recall, F-measure, or any metric we have discussed). Why are the measure(s) appropriate for analyzing the results of your modeling? Give a detailed explanation backing up any assertions.\n",
    "\n",
    "**Satvik** - write detailed explanation\n",
    "\n",
    "- [10 points] Choose the method you will use for dividing your data into training and testing splits (i.e., are you using Stratified 10-fold cross validation? Why?). Explain why your chosen method is appropriate or use more than one method as appropriate.\n",
    "\n",
    "**Satvik** - write detailed explanation\n",
    "\n",
    "- [20 points] Create three different classification/regression models (e.g., random forest, KNN, and SVM). Two modeling techniques must be new (but the third could be SVM or logistic regression). Adjust parameters as appropriate to increase generalization performance using your chosen metric.\n",
    "\n",
    "Logistic Regression FOR Injury and Phase - Satvik\n",
    "With grid search for both Injury and Phase - Satvik\n",
    "\n",
    "KNN FOR Injury and Phase - Nnenna\n",
    "With grid search for both Injury and Phase - Nnenna\n",
    "[Thursday]\n",
    "\n",
    "Random Forest FOR Injury and Phase - Jobin\n",
    "With grid search for both Injury and Phase - Jobin\n",
    "[Thursday]\n",
    "get feature importance - Jobin\n",
    "\n",
    "\n",
    "- [10 points] Analyze the results using your chosen method of evaluation. Use visualizations of the results to bolster the analysis. Explain any visuals and analyze why they are interesting to someone that might use this model.\n",
    "\n",
    "Dylan - Create table for 3 Injury grid search models and 3 Phase of flight grid search models \n",
    "-make more colorful confusion matrix\n",
    "[Thursday]\n",
    "\n",
    "- [10 points] Discuss the advantages of each model for each classification task, if any. If there are not advantages, explain why. Is any model better than another? Is the difference significant with 95% confidence? Use proper statistical comparison methods.\n",
    "\n",
    "Dylan - model advantages\n",
    "use package that Jake told us to use for statistical comparison -  Dylan\n",
    "\n",
    "- [10 points] Which attributes from your analysis are most important? Use proper methods discussed in class to evaluate the importance of different attributes. Discuss the results and hypothesize about why certain attributes are more important than others for a given classification task.\n",
    "\n",
    "Random Forest has feature importance maybe use this\n",
    "\n",
    "### Deployment (5 points total)\n",
    "\n",
    "- [5 points] How useful is your model for interested parties (i.e., the companies or organizations that might want to use it for prediction)? How would you measure the model's value if it was used by these parties? How would your deploy your model for interested parties? What other data should be collected? How often would the model need to be updated, etc.?\n",
    "\n",
    "Dylan\n",
    "\n",
    "### Exceptional Work (10 points total)\n",
    "\n",
    "YAY done kind of...\n",
    "\n",
    "- You have free reign to provide additional modeling.\n",
    "- One idea: grid search parameters in a parallelized fashion and visualize the performances across attributes. Which parameters are most significant for making a good model for each classification algorithm?"
   ]
  },
  {
   "cell_type": "markdown",
   "id": "079fa961",
   "metadata": {},
   "source": [
    "# Lab Two: Classification\n",
    "\n",
    "Dylan Scott, Satvik Ajmera, Nnenna Okpara, Jobin Joseph"
   ]
  },
  {
   "cell_type": "markdown",
   "id": "6b612327",
   "metadata": {},
   "source": [
    "# NTSB Aviation Accident and Incident Data (NTSB)\n",
    "\n",
    "Source: https://data.ntsb.gov/avdata\n",
    "\n",
    "From the source, we will be using the NTSB data which consists of various attributes related to aviation accidents and incidents. This data includes incidents and accidents that have occured till date. \n",
    "\n",
    "The goal for this lab is to build two classification models that predict:\n",
    "\n",
    "1. Predicting if an incident/accident has resulted in an injury (binary classification)\n",
    "2. Predicting the phase of flight for an incident that has occured (multiclass classification)\n",
    "\n",
    "For this we will create two dataframes for these two classification problems."
   ]
  },
  {
   "cell_type": "code",
   "execution_count": 1,
   "id": "b884cdd7",
   "metadata": {},
   "outputs": [],
   "source": [
    "import pandas as pd\n",
    "import numpy as np"
   ]
  },
  {
   "cell_type": "markdown",
   "id": "6ce08fc6",
   "metadata": {},
   "source": [
    "# 1. Data Preparation Part 1"
   ]
  },
  {
   "cell_type": "markdown",
   "id": "8f0b9727",
   "metadata": {},
   "source": [
    "[10 points] Define and prepare your class variables. Use proper variable representations (int, float, one-hot, etc.). Use pre-processing methods (as needed) for dimensionality reduction, scaling, etc. Remove variables that are not needed/useful for the analysis.\n",
    "\n",
    "[5 points] Describe the final dataset that is used for classification/regression (include a description of any newly formed variables you created)."
   ]
  },
  {
   "cell_type": "code",
   "execution_count": 2,
   "id": "ef109db0",
   "metadata": {
    "scrolled": true
   },
   "outputs": [
    {
     "name": "stdout",
     "output_type": "stream",
     "text": [
      "<class 'pandas.core.frame.DataFrame'>\n",
      "RangeIndex: 115706 entries, 0 to 115705\n",
      "Data columns (total 27 columns):\n",
      " #   Column             Non-Null Count   Dtype  \n",
      "---  ------             --------------   -----  \n",
      " 0   acft_make          115643 non-null  object \n",
      " 1   acft_model         115630 non-null  object \n",
      " 2   cert_max_gr_wt     98673 non-null   float64\n",
      " 3   acft_category      115287 non-null  object \n",
      " 4   damage             113877 non-null  object \n",
      " 5   far_part           114925 non-null  object \n",
      " 6   afm_hrs_last_insp  60298 non-null   float64\n",
      " 7   type_fly           108599 non-null  object \n",
      " 8   dprt_state         108791 non-null  object \n",
      " 9   rwy_len            64222 non-null   float64\n",
      " 10  rwy_width          63110 non-null   float64\n",
      " 11  ev_type            115706 non-null  object \n",
      " 12  ev_city            115646 non-null  object \n",
      " 13  ev_state           109635 non-null  object \n",
      " 14  ev_country         115199 non-null  object \n",
      " 15  inj_f_grnd         51624 non-null   float64\n",
      " 16  inj_m_grnd         51543 non-null   float64\n",
      " 17  inj_s_grnd         51520 non-null   float64\n",
      " 18  inj_tot_f          64375 non-null   float64\n",
      " 19  inj_tot_m          63902 non-null   float64\n",
      " 20  inj_tot_n          90784 non-null   float64\n",
      " 21  inj_tot_s          60713 non-null   float64\n",
      " 22  inj_tot_t          79933 non-null   float64\n",
      " 23  sky_cond_ceil      104219 non-null  object \n",
      " 24  sky_cond_nonceil   100624 non-null  object \n",
      " 25  wx_int_precip      49898 non-null   object \n",
      " 26  phase_flt_spec     113882 non-null  object \n",
      "dtypes: float64(12), object(15)\n",
      "memory usage: 23.8+ MB\n"
     ]
    }
   ],
   "source": [
    "#Read in the Aviation Data\n",
    "final_data = pd.read_csv(\"../Data/final_data.csv\",low_memory=False,dtype={'damage': str})\n",
    "#Delete columns that were imported incorrectly\n",
    "del final_data[\"Unnamed: 0\"]\n",
    "del final_data[\"dprt_state.1\"]\n",
    "del final_data[\"dprt_city\"]\n",
    "del final_data[\"index\"]\n",
    "del final_data[\"ntsb_no_x\"]\n",
    "del final_data['wind_vel_ind']\n",
    "del final_data[\"ev_id\"]\n",
    "del final_data['ev_highest_injury']\n",
    "\n",
    "final_data.info()"
   ]
  },
  {
   "cell_type": "markdown",
   "id": "a0e38e57",
   "metadata": {},
   "source": [
    "### 1a. Data Preparation for predicting Injury"
   ]
  },
  {
   "cell_type": "code",
   "execution_count": 3,
   "id": "395cfe13",
   "metadata": {},
   "outputs": [],
   "source": [
    "#replace the all empty values to Nan\n",
    "final_data= final_data.replace(r'^\\s+$', np.nan, regex=True)"
   ]
  },
  {
   "cell_type": "code",
   "execution_count": 4,
   "id": "f0cb7031",
   "metadata": {},
   "outputs": [],
   "source": [
    "#Upper case all factor levels for each categorical variable\n",
    "final_data['acft_make'] = final_data['acft_make'].str.upper()\n",
    "final_data['acft_category'] = final_data['acft_category'].str.upper()\n",
    "final_data['damage'] = final_data['damage'].str.upper()\n",
    "final_data['type_fly'] = final_data['type_fly'].str.upper()\n",
    "final_data['dprt_state'] = final_data['dprt_state'].str.upper()\n",
    "final_data['ev_city'] = final_data['ev_city'].str.upper()\n",
    "final_data['ev_type'] = final_data['ev_type'].str.upper()\n",
    "final_data['ev_city'] = final_data['ev_city'].str.upper()\n",
    "final_data['ev_country'] = final_data['ev_country'].str.upper()\n",
    "final_data['sky_cond_ceil'] = final_data['sky_cond_ceil'].str.upper()\n",
    "final_data['sky_cond_nonceil'] = final_data['sky_cond_nonceil'].str.upper()\n",
    "final_data['wx_int_precip'] = final_data['wx_int_precip'].str.upper()\n",
    "final_data['phase_flt_spec'] = final_data['phase_flt_spec'].str.upper()"
   ]
  },
  {
   "cell_type": "code",
   "execution_count": 5,
   "id": "5fb3d536",
   "metadata": {},
   "outputs": [],
   "source": [
    "final_data.loc[final_data['damage'].str.contains('UNK', na=False), 'damage'] = 'UNK'\n",
    "\n",
    "#rename the injuries columns to make them easier to read\n",
    "final_data = final_data.rename(columns={\"inj_tot_f\": \"Total_Fatal_Injuries\", \n",
    "                                        \"inj_tot_s\":\"Total_Serious_Injuries\",\n",
    "                                        \"inj_tot_m\":\"Total_Minor_Injuries\",\n",
    "                                        \"inj_tot_n\":'Total_Uninjured',\n",
    "                                        \"inj_tot_t\":\"Total_Injuries_Flight\"})\n",
    "\n",
    "#fill in 0s when there wasn't an injury in that category\n",
    "final_data.update(final_data[['Total_Fatal_Injuries','Total_Serious_Injuries',\n",
    "                              'Total_Minor_Injuries','Total_Uninjured',\n",
    "                              'Total_Injuries_Flight','inj_f_grnd',\n",
    "                              'inj_m_grnd','inj_s_grnd']].fillna(0))"
   ]
  },
  {
   "cell_type": "code",
   "execution_count": 6,
   "id": "fa26f1ed",
   "metadata": {},
   "outputs": [
    {
     "data": {
      "text/html": [
       "<div>\n",
       "<style scoped>\n",
       "    .dataframe tbody tr th:only-of-type {\n",
       "        vertical-align: middle;\n",
       "    }\n",
       "\n",
       "    .dataframe tbody tr th {\n",
       "        vertical-align: top;\n",
       "    }\n",
       "\n",
       "    .dataframe thead th {\n",
       "        text-align: right;\n",
       "    }\n",
       "</style>\n",
       "<table border=\"1\" class=\"dataframe\">\n",
       "  <thead>\n",
       "    <tr style=\"text-align: right;\">\n",
       "      <th></th>\n",
       "      <th>acft_make</th>\n",
       "      <th>acft_model</th>\n",
       "      <th>cert_max_gr_wt</th>\n",
       "      <th>acft_category</th>\n",
       "      <th>damage</th>\n",
       "      <th>far_part</th>\n",
       "      <th>afm_hrs_last_insp</th>\n",
       "      <th>type_fly</th>\n",
       "      <th>dprt_state</th>\n",
       "      <th>rwy_len</th>\n",
       "      <th>...</th>\n",
       "      <th>inj_s_grnd</th>\n",
       "      <th>Total_Fatal_Injuries</th>\n",
       "      <th>Total_Minor_Injuries</th>\n",
       "      <th>Total_Uninjured</th>\n",
       "      <th>Total_Serious_Injuries</th>\n",
       "      <th>Total_Injuries_Flight</th>\n",
       "      <th>sky_cond_ceil</th>\n",
       "      <th>sky_cond_nonceil</th>\n",
       "      <th>wx_int_precip</th>\n",
       "      <th>phase_flt_spec</th>\n",
       "    </tr>\n",
       "  </thead>\n",
       "  <tbody>\n",
       "    <tr>\n",
       "      <th>0</th>\n",
       "      <td>BOEING</td>\n",
       "      <td>747-100</td>\n",
       "      <td>750000.0</td>\n",
       "      <td>AIR</td>\n",
       "      <td>MINR</td>\n",
       "      <td>121</td>\n",
       "      <td>113.0</td>\n",
       "      <td>UNK</td>\n",
       "      <td>JA</td>\n",
       "      <td>11800.0</td>\n",
       "      <td>...</td>\n",
       "      <td>0.0</td>\n",
       "      <td>0.0</td>\n",
       "      <td>0.0</td>\n",
       "      <td>4.0</td>\n",
       "      <td>0.0</td>\n",
       "      <td>0.0</td>\n",
       "      <td>NONE</td>\n",
       "      <td>SCAT</td>\n",
       "      <td>UNK</td>\n",
       "      <td>LANDING</td>\n",
       "    </tr>\n",
       "    <tr>\n",
       "      <th>1</th>\n",
       "      <td>CESSNA</td>\n",
       "      <td>172</td>\n",
       "      <td>2300.0</td>\n",
       "      <td>AIR</td>\n",
       "      <td>SUBS</td>\n",
       "      <td>091</td>\n",
       "      <td>40.0</td>\n",
       "      <td>PERS</td>\n",
       "      <td>UNK</td>\n",
       "      <td>6398.0</td>\n",
       "      <td>...</td>\n",
       "      <td>0.0</td>\n",
       "      <td>0.0</td>\n",
       "      <td>0.0</td>\n",
       "      <td>1.0</td>\n",
       "      <td>0.0</td>\n",
       "      <td>0.0</td>\n",
       "      <td>BKN</td>\n",
       "      <td>UNK</td>\n",
       "      <td>LGT</td>\n",
       "      <td>UNKNOWN</td>\n",
       "    </tr>\n",
       "    <tr>\n",
       "      <th>2</th>\n",
       "      <td>CESSNA</td>\n",
       "      <td>207</td>\n",
       "      <td>3800.0</td>\n",
       "      <td>AIR</td>\n",
       "      <td>SUBS</td>\n",
       "      <td>135</td>\n",
       "      <td>49.0</td>\n",
       "      <td>UNK</td>\n",
       "      <td>AK</td>\n",
       "      <td>2610.0</td>\n",
       "      <td>...</td>\n",
       "      <td>0.0</td>\n",
       "      <td>0.0</td>\n",
       "      <td>0.0</td>\n",
       "      <td>1.0</td>\n",
       "      <td>0.0</td>\n",
       "      <td>0.0</td>\n",
       "      <td>BKN</td>\n",
       "      <td>UNK</td>\n",
       "      <td>UNK</td>\n",
       "      <td>DESCENT</td>\n",
       "    </tr>\n",
       "  </tbody>\n",
       "</table>\n",
       "<p>3 rows × 27 columns</p>\n",
       "</div>"
      ],
      "text/plain": [
       "                        acft_make            acft_model  cert_max_gr_wt  \\\n",
       "0  BOEING                          747-100                     750000.0   \n",
       "1  CESSNA                          172                           2300.0   \n",
       "2  CESSNA                          207                           3800.0   \n",
       "\n",
       "  acft_category damage far_part  afm_hrs_last_insp type_fly dprt_state  \\\n",
       "0          AIR    MINR     121               113.0     UNK          JA   \n",
       "1          AIR    SUBS     091                40.0     PERS        UNK   \n",
       "2          AIR    SUBS     135                49.0     UNK          AK   \n",
       "\n",
       "   rwy_len  ...  inj_s_grnd Total_Fatal_Injuries Total_Minor_Injuries  \\\n",
       "0  11800.0  ...         0.0                  0.0                  0.0   \n",
       "1   6398.0  ...         0.0                  0.0                  0.0   \n",
       "2   2610.0  ...         0.0                  0.0                  0.0   \n",
       "\n",
       "  Total_Uninjured Total_Serious_Injuries  Total_Injuries_Flight  \\\n",
       "0             4.0                    0.0                    0.0   \n",
       "1             1.0                    0.0                    0.0   \n",
       "2             1.0                    0.0                    0.0   \n",
       "\n",
       "   sky_cond_ceil  sky_cond_nonceil  wx_int_precip  phase_flt_spec  \n",
       "0           NONE              SCAT            UNK         LANDING  \n",
       "1            BKN               UNK            LGT         UNKNOWN  \n",
       "2            BKN               UNK            UNK         DESCENT  \n",
       "\n",
       "[3 rows x 27 columns]"
      ]
     },
     "execution_count": 6,
     "metadata": {},
     "output_type": "execute_result"
    }
   ],
   "source": [
    "final_data.dropna(subset=['cert_max_gr_wt','afm_hrs_last_insp',\n",
    "                          'rwy_len','rwy_width'],inplace=True)\n",
    "final_data = final_data.reset_index(drop=True)\n",
    "final_data.update(final_data.fillna(\"UNK\"))\n",
    "phase_df = final_data.copy()\n",
    "final_data.head(3)"
   ]
  },
  {
   "cell_type": "code",
   "execution_count": 7,
   "id": "f4aac1a4",
   "metadata": {},
   "outputs": [
    {
     "data": {
      "text/html": [
       "<div>\n",
       "<style scoped>\n",
       "    .dataframe tbody tr th:only-of-type {\n",
       "        vertical-align: middle;\n",
       "    }\n",
       "\n",
       "    .dataframe tbody tr th {\n",
       "        vertical-align: top;\n",
       "    }\n",
       "\n",
       "    .dataframe thead th {\n",
       "        text-align: right;\n",
       "    }\n",
       "</style>\n",
       "<table border=\"1\" class=\"dataframe\">\n",
       "  <thead>\n",
       "    <tr style=\"text-align: right;\">\n",
       "      <th></th>\n",
       "      <th>index</th>\n",
       "      <th>Injury</th>\n",
       "    </tr>\n",
       "  </thead>\n",
       "  <tbody>\n",
       "    <tr>\n",
       "      <th>0</th>\n",
       "      <td>1</td>\n",
       "      <td>18750</td>\n",
       "    </tr>\n",
       "    <tr>\n",
       "      <th>1</th>\n",
       "      <td>0</td>\n",
       "      <td>16677</td>\n",
       "    </tr>\n",
       "  </tbody>\n",
       "</table>\n",
       "</div>"
      ],
      "text/plain": [
       "   index  Injury\n",
       "0      1   18750\n",
       "1      0   16677"
      ]
     },
     "execution_count": 7,
     "metadata": {},
     "output_type": "execute_result"
    }
   ],
   "source": [
    "#we want to account for ALL injuries. This includes injuries on the ground as well as passangers\n",
    "#Here we will make a new column that shows total injuries including ground ones\n",
    "final_data['Total_Injuries_Ground'] = final_data['inj_f_grnd']+final_data['inj_m_grnd']+final_data['inj_s_grnd']\n",
    "final_data['Total_Injuries'] = final_data['Total_Injuries_Ground']+final_data['Total_Injuries_Flight']\n",
    "final_data['Injury'] = np.where(final_data['Total_Injuries'] >0,1,0)\n",
    "injuries = final_data[\"Injury\"].value_counts().reset_index()\n",
    "injuries.head(3)"
   ]
  },
  {
   "cell_type": "code",
   "execution_count": 8,
   "id": "01a2367c",
   "metadata": {},
   "outputs": [],
   "source": [
    "final_df = final_data.copy()\n",
    "#Since we added up all of our injuries we don't need the other columns that include injury count since it will be colinear to our prediction variable\n",
    "final_df = final_df.drop(['Total_Fatal_Injuries','Total_Serious_Injuries','Total_Minor_Injuries',\n",
    "                          'Total_Uninjured','Total_Injuries_Flight','inj_f_grnd','inj_m_grnd',\n",
    "                          'inj_s_grnd','Total_Injuries_Ground',\"Total_Injuries\"],axis = 1)\n",
    "final_df = final_df.reset_index(drop=True)"
   ]
  },
  {
   "cell_type": "markdown",
   "id": "f0886957",
   "metadata": {},
   "source": [
    "#### Preprocessing and Final Dataset description for Binary Classification: `Injury` \n",
    "\n",
    "We fixed the levels of columns that should have been grouped together for the `damage` predictor. We fixed the levels of the `ev_city`, by making all the city names uppercase so they would be grouped together. Then, we took the subset of the continuous predictors: `cert_max_gr_wt`,`afm_hrs_last_insp`,`rwy_len`, and `rwy_width` and removed all the NAs. We were left with approximately 35,000 rows that would be usable for prediction.\n",
    "\n",
    "The NTSB database allowed use to include ground injuries in addition to flight injuries. So we renamed the columns, replaced the NAs in these columns with 0 and summed all them to get a total injuries column. We wanted to only include the total injuries and drop the other types of injury columns. From there, we converted the total injuries column to a binary variable for classification. If the total injuries were greater than 1, it is considered injured and less than 1 is uninjured. Our last step was to impute all the NA's for the categorical values with an unknown value called `UNK` In all, we are left with the dataframe `final_df` which consisted of 21 columns and 35,427 observations. \n",
    "\n",
    "Of the total 35,427 observations, 18750 observations were reported as injured and 16677 were reported as uninjured. This column called `Injury` is the response variable, we would like to predict for the classification problem.\n",
    "\n",
    "Our final preprocess method was one-hot encoding our categorical variables. We did not standardize and scale continuous predictors. We did this, because standardizing and scaling some predictors may result in the loss of information. For example, there may be certain aircraft weights (cert_max_gr_wt) where that weight is important in classifying whether or not an incident/accident resulted in an injury.  "
   ]
  },
  {
   "cell_type": "code",
   "execution_count": 9,
   "id": "a49d42a6",
   "metadata": {},
   "outputs": [],
   "source": [
    "injury_df = final_df.copy()"
   ]
  },
  {
   "cell_type": "markdown",
   "id": "5230439b",
   "metadata": {},
   "source": [
    "**Our final dataframe for classifying `Injury` is called `injury_df`**"
   ]
  },
  {
   "cell_type": "code",
   "execution_count": 10,
   "id": "895911e5",
   "metadata": {
    "scrolled": true
   },
   "outputs": [
    {
     "name": "stdout",
     "output_type": "stream",
     "text": [
      "<class 'pandas.core.frame.DataFrame'>\n",
      "RangeIndex: 35427 entries, 0 to 35426\n",
      "Data columns (total 20 columns):\n",
      " #   Column             Non-Null Count  Dtype  \n",
      "---  ------             --------------  -----  \n",
      " 0   acft_make          35427 non-null  object \n",
      " 1   acft_model         35427 non-null  object \n",
      " 2   cert_max_gr_wt     35427 non-null  float64\n",
      " 3   acft_category      35427 non-null  object \n",
      " 4   damage             35427 non-null  object \n",
      " 5   far_part           35427 non-null  object \n",
      " 6   afm_hrs_last_insp  35427 non-null  float64\n",
      " 7   type_fly           35427 non-null  object \n",
      " 8   dprt_state         35427 non-null  object \n",
      " 9   rwy_len            35427 non-null  float64\n",
      " 10  rwy_width          35427 non-null  float64\n",
      " 11  ev_type            35427 non-null  object \n",
      " 12  ev_city            35427 non-null  object \n",
      " 13  ev_state           35427 non-null  object \n",
      " 14  ev_country         35427 non-null  object \n",
      " 15  sky_cond_ceil      35427 non-null  object \n",
      " 16  sky_cond_nonceil   35427 non-null  object \n",
      " 17  wx_int_precip      35427 non-null  object \n",
      " 18  phase_flt_spec     35427 non-null  object \n",
      " 19  Injury             35427 non-null  int32  \n",
      "dtypes: float64(4), int32(1), object(15)\n",
      "memory usage: 5.3+ MB\n"
     ]
    }
   ],
   "source": [
    "injury_df.info()"
   ]
  },
  {
   "cell_type": "markdown",
   "id": "0b35149a",
   "metadata": {},
   "source": [
    "Now we will one hot encode `injury_df` so they can be used in our models.\n",
    "\n",
    "1. For classification of `Injury`, the our X and y are called `inj_X` and `inj_y`. "
   ]
  },
  {
   "cell_type": "code",
   "execution_count": 11,
   "id": "a5921ee0",
   "metadata": {},
   "outputs": [],
   "source": [
    "inj_X = injury_df.drop(\"Injury\", axis = 1).copy()\n",
    "inj_y = injury_df[\"Injury\"].copy()"
   ]
  },
  {
   "cell_type": "markdown",
   "id": "4d7b051c",
   "metadata": {},
   "source": [
    "#### One-Hot Encoding `inj_X` and `inj_y`"
   ]
  },
  {
   "cell_type": "code",
   "execution_count": 12,
   "id": "4974ded1",
   "metadata": {},
   "outputs": [],
   "source": [
    "from sklearn.preprocessing import OneHotEncoder, StandardScaler\n",
    "from sklearn.pipeline import Pipeline\n",
    "from sklearn.compose import ColumnTransformer\n",
    "numeric_features = ['cert_max_gr_wt',\"afm_hrs_last_insp\",\"rwy_width\",'rwy_len']\n",
    "\n",
    "numeric_transformer = Pipeline(steps=[('scaler', StandardScaler(with_mean=False))])\n",
    "\n",
    "categorical_features = ['acft_make', 'acft_model', 'acft_category', 'damage', 'type_fly', 'dprt_state','ev_type', 'ev_state', 'sky_cond_ceil', 'sky_cond_nonceil', 'wx_int_precip', 'phase_flt_spec','ev_city','ev_country','far_part']\n",
    "\n",
    "\n",
    "categorical_transformer = Pipeline(steps=[('onehot', OneHotEncoder(drop=\"first\"))])\n",
    "\n",
    "\n",
    "preprocessor = ColumnTransformer(\n",
    "    transformers=[\n",
    "        ('num', numeric_transformer, numeric_features),\n",
    "        ('cat', categorical_transformer, categorical_features)])\n",
    "\n",
    "inj_pipeline = Pipeline(steps=[('preprocessor', preprocessor)])"
   ]
  },
  {
   "cell_type": "code",
   "execution_count": 13,
   "id": "a9ed5bab",
   "metadata": {},
   "outputs": [],
   "source": [
    "inj_X = inj_pipeline.fit_transform(inj_X)"
   ]
  },
  {
   "cell_type": "code",
   "execution_count": 14,
   "id": "b3204f50",
   "metadata": {},
   "outputs": [
    {
     "data": {
      "text/plain": [
       "<35427x18468 sparse matrix of type '<class 'numpy.float64'>'\n",
       "\twith 587128 stored elements in Compressed Sparse Row format>"
      ]
     },
     "execution_count": 14,
     "metadata": {},
     "output_type": "execute_result"
    }
   ],
   "source": [
    "inj_X"
   ]
  },
  {
   "cell_type": "markdown",
   "id": "c723aad5",
   "metadata": {},
   "source": [
    "#### Label encoding `inj_y`"
   ]
  },
  {
   "cell_type": "code",
   "execution_count": 17,
   "id": "1c0832d2",
   "metadata": {
    "scrolled": true
   },
   "outputs": [
    {
     "data": {
      "text/plain": [
       "array([0, 0, 0, ..., 1, 1, 1], dtype=int64)"
      ]
     },
     "execution_count": 17,
     "metadata": {},
     "output_type": "execute_result"
    }
   ],
   "source": [
    "from sklearn.preprocessing import LabelEncoder\n",
    "LE = LabelEncoder()\n",
    "LE.fit(inj_y)\n",
    "inj_y = LE.transform(inj_y)\n",
    "inj_y"
   ]
  },
  {
   "cell_type": "markdown",
   "id": "9262a0b7",
   "metadata": {},
   "source": [
    "### 1b. Data Preparation for predicting the Phase of Flight"
   ]
  },
  {
   "cell_type": "code",
   "execution_count": 18,
   "id": "e21d81c4",
   "metadata": {},
   "outputs": [
    {
     "data": {
      "text/plain": [
       "LANDING        16743\n",
       "TAKEOFF         5776\n",
       "APPROACH        3300\n",
       "DESCENT         2995\n",
       "MANEUVERING     1569\n",
       "CRUISE          1218\n",
       "CLIMB            923\n",
       "TAXI             741\n",
       "STANDING         393\n",
       "GOAROUND         301\n",
       "HOVER             94\n",
       "Name: phase_flt_spec, dtype: int64"
      ]
     },
     "execution_count": 18,
     "metadata": {},
     "output_type": "execute_result"
    }
   ],
   "source": [
    "#Removed columns that contain UNKNOWN, UNK and OTHER factor levels\n",
    "new_phase_df = phase_df[(phase_df['phase_flt_spec'] != \"UNKNOWN\") & (phase_df['phase_flt_spec'] != \"UNK\") & (phase_df['phase_flt_spec'] != \"OTHER\")].copy()\n",
    "new_phase_df[\"phase_flt_spec\"].value_counts()"
   ]
  },
  {
   "cell_type": "code",
   "execution_count": 19,
   "id": "3fddc0bc",
   "metadata": {},
   "outputs": [],
   "source": [
    "new_phase_df.reset_index(drop=True,inplace=True)"
   ]
  },
  {
   "cell_type": "code",
   "execution_count": 20,
   "id": "53f2988a",
   "metadata": {
    "scrolled": true
   },
   "outputs": [],
   "source": [
    "new_phase_df[\"phase_flt_spec\"] = new_phase_df[\"phase_flt_spec\"].replace({\"APPROACH\":1,\"CLIMB\":2,\n",
    "                                                                         \"CRUISE\":3,\"DESCENT\":4,\n",
    "                                                                         \"GOAROUND\":5,\"HOVER\":6,\n",
    "                                                                         \"LANDING\":7,\"MANEUVERING\":8,\n",
    "                                                                         \"STANDING\":9,\"TAKEOFF\":10,\n",
    "                                                                         \"TAXI\":11})"
   ]
  },
  {
   "cell_type": "markdown",
   "id": "19d7cd2b",
   "metadata": {},
   "source": [
    "#### Preprocessing and Final Dataset description for Multiclass Classification: `phase_flt_spec` \n",
    "\n",
    "\n",
    "The response variable for the second classification problem is called `phase_flt_spec`. This variable is the broad phase of flight where an incident has occurred. So there are three factor levels that were removed called `UNKNOWN`, `UNK` and `OTHER`, because we would like to predict specific broad phases of flights where aviation accidents occured. Additionally, we wanted to include the several injury columns in this dataframe because it may be important in predicting the broad phase. inj_f_grnd, inj_m_grnd, and inj_s_grnd represent the number of minor, fatal and serious ground injuries. Total_Fatal_Injuries, Total_Minor_Injuries, Total_Serious_Injuries correspond to the number of injuries occured that were serious, minor, or fatal on the flight. The Total_Uninjured correspond to the total number of uninjured people on the flight and Total_Injuries_Flight correspond to the total number of injuries that have occured on the flight. So we are left with 26 predictors and 35,427 instances. The response variable has 11 factor levels for each broad phase of flight which have been coded to integers. Shown here:\n",
    "\n",
    "|phase_flt_spec||Code|\n",
    "|----||----|\n",
    "|APPROACH||1|\n",
    "|CLIMB||2|\n",
    "|CRUISE||3|\n",
    "|DESCENT||4|\n",
    "|GOAROUND||5|\n",
    "|HOVER||6|\n",
    "|LANDING||7|\n",
    "|MANEUVERING||8|\n",
    "|STANDING||9|\n",
    "|TAKEOFF||10|\n",
    "|TAXI||11|\n",
    "\n",
    "Our final preprocess method was one-hot encoding our categorical variables. We did not standardize and scale continuous predictors for the same reasons before. Certain aircraft weights (cert_max_gr_wt) and runway widths (rwy_width) may be more prone to causing an incident/accident at a specific phase of flight."
   ]
  },
  {
   "cell_type": "markdown",
   "id": "c14e1079",
   "metadata": {},
   "source": [
    "**The final dataframe for classifying `phase_flt_spec` is called `new_phase_df`**"
   ]
  },
  {
   "cell_type": "code",
   "execution_count": 21,
   "id": "d2c9697f",
   "metadata": {
    "scrolled": false
   },
   "outputs": [
    {
     "name": "stdout",
     "output_type": "stream",
     "text": [
      "<class 'pandas.core.frame.DataFrame'>\n",
      "RangeIndex: 34053 entries, 0 to 34052\n",
      "Data columns (total 27 columns):\n",
      " #   Column                  Non-Null Count  Dtype  \n",
      "---  ------                  --------------  -----  \n",
      " 0   acft_make               34053 non-null  object \n",
      " 1   acft_model              34053 non-null  object \n",
      " 2   cert_max_gr_wt          34053 non-null  float64\n",
      " 3   acft_category           34053 non-null  object \n",
      " 4   damage                  34053 non-null  object \n",
      " 5   far_part                34053 non-null  object \n",
      " 6   afm_hrs_last_insp       34053 non-null  float64\n",
      " 7   type_fly                34053 non-null  object \n",
      " 8   dprt_state              34053 non-null  object \n",
      " 9   rwy_len                 34053 non-null  float64\n",
      " 10  rwy_width               34053 non-null  float64\n",
      " 11  ev_type                 34053 non-null  object \n",
      " 12  ev_city                 34053 non-null  object \n",
      " 13  ev_state                34053 non-null  object \n",
      " 14  ev_country              34053 non-null  object \n",
      " 15  inj_f_grnd              34053 non-null  float64\n",
      " 16  inj_m_grnd              34053 non-null  float64\n",
      " 17  inj_s_grnd              34053 non-null  float64\n",
      " 18  Total_Fatal_Injuries    34053 non-null  float64\n",
      " 19  Total_Minor_Injuries    34053 non-null  float64\n",
      " 20  Total_Uninjured         34053 non-null  float64\n",
      " 21  Total_Serious_Injuries  34053 non-null  float64\n",
      " 22  Total_Injuries_Flight   34053 non-null  float64\n",
      " 23  sky_cond_ceil           34053 non-null  object \n",
      " 24  sky_cond_nonceil        34053 non-null  object \n",
      " 25  wx_int_precip           34053 non-null  object \n",
      " 26  phase_flt_spec          34053 non-null  int64  \n",
      "dtypes: float64(12), int64(1), object(14)\n",
      "memory usage: 7.0+ MB\n"
     ]
    }
   ],
   "source": [
    "new_phase_df.info()"
   ]
  },
  {
   "cell_type": "markdown",
   "id": "af82a891",
   "metadata": {},
   "source": [
    "Now we will one hot encode `new_phase_df` so they can be used in our models.\n",
    "\n",
    "2. For classfication of `phase_flt_spec` (Broad Phase of Flight), the X and y are called `phase_X` and `phase_y`"
   ]
  },
  {
   "cell_type": "code",
   "execution_count": 22,
   "id": "73153a01",
   "metadata": {},
   "outputs": [],
   "source": [
    "# new_phase_df = new_phase_df.drop('ev_state', axis = 1).copy()\n",
    "# new_phase_df = new_phase_df.drop('dprt_state', axis = 1).copy()\n",
    "new_phase_df = new_phase_df.drop('ev_city', axis = 1).copy()\n",
    "phase_X = new_phase_df.drop(\"phase_flt_spec\", axis = 1).copy()\n",
    "\n",
    "\n",
    "phase_y = new_phase_df[\"phase_flt_spec\"].copy()\n"
   ]
  },
  {
   "cell_type": "code",
   "execution_count": 23,
   "id": "be329fc9",
   "metadata": {},
   "outputs": [
    {
     "name": "stdout",
     "output_type": "stream",
     "text": [
      "<class 'pandas.core.frame.DataFrame'>\n",
      "RangeIndex: 34053 entries, 0 to 34052\n",
      "Data columns (total 26 columns):\n",
      " #   Column                  Non-Null Count  Dtype  \n",
      "---  ------                  --------------  -----  \n",
      " 0   acft_make               34053 non-null  object \n",
      " 1   acft_model              34053 non-null  object \n",
      " 2   cert_max_gr_wt          34053 non-null  float64\n",
      " 3   acft_category           34053 non-null  object \n",
      " 4   damage                  34053 non-null  object \n",
      " 5   far_part                34053 non-null  object \n",
      " 6   afm_hrs_last_insp       34053 non-null  float64\n",
      " 7   type_fly                34053 non-null  object \n",
      " 8   dprt_state              34053 non-null  object \n",
      " 9   rwy_len                 34053 non-null  float64\n",
      " 10  rwy_width               34053 non-null  float64\n",
      " 11  ev_type                 34053 non-null  object \n",
      " 12  ev_state                34053 non-null  object \n",
      " 13  ev_country              34053 non-null  object \n",
      " 14  inj_f_grnd              34053 non-null  float64\n",
      " 15  inj_m_grnd              34053 non-null  float64\n",
      " 16  inj_s_grnd              34053 non-null  float64\n",
      " 17  Total_Fatal_Injuries    34053 non-null  float64\n",
      " 18  Total_Minor_Injuries    34053 non-null  float64\n",
      " 19  Total_Uninjured         34053 non-null  float64\n",
      " 20  Total_Serious_Injuries  34053 non-null  float64\n",
      " 21  Total_Injuries_Flight   34053 non-null  float64\n",
      " 22  sky_cond_ceil           34053 non-null  object \n",
      " 23  sky_cond_nonceil        34053 non-null  object \n",
      " 24  wx_int_precip           34053 non-null  object \n",
      " 25  phase_flt_spec          34053 non-null  int64  \n",
      "dtypes: float64(12), int64(1), object(13)\n",
      "memory usage: 6.8+ MB\n"
     ]
    }
   ],
   "source": [
    "new_phase_df.info()"
   ]
  },
  {
   "cell_type": "code",
   "execution_count": 24,
   "id": "11919fa3",
   "metadata": {},
   "outputs": [],
   "source": [
    "from sklearn.preprocessing import OneHotEncoder, StandardScaler\n",
    "from sklearn.pipeline import Pipeline\n",
    "from sklearn.compose import ColumnTransformer\n",
    "numeric_features = ['cert_max_gr_wt',\"afm_hrs_last_insp\",\"rwy_width\",'rwy_len','inj_f_grnd','inj_m_grnd',\n",
    "                    'inj_s_grnd','Total_Fatal_Injuries','Total_Minor_Injuries','Total_Uninjured',\n",
    "                    'Total_Serious_Injuries','Total_Injuries_Flight']\n",
    "\n",
    "numeric_transformer = Pipeline(steps=[('scaler', StandardScaler(with_mean=False))])\n",
    "\n",
    "categorical_features = ['acft_make', 'acft_model', 'acft_category', 'damage', 'type_fly', 'dprt_state','ev_state', 'sky_cond_ceil', 'sky_cond_nonceil', 'wx_int_precip', 'ev_country','far_part']\n",
    "\n",
    "\n",
    "categorical_transformer = Pipeline(steps=[('onehot', OneHotEncoder(drop=\"first\"))])\n",
    "\n",
    "\n",
    "preprocessor = ColumnTransformer(\n",
    "    transformers=[\n",
    "        ('num', numeric_transformer, numeric_features),\n",
    "        ('cat', categorical_transformer, categorical_features)])\n",
    "\n",
    "phase_pipeline = Pipeline(steps=[('preprocessor', preprocessor)])"
   ]
  },
  {
   "cell_type": "code",
   "execution_count": 25,
   "id": "16cac3fa",
   "metadata": {},
   "outputs": [],
   "source": [
    "phase_X = phase_pipeline.fit_transform(phase_X)"
   ]
  },
  {
   "cell_type": "code",
   "execution_count": 26,
   "id": "39570880",
   "metadata": {
    "scrolled": true
   },
   "outputs": [
    {
     "data": {
      "text/plain": [
       "<34053x8831 sparse matrix of type '<class 'numpy.float64'>'\n",
       "\twith 555024 stored elements in Compressed Sparse Row format>"
      ]
     },
     "execution_count": 26,
     "metadata": {},
     "output_type": "execute_result"
    }
   ],
   "source": [
    "phase_X"
   ]
  },
  {
   "cell_type": "markdown",
   "id": "02d89495",
   "metadata": {},
   "source": [
    "#### One-Hot Encoding `phase_X` and `phase_y`"
   ]
  },
  {
   "cell_type": "code",
   "execution_count": 29,
   "id": "293d133f",
   "metadata": {},
   "outputs": [
    {
     "data": {
      "text/plain": [
       "array([6, 3, 0, ..., 4, 6, 9], dtype=int64)"
      ]
     },
     "execution_count": 29,
     "metadata": {},
     "output_type": "execute_result"
    }
   ],
   "source": [
    "from sklearn.preprocessing import LabelEncoder\n",
    "LE = LabelEncoder()\n",
    "LE.fit(phase_y)\n",
    "phase_y = LE.transform(phase_y)\n",
    "phase_y"
   ]
  },
  {
   "cell_type": "code",
   "execution_count": 30,
   "id": "e103bcae",
   "metadata": {
    "scrolled": true
   },
   "outputs": [
    {
     "data": {
      "text/plain": [
       "<34053x8831 sparse matrix of type '<class 'numpy.float64'>'\n",
       "\twith 555024 stored elements in Compressed Sparse Row format>"
      ]
     },
     "execution_count": 30,
     "metadata": {},
     "output_type": "execute_result"
    }
   ],
   "source": [
    "phase_X"
   ]
  },
  {
   "cell_type": "markdown",
   "id": "af900b5d",
   "metadata": {},
   "source": [
    "# Data Preparation Part 2"
   ]
  },
  {
   "cell_type": "markdown",
   "id": "ee853b8c",
   "metadata": {},
   "source": [
    "**Describe the final dataset that is used for classification/regression (include a description of any newly formed variables you created).**"
   ]
  },
  {
   "attachments": {
    "image.png": {
     "image/png": "[encoded data removed]"
    }
   },
   "cell_type": "markdown",
   "id": "f406dce8",
   "metadata": {},
   "source": [
    "![image.png](attachment:image.png)"
   ]
  },
  {
   "attachments": {
    "image.png": {
     "image/png": "[encoded data removed]"
    }
   },
   "cell_type": "markdown",
   "id": "c2bcb26e",
   "metadata": {},
   "source": [
    "![image.png](attachment:image.png)"
   ]
  },
  {
   "cell_type": "markdown",
   "id": "f330ef33",
   "metadata": {},
   "source": [
    "# Modeling and Evaluation 1"
   ]
  },
  {
   "cell_type": "markdown",
   "id": "8ea5a53c",
   "metadata": {},
   "source": [
    "**Choose and explain your evaluation metrics that you will use (i.e., accuracy, precision, recall, F-measure, or any metric we have discussed). Why are the measure(s) appropriate for analyzing the results of your modeling? Give a detailed explanation backing up any assertions.**"
   ]
  },
  {
   "cell_type": "markdown",
   "id": "86313ec4",
   "metadata": {},
   "source": [
    "The evaluation metrics chosen were accuracy, precision, and recall. The first problem is a binary classification to predict injury. The second is a multi-classification problem, classifying broad phase of flight.\n",
    "\n",
    "#### Accuracy\n",
    "Accuracy is the number of True Positives and True Negatives divided by the total number of predictions. This will be used to predict which model performs better at prediction.\n",
    "\n",
    "$Accuracy = \\frac{TruePositive + TrueNegative}{TruePositive + TrueNegative + FalsePositive + FalseNegative}$\n",
    "\n",
    "#### Precision\n",
    "Precision is the number of True Positives divided by the number of positive results predicted by the classifier.  It is used to measure the exactness of classifiers.\n",
    "\n",
    "$Precision = \\frac{TP}{PP}$\n",
    "\n",
    "#### Recall\n",
    "Recall is the number of positive predictions divided by the number of positive class values. It is a measure of a classifier completeness. A low recall indicates many false negatives.\n",
    "\n",
    "$Recall = \\frac{TP}{P}$\n",
    "\n",
    "\n",
    "### Injury Classification\n",
    "Since this is a binary classification, accuracy will be an important metric in predicting injury. We will use a grid search to improve and make our models more accurate. In addition to accuracy, Precision and recall will be used to choose our final model.\n",
    "\n",
    "\n",
    "### Phase of flight Classification\n",
    "Since this is a multi-class classification with an imbalanced dataset, precision and recall would be important metrics in predicting the phase of flight. Accuracy alone does not illustrate the full story when working with class-imbalanced problems. Accuracy is not a strong predictor for multi-class classification. Precision will be used to measure the exactness and recall will be used to measure the completeness of our model. \n"
   ]
  },
  {
   "cell_type": "markdown",
   "id": "02b648c9",
   "metadata": {},
   "source": [
    "# Modeling and Evaluation 2"
   ]
  },
  {
   "cell_type": "code",
   "execution_count": 31,
   "id": "f911e47f",
   "metadata": {},
   "outputs": [],
   "source": [
    "from sklearn.model_selection import StratifiedShuffleSplit \n",
    "cv_log = StratifiedShuffleSplit(n_splits=5,test_size=0.10, random_state=42)"
   ]
  },
  {
   "cell_type": "markdown",
   "id": "78028b89",
   "metadata": {},
   "source": [
    "**Choose the method you will use for dividing your data into training and\n",
    "testing splits (i.e., are you using Stratified 10-fold cross validation? Why?). Explain why\n",
    "your chosen method is appropriate or use more than one method as appropriate. For example, if you are using time series data then you should be using continuous training and testing sets across time.**\n",
    "\n",
    "\n",
    "\n",
    "For every model moving forward we used sklearn's StratifiedShuffleSplit. We chose 5 folds and test split percentage of 10% to improve the runtime of the models. This chosen method was especially important for multiclass classification because the folds are made by preserving the percentage of samples for each class."
   ]
  },
  {
   "cell_type": "markdown",
   "id": "65a7b077",
   "metadata": {},
   "source": [
    "# Modeling and Evaluation 3"
   ]
  },
  {
   "cell_type": "markdown",
   "id": "2569050a",
   "metadata": {},
   "source": [
    "The three models we choose are: KNN, Random Forest and Logistic Regression"
   ]
  },
  {
   "cell_type": "markdown",
   "id": "57784456",
   "metadata": {},
   "source": [
    "#### Logistic Regression for predicting `Injury`"
   ]
  },
  {
   "cell_type": "code",
   "execution_count": 32,
   "id": "8ebb4bc9",
   "metadata": {
    "scrolled": true
   },
   "outputs": [
    {
     "name": "stdout",
     "output_type": "stream",
     "text": [
      "====Iteration 0  ====\n",
      "accuracy: 0.8323454699407282\n",
      "====Iteration 1  ====\n",
      "accuracy: 0.820773355913068\n",
      "====Iteration 2  ====\n",
      "accuracy: 0.8151284222410387\n",
      "====Iteration 3  ====\n",
      "accuracy: 0.8185153824442563\n",
      "====Iteration 4  ====\n",
      "accuracy: 0.8210556025966695\n",
      "Wall time: 3.37 s\n"
     ]
    }
   ],
   "source": [
    "%%time\n",
    "from sklearn.linear_model import LogisticRegression\n",
    "from sklearn import metrics as mt\n",
    "import time\n",
    "lr_clf = LogisticRegression(solver='liblinear', penalty=\"l2\",max_iter=1000,random_state=42)\n",
    "iter_num=0\n",
    "for train_indices, test_indices in cv_log.split(inj_X,inj_y): \n",
    "#     start = time.time()\n",
    "#     elapsed_time = (time.time() - start)\n",
    "    X_train = inj_X[train_indices]\n",
    "    y_train = inj_y[train_indices]\n",
    "    \n",
    "    X_test = inj_X[test_indices]\n",
    "    y_test = inj_y[test_indices]\n",
    "    lr_clf.fit(X_train,y_train)  # train object\n",
    "\n",
    "    y_hat = lr_clf.predict(X_test) # get test set predictions\n",
    "    print(\"====Iteration\",iter_num,\" ====\")\n",
    "    acc = mt.accuracy_score(y_test,y_hat)\n",
    "    conf = mt.confusion_matrix(y_test,y_hat)\n",
    "    print('accuracy:', acc )\n",
    "#     print(conf )\n",
    "#     print('CV Time: ', elapsed_time)\n",
    "    iter_num+=1"
   ]
  },
  {
   "cell_type": "markdown",
   "id": "8e29f426",
   "metadata": {},
   "source": [
    "Grid Search for Injury: Logistic Regression"
   ]
  },
  {
   "cell_type": "code",
   "execution_count": 33,
   "id": "6f093f99",
   "metadata": {},
   "outputs": [
    {
     "name": "stdout",
     "output_type": "stream",
     "text": [
      "Fitting 5 folds for each of 6 candidates, totalling 30 fits\n",
      "Wall time: 21.1 s\n"
     ]
    },
    {
     "data": {
      "text/plain": [
       "GridSearchCV(cv=StratifiedShuffleSplit(n_splits=5, random_state=42, test_size=0.1,\n",
       "            train_size=None),\n",
       "             estimator=LogisticRegression(), n_jobs=8,\n",
       "             param_grid={'C': [0.001, 0.01, 0.1, 1, 10, 100],\n",
       "                         'class_weight': ['balanced'], 'max_iter': [1000],\n",
       "                         'penalty': ['l2'], 'random_state': [42],\n",
       "                         'solver': ['liblinear']},\n",
       "             scoring='accuracy', verbose=1)"
      ]
     },
     "execution_count": 33,
     "metadata": {},
     "output_type": "execute_result"
    }
   ],
   "source": [
    "%%time\n",
    "from sklearn.linear_model import LogisticRegression\n",
    "regEstimator = LogisticRegression()\n",
    "\n",
    "parameters = { 'penalty':['l2']\n",
    "              ,'C': [0.001, 0.01, 0.1, 1, 10, 100]\n",
    "              ,'class_weight': ['balanced']\n",
    "              ,'random_state': [42]\n",
    "              ,'solver': ['liblinear']\n",
    "              ,'max_iter':[1000]\n",
    "             }\n",
    "\n",
    "#Create a grid search object using the  \n",
    "from sklearn.model_selection import GridSearchCV\n",
    "inj_GridSearch = GridSearchCV(estimator=regEstimator\n",
    "                   , n_jobs=8 # jobs to run in parallel\n",
    "                   , verbose=1 # low verbosity\n",
    "                   , param_grid=parameters\n",
    "                   , cv=cv_log # KFolds = 5\n",
    "                   , scoring='accuracy')\n",
    "\n",
    "#Perform hyperparameter search to find the best combination of parameters for our data\n",
    "inj_GridSearch.fit(inj_X, inj_y)"
   ]
  },
  {
   "cell_type": "code",
   "execution_count": 34,
   "id": "4197979c",
   "metadata": {},
   "outputs": [
    {
     "data": {
      "text/plain": [
       "LogisticRegression(C=0.1, class_weight='balanced', max_iter=1000,\n",
       "                   random_state=42, solver='liblinear')"
      ]
     },
     "execution_count": 34,
     "metadata": {},
     "output_type": "execute_result"
    }
   ],
   "source": [
    "inj_GridSearch.best_estimator_"
   ]
  },
  {
   "cell_type": "code",
   "execution_count": 94,
   "id": "5204f33c",
   "metadata": {
    "scrolled": true
   },
   "outputs": [
    {
     "name": "stdout",
     "output_type": "stream",
     "text": [
      "{'C': 0.1, 'class_weight': 'balanced', 'max_iter': 1000, 'penalty': 'l2', 'random_state': 42, 'solver': 'liblinear'}\n"
     ]
    }
   ],
   "source": [
    "print(inj_GridSearch.best_params_)"
   ]
  },
  {
   "cell_type": "code",
   "execution_count": 36,
   "id": "e814569a",
   "metadata": {
    "scrolled": false
   },
   "outputs": [
    {
     "name": "stdout",
     "output_type": "stream",
     "text": [
      "Best Score - LogisticReg: 0.827321478972622\n"
     ]
    }
   ],
   "source": [
    "print('Best Score - LogisticReg:', inj_GridSearch.best_score_ )"
   ]
  },
  {
   "cell_type": "markdown",
   "id": "d870f14c",
   "metadata": {},
   "source": [
    "#### Logistic Regression for predicting `phase_flt_spec`"
   ]
  },
  {
   "cell_type": "code",
   "execution_count": 140,
   "id": "fa983793",
   "metadata": {
    "scrolled": true
   },
   "outputs": [
    {
     "name": "stdout",
     "output_type": "stream",
     "text": [
      "====Iteration 0  ====\n",
      "accuracy: 0.5540223135642983\n",
      "[[  58    0    2   26    0    0  209    5    1   29    0]\n",
      " [   1   18    0   16    0    0   51    0    0    6    0]\n",
      " [   4    0    9   24    0    0   62    9    0   14    0]\n",
      " [  27   12    1   68    0    1  130   27    1   33    0]\n",
      " [   0    0    0    3    0    0   24    1    0    2    0]\n",
      " [   0    0    2    1    0    0    4    2    0    0    0]\n",
      " [  16    4    1   21    1    0 1532   11    1   88    0]\n",
      " [   8    0    4   27    0    0   63   34    0   21    0]\n",
      " [   2    3    1    3    0    0   20    3    1    6    0]\n",
      " [  17    6    0   19    0    0  363    5    2  166    0]\n",
      " [   2    0    1    1    0    0   63    0    0    6    1]]\n",
      "====Iteration 1  ====\n",
      "accuracy: 0.5375807398708162\n",
      "[[  50    2    1   27    0    0  216    9    1   24    0]\n",
      " [   3   20    0   27    0    0   37    0    0    5    0]\n",
      " [   3    0   11   20    0    0   61   16    1   10    0]\n",
      " [  19   11    6   67    0    0  144   13    0   40    0]\n",
      " [   3    0    0    0    0    0   24    0    0    3    0]\n",
      " [   0    0    1    2    0    0    6    0    0    0    0]\n",
      " [  16   10    0   22    0    1 1493    8    0  124    1]\n",
      " [  11    1    2   38    0    0   52   34    0   19    0]\n",
      " [   2    1    1    6    0    0   20    0    1    8    0]\n",
      " [  16    3    2   15    0    1  381    5    0  155    0]\n",
      " [   1    0    1    0    0    0   65    0    1    6    0]]\n",
      "====Iteration 2  ====\n",
      "accuracy: 0.549618320610687\n",
      "[[  65    0    5   19    0    0  213    2    0   26    0]\n",
      " [   2   20    0   19    0    0   43    1    0    7    0]\n",
      " [   7    1    5   16    0    0   75    8    0   10    0]\n",
      " [  24   10    9   78    0    0  127   18    1   33    0]\n",
      " [   0    2    0    2    0    0   25    0    0    1    0]\n",
      " [   0    0    0    1    0    0    7    0    0    1    0]\n",
      " [  18   10    3   20    0    0 1527    8    1   88    0]\n",
      " [   7    0    3   23    0    2   74   30    0   18    0]\n",
      " [   1    2    1    4    0    0   26    0    0    5    0]\n",
      " [  13    1    2   26    0    0  380    9    0  146    1]\n",
      " [   1    0    1    0    0    0   65    1    0    5    1]]\n",
      "====Iteration 3  ====\n",
      "accuracy: 0.533176746917205\n",
      "[[  58    5    1   21    0    0  203    9    1   32    0]\n",
      " [   2   14    0   20    0    0   47    1    1    7    0]\n",
      " [   7    0    7   22    0    0   66   10    0   10    0]\n",
      " [  28   19    9   60    0    0  120   19    0   45    0]\n",
      " [   1    0    0    4    0    0   21    1    0    3    0]\n",
      " [   0    0    0    2    0    1    5    1    0    0    0]\n",
      " [  23   12    2   30    0    0 1496   15    0   97    0]\n",
      " [   5    2    1   24    0    1   70   32    0   22    0]\n",
      " [   2    1    1    2    0    0   27    1    0    5    0]\n",
      " [  10    4    1   22    0    2  383    7    1  148    0]\n",
      " [   1    0    1    0    0    0   66    0    1    5    0]]\n",
      "====Iteration 4  ====\n",
      "accuracy: 0.5560775102759835\n",
      "[[  63    2    2   29    0    0  189    6    0   39    0]\n",
      " [   4   15    0   16    0    0   51    0    0    6    0]\n",
      " [   7    0   10   16    0    0   67   15    0    7    0]\n",
      " [  15   14    9   66    0    0  135   30    0   31    0]\n",
      " [   0    1    0    3    2    0   21    1    0    2    0]\n",
      " [   0    0    0    1    0    1    7    0    0    0    0]\n",
      " [  22    7    3   23    1    1 1528   12    0   77    1]\n",
      " [   9    0    2   38    0    0   53   37    0   18    0]\n",
      " [   2    2    1    2    0    0   24    0    0    7    1]\n",
      " [  16    2    0   11    0    0  373    5    0  170    1]\n",
      " [   1    0    0    0    0    0   65    0    0    6    2]]\n"
     ]
    }
   ],
   "source": [
    "from sklearn.linear_model import LogisticRegression\n",
    "from sklearn.preprocessing import StandardScaler\n",
    "from sklearn import metrics as mt\n",
    "import time\n",
    "lr_phase = LogisticRegression(solver='liblinear', penalty=\"l2\",max_iter=1000,random_state=42)\n",
    "# scl_obj = StandardScaler()\n",
    "# scl_obj.fit(X_train)\n",
    "iter_num=0\n",
    "for train_indices, test_indices in cv_log.split(phase_X,phase_y): \n",
    "    X_train = phase_X[train_indices]\n",
    "    y_train = phase_y[train_indices]\n",
    "    \n",
    "    X_test = phase_X[test_indices]\n",
    "    y_test = phase_y[test_indices]\n",
    "#     scl_obj.fit(X_train)\n",
    "#     X_train_scaled = scl_obj.transform(X_train) # apply to training\n",
    "#     X_test_scaled = scl_obj.transform(X_test)\n",
    "    lr_phase.fit(X_train,y_train)  # train object\n",
    "\n",
    "    y_hat = lr_phase.predict(X_test) # get test set predictions\n",
    "    print(\"====Iteration\",iter_num,\" ====\")\n",
    "    acc = mt.accuracy_score(y_test,y_hat)\n",
    "    conf = mt.confusion_matrix(y_test,y_hat)\n",
    "    print('accuracy:', acc )\n",
    "    print(conf )\n",
    "    iter_num+=1"
   ]
  },
  {
   "cell_type": "code",
   "execution_count": 141,
   "id": "aed7fbf6",
   "metadata": {},
   "outputs": [],
   "source": [
    "log_phase_y = y_hat"
   ]
  },
  {
   "cell_type": "code",
   "execution_count": 38,
   "id": "9fc5e6b1",
   "metadata": {},
   "outputs": [
    {
     "name": "stdout",
     "output_type": "stream",
     "text": [
      "Fitting 5 folds for each of 6 candidates, totalling 30 fits\n",
      "Wall time: 12min 50s\n"
     ]
    },
    {
     "data": {
      "text/plain": [
       "GridSearchCV(cv=StratifiedShuffleSplit(n_splits=5, random_state=42, test_size=0.1,\n",
       "            train_size=None),\n",
       "             estimator=LogisticRegression(), n_jobs=8,\n",
       "             param_grid={'C': [0.001, 0.01, 0.1, 1, 10, 100],\n",
       "                         'class_weight': ['balanced'], 'max_iter': [1000],\n",
       "                         'penalty': ['l2'], 'random_state': [42],\n",
       "                         'solver': ['liblinear']},\n",
       "             scoring='accuracy', verbose=1)"
      ]
     },
     "execution_count": 38,
     "metadata": {},
     "output_type": "execute_result"
    }
   ],
   "source": [
    "%%time\n",
    "from sklearn.linear_model import LogisticRegression\n",
    "regEstimator = LogisticRegression()\n",
    "\n",
    "parameters = { 'penalty':['l2']\n",
    "              ,'C': [0.001, 0.01, 0.1, 1, 10, 100]\n",
    "              ,'class_weight': ['balanced']\n",
    "              ,'random_state': [42]\n",
    "              ,'solver': ['liblinear']\n",
    "              ,'max_iter':[1000]\n",
    "             }\n",
    "\n",
    "#Create a grid search object using the  \n",
    "from sklearn.model_selection import GridSearchCV\n",
    "phase_GridSearch = GridSearchCV(estimator=regEstimator\n",
    "                   , n_jobs=8 # jobs to run in parallel\n",
    "                   , verbose=1 # low verbosity\n",
    "                   , param_grid=parameters\n",
    "                   , cv=cv_log # KFolds = 5\n",
    "                   , scoring='accuracy')\n",
    "\n",
    "#Perform hyperparameter search to find the best combination of parameters for our data\n",
    "phase_GridSearch.fit(phase_X, phase_y)"
   ]
  },
  {
   "cell_type": "code",
   "execution_count": 39,
   "id": "7f34873e",
   "metadata": {},
   "outputs": [
    {
     "data": {
      "text/plain": [
       "LogisticRegression(C=0.001, class_weight='balanced', max_iter=1000,\n",
       "                   random_state=42, solver='liblinear')"
      ]
     },
     "execution_count": 39,
     "metadata": {},
     "output_type": "execute_result"
    }
   ],
   "source": [
    "phase_GridSearch.best_estimator_"
   ]
  },
  {
   "cell_type": "code",
   "execution_count": 40,
   "id": "562a8f85",
   "metadata": {
    "scrolled": false
   },
   "outputs": [
    {
     "name": "stdout",
     "output_type": "stream",
     "text": [
      "Best Score - LogisticReg: 0.4471520845566648\n"
     ]
    }
   ],
   "source": [
    "print('Best Score - LogisticReg:', phase_GridSearch.best_score_ )"
   ]
  },
  {
   "cell_type": "code",
   "execution_count": 127,
   "id": "fbe6b80a",
   "metadata": {},
   "outputs": [],
   "source": [
    "phase_log_grid = LogisticRegression(C=0.001, class_weight='balanced', max_iter=1000,\n",
    "                   random_state=42, solver='liblinear')"
   ]
  },
  {
   "cell_type": "markdown",
   "id": "97b7ca46",
   "metadata": {},
   "source": [
    "#### KNN for Injury"
   ]
  },
  {
   "cell_type": "code",
   "execution_count": 43,
   "id": "860df217",
   "metadata": {},
   "outputs": [
    {
     "name": "stdout",
     "output_type": "stream",
     "text": [
      "KNN accuracy 0.5892680723741779\n",
      "KNN precision 0.8166189111747851\n",
      "KNN confusion_matrix [[15461  1216]\n",
      " [13335  5415]]\n",
      "Wall time: 22.9 s\n"
     ]
    }
   ],
   "source": [
    "%%time\n",
    "from sklearn.neighbors import KNeighborsClassifier\n",
    "from sklearn.model_selection import StratifiedKFold\n",
    "from sklearn.preprocessing import StandardScaler\n",
    "import numpy as np\n",
    "from sklearn import metrics as mt\n",
    "\n",
    "yhat = np.zeros(inj_y.shape) # we will fill this with predictions\n",
    "\n",
    "# create cross validation iterator\n",
    "#cv = StratifiedKFold(n_splits=10)\n",
    "\n",
    "# get a handle to the classifier object, which defines the type\n",
    "clf = KNeighborsClassifier(n_neighbors=3)\n",
    "\n",
    "# now iterate through and get predictions, saved to the correct row in yhat\n",
    "# NOTE: you can parallelize this using the cross_val_predict method\n",
    "for train, test in cv_log.split(inj_X,inj_y):\n",
    "    clf.fit(inj_X[train],inj_y[train])\n",
    "    yhat[test] = clf.predict(inj_X[test])\n",
    "\n",
    "total_accuracy = mt.accuracy_score(inj_y, yhat)\n",
    "print ('KNN accuracy', total_accuracy)\n",
    "total_precision = mt.precision_score(inj_y, yhat)\n",
    "print ('KNN precision', total_precision)\n",
    "total_confusion_matrix = mt.confusion_matrix(inj_y, yhat)\n",
    "print ('KNN confusion_matrix', total_confusion_matrix)"
   ]
  },
  {
   "cell_type": "code",
   "execution_count": 75,
   "id": "4fbb514f",
   "metadata": {},
   "outputs": [
    {
     "name": "stdout",
     "output_type": "stream",
     "text": [
      "Fitting 5 folds for each of 60 candidates, totalling 300 fits\n",
      "Wall time: 19min 4s\n"
     ]
    },
    {
     "data": {
      "text/plain": [
       "GridSearchCV(cv=StratifiedShuffleSplit(n_splits=5, random_state=42, test_size=0.1,\n",
       "            train_size=None),\n",
       "             estimator=KNeighborsClassifier(), n_jobs=-1,\n",
       "             param_grid={'leaf_size': (20, 40, 1),\n",
       "                         'n_neighbors': [3, 5, 7, 9, 13], 'p': (1, 2),\n",
       "                         'weights': ['uniform', 'distance']},\n",
       "             scoring='accuracy', verbose=1)"
      ]
     },
     "execution_count": 75,
     "metadata": {},
     "output_type": "execute_result"
    }
   ],
   "source": [
    "%%time\n",
    "#Create KNN Classifier\n",
    "#random state is not something you can use as a parameter in KNN random state set on CV object\n",
    "inj_knn_params = {\n",
    "    \"n_neighbors\": [3,5,7,9,13],\n",
    "    \"weights\": [\"uniform\", \"distance\"],\n",
    "    'leaf_size': (20,40,1),\n",
    "    'p': (1,2),\n",
    "#    'metric': ('minkowski', 'chebyshev'),\n",
    "    }\n",
    "\n",
    "inj_knn_grid = GridSearchCV(estimator = KNeighborsClassifier(),\n",
    "                               n_jobs = -1,\n",
    "                               verbose = 1,\n",
    "                               param_grid = inj_knn_params,\n",
    "                               cv = cv_log,\n",
    "                               scoring = 'accuracy')\n",
    "\n",
    "inj_knn_grid.fit(inj_X,inj_y)"
   ]
  },
  {
   "cell_type": "code",
   "execution_count": 76,
   "id": "8c3fbec4",
   "metadata": {
    "scrolled": true
   },
   "outputs": [
    {
     "data": {
      "text/plain": [
       "{'leaf_size': 20, 'n_neighbors': 13, 'p': 1, 'weights': 'distance'}"
      ]
     },
     "execution_count": 76,
     "metadata": {},
     "output_type": "execute_result"
    }
   ],
   "source": [
    "inj_knn_grid.best_params_"
   ]
  },
  {
   "cell_type": "code",
   "execution_count": 77,
   "id": "7b8bb93e",
   "metadata": {
    "scrolled": true
   },
   "outputs": [
    {
     "name": "stdout",
     "output_type": "stream",
     "text": [
      "Best Score - KNN: 0.7887101326559413\n"
     ]
    }
   ],
   "source": [
    "print('Best Score - KNN:', inj_knn_grid.best_score_ )"
   ]
  },
  {
   "cell_type": "markdown",
   "id": "6c752697",
   "metadata": {},
   "source": [
    "#### KNN for Phase of flight"
   ]
  },
  {
   "cell_type": "code",
   "execution_count": 152,
   "id": "d72be654",
   "metadata": {},
   "outputs": [
    {
     "name": "stdout",
     "output_type": "stream",
     "text": [
      "KNN accuracy 0.24975773059642323\n",
      "KNN precision 0.24975773059642323\n",
      "KNN confusion_matrix [[ 2355    23    38   121    13     1   611    21     3   111     3]\n",
      " [  562   153     2    74     3     0   102     3     3    18     3]\n",
      " [  772     7    95    73     1     1   203    16     1    48     1]\n",
      " [ 1976   104   127   232    10     2   373    55     3   111     2]\n",
      " [  193     6     4     9    11     0    64     0     0    14     0]\n",
      " [   63     1     1     7     0     7    14     0     0     1     0]\n",
      " [10474   134   180   316    51     4  4858    52     3   644    27]\n",
      " [  997    18    64   131     0     3   213    89     0    54     0]\n",
      " [  256    25     5    22     1     1    56     5     4    16     2]\n",
      " [ 3650    59    84   147    11     2  1114    19     1   682     7]\n",
      " [  463    11    13    13     1     0   185     1     1    34    19]]\n",
      "Wall time: 41.1 s\n"
     ]
    }
   ],
   "source": [
    "%%time\n",
    "from sklearn.neighbors import KNeighborsClassifier\n",
    "from sklearn.model_selection import StratifiedKFold\n",
    "from sklearn.preprocessing import StandardScaler\n",
    "from sklearn.model_selection import cross_val_score\n",
    "from sklearn.metrics import roc_curve\n",
    "from sklearn.metrics import auc\n",
    "import numpy as np\n",
    "from sklearn import metrics as mt\n",
    "\n",
    "yhat = np.zeros(phase_y.shape) # we will fill this with predictions\n",
    "\n",
    "# create cross validation iterator\n",
    "#cv = StratifiedKFold(n_splits=10)\n",
    "\n",
    "# get a handle to the classifier object, which defines the type\n",
    "clf = KNeighborsClassifier(n_neighbors=3)\n",
    "\n",
    "# now iterate through and get predictions, saved to the correct row in yhat\n",
    "# NOTE: you can parallelize this using the cross_val_predict method\n",
    "for train, test in cv_log.split(phase_X,phase_y):\n",
    "    clf.fit(phase_X[train],phase_y[train])\n",
    "    yhat[test] = clf.predict(phase_X[test])\n",
    "\n",
    "total_accuracy = mt.accuracy_score(phase_y, yhat)\n",
    "print ('KNN accuracy', total_accuracy)\n",
    "total_precision = mt.precision_score(phase_y, yhat, average = 'micro')\n",
    "print ('KNN precision', total_precision)\n",
    "total_confusion_matrix = mt.confusion_matrix(phase_y, yhat)\n",
    "print ('KNN confusion_matrix', total_confusion_matrix)\n"
   ]
  },
  {
   "cell_type": "code",
   "execution_count": 71,
   "id": "bac30640",
   "metadata": {
    "scrolled": true
   },
   "outputs": [
    {
     "name": "stdout",
     "output_type": "stream",
     "text": [
      "Fitting 5 folds for each of 48 candidates, totalling 240 fits\n",
      "Wall time: 12min 58s\n"
     ]
    },
    {
     "data": {
      "text/plain": [
       "GridSearchCV(cv=StratifiedShuffleSplit(n_splits=5, random_state=42, test_size=0.1,\n",
       "            train_size=None),\n",
       "             estimator=KNeighborsClassifier(), n_jobs=-1,\n",
       "             param_grid={'leaf_size': (20, 40, 1), 'n_neighbors': [3, 5, 7, 9],\n",
       "                         'p': (1, 2), 'weights': ['uniform', 'distance']},\n",
       "             scoring='accuracy', verbose=1)"
      ]
     },
     "execution_count": 71,
     "metadata": {},
     "output_type": "execute_result"
    }
   ],
   "source": [
    "%%time\n",
    "from sklearn.neighbors import KNeighborsClassifier\n",
    "#Create KNN Classifier\n",
    "phase_knn_params = {\n",
    "    \"n_neighbors\": [3,5,7,9,13],\n",
    "    \"weights\": [\"uniform\", \"distance\"],\n",
    "    'leaf_size': (20,40,1),\n",
    "    'p': (1,2),\n",
    "#    'metric': ('minkowski', 'chebyshev'),\n",
    "    }\n",
    "\n",
    "phase_knn_grid = GridSearchCV(estimator = KNeighborsClassifier(),\n",
    "                               n_jobs = -1,\n",
    "                               verbose = 1,\n",
    "                               param_grid = phase_knn_params,\n",
    "                               cv = cv_log,\n",
    "                               scoring = 'accuracy')\n",
    "\n",
    "phase_knn_grid.fit(phase_X,phase_y)"
   ]
  },
  {
   "cell_type": "code",
   "execution_count": 72,
   "id": "129a73ab",
   "metadata": {
    "scrolled": true
   },
   "outputs": [
    {
     "data": {
      "text/plain": [
       "{'leaf_size': 20, 'n_neighbors': 9, 'p': 1, 'weights': 'distance'}"
      ]
     },
     "execution_count": 72,
     "metadata": {},
     "output_type": "execute_result"
    }
   ],
   "source": [
    "phase_knn_grid.best_params_"
   ]
  },
  {
   "cell_type": "code",
   "execution_count": 73,
   "id": "92f9f322",
   "metadata": {},
   "outputs": [
    {
     "data": {
      "text/plain": [
       "KNeighborsClassifier(leaf_size=20, n_neighbors=9, p=1, weights='distance')"
      ]
     },
     "execution_count": 73,
     "metadata": {},
     "output_type": "execute_result"
    }
   ],
   "source": [
    "phase_knn_grid.best_estimator_"
   ]
  },
  {
   "cell_type": "code",
   "execution_count": 74,
   "id": "ecb0a40a",
   "metadata": {
    "scrolled": true
   },
   "outputs": [
    {
     "name": "stdout",
     "output_type": "stream",
     "text": [
      "Best Score - KNN: 0.5428068115091016\n"
     ]
    }
   ],
   "source": [
    "print('Best Score - KNN:', phase_knn_grid.best_score_ )"
   ]
  },
  {
   "cell_type": "markdown",
   "id": "a9ce19ec",
   "metadata": {},
   "source": [
    "#### Random Forest for Injury"
   ]
  },
  {
   "cell_type": "code",
   "execution_count": 147,
   "id": "85e92741",
   "metadata": {},
   "outputs": [
    {
     "name": "stdout",
     "output_type": "stream",
     "text": [
      "Fitting 5 folds for each of 24 candidates, totalling 120 fits\n",
      "Wall time: 21.3 s\n"
     ]
    },
    {
     "data": {
      "text/plain": [
       "GridSearchCV(cv=StratifiedShuffleSplit(n_splits=5, random_state=42, test_size=0.1,\n",
       "            train_size=None),\n",
       "             estimator=RandomForestClassifier(class_weight='balanced'),\n",
       "             n_jobs=-1,\n",
       "             param_grid={'criterion': ['gini', 'entropy'],\n",
       "                         'max_depth': [10, 25, 50, 100],\n",
       "                         'min_samples_leaf': [50], 'min_samples_split': [50],\n",
       "                         'n_estimators': [5, 10, 30], 'random_state': [42]},\n",
       "             scoring='accuracy', verbose=1)"
      ]
     },
     "execution_count": 147,
     "metadata": {},
     "output_type": "execute_result"
    }
   ],
   "source": [
    "%%time\n",
    "#run random forest on injuries with grid search\n",
    "\n",
    "from sklearn.model_selection import GridSearchCV\n",
    "from sklearn.ensemble import RandomForestClassifier\n",
    "\n",
    "clf_inj_rf = RandomForestClassifier(class_weight = 'balanced')\n",
    "\n",
    "inj_rf_params = {'n_estimators':[5,10,30],\n",
    "                   'max_depth': [ 10,25,50, 100],\n",
    "                   'criterion': ['gini', 'entropy'],\n",
    "                   'min_samples_split': [50],\n",
    "                   'min_samples_leaf': [50],\n",
    "                   'random_state': [42]\n",
    "                  }\n",
    "\n",
    "inj_rf_grid = GridSearchCV(estimator = clf_inj_rf,\n",
    "                               n_jobs = -1,\n",
    "                               verbose = 1,\n",
    "                               param_grid = inj_rf_params,\n",
    "                               cv = cv_log,\n",
    "                               scoring = 'accuracy')\n",
    "\n",
    "inj_rf_grid.fit(inj_X,inj_y)"
   ]
  },
  {
   "cell_type": "code",
   "execution_count": 148,
   "id": "3e83c2b8",
   "metadata": {
    "scrolled": true
   },
   "outputs": [
    {
     "name": "stdout",
     "output_type": "stream",
     "text": [
      "RandomForestClassifier(class_weight='balanced', max_depth=10,\n",
      "                       min_samples_leaf=50, min_samples_split=50,\n",
      "                       n_estimators=30, random_state=42)\n",
      "Accuracy: 0.7508890770533446\n"
     ]
    }
   ],
   "source": [
    "#print best estimator\n",
    "print(inj_rf_grid.best_estimator_)\n",
    "\n",
    "#with its score\n",
    "print(\"Accuracy:\",np.abs(inj_rf_grid.best_score_))"
   ]
  },
  {
   "cell_type": "code",
   "execution_count": 149,
   "id": "555595e3",
   "metadata": {},
   "outputs": [
    {
     "name": "stdout",
     "output_type": "stream",
     "text": [
      "{'criterion': 'gini', 'max_depth': 10, 'min_samples_leaf': 50, 'min_samples_split': 50, 'n_estimators': 30, 'random_state': 42}\n"
     ]
    }
   ],
   "source": [
    "print(inj_rf_grid.best_params_)"
   ]
  },
  {
   "cell_type": "markdown",
   "id": "e3cb6d40",
   "metadata": {},
   "source": [
    "#### Random Forest for Phase of flight"
   ]
  },
  {
   "cell_type": "code",
   "execution_count": 146,
   "id": "38cb99cb",
   "metadata": {},
   "outputs": [
    {
     "name": "stdout",
     "output_type": "stream",
     "text": [
      "Fitting 5 folds for each of 162 candidates, totalling 810 fits\n",
      "Wall time: 9min 34s\n"
     ]
    },
    {
     "data": {
      "text/plain": [
       "GridSearchCV(cv=StratifiedShuffleSplit(n_splits=5, random_state=42, test_size=0.1,\n",
       "            train_size=None),\n",
       "             error_score='raise', estimator=RandomForestClassifier(), n_jobs=-1,\n",
       "             param_grid={'class_weight': ['balanced'],\n",
       "                         'criterion': ['gini', 'entropy'],\n",
       "                         'max_depth': [55, 65, 75],\n",
       "                         'min_samples_leaf': [75, 100, 200],\n",
       "                         'min_samples_split': [300, 400, 500],\n",
       "                         'n_estimators': [80, 90, 100], 'random_state': [42]},\n",
       "             verbose=1)"
      ]
     },
     "execution_count": 146,
     "metadata": {},
     "output_type": "execute_result"
    }
   ],
   "source": [
    "%%time\n",
    " \n",
    "# Grid search on Random Forest on  Phase of flight Data Set\n",
    "from sklearn.model_selection import GridSearchCV\n",
    "from sklearn.ensemble import RandomForestClassifier\n",
    " \n",
    "clf_phase_rf = RandomForestClassifier()\n",
    " \n",
    "phase_rf_params = {'n_estimators':[80,90,100],\n",
    "                   'max_depth': [55,65,75],\n",
    "                   'criterion': ['gini', 'entropy'],\n",
    "                 'class_weight':['balanced'],\n",
    "                   'min_samples_split': [300,400,500],\n",
    "                   'min_samples_leaf': [75,100,200],\n",
    "                   'random_state': [42]\n",
    "                  }\n",
    " \n",
    "phase_rf_grid = GridSearchCV(estimator = clf_phase_rf,\n",
    "                               n_jobs = -1,\n",
    "                               verbose = 1,\n",
    "                               param_grid = phase_rf_params,\n",
    "                               cv = cv_log,\n",
    "                               error_score = 'raise')\n",
    " \n",
    "phase_rf_grid.fit(phase_X,phase_y)"
   ]
  },
  {
   "cell_type": "code",
   "execution_count": 150,
   "id": "5e3ff0b3",
   "metadata": {},
   "outputs": [
    {
     "name": "stdout",
     "output_type": "stream",
     "text": [
      "RandomForestClassifier(class_weight='balanced', criterion='entropy',\n",
      "                       max_depth=55, min_samples_leaf=100,\n",
      "                       min_samples_split=500, n_estimators=90, random_state=42)\n",
      "Accuracy: 0.2429242513211979\n"
     ]
    }
   ],
   "source": [
    "#print best estimator\n",
    "print(phase_rf_grid.best_estimator_)\n",
    "\n",
    "#with its score\n",
    "print(\"Accuracy:\",np.abs(phase_rf_grid.best_score_))"
   ]
  },
  {
   "cell_type": "code",
   "execution_count": 151,
   "id": "c1e433e3",
   "metadata": {
    "scrolled": false
   },
   "outputs": [
    {
     "name": "stdout",
     "output_type": "stream",
     "text": [
      "{'class_weight': 'balanced', 'criterion': 'entropy', 'max_depth': 55, 'min_samples_leaf': 100, 'min_samples_split': 500, 'n_estimators': 90, 'random_state': 42}\n"
     ]
    }
   ],
   "source": [
    "print(phase_rf_grid.best_params_)"
   ]
  },
  {
   "cell_type": "markdown",
   "id": "2e9f9cb5",
   "metadata": {},
   "source": [
    "#### GridSearch Improved all models\n"
   ]
  },
  {
   "cell_type": "markdown",
   "id": "0e11bc40",
   "metadata": {},
   "source": [
    "# Modeling and Evaluation 4"
   ]
  },
  {
   "cell_type": "markdown",
   "id": "5052584f",
   "metadata": {},
   "source": [
    "**Analyze the results using your chosen method of evaluation. Use visualizations of the results to bolster the analysis.**"
   ]
  },
  {
   "attachments": {
    "image-2.png": {
     "image/png": "[encoded data removed]"
    }
   },
   "cell_type": "markdown",
   "id": "933dc3c4",
   "metadata": {},
   "source": [
    "Waiting on the above values to run\t\t\n",
    "![image-2.png](attachment:image-2.png)"
   ]
  },
  {
   "cell_type": "code",
   "execution_count": 41,
   "id": "addbea4d",
   "metadata": {},
   "outputs": [],
   "source": [
    "from sklearn.model_selection import cross_validate\n",
    "\n",
    "def InjuryEvaluateClassifierEstimator(classifierEstimator, X, y, cv):\n",
    "   \n",
    "    #Perform cross validation \n",
    "    scores = cross_validate(classifierEstimator, inj_X, inj_y, scoring=['accuracy','precision','recall']\n",
    "                            , cv=cv_log, return_train_score=True)\n",
    "\n",
    "    Accavg = scores['test_accuracy'].mean()\n",
    "    Preavg = scores['test_precision'].mean()\n",
    "    Recavg = scores['test_recall'].mean()\n",
    "\n",
    "    print_str = \"The average accuracy for all cv folds is: \\t\\t\\t {Accavg:.5}\"\n",
    "    print_str2 = \"The average precision for all cv folds is: \\t\\t\\t {Preavg:.5}\"\n",
    "    print_str3 = \"The average recall for all cv folds is: \\t\\t\\t {Recavg:.5}\"\n",
    "\n",
    "    print(print_str.format(Accavg=Accavg))\n",
    "    print(print_str2.format(Preavg=Preavg))\n",
    "    print(print_str3.format(Recavg=Recavg))\n",
    "    print('*********************************************************')\n",
    "\n",
    "    print('Cross Validation Fold Mean Error Scores')\n",
    "    scoresResults = pd.DataFrame()\n",
    "    scoresResults['Accuracy'] = scores['test_accuracy']\n",
    "    scoresResults['Precision'] = scores['test_precision']\n",
    "    scoresResults['Recall'] = scores['test_recall']\n",
    "\n",
    "    return scoresResults"
   ]
  },
  {
   "cell_type": "code",
   "execution_count": 42,
   "id": "bbbc4341",
   "metadata": {},
   "outputs": [],
   "source": [
    "from sklearn.model_selection import cross_validate\n",
    "\n",
    "def PhaseEvaluateClassifierEstimator(classifierEstimator, phase_X, phase_y, cv):\n",
    "   \n",
    "    #Perform cross validation \n",
    "    scores = cross_validate(classifierEstimator, phase_X, phase_y, scoring=['accuracy','precision','recall']\n",
    "                            , cv=cv_log, return_train_score=True)\n",
    "\n",
    "    Accavg = scores['test_accuracy'].mean()\n",
    "    Preavg = scores['test_precision'].mean()\n",
    "    Recavg = scores['test_recall'].mean()\n",
    "\n",
    "    print_str = \"The average accuracy for all cv folds is: \\t\\t\\t {Accavg:.5}\"\n",
    "    print_str2 = \"The average precision for all cv folds is: \\t\\t\\t {Preavg:.5}\"\n",
    "    print_str3 = \"The average recall for all cv folds is: \\t\\t\\t {Recavg:.5}\"\n",
    "\n",
    "    print(print_str.format(Accavg=Accavg))\n",
    "    print(print_str2.format(Preavg=Preavg))\n",
    "    print(print_str3.format(Recavg=Recavg))\n",
    "    print('*********************************************************')\n",
    "\n",
    "    print('Cross Validation Fold Mean Error Scores')\n",
    "    scoresResults = pd.DataFrame()\n",
    "    scoresResults['Accuracy'] = scores['test_accuracy']\n",
    "    scoresResults['Precision'] = scores['test_precision']\n",
    "    scoresResults['Recall'] = scores['test_recall']\n",
    "\n",
    "    return scoresResults"
   ]
  },
  {
   "cell_type": "markdown",
   "id": "59f1b195",
   "metadata": {},
   "source": [
    "### Best Models - Injury"
   ]
  },
  {
   "cell_type": "code",
   "execution_count": 83,
   "id": "8071207f",
   "metadata": {},
   "outputs": [],
   "source": [
    "# Test Train split for Injury\n",
    "for train_indices, test_indices in cv_log.split(inj_X,inj_y): \n",
    "    X_train_inj = inj_X[train_indices]\n",
    "    y_train_inj = inj_y[train_indices]\n",
    "    \n",
    "    X_test_inj = inj_X[test_indices]\n",
    "    y_test_inj = inj_y[test_indices]"
   ]
  },
  {
   "cell_type": "code",
   "execution_count": 62,
   "id": "f224d585",
   "metadata": {
    "scrolled": true
   },
   "outputs": [
    {
     "name": "stdout",
     "output_type": "stream",
     "text": [
      "Fitting 5 folds for each of 6 candidates, totalling 30 fits\n",
      "Fitting 5 folds for each of 6 candidates, totalling 30 fits\n",
      "Fitting 5 folds for each of 6 candidates, totalling 30 fits\n",
      "Fitting 5 folds for each of 6 candidates, totalling 30 fits\n",
      "Fitting 5 folds for each of 6 candidates, totalling 30 fits\n",
      "The average accuracy for all cv folds is: \t\t\t 0.82732\n",
      "The average precision for all cv folds is: \t\t\t 0.90855\n",
      "The average recall for all cv folds is: \t\t\t 0.74912\n",
      "*********************************************************\n",
      "Cross Validation Fold Mean Error Scores\n"
     ]
    },
    {
     "data": {
      "text/html": [
       "<div>\n",
       "<style scoped>\n",
       "    .dataframe tbody tr th:only-of-type {\n",
       "        vertical-align: middle;\n",
       "    }\n",
       "\n",
       "    .dataframe tbody tr th {\n",
       "        vertical-align: top;\n",
       "    }\n",
       "\n",
       "    .dataframe thead th {\n",
       "        text-align: right;\n",
       "    }\n",
       "</style>\n",
       "<table border=\"1\" class=\"dataframe\">\n",
       "  <thead>\n",
       "    <tr style=\"text-align: right;\">\n",
       "      <th></th>\n",
       "      <th>Accuracy</th>\n",
       "      <th>Precision</th>\n",
       "      <th>Recall</th>\n",
       "    </tr>\n",
       "  </thead>\n",
       "  <tbody>\n",
       "    <tr>\n",
       "      <th>0</th>\n",
       "      <td>0.836579</td>\n",
       "      <td>0.915918</td>\n",
       "      <td>0.761067</td>\n",
       "    </tr>\n",
       "    <tr>\n",
       "      <th>1</th>\n",
       "      <td>0.820209</td>\n",
       "      <td>0.900907</td>\n",
       "      <td>0.741867</td>\n",
       "    </tr>\n",
       "    <tr>\n",
       "      <th>2</th>\n",
       "      <td>0.824443</td>\n",
       "      <td>0.902894</td>\n",
       "      <td>0.748800</td>\n",
       "    </tr>\n",
       "    <tr>\n",
       "      <th>3</th>\n",
       "      <td>0.825572</td>\n",
       "      <td>0.913215</td>\n",
       "      <td>0.740800</td>\n",
       "    </tr>\n",
       "    <tr>\n",
       "      <th>4</th>\n",
       "      <td>0.829805</td>\n",
       "      <td>0.909794</td>\n",
       "      <td>0.753067</td>\n",
       "    </tr>\n",
       "  </tbody>\n",
       "</table>\n",
       "</div>"
      ],
      "text/plain": [
       "   Accuracy  Precision    Recall\n",
       "0  0.836579   0.915918  0.761067\n",
       "1  0.820209   0.900907  0.741867\n",
       "2  0.824443   0.902894  0.748800\n",
       "3  0.825572   0.913215  0.740800\n",
       "4  0.829805   0.909794  0.753067"
      ]
     },
     "execution_count": 62,
     "metadata": {},
     "output_type": "execute_result"
    }
   ],
   "source": [
    "InjuryEvaluateClassifierEstimator(inj_GridSearch, inj_X, inj_y, cv_log)"
   ]
  },
  {
   "cell_type": "code",
   "execution_count": null,
   "id": "b28f3be2",
   "metadata": {},
   "outputs": [],
   "source": [
    "confusion = pd.crosstab(y_test_phase, log_phase_y, rownames = ['Actual'], colnames = ['Predicted'])\n",
    "\n",
    "# Create confusion matrix using Seaborn\n",
    "fig, ax = plt.subplots(figsize = (10, 10))\n",
    "sns.heatmap(confusion, \n",
    "            annot = True, \n",
    "            cmap = \"YlGnBu\", \n",
    "            cbar = False,\n",
    "            fmt = 'g',\n",
    "            ax = ax,\n",
    "            annot_kws = {'size' : 14},\n",
    "           linewidths = 0.5)\n",
    "ax.set_title('Logistic Regression Phase of flight predictions', fontsize = 20)"
   ]
  },
  {
   "cell_type": "code",
   "execution_count": 78,
   "id": "ced83438",
   "metadata": {
    "scrolled": true
   },
   "outputs": [
    {
     "name": "stdout",
     "output_type": "stream",
     "text": [
      "Fitting 5 folds for each of 60 candidates, totalling 300 fits\n",
      "Fitting 5 folds for each of 60 candidates, totalling 300 fits\n",
      "Fitting 5 folds for each of 60 candidates, totalling 300 fits\n",
      "Fitting 5 folds for each of 60 candidates, totalling 300 fits\n",
      "Fitting 5 folds for each of 60 candidates, totalling 300 fits\n",
      "The average accuracy for all cv folds is: \t\t\t 0.78837\n",
      "The average precision for all cv folds is: \t\t\t 0.89137\n",
      "The average recall for all cv folds is: \t\t\t 0.68341\n",
      "*********************************************************\n",
      "Cross Validation Fold Mean Error Scores\n"
     ]
    },
    {
     "data": {
      "text/html": [
       "<div>\n",
       "<style scoped>\n",
       "    .dataframe tbody tr th:only-of-type {\n",
       "        vertical-align: middle;\n",
       "    }\n",
       "\n",
       "    .dataframe tbody tr th {\n",
       "        vertical-align: top;\n",
       "    }\n",
       "\n",
       "    .dataframe thead th {\n",
       "        text-align: right;\n",
       "    }\n",
       "</style>\n",
       "<table border=\"1\" class=\"dataframe\">\n",
       "  <thead>\n",
       "    <tr style=\"text-align: right;\">\n",
       "      <th></th>\n",
       "      <th>Accuracy</th>\n",
       "      <th>Precision</th>\n",
       "      <th>Recall</th>\n",
       "    </tr>\n",
       "  </thead>\n",
       "  <tbody>\n",
       "    <tr>\n",
       "      <th>0</th>\n",
       "      <td>0.794242</td>\n",
       "      <td>0.899582</td>\n",
       "      <td>0.688000</td>\n",
       "    </tr>\n",
       "    <tr>\n",
       "      <th>1</th>\n",
       "      <td>0.791420</td>\n",
       "      <td>0.894993</td>\n",
       "      <td>0.686400</td>\n",
       "    </tr>\n",
       "    <tr>\n",
       "      <th>2</th>\n",
       "      <td>0.783517</td>\n",
       "      <td>0.883657</td>\n",
       "      <td>0.680533</td>\n",
       "    </tr>\n",
       "    <tr>\n",
       "      <th>3</th>\n",
       "      <td>0.784928</td>\n",
       "      <td>0.892731</td>\n",
       "      <td>0.674667</td>\n",
       "    </tr>\n",
       "    <tr>\n",
       "      <th>4</th>\n",
       "      <td>0.787750</td>\n",
       "      <td>0.885911</td>\n",
       "      <td>0.687467</td>\n",
       "    </tr>\n",
       "  </tbody>\n",
       "</table>\n",
       "</div>"
      ],
      "text/plain": [
       "   Accuracy  Precision    Recall\n",
       "0  0.794242   0.899582  0.688000\n",
       "1  0.791420   0.894993  0.686400\n",
       "2  0.783517   0.883657  0.680533\n",
       "3  0.784928   0.892731  0.674667\n",
       "4  0.787750   0.885911  0.687467"
      ]
     },
     "execution_count": 78,
     "metadata": {},
     "output_type": "execute_result"
    }
   ],
   "source": [
    "InjuryEvaluateClassifierEstimator(inj_knn_grid, inj_X, inj_y, cv_log)"
   ]
  },
  {
   "cell_type": "code",
   "execution_count": null,
   "id": "d34a08b5",
   "metadata": {},
   "outputs": [],
   "source": [
    "confusion = pd.crosstab(y_test_inj, knn_phase_y, rownames = ['Actual'], colnames = ['Predicted'])\n",
    "\n",
    "# Create confusion matrix using Seaborn\n",
    "fig, ax = plt.subplots(figsize = (10, 10))\n",
    "sns.heatmap(confusion, \n",
    "            annot = True, \n",
    "            cmap = \"YlGnBu\", \n",
    "            cbar = False,\n",
    "            fmt = 'g',\n",
    "            ax = ax,\n",
    "            annot_kws = {'size' : 14},\n",
    "           linewidths = 0.5)\n",
    "ax.set_title('KNN Phase of flight predictions', fontsize = 20)"
   ]
  },
  {
   "cell_type": "code",
   "execution_count": 64,
   "id": "5f987e5b",
   "metadata": {
    "scrolled": true
   },
   "outputs": [
    {
     "name": "stdout",
     "output_type": "stream",
     "text": [
      "Fitting 5 folds for each of 24 candidates, totalling 120 fits\n",
      "Fitting 5 folds for each of 24 candidates, totalling 120 fits\n",
      "Fitting 5 folds for each of 24 candidates, totalling 120 fits\n",
      "Fitting 5 folds for each of 24 candidates, totalling 120 fits\n",
      "Fitting 5 folds for each of 24 candidates, totalling 120 fits\n",
      "The average accuracy for all cv folds is: \t\t\t 0.74406\n",
      "The average precision for all cv folds is: \t\t\t 0.85857\n",
      "The average recall for all cv folds is: \t\t\t 0.61835\n",
      "*********************************************************\n",
      "Cross Validation Fold Mean Error Scores\n"
     ]
    },
    {
     "data": {
      "text/html": [
       "<div>\n",
       "<style scoped>\n",
       "    .dataframe tbody tr th:only-of-type {\n",
       "        vertical-align: middle;\n",
       "    }\n",
       "\n",
       "    .dataframe tbody tr th {\n",
       "        vertical-align: top;\n",
       "    }\n",
       "\n",
       "    .dataframe thead th {\n",
       "        text-align: right;\n",
       "    }\n",
       "</style>\n",
       "<table border=\"1\" class=\"dataframe\">\n",
       "  <thead>\n",
       "    <tr style=\"text-align: right;\">\n",
       "      <th></th>\n",
       "      <th>Accuracy</th>\n",
       "      <th>Precision</th>\n",
       "      <th>Recall</th>\n",
       "    </tr>\n",
       "  </thead>\n",
       "  <tbody>\n",
       "    <tr>\n",
       "      <th>0</th>\n",
       "      <td>0.702230</td>\n",
       "      <td>0.851027</td>\n",
       "      <td>0.530133</td>\n",
       "    </tr>\n",
       "    <tr>\n",
       "      <th>1</th>\n",
       "      <td>0.741744</td>\n",
       "      <td>0.869231</td>\n",
       "      <td>0.602667</td>\n",
       "    </tr>\n",
       "    <tr>\n",
       "      <th>2</th>\n",
       "      <td>0.742027</td>\n",
       "      <td>0.847433</td>\n",
       "      <td>0.625067</td>\n",
       "    </tr>\n",
       "    <tr>\n",
       "      <th>3</th>\n",
       "      <td>0.736099</td>\n",
       "      <td>0.868917</td>\n",
       "      <td>0.590400</td>\n",
       "    </tr>\n",
       "    <tr>\n",
       "      <th>4</th>\n",
       "      <td>0.798194</td>\n",
       "      <td>0.856265</td>\n",
       "      <td>0.743467</td>\n",
       "    </tr>\n",
       "  </tbody>\n",
       "</table>\n",
       "</div>"
      ],
      "text/plain": [
       "   Accuracy  Precision    Recall\n",
       "0  0.702230   0.851027  0.530133\n",
       "1  0.741744   0.869231  0.602667\n",
       "2  0.742027   0.847433  0.625067\n",
       "3  0.736099   0.868917  0.590400\n",
       "4  0.798194   0.856265  0.743467"
      ]
     },
     "execution_count": 64,
     "metadata": {},
     "output_type": "execute_result"
    }
   ],
   "source": [
    "InjuryEvaluateClassifierEstimator(inj_rf_grid, inj_X, inj_y, cv_log)"
   ]
  },
  {
   "cell_type": "code",
   "execution_count": null,
   "id": "a2d52dbb",
   "metadata": {},
   "outputs": [],
   "source": [
    "confusion = pd.crosstab(y_test_inj, rf_phase_y, rownames = ['Actual'], colnames = ['Predicted'])\n",
    "\n",
    "# Create confusion matrix using Seaborn\n",
    "fig, ax = plt.subplots(figsize = (10, 10))\n",
    "sns.heatmap(confusion, \n",
    "            annot = True, \n",
    "            cmap = \"YlGnBu\", \n",
    "            cbar = False,\n",
    "            fmt = 'g',\n",
    "            ax = ax,\n",
    "            annot_kws = {'size' : 14},\n",
    "           linewidths = 0.5)\n",
    "ax.set_title('Random Forest Phase of flight predictions', fontsize = 20)"
   ]
  },
  {
   "cell_type": "markdown",
   "id": "aaf2563b",
   "metadata": {},
   "source": [
    "### Best Models - Phase"
   ]
  },
  {
   "cell_type": "code",
   "execution_count": 137,
   "id": "a58c1e72",
   "metadata": {},
   "outputs": [],
   "source": [
    "#PhaseEvaluateClassifierEstimator(phase_log_grid, phase_X, phase_y, cv_log)"
   ]
  },
  {
   "cell_type": "code",
   "execution_count": 138,
   "id": "e70776d3",
   "metadata": {},
   "outputs": [],
   "source": [
    "#PhaseEvaluateClassifierEstimator(phase_knn_grid, phase_X, phase_y, cv_log)"
   ]
  },
  {
   "cell_type": "code",
   "execution_count": 139,
   "id": "4b21745a",
   "metadata": {},
   "outputs": [],
   "source": [
    "#PhaseEvaluateClassifierEstimator(phase_rf_grid, phase_X, phase_y, cv_log)"
   ]
  },
  {
   "cell_type": "code",
   "execution_count": 84,
   "id": "426cf9a2",
   "metadata": {},
   "outputs": [],
   "source": [
    "for train_indices, test_indices in cv_log.split(phase_X,phase_y): \n",
    "    X_train_phase = phase_X[train_indices]\n",
    "    y_train_phase = phase_y[train_indices]\n",
    "    \n",
    "    X_test_phase = phase_X[test_indices]\n",
    "    y_test_phase = phase_y[test_indices]"
   ]
  },
  {
   "cell_type": "code",
   "execution_count": 144,
   "id": "3c183059",
   "metadata": {},
   "outputs": [
    {
     "name": "stdout",
     "output_type": "stream",
     "text": [
      "Accuracy: 0.5560775102759835\n",
      "Precision: 0.4078615672980636\n",
      "Recall: 0.2093408936297645\n"
     ]
    },
    {
     "name": "stderr",
     "output_type": "stream",
     "text": [
      "C:\\Users\\drsco\\anaconda3_new\\lib\\site-packages\\sklearn\\metrics\\_classification.py:1245: UndefinedMetricWarning: Precision is ill-defined and being set to 0.0 in labels with no predicted samples. Use `zero_division` parameter to control this behavior.\n",
      "  _warn_prf(average, modifier, msg_start, len(result))\n"
     ]
    }
   ],
   "source": [
    "from sklearn import metrics \n",
    "from sklearn.metrics import accuracy_score, precision_score, recall_score, f1_score\n",
    "print(\"Accuracy:\",metrics.accuracy_score(y_test_phase, log_phase_y))\n",
    "print(\"Precision:\",metrics.precision_score(y_test_phase,log_phase_y,average='macro'))\n",
    "print(\"Recall:\",metrics.recall_score(y_test_phase,log_phase_y,average='macro'))"
   ]
  },
  {
   "cell_type": "code",
   "execution_count": 162,
   "id": "862aa9ac",
   "metadata": {},
   "outputs": [
    {
     "data": {
      "text/plain": [
       "Text(0.5, 1.0, 'Logistic Regression Phase of flight predictions')"
      ]
     },
     "execution_count": 162,
     "metadata": {},
     "output_type": "execute_result"
    },
    {
     "data": {
      "image/png": "[encoded data removed]",
      "text/plain": [
       "<Figure size 720x720 with 1 Axes>"
      ]
     },
     "metadata": {
      "needs_background": "light"
     },
     "output_type": "display_data"
    }
   ],
   "source": [
    "confusion = pd.crosstab(y_test_phase, log_phase_y, rownames = ['Actual'], colnames = ['Predicted'])\n",
    "\n",
    "# Create confusion matrix using Seaborn\n",
    "fig, ax = plt.subplots(figsize = (10, 10))\n",
    "sns.heatmap(confusion, \n",
    "            annot = True, \n",
    "            cmap = \"YlGnBu\", \n",
    "            cbar = False,\n",
    "            fmt = 'g',\n",
    "            ax = ax,\n",
    "            annot_kws = {'size' : 14},\n",
    "           linewidths = 0.5)\n",
    "ax.set_title('Logistic Regression Phase of flight predictions', fontsize = 20)"
   ]
  },
  {
   "cell_type": "code",
   "execution_count": 160,
   "id": "756655e9",
   "metadata": {},
   "outputs": [
    {
     "name": "stdout",
     "output_type": "stream",
     "text": [
      "Accuracy: 0.5502055196711685\n",
      "Precision: 0.44507963841719944\n",
      "Recall: 0.2746267720029174\n"
     ]
    }
   ],
   "source": [
    "knn = KNeighborsClassifier(leaf_size=20, n_neighbors=9, p=1, weights='distance')\n",
    "knn.fit(X_train_phase, y_train_phase)\n",
    "knn_phase_y = knn.predict(X_test_phase)\n",
    "\n",
    "print(\"Accuracy:\",metrics.accuracy_score(y_test_phase, knn_phase_y))\n",
    "print(\"Precision:\",metrics.precision_score(y_test_phase,knn_phase_y,average='macro'))\n",
    "print(\"Recall:\",metrics.recall_score(y_test_phase,knn_phase_y,average='macro'))"
   ]
  },
  {
   "cell_type": "code",
   "execution_count": 161,
   "id": "03bbf34f",
   "metadata": {},
   "outputs": [
    {
     "data": {
      "text/plain": [
       "Text(0.5, 1.0, 'KNN Phase of flight predictions')"
      ]
     },
     "execution_count": 161,
     "metadata": {},
     "output_type": "execute_result"
    },
    {
     "data": {
      "image/png": "[encoded data removed]",
      "text/plain": [
       "<Figure size 720x720 with 1 Axes>"
      ]
     },
     "metadata": {
      "needs_background": "light"
     },
     "output_type": "display_data"
    }
   ],
   "source": [
    "confusion = pd.crosstab(y_test_phase, knn_phase_y, rownames = ['Actual'], colnames = ['Predicted'])\n",
    "\n",
    "# Create confusion matrix using Seaborn\n",
    "fig, ax = plt.subplots(figsize = (10, 10))\n",
    "sns.heatmap(confusion, \n",
    "            annot = True, \n",
    "            cmap = \"YlGnBu\", \n",
    "            cbar = False,\n",
    "            fmt = 'g',\n",
    "            ax = ax,\n",
    "            annot_kws = {'size' : 14},\n",
    "           linewidths = 0.5)\n",
    "ax.set_title('KNN Phase of flight predictions', fontsize = 20)"
   ]
  },
  {
   "cell_type": "code",
   "execution_count": 157,
   "id": "69aae3db",
   "metadata": {},
   "outputs": [
    {
     "name": "stdout",
     "output_type": "stream",
     "text": [
      "Accuracy: 0.2595419847328244\n",
      "Precision: 0.18582458429920223\n",
      "Recall: 0.3327694527031697\n"
     ]
    }
   ],
   "source": [
    "rf = RandomForestClassifier(class_weight= 'balanced', criterion= 'entropy', max_depth= 55, min_samples_leaf= 100, min_samples_split= 500, n_estimators= 90, random_state= 42)\n",
    "rf.fit(X_train_phase, y_train_phase)\n",
    "rf_phase_y = rf.predict(X_test_phase)\n",
    "\n",
    "print(\"Accuracy:\",metrics.accuracy_score(y_test_phase, rf_phase_y))\n",
    "print(\"Precision:\",metrics.precision_score(y_test_phase,rf_phase_y,average='macro'))\n",
    "print(\"Recall:\",metrics.recall_score(y_test_phase,rf_phase_y,average='macro'))"
   ]
  },
  {
   "cell_type": "code",
   "execution_count": 163,
   "id": "735e4dc0",
   "metadata": {},
   "outputs": [
    {
     "data": {
      "text/plain": [
       "Text(0.5, 1.0, 'Random Forest Phase of flight predictions')"
      ]
     },
     "execution_count": 163,
     "metadata": {},
     "output_type": "execute_result"
    },
    {
     "data": {
      "image/png": "[encoded data removed]",
      "text/plain": [
       "<Figure size 720x720 with 1 Axes>"
      ]
     },
     "metadata": {
      "needs_background": "light"
     },
     "output_type": "display_data"
    }
   ],
   "source": [
    "confusion = pd.crosstab(y_test_phase, rf_phase_y, rownames = ['Actual'], colnames = ['Predicted'])\n",
    "\n",
    "# Create confusion matrix using Seaborn\n",
    "fig, ax = plt.subplots(figsize = (10, 10))\n",
    "sns.heatmap(confusion, \n",
    "            annot = True, \n",
    "            cmap = \"YlGnBu\", \n",
    "            cbar = False,\n",
    "            fmt = 'g',\n",
    "            ax = ax,\n",
    "            annot_kws = {'size' : 14},\n",
    "           linewidths = 0.5)\n",
    "ax.set_title('Random Forest Phase of flight predictions', fontsize = 20)"
   ]
  },
  {
   "cell_type": "markdown",
   "id": "62058342",
   "metadata": {},
   "source": [
    "**Explain any visuals and analyze why they are interesting to someone that might use this model.**"
   ]
  },
  {
   "cell_type": "code",
   "execution_count": 79,
   "id": "ab96b377",
   "metadata": {
    "scrolled": true
   },
   "outputs": [
    {
     "data": {
      "image/png": "[encoded data removed]",
      "text/plain": [
       "<Figure size 432x288 with 2 Axes>"
      ]
     },
     "metadata": {
      "needs_background": "light"
     },
     "output_type": "display_data"
    }
   ],
   "source": [
    "import seaborn as sns\n",
    "import matplotlib.pyplot as plt\n",
    "ax= plt.subplot()\n",
    "sns.heatmap(total_confusion_matrix, annot=True, fmt = \"d\", cmap=\"Spectral\"); #annot=True to annotate cells\n",
    "\n",
    "# labels, title and ticks\n",
    "ax.set_xlabel('ACTUAL LABELS');ax.set_ylabel('PREDICTED LABELS'); \n",
    "ax.set_title('KNN Confusion Matrix'); \n",
    "#ax.xaxis.set_ticklabels(['11', '12','13','21','22','23','31','32','33']); ax.yaxis.set_ticklabels(['Soft', 'Tough']);"
   ]
  },
  {
   "cell_type": "code",
   "execution_count": 54,
   "id": "85715943",
   "metadata": {
    "scrolled": true
   },
   "outputs": [
    {
     "data": {
      "image/png": "[encoded data removed]",
      "text/plain": [
       "<Figure size 432x288 with 1 Axes>"
      ]
     },
     "metadata": {
      "needs_background": "light"
     },
     "output_type": "display_data"
    }
   ],
   "source": [
    "def per_class_accuracy(ytrue,yhat):\n",
    "    conf = mt.confusion_matrix(ytrue,yhat)\n",
    "    norm_conf = conf.astype('float') / conf.sum(axis=1)[:, np.newaxis]\n",
    "    return np.diag(norm_conf)\n",
    "\n",
    "def plot_class_acc(ytrue,yhat, title=''):\n",
    "    acc_list = per_class_accuracy(ytrue,yhat)\n",
    "    plt.bar(range(len(acc_list)), acc_list)\n",
    "    plt.xlabel('Predicted label')\n",
    "    plt.ylabel('Actual label')\n",
    "    plt.title(title+\", Total Acc=%.1f\"%(100*mt.accuracy_score(ytrue,yhat)))\n",
    "    plt.grid()\n",
    "    plt.ylim([0,1])\n",
    "    plt.show()\n",
    "    \n",
    "plot_class_acc(phase_y,yhat,title=\"KNN\")"
   ]
  },
  {
   "cell_type": "markdown",
   "id": "8953d7c0",
   "metadata": {},
   "source": [
    "# Modeling and Evaluation 5"
   ]
  },
  {
   "cell_type": "markdown",
   "id": "562fa9d5",
   "metadata": {},
   "source": [
    "Code from: http://rasbt.github.io/mlxtend/user_guide/evaluate/paired_ttest_5x2cv/"
   ]
  },
  {
   "cell_type": "markdown",
   "id": "5997cf7d",
   "metadata": {},
   "source": [
    "#### Injury Model Comparison Test"
   ]
  },
  {
   "cell_type": "code",
   "execution_count": 113,
   "id": "d1c73f7b",
   "metadata": {
    "scrolled": true
   },
   "outputs": [
    {
     "name": "stdout",
     "output_type": "stream",
     "text": [
      "Logistic regression for injury accuracy: 82.08%\n",
      "Decision tree for injury accuracy: 79.03%\n"
     ]
    }
   ],
   "source": [
    "from sklearn.linear_model import LogisticRegression\n",
    "from sklearn.tree import DecisionTreeClassifier\n",
    "from sklearn.model_selection import train_test_split\n",
    "\n",
    "\n",
    "#Logistic vs Decision Tree\n",
    "clf1 = LogisticRegression(random_state=42,max_iter = 1000)\n",
    "clf2 = DecisionTreeClassifier(random_state=42)\n",
    "\n",
    "\n",
    "\n",
    "score1 = clf1.fit(X_train_inj, y_train_inj).score(X_test_inj, y_test_inj)\n",
    "score2 = clf2.fit(X_train_inj, y_train_inj).score(X_test_inj, y_test_inj)\n",
    "\n",
    "print('Logistic regression for injury accuracy: %.2f%%' % (score1*100))\n",
    "print('Decision tree for injury accuracy: %.2f%%' % (score2*100))"
   ]
  },
  {
   "cell_type": "code",
   "execution_count": 114,
   "id": "0a14fa86",
   "metadata": {},
   "outputs": [
    {
     "name": "stdout",
     "output_type": "stream",
     "text": [
      "t statistic: 13.437\n",
      "p value: 0.000\n"
     ]
    }
   ],
   "source": [
    "from mlxtend.evaluate import paired_ttest_5x2cv\n",
    "\n",
    "\n",
    "t, p = paired_ttest_5x2cv(estimator1=clf1,\n",
    "                          estimator2=clf2,\n",
    "                          X=inj_X, y=inj_y,\n",
    "                          random_seed=42)\n",
    "\n",
    "print('t statistic: %.3f' % t)\n",
    "print('p value: %.3f' % p)"
   ]
  },
  {
   "cell_type": "code",
   "execution_count": 115,
   "id": "fee7d09d",
   "metadata": {},
   "outputs": [
    {
     "name": "stdout",
     "output_type": "stream",
     "text": [
      "Decision Tree for injury accuracy: 79.03%\n",
      "KNN for injury accuracy: 76.40%\n"
     ]
    }
   ],
   "source": [
    "#Decision Tree vs KNN\n",
    "clf1 = DecisionTreeClassifier(random_state=42)\n",
    "clf2 = KNeighborsClassifier()\n",
    "\n",
    "\n",
    "\n",
    "score1 = clf1.fit(X_train_inj, y_train_inj).score(X_test_inj, y_test_inj)\n",
    "score2 = clf2.fit(X_train_inj, y_train_inj).score(X_test_inj, y_test_inj)\n",
    "\n",
    "print('Decision Tree for injury accuracy: %.2f%%' % (score1*100))\n",
    "print('KNN for injury accuracy: %.2f%%' % (score2*100))"
   ]
  },
  {
   "cell_type": "code",
   "execution_count": 116,
   "id": "2b85b4d0",
   "metadata": {},
   "outputs": [
    {
     "name": "stdout",
     "output_type": "stream",
     "text": [
      "t statistic: 4.556\n",
      "p value: 0.006\n"
     ]
    }
   ],
   "source": [
    "t, p = paired_ttest_5x2cv(estimator1=clf1,\n",
    "                          estimator2=clf2,\n",
    "                          X=inj_X, y=inj_y,\n",
    "                          random_seed=42)\n",
    "\n",
    "print('t statistic: %.3f' % t)\n",
    "print('p value: %.3f' % p)"
   ]
  },
  {
   "cell_type": "code",
   "execution_count": 117,
   "id": "a3b5eb13",
   "metadata": {},
   "outputs": [
    {
     "name": "stdout",
     "output_type": "stream",
     "text": [
      "Logistic regression for injury accuracy: 82.08%\n",
      "KNN for injury accuracy: 76.40%\n"
     ]
    }
   ],
   "source": [
    "#Logistic vs KNN\n",
    "clf1 = LogisticRegression(random_state=42,max_iter = 1000)\n",
    "clf2 = KNeighborsClassifier()\n",
    "\n",
    "\n",
    "\n",
    "score1 = clf1.fit(X_train_inj, y_train_inj).score(X_test_inj, y_test_inj)\n",
    "score2 = clf2.fit(X_train_inj, y_train_inj).score(X_test_inj, y_test_inj)\n",
    "\n",
    "print('Logistic regression for injury accuracy: %.2f%%' % (score1*100))\n",
    "print('KNN for injury accuracy: %.2f%%' % (score2*100))"
   ]
  },
  {
   "cell_type": "code",
   "execution_count": 118,
   "id": "1b6de7a7",
   "metadata": {},
   "outputs": [
    {
     "name": "stdout",
     "output_type": "stream",
     "text": [
      "t statistic: 10.691\n",
      "p value: 0.000\n"
     ]
    }
   ],
   "source": [
    "t, p = paired_ttest_5x2cv(estimator1=clf1,\n",
    "                          estimator2=clf2,\n",
    "                          X=inj_X, y=inj_y,\n",
    "                          random_seed=42)\n",
    "\n",
    "print('t statistic: %.3f' % t)\n",
    "print('p value: %.3f' % p)"
   ]
  },
  {
   "cell_type": "markdown",
   "id": "179de435",
   "metadata": {},
   "source": [
    "#### Phase Model Comparison T test"
   ]
  },
  {
   "cell_type": "code",
   "execution_count": 119,
   "id": "2f1abb61",
   "metadata": {},
   "outputs": [
    {
     "name": "stdout",
     "output_type": "stream",
     "text": [
      "Logistic regression for phase accuracy: 55.05%\n",
      "Decision tree for phase accuracy: 49.56%\n"
     ]
    }
   ],
   "source": [
    "# logistic vs decision tree phase\n",
    "from sklearn.linear_model import LogisticRegression\n",
    "from sklearn.tree import DecisionTreeClassifier\n",
    "from sklearn.model_selection import train_test_split\n",
    "\n",
    "\n",
    "\n",
    "clf1 = LogisticRegression(random_state=42,max_iter = 1000)\n",
    "clf2 = DecisionTreeClassifier(random_state=42)\n",
    "\n",
    "\n",
    "\n",
    "score1 = clf1.fit(X_train_phase, y_train_phase).score(X_test_phase, y_test_phase)\n",
    "score2 = clf2.fit(X_train_phase, y_train_phase).score(X_test_phase, y_test_phase)\n",
    "\n",
    "print('Logistic regression for phase accuracy: %.2f%%' % (score1*100))\n",
    "print('Decision tree for phase accuracy: %.2f%%' % (score2*100))"
   ]
  },
  {
   "cell_type": "code",
   "execution_count": 120,
   "id": "5d465324",
   "metadata": {},
   "outputs": [
    {
     "name": "stdout",
     "output_type": "stream",
     "text": [
      "t statistic: 13.437\n",
      "p value: 0.000\n"
     ]
    }
   ],
   "source": [
    "t, p = paired_ttest_5x2cv(estimator1=clf1,\n",
    "                          estimator2=clf2,\n",
    "                          X=inj_X, y=inj_y,\n",
    "                          random_seed=42)\n",
    "\n",
    "print('t statistic: %.3f' % t)\n",
    "print('p value: %.3f' % p)"
   ]
  },
  {
   "cell_type": "code",
   "execution_count": 121,
   "id": "a4a5f849",
   "metadata": {},
   "outputs": [
    {
     "name": "stdout",
     "output_type": "stream",
     "text": [
      "Logistic regression for phase accuracy: 55.05%\n",
      "KNN for phase accuracy: 50.15%\n"
     ]
    }
   ],
   "source": [
    "#logistic vs KNN phase\n",
    "clf1 = LogisticRegression(random_state=42,max_iter = 1000)\n",
    "clf2 = KNeighborsClassifier()\n",
    "\n",
    "\n",
    "\n",
    "score1 = clf1.fit(X_train_phase, y_train_phase).score(X_test_phase, y_test_phase)\n",
    "score2 = clf2.fit(X_train_phase, y_train_phase).score(X_test_phase, y_test_phase)\n",
    "\n",
    "print('Logistic regression for phase accuracy: %.2f%%' % (score1*100))\n",
    "print('KNN for phase accuracy: %.2f%%' % (score2*100))"
   ]
  },
  {
   "cell_type": "code",
   "execution_count": 122,
   "id": "cd73dba2",
   "metadata": {},
   "outputs": [
    {
     "name": "stdout",
     "output_type": "stream",
     "text": [
      "t statistic: 10.691\n",
      "p value: 0.000\n"
     ]
    }
   ],
   "source": [
    "t, p = paired_ttest_5x2cv(estimator1=clf1,\n",
    "                          estimator2=clf2,\n",
    "                          X=inj_X, y=inj_y,\n",
    "                          random_seed=42)\n",
    "\n",
    "print('t statistic: %.3f' % t)\n",
    "print('p value: %.3f' % p)"
   ]
  },
  {
   "cell_type": "code",
   "execution_count": 123,
   "id": "23ac14a5",
   "metadata": {},
   "outputs": [
    {
     "name": "stdout",
     "output_type": "stream",
     "text": [
      "KNN for phase accuracy: 49.56%\n",
      "Decision tree for phase accuracy: 49.56%\n"
     ]
    }
   ],
   "source": [
    "#decision tree vs KNN\n",
    "clf1 = KNeighborsClassifier()\n",
    "clf2 = DecisionTreeClassifier(random_state=42)\n",
    "\n",
    "\n",
    "\n",
    "score1 = clf1.fit(X_train_phase, y_train_phase).score(X_test_phase, y_test_phase)\n",
    "score2 = clf2.fit(X_train_phase, y_train_phase).score(X_test_phase, y_test_phase)\n",
    "\n",
    "print('KNN for phase accuracy: %.2f%%' % (score2*100))\n",
    "print('Decision tree for phase accuracy: %.2f%%' % (score2*100))"
   ]
  },
  {
   "cell_type": "code",
   "execution_count": 124,
   "id": "9a3c5b72",
   "metadata": {},
   "outputs": [
    {
     "name": "stdout",
     "output_type": "stream",
     "text": [
      "t statistic: -4.556\n",
      "p value: 0.006\n"
     ]
    }
   ],
   "source": [
    "t, p = paired_ttest_5x2cv(estimator1=clf1,\n",
    "                          estimator2=clf2,\n",
    "                          X=inj_X, y=inj_y,\n",
    "                          random_seed=42)\n",
    "\n",
    "print('t statistic: %.3f' % t)\n",
    "print('p value: %.3f' % p)"
   ]
  },
  {
   "cell_type": "markdown",
   "id": "4ea90966",
   "metadata": {},
   "source": [
    "# Modeling and Evaluation 6\n",
    "\n",
    "what variables are most important to each model"
   ]
  },
  {
   "cell_type": "markdown",
   "id": "38f3c9b2",
   "metadata": {},
   "source": [
    "# Deployment"
   ]
  },
  {
   "cell_type": "markdown",
   "id": "0227171b",
   "metadata": {},
   "source": [
    "**How useful is your model for interested parties (i.e., the companies or organizations that might want to use it for prediction)? How would you measure the model's value if it was used by these parties? How would your deploy your model for interested parties? What other data should be collected? How often would the model need to be updated, etc.?**\n",
    "\n",
    "\n",
    "\n",
    "Our model could be extremely useful to the parties such as the NTSB. The NTSB has publicly available data on\n",
    "incidents. Creating a model that can classify injury and the phase of flight can improve safety regulations for aircrafts, educate investigators who are tasked with aircraft inspection after an incident has occured, and provide meaningful insights on what features are most important to classification.\n",
    "\n",
    "\n",
    "\n",
    "For example, safety regulations can improved, because the model could be used to understand the underlying factors that result in incidents that cause injuries. Predicting the broad phase of flight allows the NTSB and FAA to implement more safety measures at these stages of flight. Aircraft inspectors could use the phase of flight model to better predict the aircrafts that are more likely to have an incident at a specific broad phase of flight. Finally, the models provide insight about feature importance for all the interested parties. The model would be deployed so it can be tested on new incidents that have occured. There is more data we can collect that we had not added which include more information about the crew such as crew size, and experience. Certain attributes could be better predictors for both our classification problems. The model would need to be update every couple of months because new data is usually added at the beginning of each month."
   ]
  },
  {
   "cell_type": "markdown",
   "id": "fb07c92a",
   "metadata": {},
   "source": [
    "# Exceptional Work\n",
    "\n",
    "For exceptional work we used gridsearch to find the best model for each of our models."
   ]
  },
  {
   "cell_type": "code",
   "execution_count": null,
   "id": "cac11958",
   "metadata": {},
   "outputs": [],
   "source": [
    "%%time\n",
    "from sklearn.linear_model import LogisticRegression\n",
    "regEstimator = LogisticRegression()\n",
    "\n",
    "parameters = { 'penalty':['l2']\n",
    "              ,'C': [0.001, 0.01, 0.1, 1, 10, 100]\n",
    "              ,'class_weight': ['balanced']\n",
    "              ,'random_state': [42]\n",
    "              ,'solver': ['liblinear']\n",
    "              ,'max_iter':[1000]\n",
    "             }\n",
    "\n",
    "#Create a grid search object using the  \n",
    "from sklearn.model_selection import GridSearchCV\n",
    "inj_GridSearch = GridSearchCV(estimator=regEstimator\n",
    "                   , n_jobs=8 # jobs to run in parallel\n",
    "                   , verbose=1 # low verbosity\n",
    "                   , param_grid=parameters\n",
    "                   , cv=cv_log # KFolds = 5\n",
    "                   , scoring='accuracy')\n",
    "\n",
    "#Perform hyperparameter search to find the best combination of parameters for our data\n",
    "inj_GridSearch.fit(inj_X, inj_y)"
   ]
  },
  {
   "cell_type": "code",
   "execution_count": null,
   "id": "cba516cc",
   "metadata": {},
   "outputs": [],
   "source": [
    "%%time\n",
    "from sklearn.linear_model import LogisticRegression\n",
    "regEstimator = LogisticRegression()\n",
    "\n",
    "parameters = { 'penalty':['l2']\n",
    "              ,'C': [0.001, 0.01, 0.1, 1, 10, 100]\n",
    "              ,'class_weight': ['balanced']\n",
    "              ,'random_state': [42]\n",
    "              ,'solver': ['liblinear']\n",
    "              ,'max_iter':[1000]\n",
    "             }\n",
    "\n",
    "#Create a grid search object using the  \n",
    "from sklearn.model_selection import GridSearchCV\n",
    "phase_GridSearch = GridSearchCV(estimator=regEstimator\n",
    "                   , n_jobs=8 # jobs to run in parallel\n",
    "                   , verbose=1 # low verbosity\n",
    "                   , param_grid=parameters\n",
    "                   , cv=cv_log # KFolds = 5\n",
    "                   , scoring='accuracy')\n",
    "\n",
    "#Perform hyperparameter search to find the best combination of parameters for our data\n",
    "phase_GridSearch.fit(phase_X, phase_y)"
   ]
  },
  {
   "cell_type": "code",
   "execution_count": null,
   "id": "29473630",
   "metadata": {},
   "outputs": [],
   "source": [
    "%%time\n",
    "#Create KNN Classifier\n",
    "#random state is not something you can use as a parameter in KNN random state set on CV object\n",
    "inj_knn_params = {\n",
    "    \"n_neighbors\": [3,5,7,9,13],\n",
    "    \"weights\": [\"uniform\", \"distance\"],\n",
    "    'leaf_size': (20,40,1),\n",
    "    'p': (1,2),\n",
    "#    'metric': ('minkowski', 'chebyshev'),\n",
    "    }\n",
    "\n",
    "inj_knn_grid = GridSearchCV(estimator = KNeighborsClassifier(),\n",
    "                               n_jobs = -1,\n",
    "                               verbose = 1,\n",
    "                               param_grid = inj_knn_params,\n",
    "                               cv = cv_log,\n",
    "                               scoring = 'accuracy')\n",
    "\n",
    "inj_knn_grid.fit(inj_X,inj_y)"
   ]
  },
  {
   "cell_type": "code",
   "execution_count": null,
   "id": "408114dd",
   "metadata": {},
   "outputs": [],
   "source": [
    "%%time\n",
    "from sklearn.neighbors import KNeighborsClassifier\n",
    "#Create KNN Classifier\n",
    "phase_knn_params = {\n",
    "    \"n_neighbors\": [3,5,7,9,13],\n",
    "    \"weights\": [\"uniform\", \"distance\"],\n",
    "    'leaf_size': (20,40,1),\n",
    "    'p': (1,2),\n",
    "#    'metric': ('minkowski', 'chebyshev'),\n",
    "    }\n",
    "\n",
    "phase_knn_grid = GridSearchCV(estimator = KNeighborsClassifier(),\n",
    "                               n_jobs = -1,\n",
    "                               verbose = 1,\n",
    "                               param_grid = phase_knn_params,\n",
    "                               cv = cv_log,\n",
    "                               scoring = 'accuracy')\n",
    "\n",
    "phase_knn_grid.fit(phase_X,phase_y)"
   ]
  },
  {
   "cell_type": "code",
   "execution_count": null,
   "id": "483bc823",
   "metadata": {},
   "outputs": [],
   "source": [
    "%%time\n",
    "#run random forest on injuries with grid search\n",
    "\n",
    "from sklearn.model_selection import GridSearchCV\n",
    "from sklearn.ensemble import RandomForestClassifier\n",
    "\n",
    "clf_inj_rf = RandomForestClassifier(class_weight = 'balanced')\n",
    "\n",
    "inj_rf_params = {'n_estimators':[5,10,30],\n",
    "                   'max_depth': [ 10,25,50, 100],\n",
    "                   'criterion': ['gini', 'entropy'],\n",
    "                   'min_samples_split': [50],\n",
    "                   'min_samples_leaf': [50],\n",
    "                   'random_state': [42]\n",
    "                  }\n",
    "\n",
    "inj_rf_grid = GridSearchCV(estimator = clf_inj_rf,\n",
    "                               n_jobs = -1,\n",
    "                               verbose = 1,\n",
    "                               param_grid = inj_rf_params,\n",
    "                               cv = cv_log,\n",
    "                               scoring = 'accuracy')\n",
    "\n",
    "inj_rf_grid.fit(inj_X,inj_y)"
   ]
  },
  {
   "cell_type": "code",
   "execution_count": null,
   "id": "0e48c129",
   "metadata": {},
   "outputs": [],
   "source": [
    "%%time\n",
    " \n",
    "# Grid search on Random Forest on  Phase of flight Data Set\n",
    "from sklearn.model_selection import GridSearchCV\n",
    "from sklearn.ensemble import RandomForestClassifier\n",
    " \n",
    "clf_phase_rf = RandomForestClassifier()\n",
    " \n",
    "phase_rf_params = {'n_estimators':[80,90,100],\n",
    "                   'max_depth': [55,65,75],\n",
    "                   'criterion': ['gini', 'entropy'],\n",
    "                 'class_weight':['balanced'],\n",
    "                   'min_samples_split': [300,400,500],\n",
    "                   'min_samples_leaf': [75,100,200],\n",
    "                   'random_state': [42]\n",
    "                  }\n",
    " \n",
    "phase_rf_grid = GridSearchCV(estimator = clf_phase_rf,\n",
    "                               n_jobs = -1,\n",
    "                               verbose = 1,\n",
    "                               param_grid = phase_rf_params,\n",
    "                               cv = cv_log,\n",
    "                               error_score = 'raise')\n",
    " \n",
    "phase_rf_grid.fit(phase_X,phase_y)"
   ]
  },
  {
   "cell_type": "markdown",
   "id": "1c2a7286",
   "metadata": {},
   "source": [
    "### ROC Curve\n",
    "\n",
    "We will plot the ROC curve which is a plot of True Positive Rate vs False Positive Rate. The AUC-ROC will help us visualize how well our KNN classifier is performing. For our dataset, We save the outputs into a dictionary of fpr and tpr (false positive and true positive rates). The keys to the dictionary are the class value"
   ]
  },
  {
   "cell_type": "code",
   "execution_count": 125,
   "id": "4a1f1d84",
   "metadata": {},
   "outputs": [
    {
     "ename": "ValueError",
     "evalue": "Expected 2D array, got 1D array instead:\narray=[0 0 0 ... 1 1 1].\nReshape your data either using array.reshape(-1, 1) if your data has a single feature or array.reshape(1, -1) if it contains a single sample.",
     "output_type": "error",
     "traceback": [
      "\u001b[1;31m---------------------------------------------------------------------------\u001b[0m",
      "\u001b[1;31mValueError\u001b[0m                                Traceback (most recent call last)",
      "\u001b[1;32m<ipython-input-125-34c08a6e0dc0>\u001b[0m in \u001b[0;36m<module>\u001b[1;34m\u001b[0m\n\u001b[0;32m      5\u001b[0m \u001b[0mknn\u001b[0m\u001b[1;33m.\u001b[0m\u001b[0mfit\u001b[0m\u001b[1;33m(\u001b[0m\u001b[0minj_X\u001b[0m\u001b[1;33m,\u001b[0m\u001b[0minj_y\u001b[0m\u001b[1;33m)\u001b[0m\u001b[1;33m\u001b[0m\u001b[1;33m\u001b[0m\u001b[0m\n\u001b[0;32m      6\u001b[0m \u001b[1;33m\u001b[0m\u001b[0m\n\u001b[1;32m----> 7\u001b[1;33m \u001b[0my_scores\u001b[0m \u001b[1;33m=\u001b[0m \u001b[0mknn\u001b[0m\u001b[1;33m.\u001b[0m\u001b[0mpredict_proba\u001b[0m\u001b[1;33m(\u001b[0m\u001b[0minj_y\u001b[0m\u001b[1;33m)\u001b[0m\u001b[1;33m\u001b[0m\u001b[1;33m\u001b[0m\u001b[0m\n\u001b[0m\u001b[0;32m      8\u001b[0m \u001b[0mfpr\u001b[0m\u001b[1;33m,\u001b[0m \u001b[0mtpr\u001b[0m\u001b[1;33m,\u001b[0m \u001b[0mthreshold\u001b[0m \u001b[1;33m=\u001b[0m \u001b[0mroc_curve\u001b[0m\u001b[1;33m(\u001b[0m\u001b[0my_test\u001b[0m\u001b[1;33m,\u001b[0m \u001b[0my_scores\u001b[0m\u001b[1;33m[\u001b[0m\u001b[1;33m:\u001b[0m\u001b[1;33m,\u001b[0m \u001b[1;36m1\u001b[0m\u001b[1;33m]\u001b[0m\u001b[1;33m)\u001b[0m\u001b[1;33m\u001b[0m\u001b[1;33m\u001b[0m\u001b[0m\n\u001b[0;32m      9\u001b[0m \u001b[0mroc_auc\u001b[0m \u001b[1;33m=\u001b[0m \u001b[0mauc\u001b[0m\u001b[1;33m(\u001b[0m\u001b[0mfpr\u001b[0m\u001b[1;33m,\u001b[0m \u001b[0mtpr\u001b[0m\u001b[1;33m)\u001b[0m\u001b[1;33m\u001b[0m\u001b[1;33m\u001b[0m\u001b[0m\n",
      "\u001b[1;32m~\\anaconda3_new\\lib\\site-packages\\sklearn\\neighbors\\_classification.py\u001b[0m in \u001b[0;36mpredict_proba\u001b[1;34m(self, X)\u001b[0m\n\u001b[0;32m    237\u001b[0m             \u001b[0mby\u001b[0m \u001b[0mlexicographic\u001b[0m \u001b[0morder\u001b[0m\u001b[1;33m.\u001b[0m\u001b[1;33m\u001b[0m\u001b[1;33m\u001b[0m\u001b[0m\n\u001b[0;32m    238\u001b[0m         \"\"\"\n\u001b[1;32m--> 239\u001b[1;33m         \u001b[0mX\u001b[0m \u001b[1;33m=\u001b[0m \u001b[0mcheck_array\u001b[0m\u001b[1;33m(\u001b[0m\u001b[0mX\u001b[0m\u001b[1;33m,\u001b[0m \u001b[0maccept_sparse\u001b[0m\u001b[1;33m=\u001b[0m\u001b[1;34m'csr'\u001b[0m\u001b[1;33m)\u001b[0m\u001b[1;33m\u001b[0m\u001b[1;33m\u001b[0m\u001b[0m\n\u001b[0m\u001b[0;32m    240\u001b[0m \u001b[1;33m\u001b[0m\u001b[0m\n\u001b[0;32m    241\u001b[0m         \u001b[0mneigh_dist\u001b[0m\u001b[1;33m,\u001b[0m \u001b[0mneigh_ind\u001b[0m \u001b[1;33m=\u001b[0m \u001b[0mself\u001b[0m\u001b[1;33m.\u001b[0m\u001b[0mkneighbors\u001b[0m\u001b[1;33m(\u001b[0m\u001b[0mX\u001b[0m\u001b[1;33m)\u001b[0m\u001b[1;33m\u001b[0m\u001b[1;33m\u001b[0m\u001b[0m\n",
      "\u001b[1;32m~\\anaconda3_new\\lib\\site-packages\\sklearn\\utils\\validation.py\u001b[0m in \u001b[0;36minner_f\u001b[1;34m(*args, **kwargs)\u001b[0m\n\u001b[0;32m     61\u001b[0m             \u001b[0mextra_args\u001b[0m \u001b[1;33m=\u001b[0m \u001b[0mlen\u001b[0m\u001b[1;33m(\u001b[0m\u001b[0margs\u001b[0m\u001b[1;33m)\u001b[0m \u001b[1;33m-\u001b[0m \u001b[0mlen\u001b[0m\u001b[1;33m(\u001b[0m\u001b[0mall_args\u001b[0m\u001b[1;33m)\u001b[0m\u001b[1;33m\u001b[0m\u001b[1;33m\u001b[0m\u001b[0m\n\u001b[0;32m     62\u001b[0m             \u001b[1;32mif\u001b[0m \u001b[0mextra_args\u001b[0m \u001b[1;33m<=\u001b[0m \u001b[1;36m0\u001b[0m\u001b[1;33m:\u001b[0m\u001b[1;33m\u001b[0m\u001b[1;33m\u001b[0m\u001b[0m\n\u001b[1;32m---> 63\u001b[1;33m                 \u001b[1;32mreturn\u001b[0m \u001b[0mf\u001b[0m\u001b[1;33m(\u001b[0m\u001b[1;33m*\u001b[0m\u001b[0margs\u001b[0m\u001b[1;33m,\u001b[0m \u001b[1;33m**\u001b[0m\u001b[0mkwargs\u001b[0m\u001b[1;33m)\u001b[0m\u001b[1;33m\u001b[0m\u001b[1;33m\u001b[0m\u001b[0m\n\u001b[0m\u001b[0;32m     64\u001b[0m \u001b[1;33m\u001b[0m\u001b[0m\n\u001b[0;32m     65\u001b[0m             \u001b[1;31m# extra_args > 0\u001b[0m\u001b[1;33m\u001b[0m\u001b[1;33m\u001b[0m\u001b[1;33m\u001b[0m\u001b[0m\n",
      "\u001b[1;32m~\\anaconda3_new\\lib\\site-packages\\sklearn\\utils\\validation.py\u001b[0m in \u001b[0;36mcheck_array\u001b[1;34m(array, accept_sparse, accept_large_sparse, dtype, order, copy, force_all_finite, ensure_2d, allow_nd, ensure_min_samples, ensure_min_features, estimator)\u001b[0m\n\u001b[0;32m    635\u001b[0m             \u001b[1;31m# If input is 1D raise error\u001b[0m\u001b[1;33m\u001b[0m\u001b[1;33m\u001b[0m\u001b[1;33m\u001b[0m\u001b[0m\n\u001b[0;32m    636\u001b[0m             \u001b[1;32mif\u001b[0m \u001b[0marray\u001b[0m\u001b[1;33m.\u001b[0m\u001b[0mndim\u001b[0m \u001b[1;33m==\u001b[0m \u001b[1;36m1\u001b[0m\u001b[1;33m:\u001b[0m\u001b[1;33m\u001b[0m\u001b[1;33m\u001b[0m\u001b[0m\n\u001b[1;32m--> 637\u001b[1;33m                 raise ValueError(\n\u001b[0m\u001b[0;32m    638\u001b[0m                     \u001b[1;34m\"Expected 2D array, got 1D array instead:\\narray={}.\\n\"\u001b[0m\u001b[1;33m\u001b[0m\u001b[1;33m\u001b[0m\u001b[0m\n\u001b[0;32m    639\u001b[0m                     \u001b[1;34m\"Reshape your data either using array.reshape(-1, 1) if \"\u001b[0m\u001b[1;33m\u001b[0m\u001b[1;33m\u001b[0m\u001b[0m\n",
      "\u001b[1;31mValueError\u001b[0m: Expected 2D array, got 1D array instead:\narray=[0 0 0 ... 1 1 1].\nReshape your data either using array.reshape(-1, 1) if your data has a single feature or array.reshape(1, -1) if it contains a single sample."
     ]
    }
   ],
   "source": [
    "from sklearn.metrics import roc_curve\n",
    "from sklearn.metrics import auc\n",
    "import matplotlib.pyplot as plt\n",
    "knn = KNeighborsClassifier(n_neighbors = 5)\n",
    "knn.fit(inj_X,inj_y)\n",
    "\n",
    "y_scores = knn.predict_proba(inj_y)\n",
    "fpr, tpr, threshold = roc_curve(y_test, y_scores[:, 1])\n",
    "roc_auc = auc(fpr, tpr)\n",
    "\n",
    "plt.title('Receiver Operating Characteristic')\n",
    "plt.plot(fpr, tpr, 'b', label = 'AUC = %0.2f' % roc_auc)\n",
    "plt.legend(loc = 'lower right')\n",
    "plt.plot([0, 1], [0, 1],'r--')\n",
    "plt.xlim([0, 1])\n",
    "plt.ylim([0, 1])\n",
    "plt.ylabel('True Positive Rate')\n",
    "plt.xlabel('False Positive Rate')\n",
    "plt.title('ROC Curve of kNN')\n",
    "plt.show()"
   ]
  },
  {
   "cell_type": "code",
   "execution_count": null,
   "id": "b27790e6",
   "metadata": {},
   "outputs": [],
   "source": [
    "print(roc_auc)"
   ]
  },
  {
   "cell_type": "code",
   "execution_count": null,
   "id": "a863d827",
   "metadata": {},
   "outputs": [],
   "source": [
    "#Perform hyperparameter search to find the best k value\n",
    "param_grid = {'n_neighbors':np.arange(1,21)}\n",
    "knn = KNeighborsClassifier()\n",
    "knn_cv= GridSearchCV(knn,param_grid,cv=10)\n",
    "knn_cv.fit(inj_X,inj_y)"
   ]
  },
  {
   "cell_type": "code",
   "execution_count": null,
   "id": "ae34fe43",
   "metadata": {},
   "outputs": [],
   "source": [
    "knn_cv.best_score_"
   ]
  },
  {
   "cell_type": "code",
   "execution_count": null,
   "id": "dd9cd134",
   "metadata": {},
   "outputs": [],
   "source": [
    "knn_cv.best_params_"
   ]
  },
  {
   "cell_type": "code",
   "execution_count": null,
   "id": "0b1d0c68",
   "metadata": {},
   "outputs": [],
   "source": [
    "knn_cv.best_estimator_"
   ]
  },
  {
   "cell_type": "code",
   "execution_count": null,
   "id": "a8519d34",
   "metadata": {},
   "outputs": [],
   "source": [
    "#We will try the roc curve with new k value\n",
    "from sklearn.metrics import roc_curve\n",
    "from sklearn.metrics import auc\n",
    "import matplotlib.pyplot as plt\n",
    "knn = KNeighborsClassifier(n_neighbors = 20)\n",
    "knn.fit(X_train,y_train)\n",
    "\n",
    "y_scores = knn.predict_proba(X_test)\n",
    "fpr, tpr, threshold = roc_curve(y_test, y_scores[:, 1])\n",
    "roc_auc = auc(fpr, tpr)\n",
    "\n",
    "plt.title('Receiver Operating Characteristic')\n",
    "plt.plot(fpr, tpr, 'b', label = 'AUC = %0.2f' % roc_auc)\n",
    "plt.legend(loc = 'lower right')\n",
    "plt.plot([0, 1], [0, 1],'r--')\n",
    "plt.xlim([0, 1])\n",
    "plt.ylim([0, 1])\n",
    "plt.ylabel('True Positive Rate')\n",
    "plt.xlabel('False Positive Rate')\n",
    "plt.title('ROC Curve of kNN')\n",
    "plt.show()"
   ]
  },
  {
   "cell_type": "markdown",
   "id": "27671ebe",
   "metadata": {},
   "source": [
    "We had a better AUC score of 86% with k=20"
   ]
  },
  {
   "cell_type": "code",
   "execution_count": null,
   "id": "be58224f",
   "metadata": {},
   "outputs": [],
   "source": []
  }
 ],
 "metadata": {
  "kernelspec": {
   "display_name": "Python 3 (ipykernel)",
   "language": "python",
   "name": "python3"
  },
  "language_info": {
   "codemirror_mode": {
    "name": "ipython",
    "version": 3
   },
   "file_extension": ".py",
   "mimetype": "text/x-python",
   "name": "python",
   "nbconvert_exporter": "python",
   "pygments_lexer": "ipython3",
   "version": "3.8.2"
  }
 },
 "nbformat": 4,
 "nbformat_minor": 5
}
