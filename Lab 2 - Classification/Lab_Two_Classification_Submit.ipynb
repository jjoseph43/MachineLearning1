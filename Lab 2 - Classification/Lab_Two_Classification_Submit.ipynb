{
 "cells": [
  {
   "cell_type": "markdown",
   "id": "079fa961",
   "metadata": {},
   "source": [
    "# Lab Two: Classification\n",
    "\n",
    "Dylan Scott, Satvik Ajmera, Nnenna Okpara, Jobin Joseph"
   ]
  },
  {
   "cell_type": "markdown",
   "id": "6b612327",
   "metadata": {},
   "source": [
    "# NTSB Aviation Accident and Incident Data (NTSB)\n",
    "\n",
    "Source: https://data.ntsb.gov/avdata\n",
    "\n",
    "From the source, we will be using the NTSB data which consists of various attributes related to aviation accidents and incidents. This data includes incidents and accidents that have occured till date. \n",
    "\n",
    "The goal for this lab is to build two classification models that predict:\n",
    "\n",
    "1. Predicting if an incident/accident has resulted in an injury (binary classification)\n",
    "2. Predicting the phase of flight for an incident that has occured (multiclass classification)\n",
    "\n",
    "For this we will create two dataframes for these two classification problems."
   ]
  },
  {
   "cell_type": "code",
   "execution_count": 1,
   "id": "b884cdd7",
   "metadata": {},
   "outputs": [],
   "source": [
    "import pandas as pd\n",
    "import numpy as np\n",
    "\n",
    "from sklearn.metrics import roc_curve\n",
    "from sklearn.metrics import auc\n",
    "import matplotlib.pyplot as plt\n",
    "import seaborn as sns"
   ]
  },
  {
   "cell_type": "markdown",
   "id": "6ce08fc6",
   "metadata": {},
   "source": [
    "# 1. Data Preparation Part 1"
   ]
  },
  {
   "cell_type": "markdown",
   "id": "8f0b9727",
   "metadata": {},
   "source": [
    "**[10 points] Define and prepare your class variables. Use proper variable representations (int, float, one-hot, etc.). Use pre-processing methods (as needed) for dimensionality reduction, scaling, etc. Remove variables that are not needed/useful for the analysis.**"
   ]
  },
  {
   "cell_type": "code",
   "execution_count": 2,
   "id": "ef109db0",
   "metadata": {
    "scrolled": true
   },
   "outputs": [
    {
     "name": "stdout",
     "output_type": "stream",
     "text": [
      "<class 'pandas.core.frame.DataFrame'>\n",
      "RangeIndex: 115706 entries, 0 to 115705\n",
      "Data columns (total 27 columns):\n",
      " #   Column             Non-Null Count   Dtype  \n",
      "---  ------             --------------   -----  \n",
      " 0   acft_make          115643 non-null  object \n",
      " 1   acft_model         115630 non-null  object \n",
      " 2   cert_max_gr_wt     98673 non-null   float64\n",
      " 3   acft_category      115287 non-null  object \n",
      " 4   damage             113877 non-null  object \n",
      " 5   far_part           114925 non-null  object \n",
      " 6   afm_hrs_last_insp  60298 non-null   float64\n",
      " 7   type_fly           108599 non-null  object \n",
      " 8   dprt_state         108791 non-null  object \n",
      " 9   rwy_len            64222 non-null   float64\n",
      " 10  rwy_width          63110 non-null   float64\n",
      " 11  ev_type            115706 non-null  object \n",
      " 12  ev_city            115646 non-null  object \n",
      " 13  ev_state           109635 non-null  object \n",
      " 14  ev_country         115199 non-null  object \n",
      " 15  inj_f_grnd         51624 non-null   float64\n",
      " 16  inj_m_grnd         51543 non-null   float64\n",
      " 17  inj_s_grnd         51520 non-null   float64\n",
      " 18  inj_tot_f          64375 non-null   float64\n",
      " 19  inj_tot_m          63902 non-null   float64\n",
      " 20  inj_tot_n          90784 non-null   float64\n",
      " 21  inj_tot_s          60713 non-null   float64\n",
      " 22  inj_tot_t          79933 non-null   float64\n",
      " 23  sky_cond_ceil      104219 non-null  object \n",
      " 24  sky_cond_nonceil   100624 non-null  object \n",
      " 25  wx_int_precip      49898 non-null   object \n",
      " 26  phase_flt_spec     113882 non-null  object \n",
      "dtypes: float64(12), object(15)\n",
      "memory usage: 23.8+ MB\n"
     ]
    }
   ],
   "source": [
    "#Read in the Aviation Data\n",
    "final_data = pd.read_csv(\"../Data/final_data.csv\",low_memory=False,dtype={'damage': str})\n",
    "#Delete columns that were imported incorrectly\n",
    "del final_data[\"Unnamed: 0\"]\n",
    "del final_data[\"dprt_state.1\"]\n",
    "del final_data[\"dprt_city\"]\n",
    "del final_data[\"index\"]\n",
    "del final_data[\"ntsb_no_x\"]\n",
    "del final_data['wind_vel_ind']\n",
    "del final_data[\"ev_id\"]\n",
    "del final_data['ev_highest_injury']\n",
    "\n",
    "final_data.info()"
   ]
  },
  {
   "cell_type": "markdown",
   "id": "a0e38e57",
   "metadata": {},
   "source": [
    "### 1a. Data Preparation for predicting Injury"
   ]
  },
  {
   "cell_type": "code",
   "execution_count": 3,
   "id": "395cfe13",
   "metadata": {},
   "outputs": [],
   "source": [
    "#replace the all empty values to Nan\n",
    "final_data= final_data.replace(r'^\\s+$', np.nan, regex=True)"
   ]
  },
  {
   "cell_type": "code",
   "execution_count": 4,
   "id": "f0cb7031",
   "metadata": {},
   "outputs": [],
   "source": [
    "#Upper case all factor levels for each categorical variable\n",
    "final_data['acft_make'] = final_data['acft_make'].str.upper()\n",
    "final_data['acft_category'] = final_data['acft_category'].str.upper()\n",
    "final_data['damage'] = final_data['damage'].str.upper()\n",
    "final_data['type_fly'] = final_data['type_fly'].str.upper()\n",
    "final_data['dprt_state'] = final_data['dprt_state'].str.upper()\n",
    "final_data['ev_city'] = final_data['ev_city'].str.upper()\n",
    "final_data['ev_type'] = final_data['ev_type'].str.upper()\n",
    "final_data['ev_city'] = final_data['ev_city'].str.upper()\n",
    "final_data['ev_country'] = final_data['ev_country'].str.upper()\n",
    "final_data['sky_cond_ceil'] = final_data['sky_cond_ceil'].str.upper()\n",
    "final_data['sky_cond_nonceil'] = final_data['sky_cond_nonceil'].str.upper()\n",
    "final_data['wx_int_precip'] = final_data['wx_int_precip'].str.upper()\n",
    "final_data['phase_flt_spec'] = final_data['phase_flt_spec'].str.upper()"
   ]
  },
  {
   "cell_type": "code",
   "execution_count": 5,
   "id": "5fb3d536",
   "metadata": {},
   "outputs": [],
   "source": [
    "final_data.loc[final_data['damage'].str.contains('UNK', na=False), 'damage'] = 'UNK'\n",
    "\n",
    "#rename the injuries columns to make them easier to read\n",
    "final_data = final_data.rename(columns={\"inj_tot_f\": \"Total_Fatal_Injuries\", \n",
    "                                        \"inj_tot_s\":\"Total_Serious_Injuries\",\n",
    "                                        \"inj_tot_m\":\"Total_Minor_Injuries\",\n",
    "                                        \"inj_tot_n\":'Total_Uninjured',\n",
    "                                        \"inj_tot_t\":\"Total_Injuries_Flight\"})\n",
    "\n",
    "#fill in 0s when there wasn't an injury in that category\n",
    "final_data.update(final_data[['Total_Fatal_Injuries','Total_Serious_Injuries',\n",
    "                              'Total_Minor_Injuries','Total_Uninjured',\n",
    "                              'Total_Injuries_Flight','inj_f_grnd',\n",
    "                              'inj_m_grnd','inj_s_grnd']].fillna(0))"
   ]
  },
  {
   "cell_type": "code",
   "execution_count": 6,
   "id": "fa26f1ed",
   "metadata": {},
   "outputs": [
    {
     "data": {
      "text/html": [
       "<div>\n",
       "<style scoped>\n",
       "    .dataframe tbody tr th:only-of-type {\n",
       "        vertical-align: middle;\n",
       "    }\n",
       "\n",
       "    .dataframe tbody tr th {\n",
       "        vertical-align: top;\n",
       "    }\n",
       "\n",
       "    .dataframe thead th {\n",
       "        text-align: right;\n",
       "    }\n",
       "</style>\n",
       "<table border=\"1\" class=\"dataframe\">\n",
       "  <thead>\n",
       "    <tr style=\"text-align: right;\">\n",
       "      <th></th>\n",
       "      <th>acft_make</th>\n",
       "      <th>acft_model</th>\n",
       "      <th>cert_max_gr_wt</th>\n",
       "      <th>acft_category</th>\n",
       "      <th>damage</th>\n",
       "      <th>far_part</th>\n",
       "      <th>afm_hrs_last_insp</th>\n",
       "      <th>type_fly</th>\n",
       "      <th>dprt_state</th>\n",
       "      <th>rwy_len</th>\n",
       "      <th>...</th>\n",
       "      <th>inj_s_grnd</th>\n",
       "      <th>Total_Fatal_Injuries</th>\n",
       "      <th>Total_Minor_Injuries</th>\n",
       "      <th>Total_Uninjured</th>\n",
       "      <th>Total_Serious_Injuries</th>\n",
       "      <th>Total_Injuries_Flight</th>\n",
       "      <th>sky_cond_ceil</th>\n",
       "      <th>sky_cond_nonceil</th>\n",
       "      <th>wx_int_precip</th>\n",
       "      <th>phase_flt_spec</th>\n",
       "    </tr>\n",
       "  </thead>\n",
       "  <tbody>\n",
       "    <tr>\n",
       "      <th>0</th>\n",
       "      <td>BOEING</td>\n",
       "      <td>747-100</td>\n",
       "      <td>750000.0</td>\n",
       "      <td>AIR</td>\n",
       "      <td>MINR</td>\n",
       "      <td>121</td>\n",
       "      <td>113.0</td>\n",
       "      <td>UNK</td>\n",
       "      <td>JA</td>\n",
       "      <td>11800.0</td>\n",
       "      <td>...</td>\n",
       "      <td>0.0</td>\n",
       "      <td>0.0</td>\n",
       "      <td>0.0</td>\n",
       "      <td>4.0</td>\n",
       "      <td>0.0</td>\n",
       "      <td>0.0</td>\n",
       "      <td>NONE</td>\n",
       "      <td>SCAT</td>\n",
       "      <td>UNK</td>\n",
       "      <td>LANDING</td>\n",
       "    </tr>\n",
       "    <tr>\n",
       "      <th>1</th>\n",
       "      <td>CESSNA</td>\n",
       "      <td>172</td>\n",
       "      <td>2300.0</td>\n",
       "      <td>AIR</td>\n",
       "      <td>SUBS</td>\n",
       "      <td>091</td>\n",
       "      <td>40.0</td>\n",
       "      <td>PERS</td>\n",
       "      <td>UNK</td>\n",
       "      <td>6398.0</td>\n",
       "      <td>...</td>\n",
       "      <td>0.0</td>\n",
       "      <td>0.0</td>\n",
       "      <td>0.0</td>\n",
       "      <td>1.0</td>\n",
       "      <td>0.0</td>\n",
       "      <td>0.0</td>\n",
       "      <td>BKN</td>\n",
       "      <td>UNK</td>\n",
       "      <td>LGT</td>\n",
       "      <td>UNKNOWN</td>\n",
       "    </tr>\n",
       "    <tr>\n",
       "      <th>2</th>\n",
       "      <td>CESSNA</td>\n",
       "      <td>207</td>\n",
       "      <td>3800.0</td>\n",
       "      <td>AIR</td>\n",
       "      <td>SUBS</td>\n",
       "      <td>135</td>\n",
       "      <td>49.0</td>\n",
       "      <td>UNK</td>\n",
       "      <td>AK</td>\n",
       "      <td>2610.0</td>\n",
       "      <td>...</td>\n",
       "      <td>0.0</td>\n",
       "      <td>0.0</td>\n",
       "      <td>0.0</td>\n",
       "      <td>1.0</td>\n",
       "      <td>0.0</td>\n",
       "      <td>0.0</td>\n",
       "      <td>BKN</td>\n",
       "      <td>UNK</td>\n",
       "      <td>UNK</td>\n",
       "      <td>DESCENT</td>\n",
       "    </tr>\n",
       "  </tbody>\n",
       "</table>\n",
       "<p>3 rows × 27 columns</p>\n",
       "</div>"
      ],
      "text/plain": [
       "                        acft_make            acft_model  cert_max_gr_wt  \\\n",
       "0  BOEING                          747-100                     750000.0   \n",
       "1  CESSNA                          172                           2300.0   \n",
       "2  CESSNA                          207                           3800.0   \n",
       "\n",
       "  acft_category damage far_part  afm_hrs_last_insp type_fly dprt_state  \\\n",
       "0          AIR    MINR     121               113.0     UNK          JA   \n",
       "1          AIR    SUBS     091                40.0     PERS        UNK   \n",
       "2          AIR    SUBS     135                49.0     UNK          AK   \n",
       "\n",
       "   rwy_len  ...  inj_s_grnd Total_Fatal_Injuries Total_Minor_Injuries  \\\n",
       "0  11800.0  ...         0.0                  0.0                  0.0   \n",
       "1   6398.0  ...         0.0                  0.0                  0.0   \n",
       "2   2610.0  ...         0.0                  0.0                  0.0   \n",
       "\n",
       "  Total_Uninjured Total_Serious_Injuries  Total_Injuries_Flight  \\\n",
       "0             4.0                    0.0                    0.0   \n",
       "1             1.0                    0.0                    0.0   \n",
       "2             1.0                    0.0                    0.0   \n",
       "\n",
       "   sky_cond_ceil  sky_cond_nonceil  wx_int_precip  phase_flt_spec  \n",
       "0           NONE              SCAT            UNK         LANDING  \n",
       "1            BKN               UNK            LGT         UNKNOWN  \n",
       "2            BKN               UNK            UNK         DESCENT  \n",
       "\n",
       "[3 rows x 27 columns]"
      ]
     },
     "execution_count": 6,
     "metadata": {},
     "output_type": "execute_result"
    }
   ],
   "source": [
    "final_data.dropna(subset=['cert_max_gr_wt','afm_hrs_last_insp',\n",
    "                          'rwy_len','rwy_width'],inplace=True)\n",
    "final_data = final_data.reset_index(drop=True)\n",
    "final_data.update(final_data.fillna(\"UNK\"))\n",
    "phase_df = final_data.copy()\n",
    "final_data.head(3)"
   ]
  },
  {
   "cell_type": "code",
   "execution_count": 7,
   "id": "f4aac1a4",
   "metadata": {},
   "outputs": [
    {
     "data": {
      "text/html": [
       "<div>\n",
       "<style scoped>\n",
       "    .dataframe tbody tr th:only-of-type {\n",
       "        vertical-align: middle;\n",
       "    }\n",
       "\n",
       "    .dataframe tbody tr th {\n",
       "        vertical-align: top;\n",
       "    }\n",
       "\n",
       "    .dataframe thead th {\n",
       "        text-align: right;\n",
       "    }\n",
       "</style>\n",
       "<table border=\"1\" class=\"dataframe\">\n",
       "  <thead>\n",
       "    <tr style=\"text-align: right;\">\n",
       "      <th></th>\n",
       "      <th>index</th>\n",
       "      <th>Injury</th>\n",
       "    </tr>\n",
       "  </thead>\n",
       "  <tbody>\n",
       "    <tr>\n",
       "      <th>0</th>\n",
       "      <td>1</td>\n",
       "      <td>18750</td>\n",
       "    </tr>\n",
       "    <tr>\n",
       "      <th>1</th>\n",
       "      <td>0</td>\n",
       "      <td>16677</td>\n",
       "    </tr>\n",
       "  </tbody>\n",
       "</table>\n",
       "</div>"
      ],
      "text/plain": [
       "   index  Injury\n",
       "0      1   18750\n",
       "1      0   16677"
      ]
     },
     "execution_count": 7,
     "metadata": {},
     "output_type": "execute_result"
    }
   ],
   "source": [
    "#we want to account for ALL injuries. This includes injuries on the ground as well as passangers\n",
    "#Here we will make a new column that shows total injuries including ground ones\n",
    "final_data['Total_Injuries_Ground'] = final_data['inj_f_grnd']+final_data['inj_m_grnd']+final_data['inj_s_grnd']\n",
    "final_data['Total_Injuries'] = final_data['Total_Injuries_Ground']+final_data['Total_Injuries_Flight']\n",
    "final_data['Injury'] = np.where(final_data['Total_Injuries'] >0,1,0)\n",
    "injuries = final_data[\"Injury\"].value_counts().reset_index()\n",
    "injuries.head(3)"
   ]
  },
  {
   "cell_type": "code",
   "execution_count": 8,
   "id": "01a2367c",
   "metadata": {},
   "outputs": [],
   "source": [
    "final_df = final_data.copy()\n",
    "#Since we added up all of our injuries we don't need the other columns that include injury count since it will be colinear to our prediction variable\n",
    "final_df = final_df.drop(['Total_Fatal_Injuries','Total_Serious_Injuries','Total_Minor_Injuries',\n",
    "                          'Total_Uninjured','Total_Injuries_Flight','inj_f_grnd','inj_m_grnd',\n",
    "                          'inj_s_grnd','Total_Injuries_Ground',\"Total_Injuries\"],axis = 1)\n",
    "final_df = final_df.reset_index(drop=True)"
   ]
  },
  {
   "cell_type": "markdown",
   "id": "f0886957",
   "metadata": {},
   "source": [
    "#### Preprocessing and Final Dataset description for Binary Classification: `Injury` \n",
    "\n",
    "We fixed the levels of columns that should have been grouped together for the `damage` predictor. We fixed the levels of the `ev_city`, by making all the city names uppercase so they would be grouped together. Then, we took the subset of the continuous predictors: `cert_max_gr_wt`,`afm_hrs_last_insp`,`rwy_len`, and `rwy_width` and removed all the NAs. We were left with approximately 35,000 rows that would be usable for prediction.\n",
    "\n",
    "The NTSB database allowed use to include ground injuries in addition to flight injuries. So we renamed the columns, replaced the NAs in these columns with 0 and summed all them to get a total injuries column. We wanted to only include the total injuries and drop the other types of injury columns. From there, we converted the total injuries column to a binary variable for classification. If the total injuries were greater than 1, it is considered injured and less than 1 is uninjured. Our last step was to impute all the NA's for the categorical values with an unknown value called `UNK` In all, we are left with the dataframe `final_df` which consisted of 21 columns and 35,427 observations. \n",
    "\n",
    "Of the total 35,427 observations, 18750 observations were reported as injured and 16677 were reported as uninjured. This column called `Injury` is the response variable, we would like to predict for the classification problem.\n",
    "\n",
    "Our final preprocess method was one-hot encoding our categorical variables and standardize and scaled continuous predictors. We did this, because standardizing and scaling some predictors are not on the same scale such as `cert_max_gr_wt`."
   ]
  },
  {
   "cell_type": "code",
   "execution_count": 9,
   "id": "a49d42a6",
   "metadata": {},
   "outputs": [],
   "source": [
    "injury_df = final_df.copy()"
   ]
  },
  {
   "cell_type": "markdown",
   "id": "0b35149a",
   "metadata": {},
   "source": [
    "Now we will one hot encode `injury_df` so they can be used in our models.\n",
    "\n",
    "1. For classification of `Injury`, the our X and y are called `inj_X` and `inj_y`. "
   ]
  },
  {
   "cell_type": "code",
   "execution_count": 10,
   "id": "a5921ee0",
   "metadata": {},
   "outputs": [],
   "source": [
    "inj_X = injury_df.drop(\"Injury\", axis = 1).copy()\n",
    "inj_y = injury_df[\"Injury\"].copy()"
   ]
  },
  {
   "cell_type": "markdown",
   "id": "4d7b051c",
   "metadata": {},
   "source": [
    "#### One-Hot Encoding `inj_X` and `inj_y`"
   ]
  },
  {
   "cell_type": "code",
   "execution_count": 11,
   "id": "4974ded1",
   "metadata": {},
   "outputs": [],
   "source": [
    "from sklearn.preprocessing import OneHotEncoder, StandardScaler\n",
    "from sklearn.pipeline import Pipeline\n",
    "from sklearn.compose import ColumnTransformer\n",
    "numeric_features = ['cert_max_gr_wt',\"afm_hrs_last_insp\",\"rwy_width\",'rwy_len']\n",
    "\n",
    "numeric_transformer = Pipeline(steps=[('scaler', StandardScaler(with_mean=False))])\n",
    "\n",
    "categorical_features = ['acft_make', 'acft_model', 'acft_category', 'damage', 'type_fly', 'dprt_state','ev_type', 'ev_state', 'sky_cond_ceil', 'sky_cond_nonceil', 'wx_int_precip', 'phase_flt_spec','ev_city','ev_country','far_part']\n",
    "\n",
    "\n",
    "categorical_transformer = Pipeline(steps=[('onehot', OneHotEncoder(drop=\"first\"))])\n",
    "\n",
    "\n",
    "preprocessor = ColumnTransformer(\n",
    "    transformers=[\n",
    "        ('num', numeric_transformer, numeric_features),\n",
    "        ('cat', categorical_transformer, categorical_features)])\n",
    "\n",
    "inj_pipeline = Pipeline(steps=[('preprocessor', preprocessor)])"
   ]
  },
  {
   "cell_type": "code",
   "execution_count": 12,
   "id": "a9ed5bab",
   "metadata": {},
   "outputs": [],
   "source": [
    "inj_X = inj_pipeline.fit_transform(inj_X)"
   ]
  },
  {
   "cell_type": "code",
   "execution_count": 13,
   "id": "b3204f50",
   "metadata": {},
   "outputs": [
    {
     "data": {
      "text/plain": [
       "<35427x18468 sparse matrix of type '<class 'numpy.float64'>'\n",
       "\twith 587128 stored elements in Compressed Sparse Row format>"
      ]
     },
     "execution_count": 13,
     "metadata": {},
     "output_type": "execute_result"
    }
   ],
   "source": [
    "inj_X"
   ]
  },
  {
   "cell_type": "markdown",
   "id": "c723aad5",
   "metadata": {},
   "source": [
    "#### Label encoding `inj_y`"
   ]
  },
  {
   "cell_type": "code",
   "execution_count": 14,
   "id": "1c0832d2",
   "metadata": {
    "scrolled": true
   },
   "outputs": [
    {
     "data": {
      "text/plain": [
       "array([0, 0, 0, ..., 1, 1, 1], dtype=int64)"
      ]
     },
     "execution_count": 14,
     "metadata": {},
     "output_type": "execute_result"
    }
   ],
   "source": [
    "from sklearn.preprocessing import LabelEncoder\n",
    "LE = LabelEncoder()\n",
    "LE.fit(inj_y)\n",
    "inj_y = LE.transform(inj_y)\n",
    "inj_y"
   ]
  },
  {
   "cell_type": "markdown",
   "id": "9262a0b7",
   "metadata": {},
   "source": [
    "### 1b. Data Preparation for predicting the Phase of Flight"
   ]
  },
  {
   "cell_type": "code",
   "execution_count": 15,
   "id": "e21d81c4",
   "metadata": {},
   "outputs": [
    {
     "data": {
      "text/plain": [
       "LANDING        16743\n",
       "TAKEOFF         5776\n",
       "APPROACH        3300\n",
       "DESCENT         2995\n",
       "MANEUVERING     1569\n",
       "CRUISE          1218\n",
       "CLIMB            923\n",
       "TAXI             741\n",
       "STANDING         393\n",
       "GOAROUND         301\n",
       "HOVER             94\n",
       "Name: phase_flt_spec, dtype: int64"
      ]
     },
     "execution_count": 15,
     "metadata": {},
     "output_type": "execute_result"
    }
   ],
   "source": [
    "#Removed columns that contain UNKNOWN, UNK and OTHER factor levels\n",
    "new_phase_df = phase_df[(phase_df['phase_flt_spec'] != \"UNKNOWN\") & (phase_df['phase_flt_spec'] != \"UNK\") & (phase_df['phase_flt_spec'] != \"OTHER\")].copy()\n",
    "new_phase_df[\"phase_flt_spec\"].value_counts()"
   ]
  },
  {
   "cell_type": "code",
   "execution_count": 16,
   "id": "3fddc0bc",
   "metadata": {},
   "outputs": [],
   "source": [
    "new_phase_df.reset_index(drop=True,inplace=True)"
   ]
  },
  {
   "cell_type": "code",
   "execution_count": 17,
   "id": "53f2988a",
   "metadata": {
    "scrolled": true
   },
   "outputs": [],
   "source": [
    "new_phase_df[\"phase_flt_spec\"] = new_phase_df[\"phase_flt_spec\"].replace({\"APPROACH\":1,\"CLIMB\":2,\n",
    "                                                                         \"CRUISE\":3,\"DESCENT\":4,\n",
    "                                                                         \"GOAROUND\":5,\"HOVER\":6,\n",
    "                                                                         \"LANDING\":7,\"MANEUVERING\":8,\n",
    "                                                                         \"STANDING\":9,\"TAKEOFF\":10,\n",
    "                                                                         \"TAXI\":11})"
   ]
  },
  {
   "cell_type": "markdown",
   "id": "19d7cd2b",
   "metadata": {},
   "source": [
    "#### Preprocessing and Final Dataset description for Multiclass Classification: `phase_flt_spec` \n",
    "\n",
    "\n",
    "The response variable for the second classification problem is called `phase_flt_spec`. This variable is the broad phase of flight where an incident has occurred. So there are three factor levels that were removed called `UNKNOWN`, `UNK` and `OTHER`, because we would like to predict specific broad phases of flights where aviation accidents occured. Additionally, we wanted to include the several injury columns in this dataframe because it may be important in predicting the broad phase. inj_f_grnd, inj_m_grnd, and inj_s_grnd represent the number of minor, fatal and serious ground injuries. Total_Fatal_Injuries, Total_Minor_Injuries, Total_Serious_Injuries correspond to the number of injuries occured that were serious, minor, or fatal on the flight. The Total_Uninjured correspond to the total number of uninjured people on the flight and Total_Injuries_Flight correspond to the total number of injuries that have occured on the flight. So we are left with 26 predictors and 35,427 instances. The response variable has 11 factor levels for each broad phase of flight which have been coded to integers. Shown here:\n",
    "\n",
    "|phase_flt_spec||Code|\n",
    "|----||----|\n",
    "|APPROACH||1|\n",
    "|CLIMB||2|\n",
    "|CRUISE||3|\n",
    "|DESCENT||4|\n",
    "|GOAROUND||5|\n",
    "|HOVER||6|\n",
    "|LANDING||7|\n",
    "|MANEUVERING||8|\n",
    "|STANDING||9|\n",
    "|TAKEOFF||10|\n",
    "|TAXI||11|\n",
    "\n",
    "Our final preprocess method was one-hot encoding our categorical variables, standardize and scale continuous predictors for the same reasons before."
   ]
  },
  {
   "cell_type": "markdown",
   "id": "af82a891",
   "metadata": {},
   "source": [
    "Now we will one hot encode `new_phase_df` so they can be used in our models.\n",
    "\n",
    "2. For classfication of `phase_flt_spec` (Broad Phase of Flight), the X and y are called `phase_X` and `phase_y`"
   ]
  },
  {
   "cell_type": "code",
   "execution_count": 18,
   "id": "73153a01",
   "metadata": {},
   "outputs": [],
   "source": [
    "new_phase_df = new_phase_df.drop('ev_city', axis = 1).copy()\n",
    "\n",
    "phase_X = new_phase_df.drop(\"phase_flt_spec\", axis = 1).copy()\n",
    "phase_y = new_phase_df[\"phase_flt_spec\"].copy()"
   ]
  },
  {
   "cell_type": "code",
   "execution_count": 19,
   "id": "11919fa3",
   "metadata": {},
   "outputs": [],
   "source": [
    "from sklearn.preprocessing import OneHotEncoder, StandardScaler\n",
    "from sklearn.pipeline import Pipeline\n",
    "from sklearn.compose import ColumnTransformer\n",
    "numeric_features = ['cert_max_gr_wt',\"afm_hrs_last_insp\",\"rwy_width\",'rwy_len','inj_f_grnd','inj_m_grnd',\n",
    "                    'inj_s_grnd','Total_Fatal_Injuries','Total_Minor_Injuries','Total_Uninjured',\n",
    "                    'Total_Serious_Injuries','Total_Injuries_Flight']\n",
    "\n",
    "numeric_transformer = Pipeline(steps=[('scaler', StandardScaler(with_mean=False))])\n",
    "\n",
    "categorical_features = ['acft_make', 'acft_model', 'acft_category', 'damage', 'type_fly', 'dprt_state','ev_state', 'sky_cond_ceil', 'sky_cond_nonceil', 'wx_int_precip', 'ev_country','far_part']\n",
    "\n",
    "\n",
    "categorical_transformer = Pipeline(steps=[('onehot', OneHotEncoder(drop=\"first\"))])\n",
    "\n",
    "\n",
    "preprocessor = ColumnTransformer(\n",
    "    transformers=[\n",
    "        ('num', numeric_transformer, numeric_features),\n",
    "        ('cat', categorical_transformer, categorical_features)])\n",
    "\n",
    "phase_pipeline = Pipeline(steps=[('preprocessor', preprocessor)])"
   ]
  },
  {
   "cell_type": "code",
   "execution_count": 20,
   "id": "16cac3fa",
   "metadata": {},
   "outputs": [],
   "source": [
    "phase_X = phase_pipeline.fit_transform(phase_X)"
   ]
  },
  {
   "cell_type": "code",
   "execution_count": 21,
   "id": "39570880",
   "metadata": {
    "scrolled": true
   },
   "outputs": [
    {
     "data": {
      "text/plain": [
       "<34053x8831 sparse matrix of type '<class 'numpy.float64'>'\n",
       "\twith 555024 stored elements in Compressed Sparse Row format>"
      ]
     },
     "execution_count": 21,
     "metadata": {},
     "output_type": "execute_result"
    }
   ],
   "source": [
    "phase_X"
   ]
  },
  {
   "cell_type": "markdown",
   "id": "02d89495",
   "metadata": {},
   "source": [
    "#### One-Hot Encoding `phase_X` and `phase_y`"
   ]
  },
  {
   "cell_type": "code",
   "execution_count": 22,
   "id": "293d133f",
   "metadata": {},
   "outputs": [
    {
     "data": {
      "text/plain": [
       "array([6, 3, 0, ..., 4, 6, 9], dtype=int64)"
      ]
     },
     "execution_count": 22,
     "metadata": {},
     "output_type": "execute_result"
    }
   ],
   "source": [
    "from sklearn.preprocessing import LabelEncoder\n",
    "LE = LabelEncoder()\n",
    "LE.fit(phase_y)\n",
    "phase_y = LE.transform(phase_y)\n",
    "phase_y"
   ]
  },
  {
   "cell_type": "markdown",
   "id": "ceeffc5d",
   "metadata": {},
   "source": [
    "# Data Preparation Part 2"
   ]
  },
  {
   "cell_type": "markdown",
   "id": "79d7b284",
   "metadata": {},
   "source": [
    "**[5 points] Describe the final dataset that is used for classification/regression (include a description of any newly formed variables you created).**"
   ]
  },
  {
   "cell_type": "markdown",
   "id": "5230439b",
   "metadata": {},
   "source": [
    "**Our final dataframe for classifying `Injury` is called `injury_df`**"
   ]
  },
  {
   "cell_type": "code",
   "execution_count": 23,
   "id": "895911e5",
   "metadata": {
    "scrolled": true
   },
   "outputs": [
    {
     "name": "stdout",
     "output_type": "stream",
     "text": [
      "<class 'pandas.core.frame.DataFrame'>\n",
      "RangeIndex: 35427 entries, 0 to 35426\n",
      "Data columns (total 20 columns):\n",
      " #   Column             Non-Null Count  Dtype  \n",
      "---  ------             --------------  -----  \n",
      " 0   acft_make          35427 non-null  object \n",
      " 1   acft_model         35427 non-null  object \n",
      " 2   cert_max_gr_wt     35427 non-null  float64\n",
      " 3   acft_category      35427 non-null  object \n",
      " 4   damage             35427 non-null  object \n",
      " 5   far_part           35427 non-null  object \n",
      " 6   afm_hrs_last_insp  35427 non-null  float64\n",
      " 7   type_fly           35427 non-null  object \n",
      " 8   dprt_state         35427 non-null  object \n",
      " 9   rwy_len            35427 non-null  float64\n",
      " 10  rwy_width          35427 non-null  float64\n",
      " 11  ev_type            35427 non-null  object \n",
      " 12  ev_city            35427 non-null  object \n",
      " 13  ev_state           35427 non-null  object \n",
      " 14  ev_country         35427 non-null  object \n",
      " 15  sky_cond_ceil      35427 non-null  object \n",
      " 16  sky_cond_nonceil   35427 non-null  object \n",
      " 17  wx_int_precip      35427 non-null  object \n",
      " 18  phase_flt_spec     35427 non-null  object \n",
      " 19  Injury             35427 non-null  int32  \n",
      "dtypes: float64(4), int32(1), object(15)\n",
      "memory usage: 5.3+ MB\n"
     ]
    }
   ],
   "source": [
    "injury_df.info()"
   ]
  },
  {
   "cell_type": "markdown",
   "id": "2ad81a60",
   "metadata": {},
   "source": [
    "#### Variable Description Table: `injury_df`"
   ]
  },
  {
   "attachments": {
    "image.png": {
     "image/png": "[encoded data removed]"
    }
   },
   "cell_type": "markdown",
   "id": "a2236815",
   "metadata": {},
   "source": [
    "![image.png](attachment:image.png)"
   ]
  },
  {
   "cell_type": "markdown",
   "id": "c14e1079",
   "metadata": {},
   "source": [
    "**The final dataframe for classifying `phase_flt_spec` is called `new_phase_df`**"
   ]
  },
  {
   "cell_type": "code",
   "execution_count": 24,
   "id": "d2c9697f",
   "metadata": {
    "scrolled": true
   },
   "outputs": [
    {
     "name": "stdout",
     "output_type": "stream",
     "text": [
      "<class 'pandas.core.frame.DataFrame'>\n",
      "RangeIndex: 34053 entries, 0 to 34052\n",
      "Data columns (total 26 columns):\n",
      " #   Column                  Non-Null Count  Dtype  \n",
      "---  ------                  --------------  -----  \n",
      " 0   acft_make               34053 non-null  object \n",
      " 1   acft_model              34053 non-null  object \n",
      " 2   cert_max_gr_wt          34053 non-null  float64\n",
      " 3   acft_category           34053 non-null  object \n",
      " 4   damage                  34053 non-null  object \n",
      " 5   far_part                34053 non-null  object \n",
      " 6   afm_hrs_last_insp       34053 non-null  float64\n",
      " 7   type_fly                34053 non-null  object \n",
      " 8   dprt_state              34053 non-null  object \n",
      " 9   rwy_len                 34053 non-null  float64\n",
      " 10  rwy_width               34053 non-null  float64\n",
      " 11  ev_type                 34053 non-null  object \n",
      " 12  ev_state                34053 non-null  object \n",
      " 13  ev_country              34053 non-null  object \n",
      " 14  inj_f_grnd              34053 non-null  float64\n",
      " 15  inj_m_grnd              34053 non-null  float64\n",
      " 16  inj_s_grnd              34053 non-null  float64\n",
      " 17  Total_Fatal_Injuries    34053 non-null  float64\n",
      " 18  Total_Minor_Injuries    34053 non-null  float64\n",
      " 19  Total_Uninjured         34053 non-null  float64\n",
      " 20  Total_Serious_Injuries  34053 non-null  float64\n",
      " 21  Total_Injuries_Flight   34053 non-null  float64\n",
      " 22  sky_cond_ceil           34053 non-null  object \n",
      " 23  sky_cond_nonceil        34053 non-null  object \n",
      " 24  wx_int_precip           34053 non-null  object \n",
      " 25  phase_flt_spec          34053 non-null  int64  \n",
      "dtypes: float64(12), int64(1), object(13)\n",
      "memory usage: 6.8+ MB\n"
     ]
    }
   ],
   "source": [
    "new_phase_df.info()"
   ]
  },
  {
   "cell_type": "markdown",
   "id": "3e9e0b3d",
   "metadata": {},
   "source": [
    "#### Variable Description Table: `new_phase_df`"
   ]
  },
  {
   "attachments": {
    "image.png": {
     "image/png": "[encoded data removed]"
    }
   },
   "cell_type": "markdown",
   "id": "888609a6",
   "metadata": {},
   "source": [
    "![image.png](attachment:image.png)"
   ]
  },
  {
   "cell_type": "markdown",
   "id": "f0cdc1b7",
   "metadata": {},
   "source": [
    "# Modeling and Evaluation 1"
   ]
  },
  {
   "cell_type": "markdown",
   "id": "262bdce7",
   "metadata": {},
   "source": [
    "**[10 points] Choose and explain your evaluation metrics that you will use (i.e., accuracy, precision, recall, F-measure, or any metric we have discussed). Why are the measure(s) appropriate for analyzing the results of your modeling? Give a detailed explanation backing up any assertions.**"
   ]
  },
  {
   "cell_type": "markdown",
   "id": "86313ec4",
   "metadata": {},
   "source": [
    "The evaluation metrics chosen were accuracy, precision, and recall. The first problem is a binary classification to predict injury. The second is a multi-classification problem, classifying broad phase of flight.\n",
    "\n",
    "#### Accuracy\n",
    "Accuracy is the number of True Positives and True Negatives divided by the total number of predictions. This will be used to predict which model performs better at prediction.\n",
    "\n",
    "$Accuracy = \\frac{TruePositive + TrueNegative}{TruePositive + TrueNegative + FalsePositive + FalseNegative}$\n",
    "\n",
    "#### Precision\n",
    "Precision is the number of True Positives divided by the number of positive results predicted by the classifier.  It is used to measure the exactness of classifiers.\n",
    "\n",
    "$Precision = \\frac{TP}{PP}$\n",
    "\n",
    "#### Recall\n",
    "Recall is the number of positive predictions divided by the number of positive class values. It is a measure of a classifier completeness. A low recall indicates many false negatives.\n",
    "\n",
    "$Recall = \\frac{TP}{P}$\n",
    "\n",
    "\n",
    "### Injury Classification\n",
    "Since this is a binary classification, accuracy will be an important metric in predicting injury. We will use a grid search to improve and make our models more accurate. In addition to accuracy, Precision and recall will be used to choose our final model.\n",
    "\n",
    "\n",
    "### Phase of flight Classification\n",
    "Since this is a multi-class classification with an imbalanced dataset, precision and recall would be important metrics in predicting the phase of flight. Accuracy alone does not illustrate the full story when working with class-imbalanced problems. Accuracy is not a strong predictor for multi-class classification. Precision will be used to measure the exactness and recall will be used to measure the completeness of our model. "
   ]
  },
  {
   "cell_type": "markdown",
   "id": "02b648c9",
   "metadata": {},
   "source": [
    "# Modeling and Evaluation 2"
   ]
  },
  {
   "cell_type": "code",
   "execution_count": 25,
   "id": "f911e47f",
   "metadata": {},
   "outputs": [],
   "source": [
    "from sklearn.model_selection import StratifiedShuffleSplit \n",
    "cv_log = StratifiedShuffleSplit(n_splits=5,test_size=0.10, random_state=42)"
   ]
  },
  {
   "cell_type": "markdown",
   "id": "d3494c9c",
   "metadata": {},
   "source": [
    "**[10 points] Choose the method you will use for dividing your data into training and testing splits (i.e., are you using Stratified 10-fold cross validation? Why?). Explain why your chosen method is appropriate or use more than one method as appropriate.**\n",
    "\n",
    "For every model moving forward we used sklearn's StratifiedShuffleSplit. We chose 5 folds and test split percentage of 10% to improve the runtime of the models. This chosen method was especially important for multiclass classification because the folds are made by preserving the percentage of samples for each class."
   ]
  },
  {
   "cell_type": "markdown",
   "id": "576aef75",
   "metadata": {},
   "source": [
    "# Modeling and Evaluation 3"
   ]
  },
  {
   "cell_type": "markdown",
   "id": "b7ed8328",
   "metadata": {},
   "source": [
    "**[20 points] Create three different classification/regression models (e.g., random forest, KNN, and SVM). Two modeling techniques must be new (but the third could be SVM or logistic regression). Adjust parameters as appropriate to increase generalization performance using your chosen metric.**"
   ]
  },
  {
   "cell_type": "markdown",
   "id": "eba50f68",
   "metadata": {},
   "source": [
    "The three models we choose are: Logistic Regression, KNN and Random Forest. To adjust parameters we have used a gridsearch for each model. We used these methods for both Phase of Flight and Injury."
   ]
  },
  {
   "cell_type": "markdown",
   "id": "476b7cf7",
   "metadata": {},
   "source": [
    "## `Logistic Regression`"
   ]
  },
  {
   "cell_type": "markdown",
   "id": "57784456",
   "metadata": {},
   "source": [
    "#### Logistic Regression for predicting `Injury`"
   ]
  },
  {
   "cell_type": "code",
   "execution_count": 26,
   "id": "8ebb4bc9",
   "metadata": {
    "scrolled": true
   },
   "outputs": [
    {
     "name": "stdout",
     "output_type": "stream",
     "text": [
      "====Iteration 0  ====\n",
      "accuracy: 0.8323454699407282\n",
      "====Iteration 1  ====\n",
      "accuracy: 0.820773355913068\n",
      "====Iteration 2  ====\n",
      "accuracy: 0.8151284222410387\n",
      "====Iteration 3  ====\n",
      "accuracy: 0.8185153824442563\n",
      "====Iteration 4  ====\n",
      "accuracy: 0.8210556025966695\n",
      "Wall time: 8.22 s\n"
     ]
    }
   ],
   "source": [
    "%%time\n",
    "from sklearn.linear_model import LogisticRegression\n",
    "from sklearn import metrics as mt\n",
    "import time\n",
    "lr_clf = LogisticRegression(solver='liblinear', penalty=\"l2\",max_iter=1000,random_state=42)\n",
    "iter_num=0\n",
    "for train_indices, test_indices in cv_log.split(inj_X,inj_y): \n",
    "#     start = time.time()\n",
    "#     elapsed_time = (time.time() - start)\n",
    "    X_train = inj_X[train_indices]\n",
    "    y_train = inj_y[train_indices]\n",
    "    \n",
    "    X_test = inj_X[test_indices]\n",
    "    y_test = inj_y[test_indices]\n",
    "    lr_clf.fit(X_train,y_train)  # train object\n",
    "\n",
    "    y_hat = lr_clf.predict(X_test) # get test set predictions\n",
    "    print(\"====Iteration\",iter_num,\" ====\")\n",
    "    acc = mt.accuracy_score(y_test,y_hat)\n",
    "    conf = mt.confusion_matrix(y_test,y_hat)\n",
    "    print('accuracy:', acc )\n",
    "#     print(conf )\n",
    "#     print('CV Time: ', elapsed_time)\n",
    "    iter_num+=1"
   ]
  },
  {
   "cell_type": "markdown",
   "id": "8e29f426",
   "metadata": {},
   "source": [
    "#### Adjusting Parameters Using Gridsearch for `Logistic Regression`: Injury"
   ]
  },
  {
   "cell_type": "code",
   "execution_count": 27,
   "id": "6f093f99",
   "metadata": {},
   "outputs": [
    {
     "name": "stdout",
     "output_type": "stream",
     "text": [
      "Fitting 5 folds for each of 6 candidates, totalling 30 fits\n",
      "Wall time: 29.7 s\n"
     ]
    },
    {
     "data": {
      "text/plain": [
       "GridSearchCV(cv=StratifiedShuffleSplit(n_splits=5, random_state=42, test_size=0.1,\n",
       "            train_size=None),\n",
       "             estimator=LogisticRegression(), n_jobs=8,\n",
       "             param_grid={'C': [0.001, 0.01, 0.1, 1, 10, 100],\n",
       "                         'class_weight': ['balanced'], 'max_iter': [1000],\n",
       "                         'penalty': ['l2'], 'random_state': [42],\n",
       "                         'solver': ['liblinear']},\n",
       "             scoring='accuracy', verbose=1)"
      ]
     },
     "execution_count": 27,
     "metadata": {},
     "output_type": "execute_result"
    }
   ],
   "source": [
    "%%time\n",
    "from sklearn.linear_model import LogisticRegression\n",
    "regEstimator = LogisticRegression()\n",
    "\n",
    "parameters = { 'penalty':['l2']\n",
    "              ,'C': [0.001, 0.01, 0.1, 1, 10, 100]\n",
    "              ,'class_weight': ['balanced']\n",
    "              ,'random_state': [42]\n",
    "              ,'solver': ['liblinear']\n",
    "              ,'max_iter':[1000]\n",
    "             }\n",
    "\n",
    "#Create a grid search object using the  \n",
    "from sklearn.model_selection import GridSearchCV\n",
    "inj_GridSearch = GridSearchCV(estimator=regEstimator\n",
    "                   , n_jobs=8 # jobs to run in parallel\n",
    "                   , verbose=1 # low verbosity\n",
    "                   , param_grid=parameters\n",
    "                   , cv=cv_log # KFolds = 5\n",
    "                   , scoring='accuracy')\n",
    "\n",
    "#Perform hyperparameter search to find the best combination of parameters for our data\n",
    "inj_GridSearch.fit(inj_X, inj_y)"
   ]
  },
  {
   "cell_type": "code",
   "execution_count": 28,
   "id": "4197979c",
   "metadata": {},
   "outputs": [
    {
     "name": "stdout",
     "output_type": "stream",
     "text": [
      "LogisticRegression(C=0.1, class_weight='balanced', max_iter=1000,\n",
      "                   random_state=42, solver='liblinear')\n"
     ]
    }
   ],
   "source": [
    "print(inj_GridSearch.best_estimator_)\n",
    "lr_inj_best_est = inj_GridSearch.best_estimator_"
   ]
  },
  {
   "cell_type": "code",
   "execution_count": 29,
   "id": "5204f33c",
   "metadata": {
    "scrolled": true
   },
   "outputs": [
    {
     "name": "stdout",
     "output_type": "stream",
     "text": [
      "{'C': 0.1, 'class_weight': 'balanced', 'max_iter': 1000, 'penalty': 'l2', 'random_state': 42, 'solver': 'liblinear'}\n"
     ]
    }
   ],
   "source": [
    "print(inj_GridSearch.best_params_)"
   ]
  },
  {
   "cell_type": "code",
   "execution_count": 30,
   "id": "e814569a",
   "metadata": {
    "scrolled": false
   },
   "outputs": [
    {
     "name": "stdout",
     "output_type": "stream",
     "text": [
      "Best Score - LogisticReg: 0.827321478972622\n"
     ]
    }
   ],
   "source": [
    "print('Best Score - LogisticReg:', inj_GridSearch.best_score_ )"
   ]
  },
  {
   "cell_type": "markdown",
   "id": "d870f14c",
   "metadata": {},
   "source": [
    "#### Logistic Regression for predicting `phase_flt_spec`"
   ]
  },
  {
   "cell_type": "code",
   "execution_count": 31,
   "id": "fa983793",
   "metadata": {
    "scrolled": true
   },
   "outputs": [
    {
     "name": "stdout",
     "output_type": "stream",
     "text": [
      "====Iteration 0  ====\n",
      "accuracy: 0.5540223135642983\n",
      "[[  58    0    2   26    0    0  209    5    1   29    0]\n",
      " [   1   18    0   16    0    0   51    0    0    6    0]\n",
      " [   4    0    9   24    0    0   62    9    0   14    0]\n",
      " [  27   12    1   68    0    1  130   27    1   33    0]\n",
      " [   0    0    0    3    0    0   24    1    0    2    0]\n",
      " [   0    0    2    1    0    0    4    2    0    0    0]\n",
      " [  16    4    1   21    1    0 1532   11    1   88    0]\n",
      " [   8    0    4   27    0    0   63   34    0   21    0]\n",
      " [   2    3    1    3    0    0   20    3    1    6    0]\n",
      " [  17    6    0   19    0    0  363    5    2  166    0]\n",
      " [   2    0    1    1    0    0   63    0    0    6    1]]\n",
      "====Iteration 1  ====\n",
      "accuracy: 0.5375807398708162\n",
      "[[  50    2    1   27    0    0  216    9    1   24    0]\n",
      " [   3   20    0   27    0    0   37    0    0    5    0]\n",
      " [   3    0   11   20    0    0   61   16    1   10    0]\n",
      " [  19   11    6   67    0    0  144   13    0   40    0]\n",
      " [   3    0    0    0    0    0   24    0    0    3    0]\n",
      " [   0    0    1    2    0    0    6    0    0    0    0]\n",
      " [  16   10    0   22    0    1 1493    8    0  124    1]\n",
      " [  11    1    2   38    0    0   52   34    0   19    0]\n",
      " [   2    1    1    6    0    0   20    0    1    8    0]\n",
      " [  16    3    2   15    0    1  381    5    0  155    0]\n",
      " [   1    0    1    0    0    0   65    0    1    6    0]]\n",
      "====Iteration 2  ====\n",
      "accuracy: 0.549618320610687\n",
      "[[  65    0    5   19    0    0  213    2    0   26    0]\n",
      " [   2   20    0   19    0    0   43    1    0    7    0]\n",
      " [   7    1    5   16    0    0   75    8    0   10    0]\n",
      " [  24   10    9   78    0    0  127   18    1   33    0]\n",
      " [   0    2    0    2    0    0   25    0    0    1    0]\n",
      " [   0    0    0    1    0    0    7    0    0    1    0]\n",
      " [  18   10    3   20    0    0 1527    8    1   88    0]\n",
      " [   7    0    3   23    0    2   74   30    0   18    0]\n",
      " [   1    2    1    4    0    0   26    0    0    5    0]\n",
      " [  13    1    2   26    0    0  380    9    0  146    1]\n",
      " [   1    0    1    0    0    0   65    1    0    5    1]]\n",
      "====Iteration 3  ====\n",
      "accuracy: 0.533176746917205\n",
      "[[  58    5    1   21    0    0  203    9    1   32    0]\n",
      " [   2   14    0   20    0    0   47    1    1    7    0]\n",
      " [   7    0    7   22    0    0   66   10    0   10    0]\n",
      " [  28   19    9   60    0    0  120   19    0   45    0]\n",
      " [   1    0    0    4    0    0   21    1    0    3    0]\n",
      " [   0    0    0    2    0    1    5    1    0    0    0]\n",
      " [  23   12    2   30    0    0 1496   15    0   97    0]\n",
      " [   5    2    1   24    0    1   70   32    0   22    0]\n",
      " [   2    1    1    2    0    0   27    1    0    5    0]\n",
      " [  10    4    1   22    0    2  383    7    1  148    0]\n",
      " [   1    0    1    0    0    0   66    0    1    5    0]]\n",
      "====Iteration 4  ====\n",
      "accuracy: 0.5560775102759835\n",
      "[[  63    2    2   29    0    0  189    6    0   39    0]\n",
      " [   4   15    0   16    0    0   51    0    0    6    0]\n",
      " [   7    0   10   16    0    0   67   15    0    7    0]\n",
      " [  15   14    9   66    0    0  135   30    0   31    0]\n",
      " [   0    1    0    3    2    0   21    1    0    2    0]\n",
      " [   0    0    0    1    0    1    7    0    0    0    0]\n",
      " [  22    7    3   23    1    1 1528   12    0   77    1]\n",
      " [   9    0    2   38    0    0   53   37    0   18    0]\n",
      " [   2    2    1    2    0    0   24    0    0    7    1]\n",
      " [  16    2    0   11    0    0  373    5    0  170    1]\n",
      " [   1    0    0    0    0    0   65    0    0    6    2]]\n"
     ]
    }
   ],
   "source": [
    "from sklearn.linear_model import LogisticRegression\n",
    "from sklearn.preprocessing import StandardScaler\n",
    "from sklearn import metrics as mt\n",
    "import time\n",
    "\n",
    "lr_phase = LogisticRegression(solver='liblinear', penalty=\"l2\",max_iter=1000,random_state=42)\n",
    "\n",
    "iter_num=0\n",
    "\n",
    "for train_indices, test_indices in cv_log.split(phase_X,phase_y): \n",
    "    X_train = phase_X[train_indices]\n",
    "    y_train = phase_y[train_indices]\n",
    "    X_test = phase_X[test_indices]\n",
    "    y_test = phase_y[test_indices]\n",
    "    \n",
    "    lr_phase.fit(X_train,y_train)  # train object\n",
    "    y_hat = lr_phase.predict(X_test) # get test set predictions\n",
    "    print(\"====Iteration\",iter_num,\" ====\")\n",
    "    acc = mt.accuracy_score(y_test,y_hat)\n",
    "    conf = mt.confusion_matrix(y_test,y_hat)\n",
    "    print('accuracy:', acc )\n",
    "    print(conf )\n",
    "    iter_num+=1"
   ]
  },
  {
   "cell_type": "code",
   "execution_count": 32,
   "id": "7b706c27",
   "metadata": {},
   "outputs": [],
   "source": [
    "log_phase_y = y_hat"
   ]
  },
  {
   "cell_type": "markdown",
   "id": "df581d9f",
   "metadata": {},
   "source": [
    "#### Adjusting Parameters Using Gridsearch for `Logistic Regression`: Phase of Flight"
   ]
  },
  {
   "cell_type": "code",
   "execution_count": 33,
   "id": "9fc5e6b1",
   "metadata": {},
   "outputs": [
    {
     "name": "stdout",
     "output_type": "stream",
     "text": [
      "Fitting 5 folds for each of 6 candidates, totalling 30 fits\n",
      "Wall time: 12min 13s\n"
     ]
    },
    {
     "data": {
      "text/plain": [
       "GridSearchCV(cv=StratifiedShuffleSplit(n_splits=5, random_state=42, test_size=0.1,\n",
       "            train_size=None),\n",
       "             estimator=LogisticRegression(), n_jobs=8,\n",
       "             param_grid={'C': [0.001, 0.01, 0.1, 1, 10, 100],\n",
       "                         'class_weight': ['balanced'], 'max_iter': [1000],\n",
       "                         'penalty': ['l2'], 'random_state': [42],\n",
       "                         'solver': ['liblinear']},\n",
       "             scoring='accuracy', verbose=1)"
      ]
     },
     "execution_count": 33,
     "metadata": {},
     "output_type": "execute_result"
    }
   ],
   "source": [
    "%%time\n",
    "from sklearn.linear_model import LogisticRegression\n",
    "regEstimator = LogisticRegression()\n",
    "\n",
    "parameters = { 'penalty':['l2']\n",
    "              ,'C': [0.001, 0.01, 0.1, 1, 10, 100]\n",
    "              ,'class_weight': ['balanced']\n",
    "              ,'random_state': [42]\n",
    "              ,'solver': ['liblinear']\n",
    "              ,'max_iter':[1000]\n",
    "             }\n",
    "\n",
    "#Create a grid search object using the  \n",
    "from sklearn.model_selection import GridSearchCV\n",
    "phase_GridSearch = GridSearchCV(estimator=regEstimator\n",
    "                   , n_jobs=8 # jobs to run in parallel\n",
    "                   , verbose=1 # low verbosity\n",
    "                   , param_grid=parameters\n",
    "                   , cv=cv_log # KFolds = 5\n",
    "                   , scoring='accuracy')\n",
    "\n",
    "#Perform hyperparameter search to find the best combination of parameters for our data\n",
    "phase_GridSearch.fit(phase_X, phase_y)"
   ]
  },
  {
   "cell_type": "code",
   "execution_count": 34,
   "id": "7f34873e",
   "metadata": {},
   "outputs": [
    {
     "name": "stdout",
     "output_type": "stream",
     "text": [
      "LogisticRegression(C=0.001, class_weight='balanced', max_iter=1000,\n",
      "                   random_state=42, solver='liblinear')\n"
     ]
    }
   ],
   "source": [
    "print(phase_GridSearch.best_estimator_)\n",
    "log_phase_best_est = phase_GridSearch.best_estimator_"
   ]
  },
  {
   "cell_type": "code",
   "execution_count": 35,
   "id": "562a8f85",
   "metadata": {
    "scrolled": false
   },
   "outputs": [
    {
     "name": "stdout",
     "output_type": "stream",
     "text": [
      "Best Score - LogisticReg: 0.4471520845566648\n"
     ]
    }
   ],
   "source": [
    "print('Best Score - LogisticReg:', phase_GridSearch.best_score_ )"
   ]
  },
  {
   "cell_type": "code",
   "execution_count": 36,
   "id": "56b50fb1",
   "metadata": {},
   "outputs": [],
   "source": [
    "phase_log_grid = LogisticRegression(C=0.001, class_weight='balanced', max_iter=1000,\n",
    "                   random_state=42, solver='liblinear')"
   ]
  },
  {
   "cell_type": "markdown",
   "id": "82833a08",
   "metadata": {},
   "source": [
    "## `K-Nearest Neighbors`"
   ]
  },
  {
   "cell_type": "markdown",
   "id": "06b58bb6",
   "metadata": {},
   "source": [
    "#### KNN: `Injury`"
   ]
  },
  {
   "cell_type": "code",
   "execution_count": 37,
   "id": "860df217",
   "metadata": {},
   "outputs": [
    {
     "name": "stdout",
     "output_type": "stream",
     "text": [
      "KNN accuracy 0.5892680723741779\n",
      "KNN precision 0.8166189111747851\n",
      "KNN confusion_matrix [[15461  1216]\n",
      " [13335  5415]]\n",
      "Wall time: 44.9 s\n"
     ]
    }
   ],
   "source": [
    "%%time\n",
    "from sklearn.neighbors import KNeighborsClassifier\n",
    "from sklearn.model_selection import StratifiedKFold\n",
    "from sklearn.preprocessing import StandardScaler\n",
    "import numpy as np\n",
    "from sklearn import metrics as mt\n",
    "\n",
    "yhat = np.zeros(inj_y.shape) # we will fill this with predictions\n",
    "\n",
    "# create cross validation iterator\n",
    "#cv = StratifiedKFold(n_splits=10)\n",
    "\n",
    "# get a handle to the classifier object, which defines the type\n",
    "clf = KNeighborsClassifier(n_neighbors=3)\n",
    "\n",
    "# now iterate through and get predictions, saved to the correct row in yhat\n",
    "# NOTE: you can parallelize this using the cross_val_predict method\n",
    "for train, test in cv_log.split(inj_X,inj_y):\n",
    "    clf.fit(inj_X[train],inj_y[train])\n",
    "    yhat[test] = clf.predict(inj_X[test])\n",
    "\n",
    "total_accuracy = mt.accuracy_score(inj_y, yhat)\n",
    "print ('KNN accuracy', total_accuracy)\n",
    "total_precision = mt.precision_score(inj_y, yhat)\n",
    "print ('KNN precision', total_precision)\n",
    "total_confusion_matrix = mt.confusion_matrix(inj_y, yhat)\n",
    "print ('KNN confusion_matrix', total_confusion_matrix)"
   ]
  },
  {
   "cell_type": "markdown",
   "id": "0b09dc52",
   "metadata": {},
   "source": [
    "#### Adjusting Parameters Using Gridsearch for `KNN`: Injury"
   ]
  },
  {
   "cell_type": "code",
   "execution_count": 38,
   "id": "4fbb514f",
   "metadata": {},
   "outputs": [
    {
     "name": "stdout",
     "output_type": "stream",
     "text": [
      "Fitting 5 folds for each of 24 candidates, totalling 120 fits\n",
      "Wall time: 8min 37s\n"
     ]
    },
    {
     "data": {
      "text/plain": [
       "GridSearchCV(cv=StratifiedShuffleSplit(n_splits=5, random_state=42, test_size=0.1,\n",
       "            train_size=None),\n",
       "             estimator=KNeighborsClassifier(), n_jobs=-1,\n",
       "             param_grid={'leaf_size': (20, 40), 'n_neighbors': [7, 9, 13],\n",
       "                         'p': (1, 2), 'weights': ['uniform', 'distance']},\n",
       "             scoring='accuracy', verbose=1)"
      ]
     },
     "execution_count": 38,
     "metadata": {},
     "output_type": "execute_result"
    }
   ],
   "source": [
    "%%time\n",
    "#Create KNN Classifier\n",
    "#random state is not something you can use as a parameter in KNN random state set on CV object\n",
    "inj_knn_params = {\n",
    "    \"n_neighbors\": [7,9,13],\n",
    "    \"weights\": [\"uniform\", \"distance\"],\n",
    "    'leaf_size': (20,40),\n",
    "    'p': (1,2),\n",
    "#    'metric': ('minkowski', 'chebyshev'),\n",
    "    }\n",
    "\n",
    "inj_knn_grid = GridSearchCV(estimator = KNeighborsClassifier(),\n",
    "                               n_jobs = -1,\n",
    "                               verbose = 1,\n",
    "                               param_grid = inj_knn_params,\n",
    "                               cv = cv_log,\n",
    "                               scoring = 'accuracy')\n",
    "\n",
    "inj_knn_grid.fit(inj_X,inj_y)"
   ]
  },
  {
   "cell_type": "code",
   "execution_count": 39,
   "id": "8c3fbec4",
   "metadata": {
    "scrolled": true
   },
   "outputs": [
    {
     "data": {
      "text/plain": [
       "{'leaf_size': 20, 'n_neighbors': 13, 'p': 1, 'weights': 'distance'}"
      ]
     },
     "execution_count": 39,
     "metadata": {},
     "output_type": "execute_result"
    }
   ],
   "source": [
    "inj_knn_grid.best_params_"
   ]
  },
  {
   "cell_type": "code",
   "execution_count": 40,
   "id": "7b8bb93e",
   "metadata": {
    "scrolled": true
   },
   "outputs": [
    {
     "name": "stdout",
     "output_type": "stream",
     "text": [
      "Best Score - KNN: 0.7887101326559413\n"
     ]
    }
   ],
   "source": [
    "print('Best Score - KNN:', inj_knn_grid.best_score_ )"
   ]
  },
  {
   "cell_type": "markdown",
   "id": "df80b861",
   "metadata": {},
   "source": [
    "#### KNN: `Phase of Flight`"
   ]
  },
  {
   "cell_type": "code",
   "execution_count": 41,
   "id": "d72be654",
   "metadata": {},
   "outputs": [
    {
     "name": "stdout",
     "output_type": "stream",
     "text": [
      "KNN accuracy 0.24975773059642323\n",
      "KNN precision 0.24975773059642323\n",
      "KNN confusion_matrix [[ 2355    23    38   121    13     1   611    21     3   111     3]\n",
      " [  562   153     2    74     3     0   102     3     3    18     3]\n",
      " [  772     7    95    73     1     1   203    16     1    48     1]\n",
      " [ 1976   104   127   232    10     2   373    55     3   111     2]\n",
      " [  193     6     4     9    11     0    64     0     0    14     0]\n",
      " [   63     1     1     7     0     7    14     0     0     1     0]\n",
      " [10474   134   180   316    51     4  4858    52     3   644    27]\n",
      " [  997    18    64   131     0     3   213    89     0    54     0]\n",
      " [  256    25     5    22     1     1    56     5     4    16     2]\n",
      " [ 3650    59    84   147    11     2  1114    19     1   682     7]\n",
      " [  463    11    13    13     1     0   185     1     1    34    19]]\n",
      "Wall time: 43.5 s\n"
     ]
    }
   ],
   "source": [
    "%%time\n",
    "from sklearn.neighbors import KNeighborsClassifier\n",
    "from sklearn.model_selection import StratifiedKFold\n",
    "from sklearn.preprocessing import StandardScaler\n",
    "from sklearn.model_selection import cross_val_score\n",
    "from sklearn.metrics import roc_curve\n",
    "from sklearn.metrics import auc\n",
    "import numpy as np\n",
    "from sklearn import metrics as mt\n",
    "\n",
    "yhat = np.zeros(phase_y.shape) # we will fill this with predictions\n",
    "\n",
    "# create cross validation iterator\n",
    "#cv = StratifiedKFold(n_splits=10)\n",
    "\n",
    "# get a handle to the classifier object, which defines the type\n",
    "clf = KNeighborsClassifier(n_neighbors=3)\n",
    "\n",
    "# now iterate through and get predictions, saved to the correct row in yhat\n",
    "# NOTE: you can parallelize this using the cross_val_predict method\n",
    "for train, test in cv_log.split(phase_X,phase_y):\n",
    "    clf.fit(phase_X[train],phase_y[train])\n",
    "    yhat[test] = clf.predict(phase_X[test])\n",
    "\n",
    "total_accuracy = mt.accuracy_score(phase_y, yhat)\n",
    "print ('KNN accuracy', total_accuracy)\n",
    "total_precision = mt.precision_score(phase_y, yhat, average = 'micro')\n",
    "print ('KNN precision', total_precision)\n",
    "total_confusion_matrix = mt.confusion_matrix(phase_y, yhat)\n",
    "print ('KNN confusion_matrix', total_confusion_matrix)\n"
   ]
  },
  {
   "cell_type": "markdown",
   "id": "a1af27c8",
   "metadata": {},
   "source": [
    "#### Adjusting Parameters Using Gridsearch for `KNN`: Phase of Flight"
   ]
  },
  {
   "cell_type": "code",
   "execution_count": 42,
   "id": "bac30640",
   "metadata": {
    "scrolled": true
   },
   "outputs": [
    {
     "name": "stdout",
     "output_type": "stream",
     "text": [
      "Fitting 5 folds for each of 24 candidates, totalling 120 fits\n",
      "Wall time: 6min 35s\n"
     ]
    },
    {
     "data": {
      "text/plain": [
       "GridSearchCV(cv=StratifiedShuffleSplit(n_splits=5, random_state=42, test_size=0.1,\n",
       "            train_size=None),\n",
       "             estimator=KNeighborsClassifier(), n_jobs=-1,\n",
       "             param_grid={'leaf_size': (20, 40), 'n_neighbors': [7, 9, 13],\n",
       "                         'p': (1, 2), 'weights': ['uniform', 'distance']},\n",
       "             scoring='accuracy', verbose=1)"
      ]
     },
     "execution_count": 42,
     "metadata": {},
     "output_type": "execute_result"
    }
   ],
   "source": [
    "%%time\n",
    "from sklearn.neighbors import KNeighborsClassifier\n",
    "#Create KNN Classifier\n",
    "phase_knn_params = {\n",
    "    \"n_neighbors\": [7,9,13],\n",
    "    \"weights\": [\"uniform\", \"distance\"],\n",
    "    'leaf_size': (20,40),\n",
    "    'p': (1,2),\n",
    "#    'metric': ('minkowski', 'chebyshev'),\n",
    "    }\n",
    "\n",
    "phase_knn_grid = GridSearchCV(estimator = KNeighborsClassifier(),\n",
    "                               n_jobs = -1,\n",
    "                               verbose = 1,\n",
    "                               param_grid = phase_knn_params,\n",
    "                               cv = cv_log,\n",
    "                               scoring = 'accuracy')\n",
    "\n",
    "phase_knn_grid.fit(phase_X,phase_y)"
   ]
  },
  {
   "cell_type": "code",
   "execution_count": 43,
   "id": "129a73ab",
   "metadata": {
    "scrolled": true
   },
   "outputs": [
    {
     "data": {
      "text/plain": [
       "{'leaf_size': 20, 'n_neighbors': 13, 'p': 1, 'weights': 'distance'}"
      ]
     },
     "execution_count": 43,
     "metadata": {},
     "output_type": "execute_result"
    }
   ],
   "source": [
    "phase_knn_grid.best_params_"
   ]
  },
  {
   "cell_type": "code",
   "execution_count": 44,
   "id": "92f9f322",
   "metadata": {},
   "outputs": [
    {
     "data": {
      "text/plain": [
       "KNeighborsClassifier(leaf_size=20, n_neighbors=13, p=1, weights='distance')"
      ]
     },
     "execution_count": 44,
     "metadata": {},
     "output_type": "execute_result"
    }
   ],
   "source": [
    "phase_knn_grid.best_estimator_"
   ]
  },
  {
   "cell_type": "code",
   "execution_count": 45,
   "id": "ecb0a40a",
   "metadata": {
    "scrolled": true
   },
   "outputs": [
    {
     "name": "stdout",
     "output_type": "stream",
     "text": [
      "Best Score - KNN: 0.5500293599530239\n"
     ]
    }
   ],
   "source": [
    "print('Best Score - KNN:', phase_knn_grid.best_score_ )"
   ]
  },
  {
   "cell_type": "markdown",
   "id": "962334a8",
   "metadata": {},
   "source": [
    "## `Random Forest`"
   ]
  },
  {
   "cell_type": "markdown",
   "id": "a9ce19ec",
   "metadata": {},
   "source": [
    "#### Adjusting Parameters Using Gridsearch for `Random Forest`: Injury"
   ]
  },
  {
   "cell_type": "code",
   "execution_count": 46,
   "id": "85e92741",
   "metadata": {},
   "outputs": [
    {
     "name": "stdout",
     "output_type": "stream",
     "text": [
      "Fitting 5 folds for each of 24 candidates, totalling 120 fits\n",
      "Wall time: 20.7 s\n"
     ]
    },
    {
     "data": {
      "text/plain": [
       "GridSearchCV(cv=StratifiedShuffleSplit(n_splits=5, random_state=42, test_size=0.1,\n",
       "            train_size=None),\n",
       "             estimator=RandomForestClassifier(class_weight='balanced'),\n",
       "             n_jobs=-1,\n",
       "             param_grid={'criterion': ['gini', 'entropy'],\n",
       "                         'max_depth': [10, 25, 50, 100],\n",
       "                         'min_samples_leaf': [50], 'min_samples_split': [50],\n",
       "                         'n_estimators': [5, 10, 30], 'random_state': [42]},\n",
       "             scoring='accuracy', verbose=1)"
      ]
     },
     "execution_count": 46,
     "metadata": {},
     "output_type": "execute_result"
    }
   ],
   "source": [
    "%%time\n",
    "#run random forest on injuries with grid search\n",
    "\n",
    "from sklearn.model_selection import GridSearchCV\n",
    "from sklearn.ensemble import RandomForestClassifier\n",
    "\n",
    "clf_inj_rf = RandomForestClassifier(class_weight = 'balanced')\n",
    "\n",
    "inj_rf_params = {'n_estimators':[5,10,30],\n",
    "                   'max_depth': [ 10,25,50, 100],\n",
    "                   'criterion': ['gini', 'entropy'],\n",
    "                   'min_samples_split': [50],\n",
    "                   'min_samples_leaf': [50],\n",
    "                   'random_state': [42]\n",
    "                  }\n",
    "\n",
    "inj_rf_grid = GridSearchCV(estimator = clf_inj_rf,\n",
    "                               n_jobs = -1,\n",
    "                               verbose = 1,\n",
    "                               param_grid = inj_rf_params,\n",
    "                               cv = cv_log,\n",
    "                               scoring = 'accuracy')\n",
    "\n",
    "inj_rf_grid.fit(inj_X,inj_y)"
   ]
  },
  {
   "cell_type": "code",
   "execution_count": 47,
   "id": "3e83c2b8",
   "metadata": {
    "scrolled": true
   },
   "outputs": [
    {
     "name": "stdout",
     "output_type": "stream",
     "text": [
      "RandomForestClassifier(class_weight='balanced', max_depth=10,\n",
      "                       min_samples_leaf=50, min_samples_split=50,\n",
      "                       n_estimators=30, random_state=42)\n",
      "Accuracy: 0.7508890770533446\n"
     ]
    }
   ],
   "source": [
    "#print best estimator\n",
    "print(inj_rf_grid.best_estimator_)\n",
    "\n",
    "#with its score\n",
    "print(\"Accuracy:\",np.abs(inj_rf_grid.best_score_))"
   ]
  },
  {
   "cell_type": "code",
   "execution_count": 48,
   "id": "555595e3",
   "metadata": {},
   "outputs": [
    {
     "name": "stdout",
     "output_type": "stream",
     "text": [
      "{'criterion': 'gini', 'max_depth': 10, 'min_samples_leaf': 50, 'min_samples_split': 50, 'n_estimators': 30, 'random_state': 42}\n"
     ]
    }
   ],
   "source": [
    "print(inj_rf_grid.best_params_)"
   ]
  },
  {
   "cell_type": "markdown",
   "id": "e3cb6d40",
   "metadata": {},
   "source": [
    "#### Adjusting Parameters Using Gridsearch for `Random Forest`: Phase of Flight"
   ]
  },
  {
   "cell_type": "code",
   "execution_count": 49,
   "id": "38cb99cb",
   "metadata": {},
   "outputs": [
    {
     "name": "stdout",
     "output_type": "stream",
     "text": [
      "Fitting 5 folds for each of 162 candidates, totalling 810 fits\n",
      "Wall time: 10min 26s\n"
     ]
    },
    {
     "data": {
      "text/plain": [
       "GridSearchCV(cv=StratifiedShuffleSplit(n_splits=5, random_state=42, test_size=0.1,\n",
       "            train_size=None),\n",
       "             error_score='raise', estimator=RandomForestClassifier(), n_jobs=-1,\n",
       "             param_grid={'class_weight': ['balanced'],\n",
       "                         'criterion': ['gini', 'entropy'],\n",
       "                         'max_depth': [55, 65, 75],\n",
       "                         'min_samples_leaf': [75, 100, 200],\n",
       "                         'min_samples_split': [300, 400, 500],\n",
       "                         'n_estimators': [80, 90, 100], 'random_state': [42]},\n",
       "             verbose=1)"
      ]
     },
     "execution_count": 49,
     "metadata": {},
     "output_type": "execute_result"
    }
   ],
   "source": [
    "%%time\n",
    " \n",
    "# Grid search on Random Forest on  Phase of flight Data Set\n",
    "from sklearn.model_selection import GridSearchCV\n",
    "from sklearn.ensemble import RandomForestClassifier\n",
    " \n",
    "clf_phase_rf = RandomForestClassifier()\n",
    " \n",
    "phase_rf_params = {'n_estimators':[80,90,100],\n",
    "                   'max_depth': [55,65,75],\n",
    "                   'criterion': ['gini', 'entropy'],\n",
    "                 'class_weight':['balanced'],\n",
    "                   'min_samples_split': [300,400,500],\n",
    "                   'min_samples_leaf': [75,100,200],\n",
    "                   'random_state': [42]\n",
    "                  }\n",
    " \n",
    "phase_rf_grid = GridSearchCV(estimator = clf_phase_rf,\n",
    "                               n_jobs = -1,\n",
    "                               verbose = 1,\n",
    "                               param_grid = phase_rf_params,\n",
    "                               cv = cv_log,\n",
    "                               error_score = 'raise')\n",
    " \n",
    "phase_rf_grid.fit(phase_X,phase_y)"
   ]
  },
  {
   "cell_type": "code",
   "execution_count": 50,
   "id": "5e3ff0b3",
   "metadata": {},
   "outputs": [
    {
     "name": "stdout",
     "output_type": "stream",
     "text": [
      "RandomForestClassifier(class_weight='balanced', criterion='entropy',\n",
      "                       max_depth=55, min_samples_leaf=100,\n",
      "                       min_samples_split=500, n_estimators=90, random_state=42)\n",
      "Accuracy: 0.2429242513211979\n"
     ]
    }
   ],
   "source": [
    "#print best estimator\n",
    "print(phase_rf_grid.best_estimator_)\n",
    "\n",
    "#with its score\n",
    "print(\"Accuracy:\",np.abs(phase_rf_grid.best_score_))"
   ]
  },
  {
   "cell_type": "code",
   "execution_count": 51,
   "id": "c1e433e3",
   "metadata": {
    "scrolled": false
   },
   "outputs": [
    {
     "name": "stdout",
     "output_type": "stream",
     "text": [
      "{'class_weight': 'balanced', 'criterion': 'entropy', 'max_depth': 55, 'min_samples_leaf': 100, 'min_samples_split': 500, 'n_estimators': 90, 'random_state': 42}\n"
     ]
    }
   ],
   "source": [
    "print(phase_rf_grid.best_params_)"
   ]
  },
  {
   "cell_type": "markdown",
   "id": "5c2ab166",
   "metadata": {},
   "source": [
    "#### GridSearch Improved all models"
   ]
  },
  {
   "cell_type": "markdown",
   "id": "20996ef7",
   "metadata": {},
   "source": [
    "# Modeling and Evaluation 4"
   ]
  },
  {
   "cell_type": "markdown",
   "id": "e501d340",
   "metadata": {},
   "source": [
    "**[10 points] Analyze the results using your chosen method of evaluation. Use visualizations of the results to bolster the analysis. Explain any visuals and analyze why they are interesting to someone that might use this model.**"
   ]
  },
  {
   "attachments": {
    "image.png": {
     "image/png": "[encoded data removed]"
    }
   },
   "cell_type": "markdown",
   "id": "21791468",
   "metadata": {},
   "source": [
    "![image.png](attachment:image.png)"
   ]
  },
  {
   "cell_type": "markdown",
   "id": "cc0a3768",
   "metadata": {},
   "source": [
    "In our evaluation we used GridSearch to get the best hyper parameters for each of these models. \n",
    "\n",
    "For visualization we used heat maps to help identify where categorizations were correctly identified as well as miss identified.\n",
    "\n",
    "Evaluating the injury dataset logistic regression performed the best with an accuracy of 82%, a precision of 90% and a recall of 74%. KNN had a similar precision of 89% but had a lower test accuracy of 78%. One item to consider is the time it took to run each of these models. For our injury dataset logistic regression performed the highest accuracy and was the fastest run time. \n",
    "\n",
    "For the Phase of flight dataset we saw significantly lower scores across all metrics. This is to be expected because unlike the injury dataset when predicting phase of flight we have multiple classifications. Our best model was KNN with an accuracy of 55% a precision of 44% and a recall of 27%. Overall we expected KNN to do the best with the multiple categorization dataset. In terms of run time KNN took the longest time however it did show the best results.\n"
   ]
  },
  {
   "cell_type": "markdown",
   "id": "a1ab146e",
   "metadata": {},
   "source": []
  },
  {
   "cell_type": "code",
   "execution_count": 52,
   "id": "addbea4d",
   "metadata": {},
   "outputs": [],
   "source": [
    "from sklearn.model_selection import cross_validate\n",
    "\n",
    "def InjuryEvaluateClassifierEstimator(classifierEstimator, X, y, cv):\n",
    "   \n",
    "    #Perform cross validation \n",
    "    scores = cross_validate(classifierEstimator, inj_X, inj_y, scoring=['accuracy','precision','recall']\n",
    "                            , cv=cv_log, return_train_score=True)\n",
    "\n",
    "    Accavg = scores['test_accuracy'].mean()\n",
    "    Preavg = scores['test_precision'].mean()\n",
    "    Recavg = scores['test_recall'].mean()\n",
    "\n",
    "    print_str = \"The average accuracy for all cv folds is: \\t\\t\\t {Accavg:.5}\"\n",
    "    print_str2 = \"The average precision for all cv folds is: \\t\\t\\t {Preavg:.5}\"\n",
    "    print_str3 = \"The average recall for all cv folds is: \\t\\t\\t {Recavg:.5}\"\n",
    "\n",
    "    print(print_str.format(Accavg=Accavg))\n",
    "    print(print_str2.format(Preavg=Preavg))\n",
    "    print(print_str3.format(Recavg=Recavg))\n",
    "    print('*********************************************************')\n",
    "\n",
    "    print('Cross Validation Fold Mean Error Scores')\n",
    "    scoresResults = pd.DataFrame()\n",
    "    scoresResults['Accuracy'] = scores['test_accuracy']\n",
    "    scoresResults['Precision'] = scores['test_precision']\n",
    "    scoresResults['Recall'] = scores['test_recall']\n",
    "\n",
    "    return scoresResults"
   ]
  },
  {
   "cell_type": "code",
   "execution_count": 53,
   "id": "bbbc4341",
   "metadata": {},
   "outputs": [],
   "source": [
    "from sklearn.model_selection import cross_validate\n",
    "\n",
    "def PhaseEvaluateClassifierEstimator(classifierEstimator, phase_X, phase_y, cv):\n",
    "   \n",
    "    #Perform cross validation \n",
    "    scores = cross_validate(classifierEstimator, phase_X, phase_y, scoring=['accuracy','precision','recall']\n",
    "                            , cv=cv_log, return_train_score=True)\n",
    "\n",
    "    Accavg = scores['test_accuracy'].mean()\n",
    "    Preavg = scores['test_precision'].mean()\n",
    "    Recavg = scores['test_recall'].mean()\n",
    "\n",
    "    print_str = \"The average accuracy for all cv folds is: \\t\\t\\t {Accavg:.5}\"\n",
    "    print_str2 = \"The average precision for all cv folds is: \\t\\t\\t {Preavg:.5}\"\n",
    "    print_str3 = \"The average recall for all cv folds is: \\t\\t\\t {Recavg:.5}\"\n",
    "\n",
    "    print(print_str.format(Accavg=Accavg))\n",
    "    print(print_str2.format(Preavg=Preavg))\n",
    "    print(print_str3.format(Recavg=Recavg))\n",
    "    print('*********************************************************')\n",
    "\n",
    "    print('Cross Validation Fold Mean Error Scores')\n",
    "    scoresResults = pd.DataFrame()\n",
    "    scoresResults['Accuracy'] = scores['test_accuracy']\n",
    "    scoresResults['Precision'] = scores['test_precision']\n",
    "    scoresResults['Recall'] = scores['test_recall']\n",
    "\n",
    "    return scoresResults"
   ]
  },
  {
   "cell_type": "markdown",
   "id": "e2e3ba21",
   "metadata": {},
   "source": [
    "### Best Models - Injury"
   ]
  },
  {
   "cell_type": "code",
   "execution_count": 54,
   "id": "ab85ee80",
   "metadata": {},
   "outputs": [],
   "source": [
    "# Test Train split for Injury\n",
    "for train_indices, test_indices in cv_log.split(inj_X,inj_y): \n",
    "    X_train_inj = inj_X[train_indices]\n",
    "    y_train_inj = inj_y[train_indices]\n",
    "    \n",
    "    X_test_inj = inj_X[test_indices]\n",
    "    y_test_inj = inj_y[test_indices]"
   ]
  },
  {
   "cell_type": "markdown",
   "id": "23d2bebc",
   "metadata": {},
   "source": [
    "Logistic regression heat map: this model performed the best however, we did see many misclassifications regarding no injury predicted where there was an injury. Though we want to come to the correct result this result shows a significant issue in a real world application. We don’t want to predict no injury where there might be an injury. This would lead to not properly responing to a plane crash where there could be an injury."
   ]
  },
  {
   "cell_type": "code",
   "execution_count": 55,
   "id": "c2fd4fb1",
   "metadata": {
    "scrolled": true
   },
   "outputs": [
    {
     "data": {
      "text/plain": [
       "Text(0.5, 1.0, 'Logistic Regression Injury of flight predictions')"
      ]
     },
     "execution_count": 55,
     "metadata": {},
     "output_type": "execute_result"
    },
    {
     "data": {
      "image/png": "[encoded data removed]",
      "text/plain": [
       "<Figure size 720x720 with 1 Axes>"
      ]
     },
     "metadata": {
      "needs_background": "light"
     },
     "output_type": "display_data"
    }
   ],
   "source": [
    "lr_clf_inj_final = LogisticRegression(C=0.1, class_weight='balanced', max_iter=1000,\n",
    "                   random_state=42, solver='liblinear')\n",
    "lr_clf_inj_final.fit(X_train_inj,y_train_inj)\n",
    "log_inj_y = lr_clf_inj_final.predict(X_test_inj)\n",
    "\n",
    "confusion = pd.crosstab(y_test_inj, log_inj_y, rownames = ['Actual'], colnames = ['Predicted'])\n",
    "\n",
    "# Create confusion matrix using Seaborn\n",
    "fig, ax = plt.subplots(figsize = (10, 10))\n",
    "sns.heatmap(confusion, \n",
    "            annot = True, \n",
    "            cmap = \"YlGnBu\", \n",
    "            cbar = False,\n",
    "            fmt = 'g',\n",
    "            ax = ax,\n",
    "            annot_kws = {'size' : 14},\n",
    "           linewidths = 0.5)\n",
    "ax.set_title('Logistic Regression Injury of flight predictions', fontsize = 20)"
   ]
  },
  {
   "cell_type": "code",
   "execution_count": 56,
   "id": "47a31d00",
   "metadata": {
    "scrolled": false
   },
   "outputs": [
    {
     "name": "stdout",
     "output_type": "stream",
     "text": [
      "The average accuracy for all cv folds is: \t\t\t 0.82732\n",
      "The average precision for all cv folds is: \t\t\t 0.90855\n",
      "The average recall for all cv folds is: \t\t\t 0.74912\n",
      "*********************************************************\n",
      "Cross Validation Fold Mean Error Scores\n"
     ]
    },
    {
     "data": {
      "text/html": [
       "<div>\n",
       "<style scoped>\n",
       "    .dataframe tbody tr th:only-of-type {\n",
       "        vertical-align: middle;\n",
       "    }\n",
       "\n",
       "    .dataframe tbody tr th {\n",
       "        vertical-align: top;\n",
       "    }\n",
       "\n",
       "    .dataframe thead th {\n",
       "        text-align: right;\n",
       "    }\n",
       "</style>\n",
       "<table border=\"1\" class=\"dataframe\">\n",
       "  <thead>\n",
       "    <tr style=\"text-align: right;\">\n",
       "      <th></th>\n",
       "      <th>Accuracy</th>\n",
       "      <th>Precision</th>\n",
       "      <th>Recall</th>\n",
       "    </tr>\n",
       "  </thead>\n",
       "  <tbody>\n",
       "    <tr>\n",
       "      <th>0</th>\n",
       "      <td>0.836579</td>\n",
       "      <td>0.915918</td>\n",
       "      <td>0.761067</td>\n",
       "    </tr>\n",
       "    <tr>\n",
       "      <th>1</th>\n",
       "      <td>0.820209</td>\n",
       "      <td>0.900907</td>\n",
       "      <td>0.741867</td>\n",
       "    </tr>\n",
       "    <tr>\n",
       "      <th>2</th>\n",
       "      <td>0.824443</td>\n",
       "      <td>0.902894</td>\n",
       "      <td>0.748800</td>\n",
       "    </tr>\n",
       "    <tr>\n",
       "      <th>3</th>\n",
       "      <td>0.825572</td>\n",
       "      <td>0.913215</td>\n",
       "      <td>0.740800</td>\n",
       "    </tr>\n",
       "    <tr>\n",
       "      <th>4</th>\n",
       "      <td>0.829805</td>\n",
       "      <td>0.909794</td>\n",
       "      <td>0.753067</td>\n",
       "    </tr>\n",
       "  </tbody>\n",
       "</table>\n",
       "</div>"
      ],
      "text/plain": [
       "   Accuracy  Precision    Recall\n",
       "0  0.836579   0.915918  0.761067\n",
       "1  0.820209   0.900907  0.741867\n",
       "2  0.824443   0.902894  0.748800\n",
       "3  0.825572   0.913215  0.740800\n",
       "4  0.829805   0.909794  0.753067"
      ]
     },
     "execution_count": 56,
     "metadata": {},
     "output_type": "execute_result"
    }
   ],
   "source": [
    "InjuryEvaluateClassifierEstimator(lr_clf_inj_final, inj_X, inj_y, cv_log)"
   ]
  },
  {
   "cell_type": "code",
   "execution_count": 57,
   "id": "f0f3f2c5",
   "metadata": {
    "scrolled": true
   },
   "outputs": [
    {
     "data": {
      "text/plain": [
       "Text(0.5, 1.0, 'KNN Injury predictions')"
      ]
     },
     "execution_count": 57,
     "metadata": {},
     "output_type": "execute_result"
    },
    {
     "data": {
      "image/png": "[encoded data removed]",
      "text/plain": [
       "<Figure size 720x720 with 1 Axes>"
      ]
     },
     "metadata": {
      "needs_background": "light"
     },
     "output_type": "display_data"
    }
   ],
   "source": [
    "knn_inj_final = KNeighborsClassifier(leaf_size=20, n_neighbors=13, p=1, weights='distance')\n",
    "knn_inj_final.fit(X_train_inj, y_train_inj)\n",
    "knn_inj_y = knn_inj_final.predict(X_test_inj)\n",
    "\n",
    "confusion = pd.crosstab(y_test_inj, knn_inj_y, rownames = ['Actual'], colnames = ['Predicted'])\n",
    "\n",
    "# Create confusion matrix using Seaborn\n",
    "fig, ax = plt.subplots(figsize = (10, 10))\n",
    "sns.heatmap(confusion, \n",
    "            annot = True, \n",
    "            cmap = \"YlGnBu\", \n",
    "            cbar = False,\n",
    "            fmt = 'g',\n",
    "            ax = ax,\n",
    "            annot_kws = {'size' : 14},\n",
    "           linewidths = 0.5)\n",
    "ax.set_title('KNN Injury predictions', fontsize = 20)"
   ]
  },
  {
   "cell_type": "markdown",
   "id": "e2fadde4",
   "metadata": {},
   "source": [
    "KNN heat map: KNN was our second best model. However, much like the issue with our logistic regression model we don’t want to predict no injury where there might be an injury. This could lead to an unprepared response from our rescue team."
   ]
  },
  {
   "cell_type": "code",
   "execution_count": 58,
   "id": "9d42e04b",
   "metadata": {
    "scrolled": true
   },
   "outputs": [
    {
     "name": "stdout",
     "output_type": "stream",
     "text": [
      "The average accuracy for all cv folds is: \t\t\t 0.78871\n",
      "The average precision for all cv folds is: \t\t\t 0.89135\n",
      "The average recall for all cv folds is: \t\t\t 0.68416\n",
      "*********************************************************\n",
      "Cross Validation Fold Mean Error Scores\n"
     ]
    },
    {
     "data": {
      "text/html": [
       "<div>\n",
       "<style scoped>\n",
       "    .dataframe tbody tr th:only-of-type {\n",
       "        vertical-align: middle;\n",
       "    }\n",
       "\n",
       "    .dataframe tbody tr th {\n",
       "        vertical-align: top;\n",
       "    }\n",
       "\n",
       "    .dataframe thead th {\n",
       "        text-align: right;\n",
       "    }\n",
       "</style>\n",
       "<table border=\"1\" class=\"dataframe\">\n",
       "  <thead>\n",
       "    <tr style=\"text-align: right;\">\n",
       "      <th></th>\n",
       "      <th>Accuracy</th>\n",
       "      <th>Precision</th>\n",
       "      <th>Recall</th>\n",
       "    </tr>\n",
       "  </thead>\n",
       "  <tbody>\n",
       "    <tr>\n",
       "      <th>0</th>\n",
       "      <td>0.796218</td>\n",
       "      <td>0.899515</td>\n",
       "      <td>0.692267</td>\n",
       "    </tr>\n",
       "    <tr>\n",
       "      <th>1</th>\n",
       "      <td>0.790573</td>\n",
       "      <td>0.894224</td>\n",
       "      <td>0.685333</td>\n",
       "    </tr>\n",
       "    <tr>\n",
       "      <th>2</th>\n",
       "      <td>0.784081</td>\n",
       "      <td>0.884349</td>\n",
       "      <td>0.681067</td>\n",
       "    </tr>\n",
       "    <tr>\n",
       "      <th>3</th>\n",
       "      <td>0.784928</td>\n",
       "      <td>0.892731</td>\n",
       "      <td>0.674667</td>\n",
       "    </tr>\n",
       "    <tr>\n",
       "      <th>4</th>\n",
       "      <td>0.787750</td>\n",
       "      <td>0.885911</td>\n",
       "      <td>0.687467</td>\n",
       "    </tr>\n",
       "  </tbody>\n",
       "</table>\n",
       "</div>"
      ],
      "text/plain": [
       "   Accuracy  Precision    Recall\n",
       "0  0.796218   0.899515  0.692267\n",
       "1  0.790573   0.894224  0.685333\n",
       "2  0.784081   0.884349  0.681067\n",
       "3  0.784928   0.892731  0.674667\n",
       "4  0.787750   0.885911  0.687467"
      ]
     },
     "execution_count": 58,
     "metadata": {},
     "output_type": "execute_result"
    }
   ],
   "source": [
    "InjuryEvaluateClassifierEstimator(knn_inj_final, inj_X, inj_y, cv_log)"
   ]
  },
  {
   "cell_type": "code",
   "execution_count": 59,
   "id": "474ba237",
   "metadata": {
    "scrolled": true
   },
   "outputs": [
    {
     "data": {
      "text/plain": [
       "Text(0.5, 1.0, 'Random Forest Injury predictions')"
      ]
     },
     "execution_count": 59,
     "metadata": {},
     "output_type": "execute_result"
    },
    {
     "data": {
      "image/png": "[encoded data removed]",
      "text/plain": [
       "<Figure size 720x720 with 1 Axes>"
      ]
     },
     "metadata": {
      "needs_background": "light"
     },
     "output_type": "display_data"
    }
   ],
   "source": [
    "rf_inj_final = RandomForestClassifier(class_weight='balanced', max_depth=10,\n",
    "                       min_samples_leaf=50, min_samples_split=50,\n",
    "                       n_estimators=30, random_state=42)\n",
    "rf_inj_final.fit(X_train_inj, y_train_inj)\n",
    "rf_inj_y = rf_inj_final.predict(X_test_inj)\n",
    "\n",
    "confusion = pd.crosstab(y_test_inj, rf_inj_y, rownames = ['Actual'], colnames = ['Predicted'])\n",
    "\n",
    "# Create confusion matrix using Seaborn\n",
    "fig, ax = plt.subplots(figsize = (10, 10))\n",
    "sns.heatmap(confusion, \n",
    "            annot = True, \n",
    "            cmap = \"YlGnBu\", \n",
    "            cbar = False,\n",
    "            fmt = 'g',\n",
    "            ax = ax,\n",
    "            annot_kws = {'size' : 14},\n",
    "           linewidths = 0.5)\n",
    "ax.set_title('Random Forest Injury predictions', fontsize = 20)"
   ]
  },
  {
   "cell_type": "markdown",
   "id": "0a792226",
   "metadata": {},
   "source": [
    "Random Forest heat map: this was our least accurate model for prediction injury. It predicted an injury for cases with no injury more often than the others. Though this may lead to an overprepared response from our rescue team we would rather have that opposed to a less prepared response."
   ]
  },
  {
   "cell_type": "code",
   "execution_count": 60,
   "id": "cb5e2525",
   "metadata": {
    "scrolled": true
   },
   "outputs": [
    {
     "name": "stdout",
     "output_type": "stream",
     "text": [
      "The average accuracy for all cv folds is: \t\t\t 0.75089\n",
      "The average precision for all cv folds is: \t\t\t 0.8521\n",
      "The average recall for all cv folds is: \t\t\t 0.64139\n",
      "*********************************************************\n",
      "Cross Validation Fold Mean Error Scores\n"
     ]
    },
    {
     "data": {
      "text/html": [
       "<div>\n",
       "<style scoped>\n",
       "    .dataframe tbody tr th:only-of-type {\n",
       "        vertical-align: middle;\n",
       "    }\n",
       "\n",
       "    .dataframe tbody tr th {\n",
       "        vertical-align: top;\n",
       "    }\n",
       "\n",
       "    .dataframe thead th {\n",
       "        text-align: right;\n",
       "    }\n",
       "</style>\n",
       "<table border=\"1\" class=\"dataframe\">\n",
       "  <thead>\n",
       "    <tr style=\"text-align: right;\">\n",
       "      <th></th>\n",
       "      <th>Accuracy</th>\n",
       "      <th>Precision</th>\n",
       "      <th>Recall</th>\n",
       "    </tr>\n",
       "  </thead>\n",
       "  <tbody>\n",
       "    <tr>\n",
       "      <th>0</th>\n",
       "      <td>0.700819</td>\n",
       "      <td>0.859031</td>\n",
       "      <td>0.520000</td>\n",
       "    </tr>\n",
       "    <tr>\n",
       "      <th>1</th>\n",
       "      <td>0.756139</td>\n",
       "      <td>0.872513</td>\n",
       "      <td>0.631467</td>\n",
       "    </tr>\n",
       "    <tr>\n",
       "      <th>2</th>\n",
       "      <td>0.745978</td>\n",
       "      <td>0.825651</td>\n",
       "      <td>0.659200</td>\n",
       "    </tr>\n",
       "    <tr>\n",
       "      <th>3</th>\n",
       "      <td>0.748518</td>\n",
       "      <td>0.854467</td>\n",
       "      <td>0.632533</td>\n",
       "    </tr>\n",
       "    <tr>\n",
       "      <th>4</th>\n",
       "      <td>0.802992</td>\n",
       "      <td>0.848844</td>\n",
       "      <td>0.763733</td>\n",
       "    </tr>\n",
       "  </tbody>\n",
       "</table>\n",
       "</div>"
      ],
      "text/plain": [
       "   Accuracy  Precision    Recall\n",
       "0  0.700819   0.859031  0.520000\n",
       "1  0.756139   0.872513  0.631467\n",
       "2  0.745978   0.825651  0.659200\n",
       "3  0.748518   0.854467  0.632533\n",
       "4  0.802992   0.848844  0.763733"
      ]
     },
     "execution_count": 60,
     "metadata": {},
     "output_type": "execute_result"
    }
   ],
   "source": [
    "InjuryEvaluateClassifierEstimator(rf_inj_final, inj_X, inj_y, cv_log)"
   ]
  },
  {
   "cell_type": "markdown",
   "id": "f461e5bc",
   "metadata": {},
   "source": [
    "### Best Models - Phase"
   ]
  },
  {
   "cell_type": "markdown",
   "id": "dddec387",
   "metadata": {},
   "source": [
    "Phase of flight map:\n",
    "APPROACH\":0\n",
    "\n",
    "\"CLIMB\":1\n",
    "\n",
    "\"CRUISE\":2\n",
    "\n",
    "\"DESCENT\":3\n",
    "\n",
    "\"GOAROUND\":4\n",
    "\n",
    "\"HOVER\":5\n",
    "\n",
    "\"LANDING\":6\n",
    "\n",
    "\"MANEUVERING\":7\n",
    "\n",
    "\"STANDING\":8\n",
    "\n",
    "\"TAKEOFF\":9\n",
    "\n",
    "\"TAXI\":10"
   ]
  },
  {
   "cell_type": "code",
   "execution_count": 61,
   "id": "b5412892",
   "metadata": {},
   "outputs": [],
   "source": [
    "for train_indices, test_indices in cv_log.split(phase_X,phase_y): \n",
    "    X_train_phase = phase_X[train_indices]\n",
    "    y_train_phase = phase_y[train_indices]\n",
    "    \n",
    "    X_test_phase = phase_X[test_indices]\n",
    "    y_test_phase = phase_y[test_indices]"
   ]
  },
  {
   "cell_type": "code",
   "execution_count": 62,
   "id": "5e1c8f42",
   "metadata": {},
   "outputs": [
    {
     "name": "stdout",
     "output_type": "stream",
     "text": [
      "Accuracy: 0.45537287140340577\n",
      "Precision: 0.229025238041144\n",
      "Recall: 0.3154852275024576\n"
     ]
    }
   ],
   "source": [
    "from sklearn import metrics \n",
    "from sklearn.metrics import accuracy_score, precision_score, recall_score, f1_score\n",
    "\n",
    "lr_phase_final = LogisticRegression(C=0.001, class_weight='balanced', max_iter=1000,\n",
    "                   random_state=42, solver='liblinear')\n",
    "lr_phase_final.fit(X_train_phase,y_train_phase)\n",
    "log_phase_y = lr_phase_final.predict(X_test_phase)\n",
    "\n",
    "print(\"Accuracy:\",metrics.accuracy_score(y_test_phase, log_phase_y))\n",
    "print(\"Precision:\",metrics.precision_score(y_test_phase,log_phase_y,average='macro'))\n",
    "print(\"Recall:\",metrics.recall_score(y_test_phase,log_phase_y,average='macro'))"
   ]
  },
  {
   "cell_type": "code",
   "execution_count": 63,
   "id": "9a6c8adb",
   "metadata": {
    "scrolled": true
   },
   "outputs": [
    {
     "data": {
      "text/plain": [
       "Text(0.5, 1.0, 'Logistic Regression Phase of flight predictions')"
      ]
     },
     "execution_count": 63,
     "metadata": {},
     "output_type": "execute_result"
    },
    {
     "data": {
      "image/png": "[encoded data removed]",
      "text/plain": [
       "<Figure size 720x720 with 1 Axes>"
      ]
     },
     "metadata": {
      "needs_background": "light"
     },
     "output_type": "display_data"
    }
   ],
   "source": [
    "confusion = pd.crosstab(y_test_phase, log_phase_y, rownames = ['Actual'], colnames = ['Predicted'])\n",
    "\n",
    "# Create confusion matrix using Seaborn\n",
    "fig, ax = plt.subplots(figsize = (10, 10))\n",
    "sns.heatmap(confusion, \n",
    "            annot = True, \n",
    "            cmap = \"YlGnBu\", \n",
    "            cbar = False,\n",
    "            fmt = 'g',\n",
    "            ax = ax,\n",
    "            annot_kws = {'size' : 14},\n",
    "           linewidths = 0.5)\n",
    "ax.set_title('Logistic Regression Phase of flight predictions', fontsize = 20)"
   ]
  },
  {
   "cell_type": "markdown",
   "id": "1ae856e8",
   "metadata": {},
   "source": [
    "Logistic regression heat map: This was our second-best model at predicting phase of flight. We can see that 6 was the most correctly predicted phase which was landing. However, we see that level 9, takeoff, was mistaken for landing many times. Approach (1) was also miss-predicted as landing as well."
   ]
  },
  {
   "cell_type": "code",
   "execution_count": 64,
   "id": "40585811",
   "metadata": {},
   "outputs": [
    {
     "name": "stdout",
     "output_type": "stream",
     "text": [
      "Accuracy: 0.5502055196711685\n",
      "Precision: 0.44507963841719944\n",
      "Recall: 0.2746267720029174\n"
     ]
    }
   ],
   "source": [
    "knn_phase_final = KNeighborsClassifier(leaf_size=20, n_neighbors=9, p=1, weights='distance')\n",
    "knn_phase_final.fit(X_train_phase, y_train_phase)\n",
    "knn_phase_y = knn_phase_final.predict(X_test_phase)\n",
    "\n",
    "print(\"Accuracy:\",metrics.accuracy_score(y_test_phase, knn_phase_y))\n",
    "print(\"Precision:\",metrics.precision_score(y_test_phase,knn_phase_y,average='macro'))\n",
    "print(\"Recall:\",metrics.recall_score(y_test_phase,knn_phase_y,average='macro'))"
   ]
  },
  {
   "cell_type": "code",
   "execution_count": 65,
   "id": "e7667a82",
   "metadata": {
    "scrolled": true
   },
   "outputs": [
    {
     "data": {
      "text/plain": [
       "Text(0.5, 1.0, 'KNN Phase of flight predictions')"
      ]
     },
     "execution_count": 65,
     "metadata": {},
     "output_type": "execute_result"
    },
    {
     "data": {
      "image/png": "[encoded data removed]",
      "text/plain": [
       "<Figure size 720x720 with 1 Axes>"
      ]
     },
     "metadata": {
      "needs_background": "light"
     },
     "output_type": "display_data"
    }
   ],
   "source": [
    "confusion = pd.crosstab(y_test_phase, knn_phase_y, rownames = ['Actual'], colnames = ['Predicted'])\n",
    "\n",
    "# Create confusion matrix using Seaborn\n",
    "fig, ax = plt.subplots(figsize = (10, 10))\n",
    "sns.heatmap(confusion, \n",
    "            annot = True, \n",
    "            cmap = \"YlGnBu\", \n",
    "            cbar = False,\n",
    "            fmt = 'g',\n",
    "            ax = ax,\n",
    "            annot_kws = {'size' : 14},\n",
    "           linewidths = 0.5)\n",
    "ax.set_title('KNN Phase of flight predictions', fontsize = 20)"
   ]
  },
  {
   "cell_type": "markdown",
   "id": "855a7ac8",
   "metadata": {},
   "source": [
    "KNN heat map:  This was our best model, but it also had similar issues to the other two. Takeoff and approach were the top miss-categorized predictions and were predicted to be landing."
   ]
  },
  {
   "cell_type": "code",
   "execution_count": 66,
   "id": "1e81d0bb",
   "metadata": {},
   "outputs": [
    {
     "name": "stdout",
     "output_type": "stream",
     "text": [
      "Accuracy: 0.2595419847328244\n",
      "Precision: 0.18582458429920223\n",
      "Recall: 0.3327694527031697\n"
     ]
    }
   ],
   "source": [
    "rf_phase_final = RandomForestClassifier(class_weight= 'balanced', criterion= 'entropy', max_depth= 55, min_samples_leaf= 100, min_samples_split= 500, n_estimators= 90, random_state= 42)\n",
    "rf_phase_final.fit(X_train_phase, y_train_phase)\n",
    "rf_phase_y = rf_phase_final.predict(X_test_phase)\n",
    "\n",
    "print(\"Accuracy:\",metrics.accuracy_score(y_test_phase, rf_phase_y))\n",
    "print(\"Precision:\",metrics.precision_score(y_test_phase,rf_phase_y,average='macro'))\n",
    "print(\"Recall:\",metrics.recall_score(y_test_phase,rf_phase_y,average='macro'))"
   ]
  },
  {
   "cell_type": "code",
   "execution_count": 67,
   "id": "c272d6c1",
   "metadata": {
    "scrolled": true
   },
   "outputs": [
    {
     "data": {
      "text/plain": [
       "Text(0.5, 1.0, 'Random Forest Phase of flight predictions')"
      ]
     },
     "execution_count": 67,
     "metadata": {},
     "output_type": "execute_result"
    },
    {
     "data": {
      "image/png": "[encoded data removed]",
      "text/plain": [
       "<Figure size 720x720 with 1 Axes>"
      ]
     },
     "metadata": {
      "needs_background": "light"
     },
     "output_type": "display_data"
    }
   ],
   "source": [
    "confusion = pd.crosstab(y_test_phase, rf_phase_y, rownames = ['Actual'], colnames = ['Predicted'])\n",
    "\n",
    "# Create confusion matrix using Seaborn\n",
    "fig, ax = plt.subplots(figsize = (10, 10))\n",
    "sns.heatmap(confusion, \n",
    "            annot = True, \n",
    "            cmap = \"YlGnBu\", \n",
    "            cbar = False,\n",
    "            fmt = 'g',\n",
    "            ax = ax,\n",
    "            annot_kws = {'size' : 14},\n",
    "           linewidths = 0.5)\n",
    "ax.set_title('Random Forest Phase of flight predictions', fontsize = 20)"
   ]
  },
  {
   "cell_type": "markdown",
   "id": "057cd9ba",
   "metadata": {},
   "source": [
    "Random Forest heat map: This heatmap shows the most interesting story. Landing was predicted for many of the predictions. This includes 1 climb, 4 go-around, 9 takeoff and 10 taxi."
   ]
  },
  {
   "cell_type": "markdown",
   "id": "151ae290",
   "metadata": {},
   "source": [
    "# Modeling and Evaluation 5"
   ]
  },
  {
   "cell_type": "markdown",
   "id": "81c867af",
   "metadata": {},
   "source": [
    "Code from: http://rasbt.github.io/mlxtend/user_guide/evaluate/paired_ttest_5x2cv/"
   ]
  },
  {
   "cell_type": "markdown",
   "id": "a96befc3",
   "metadata": {},
   "source": [
    "#### For model comparison we used 6 paired T-tests all with an alpha of .05. This will allow us to identify which models had statically significant different accuracy results.\n",
    "\n",
    "##### Injury:\n",
    "Logistic Regression vs. KNN\n",
    "\n",
    "We achieved a P value of <.0001 which means we reject our hypothesis that these models yield similar results in accuracy and conclude that one model does product a statically higher accuracy. Since we used an alpha of .05 this means that we are 95% confident these two models yeild statically different accuracy results. Given our accuracy scores given earlier we determined that Logistic Regression achieve the better accuracy score.\n",
    "\n",
    "Logistic Regression vs. Random Forest\n",
    "\n",
    "We achieved a P value of .011 which means we reject our hypothesis that these models yield similar results in accuracy and conclude that one model does product a statically higher accuracy. Since we used an alpha of .05 this means that we are 95% confident these two models yeild statically different accuracy results. Given our accuracy scores given earlier we determined that Logistic Regression achieve the better accuracy score.\n",
    "\n",
    "\n",
    "KNN vs. Random Forest\n",
    "\n",
    "We achieved a P value of .035 which means we reject our hypothesis that these models yield similar results in accuracy and conclude that one model does product a statically higher accuracy. Since we used an alpha of .05 this means that we are 95% confident these two models yeild statically different accuracy results. Given our accuracy scores given earlier we determined that KNN achieve the better accuracy score.\n",
    "\n",
    "\n",
    "\n",
    "##### Phase:\n",
    "Logistic Regression vs. KNN\n",
    "\n",
    "We achieved a P value of .002 which means we reject our hypothesis that these models yield similar results in accuracy and conclude that one model does product a statically higher accuracy. Since we used an alpha of .05 this means that we are 95% confident these two models yeild statically different accuracy results. Given our accuracy scores given earlier we determined that KNN achieve the better accuracy score.\n",
    "\n",
    "Logistic Regression vs. Random Forest\n",
    "\n",
    "We achieved a P value of .026 which means we reject our hypothesis that these models yield similar results in accuracy and conclude that one model does product a statically higher accuracy. Since we used an alpha of .05 this means that we are 95% confident these two models yeild statically different accuracy results. Given our accuracy scores given earlier we determined that Logistic Regression achieve the better accuracy score.\n",
    "\n",
    "\n",
    "KNN vs. Random Forest\n",
    "\n",
    "We achieved a P value of .005 which means we reject our hypothesis that these models yield similar results in accuracy and conclude that one model does product a statically higher accuracy. Since we used an alpha of .05 this means that we are 95% confident these two models yeild statically different accuracy results. Given our accuracy scores given earlier we determined that KNN achieve the better accuracy score.\n"
   ]
  },
  {
   "cell_type": "markdown",
   "id": "0f0536cd",
   "metadata": {},
   "source": [
    "•\tModels – Injury\n",
    "\n",
    "•\tLogistic Regression\n",
    "\n",
    "    •\tAdvantages\n",
    "        o\tOut of all of our models logistic regression ran the fastest\n",
    "        o\tMost accuracy with good scores\n",
    "        o\tBest performance for recall, accuracy, and precision\n",
    "    •\tDisadvantages\n",
    "        o\tLimited in improvement parameters for gridsearch compared to the other models\n",
    "•\tKNN\n",
    "\n",
    "    •\tAdvantages\n",
    "        o\tSecond best accuracy, recall and precision scores\n",
    "        o\tGridsearch has many options for hyper parameters\n",
    "    •\tDisadvantages\n",
    "        o\tKNN runs the slowest of all our models\n",
    "•\tRandom Forest\n",
    "\n",
    "    •\tAdvantages\n",
    "        o\tRan quickly\n",
    "        o\tGridsearch can turn many hyper parameters\n",
    "    •\tDisadvantages\n",
    "        o\tPoor performance compared to other options\n"
   ]
  },
  {
   "cell_type": "markdown",
   "id": "d4659b68",
   "metadata": {},
   "source": [
    "#### Injury Model Comparison Test"
   ]
  },
  {
   "cell_type": "code",
   "execution_count": 70,
   "id": "abb5e4b2",
   "metadata": {
    "scrolled": true
   },
   "outputs": [],
   "source": [
    "from sklearn.linear_model import LogisticRegression\n",
    "from sklearn.tree import DecisionTreeClassifier\n",
    "from sklearn.model_selection import train_test_split\n"
   ]
  },
  {
   "cell_type": "code",
   "execution_count": 71,
   "id": "a07b826a",
   "metadata": {},
   "outputs": [
    {
     "name": "stdout",
     "output_type": "stream",
     "text": [
      "t statistic: 11.462\n",
      "p value: 0.000\n"
     ]
    }
   ],
   "source": [
    "from mlxtend.evaluate import paired_ttest_5x2cv\n",
    "\n",
    "# Logistic Regression vs KNN for injury\n",
    "t, p = paired_ttest_5x2cv(estimator1=lr_clf_inj_final,\n",
    "                          estimator2=knn_inj_final,\n",
    "                          X=inj_X, y=inj_y,\n",
    "                          random_seed=42)\n",
    "\n",
    "print('t statistic: %.3f' % t)\n",
    "print('p value: %.3f' % p)"
   ]
  },
  {
   "cell_type": "code",
   "execution_count": 72,
   "id": "662dc687",
   "metadata": {},
   "outputs": [
    {
     "name": "stdout",
     "output_type": "stream",
     "text": [
      "t statistic: 3.939\n",
      "p value: 0.011\n"
     ]
    }
   ],
   "source": [
    "# logistic Regression vs Random Forest for injury\n",
    "t, p = paired_ttest_5x2cv(estimator1=lr_clf_inj_final,\n",
    "                          estimator2=rf_inj_final,\n",
    "                          X=inj_X, y=inj_y,\n",
    "                          random_seed=42)\n",
    "\n",
    "print('t statistic: %.3f' % t)\n",
    "print('p value: %.3f' % p)"
   ]
  },
  {
   "cell_type": "code",
   "execution_count": 73,
   "id": "23ef2700",
   "metadata": {},
   "outputs": [
    {
     "name": "stdout",
     "output_type": "stream",
     "text": [
      "t statistic: 2.879\n",
      "p value: 0.035\n"
     ]
    }
   ],
   "source": [
    "#KNN vs Random Forest for Injury\n",
    "t, p = paired_ttest_5x2cv(estimator1=knn_inj_final,\n",
    "                          estimator2=rf_inj_final,\n",
    "                          X=inj_X, y=inj_y,\n",
    "                          random_seed=42)\n",
    "\n",
    "print('t statistic: %.3f' % t)\n",
    "print('p value: %.3f' % p)"
   ]
  },
  {
   "cell_type": "markdown",
   "id": "a72c405d",
   "metadata": {},
   "source": [
    "#### Phase Model Comparison T test"
   ]
  },
  {
   "cell_type": "markdown",
   "id": "e7c54cae",
   "metadata": {},
   "source": [
    "Models - Phase\n",
    "\n",
    "•\tLogistic Regression\n",
    "\n",
    "    •\tAdvantages\n",
    "\n",
    "        o\tOut of all of our models logistic regression ran the fastest\n",
    "        o\tSecond best scores on recall, accuracy and percision\n",
    "    •\tDisadvantages\n",
    "        o\tLimited in improvement parameters for gridsearch compared to the other models\n",
    "•\tKNN\n",
    "\n",
    "    •\tAdvantages\n",
    "        o\tBest performance for recall, accuracy, and precision\n",
    "        o\tGridsearch has many options for hyper parameters\n",
    "    •\tDisadvantages\n",
    "        o\tKNN runs the slowest of all our models\n",
    "•\tRandom Forest\n",
    "\n",
    "    •\tAdvantages\n",
    "        o\tRan quickly\n",
    "        o\tGridsearch can turn many hyper parameters\n",
    "    •\tDisadvantages\n",
    "        o\tPoor performance compared to other options\n",
    "        o\tMany miss-classifications \n"
   ]
  },
  {
   "cell_type": "code",
   "execution_count": 74,
   "id": "65a0b8fd",
   "metadata": {},
   "outputs": [
    {
     "name": "stdout",
     "output_type": "stream",
     "text": [
      "t statistic: -6.137\n",
      "p value: 0.002\n"
     ]
    }
   ],
   "source": [
    "#Logistic Regression vs KNN for phase\n",
    "t, p = paired_ttest_5x2cv(estimator1=lr_phase_final,\n",
    "                          estimator2=knn_phase_final,\n",
    "                          X=phase_X, y=phase_y,\n",
    "                          random_seed=42)\n",
    "\n",
    "print('t statistic: %.3f' % t)\n",
    "print('p value: %.3f' % p)"
   ]
  },
  {
   "cell_type": "code",
   "execution_count": 75,
   "id": "d221c992",
   "metadata": {},
   "outputs": [
    {
     "name": "stdout",
     "output_type": "stream",
     "text": [
      "t statistic: 3.143\n",
      "p value: 0.026\n"
     ]
    }
   ],
   "source": [
    "#Logistic Regression vs random forest for phase\n",
    "t, p = paired_ttest_5x2cv(estimator1=lr_phase_final,\n",
    "                          estimator2=rf_phase_final,\n",
    "                          X=phase_X, y=phase_y,\n",
    "                          random_seed=42)\n",
    "\n",
    "print('t statistic: %.3f' % t)\n",
    "print('p value: %.3f' % p)"
   ]
  },
  {
   "cell_type": "code",
   "execution_count": 76,
   "id": "2a6c2f32",
   "metadata": {},
   "outputs": [
    {
     "name": "stdout",
     "output_type": "stream",
     "text": [
      "t statistic: 4.694\n",
      "p value: 0.005\n"
     ]
    }
   ],
   "source": [
    "#KNN for phase vs random forest for phase\n",
    "t, p = paired_ttest_5x2cv(estimator1=knn_phase_final,\n",
    "                          estimator2=rf_phase_final,\n",
    "                          X=phase_X, y=phase_y,\n",
    "                          random_seed=42)\n",
    "\n",
    "print('t statistic: %.3f' % t)\n",
    "print('p value: %.3f' % p)"
   ]
  },
  {
   "cell_type": "markdown",
   "id": "c0b17e3b",
   "metadata": {},
   "source": [
    "# Modeling and Evaluation 6\n",
    "\n",
    "**[10 points] Which attributes from your analysis are most important? Use proper methods discussed in class to evaluate the importance of different attributes. Discuss the results and hypothesize about why certain attributes are more important than others for a given classification task.**"
   ]
  },
  {
   "cell_type": "markdown",
   "id": "e9260500",
   "metadata": {},
   "source": [
    "#### We looked  at both  logistic regression models to find out what features  were important to finding the correct number of injuries as well as the phase of flight an accident occurred at. For the Injury prediction model the top 5  features were as follows \n",
    "#### ev_type_INC\n",
    "- This is a categorical variable that has been one hot encoded. This is saying that it was an incident that the FAA investigated. If an incident is detected then injuries are more likely to occur.\n",
    "\n",
    "#### acft_category_AIR\n",
    "- This is a categorical variable that has been one hot encoded. The category of aircraft that was involved was an Airplane. This probably due to the high number of airplanes in our dataset.\n",
    "\n",
    "#### far_part_137\n",
    "- This is a categorical variable that has been one hot encoded. The aircraft that was involved with the accident was following 14 CFR part 137 which means it was an agricultural aircraft. Some reasons why this could be a correlated factor is that there might not be as much regulation for routine tasks such as spraying pesticides.\n",
    "\n",
    "#### damage_SUBS\n",
    "- This is a categorical variable that has been one hot encoded. The damage that had occurred to the aircraft was substantial. Substantial damage should link to high injuries.\n",
    "\n",
    "#### acft_category_HELI\n",
    "- This is a categorical variable that has been one hot encoded. The category of aircraft that was involved was a helicopter. We expect more injuries to happen with helicopters since they have less safety gear as well as the location of the propeller."
   ]
  },
  {
   "cell_type": "markdown",
   "id": "ebf8d816",
   "metadata": {},
   "source": [
    "#### For the Logistic regresssion Phase of flight  prediction model the top 5  features were as follows  \n",
    "\n",
    "##### The best  indicator for what phase of flight an aircraft would go down  was the model of aircraft. We saw other feature categories affect the prediction  but the ones with the model of aircraft dominated the list of top influential features. \n",
    "\n",
    "#### acft_model_U-206B\n",
    "- This is a categorical variable that has been one hot encoded.The aircraft full model code was U-206B. This aircraft was made from the manufacturer Cessna. Since this variable has a high weight it can be indicative of poor build quality.\n",
    "\n",
    "#### acft_model_Yak 52\n",
    "- This is a categorical variable that has been one hot encoded.The aircraft full model code was Yak 52. This aircraft was made from the manufacturer Aerostar. Since this variable has a high weight it can be indicative of poor build quality.\n",
    "\n",
    "#### acft_model_WW-24\n",
    "- This is a categorical variable that has been one hot encoded.The aircraft full model code was WW-24. This aircraft was made from the manufacturer Israel Aerospace Industries. Since this variable has a high weight it can be indicative of poor build quality.\n",
    "\n",
    "#### acft_model_WHITTMAN FORMULA VEE\n",
    "- This is a categorical variable that has been one hot encoded.The aircraft full model code was WHITTMAN FORMULA VEE. This aircraft was made from the manufacturer \tSteve Wittman. Since this variable has a high weight it can be indicative of poor build quality.\n",
    "#### acft_model_WINDRYDER\n",
    "- This is a categorical variable that has been one hot encoded.The aircraft full model code was WINDRYDER. This aircraft was made from the manufacturer Windryder Engineering Inc. Since this variable has a high weight it can be indicative of poor build quality."
   ]
  },
  {
   "cell_type": "markdown",
   "id": "9cdc3813",
   "metadata": {},
   "source": [
    "**Injury Best Est**"
   ]
  },
  {
   "cell_type": "code",
   "execution_count": 77,
   "id": "d6787342",
   "metadata": {},
   "outputs": [],
   "source": [
    "from sklearn.preprocessing import OneHotEncoder, StandardScaler\n",
    "from sklearn.pipeline import Pipeline\n",
    "from sklearn.compose import ColumnTransformer\n",
    "numeric_features = ['cert_max_gr_wt',\"afm_hrs_last_insp\",\"rwy_width\",'rwy_len']\n",
    "\n",
    "numeric_transformer = Pipeline(steps=[('scaler', StandardScaler(with_mean=False))])\n",
    "\n",
    "categorical_features = ['acft_make', 'acft_model', 'acft_category', 'damage', 'type_fly', 'dprt_state','ev_type', 'ev_state', 'sky_cond_ceil', 'sky_cond_nonceil', 'wx_int_precip', 'phase_flt_spec','ev_city','ev_country','far_part']\n",
    "\n",
    "\n",
    "categorical_transformer = Pipeline(steps=[('onehot', OneHotEncoder(drop=\"first\"))])\n",
    "\n",
    "\n",
    "preprocessor = ColumnTransformer(\n",
    "    transformers=[\n",
    "        ('num', numeric_transformer, numeric_features),\n",
    "        ('cat', categorical_transformer, categorical_features)])\n",
    "\n",
    "the_pipeline_new = Pipeline(steps=[('preprocessor', preprocessor)])"
   ]
  },
  {
   "cell_type": "code",
   "execution_count": 78,
   "id": "caff4e85",
   "metadata": {},
   "outputs": [],
   "source": [
    "numeric_features_new = ['cert_max_gr_wt',\"afm_hrs_last_insp\",\"rwy_width\",'rwy_len']\n",
    "\n",
    "X_columns = injury_df.drop(\"Injury\", axis = 1).copy()\n",
    "X_columns = the_pipeline_new.fit(X_columns)\n",
    "X_columns.named_steps[\"preprocessor\"].transformers_[1][1].named_steps[\"onehot\"]\n",
    "\n",
    "column_name = X_columns.named_steps['preprocessor'].transformers_[1][1]\\\n",
    "   .named_steps['onehot'].get_feature_names(categorical_features)\n",
    "\n",
    "column_name = list(column_name)\n",
    "column_name[:0] = numeric_features_new"
   ]
  },
  {
   "cell_type": "code",
   "execution_count": 79,
   "id": "59b43ec1",
   "metadata": {},
   "outputs": [],
   "source": [
    "coefficients = pd.concat([pd.DataFrame(column_name),pd.DataFrame(np.transpose(lr_inj_best_est.coef_))], axis = 1)\n",
    "coefficients.columns = [\"Features\",\"Weights\"]\n",
    "coefficients[\"Absolute_Value_Weights\"] = coefficients[\"Weights\"]\n",
    "coefficients[\"Absolute_Value_Weights\"]= coefficients[\"Absolute_Value_Weights\"].abs()\n",
    "coef_sorted = coefficients.sort_values(by=\"Absolute_Value_Weights\", ascending=False)\n",
    "coef_sorted = coef_sorted.head(15)"
   ]
  },
  {
   "cell_type": "code",
   "execution_count": 80,
   "id": "74db4bed",
   "metadata": {
    "scrolled": true
   },
   "outputs": [
    {
     "data": {
      "text/html": [
       "<div>\n",
       "<style scoped>\n",
       "    .dataframe tbody tr th:only-of-type {\n",
       "        vertical-align: middle;\n",
       "    }\n",
       "\n",
       "    .dataframe tbody tr th {\n",
       "        vertical-align: top;\n",
       "    }\n",
       "\n",
       "    .dataframe thead th {\n",
       "        text-align: right;\n",
       "    }\n",
       "</style>\n",
       "<table border=\"1\" class=\"dataframe\">\n",
       "  <thead>\n",
       "    <tr style=\"text-align: right;\">\n",
       "      <th></th>\n",
       "      <th>Features</th>\n",
       "      <th>Weights</th>\n",
       "      <th>Absolute_Value_Weights</th>\n",
       "    </tr>\n",
       "  </thead>\n",
       "  <tbody>\n",
       "    <tr>\n",
       "      <th>8960</th>\n",
       "      <td>ev_type_INC</td>\n",
       "      <td>-2.864280</td>\n",
       "      <td>2.864280</td>\n",
       "    </tr>\n",
       "    <tr>\n",
       "      <th>8844</th>\n",
       "      <td>acft_category_AIR</td>\n",
       "      <td>-2.669153</td>\n",
       "      <td>2.669153</td>\n",
       "    </tr>\n",
       "    <tr>\n",
       "      <th>18462</th>\n",
       "      <td>far_part_137</td>\n",
       "      <td>-2.475110</td>\n",
       "      <td>2.475110</td>\n",
       "    </tr>\n",
       "    <tr>\n",
       "      <th>8858</th>\n",
       "      <td>damage_SUBS</td>\n",
       "      <td>-2.337375</td>\n",
       "      <td>2.337375</td>\n",
       "    </tr>\n",
       "    <tr>\n",
       "      <th>8850</th>\n",
       "      <td>acft_category_HELI</td>\n",
       "      <td>-2.195169</td>\n",
       "      <td>2.195169</td>\n",
       "    </tr>\n",
       "    <tr>\n",
       "      <th>8848</th>\n",
       "      <td>acft_category_GLI</td>\n",
       "      <td>-2.189235</td>\n",
       "      <td>2.189235</td>\n",
       "    </tr>\n",
       "    <tr>\n",
       "      <th>18450</th>\n",
       "      <td>far_part_091</td>\n",
       "      <td>-2.177739</td>\n",
       "      <td>2.177739</td>\n",
       "    </tr>\n",
       "    <tr>\n",
       "      <th>18460</th>\n",
       "      <td>far_part_135</td>\n",
       "      <td>-1.814599</td>\n",
       "      <td>1.814599</td>\n",
       "    </tr>\n",
       "    <tr>\n",
       "      <th>18445</th>\n",
       "      <td>ev_country_USA</td>\n",
       "      <td>1.688844</td>\n",
       "      <td>1.688844</td>\n",
       "    </tr>\n",
       "    <tr>\n",
       "      <th>9047</th>\n",
       "      <td>phase_flt_spec_TAXI</td>\n",
       "      <td>-1.510707</td>\n",
       "      <td>1.510707</td>\n",
       "    </tr>\n",
       "    <tr>\n",
       "      <th>8856</th>\n",
       "      <td>damage_MINR</td>\n",
       "      <td>-1.272093</td>\n",
       "      <td>1.272093</td>\n",
       "    </tr>\n",
       "    <tr>\n",
       "      <th>18444</th>\n",
       "      <td>ev_country_UNK</td>\n",
       "      <td>1.246574</td>\n",
       "      <td>1.246574</td>\n",
       "    </tr>\n",
       "    <tr>\n",
       "      <th>8849</th>\n",
       "      <td>acft_category_GYRO</td>\n",
       "      <td>-1.225204</td>\n",
       "      <td>1.225204</td>\n",
       "    </tr>\n",
       "    <tr>\n",
       "      <th>9042</th>\n",
       "      <td>phase_flt_spec_LANDING</td>\n",
       "      <td>-1.186467</td>\n",
       "      <td>1.186467</td>\n",
       "    </tr>\n",
       "    <tr>\n",
       "      <th>9013</th>\n",
       "      <td>ev_state_UNK</td>\n",
       "      <td>1.001154</td>\n",
       "      <td>1.001154</td>\n",
       "    </tr>\n",
       "  </tbody>\n",
       "</table>\n",
       "</div>"
      ],
      "text/plain": [
       "                     Features   Weights  Absolute_Value_Weights\n",
       "8960              ev_type_INC -2.864280                2.864280\n",
       "8844       acft_category_AIR  -2.669153                2.669153\n",
       "18462           far_part_137  -2.475110                2.475110\n",
       "8858              damage_SUBS -2.337375                2.337375\n",
       "8850       acft_category_HELI -2.195169                2.195169\n",
       "8848       acft_category_GLI  -2.189235                2.189235\n",
       "18450           far_part_091  -2.177739                2.177739\n",
       "18460           far_part_135  -1.814599                1.814599\n",
       "18445          ev_country_USA  1.688844                1.688844\n",
       "9047      phase_flt_spec_TAXI -1.510707                1.510707\n",
       "8856              damage_MINR -1.272093                1.272093\n",
       "18444          ev_country_UNK  1.246574                1.246574\n",
       "8849       acft_category_GYRO -1.225204                1.225204\n",
       "9042   phase_flt_spec_LANDING -1.186467                1.186467\n",
       "9013             ev_state_UNK  1.001154                1.001154"
      ]
     },
     "execution_count": 80,
     "metadata": {},
     "output_type": "execute_result"
    }
   ],
   "source": [
    "coef_sorted"
   ]
  },
  {
   "cell_type": "markdown",
   "id": "f0a50604",
   "metadata": {},
   "source": [
    "**Phase of Flight best est**"
   ]
  },
  {
   "cell_type": "code",
   "execution_count": 92,
   "id": "7b28c207",
   "metadata": {},
   "outputs": [],
   "source": [
    "numeric_features = ['cert_max_gr_wt',\"afm_hrs_last_insp\",\"rwy_width\",'rwy_len','inj_f_grnd','inj_m_grnd',\n",
    "                    'inj_s_grnd','Total_Fatal_Injuries','Total_Minor_Injuries','Total_Uninjured',\n",
    "                    'Total_Serious_Injuries','Total_Injuries_Flight']\n",
    "\n",
    "numeric_transformer = Pipeline(steps=[('scaler', StandardScaler(with_mean=False))])\n",
    "\n",
    "categorical_features = ['acft_make', 'acft_model', 'acft_category', 'damage', 'type_fly', 'dprt_state','ev_type', 'ev_state', 'sky_cond_ceil', 'sky_cond_nonceil', 'wx_int_precip','ev_city','ev_country','far_part']\n",
    "\n",
    "\n",
    "categorical_transformer = Pipeline(steps=[('onehot', OneHotEncoder(drop=\"first\"))])\n",
    "\n",
    "\n",
    "preprocessor = ColumnTransformer(\n",
    "    transformers=[\n",
    "        ('num', numeric_transformer, numeric_features),\n",
    "        ('cat', categorical_transformer, categorical_features)])\n",
    "\n",
    "phase_pipeline = Pipeline(steps=[('preprocessor', preprocessor)])"
   ]
  },
  {
   "cell_type": "code",
   "execution_count": 93,
   "id": "bc4a5075",
   "metadata": {},
   "outputs": [],
   "source": [
    "numeric_features_new = ['cert_max_gr_wt',\"afm_hrs_last_insp\",\"rwy_width\",'rwy_len','inj_f_grnd','inj_m_grnd',\n",
    "                    'inj_s_grnd','Total_Fatal_Injuries','Total_Minor_Injuries','Total_Uninjured',\n",
    "                    'Total_Serious_Injuries','Total_Injuries_Flight']\n",
    "\n",
    "X_columns = phase_df.drop('phase_flt_spec', axis = 1).copy()\n",
    "X_columns = the_pipeline_new.fit(X_columns)\n",
    "X_columns.named_steps[\"preprocessor\"].transformers_[1][1].named_steps[\"onehot\"]\n",
    "\n",
    "column_name = X_columns.named_steps['preprocessor'].transformers_[1][1]\\\n",
    "   .named_steps['onehot'].get_feature_names(categorical_features)\n",
    "\n",
    "column_name = list(column_name)\n",
    "column_name[:0] = numeric_features_new"
   ]
  },
  {
   "cell_type": "code",
   "execution_count": 95,
   "id": "654137ac",
   "metadata": {},
   "outputs": [],
   "source": [
    "coefficients = pd.concat([pd.DataFrame(column_name),pd.DataFrame(np.transpose(log_phase_best_est.coef_))], axis = 1)\n",
    "coefficients.columns = [\"Features\",\"Weights\",'1','2','3','4','5','6','7','8','9','10']\n",
    "\n",
    "coefficients[\"Absolute_Value_Weights\"] = coefficients[\"Weights\"]\n",
    "coefficients[\"Absolute_Value_Weights\"]= coefficients[\"Absolute_Value_Weights\"].abs()\n",
    "coef_sorted = coefficients.sort_values(by=\"Absolute_Value_Weights\", ascending=False)\n",
    "coef_sorted = coef_sorted.head(15)"
   ]
  },
  {
   "cell_type": "code",
   "execution_count": 99,
   "id": "a407ac74",
   "metadata": {},
   "outputs": [
    {
     "data": {
      "text/html": [
       "<div>\n",
       "<style scoped>\n",
       "    .dataframe tbody tr th:only-of-type {\n",
       "        vertical-align: middle;\n",
       "    }\n",
       "\n",
       "    .dataframe tbody tr th {\n",
       "        vertical-align: top;\n",
       "    }\n",
       "\n",
       "    .dataframe thead th {\n",
       "        text-align: right;\n",
       "    }\n",
       "</style>\n",
       "<table border=\"1\" class=\"dataframe\">\n",
       "  <thead>\n",
       "    <tr style=\"text-align: right;\">\n",
       "      <th></th>\n",
       "      <th>Features</th>\n",
       "      <th>Weights</th>\n",
       "      <th>Absolute_Value_Weights</th>\n",
       "    </tr>\n",
       "  </thead>\n",
       "  <tbody>\n",
       "    <tr>\n",
       "      <th>8594</th>\n",
       "      <td>acft_model_U-206B</td>\n",
       "      <td>-0.467064</td>\n",
       "      <td>0.467064</td>\n",
       "    </tr>\n",
       "    <tr>\n",
       "      <th>8810</th>\n",
       "      <td>acft_model_Yak 52</td>\n",
       "      <td>-0.423109</td>\n",
       "      <td>0.423109</td>\n",
       "    </tr>\n",
       "    <tr>\n",
       "      <th>8769</th>\n",
       "      <td>acft_model_WW-24</td>\n",
       "      <td>-0.404650</td>\n",
       "      <td>0.404650</td>\n",
       "    </tr>\n",
       "    <tr>\n",
       "      <th>8755</th>\n",
       "      <td>acft_model_WHITTMAN FORMULA VEE</td>\n",
       "      <td>-0.211324</td>\n",
       "      <td>0.211324</td>\n",
       "    </tr>\n",
       "    <tr>\n",
       "      <th>8760</th>\n",
       "      <td>acft_model_WINDRYDER</td>\n",
       "      <td>-0.205091</td>\n",
       "      <td>0.205091</td>\n",
       "    </tr>\n",
       "    <tr>\n",
       "      <th>8685</th>\n",
       "      <td>acft_model_VANS RV-8</td>\n",
       "      <td>-0.189994</td>\n",
       "      <td>0.189994</td>\n",
       "    </tr>\n",
       "    <tr>\n",
       "      <th>8764</th>\n",
       "      <td>acft_model_WLAC-1</td>\n",
       "      <td>-0.164586</td>\n",
       "      <td>0.164586</td>\n",
       "    </tr>\n",
       "    <tr>\n",
       "      <th>8580</th>\n",
       "      <td>acft_model_Thorpedo T211</td>\n",
       "      <td>-0.156868</td>\n",
       "      <td>0.156868</td>\n",
       "    </tr>\n",
       "    <tr>\n",
       "      <th>8609</th>\n",
       "      <td>acft_model_U206G</td>\n",
       "      <td>-0.148584</td>\n",
       "      <td>0.148584</td>\n",
       "    </tr>\n",
       "    <tr>\n",
       "      <th>8758</th>\n",
       "      <td>acft_model_WINDLASS AQUILLA</td>\n",
       "      <td>-0.133585</td>\n",
       "      <td>0.133585</td>\n",
       "    </tr>\n",
       "    <tr>\n",
       "      <th>8825</th>\n",
       "      <td>acft_model_ZENITH CH-300</td>\n",
       "      <td>-0.093811</td>\n",
       "      <td>0.093811</td>\n",
       "    </tr>\n",
       "    <tr>\n",
       "      <th>8586</th>\n",
       "      <td>acft_model_Travel Air 4000</td>\n",
       "      <td>-0.084666</td>\n",
       "      <td>0.084666</td>\n",
       "    </tr>\n",
       "    <tr>\n",
       "      <th>8607</th>\n",
       "      <td>acft_model_U206F</td>\n",
       "      <td>-0.083900</td>\n",
       "      <td>0.083900</td>\n",
       "    </tr>\n",
       "    <tr>\n",
       "      <th>8813</th>\n",
       "      <td>acft_model_Z-200</td>\n",
       "      <td>-0.083877</td>\n",
       "      <td>0.083877</td>\n",
       "    </tr>\n",
       "    <tr>\n",
       "      <th>463</th>\n",
       "      <td>acft_make_CARLTON M. CADWELL</td>\n",
       "      <td>-0.078129</td>\n",
       "      <td>0.078129</td>\n",
       "    </tr>\n",
       "  </tbody>\n",
       "</table>\n",
       "</div>"
      ],
      "text/plain": [
       "                             Features   Weights  Absolute_Value_Weights\n",
       "8594  acft_model_U-206B               -0.467064                0.467064\n",
       "8810                acft_model_Yak 52 -0.423109                0.423109\n",
       "8769  acft_model_WW-24                -0.404650                0.404650\n",
       "8755  acft_model_WHITTMAN FORMULA VEE -0.211324                0.211324\n",
       "8760  acft_model_WINDRYDER            -0.205091                0.205091\n",
       "8685  acft_model_VANS RV-8            -0.189994                0.189994\n",
       "8764  acft_model_WLAC-1               -0.164586                0.164586\n",
       "8580         acft_model_Thorpedo T211 -0.156868                0.156868\n",
       "8609                 acft_model_U206G -0.148584                0.148584\n",
       "8758      acft_model_WINDLASS AQUILLA -0.133585                0.133585\n",
       "8825  acft_model_ZENITH CH-300        -0.093811                0.093811\n",
       "8586       acft_model_Travel Air 4000 -0.084666                0.084666\n",
       "8607                 acft_model_U206F -0.083900                0.083900\n",
       "8813  acft_model_Z-200                -0.083877                0.083877\n",
       "463      acft_make_CARLTON M. CADWELL -0.078129                0.078129"
      ]
     },
     "execution_count": 99,
     "metadata": {},
     "output_type": "execute_result"
    }
   ],
   "source": [
    "coef_sorted = coef_sorted[['Features','Weights','Absolute_Value_Weights']]\n",
    "coef_sorted"
   ]
  },
  {
   "cell_type": "markdown",
   "id": "535c5983",
   "metadata": {},
   "source": [
    "# Deployment"
   ]
  },
  {
   "cell_type": "markdown",
   "id": "86a9d9c1",
   "metadata": {},
   "source": [
    "**[5 points] How useful is your model for interested parties (i.e., the companies or organizations that might want to use it for prediction)? How would you measure the model's value if it was used by these parties? How would your deploy your model for interested parties? What other data should be collected? How often would the model need to be updated, etc.?**\n",
    "\n",
    "Our model could be extremely useful to the parties such as the NTSB. The NTSB has publicly available data on\n",
    "incidents. Creating a model that can classify injury and the phase of flight can improve safety regulations for aircrafts, educate investigators who are tasked with aircraft inspection after an incident has occured, and provide meaningful insights on what features are most important to classification.\n",
    "\n",
    "For example, safety regulations can improved, because the model could be used to understand the underlying factors that result in incidents that cause injuries. Predicting the broad phase of flight allows the NTSB and FAA to implement more safety measures at these stages of flight. Aircraft inspectors could use the phase of flight model to better predict the aircrafts that are more likely to have an incident at a specific broad phase of flight. Finally, the models provide insight about feature importance for all the interested parties. The model would be deployed so it can be tested on new incidents that have occured. There is more data we can collect that we had not added which include more information about the crew such as crew size, and experience. Certain attributes could be better predictors for both our classification problems. The model would need to be update every couple of months because new data is usually added at the beginning of each month."
   ]
  },
  {
   "cell_type": "markdown",
   "id": "d21fb0d4",
   "metadata": {},
   "source": [
    "# Exceptional Work\n",
    "\n",
    "For exceptional work we used gridsearch to find the best model for each of our models.\n",
    "\n",
    "We used these best determined models for each of our Paired T-Tests as well as our Accuracy, Precision and Recall.\n",
    "\n",
    "Our best models were also used in the heat maps given after each model assessment of Accuracy, Precision and Recall."
   ]
  },
  {
   "cell_type": "code",
   "execution_count": null,
   "id": "c46899dd",
   "metadata": {},
   "outputs": [],
   "source": [
    "%%time\n",
    "from sklearn.linear_model import LogisticRegression\n",
    "regEstimator = LogisticRegression()\n",
    "\n",
    "parameters = { 'penalty':['l2']\n",
    "              ,'C': [0.001, 0.01, 0.1, 1, 10, 100]\n",
    "              ,'class_weight': ['balanced']\n",
    "              ,'random_state': [42]\n",
    "              ,'solver': ['liblinear']\n",
    "              ,'max_iter':[1000]\n",
    "             }\n",
    "\n",
    "#Create a grid search object using the  \n",
    "from sklearn.model_selection import GridSearchCV\n",
    "inj_GridSearch = GridSearchCV(estimator=regEstimator\n",
    "                   , n_jobs=8 # jobs to run in parallel\n",
    "                   , verbose=1 # low verbosity\n",
    "                   , param_grid=parameters\n",
    "                   , cv=cv_log # KFolds = 5\n",
    "                   , scoring='accuracy')\n",
    "\n",
    "#Perform hyperparameter search to find the best combination of parameters for our data\n",
    "inj_GridSearch.fit(inj_X, inj_y)"
   ]
  },
  {
   "cell_type": "code",
   "execution_count": null,
   "id": "d17152e5",
   "metadata": {},
   "outputs": [],
   "source": [
    "%%time\n",
    "from sklearn.linear_model import LogisticRegression\n",
    "regEstimator = LogisticRegression()\n",
    "\n",
    "parameters = { 'penalty':['l2']\n",
    "              ,'C': [0.001, 0.01, 0.1, 1, 10, 100]\n",
    "              ,'class_weight': ['balanced']\n",
    "              ,'random_state': [42]\n",
    "              ,'solver': ['liblinear']\n",
    "              ,'max_iter':[1000]\n",
    "             }\n",
    "\n",
    "#Create a grid search object using the  \n",
    "from sklearn.model_selection import GridSearchCV\n",
    "phase_GridSearch = GridSearchCV(estimator=regEstimator\n",
    "                   , n_jobs=8 # jobs to run in parallel\n",
    "                   , verbose=1 # low verbosity\n",
    "                   , param_grid=parameters\n",
    "                   , cv=cv_log # KFolds = 5\n",
    "                   , scoring='accuracy')\n",
    "\n",
    "#Perform hyperparameter search to find the best combination of parameters for our data\n",
    "phase_GridSearch.fit(phase_X, phase_y)"
   ]
  },
  {
   "cell_type": "code",
   "execution_count": null,
   "id": "f6af00c4",
   "metadata": {},
   "outputs": [],
   "source": [
    "%%time\n",
    "#Create KNN Classifier\n",
    "#random state is not something you can use as a parameter in KNN random state set on CV object\n",
    "inj_knn_params = {\n",
    "    \"n_neighbors\": [3,5,7,9,13],\n",
    "    \"weights\": [\"uniform\", \"distance\"],\n",
    "    'leaf_size': (20,40,1),\n",
    "    'p': (1,2),\n",
    "#    'metric': ('minkowski', 'chebyshev'),\n",
    "    }\n",
    "\n",
    "inj_knn_grid = GridSearchCV(estimator = KNeighborsClassifier(),\n",
    "                               n_jobs = -1,\n",
    "                               verbose = 1,\n",
    "                               param_grid = inj_knn_params,\n",
    "                               cv = cv_log,\n",
    "                               scoring = 'accuracy')\n",
    "\n",
    "inj_knn_grid.fit(inj_X,inj_y)"
   ]
  },
  {
   "cell_type": "code",
   "execution_count": null,
   "id": "44977e8a",
   "metadata": {},
   "outputs": [],
   "source": [
    "%%time\n",
    "from sklearn.neighbors import KNeighborsClassifier\n",
    "#Create KNN Classifier\n",
    "phase_knn_params = {\n",
    "    \"n_neighbors\": [3,5,7,9,13],\n",
    "    \"weights\": [\"uniform\", \"distance\"],\n",
    "    'leaf_size': (20,40,1),\n",
    "    'p': (1,2),\n",
    "#    'metric': ('minkowski', 'chebyshev'),\n",
    "    }\n",
    "\n",
    "phase_knn_grid = GridSearchCV(estimator = KNeighborsClassifier(),\n",
    "                               n_jobs = -1,\n",
    "                               verbose = 1,\n",
    "                               param_grid = phase_knn_params,\n",
    "                               cv = cv_log,\n",
    "                               scoring = 'accuracy')\n",
    "\n",
    "phase_knn_grid.fit(phase_X,phase_y)"
   ]
  },
  {
   "cell_type": "code",
   "execution_count": null,
   "id": "38096e29",
   "metadata": {},
   "outputs": [],
   "source": [
    "%%time\n",
    "#run random forest on injuries with grid search\n",
    "\n",
    "from sklearn.model_selection import GridSearchCV\n",
    "from sklearn.ensemble import RandomForestClassifier\n",
    "\n",
    "clf_inj_rf = RandomForestClassifier(class_weight = 'balanced')\n",
    "\n",
    "inj_rf_params = {'n_estimators':[5,10,30],\n",
    "                   'max_depth': [ 10,25,50, 100],\n",
    "                   'criterion': ['gini', 'entropy'],\n",
    "                   'min_samples_split': [50],\n",
    "                   'min_samples_leaf': [50],\n",
    "                   'random_state': [42]\n",
    "                  }\n",
    "\n",
    "inj_rf_grid = GridSearchCV(estimator = clf_inj_rf,\n",
    "                               n_jobs = -1,\n",
    "                               verbose = 1,\n",
    "                               param_grid = inj_rf_params,\n",
    "                               cv = cv_log,\n",
    "                               scoring = 'accuracy')\n",
    "\n",
    "inj_rf_grid.fit(inj_X,inj_y)"
   ]
  },
  {
   "cell_type": "code",
   "execution_count": null,
   "id": "87013774",
   "metadata": {},
   "outputs": [],
   "source": [
    "%%time\n",
    " \n",
    "# Grid search on Random Forest on  Phase of flight Data Set\n",
    "from sklearn.model_selection import GridSearchCV\n",
    "from sklearn.ensemble import RandomForestClassifier\n",
    " \n",
    "clf_phase_rf = RandomForestClassifier()\n",
    " \n",
    "phase_rf_params = {'n_estimators':[80,90,100],\n",
    "                   'max_depth': [55,65,75],\n",
    "                   'criterion': ['gini', 'entropy'],\n",
    "                 'class_weight':['balanced'],\n",
    "                   'min_samples_split': [300,400,500],\n",
    "                   'min_samples_leaf': [75,100,200],\n",
    "                   'random_state': [42]\n",
    "                  }\n",
    " \n",
    "phase_rf_grid = GridSearchCV(estimator = clf_phase_rf,\n",
    "                               n_jobs = -1,\n",
    "                               verbose = 1,\n",
    "                               param_grid = phase_rf_params,\n",
    "                               cv = cv_log,\n",
    "                               error_score = 'raise')\n",
    " \n",
    "phase_rf_grid.fit(phase_X,phase_y)"
   ]
  },
  {
   "cell_type": "code",
   "execution_count": null,
   "id": "be58224f",
   "metadata": {},
   "outputs": [],
   "source": []
  }
 ],
 "metadata": {
  "kernelspec": {
   "display_name": "Python 3 (ipykernel)",
   "language": "python",
   "name": "python3"
  },
  "language_info": {
   "codemirror_mode": {
    "name": "ipython",
    "version": 3
   },
   "file_extension": ".py",
   "mimetype": "text/x-python",
   "name": "python",
   "nbconvert_exporter": "python",
   "pygments_lexer": "ipython3",
   "version": "3.8.12"
  }
 },
 "nbformat": 4,
 "nbformat_minor": 5
}
