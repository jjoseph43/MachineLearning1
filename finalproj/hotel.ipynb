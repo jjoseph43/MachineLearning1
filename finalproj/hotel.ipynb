{
 "cells": [
  {
   "cell_type": "code",
   "execution_count": null,
   "id": "cad3aac7",
   "metadata": {},
   "outputs": [],
   "source": [
    "import pandas as pd\n",
    "import numpy as np\n",
    "import matplotlib.pyplot as plt\n",
    "import seaborn as sns\n",
    "sns.set(style='darkgrid')\n",
    "\n",
    "from sklearn.preprocessing import OneHotEncoder, StandardScaler\n",
    "from sklearn.pipeline import Pipeline\n",
    "from sklearn.compose import ColumnTransformer"
   ]
  },
  {
   "cell_type": "markdown",
   "id": "6f605035",
   "metadata": {},
   "source": [
    "# Business Understanding 1"
   ]
  },
  {
   "cell_type": "markdown",
   "id": "89047d75",
   "metadata": {},
   "source": [
    "Describe the purpose of the data set you selected (i.e., why was this data collected in the first place?). How will you measure the effectiveness of a good algorithm? Why does your chosen validation method make sense for this specific\n",
    "dataset and the stakeholders needs?"
   ]
  },
  {
   "cell_type": "markdown",
   "id": "2a9c6555",
   "metadata": {},
   "source": [
    "# Data Understanding 1"
   ]
  },
  {
   "cell_type": "markdown",
   "id": "1f69b50a",
   "metadata": {},
   "source": [
    "Describe the meaning and type of data (scale, values, etc.) for each attribute in the data file. Verify data quality: Are there missing values? Duplicate data? Outliers? Are those mistakes? How do you deal with these problems?"
   ]
  },
  {
   "cell_type": "code",
   "execution_count": null,
   "id": "72890541",
   "metadata": {},
   "outputs": [],
   "source": [
    "hotel = pd.read_csv(\"data/hotel_bookings.csv\",low_memory=False)"
   ]
  },
  {
   "cell_type": "code",
   "execution_count": null,
   "id": "a5a48ede",
   "metadata": {},
   "outputs": [],
   "source": [
    "hotel.info()"
   ]
  },
  {
   "cell_type": "code",
   "execution_count": null,
   "id": "95938952",
   "metadata": {
    "scrolled": true
   },
   "outputs": [],
   "source": [
    "hotel.head()"
   ]
  },
  {
   "cell_type": "markdown",
   "id": "c41eb3b9",
   "metadata": {},
   "source": [
    "One hot encode \"hotel\", 'arrival_date_month', 'customer_type', 'reservation_status', 'deposit_type' but first make sure you check for dups\n",
    "\n",
    "drop company column and reservation_status_date\n",
    "\n",
    "remove NA rows for agent"
   ]
  },
  {
   "cell_type": "code",
   "execution_count": null,
   "id": "d7b8d1fe",
   "metadata": {},
   "outputs": [],
   "source": [
    "# dropping company column as there isn't enough data \n",
    "del hotel['company']\n",
    "del hotel['country']"
   ]
  },
  {
   "cell_type": "markdown",
   "id": "b68cfe8a",
   "metadata": {},
   "source": [
    "#### Checking for duplicates"
   ]
  },
  {
   "cell_type": "code",
   "execution_count": null,
   "id": "c0cac0f6",
   "metadata": {},
   "outputs": [],
   "source": [
    "hotel_dup = hotel[\"hotel\"].value_counts().reset_index()\n",
    "hotel_dup"
   ]
  },
  {
   "cell_type": "code",
   "execution_count": null,
   "id": "fe3d230b",
   "metadata": {},
   "outputs": [],
   "source": [
    "arrival_date_dup = hotel[\"arrival_date_month\"].value_counts().reset_index()\n",
    "arrival_date_dup"
   ]
  },
  {
   "cell_type": "code",
   "execution_count": null,
   "id": "f85c76df",
   "metadata": {},
   "outputs": [],
   "source": [
    "cust_type_dup = hotel[\"customer_type\"].value_counts().reset_index()\n",
    "cust_type_dup"
   ]
  },
  {
   "cell_type": "code",
   "execution_count": null,
   "id": "7631f9ba",
   "metadata": {},
   "outputs": [],
   "source": [
    "reservation_dup = hotel[\"reservation_status\"].value_counts().reset_index()\n",
    "reservation_dup"
   ]
  },
  {
   "cell_type": "code",
   "execution_count": null,
   "id": "98970cc3",
   "metadata": {
    "scrolled": false
   },
   "outputs": [],
   "source": [
    "deposit_dup = hotel[\"deposit_type\"].value_counts().reset_index()\n",
    "deposit_dup"
   ]
  },
  {
   "cell_type": "code",
   "execution_count": null,
   "id": "5370cbe6",
   "metadata": {
    "scrolled": false
   },
   "outputs": [],
   "source": [
    "meal_dup = hotel[\"meal\"].value_counts().reset_index()\n",
    "meal_dup"
   ]
  },
  {
   "cell_type": "code",
   "execution_count": null,
   "id": "55a7f7ed",
   "metadata": {},
   "outputs": [],
   "source": [
    "market_dup = hotel[\"market_segment\"].value_counts().reset_index()\n",
    "market_dup"
   ]
  },
  {
   "cell_type": "markdown",
   "id": "a0d24700",
   "metadata": {},
   "source": [
    "#### Dropping NA values from agent \n",
    "\n",
    "the loss of data is not significant"
   ]
  },
  {
   "cell_type": "code",
   "execution_count": null,
   "id": "5158b0f0",
   "metadata": {
    "scrolled": true
   },
   "outputs": [],
   "source": [
    "hotel.dropna(subset=['agent'])\n",
    "hotel.info()"
   ]
  },
  {
   "cell_type": "markdown",
   "id": "00fed9e8",
   "metadata": {},
   "source": [
    "#### One hot encoding\n",
    "\n",
    "\"hotel\", 'arrival_date_month', 'customer_type', 'reservation_status', 'deposit_type'"
   ]
  },
  {
   "cell_type": "code",
   "execution_count": null,
   "id": "107ac888",
   "metadata": {
    "scrolled": true
   },
   "outputs": [],
   "source": [
    "#one hot encoding using get dummies\n",
    "categorical_features = [\"hotel\", 'arrival_date_month', 'customer_type', 'reservation_status', 'deposit_type']\n",
    "\n",
    "tmp_df = pd.get_dummies(hotel.hotel,prefix=\"hotel\")\n",
    "hotel = pd.concat((hotel,tmp_df),axis=1)\n",
    "\n",
    "tmp_df = pd.get_dummies(hotel.arrival_date_month,prefix=\"arrival_date_month\")\n",
    "hotel = pd.concat((hotel,tmp_df),axis=1)\n",
    "\n",
    "tmp_df = pd.get_dummies(hotel.customer_type,prefix=\"customer_type\")\n",
    "hotel = pd.concat((hotel,tmp_df),axis=1)\n",
    "\n",
    "tmp_df = pd.get_dummies(hotel.reservation_status,prefix=\"reservation_status\")\n",
    "hotel = pd.concat((hotel,tmp_df),axis=1)\n",
    "\n",
    "tmp_df = pd.get_dummies(hotel.deposit_type,prefix=\"deposit_type\")\n",
    "hotel = pd.concat((hotel,tmp_df),axis=1)\n",
    "\n",
    "tmp_df = pd.get_dummies(hotel.market_segment,prefix=\"market_segment\")\n",
    "hotel = pd.concat((hotel,tmp_df),axis=1)\n",
    "\n",
    "#delete the extra columns\n",
    "del hotel['hotel']\n",
    "del hotel['arrival_date_month']\n",
    "del hotel['customer_type']\n",
    "del hotel['reservation_status']\n",
    "del hotel['deposit_type']\n",
    "del hotel['market_segment']\n",
    "hotel.head()\n"
   ]
  },
  {
   "cell_type": "code",
   "execution_count": null,
   "id": "09370c6d",
   "metadata": {},
   "outputs": [],
   "source": [
    "hotel.info()"
   ]
  },
  {
   "cell_type": "markdown",
   "id": "34258735",
   "metadata": {},
   "source": [
    "# Data Understanding 2\n",
    "\n",
    "Visualize the any important attributes appropriately. Important: Provide an interpretation for any charts or graphs."
   ]
  },
  {
   "cell_type": "code",
   "execution_count": null,
   "id": "f54f3580",
   "metadata": {},
   "outputs": [],
   "source": [
    "#show arrival monnth vs total time stayed (total week nights+ total week days)"
   ]
  },
  {
   "cell_type": "markdown",
   "id": "6b109cd3",
   "metadata": {},
   "source": [
    "# Modeling and Evaluation 1\n",
    "\n",
    "train and adjust parameters (GridSearch)"
   ]
  },
  {
   "cell_type": "markdown",
   "id": "7d36e3b3",
   "metadata": {},
   "source": [
    "# Modeling and Evaluation 2\n",
    "\n",
    "evaluate and compare"
   ]
  },
  {
   "cell_type": "markdown",
   "id": "5851fce9",
   "metadata": {},
   "source": [
    "# Modeling and Evaluation 3\n",
    "\n",
    "Visualize"
   ]
  },
  {
   "cell_type": "markdown",
   "id": "f000bb83",
   "metadata": {},
   "source": [
    "# Modeling and Evaluation 4\n",
    "\n",
    "Summarize and ramifications"
   ]
  },
  {
   "cell_type": "markdown",
   "id": "be62e8a8",
   "metadata": {},
   "source": [
    "# Deployment\n",
    "\n",
    "Be critical of your performance and tell the reader how you current model might be usable by other parties. Did you achieve your goals? If not, can you reign in the utility of your modeling? How useful is your model for interested parties (i.e., the companies or organizations that might want to use it)? How would your deploy your model for interested parties? What other data should be collected? How often would the model need to be updated, etc.?\n"
   ]
  },
  {
   "cell_type": "markdown",
   "id": "1f5854d0",
   "metadata": {},
   "source": [
    "# Exceptional Work\n",
    "\n",
    "You have free reign to provide additional analyses or combine analyses."
   ]
  },
  {
   "cell_type": "code",
   "execution_count": null,
   "id": "568cf797",
   "metadata": {},
   "outputs": [],
   "source": []
  }
 ],
 "metadata": {
  "kernelspec": {
   "display_name": "Python 3 (ipykernel)",
   "language": "python",
   "name": "python3"
  },
  "language_info": {
   "codemirror_mode": {
    "name": "ipython",
    "version": 3
   },
   "file_extension": ".py",
   "mimetype": "text/x-python",
   "name": "python",
   "nbconvert_exporter": "python",
   "pygments_lexer": "ipython3",
   "version": "3.8.2"
  }
 },
 "nbformat": 4,
 "nbformat_minor": 5
}
