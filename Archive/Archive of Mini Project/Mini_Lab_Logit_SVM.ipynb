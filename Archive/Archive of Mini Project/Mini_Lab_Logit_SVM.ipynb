{
 "cells": [
  {
   "cell_type": "markdown",
   "id": "b4533a11",
   "metadata": {},
   "source": [
    "# Mini-Lab: Logistic Regression and SVMs"
   ]
  },
  {
   "cell_type": "markdown",
   "id": "87b873ac",
   "metadata": {},
   "source": [
    "Names:\n",
    "Dylan Scott\n",
    "Jobin Joseph\n",
    "Nnenna Okpara\n",
    "Satvik Ajmera"
   ]
  },
  {
   "cell_type": "markdown",
   "id": "70e0455b",
   "metadata": {},
   "source": [
    "Instructions:\n",
    "You are to perform predictive analysis (classification) upon a data set: model the dataset using\n",
    "methods we have discussed in class: logistic regression and support vector machines, and making\n",
    "conclusions from the analysis. Follow the CRISP-DM framework in your analysis (you are not\n",
    "performing all of the CRISP-DM outline, only the portions relevant to the grading rubric outlined\n",
    "below). This report is worth 10% of the final grade. You may complete this assignment in teams of\n",
    "as many as three people.\n",
    "\n",
    "Write a report covering all the steps of the project. The format of the document can be PDF,\n",
    "*.ipynb, or HTML. You can write the report in whatever format you like, but it is easiest to turn in the\n",
    "rendered iPython notebook. The results should be reproducible using your report. Please carefully\n",
    "describe every assumption and every step in your report.\n",
    "\n",
    "SVM and Logistic Regression Modeling\n",
    "• [50 points] Create a logistic regression model and a support vector machine model for the\n",
    "classification task involved with your dataset. Assess how well each model performs (use\n",
    "80/20 training/testing split for your data). Adjust parameters of the models to make them more\n",
    "accurate. If your dataset size requires the use of stochastic gradient descent, then linear kernel\n",
    "only is fine to use.\n",
    "\n",
    "[pick performance stats]\n",
    "\n",
    "• [10 points] Discuss the advantages of each model for each classification task. Does one type\n",
    "of model offer superior performance over another in terms of prediction accuracy? In terms of\n",
    "training time or efficiency? Explain in detail.\n",
    "\n",
    "• [30 points] Use the weights from logistic regression to interpret the importance of different\n",
    "features for each classification task. Explain your interpretation in detail. Why do you think\n",
    "some variables are more important?\n",
    "\n",
    "• [10 points] Look at the chosen support vectors for the classification task. Do these provide\n",
    "any insight into the data? Explain."
   ]
  },
  {
   "cell_type": "code",
   "execution_count": 18,
   "id": "a7aa276e",
   "metadata": {},
   "outputs": [],
   "source": [
    "import pandas as pd\n",
    "import numpy as np\n",
    "import matplotlib.pyplot as plt\n",
    "import seaborn as sns\n",
    "sns.set(style='darkgrid')\n",
    "\n",
    "import plotly.express as px\n",
    "import plotly.graph_objects as go"
   ]
  },
  {
   "cell_type": "markdown",
   "id": "3436381f",
   "metadata": {},
   "source": [
    "### Dataset add-on\n",
    "From the first project we submitted we have since added on more data that we found on the NTSB website. We were able to merge in new columns using join as well as apend on more recent data. This will give us more vairables but we will have to clean up some of those added rows. This next section will be the clean up."
   ]
  },
  {
   "cell_type": "code",
   "execution_count": 19,
   "id": "e2eb3769",
   "metadata": {
    "scrolled": true
   },
   "outputs": [
    {
     "name": "stdout",
     "output_type": "stream",
     "text": [
      "<class 'pandas.core.frame.DataFrame'>\n",
      "RangeIndex: 115706 entries, 0 to 115705\n",
      "Data columns (total 31 columns):\n",
      " #   Column             Non-Null Count   Dtype  \n",
      "---  ------             --------------   -----  \n",
      " 0   ev_id              115706 non-null  object \n",
      " 1   acft_make          115643 non-null  object \n",
      " 2   acft_model         115630 non-null  object \n",
      " 3   cert_max_gr_wt     98673 non-null   float64\n",
      " 4   acft_category      115287 non-null  object \n",
      " 5   damage             113877 non-null  object \n",
      " 6   far_part           114925 non-null  object \n",
      " 7   afm_hrs_last_insp  60298 non-null   float64\n",
      " 8   type_fly           108599 non-null  object \n",
      " 9   dprt_city          111864 non-null  object \n",
      " 10  dprt_state         108791 non-null  object \n",
      " 11  rwy_len            64222 non-null   float64\n",
      " 12  rwy_width          63110 non-null   float64\n",
      " 13  ev_type            115706 non-null  object \n",
      " 14  ev_city            115646 non-null  object \n",
      " 15  ev_state           109635 non-null  object \n",
      " 16  ev_country         115199 non-null  object \n",
      " 17  ev_highest_injury  114384 non-null  object \n",
      " 18  inj_f_grnd         51624 non-null   float64\n",
      " 19  inj_m_grnd         51543 non-null   float64\n",
      " 20  inj_s_grnd         51520 non-null   float64\n",
      " 21  inj_tot_f          64375 non-null   float64\n",
      " 22  inj_tot_m          63902 non-null   float64\n",
      " 23  inj_tot_n          90784 non-null   float64\n",
      " 24  inj_tot_s          60713 non-null   float64\n",
      " 25  inj_tot_t          79933 non-null   float64\n",
      " 26  sky_cond_ceil      104219 non-null  object \n",
      " 27  sky_cond_nonceil   100624 non-null  object \n",
      " 28  wind_vel_ind       113623 non-null  object \n",
      " 29  wx_int_precip      49898 non-null   object \n",
      " 30  phase_flt_spec     113882 non-null  object \n",
      "dtypes: float64(12), object(19)\n",
      "memory usage: 27.4+ MB\n"
     ]
    }
   ],
   "source": [
    "#Read in the Aviation Data\n",
    "final_data = pd.read_csv(\"Data/final_data.csv\",low_memory=False,dtype={'damage': str})\n",
    "#Delete columns that were imported incorrectly\n",
    "del final_data[\"Unnamed: 0\"]\n",
    "del final_data[\"dprt_state.1\"]\n",
    "del final_data[\"index\"]\n",
    "del final_data[\"ntsb_no_x\"]\n",
    "\n",
    "final_data.info()"
   ]
  },
  {
   "cell_type": "markdown",
   "id": "f2df169c",
   "metadata": {},
   "source": [
    "# Data Cleaning Overview\n",
    "\n",
    "We fixed the levels of columns that should have been grouped together for the `damage` predictor. We fixed the levels of the `ev_city`, by making all the city names uppercase so they would be grouped together. For `wind_vel_ind` the unknown values were labeled as `U` and `UNK` to `UNK`. Then, we took the subset of the continuous predictors: `cert_max_gr_wt`,`afm_hrs_last_insp`,`rwy_len`, and `rwy_width` and removed all the NAs. We were left with approximately 35,000 rows that would be usable for prediction.\n",
    "\n",
    "The NTSB database allowed use to include ground injuries in addition to flight injuries. So we renamed the columns, replaced the NAs in these columns with 0 and summed all them to get a total injuries column. We wanted to only include the total injuries and drop the other types of injury columns. From there, we converted the total injuries column to a binary variable for classification. If the total injuries were greater than 1, it is considered injured and less than 1 is uninjured. Our last step was to impute all the NA's for the categorical values with an unknown value called `UNK` In all, we are left with the dataframe `final_df` which consisted of 21 columns and 35,427 observations. \n",
    "\n",
    "Of the 35,427 observations, 18750 observations were reported as injured and 16677 were reported as uninjured. This column called `Injury` is the response variable, we would like to predict for the classification problem."
   ]
  },
  {
   "cell_type": "code",
   "execution_count": 20,
   "id": "c67f397d",
   "metadata": {},
   "outputs": [
    {
     "data": {
      "text/html": [
       "<div>\n",
       "<style scoped>\n",
       "    .dataframe tbody tr th:only-of-type {\n",
       "        vertical-align: middle;\n",
       "    }\n",
       "\n",
       "    .dataframe tbody tr th {\n",
       "        vertical-align: top;\n",
       "    }\n",
       "\n",
       "    .dataframe thead th {\n",
       "        text-align: right;\n",
       "    }\n",
       "</style>\n",
       "<table border=\"1\" class=\"dataframe\">\n",
       "  <thead>\n",
       "    <tr style=\"text-align: right;\">\n",
       "      <th></th>\n",
       "      <th>index</th>\n",
       "      <th>damage</th>\n",
       "    </tr>\n",
       "  </thead>\n",
       "  <tbody>\n",
       "    <tr>\n",
       "      <th>0</th>\n",
       "      <td>SUBS</td>\n",
       "      <td>87994</td>\n",
       "    </tr>\n",
       "    <tr>\n",
       "      <th>1</th>\n",
       "      <td>DEST</td>\n",
       "      <td>20892</td>\n",
       "    </tr>\n",
       "    <tr>\n",
       "      <th>2</th>\n",
       "      <td>MINR</td>\n",
       "      <td>3302</td>\n",
       "    </tr>\n",
       "    <tr>\n",
       "      <th>3</th>\n",
       "      <td>NONE</td>\n",
       "      <td>1600</td>\n",
       "    </tr>\n",
       "    <tr>\n",
       "      <th>4</th>\n",
       "      <td>UNK</td>\n",
       "      <td>45</td>\n",
       "    </tr>\n",
       "  </tbody>\n",
       "</table>\n",
       "</div>"
      ],
      "text/plain": [
       "  index  damage\n",
       "0  SUBS   87994\n",
       "1  DEST   20892\n",
       "2  MINR    3302\n",
       "3  NONE    1600\n",
       "4  UNK       45"
      ]
     },
     "execution_count": 20,
     "metadata": {},
     "output_type": "execute_result"
    }
   ],
   "source": [
    "#It looks like we have some missing values and have an inconsistant UNK vs UNK on flight damage\n",
    "#combine all injuries includigng those on the ground\n",
    "#sky_cond_ceil, sky_cond_nonceil\n",
    "#chekc U vs Unk for wind_vel_ind\n",
    "#flight crew \n",
    "finaldamagecount = final_data[\"damage\"].value_counts().reset_index()\n",
    "finaldamagecount.head(5)"
   ]
  },
  {
   "cell_type": "code",
   "execution_count": 21,
   "id": "6a4e9aad",
   "metadata": {},
   "outputs": [
    {
     "data": {
      "text/html": [
       "<div>\n",
       "<style scoped>\n",
       "    .dataframe tbody tr th:only-of-type {\n",
       "        vertical-align: middle;\n",
       "    }\n",
       "\n",
       "    .dataframe tbody tr th {\n",
       "        vertical-align: top;\n",
       "    }\n",
       "\n",
       "    .dataframe thead th {\n",
       "        text-align: right;\n",
       "    }\n",
       "</style>\n",
       "<table border=\"1\" class=\"dataframe\">\n",
       "  <thead>\n",
       "    <tr style=\"text-align: right;\">\n",
       "      <th></th>\n",
       "      <th>index</th>\n",
       "      <th>ev_city</th>\n",
       "    </tr>\n",
       "  </thead>\n",
       "  <tbody>\n",
       "    <tr>\n",
       "      <th>0</th>\n",
       "      <td>ANCHORAGE</td>\n",
       "      <td>358</td>\n",
       "    </tr>\n",
       "    <tr>\n",
       "      <th>1</th>\n",
       "      <td>ANCHORAGE</td>\n",
       "      <td>286</td>\n",
       "    </tr>\n",
       "    <tr>\n",
       "      <th>2</th>\n",
       "      <td>FORT LAUDERDALE</td>\n",
       "      <td>206</td>\n",
       "    </tr>\n",
       "    <tr>\n",
       "      <th>3</th>\n",
       "      <td>FAIRBANKS</td>\n",
       "      <td>203</td>\n",
       "    </tr>\n",
       "    <tr>\n",
       "      <th>4</th>\n",
       "      <td>PHOENIX</td>\n",
       "      <td>202</td>\n",
       "    </tr>\n",
       "    <tr>\n",
       "      <th>5</th>\n",
       "      <td>HOUSTON</td>\n",
       "      <td>196</td>\n",
       "    </tr>\n",
       "    <tr>\n",
       "      <th>6</th>\n",
       "      <td>MIAMI</td>\n",
       "      <td>188</td>\n",
       "    </tr>\n",
       "    <tr>\n",
       "      <th>7</th>\n",
       "      <td>ATLANTA</td>\n",
       "      <td>186</td>\n",
       "    </tr>\n",
       "    <tr>\n",
       "      <th>8</th>\n",
       "      <td>RENO</td>\n",
       "      <td>185</td>\n",
       "    </tr>\n",
       "    <tr>\n",
       "      <th>9</th>\n",
       "      <td>TALKEETNA</td>\n",
       "      <td>182</td>\n",
       "    </tr>\n",
       "  </tbody>\n",
       "</table>\n",
       "</div>"
      ],
      "text/plain": [
       "             index  ev_city\n",
       "0  ANCHORAGE            358\n",
       "1        ANCHORAGE      286\n",
       "2  FORT LAUDERDALE      206\n",
       "3        FAIRBANKS      203\n",
       "4          PHOENIX      202\n",
       "5          HOUSTON      196\n",
       "6  MIAMI                188\n",
       "7          ATLANTA      186\n",
       "8             RENO      185\n",
       "9        TALKEETNA      182"
      ]
     },
     "execution_count": 21,
     "metadata": {},
     "output_type": "execute_result"
    }
   ],
   "source": [
    "#looks like we have some inconsistant cities since some are upper and some are lower case\n",
    "final_data['ev_city'] = final_data['ev_city'].str.upper()\n",
    "ev_city_fix = final_data[\"ev_city\"].value_counts().reset_index()\n",
    "ev_city_fix.head(10)\n",
    "#figure out how to merge"
   ]
  },
  {
   "cell_type": "code",
   "execution_count": 22,
   "id": "06aba0aa",
   "metadata": {},
   "outputs": [
    {
     "data": {
      "text/html": [
       "<div>\n",
       "<style scoped>\n",
       "    .dataframe tbody tr th:only-of-type {\n",
       "        vertical-align: middle;\n",
       "    }\n",
       "\n",
       "    .dataframe tbody tr th {\n",
       "        vertical-align: top;\n",
       "    }\n",
       "\n",
       "    .dataframe thead th {\n",
       "        text-align: right;\n",
       "    }\n",
       "</style>\n",
       "<table border=\"1\" class=\"dataframe\">\n",
       "  <thead>\n",
       "    <tr style=\"text-align: right;\">\n",
       "      <th></th>\n",
       "      <th>index</th>\n",
       "      <th>ev_city</th>\n",
       "    </tr>\n",
       "  </thead>\n",
       "  <tbody>\n",
       "    <tr>\n",
       "      <th>0</th>\n",
       "      <td>ANCHORAGE</td>\n",
       "      <td>358</td>\n",
       "    </tr>\n",
       "    <tr>\n",
       "      <th>1</th>\n",
       "      <td>ANCHORAGE</td>\n",
       "      <td>286</td>\n",
       "    </tr>\n",
       "    <tr>\n",
       "      <th>2</th>\n",
       "      <td>FORT LAUDERDALE</td>\n",
       "      <td>206</td>\n",
       "    </tr>\n",
       "    <tr>\n",
       "      <th>3</th>\n",
       "      <td>FAIRBANKS</td>\n",
       "      <td>203</td>\n",
       "    </tr>\n",
       "    <tr>\n",
       "      <th>4</th>\n",
       "      <td>PHOENIX</td>\n",
       "      <td>202</td>\n",
       "    </tr>\n",
       "    <tr>\n",
       "      <th>5</th>\n",
       "      <td>HOUSTON</td>\n",
       "      <td>196</td>\n",
       "    </tr>\n",
       "    <tr>\n",
       "      <th>6</th>\n",
       "      <td>MIAMI</td>\n",
       "      <td>188</td>\n",
       "    </tr>\n",
       "    <tr>\n",
       "      <th>7</th>\n",
       "      <td>ATLANTA</td>\n",
       "      <td>186</td>\n",
       "    </tr>\n",
       "    <tr>\n",
       "      <th>8</th>\n",
       "      <td>RENO</td>\n",
       "      <td>185</td>\n",
       "    </tr>\n",
       "    <tr>\n",
       "      <th>9</th>\n",
       "      <td>TALKEETNA</td>\n",
       "      <td>182</td>\n",
       "    </tr>\n",
       "  </tbody>\n",
       "</table>\n",
       "</div>"
      ],
      "text/plain": [
       "             index  ev_city\n",
       "0  ANCHORAGE            358\n",
       "1        ANCHORAGE      286\n",
       "2  FORT LAUDERDALE      206\n",
       "3        FAIRBANKS      203\n",
       "4          PHOENIX      202\n",
       "5          HOUSTON      196\n",
       "6  MIAMI                188\n",
       "7          ATLANTA      186\n",
       "8             RENO      185\n",
       "9        TALKEETNA      182"
      ]
     },
     "execution_count": 22,
     "metadata": {},
     "output_type": "execute_result"
    }
   ],
   "source": [
    "#looks like we have some inconsistant cities since some are upper and some are lower case\n",
    "final_data['ev_city'] = final_data['ev_city'].str.upper()\n",
    "ev_city_fix = final_data[\"ev_city\"].value_counts().reset_index()\n",
    "ev_city_fix.head(10)"
   ]
  },
  {
   "cell_type": "code",
   "execution_count": 23,
   "id": "b6578a70",
   "metadata": {},
   "outputs": [
    {
     "data": {
      "text/html": [
       "<div>\n",
       "<style scoped>\n",
       "    .dataframe tbody tr th:only-of-type {\n",
       "        vertical-align: middle;\n",
       "    }\n",
       "\n",
       "    .dataframe tbody tr th {\n",
       "        vertical-align: top;\n",
       "    }\n",
       "\n",
       "    .dataframe thead th {\n",
       "        text-align: right;\n",
       "    }\n",
       "</style>\n",
       "<table border=\"1\" class=\"dataframe\">\n",
       "  <thead>\n",
       "    <tr style=\"text-align: right;\">\n",
       "      <th></th>\n",
       "      <th>index</th>\n",
       "      <th>damage</th>\n",
       "    </tr>\n",
       "  </thead>\n",
       "  <tbody>\n",
       "    <tr>\n",
       "      <th>0</th>\n",
       "      <td>SUBS</td>\n",
       "      <td>87994</td>\n",
       "    </tr>\n",
       "    <tr>\n",
       "      <th>1</th>\n",
       "      <td>DEST</td>\n",
       "      <td>20892</td>\n",
       "    </tr>\n",
       "    <tr>\n",
       "      <th>2</th>\n",
       "      <td>MINR</td>\n",
       "      <td>3302</td>\n",
       "    </tr>\n",
       "    <tr>\n",
       "      <th>3</th>\n",
       "      <td>NONE</td>\n",
       "      <td>1600</td>\n",
       "    </tr>\n",
       "    <tr>\n",
       "      <th>4</th>\n",
       "      <td>UNK</td>\n",
       "      <td>89</td>\n",
       "    </tr>\n",
       "  </tbody>\n",
       "</table>\n",
       "</div>"
      ],
      "text/plain": [
       "  index  damage\n",
       "0  SUBS   87994\n",
       "1  DEST   20892\n",
       "2  MINR    3302\n",
       "3  NONE    1600\n",
       "4   UNK      89"
      ]
     },
     "execution_count": 23,
     "metadata": {},
     "output_type": "execute_result"
    }
   ],
   "source": [
    "final_data.loc[final_data['damage'].str.contains('UNK', na=False), 'damage'] = 'UNK'\n",
    "finaldamagecount = final_data[\"damage\"].value_counts().reset_index()\n",
    "finaldamagecount.head(50)"
   ]
  },
  {
   "cell_type": "code",
   "execution_count": 24,
   "id": "71cf0b35",
   "metadata": {},
   "outputs": [
    {
     "data": {
      "text/html": [
       "<div>\n",
       "<style scoped>\n",
       "    .dataframe tbody tr th:only-of-type {\n",
       "        vertical-align: middle;\n",
       "    }\n",
       "\n",
       "    .dataframe tbody tr th {\n",
       "        vertical-align: top;\n",
       "    }\n",
       "\n",
       "    .dataframe thead th {\n",
       "        text-align: right;\n",
       "    }\n",
       "</style>\n",
       "<table border=\"1\" class=\"dataframe\">\n",
       "  <thead>\n",
       "    <tr style=\"text-align: right;\">\n",
       "      <th></th>\n",
       "      <th>index</th>\n",
       "      <th>wind_vel_ind</th>\n",
       "    </tr>\n",
       "  </thead>\n",
       "  <tbody>\n",
       "    <tr>\n",
       "      <th>0</th>\n",
       "      <td>F</td>\n",
       "      <td>47663</td>\n",
       "    </tr>\n",
       "    <tr>\n",
       "      <th>1</th>\n",
       "      <td>UNK</td>\n",
       "      <td>42470</td>\n",
       "    </tr>\n",
       "    <tr>\n",
       "      <th>2</th>\n",
       "      <td>SPEC</td>\n",
       "      <td>10900</td>\n",
       "    </tr>\n",
       "    <tr>\n",
       "      <th>3</th>\n",
       "      <td>CALM</td>\n",
       "      <td>7074</td>\n",
       "    </tr>\n",
       "    <tr>\n",
       "      <th>4</th>\n",
       "      <td>T</td>\n",
       "      <td>4030</td>\n",
       "    </tr>\n",
       "    <tr>\n",
       "      <th>5</th>\n",
       "      <td>LVAR</td>\n",
       "      <td>1486</td>\n",
       "    </tr>\n",
       "  </tbody>\n",
       "</table>\n",
       "</div>"
      ],
      "text/plain": [
       "  index  wind_vel_ind\n",
       "0     F         47663\n",
       "1   UNK         42470\n",
       "2  SPEC         10900\n",
       "3  CALM          7074\n",
       "4     T          4030\n",
       "5  LVAR          1486"
      ]
     },
     "execution_count": 24,
     "metadata": {},
     "output_type": "execute_result"
    }
   ],
   "source": [
    "#checking to see if wind_vel_ind had a miss-match with U and UNK\n",
    "wind_count = final_data[\"wind_vel_ind\"].value_counts().reset_index()\n",
    "wind_count.head(50)"
   ]
  },
  {
   "cell_type": "code",
   "execution_count": 25,
   "id": "aa66c009",
   "metadata": {},
   "outputs": [],
   "source": [
    "#dealing with unknnowns\n",
    "#some columns we can't simply replace the blank value with \"Unknown\" or 0s since that will skew our data\n",
    "#'cert_max_gr_wt','afm_hrs_last_insp','rwy_len','rwy_width'\n",
    "# with the columns listed above we have elected to remove any rows where they are blank. This will help focus our data and it will still leave us with an ample amount of data\n",
    "final_data.dropna(subset=['cert_max_gr_wt','afm_hrs_last_insp','rwy_len','rwy_width'],inplace=True)"
   ]
  },
  {
   "cell_type": "code",
   "execution_count": 26,
   "id": "169aa750",
   "metadata": {},
   "outputs": [
    {
     "data": {
      "text/html": [
       "<div>\n",
       "<style scoped>\n",
       "    .dataframe tbody tr th:only-of-type {\n",
       "        vertical-align: middle;\n",
       "    }\n",
       "\n",
       "    .dataframe tbody tr th {\n",
       "        vertical-align: top;\n",
       "    }\n",
       "\n",
       "    .dataframe thead th {\n",
       "        text-align: right;\n",
       "    }\n",
       "</style>\n",
       "<table border=\"1\" class=\"dataframe\">\n",
       "  <thead>\n",
       "    <tr style=\"text-align: right;\">\n",
       "      <th></th>\n",
       "      <th>ev_id</th>\n",
       "      <th>acft_make</th>\n",
       "      <th>acft_model</th>\n",
       "      <th>cert_max_gr_wt</th>\n",
       "      <th>acft_category</th>\n",
       "      <th>damage</th>\n",
       "      <th>far_part</th>\n",
       "      <th>afm_hrs_last_insp</th>\n",
       "      <th>type_fly</th>\n",
       "      <th>dprt_city</th>\n",
       "      <th>...</th>\n",
       "      <th>Total_Fatal_Injuries</th>\n",
       "      <th>Total_Minor_Injuries</th>\n",
       "      <th>Total_Uninjured</th>\n",
       "      <th>Total_Serious_Injuries</th>\n",
       "      <th>Total_Injuries_Flight</th>\n",
       "      <th>sky_cond_ceil</th>\n",
       "      <th>sky_cond_nonceil</th>\n",
       "      <th>wind_vel_ind</th>\n",
       "      <th>wx_int_precip</th>\n",
       "      <th>phase_flt_spec</th>\n",
       "    </tr>\n",
       "  </thead>\n",
       "  <tbody>\n",
       "    <tr>\n",
       "      <th>1</th>\n",
       "      <td>20001204X00001</td>\n",
       "      <td>Boeing</td>\n",
       "      <td>747-100</td>\n",
       "      <td>750000.0</td>\n",
       "      <td>AIR</td>\n",
       "      <td>MINR</td>\n",
       "      <td>121</td>\n",
       "      <td>113.0</td>\n",
       "      <td>UNK</td>\n",
       "      <td>CHITOSE</td>\n",
       "      <td>...</td>\n",
       "      <td>0.0</td>\n",
       "      <td>0.0</td>\n",
       "      <td>4.0</td>\n",
       "      <td>0.0</td>\n",
       "      <td>0.0</td>\n",
       "      <td>NONE</td>\n",
       "      <td>SCAT</td>\n",
       "      <td>CALM</td>\n",
       "      <td>UNK</td>\n",
       "      <td>Landing</td>\n",
       "    </tr>\n",
       "    <tr>\n",
       "      <th>3</th>\n",
       "      <td>20001204X00003</td>\n",
       "      <td>Cessna</td>\n",
       "      <td>172</td>\n",
       "      <td>2300.0</td>\n",
       "      <td>AIR</td>\n",
       "      <td>SUBS</td>\n",
       "      <td>091</td>\n",
       "      <td>40.0</td>\n",
       "      <td>PERS</td>\n",
       "      <td></td>\n",
       "      <td>...</td>\n",
       "      <td>0.0</td>\n",
       "      <td>0.0</td>\n",
       "      <td>1.0</td>\n",
       "      <td>0.0</td>\n",
       "      <td>0.0</td>\n",
       "      <td>BKN</td>\n",
       "      <td>UNK</td>\n",
       "      <td>UNK</td>\n",
       "      <td>LGT</td>\n",
       "      <td>Unknown</td>\n",
       "    </tr>\n",
       "    <tr>\n",
       "      <th>4</th>\n",
       "      <td>20001204X00004</td>\n",
       "      <td>Cessna</td>\n",
       "      <td>207</td>\n",
       "      <td>3800.0</td>\n",
       "      <td>AIR</td>\n",
       "      <td>SUBS</td>\n",
       "      <td>135</td>\n",
       "      <td>49.0</td>\n",
       "      <td>UNK</td>\n",
       "      <td></td>\n",
       "      <td>...</td>\n",
       "      <td>0.0</td>\n",
       "      <td>0.0</td>\n",
       "      <td>1.0</td>\n",
       "      <td>0.0</td>\n",
       "      <td>0.0</td>\n",
       "      <td>BKN</td>\n",
       "      <td>UNK</td>\n",
       "      <td>UNK</td>\n",
       "      <td>UNK</td>\n",
       "      <td>Descent</td>\n",
       "    </tr>\n",
       "    <tr>\n",
       "      <th>6</th>\n",
       "      <td>20001204X00006</td>\n",
       "      <td>Beech</td>\n",
       "      <td>300</td>\n",
       "      <td>14100.0</td>\n",
       "      <td>AIR</td>\n",
       "      <td>DEST</td>\n",
       "      <td>091</td>\n",
       "      <td>3.0</td>\n",
       "      <td>EXEC</td>\n",
       "      <td>GREENEVILLE</td>\n",
       "      <td>...</td>\n",
       "      <td>2.0</td>\n",
       "      <td>0.0</td>\n",
       "      <td>0.0</td>\n",
       "      <td>0.0</td>\n",
       "      <td>2.0</td>\n",
       "      <td>BKN</td>\n",
       "      <td>UNK</td>\n",
       "      <td>UNK</td>\n",
       "      <td>MOD</td>\n",
       "      <td>Approach</td>\n",
       "    </tr>\n",
       "    <tr>\n",
       "      <th>8</th>\n",
       "      <td>20001204X00008</td>\n",
       "      <td>Aero Commander</td>\n",
       "      <td>560A</td>\n",
       "      <td>6000.0</td>\n",
       "      <td>AIR</td>\n",
       "      <td>DEST</td>\n",
       "      <td>091</td>\n",
       "      <td>13.0</td>\n",
       "      <td>PERS</td>\n",
       "      <td></td>\n",
       "      <td>...</td>\n",
       "      <td>2.0</td>\n",
       "      <td>0.0</td>\n",
       "      <td>0.0</td>\n",
       "      <td>2.0</td>\n",
       "      <td>4.0</td>\n",
       "      <td>NONE</td>\n",
       "      <td>CLER</td>\n",
       "      <td>UNK</td>\n",
       "      <td>UNK</td>\n",
       "      <td>Approach</td>\n",
       "    </tr>\n",
       "  </tbody>\n",
       "</table>\n",
       "<p>5 rows × 31 columns</p>\n",
       "</div>"
      ],
      "text/plain": [
       "            ev_id                       acft_make            acft_model  \\\n",
       "1  20001204X00001  Boeing                          747-100                \n",
       "3  20001204X00003  Cessna                          172                    \n",
       "4  20001204X00004  Cessna                          207                    \n",
       "6  20001204X00006  Beech                           300                    \n",
       "8  20001204X00008  Aero Commander                  560A                   \n",
       "\n",
       "   cert_max_gr_wt acft_category damage far_part  afm_hrs_last_insp type_fly  \\\n",
       "1        750000.0          AIR    MINR     121               113.0     UNK    \n",
       "3          2300.0          AIR    SUBS     091                40.0     PERS   \n",
       "4          3800.0          AIR    SUBS     135                49.0     UNK    \n",
       "6         14100.0          AIR    DEST     091                 3.0     EXEC   \n",
       "8          6000.0          AIR    DEST     091                13.0     PERS   \n",
       "\n",
       "         dprt_city  ... Total_Fatal_Injuries  Total_Minor_Injuries  \\\n",
       "1  CHITOSE          ...                  0.0                   0.0   \n",
       "3                   ...                  0.0                   0.0   \n",
       "4                   ...                  0.0                   0.0   \n",
       "6  GREENEVILLE      ...                  2.0                   0.0   \n",
       "8                   ...                  2.0                   0.0   \n",
       "\n",
       "   Total_Uninjured Total_Serious_Injuries Total_Injuries_Flight sky_cond_ceil  \\\n",
       "1              4.0                    0.0                   0.0          NONE   \n",
       "3              1.0                    0.0                   0.0           BKN   \n",
       "4              1.0                    0.0                   0.0           BKN   \n",
       "6              0.0                    0.0                   2.0           BKN   \n",
       "8              0.0                    2.0                   4.0          NONE   \n",
       "\n",
       "  sky_cond_nonceil wind_vel_ind  wx_int_precip  phase_flt_spec  \n",
       "1             SCAT         CALM            UNK         Landing  \n",
       "3              UNK          UNK            LGT         Unknown  \n",
       "4              UNK          UNK            UNK         Descent  \n",
       "6              UNK          UNK            MOD        Approach  \n",
       "8             CLER          UNK            UNK        Approach  \n",
       "\n",
       "[5 rows x 31 columns]"
      ]
     },
     "execution_count": 26,
     "metadata": {},
     "output_type": "execute_result"
    }
   ],
   "source": [
    "#rename the injuries columns to make them easier to read\n",
    "final_data = final_data.rename(columns={\"inj_tot_f\": \"Total_Fatal_Injuries\", \"inj_tot_s\": \"Total_Serious_Injuries\",\"inj_tot_m\":\"Total_Minor_Injuries\",\"inj_tot_n\":'Total_Uninjured',\"inj_tot_t\":\"Total_Injuries_Flight\"})\n",
    "\n",
    "#fill in 0s when there wasn't an injury in that category\n",
    "final_data.update(final_data[['Total_Fatal_Injuries','Total_Serious_Injuries','Total_Minor_Injuries','Total_Uninjured','Total_Injuries_Flight','inj_f_grnd','inj_m_grnd','inj_s_grnd']].fillna(0))\n",
    "final_data.head()"
   ]
  },
  {
   "cell_type": "code",
   "execution_count": 27,
   "id": "9dbf7b58",
   "metadata": {},
   "outputs": [
    {
     "name": "stdout",
     "output_type": "stream",
     "text": [
      "<class 'pandas.core.frame.DataFrame'>\n",
      "Int64Index: 35427 entries, 1 to 115696\n",
      "Data columns (total 31 columns):\n",
      " #   Column                  Non-Null Count  Dtype  \n",
      "---  ------                  --------------  -----  \n",
      " 0   ev_id                   35427 non-null  object \n",
      " 1   acft_make               35427 non-null  object \n",
      " 2   acft_model              35427 non-null  object \n",
      " 3   cert_max_gr_wt          35427 non-null  float64\n",
      " 4   acft_category           35427 non-null  object \n",
      " 5   damage                  35427 non-null  object \n",
      " 6   far_part                35427 non-null  object \n",
      " 7   afm_hrs_last_insp       35427 non-null  float64\n",
      " 8   type_fly                35427 non-null  object \n",
      " 9   dprt_city               35427 non-null  object \n",
      " 10  dprt_state              35427 non-null  object \n",
      " 11  rwy_len                 35427 non-null  float64\n",
      " 12  rwy_width               35427 non-null  float64\n",
      " 13  ev_type                 35427 non-null  object \n",
      " 14  ev_city                 35427 non-null  object \n",
      " 15  ev_state                35427 non-null  object \n",
      " 16  ev_country              35427 non-null  object \n",
      " 17  ev_highest_injury       35427 non-null  object \n",
      " 18  inj_f_grnd              35427 non-null  float64\n",
      " 19  inj_m_grnd              35427 non-null  float64\n",
      " 20  inj_s_grnd              35427 non-null  float64\n",
      " 21  Total_Fatal_Injuries    35427 non-null  float64\n",
      " 22  Total_Minor_Injuries    35427 non-null  float64\n",
      " 23  Total_Uninjured         35427 non-null  float64\n",
      " 24  Total_Serious_Injuries  35427 non-null  float64\n",
      " 25  Total_Injuries_Flight   35427 non-null  float64\n",
      " 26  sky_cond_ceil           35427 non-null  object \n",
      " 27  sky_cond_nonceil        35427 non-null  object \n",
      " 28  wind_vel_ind            35427 non-null  object \n",
      " 29  wx_int_precip           35427 non-null  object \n",
      " 30  phase_flt_spec          35427 non-null  object \n",
      "dtypes: float64(12), object(19)\n",
      "memory usage: 8.6+ MB\n"
     ]
    }
   ],
   "source": [
    "#set missing variables to Unknown in order to run our models\n",
    "final_data.update(final_data.fillna(\"UNK\"))\n",
    "final_data.info()"
   ]
  },
  {
   "cell_type": "markdown",
   "id": "2775f324",
   "metadata": {},
   "source": [
    "We will be using code from this classes Github: \n",
    "https://github.com/jakemdrew/DataMiningNotebooks/blob/master/04.%20Logits%20and%20SVM.ipynb"
   ]
  },
  {
   "cell_type": "code",
   "execution_count": 28,
   "id": "7af3235e",
   "metadata": {},
   "outputs": [
    {
     "data": {
      "text/html": [
       "<div>\n",
       "<style scoped>\n",
       "    .dataframe tbody tr th:only-of-type {\n",
       "        vertical-align: middle;\n",
       "    }\n",
       "\n",
       "    .dataframe tbody tr th {\n",
       "        vertical-align: top;\n",
       "    }\n",
       "\n",
       "    .dataframe thead th {\n",
       "        text-align: right;\n",
       "    }\n",
       "</style>\n",
       "<table border=\"1\" class=\"dataframe\">\n",
       "  <thead>\n",
       "    <tr style=\"text-align: right;\">\n",
       "      <th></th>\n",
       "      <th>ev_id</th>\n",
       "      <th>acft_make</th>\n",
       "      <th>acft_model</th>\n",
       "      <th>cert_max_gr_wt</th>\n",
       "      <th>acft_category</th>\n",
       "      <th>damage</th>\n",
       "      <th>far_part</th>\n",
       "      <th>afm_hrs_last_insp</th>\n",
       "      <th>type_fly</th>\n",
       "      <th>dprt_city</th>\n",
       "      <th>...</th>\n",
       "      <th>Total_Uninjured</th>\n",
       "      <th>Total_Serious_Injuries</th>\n",
       "      <th>Total_Injuries_Flight</th>\n",
       "      <th>sky_cond_ceil</th>\n",
       "      <th>sky_cond_nonceil</th>\n",
       "      <th>wind_vel_ind</th>\n",
       "      <th>wx_int_precip</th>\n",
       "      <th>phase_flt_spec</th>\n",
       "      <th>Total_Injuries_Ground</th>\n",
       "      <th>Total_Injuries</th>\n",
       "    </tr>\n",
       "  </thead>\n",
       "  <tbody>\n",
       "    <tr>\n",
       "      <th>1</th>\n",
       "      <td>20001204X00001</td>\n",
       "      <td>Boeing</td>\n",
       "      <td>747-100</td>\n",
       "      <td>750000.0</td>\n",
       "      <td>AIR</td>\n",
       "      <td>MINR</td>\n",
       "      <td>121</td>\n",
       "      <td>113.0</td>\n",
       "      <td>UNK</td>\n",
       "      <td>CHITOSE</td>\n",
       "      <td>...</td>\n",
       "      <td>4.0</td>\n",
       "      <td>0.0</td>\n",
       "      <td>0.0</td>\n",
       "      <td>NONE</td>\n",
       "      <td>SCAT</td>\n",
       "      <td>CALM</td>\n",
       "      <td>UNK</td>\n",
       "      <td>Landing</td>\n",
       "      <td>0.0</td>\n",
       "      <td>0.0</td>\n",
       "    </tr>\n",
       "    <tr>\n",
       "      <th>3</th>\n",
       "      <td>20001204X00003</td>\n",
       "      <td>Cessna</td>\n",
       "      <td>172</td>\n",
       "      <td>2300.0</td>\n",
       "      <td>AIR</td>\n",
       "      <td>SUBS</td>\n",
       "      <td>091</td>\n",
       "      <td>40.0</td>\n",
       "      <td>PERS</td>\n",
       "      <td></td>\n",
       "      <td>...</td>\n",
       "      <td>1.0</td>\n",
       "      <td>0.0</td>\n",
       "      <td>0.0</td>\n",
       "      <td>BKN</td>\n",
       "      <td>UNK</td>\n",
       "      <td>UNK</td>\n",
       "      <td>LGT</td>\n",
       "      <td>Unknown</td>\n",
       "      <td>0.0</td>\n",
       "      <td>0.0</td>\n",
       "    </tr>\n",
       "    <tr>\n",
       "      <th>4</th>\n",
       "      <td>20001204X00004</td>\n",
       "      <td>Cessna</td>\n",
       "      <td>207</td>\n",
       "      <td>3800.0</td>\n",
       "      <td>AIR</td>\n",
       "      <td>SUBS</td>\n",
       "      <td>135</td>\n",
       "      <td>49.0</td>\n",
       "      <td>UNK</td>\n",
       "      <td></td>\n",
       "      <td>...</td>\n",
       "      <td>1.0</td>\n",
       "      <td>0.0</td>\n",
       "      <td>0.0</td>\n",
       "      <td>BKN</td>\n",
       "      <td>UNK</td>\n",
       "      <td>UNK</td>\n",
       "      <td>UNK</td>\n",
       "      <td>Descent</td>\n",
       "      <td>0.0</td>\n",
       "      <td>0.0</td>\n",
       "    </tr>\n",
       "    <tr>\n",
       "      <th>6</th>\n",
       "      <td>20001204X00006</td>\n",
       "      <td>Beech</td>\n",
       "      <td>300</td>\n",
       "      <td>14100.0</td>\n",
       "      <td>AIR</td>\n",
       "      <td>DEST</td>\n",
       "      <td>091</td>\n",
       "      <td>3.0</td>\n",
       "      <td>EXEC</td>\n",
       "      <td>GREENEVILLE</td>\n",
       "      <td>...</td>\n",
       "      <td>0.0</td>\n",
       "      <td>0.0</td>\n",
       "      <td>2.0</td>\n",
       "      <td>BKN</td>\n",
       "      <td>UNK</td>\n",
       "      <td>UNK</td>\n",
       "      <td>MOD</td>\n",
       "      <td>Approach</td>\n",
       "      <td>0.0</td>\n",
       "      <td>2.0</td>\n",
       "    </tr>\n",
       "    <tr>\n",
       "      <th>8</th>\n",
       "      <td>20001204X00008</td>\n",
       "      <td>Aero Commander</td>\n",
       "      <td>560A</td>\n",
       "      <td>6000.0</td>\n",
       "      <td>AIR</td>\n",
       "      <td>DEST</td>\n",
       "      <td>091</td>\n",
       "      <td>13.0</td>\n",
       "      <td>PERS</td>\n",
       "      <td></td>\n",
       "      <td>...</td>\n",
       "      <td>0.0</td>\n",
       "      <td>2.0</td>\n",
       "      <td>4.0</td>\n",
       "      <td>NONE</td>\n",
       "      <td>CLER</td>\n",
       "      <td>UNK</td>\n",
       "      <td>UNK</td>\n",
       "      <td>Approach</td>\n",
       "      <td>0.0</td>\n",
       "      <td>4.0</td>\n",
       "    </tr>\n",
       "  </tbody>\n",
       "</table>\n",
       "<p>5 rows × 33 columns</p>\n",
       "</div>"
      ],
      "text/plain": [
       "            ev_id                       acft_make            acft_model  \\\n",
       "1  20001204X00001  Boeing                          747-100                \n",
       "3  20001204X00003  Cessna                          172                    \n",
       "4  20001204X00004  Cessna                          207                    \n",
       "6  20001204X00006  Beech                           300                    \n",
       "8  20001204X00008  Aero Commander                  560A                   \n",
       "\n",
       "   cert_max_gr_wt acft_category damage far_part  afm_hrs_last_insp type_fly  \\\n",
       "1        750000.0          AIR    MINR     121               113.0     UNK    \n",
       "3          2300.0          AIR    SUBS     091                40.0     PERS   \n",
       "4          3800.0          AIR    SUBS     135                49.0     UNK    \n",
       "6         14100.0          AIR    DEST     091                 3.0     EXEC   \n",
       "8          6000.0          AIR    DEST     091                13.0     PERS   \n",
       "\n",
       "         dprt_city  ... Total_Uninjured  Total_Serious_Injuries  \\\n",
       "1  CHITOSE          ...             4.0                     0.0   \n",
       "3                   ...             1.0                     0.0   \n",
       "4                   ...             1.0                     0.0   \n",
       "6  GREENEVILLE      ...             0.0                     0.0   \n",
       "8                   ...             0.0                     2.0   \n",
       "\n",
       "   Total_Injuries_Flight sky_cond_ceil sky_cond_nonceil wind_vel_ind  \\\n",
       "1                    0.0          NONE             SCAT         CALM   \n",
       "3                    0.0           BKN              UNK          UNK   \n",
       "4                    0.0           BKN              UNK          UNK   \n",
       "6                    2.0           BKN              UNK          UNK   \n",
       "8                    4.0          NONE             CLER          UNK   \n",
       "\n",
       "  wx_int_precip phase_flt_spec  Total_Injuries_Ground  Total_Injuries  \n",
       "1           UNK        Landing                    0.0             0.0  \n",
       "3           LGT        Unknown                    0.0             0.0  \n",
       "4           UNK        Descent                    0.0             0.0  \n",
       "6           MOD       Approach                    0.0             2.0  \n",
       "8           UNK       Approach                    0.0             4.0  \n",
       "\n",
       "[5 rows x 33 columns]"
      ]
     },
     "execution_count": 28,
     "metadata": {},
     "output_type": "execute_result"
    }
   ],
   "source": [
    "#we want to account for ALL injuries. This includes injuries on the ground as well as passangers\n",
    "#Here we will make a new column that shows total injuries including ground ones\n",
    "final_data['Total_Injuries_Ground'] = final_data['inj_f_grnd']+final_data['inj_m_grnd']+final_data['inj_s_grnd']\n",
    "final_data['Total_Injuries'] = final_data['Total_Injuries_Ground']+final_data['Total_Injuries_Flight']\n",
    "final_data.head()"
   ]
  },
  {
   "cell_type": "code",
   "execution_count": 29,
   "id": "a3217b4b",
   "metadata": {
    "scrolled": true
   },
   "outputs": [
    {
     "data": {
      "text/html": [
       "<div>\n",
       "<style scoped>\n",
       "    .dataframe tbody tr th:only-of-type {\n",
       "        vertical-align: middle;\n",
       "    }\n",
       "\n",
       "    .dataframe tbody tr th {\n",
       "        vertical-align: top;\n",
       "    }\n",
       "\n",
       "    .dataframe thead th {\n",
       "        text-align: right;\n",
       "    }\n",
       "</style>\n",
       "<table border=\"1\" class=\"dataframe\">\n",
       "  <thead>\n",
       "    <tr style=\"text-align: right;\">\n",
       "      <th></th>\n",
       "      <th>index</th>\n",
       "      <th>Injury</th>\n",
       "    </tr>\n",
       "  </thead>\n",
       "  <tbody>\n",
       "    <tr>\n",
       "      <th>0</th>\n",
       "      <td>1</td>\n",
       "      <td>18750</td>\n",
       "    </tr>\n",
       "    <tr>\n",
       "      <th>1</th>\n",
       "      <td>0</td>\n",
       "      <td>16677</td>\n",
       "    </tr>\n",
       "  </tbody>\n",
       "</table>\n",
       "</div>"
      ],
      "text/plain": [
       "   index  Injury\n",
       "0      1   18750\n",
       "1      0   16677"
      ]
     },
     "execution_count": 29,
     "metadata": {},
     "output_type": "execute_result"
    }
   ],
   "source": [
    "#create a new column of injuried or not to get a binary response\n",
    "#1 means someone was hurt 0 means someone was not\n",
    "final_data['Injury'] = np.where(final_data['Total_Injuries'] >0,1,0)\n",
    "injuries = final_data[\"Injury\"].value_counts().reset_index()\n",
    "injuries.head(50)"
   ]
  },
  {
   "cell_type": "code",
   "execution_count": 30,
   "id": "960104e0",
   "metadata": {},
   "outputs": [
    {
     "data": {
      "text/plain": [
       "<AxesSubplot:xlabel='Injury', ylabel='count'>"
      ]
     },
     "execution_count": 30,
     "metadata": {},
     "output_type": "execute_result"
    },
    {
     "data": {
      "image/png": "[encoded data removed]",
      "text/plain": [
       "<Figure size 432x288 with 1 Axes>"
      ]
     },
     "metadata": {},
     "output_type": "display_data"
    }
   ],
   "source": [
    "final_data['Injury'].value_counts()\n",
    "\n",
    "sns.countplot(x='Injury',data=final_data,palette='hls')"
   ]
  },
  {
   "cell_type": "code",
   "execution_count": 31,
   "id": "af720631",
   "metadata": {
    "scrolled": false
   },
   "outputs": [
    {
     "name": "stdout",
     "output_type": "stream",
     "text": [
      "<class 'pandas.core.frame.DataFrame'>\n",
      "Int64Index: 35427 entries, 1 to 115696\n",
      "Data columns (total 34 columns):\n",
      " #   Column                  Non-Null Count  Dtype  \n",
      "---  ------                  --------------  -----  \n",
      " 0   ev_id                   35427 non-null  object \n",
      " 1   acft_make               35427 non-null  object \n",
      " 2   acft_model              35427 non-null  object \n",
      " 3   cert_max_gr_wt          35427 non-null  float64\n",
      " 4   acft_category           35427 non-null  object \n",
      " 5   damage                  35427 non-null  object \n",
      " 6   far_part                35427 non-null  object \n",
      " 7   afm_hrs_last_insp       35427 non-null  float64\n",
      " 8   type_fly                35427 non-null  object \n",
      " 9   dprt_city               35427 non-null  object \n",
      " 10  dprt_state              35427 non-null  object \n",
      " 11  rwy_len                 35427 non-null  float64\n",
      " 12  rwy_width               35427 non-null  float64\n",
      " 13  ev_type                 35427 non-null  object \n",
      " 14  ev_city                 35427 non-null  object \n",
      " 15  ev_state                35427 non-null  object \n",
      " 16  ev_country              35427 non-null  object \n",
      " 17  ev_highest_injury       35427 non-null  object \n",
      " 18  inj_f_grnd              35427 non-null  float64\n",
      " 19  inj_m_grnd              35427 non-null  float64\n",
      " 20  inj_s_grnd              35427 non-null  float64\n",
      " 21  Total_Fatal_Injuries    35427 non-null  float64\n",
      " 22  Total_Minor_Injuries    35427 non-null  float64\n",
      " 23  Total_Uninjured         35427 non-null  float64\n",
      " 24  Total_Serious_Injuries  35427 non-null  float64\n",
      " 25  Total_Injuries_Flight   35427 non-null  float64\n",
      " 26  sky_cond_ceil           35427 non-null  object \n",
      " 27  sky_cond_nonceil        35427 non-null  object \n",
      " 28  wind_vel_ind            35427 non-null  object \n",
      " 29  wx_int_precip           35427 non-null  object \n",
      " 30  phase_flt_spec          35427 non-null  object \n",
      " 31  Total_Injuries_Ground   35427 non-null  float64\n",
      " 32  Total_Injuries          35427 non-null  float64\n",
      " 33  Injury                  35427 non-null  int64  \n",
      "dtypes: float64(14), int64(1), object(19)\n",
      "memory usage: 10.5+ MB\n"
     ]
    }
   ],
   "source": [
    "final_data.info()"
   ]
  },
  {
   "cell_type": "code",
   "execution_count": 32,
   "id": "8cc3fdab",
   "metadata": {},
   "outputs": [],
   "source": [
    "#delete the index column called \"Unnamed: 0\"\n",
    "final_df = final_data.copy()\n",
    "#Since we added up all of our injuries we don't need the other columns that include injury count since it will be colinear to our prediction variable\n",
    "final_df = final_df.drop(['Total_Fatal_Injuries','Total_Serious_Injuries','Total_Minor_Injuries','Total_Uninjured','Total_Injuries_Flight','inj_f_grnd','inj_m_grnd','inj_s_grnd','Total_Injuries_Ground',\"Total_Injuries\",\"ev_id\", \"dprt_city\"],axis = 1)"
   ]
  },
  {
   "cell_type": "code",
   "execution_count": 33,
   "id": "c3d004f3",
   "metadata": {},
   "outputs": [
    {
     "name": "stdout",
     "output_type": "stream",
     "text": [
      "<class 'pandas.core.frame.DataFrame'>\n",
      "Int64Index: 35427 entries, 1 to 115696\n",
      "Data columns (total 22 columns):\n",
      " #   Column             Non-Null Count  Dtype  \n",
      "---  ------             --------------  -----  \n",
      " 0   acft_make          35427 non-null  object \n",
      " 1   acft_model         35427 non-null  object \n",
      " 2   cert_max_gr_wt     35427 non-null  float64\n",
      " 3   acft_category      35427 non-null  object \n",
      " 4   damage             35427 non-null  object \n",
      " 5   far_part           35427 non-null  object \n",
      " 6   afm_hrs_last_insp  35427 non-null  float64\n",
      " 7   type_fly           35427 non-null  object \n",
      " 8   dprt_state         35427 non-null  object \n",
      " 9   rwy_len            35427 non-null  float64\n",
      " 10  rwy_width          35427 non-null  float64\n",
      " 11  ev_type            35427 non-null  object \n",
      " 12  ev_city            35427 non-null  object \n",
      " 13  ev_state           35427 non-null  object \n",
      " 14  ev_country         35427 non-null  object \n",
      " 15  ev_highest_injury  35427 non-null  object \n",
      " 16  sky_cond_ceil      35427 non-null  object \n",
      " 17  sky_cond_nonceil   35427 non-null  object \n",
      " 18  wind_vel_ind       35427 non-null  object \n",
      " 19  wx_int_precip      35427 non-null  object \n",
      " 20  phase_flt_spec     35427 non-null  object \n",
      " 21  Injury             35427 non-null  int64  \n",
      "dtypes: float64(4), int64(1), object(17)\n",
      "memory usage: 7.2+ MB\n"
     ]
    }
   ],
   "source": [
    "final_df.info()"
   ]
  },
  {
   "cell_type": "markdown",
   "id": "12ee2a5d",
   "metadata": {},
   "source": [
    "# Data Preprocessing: \n",
    "One-hot encoding, Scaling, and Standardizing the data"
   ]
  },
  {
   "cell_type": "markdown",
   "id": "5e28f08e",
   "metadata": {},
   "source": [
    "Using the `final_df`, we created a variable `X` for all predictors and `y` for the response variable: `Injury`."
   ]
  },
  {
   "cell_type": "code",
   "execution_count": 34,
   "id": "dc385d7a",
   "metadata": {},
   "outputs": [],
   "source": [
    "X = final_df.drop(\"Injury\", axis = 1).copy()\n",
    "y = final_df[\"Injury\"].copy()"
   ]
  },
  {
   "cell_type": "markdown",
   "id": "4fd3eb4a",
   "metadata": {},
   "source": [
    "### One hot encoding and tranforming our `X` and `y`:\n",
    "We wanted to first one hot encode `X` and tranform it into a sparse matrix. Using the Label Encoder from sklearn we `y` into a binary array. "
   ]
  },
  {
   "cell_type": "code",
   "execution_count": 35,
   "id": "ecf66ad6",
   "metadata": {},
   "outputs": [
    {
     "data": {
      "text/plain": [
       "<35427x25112 sparse matrix of type '<class 'numpy.float64'>'\n",
       "\twith 646102 stored elements in Compressed Sparse Row format>"
      ]
     },
     "execution_count": 35,
     "metadata": {},
     "output_type": "execute_result"
    }
   ],
   "source": [
    "from sklearn.preprocessing import OneHotEncoder\n",
    "encoder = OneHotEncoder(drop=\"first\")\n",
    "encoder.fit(X)\n",
    "X = encoder.transform(X)\n",
    "X"
   ]
  },
  {
   "cell_type": "code",
   "execution_count": 36,
   "id": "e2b0dcd5",
   "metadata": {},
   "outputs": [
    {
     "data": {
      "text/plain": [
       "array([0, 0, 0, ..., 1, 1, 1])"
      ]
     },
     "execution_count": 36,
     "metadata": {},
     "output_type": "execute_result"
    }
   ],
   "source": [
    "from sklearn import preprocessing\n",
    "le = preprocessing.LabelEncoder()\n",
    "le.fit(y)\n",
    "y = le.transform(y)\n",
    "y"
   ]
  },
  {
   "cell_type": "markdown",
   "id": "457c77eb",
   "metadata": {},
   "source": [
    "### Training and Testing Split\n",
    "For training and testing, we gathered 80% of data for the training and 20% for testing data using `scikit-learn`. So far, we have not used cross validation."
   ]
  },
  {
   "cell_type": "code",
   "execution_count": 18,
   "id": "8309cb3f",
   "metadata": {},
   "outputs": [],
   "source": [
    "from sklearn.model_selection import train_test_split\n",
    "X_train, X_test, y_train, y_test = train_test_split(X, y, test_size=0.20, random_state=42)"
   ]
  },
  {
   "cell_type": "markdown",
   "id": "d6b1ac32",
   "metadata": {},
   "source": [
    "### Creating a Logistic Regression Model using the Raw Data\n"
   ]
  },
  {
   "cell_type": "code",
   "execution_count": 19,
   "id": "cf91303d",
   "metadata": {},
   "outputs": [],
   "source": [
    "from sklearn.linear_model import LogisticRegression\n",
    "logisticRegr = LogisticRegression(class_weight=\"balanced\")\n",
    "logisticRegr.fit(X_train, y_train)\n",
    "y_hat = logisticRegr.predict(X_test)"
   ]
  },
  {
   "cell_type": "code",
   "execution_count": 20,
   "id": "c8365f1d",
   "metadata": {
    "scrolled": true
   },
   "outputs": [
    {
     "name": "stdout",
     "output_type": "stream",
     "text": [
      "The accuracy for the raw data is:  0.9992943832909963\n",
      "Raw Data Confusion Matrix:\n",
      "[[3330    5]\n",
      " [   0 3751]]\n"
     ]
    }
   ],
   "source": [
    "from sklearn import metrics as mt\n",
    "accuracy_raw = mt.accuracy_score(y_test,y_hat)\n",
    "conf_raw = mt.confusion_matrix(y_test,y_hat)\n",
    "print(\"The accuracy for the raw data is: \",accuracy_raw)\n",
    "print(\"Raw Data Confusion Matrix:\")\n",
    "print(conf_raw)"
   ]
  },
  {
   "cell_type": "markdown",
   "id": "1e98ae47",
   "metadata": {},
   "source": [
    "### Standardizing and scaling the data:\n",
    "From sklearn.preprocessing, the StandardScaler allowed us standardize our data. We wanted to compare performance metrics between the raw data vs. scaled and standardized data."
   ]
  },
  {
   "cell_type": "code",
   "execution_count": 21,
   "id": "c48b9ee7",
   "metadata": {},
   "outputs": [],
   "source": [
    "from sklearn.preprocessing import StandardScaler\n",
    "\n",
    "scl_obj = StandardScaler(with_mean=False)\n",
    "scl_obj.fit(X_train) \n",
    "\n",
    "X_train_scaled = scl_obj.transform(X_train) \n",
    "X_test_scaled = scl_obj.transform(X_test)"
   ]
  },
  {
   "cell_type": "markdown",
   "id": "48bddd4e",
   "metadata": {},
   "source": [
    "### Creating a Logistic Regression Model using the Standardized and Scaled Data"
   ]
  },
  {
   "cell_type": "code",
   "execution_count": 22,
   "id": "e1df78b4",
   "metadata": {},
   "outputs": [
    {
     "name": "stderr",
     "output_type": "stream",
     "text": [
      "C:\\Users\\drsco\\anaconda3\\envs\\MachineL1\\lib\\site-packages\\sklearn\\linear_model\\_logistic.py:763: ConvergenceWarning: lbfgs failed to converge (status=1):\n",
      "STOP: TOTAL NO. of ITERATIONS REACHED LIMIT.\n",
      "\n",
      "Increase the number of iterations (max_iter) or scale the data as shown in:\n",
      "    https://scikit-learn.org/stable/modules/preprocessing.html\n",
      "Please also refer to the documentation for alternative solver options:\n",
      "    https://scikit-learn.org/stable/modules/linear_model.html#logistic-regression\n",
      "  n_iter_i = _check_optimize_result(\n"
     ]
    }
   ],
   "source": [
    "from sklearn.linear_model import LogisticRegression\n",
    "logisticRegr = LogisticRegression(class_weight=\"balanced\")\n",
    "logisticRegr.fit(X_train_scaled, y_train)\n",
    "y_hat = logisticRegr.predict(X_test_scaled)"
   ]
  },
  {
   "cell_type": "code",
   "execution_count": 23,
   "id": "d1b6f1d8",
   "metadata": {},
   "outputs": [
    {
     "name": "stdout",
     "output_type": "stream",
     "text": [
      "The accuracy for the standardized and scaled data is: 0.9983065198983911\n",
      "Standardized and Scaled Data Confusion Matrix:\n",
      "[[3334    1]\n",
      " [  11 3740]]\n"
     ]
    }
   ],
   "source": [
    "from sklearn import metrics as mt\n",
    "accuracy_stan = mt.accuracy_score(y_test,y_hat)\n",
    "conf_stan = mt.confusion_matrix(y_test,y_hat)\n",
    "print(\"The accuracy for the standardized and scaled data is:\", accuracy_stan)\n",
    "print(\"Standardized and Scaled Data Confusion Matrix:\")\n",
    "print(conf_stan)"
   ]
  },
  {
   "cell_type": "markdown",
   "id": "e3626e7c",
   "metadata": {},
   "source": [
    "As we can see, the accuracy is too high. `ev_highest_injury` is a categorical level that indicates the highest level of injury among all injuries sustained as a result of the event. We found that `ev_highest_injury` must be highly correlated our response variable, `Injury`. By removing `ev_highest_injury`, our accuracy would measure better moving forward."
   ]
  },
  {
   "cell_type": "markdown",
   "id": "98741685",
   "metadata": {},
   "source": [
    "# Final Models"
   ]
  },
  {
   "cell_type": "markdown",
   "id": "3cc733c6",
   "metadata": {},
   "source": [
    "Moving forward, we will have `ev_highest_injury` removed from the final dataframe for all our models."
   ]
  },
  {
   "cell_type": "markdown",
   "id": "989effbe",
   "metadata": {},
   "source": [
    "# CV"
   ]
  },
  {
   "cell_type": "code",
   "execution_count": 33,
   "id": "51c2b7e2",
   "metadata": {},
   "outputs": [],
   "source": [
    "#CV split\n",
    "from sklearn.model_selection import StratifiedShuffleSplit \n",
    "cv = StratifiedShuffleSplit( n_splits=5,test_size=0.2,random_state = 42)"
   ]
  },
  {
   "cell_type": "markdown",
   "id": "32e9629b",
   "metadata": {},
   "source": [
    "# One Hot Encoding + STD"
   ]
  },
  {
   "cell_type": "code",
   "execution_count": 24,
   "id": "a5318991",
   "metadata": {},
   "outputs": [],
   "source": [
    "df = final_df.copy()\n",
    "del df['ev_highest_injury']"
   ]
  },
  {
   "cell_type": "code",
   "execution_count": 25,
   "id": "8f3c63bb",
   "metadata": {},
   "outputs": [],
   "source": [
    "X = df.drop(\"Injury\", axis = 1).copy()\n",
    "y = df[\"Injury\"].copy()"
   ]
  },
  {
   "cell_type": "code",
   "execution_count": 26,
   "id": "1d927ccb",
   "metadata": {},
   "outputs": [],
   "source": [
    "#one hot encoding with proper model\n",
    "from sklearn.preprocessing import OneHotEncoder\n",
    "encoder = OneHotEncoder(drop=\"first\")\n",
    "encoder.fit(X)\n",
    "X = encoder.transform(X)\n",
    "from sklearn import preprocessing\n",
    "le = preprocessing.LabelEncoder()\n",
    "le.fit(y)\n",
    "y = le.transform(y)"
   ]
  },
  {
   "cell_type": "code",
   "execution_count": null,
   "id": "e32313e7",
   "metadata": {},
   "outputs": [],
   "source": []
  },
  {
   "cell_type": "code",
   "execution_count": null,
   "id": "15ef70bc",
   "metadata": {},
   "outputs": [],
   "source": [
    "from sklearn.svm import SVC\n",
    "\n",
    "for train_indices, test_indices in cv.split(X,y): \n",
    "    X_train = X[train_indices]\n",
    "    y_train = y[train_indices]\n",
    "    \n",
    "    X_test = X[test_indices]\n",
    "    y_test = y[test_indices]\n",
    "    \n",
    "X_train_scaled = scl_obj.transform(X_train) # apply to training\n",
    "X_test_scaled = scl_obj.transform(X_test)\n",
    "\n",
    "\n",
    "svm_clf = SVC(C=0.5, kernel='linear', degree=3, gamma='auto') # get object\n",
    "svm_clf.fit(X_train_scaled, y_train)  # train object\n",
    "\n",
    "y_hat = svm_clf.predict(X_test_scaled) # get test set precitions\n",
    "\n",
    "acc = mt.accuracy_score(y_test,y_hat)\n",
    "conf = mt.confusion_matrix(y_test,y_hat)\n",
    "print('accuracy:', acc )\n",
    "print(conf)"
   ]
  },
  {
   "cell_type": "code",
   "execution_count": 16,
   "id": "3f444583",
   "metadata": {},
   "outputs": [
    {
     "ename": "NameError",
     "evalue": "name 'X_train' is not defined",
     "output_type": "error",
     "traceback": [
      "\u001b[0;31m---------------------------------------------------------------------------\u001b[0m",
      "\u001b[0;31mNameError\u001b[0m                                 Traceback (most recent call last)",
      "\u001b[0;32m/var/folders/lt/8gjmnr952nx08nb918ncy_vh0000gn/T/ipykernel_29741/65450389.py\u001b[0m in \u001b[0;36m<module>\u001b[0;34m\u001b[0m\n\u001b[1;32m      2\u001b[0m \u001b[0;31m# scale attributes by the training set\u001b[0m\u001b[0;34m\u001b[0m\u001b[0;34m\u001b[0m\u001b[0;34m\u001b[0m\u001b[0m\n\u001b[1;32m      3\u001b[0m \u001b[0mscl_obj\u001b[0m \u001b[0;34m=\u001b[0m \u001b[0mStandardScaler\u001b[0m\u001b[0;34m(\u001b[0m\u001b[0mwith_mean\u001b[0m\u001b[0;34m=\u001b[0m\u001b[0;32mFalse\u001b[0m\u001b[0;34m)\u001b[0m\u001b[0;34m\u001b[0m\u001b[0;34m\u001b[0m\u001b[0m\n\u001b[0;32m----> 4\u001b[0;31m \u001b[0mscl_obj\u001b[0m\u001b[0;34m.\u001b[0m\u001b[0mfit\u001b[0m\u001b[0;34m(\u001b[0m\u001b[0mX_train\u001b[0m\u001b[0;34m)\u001b[0m \u001b[0;31m# find scalings for each column that make this zero mean and unit std\u001b[0m\u001b[0;34m\u001b[0m\u001b[0;34m\u001b[0m\u001b[0m\n\u001b[0m\u001b[1;32m      5\u001b[0m \u001b[0;31m# the line of code above only looks at training data to get mean and std and we can use it\u001b[0m\u001b[0;34m\u001b[0m\u001b[0;34m\u001b[0m\u001b[0;34m\u001b[0m\u001b[0m\n\u001b[1;32m      6\u001b[0m \u001b[0;31m# to transform new feature data\u001b[0m\u001b[0;34m\u001b[0m\u001b[0;34m\u001b[0m\u001b[0;34m\u001b[0m\u001b[0m\n",
      "\u001b[0;31mNameError\u001b[0m: name 'X_train' is not defined"
     ]
    }
   ],
   "source": [
    "from sklearn.preprocessing import StandardScaler\n",
    "# scale attributes by the training set\n",
    "scl_obj = StandardScaler(with_mean=False)\n",
    "scl_obj.fit(X_train) # find scalings for each column that make this zero mean and unit std\n",
    "# the line of code above only looks at training data to get mean and std and we can use it \n",
    "# to transform new feature data\n",
    "\n",
    "X_train_scaled = scl_obj.transform(X_train) # apply to training\n",
    "X_test_scaled = scl_obj.transform(X_test)"
   ]
  },
  {
   "cell_type": "code",
   "execution_count": 37,
   "id": "ad0de5cb",
   "metadata": {},
   "outputs": [
    {
     "name": "stdout",
     "output_type": "stream",
     "text": [
      "====Iteration 0  ====\n",
      "accuracy 0.8226079593564776\n",
      "confusion matrix\n",
      " [[2960  376]\n",
      " [ 881 2869]]\n",
      "====Iteration 1  ====\n",
      "accuracy 0.8166807790008468\n",
      "confusion matrix\n",
      " [[2945  391]\n",
      " [ 908 2842]]\n",
      "====Iteration 2  ====\n",
      "accuracy 0.818656505786057\n",
      "confusion matrix\n",
      " [[2949  387]\n",
      " [ 898 2852]]\n",
      "====Iteration 3  ====\n",
      "accuracy 0.8158340389500424\n",
      "confusion matrix\n",
      " [[2960  376]\n",
      " [ 929 2821]]\n",
      "====Iteration 4  ====\n",
      "accuracy 0.818656505786057\n",
      "confusion matrix\n",
      " [[2920  416]\n",
      " [ 869 2881]]\n"
     ]
    }
   ],
   "source": [
    "#cross validation\n",
    "for iter_num, (train_indices, test_indices) in enumerate(cv.split(X,y)):\n",
    "    logisticRegr = LogisticRegression(class_weight=\"balanced\",penalty='l2',solver='lbfgs',max_iter=1000)\n",
    "    logisticRegr.fit(X[train_indices],y[train_indices])  # train object\n",
    "    y_hat = logisticRegr.predict(X[test_indices]) # get test set precitions\n",
    "\n",
    "    # print the accuracy and confusion matrix \n",
    "    print(\"====Iteration\",iter_num,\" ====\")\n",
    "    print(\"accuracy\", mt.accuracy_score(y[test_indices],y_hat)) \n",
    "    print(\"confusion matrix\\n\",mt.confusion_matrix(y[test_indices],y_hat))"
   ]
  },
  {
   "cell_type": "markdown",
   "id": "c5b34b98",
   "metadata": {},
   "source": [
    "# Logistic Regression"
   ]
  },
  {
   "cell_type": "code",
   "execution_count": 17,
   "id": "65b4f208",
   "metadata": {},
   "outputs": [
    {
     "ename": "NameError",
     "evalue": "name 'X_train_scaled' is not defined",
     "output_type": "error",
     "traceback": [
      "\u001b[0;31m---------------------------------------------------------------------------\u001b[0m",
      "\u001b[0;31mNameError\u001b[0m                                 Traceback (most recent call last)",
      "\u001b[0;32m/var/folders/lt/8gjmnr952nx08nb918ncy_vh0000gn/T/ipykernel_29741/90902660.py\u001b[0m in \u001b[0;36m<module>\u001b[0;34m\u001b[0m\n\u001b[1;32m      2\u001b[0m \u001b[0;32mfrom\u001b[0m \u001b[0msklearn\u001b[0m\u001b[0;34m.\u001b[0m\u001b[0mlinear_model\u001b[0m \u001b[0;32mimport\u001b[0m \u001b[0mLogisticRegression\u001b[0m\u001b[0;34m\u001b[0m\u001b[0;34m\u001b[0m\u001b[0m\n\u001b[1;32m      3\u001b[0m \u001b[0mlogisticRegr\u001b[0m \u001b[0;34m=\u001b[0m \u001b[0mLogisticRegression\u001b[0m\u001b[0;34m(\u001b[0m\u001b[0mclass_weight\u001b[0m\u001b[0;34m=\u001b[0m\u001b[0;34m\"balanced\"\u001b[0m\u001b[0;34m,\u001b[0m\u001b[0msolver\u001b[0m\u001b[0;34m=\u001b[0m\u001b[0;34m'liblinear'\u001b[0m\u001b[0;34m,\u001b[0m\u001b[0mpenalty\u001b[0m \u001b[0;34m=\u001b[0m \u001b[0;34m'l2'\u001b[0m\u001b[0;34m)\u001b[0m\u001b[0;34m\u001b[0m\u001b[0;34m\u001b[0m\u001b[0m\n\u001b[0;32m----> 4\u001b[0;31m \u001b[0mlogisticRegr\u001b[0m\u001b[0;34m.\u001b[0m\u001b[0mfit\u001b[0m\u001b[0;34m(\u001b[0m\u001b[0mX_train_scaled\u001b[0m\u001b[0;34m,\u001b[0m \u001b[0my_train\u001b[0m\u001b[0;34m)\u001b[0m\u001b[0;34m\u001b[0m\u001b[0;34m\u001b[0m\u001b[0m\n\u001b[0m\u001b[1;32m      5\u001b[0m \u001b[0my_hat\u001b[0m \u001b[0;34m=\u001b[0m \u001b[0mlogisticRegr\u001b[0m\u001b[0;34m.\u001b[0m\u001b[0mpredict\u001b[0m\u001b[0;34m(\u001b[0m\u001b[0mX_test_scaled\u001b[0m\u001b[0;34m)\u001b[0m\u001b[0;34m\u001b[0m\u001b[0;34m\u001b[0m\u001b[0m\n\u001b[1;32m      6\u001b[0m \u001b[0;34m\u001b[0m\u001b[0m\n",
      "\u001b[0;31mNameError\u001b[0m: name 'X_train_scaled' is not defined"
     ]
    }
   ],
   "source": [
    "#scaled\n",
    "from sklearn.linear_model import LogisticRegression\n",
    "logisticRegr = LogisticRegression(class_weight=\"balanced\",solver='liblinear',penalty = 'l2')\n",
    "logisticRegr.fit(X_train_scaled, y_train)\n",
    "y_hat = logisticRegr.predict(X_test_scaled)\n",
    "\n",
    "from sklearn import metrics as mt\n",
    "acc = mt.accuracy_score(y_test,y_hat)\n",
    "conf = mt.confusion_matrix(y_test,y_hat)\n",
    "print(acc)\n",
    "print(conf)"
   ]
  },
  {
   "cell_type": "code",
   "execution_count": null,
   "id": "00373b28",
   "metadata": {},
   "outputs": [],
   "source": [
    "#NOT Scaled\n",
    "from sklearn.linear_model import LogisticRegression\n",
    "logisticRegr = LogisticRegression(class_weight=\"balanced\",solver='lbfgs', max_iter=1000)\n",
    "logisticRegr.fit(X_train, y_train)\n",
    "y_hat = logisticRegr.predict(X_test)\n",
    "\n",
    "from sklearn import metrics as mt\n",
    "acc = mt.accuracy_score(y_test,y_hat)\n",
    "conf = mt.confusion_matrix(y_test,y_hat)\n",
    "print(acc)\n",
    "print(conf)"
   ]
  },
  {
   "cell_type": "code",
   "execution_count": null,
   "id": "54ad081d",
   "metadata": {},
   "outputs": [],
   "source": [
    "from sklearn.model_selection import ShuffleSplit\n",
    "\n",
    "# we want to predict the X and y data as follows:\n",
    "if 'Injury' in final_df:\n",
    "    y = final_df['Injury'].values # get the labels we want\n",
    "    del final_df['Injury'] # get rid of the class label\n",
    "    X = final_df.values # use everything else to predict!\n",
    "\n",
    "    ## X and y are now numpy matrices, by calling 'values' on the pandas data frames we\n",
    "    #    have converted them into simple matrices to use with scikit learn\n",
    "    \n",
    "    \n",
    "# to use the cross validation object in scikit learn, we need to grab an instance\n",
    "#    of the object and set it up. This object will be able to split our data into \n",
    "#    training and testing splits\n",
    "num_cv_iterations = 3\n",
    "num_instances = len(y)\n",
    "cv_object = ShuffleSplit(n_splits=num_cv_iterations,\n",
    "                         test_size  = 0.2)\n",
    "                         \n",
    "print(cv_object)"
   ]
  },
  {
   "cell_type": "markdown",
   "id": "8450ffa6",
   "metadata": {},
   "source": [
    "to do:\n",
    "one hot encoding\n",
    "avoid confounding variables - this causes an issue with feature importance\n",
    "check for highly corrilated variables - \n",
    "use a confusion matrix\n",
    "scale our data\n",
    "large diff in KDE for support vectors - it falls along the decision bountry vs the read data\n"
   ]
  },
  {
   "cell_type": "code",
   "execution_count": null,
   "id": "b3581766",
   "metadata": {},
   "outputs": [],
   "source": []
  }
 ],
 "metadata": {
  "kernelspec": {
   "display_name": "Python 3 (ipykernel)",
   "language": "python",
   "name": "python3"
  },
  "language_info": {
   "codemirror_mode": {
    "name": "ipython",
    "version": 3
   },
   "file_extension": ".py",
   "mimetype": "text/x-python",
   "name": "python",
   "nbconvert_exporter": "python",
   "pygments_lexer": "ipython3",
   "version": "3.7.7"
  }
 },
 "nbformat": 4,
 "nbformat_minor": 5
}
