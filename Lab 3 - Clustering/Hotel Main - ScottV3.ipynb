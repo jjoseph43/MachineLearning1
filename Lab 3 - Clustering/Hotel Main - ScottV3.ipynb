{
 "cells": [
  {
   "cell_type": "markdown",
   "id": "a97d9af9",
   "metadata": {},
   "source": [
    "Here is the rubric I will be using to grade Lab 3.  You must have these exact sections in your project, if you want me to grade it!  Lab 3 is due Sunday, 11/28/2021 by 11:59PM."
   ]
  },
  {
   "cell_type": "markdown",
   "id": "9451c029",
   "metadata": {},
   "source": [
    "Category |Available |Requirements\n",
    "-----|-----|----- \n",
    "Total Points | 100 | \n",
    "Business Understanding 1 |10|Describe the purpose of the data set you selected (i.e., why was this data collected in the first place?). How will you measure the effectiveness of a good algorithm? Why does your chosen validation method make sense for this specific dataset and the stakeholders needs?\n",
    "Data Understanding 1 | 10 |Describe the meaning and type of data (scale, values, etc.) for each attribute in the data file. Verify data quality: Are there missing values? Duplicate data? Outliers? Are those mistakes? How do you deal with these problems?\n",
    "Data Understanding 2|10|Visualize the any important attributes appropriately. Important: Provide an interpretation for any charts or graphs.\n",
    "Modeling and Evaluation 1|10|Train and adjust parameters\n",
    "Modeling and Evaluation 2|10|Evaluate and Compare\n",
    "Modeling and Evaluation 3|10|Visualize Results\n",
    "Modeling and Evaluation 4|20|Summarize the Ramifications\n",
    "Deployment|10|Be critical of your performance and tell the reader how you current model might be usable by other parties. Did you achieve your goals? If not, can you reign in the utility of your modeling? How useful is your model for interested parties (i.e., the companies or organizations that might want to use it)? How would your deploy your model for interested parties? What other data should be collected? How often would the model need to be updated, etc.?\n",
    "Exceptional Work|10|You have free reign to provide additional analyses or combine analyses."
   ]
  },
  {
   "cell_type": "markdown",
   "id": "561234f2",
   "metadata": {},
   "source": [
    "- Data Source: https://www.kaggle.com/jessemostipak/hotel-booking-demand\n",
    "- Data Description Source: https://www.sciencedirect.com/science/article/pii/S2352340918315191"
   ]
  },
  {
   "cell_type": "markdown",
   "id": "5f556d50",
   "metadata": {},
   "source": [
    "# Business Understanding 1"
   ]
  },
  {
   "cell_type": "markdown",
   "id": "c3ec127d",
   "metadata": {},
   "source": [
    "Describe the purpose of the data set you selected (i.e., why was this data collected in the first place?). How will you measure the effectiveness of a good algorithm? Why does your chosen validation method make sense for this specific\n",
    "dataset and the stakeholders needs?"
   ]
  },
  {
   "cell_type": "markdown",
   "id": "1e7280d2",
   "metadata": {},
   "source": [
    "##### Describe the purpose of the data set you selected (i.e., why was this data collected in the first place?). \n",
    "\n",
    "The reason why we choose this data set is that it can be helpful in making insights in the nature of hotel bookings, and realize what  other factors that can influence whether rooms are booked, canceled or left empty. This data set comes from an article “Hotel booking demand datasets” Nuno Antonio, Anade Almeida and Luis Nunes that has been cleaned by Thomas Mock and Antoine Bichat for #TidyTuesday. Models that are created can assist consumers to know what factor to look for when booking a hotel. Other models that are created can be also be used by employers and employees that work in the hospitality business. \n",
    "\n",
    "#####  How will you measure the effectiveness of a good algorithm?\n",
    "\n",
    "Using different combinations of clustering with a logistic regression of the dataset we will create models. We will measure the effectiveness of a good algorithm by seeing whether there if the accuracy of the prediction goes up. We will also look at the standard deviations to see if the model is consistent on its level of accuracy. \n",
    "\n",
    "#####  Why does your chosen validation method make sense for this specific dataset and the stakeholders needs?\n",
    "\n",
    "Using  accuracy makes sense for this specific data  set because it can show how good the model will be at predicting if the hotel booking will be cancelled. The  main stake holders, which are the hotel corporations, will be better able to predict if any rooms will be available for a weekend. Once knowing this the hotel corporations,  be able to overbook or adjust room rates accordingly in order to have minimize loss to revenue. \n"
   ]
  },
  {
   "cell_type": "code",
   "execution_count": 4,
   "id": "aca9a1f6",
   "metadata": {},
   "outputs": [],
   "source": [
    "import pandas as pd\n",
    "import numpy as np\n",
    "import matplotlib.pyplot as plt\n",
    "import seaborn as sns\n",
    "sns.set(style='darkgrid')\n",
    "\n",
    "from sklearn.preprocessing import OneHotEncoder, StandardScaler\n",
    "from sklearn.pipeline import Pipeline\n",
    "from sklearn.compose import ColumnTransformer"
   ]
  },
  {
   "cell_type": "markdown",
   "id": "c1e6dbf4",
   "metadata": {},
   "source": [
    "# Data Understanding 1"
   ]
  },
  {
   "cell_type": "markdown",
   "id": "48ad8e15",
   "metadata": {},
   "source": [
    "Describe the meaning and type of data (scale, values, etc.) for each attribute in the data file. Verify data quality: Are there missing values? Duplicate data? Outliers? Are those mistakes? How do you deal with these problems?"
   ]
  },
  {
   "cell_type": "code",
   "execution_count": 5,
   "id": "30c49f0f",
   "metadata": {},
   "outputs": [
    {
     "name": "stdout",
     "output_type": "stream",
     "text": [
      "<class 'pandas.core.frame.DataFrame'>\n",
      "RangeIndex: 119390 entries, 0 to 119389\n",
      "Data columns (total 32 columns):\n",
      " #   Column                          Non-Null Count   Dtype  \n",
      "---  ------                          --------------   -----  \n",
      " 0   hotel                           119390 non-null  object \n",
      " 1   is_canceled                     119390 non-null  int64  \n",
      " 2   lead_time                       119390 non-null  int64  \n",
      " 3   arrival_date_year               119390 non-null  int64  \n",
      " 4   arrival_date_month              119390 non-null  object \n",
      " 5   arrival_date_week_number        119390 non-null  int64  \n",
      " 6   arrival_date_day_of_month       119390 non-null  int64  \n",
      " 7   stays_in_weekend_nights         119390 non-null  int64  \n",
      " 8   stays_in_week_nights            119390 non-null  int64  \n",
      " 9   adults                          119390 non-null  int64  \n",
      " 10  children                        119386 non-null  float64\n",
      " 11  babies                          119390 non-null  int64  \n",
      " 12  meal                            119390 non-null  object \n",
      " 13  country                         118902 non-null  object \n",
      " 14  market_segment                  119390 non-null  object \n",
      " 15  distribution_channel            119390 non-null  object \n",
      " 16  is_repeated_guest               119390 non-null  int64  \n",
      " 17  previous_cancellations          119390 non-null  int64  \n",
      " 18  previous_bookings_not_canceled  119390 non-null  int64  \n",
      " 19  reserved_room_type              119390 non-null  object \n",
      " 20  assigned_room_type              119390 non-null  object \n",
      " 21  booking_changes                 119390 non-null  int64  \n",
      " 22  deposit_type                    119390 non-null  object \n",
      " 23  agent                           103050 non-null  float64\n",
      " 24  company                         6797 non-null    float64\n",
      " 25  days_in_waiting_list            119390 non-null  int64  \n",
      " 26  customer_type                   119390 non-null  object \n",
      " 27  adr                             119390 non-null  float64\n",
      " 28  required_car_parking_spaces     119390 non-null  int64  \n",
      " 29  total_of_special_requests       119390 non-null  int64  \n",
      " 30  reservation_status              119390 non-null  object \n",
      " 31  reservation_status_date         119390 non-null  object \n",
      "dtypes: float64(4), int64(16), object(12)\n",
      "memory usage: 29.1+ MB\n"
     ]
    }
   ],
   "source": [
    "hotel = pd.read_csv(\"data/hotel_bookings.csv\",low_memory=False)\n",
    "hotel.info()"
   ]
  },
  {
   "cell_type": "markdown",
   "id": "21a2976b",
   "metadata": {},
   "source": [
    "**Describe the meaning and type of data (scale, values, etc.) for each attribute in the data file.**"
   ]
  },
  {
   "cell_type": "markdown",
   "id": "12561623",
   "metadata": {},
   "source": [
    "### Data Description\n",
    "- Source: https://www.sciencedirect.com/science/article/pii/S2352340918315191"
   ]
  },
  {
   "cell_type": "markdown",
   "id": "997a86ed",
   "metadata": {},
   "source": [
    "Variable |Type |Description | Further Description\n",
    "-----|-----|-----|----|\n",
    "ADR | Numeric | Average Daily Rate |  \n",
    "Adults | Integer | Number of adults\n",
    "Agent | Categorical | ID of the travel agency that made the booking\n",
    "ArrivalDateDayOfMonth | Categorical | Day of the month of the arrival date\n",
    "ArrivalDateMonth | Numeric | Month of arrival date with 12 categories: “January” to “December”\n",
    "ArrivalDateWeekNumber | Numeric | Week number of the arrival date\n",
    "ArrivalDateYear | Numeric | Year of arrival date\n",
    "AssignedRoomType | Numeric | Code for the type of room assigned to the booking. Sometimes the assigned room type differs from the reserved room type due to hotel operation reasons (e.g. overbooking) or by customer request.\n",
    "Babies | Integer | Number of babies\n",
    "BookingChanges | Integer | Number of changes/amendments made to the booking from the moment the booking was entered on the PMS until the moment of check-in or cancellation\n",
    "Children | Integer | Number of children\n",
    "Company | Categorical | ID of the company/entity that made the booking or responsible for paying the booking. \n",
    "Country | Categorical | Country of origin.\n",
    "CustomerType | Categorical | Type of booking. | Assuming one of four categories: Contract - when the booking has an allotment or other type of contract associated to it; Group – when the booking is asso- ciated to a group; Transient – when the booking is not part of a group or contract, and is not associated to other transient booking; Transient-party – when the booking is transient, but is associated to at least other transient booking\n",
    "DaysInWaitingList | Integer | Number of days the booking was in the waiting list before it was confirmed to the customer\n",
    "DepositType | Categorical | Indication on if the customer made a deposit to guarantee the booking. | This variable can assume three categories: No Deposit – no deposit was made; Non Refund – a deposit was made in the value of the total stay cost; Refundable – a deposit was made with a value under the total cost of stay.\n",
    "DistributionChannel | Integer | Booking distribution channel. The term “TA” means “Travel Agents” and “TO” means “Tour Operators”\n",
    "IsCanceled | Categorical | Value indicating if the booking was canceled (1) or not (0)\n",
    "IsRepeatedGuest | Categorical | Value indicating if the booking name was from a repeated guest (1) or not (0)\n",
    "LeadTime | Integer | Number of days that elapsed between the entering date of the booking into the PMS and the arrival date\n",
    "MarketSegment | Categorical | Market segment designation. | In categories, the term “TA” means “Travel Agents” and “TO” means “Tour Operators”|\n",
    "Meal | Categorical | Type of meal booked. Categories are presented in standard hospitality meal packages: | Undefined/SC – no meal package; BB – Bed & Breakfast; HB – Half board (breakfast and one other meal – usually dinner); FB – Full board (breakfast, lunch and dinner)\n",
    "PreviousBookingsNotCanceled | Integer | Number of previous bookings that were NOT cancelled by the customer prior to the current booking\n",
    "PreviousCancellations | Integer | Number of previous bookings that were cancelled by the customer prior to the current booking\n",
    "RequiredCardParkingSpaces | Integer | Number of car parking spaces required by the customer\n",
    "ReservationStatus | Categorical | Reservation last status | assuming one of three categories: Canceled – booking was canceled by the customer; Check-Out – customer has checked in but already departed; No-Show – customer did not check-in and did inform the hotel of the reason why |\n",
    "ReservationStatusDate | Date | Date at which the last status was set |\n",
    "ReservedRoomType | Categorical | Code of room type reserved. |\n",
    "StaysInWeekendNights | Integer | Number of weekend nights (Saturday or Sunday) the guest stayed or booked to stay at the hotel |\n",
    "StaysInWeekNights | Integer | Number of week nights (Monday to Friday) the guest stayed or booked to stay at the hotel |\n",
    "TotalOfSpecialRequests | Integer | Number of special requests made by the customer (e.g. twin bed or high floor)|\n",
    "\n",
    "\n",
    "\n"
   ]
  },
  {
   "cell_type": "code",
   "execution_count": 6,
   "id": "8acec482",
   "metadata": {},
   "outputs": [
    {
     "name": "stdout",
     "output_type": "stream",
     "text": [
      "<class 'pandas.core.frame.DataFrame'>\n",
      "RangeIndex: 119390 entries, 0 to 119389\n",
      "Data columns (total 32 columns):\n",
      " #   Column                          Non-Null Count   Dtype  \n",
      "---  ------                          --------------   -----  \n",
      " 0   hotel                           119390 non-null  object \n",
      " 1   is_canceled                     119390 non-null  int64  \n",
      " 2   lead_time                       119390 non-null  int64  \n",
      " 3   arrival_date_year               119390 non-null  int64  \n",
      " 4   arrival_date_month              119390 non-null  object \n",
      " 5   arrival_date_week_number        119390 non-null  int64  \n",
      " 6   arrival_date_day_of_month       119390 non-null  int64  \n",
      " 7   stays_in_weekend_nights         119390 non-null  int64  \n",
      " 8   stays_in_week_nights            119390 non-null  int64  \n",
      " 9   adults                          119390 non-null  int64  \n",
      " 10  children                        119386 non-null  float64\n",
      " 11  babies                          119390 non-null  int64  \n",
      " 12  meal                            119390 non-null  object \n",
      " 13  country                         118902 non-null  object \n",
      " 14  market_segment                  119390 non-null  object \n",
      " 15  distribution_channel            119390 non-null  object \n",
      " 16  is_repeated_guest               119390 non-null  int64  \n",
      " 17  previous_cancellations          119390 non-null  int64  \n",
      " 18  previous_bookings_not_canceled  119390 non-null  int64  \n",
      " 19  reserved_room_type              119390 non-null  object \n",
      " 20  assigned_room_type              119390 non-null  object \n",
      " 21  booking_changes                 119390 non-null  int64  \n",
      " 22  deposit_type                    119390 non-null  object \n",
      " 23  agent                           103050 non-null  float64\n",
      " 24  company                         6797 non-null    float64\n",
      " 25  days_in_waiting_list            119390 non-null  int64  \n",
      " 26  customer_type                   119390 non-null  object \n",
      " 27  adr                             119390 non-null  float64\n",
      " 28  required_car_parking_spaces     119390 non-null  int64  \n",
      " 29  total_of_special_requests       119390 non-null  int64  \n",
      " 30  reservation_status              119390 non-null  object \n",
      " 31  reservation_status_date         119390 non-null  object \n",
      "dtypes: float64(4), int64(16), object(12)\n",
      "memory usage: 29.1+ MB\n"
     ]
    }
   ],
   "source": [
    "hotel.info()"
   ]
  },
  {
   "cell_type": "markdown",
   "id": "c1755cd4",
   "metadata": {},
   "source": [
    "### Verify data quality: \n",
    "**Are there missing values? Duplicate data? Outliers? Are those mistakes? How do you deal with these problems?**"
   ]
  },
  {
   "cell_type": "code",
   "execution_count": 7,
   "id": "aecc787a",
   "metadata": {
    "scrolled": true
   },
   "outputs": [
    {
     "data": {
      "text/html": [
       "<div>\n",
       "<style scoped>\n",
       "    .dataframe tbody tr th:only-of-type {\n",
       "        vertical-align: middle;\n",
       "    }\n",
       "\n",
       "    .dataframe tbody tr th {\n",
       "        vertical-align: top;\n",
       "    }\n",
       "\n",
       "    .dataframe thead th {\n",
       "        text-align: right;\n",
       "    }\n",
       "</style>\n",
       "<table border=\"1\" class=\"dataframe\">\n",
       "  <thead>\n",
       "    <tr style=\"text-align: right;\">\n",
       "      <th></th>\n",
       "      <th>Variable Name</th>\n",
       "      <th>Number of Missing Values</th>\n",
       "    </tr>\n",
       "  </thead>\n",
       "  <tbody>\n",
       "    <tr>\n",
       "      <th>24</th>\n",
       "      <td>company</td>\n",
       "      <td>112593</td>\n",
       "    </tr>\n",
       "    <tr>\n",
       "      <th>23</th>\n",
       "      <td>agent</td>\n",
       "      <td>16340</td>\n",
       "    </tr>\n",
       "    <tr>\n",
       "      <th>13</th>\n",
       "      <td>country</td>\n",
       "      <td>488</td>\n",
       "    </tr>\n",
       "    <tr>\n",
       "      <th>10</th>\n",
       "      <td>children</td>\n",
       "      <td>4</td>\n",
       "    </tr>\n",
       "    <tr>\n",
       "      <th>19</th>\n",
       "      <td>reserved_room_type</td>\n",
       "      <td>0</td>\n",
       "    </tr>\n",
       "    <tr>\n",
       "      <th>20</th>\n",
       "      <td>assigned_room_type</td>\n",
       "      <td>0</td>\n",
       "    </tr>\n",
       "    <tr>\n",
       "      <th>21</th>\n",
       "      <td>booking_changes</td>\n",
       "      <td>0</td>\n",
       "    </tr>\n",
       "    <tr>\n",
       "      <th>22</th>\n",
       "      <td>deposit_type</td>\n",
       "      <td>0</td>\n",
       "    </tr>\n",
       "    <tr>\n",
       "      <th>0</th>\n",
       "      <td>hotel</td>\n",
       "      <td>0</td>\n",
       "    </tr>\n",
       "    <tr>\n",
       "      <th>17</th>\n",
       "      <td>previous_cancellations</td>\n",
       "      <td>0</td>\n",
       "    </tr>\n",
       "    <tr>\n",
       "      <th>25</th>\n",
       "      <td>days_in_waiting_list</td>\n",
       "      <td>0</td>\n",
       "    </tr>\n",
       "    <tr>\n",
       "      <th>26</th>\n",
       "      <td>customer_type</td>\n",
       "      <td>0</td>\n",
       "    </tr>\n",
       "    <tr>\n",
       "      <th>27</th>\n",
       "      <td>adr</td>\n",
       "      <td>0</td>\n",
       "    </tr>\n",
       "    <tr>\n",
       "      <th>28</th>\n",
       "      <td>required_car_parking_spaces</td>\n",
       "      <td>0</td>\n",
       "    </tr>\n",
       "    <tr>\n",
       "      <th>29</th>\n",
       "      <td>total_of_special_requests</td>\n",
       "      <td>0</td>\n",
       "    </tr>\n",
       "    <tr>\n",
       "      <th>30</th>\n",
       "      <td>reservation_status</td>\n",
       "      <td>0</td>\n",
       "    </tr>\n",
       "    <tr>\n",
       "      <th>18</th>\n",
       "      <td>previous_bookings_not_canceled</td>\n",
       "      <td>0</td>\n",
       "    </tr>\n",
       "    <tr>\n",
       "      <th>16</th>\n",
       "      <td>is_repeated_guest</td>\n",
       "      <td>0</td>\n",
       "    </tr>\n",
       "    <tr>\n",
       "      <th>1</th>\n",
       "      <td>is_canceled</td>\n",
       "      <td>0</td>\n",
       "    </tr>\n",
       "    <tr>\n",
       "      <th>15</th>\n",
       "      <td>distribution_channel</td>\n",
       "      <td>0</td>\n",
       "    </tr>\n",
       "    <tr>\n",
       "      <th>14</th>\n",
       "      <td>market_segment</td>\n",
       "      <td>0</td>\n",
       "    </tr>\n",
       "    <tr>\n",
       "      <th>12</th>\n",
       "      <td>meal</td>\n",
       "      <td>0</td>\n",
       "    </tr>\n",
       "    <tr>\n",
       "      <th>11</th>\n",
       "      <td>babies</td>\n",
       "      <td>0</td>\n",
       "    </tr>\n",
       "    <tr>\n",
       "      <th>9</th>\n",
       "      <td>adults</td>\n",
       "      <td>0</td>\n",
       "    </tr>\n",
       "    <tr>\n",
       "      <th>8</th>\n",
       "      <td>stays_in_week_nights</td>\n",
       "      <td>0</td>\n",
       "    </tr>\n",
       "    <tr>\n",
       "      <th>7</th>\n",
       "      <td>stays_in_weekend_nights</td>\n",
       "      <td>0</td>\n",
       "    </tr>\n",
       "    <tr>\n",
       "      <th>6</th>\n",
       "      <td>arrival_date_day_of_month</td>\n",
       "      <td>0</td>\n",
       "    </tr>\n",
       "    <tr>\n",
       "      <th>5</th>\n",
       "      <td>arrival_date_week_number</td>\n",
       "      <td>0</td>\n",
       "    </tr>\n",
       "    <tr>\n",
       "      <th>4</th>\n",
       "      <td>arrival_date_month</td>\n",
       "      <td>0</td>\n",
       "    </tr>\n",
       "    <tr>\n",
       "      <th>3</th>\n",
       "      <td>arrival_date_year</td>\n",
       "      <td>0</td>\n",
       "    </tr>\n",
       "    <tr>\n",
       "      <th>2</th>\n",
       "      <td>lead_time</td>\n",
       "      <td>0</td>\n",
       "    </tr>\n",
       "    <tr>\n",
       "      <th>31</th>\n",
       "      <td>reservation_status_date</td>\n",
       "      <td>0</td>\n",
       "    </tr>\n",
       "  </tbody>\n",
       "</table>\n",
       "</div>"
      ],
      "text/plain": [
       "                     Variable Name  Number of Missing Values\n",
       "24                         company                    112593\n",
       "23                           agent                     16340\n",
       "13                         country                       488\n",
       "10                        children                         4\n",
       "19              reserved_room_type                         0\n",
       "20              assigned_room_type                         0\n",
       "21                 booking_changes                         0\n",
       "22                    deposit_type                         0\n",
       "0                            hotel                         0\n",
       "17          previous_cancellations                         0\n",
       "25            days_in_waiting_list                         0\n",
       "26                   customer_type                         0\n",
       "27                             adr                         0\n",
       "28     required_car_parking_spaces                         0\n",
       "29       total_of_special_requests                         0\n",
       "30              reservation_status                         0\n",
       "18  previous_bookings_not_canceled                         0\n",
       "16               is_repeated_guest                         0\n",
       "1                      is_canceled                         0\n",
       "15            distribution_channel                         0\n",
       "14                  market_segment                         0\n",
       "12                            meal                         0\n",
       "11                          babies                         0\n",
       "9                           adults                         0\n",
       "8             stays_in_week_nights                         0\n",
       "7          stays_in_weekend_nights                         0\n",
       "6        arrival_date_day_of_month                         0\n",
       "5         arrival_date_week_number                         0\n",
       "4               arrival_date_month                         0\n",
       "3                arrival_date_year                         0\n",
       "2                        lead_time                         0\n",
       "31         reservation_status_date                         0"
      ]
     },
     "execution_count": 7,
     "metadata": {},
     "output_type": "execute_result"
    }
   ],
   "source": [
    "missing_vals = hotel.isna().sum().reset_index()\n",
    "missing_vals.columns = [\"Variable Name\",\"Number of Missing Values\"]\n",
    "missing_vals.sort_values(by=\"Number of Missing Values\", ascending=False)"
   ]
  },
  {
   "cell_type": "markdown",
   "id": "fea6ea33",
   "metadata": {},
   "source": [
    "- Looking at the missing values, we can see that the categorical variable `company` has 112,593 missing values of the 119,390 instances. So we decided to remove it entirely. \n",
    "\n",
    "Source: https://www.sciencedirect.com/science/article/pii/S2352340918315191\n",
    "\n",
    "- It is important to note that from the data source the NA values are consider as \"Not Applicable\". For example, if a booking “Agent” is defined as “NULL” it means that the booking did not came from a travel agent. \n",
    "\n",
    "- The categorical variable `agent` has over 16340 missing values and `country` has 488 missing values. We removed the `country` variable entirely, because we don't think that it will be a useful predictor in our model. So we decided to drop the subset of NA values for `agent` and `children`. We still wanted to remove the subset of these columns before we do not know where how the customer booked the hotel nor where their country of origin is."
   ]
  },
  {
   "cell_type": "code",
   "execution_count": 8,
   "id": "e4d0c20c",
   "metadata": {},
   "outputs": [],
   "source": [
    "#dropping `company` and `country columns\n",
    "hotel = hotel.drop(columns = [\"company\",\"country\"])"
   ]
  },
  {
   "cell_type": "code",
   "execution_count": 9,
   "id": "58ae0c8e",
   "metadata": {},
   "outputs": [],
   "source": [
    "hotel=hotel.dropna(subset=['agent',\"children\"])"
   ]
  },
  {
   "cell_type": "code",
   "execution_count": 10,
   "id": "9d708e4c",
   "metadata": {
    "scrolled": true
   },
   "outputs": [
    {
     "data": {
      "text/html": [
       "<div>\n",
       "<style scoped>\n",
       "    .dataframe tbody tr th:only-of-type {\n",
       "        vertical-align: middle;\n",
       "    }\n",
       "\n",
       "    .dataframe tbody tr th {\n",
       "        vertical-align: top;\n",
       "    }\n",
       "\n",
       "    .dataframe thead th {\n",
       "        text-align: right;\n",
       "    }\n",
       "</style>\n",
       "<table border=\"1\" class=\"dataframe\">\n",
       "  <thead>\n",
       "    <tr style=\"text-align: right;\">\n",
       "      <th></th>\n",
       "      <th>Variable Name</th>\n",
       "      <th>Number of Missing Values</th>\n",
       "    </tr>\n",
       "  </thead>\n",
       "  <tbody>\n",
       "    <tr>\n",
       "      <th>0</th>\n",
       "      <td>hotel</td>\n",
       "      <td>0</td>\n",
       "    </tr>\n",
       "    <tr>\n",
       "      <th>1</th>\n",
       "      <td>is_canceled</td>\n",
       "      <td>0</td>\n",
       "    </tr>\n",
       "    <tr>\n",
       "      <th>2</th>\n",
       "      <td>lead_time</td>\n",
       "      <td>0</td>\n",
       "    </tr>\n",
       "    <tr>\n",
       "      <th>3</th>\n",
       "      <td>arrival_date_year</td>\n",
       "      <td>0</td>\n",
       "    </tr>\n",
       "    <tr>\n",
       "      <th>4</th>\n",
       "      <td>arrival_date_month</td>\n",
       "      <td>0</td>\n",
       "    </tr>\n",
       "    <tr>\n",
       "      <th>5</th>\n",
       "      <td>arrival_date_week_number</td>\n",
       "      <td>0</td>\n",
       "    </tr>\n",
       "    <tr>\n",
       "      <th>6</th>\n",
       "      <td>arrival_date_day_of_month</td>\n",
       "      <td>0</td>\n",
       "    </tr>\n",
       "    <tr>\n",
       "      <th>7</th>\n",
       "      <td>stays_in_weekend_nights</td>\n",
       "      <td>0</td>\n",
       "    </tr>\n",
       "    <tr>\n",
       "      <th>8</th>\n",
       "      <td>stays_in_week_nights</td>\n",
       "      <td>0</td>\n",
       "    </tr>\n",
       "    <tr>\n",
       "      <th>9</th>\n",
       "      <td>adults</td>\n",
       "      <td>0</td>\n",
       "    </tr>\n",
       "    <tr>\n",
       "      <th>10</th>\n",
       "      <td>children</td>\n",
       "      <td>0</td>\n",
       "    </tr>\n",
       "    <tr>\n",
       "      <th>11</th>\n",
       "      <td>babies</td>\n",
       "      <td>0</td>\n",
       "    </tr>\n",
       "    <tr>\n",
       "      <th>12</th>\n",
       "      <td>meal</td>\n",
       "      <td>0</td>\n",
       "    </tr>\n",
       "    <tr>\n",
       "      <th>13</th>\n",
       "      <td>market_segment</td>\n",
       "      <td>0</td>\n",
       "    </tr>\n",
       "    <tr>\n",
       "      <th>14</th>\n",
       "      <td>distribution_channel</td>\n",
       "      <td>0</td>\n",
       "    </tr>\n",
       "    <tr>\n",
       "      <th>15</th>\n",
       "      <td>is_repeated_guest</td>\n",
       "      <td>0</td>\n",
       "    </tr>\n",
       "    <tr>\n",
       "      <th>16</th>\n",
       "      <td>previous_cancellations</td>\n",
       "      <td>0</td>\n",
       "    </tr>\n",
       "    <tr>\n",
       "      <th>17</th>\n",
       "      <td>previous_bookings_not_canceled</td>\n",
       "      <td>0</td>\n",
       "    </tr>\n",
       "    <tr>\n",
       "      <th>18</th>\n",
       "      <td>reserved_room_type</td>\n",
       "      <td>0</td>\n",
       "    </tr>\n",
       "    <tr>\n",
       "      <th>19</th>\n",
       "      <td>assigned_room_type</td>\n",
       "      <td>0</td>\n",
       "    </tr>\n",
       "    <tr>\n",
       "      <th>20</th>\n",
       "      <td>booking_changes</td>\n",
       "      <td>0</td>\n",
       "    </tr>\n",
       "    <tr>\n",
       "      <th>21</th>\n",
       "      <td>deposit_type</td>\n",
       "      <td>0</td>\n",
       "    </tr>\n",
       "    <tr>\n",
       "      <th>22</th>\n",
       "      <td>agent</td>\n",
       "      <td>0</td>\n",
       "    </tr>\n",
       "    <tr>\n",
       "      <th>23</th>\n",
       "      <td>days_in_waiting_list</td>\n",
       "      <td>0</td>\n",
       "    </tr>\n",
       "    <tr>\n",
       "      <th>24</th>\n",
       "      <td>customer_type</td>\n",
       "      <td>0</td>\n",
       "    </tr>\n",
       "    <tr>\n",
       "      <th>25</th>\n",
       "      <td>adr</td>\n",
       "      <td>0</td>\n",
       "    </tr>\n",
       "    <tr>\n",
       "      <th>26</th>\n",
       "      <td>required_car_parking_spaces</td>\n",
       "      <td>0</td>\n",
       "    </tr>\n",
       "    <tr>\n",
       "      <th>27</th>\n",
       "      <td>total_of_special_requests</td>\n",
       "      <td>0</td>\n",
       "    </tr>\n",
       "    <tr>\n",
       "      <th>28</th>\n",
       "      <td>reservation_status</td>\n",
       "      <td>0</td>\n",
       "    </tr>\n",
       "    <tr>\n",
       "      <th>29</th>\n",
       "      <td>reservation_status_date</td>\n",
       "      <td>0</td>\n",
       "    </tr>\n",
       "  </tbody>\n",
       "</table>\n",
       "</div>"
      ],
      "text/plain": [
       "                     Variable Name  Number of Missing Values\n",
       "0                            hotel                         0\n",
       "1                      is_canceled                         0\n",
       "2                        lead_time                         0\n",
       "3                arrival_date_year                         0\n",
       "4               arrival_date_month                         0\n",
       "5         arrival_date_week_number                         0\n",
       "6        arrival_date_day_of_month                         0\n",
       "7          stays_in_weekend_nights                         0\n",
       "8             stays_in_week_nights                         0\n",
       "9                           adults                         0\n",
       "10                        children                         0\n",
       "11                          babies                         0\n",
       "12                            meal                         0\n",
       "13                  market_segment                         0\n",
       "14            distribution_channel                         0\n",
       "15               is_repeated_guest                         0\n",
       "16          previous_cancellations                         0\n",
       "17  previous_bookings_not_canceled                         0\n",
       "18              reserved_room_type                         0\n",
       "19              assigned_room_type                         0\n",
       "20                 booking_changes                         0\n",
       "21                    deposit_type                         0\n",
       "22                           agent                         0\n",
       "23            days_in_waiting_list                         0\n",
       "24                   customer_type                         0\n",
       "25                             adr                         0\n",
       "26     required_car_parking_spaces                         0\n",
       "27       total_of_special_requests                         0\n",
       "28              reservation_status                         0\n",
       "29         reservation_status_date                         0"
      ]
     },
     "execution_count": 10,
     "metadata": {},
     "output_type": "execute_result"
    }
   ],
   "source": [
    "no_missing_vals = hotel.isna().sum().reset_index()\n",
    "no_missing_vals.columns = [\"Variable Name\",\"Number of Missing Values\"]\n",
    "no_missing_vals"
   ]
  },
  {
   "cell_type": "markdown",
   "id": "fe136733",
   "metadata": {},
   "source": [
    "Looking at the duplicates, we are not worried about duplicates because of the nature of the dataset. Each instance shows us when a booking resulted in a cancellation or not. The data source did not mention anything about duplicate in the dataset. "
   ]
  },
  {
   "cell_type": "markdown",
   "id": "895e0d04",
   "metadata": {},
   "source": [
    "### Looking at outliers:"
   ]
  },
  {
   "cell_type": "code",
   "execution_count": 11,
   "id": "17a5f0c1",
   "metadata": {
    "scrolled": true
   },
   "outputs": [
    {
     "data": {
      "text/html": [
       "<div>\n",
       "<style scoped>\n",
       "    .dataframe tbody tr th:only-of-type {\n",
       "        vertical-align: middle;\n",
       "    }\n",
       "\n",
       "    .dataframe tbody tr th {\n",
       "        vertical-align: top;\n",
       "    }\n",
       "\n",
       "    .dataframe thead th {\n",
       "        text-align: right;\n",
       "    }\n",
       "</style>\n",
       "<table border=\"1\" class=\"dataframe\">\n",
       "  <thead>\n",
       "    <tr style=\"text-align: right;\">\n",
       "      <th></th>\n",
       "      <th>is_canceled</th>\n",
       "      <th>lead_time</th>\n",
       "      <th>arrival_date_year</th>\n",
       "      <th>arrival_date_week_number</th>\n",
       "      <th>arrival_date_day_of_month</th>\n",
       "      <th>stays_in_weekend_nights</th>\n",
       "      <th>stays_in_week_nights</th>\n",
       "      <th>adults</th>\n",
       "      <th>children</th>\n",
       "      <th>babies</th>\n",
       "      <th>is_repeated_guest</th>\n",
       "      <th>previous_cancellations</th>\n",
       "      <th>previous_bookings_not_canceled</th>\n",
       "      <th>booking_changes</th>\n",
       "      <th>agent</th>\n",
       "      <th>days_in_waiting_list</th>\n",
       "      <th>adr</th>\n",
       "      <th>required_car_parking_spaces</th>\n",
       "      <th>total_of_special_requests</th>\n",
       "    </tr>\n",
       "  </thead>\n",
       "  <tbody>\n",
       "    <tr>\n",
       "      <th>count</th>\n",
       "      <td>103048.000000</td>\n",
       "      <td>103048.000000</td>\n",
       "      <td>103048.000000</td>\n",
       "      <td>103048.000000</td>\n",
       "      <td>103048.000000</td>\n",
       "      <td>103048.000000</td>\n",
       "      <td>103048.000000</td>\n",
       "      <td>103048.000000</td>\n",
       "      <td>103048.000000</td>\n",
       "      <td>103048.000000</td>\n",
       "      <td>103048.000000</td>\n",
       "      <td>103048.000000</td>\n",
       "      <td>103048.000000</td>\n",
       "      <td>103048.000000</td>\n",
       "      <td>103048.000000</td>\n",
       "      <td>103048.000000</td>\n",
       "      <td>103048.000000</td>\n",
       "      <td>103048.000000</td>\n",
       "      <td>103048.000000</td>\n",
       "    </tr>\n",
       "    <tr>\n",
       "      <th>mean</th>\n",
       "      <td>0.390032</td>\n",
       "      <td>111.674336</td>\n",
       "      <td>2016.156510</td>\n",
       "      <td>27.339327</td>\n",
       "      <td>15.784198</td>\n",
       "      <td>0.977874</td>\n",
       "      <td>2.589337</td>\n",
       "      <td>1.899464</td>\n",
       "      <td>0.111142</td>\n",
       "      <td>0.007686</td>\n",
       "      <td>0.014023</td>\n",
       "      <td>0.077216</td>\n",
       "      <td>0.024862</td>\n",
       "      <td>0.201702</td>\n",
       "      <td>86.694841</td>\n",
       "      <td>2.615665</td>\n",
       "      <td>104.619980</td>\n",
       "      <td>0.053218</td>\n",
       "      <td>0.605368</td>\n",
       "    </tr>\n",
       "    <tr>\n",
       "      <th>std</th>\n",
       "      <td>0.487759</td>\n",
       "      <td>107.671506</td>\n",
       "      <td>0.706216</td>\n",
       "      <td>13.285300</td>\n",
       "      <td>8.794013</td>\n",
       "      <td>1.003935</td>\n",
       "      <td>1.905763</td>\n",
       "      <td>0.491057</td>\n",
       "      <td>0.411817</td>\n",
       "      <td>0.097017</td>\n",
       "      <td>0.117584</td>\n",
       "      <td>0.757689</td>\n",
       "      <td>0.436639</td>\n",
       "      <td>0.624797</td>\n",
       "      <td>110.775127</td>\n",
       "      <td>18.783661</td>\n",
       "      <td>50.034041</td>\n",
       "      <td>0.225719</td>\n",
       "      <td>0.799222</td>\n",
       "    </tr>\n",
       "    <tr>\n",
       "      <th>min</th>\n",
       "      <td>0.000000</td>\n",
       "      <td>0.000000</td>\n",
       "      <td>2015.000000</td>\n",
       "      <td>1.000000</td>\n",
       "      <td>1.000000</td>\n",
       "      <td>0.000000</td>\n",
       "      <td>0.000000</td>\n",
       "      <td>0.000000</td>\n",
       "      <td>0.000000</td>\n",
       "      <td>0.000000</td>\n",
       "      <td>0.000000</td>\n",
       "      <td>0.000000</td>\n",
       "      <td>0.000000</td>\n",
       "      <td>0.000000</td>\n",
       "      <td>1.000000</td>\n",
       "      <td>0.000000</td>\n",
       "      <td>-6.380000</td>\n",
       "      <td>0.000000</td>\n",
       "      <td>0.000000</td>\n",
       "    </tr>\n",
       "    <tr>\n",
       "      <th>25%</th>\n",
       "      <td>0.000000</td>\n",
       "      <td>26.000000</td>\n",
       "      <td>2016.000000</td>\n",
       "      <td>17.000000</td>\n",
       "      <td>8.000000</td>\n",
       "      <td>0.000000</td>\n",
       "      <td>1.000000</td>\n",
       "      <td>2.000000</td>\n",
       "      <td>0.000000</td>\n",
       "      <td>0.000000</td>\n",
       "      <td>0.000000</td>\n",
       "      <td>0.000000</td>\n",
       "      <td>0.000000</td>\n",
       "      <td>0.000000</td>\n",
       "      <td>9.000000</td>\n",
       "      <td>0.000000</td>\n",
       "      <td>72.800000</td>\n",
       "      <td>0.000000</td>\n",
       "      <td>0.000000</td>\n",
       "    </tr>\n",
       "    <tr>\n",
       "      <th>50%</th>\n",
       "      <td>0.000000</td>\n",
       "      <td>79.000000</td>\n",
       "      <td>2016.000000</td>\n",
       "      <td>28.000000</td>\n",
       "      <td>16.000000</td>\n",
       "      <td>1.000000</td>\n",
       "      <td>2.000000</td>\n",
       "      <td>2.000000</td>\n",
       "      <td>0.000000</td>\n",
       "      <td>0.000000</td>\n",
       "      <td>0.000000</td>\n",
       "      <td>0.000000</td>\n",
       "      <td>0.000000</td>\n",
       "      <td>0.000000</td>\n",
       "      <td>14.000000</td>\n",
       "      <td>0.000000</td>\n",
       "      <td>96.300000</td>\n",
       "      <td>0.000000</td>\n",
       "      <td>0.000000</td>\n",
       "    </tr>\n",
       "    <tr>\n",
       "      <th>75%</th>\n",
       "      <td>1.000000</td>\n",
       "      <td>169.000000</td>\n",
       "      <td>2017.000000</td>\n",
       "      <td>38.000000</td>\n",
       "      <td>24.000000</td>\n",
       "      <td>2.000000</td>\n",
       "      <td>3.000000</td>\n",
       "      <td>2.000000</td>\n",
       "      <td>0.000000</td>\n",
       "      <td>0.000000</td>\n",
       "      <td>0.000000</td>\n",
       "      <td>0.000000</td>\n",
       "      <td>0.000000</td>\n",
       "      <td>0.000000</td>\n",
       "      <td>229.000000</td>\n",
       "      <td>0.000000</td>\n",
       "      <td>127.800000</td>\n",
       "      <td>0.000000</td>\n",
       "      <td>1.000000</td>\n",
       "    </tr>\n",
       "    <tr>\n",
       "      <th>max</th>\n",
       "      <td>1.000000</td>\n",
       "      <td>629.000000</td>\n",
       "      <td>2017.000000</td>\n",
       "      <td>53.000000</td>\n",
       "      <td>31.000000</td>\n",
       "      <td>16.000000</td>\n",
       "      <td>41.000000</td>\n",
       "      <td>26.000000</td>\n",
       "      <td>10.000000</td>\n",
       "      <td>10.000000</td>\n",
       "      <td>1.000000</td>\n",
       "      <td>26.000000</td>\n",
       "      <td>50.000000</td>\n",
       "      <td>18.000000</td>\n",
       "      <td>535.000000</td>\n",
       "      <td>391.000000</td>\n",
       "      <td>5400.000000</td>\n",
       "      <td>3.000000</td>\n",
       "      <td>5.000000</td>\n",
       "    </tr>\n",
       "  </tbody>\n",
       "</table>\n",
       "</div>"
      ],
      "text/plain": [
       "         is_canceled      lead_time  arrival_date_year  \\\n",
       "count  103048.000000  103048.000000      103048.000000   \n",
       "mean        0.390032     111.674336        2016.156510   \n",
       "std         0.487759     107.671506           0.706216   \n",
       "min         0.000000       0.000000        2015.000000   \n",
       "25%         0.000000      26.000000        2016.000000   \n",
       "50%         0.000000      79.000000        2016.000000   \n",
       "75%         1.000000     169.000000        2017.000000   \n",
       "max         1.000000     629.000000        2017.000000   \n",
       "\n",
       "       arrival_date_week_number  arrival_date_day_of_month  \\\n",
       "count             103048.000000              103048.000000   \n",
       "mean                  27.339327                  15.784198   \n",
       "std                   13.285300                   8.794013   \n",
       "min                    1.000000                   1.000000   \n",
       "25%                   17.000000                   8.000000   \n",
       "50%                   28.000000                  16.000000   \n",
       "75%                   38.000000                  24.000000   \n",
       "max                   53.000000                  31.000000   \n",
       "\n",
       "       stays_in_weekend_nights  stays_in_week_nights         adults  \\\n",
       "count            103048.000000         103048.000000  103048.000000   \n",
       "mean                  0.977874              2.589337       1.899464   \n",
       "std                   1.003935              1.905763       0.491057   \n",
       "min                   0.000000              0.000000       0.000000   \n",
       "25%                   0.000000              1.000000       2.000000   \n",
       "50%                   1.000000              2.000000       2.000000   \n",
       "75%                   2.000000              3.000000       2.000000   \n",
       "max                  16.000000             41.000000      26.000000   \n",
       "\n",
       "            children         babies  is_repeated_guest  \\\n",
       "count  103048.000000  103048.000000      103048.000000   \n",
       "mean        0.111142       0.007686           0.014023   \n",
       "std         0.411817       0.097017           0.117584   \n",
       "min         0.000000       0.000000           0.000000   \n",
       "25%         0.000000       0.000000           0.000000   \n",
       "50%         0.000000       0.000000           0.000000   \n",
       "75%         0.000000       0.000000           0.000000   \n",
       "max        10.000000      10.000000           1.000000   \n",
       "\n",
       "       previous_cancellations  previous_bookings_not_canceled  \\\n",
       "count           103048.000000                   103048.000000   \n",
       "mean                 0.077216                        0.024862   \n",
       "std                  0.757689                        0.436639   \n",
       "min                  0.000000                        0.000000   \n",
       "25%                  0.000000                        0.000000   \n",
       "50%                  0.000000                        0.000000   \n",
       "75%                  0.000000                        0.000000   \n",
       "max                 26.000000                       50.000000   \n",
       "\n",
       "       booking_changes          agent  days_in_waiting_list            adr  \\\n",
       "count    103048.000000  103048.000000         103048.000000  103048.000000   \n",
       "mean          0.201702      86.694841              2.615665     104.619980   \n",
       "std           0.624797     110.775127             18.783661      50.034041   \n",
       "min           0.000000       1.000000              0.000000      -6.380000   \n",
       "25%           0.000000       9.000000              0.000000      72.800000   \n",
       "50%           0.000000      14.000000              0.000000      96.300000   \n",
       "75%           0.000000     229.000000              0.000000     127.800000   \n",
       "max          18.000000     535.000000            391.000000    5400.000000   \n",
       "\n",
       "       required_car_parking_spaces  total_of_special_requests  \n",
       "count                103048.000000              103048.000000  \n",
       "mean                      0.053218                   0.605368  \n",
       "std                       0.225719                   0.799222  \n",
       "min                       0.000000                   0.000000  \n",
       "25%                       0.000000                   0.000000  \n",
       "50%                       0.000000                   0.000000  \n",
       "75%                       0.000000                   1.000000  \n",
       "max                       3.000000                   5.000000  "
      ]
     },
     "execution_count": 11,
     "metadata": {},
     "output_type": "execute_result"
    }
   ],
   "source": [
    "hotel.describe()"
   ]
  },
  {
   "cell_type": "code",
   "execution_count": 12,
   "id": "e4b57f11",
   "metadata": {},
   "outputs": [],
   "source": [
    "hotel = hotel[hotel.adr != 5400]\n",
    "hotel = hotel[hotel.adr != -6.38]\n",
    "hotel = hotel[hotel.previous_bookings_not_canceled != 50]\n",
    "hotel = hotel[hotel.days_in_waiting_list != 391]\n",
    "hotel = hotel[hotel.previous_cancellations != 26]\n",
    "hotel = hotel[hotel.adults != 26]\n",
    "hotel = hotel[hotel.children != 10]\n",
    "hotel = hotel[hotel.babies != 10]"
   ]
  },
  {
   "cell_type": "code",
   "execution_count": 13,
   "id": "7c9d0951",
   "metadata": {},
   "outputs": [
    {
     "data": {
      "text/plain": [
       "<AxesSubplot:>"
      ]
     },
     "execution_count": 13,
     "metadata": {},
     "output_type": "execute_result"
    },
    {
     "data": {
      "image/png": "[encoded data removed]",
      "text/plain": [
       "<Figure size 432x288 with 1 Axes>"
      ]
     },
     "metadata": {},
     "output_type": "display_data"
    }
   ],
   "source": [
    "df = pd.DataFrame(data = hotel, columns = ['previous_cancellations', 'previous_bookings_not_canceled', 'adr','stays_in_week_nights', 'adults', 'children'])\n",
    "df.boxplot()"
   ]
  },
  {
   "cell_type": "code",
   "execution_count": 14,
   "id": "2d6f6678",
   "metadata": {},
   "outputs": [
    {
     "data": {
      "text/html": [
       "<div>\n",
       "<style scoped>\n",
       "    .dataframe tbody tr th:only-of-type {\n",
       "        vertical-align: middle;\n",
       "    }\n",
       "\n",
       "    .dataframe tbody tr th {\n",
       "        vertical-align: top;\n",
       "    }\n",
       "\n",
       "    .dataframe thead th {\n",
       "        text-align: right;\n",
       "    }\n",
       "</style>\n",
       "<table border=\"1\" class=\"dataframe\">\n",
       "  <thead>\n",
       "    <tr style=\"text-align: right;\">\n",
       "      <th></th>\n",
       "      <th>is_canceled</th>\n",
       "      <th>lead_time</th>\n",
       "      <th>arrival_date_year</th>\n",
       "      <th>arrival_date_week_number</th>\n",
       "      <th>arrival_date_day_of_month</th>\n",
       "      <th>stays_in_weekend_nights</th>\n",
       "      <th>stays_in_week_nights</th>\n",
       "      <th>adults</th>\n",
       "      <th>children</th>\n",
       "      <th>babies</th>\n",
       "      <th>is_repeated_guest</th>\n",
       "      <th>previous_cancellations</th>\n",
       "      <th>previous_bookings_not_canceled</th>\n",
       "      <th>booking_changes</th>\n",
       "      <th>agent</th>\n",
       "      <th>days_in_waiting_list</th>\n",
       "      <th>adr</th>\n",
       "      <th>required_car_parking_spaces</th>\n",
       "      <th>total_of_special_requests</th>\n",
       "    </tr>\n",
       "  </thead>\n",
       "  <tbody>\n",
       "    <tr>\n",
       "      <th>count</th>\n",
       "      <td>102967.000000</td>\n",
       "      <td>102967.000000</td>\n",
       "      <td>102967.000000</td>\n",
       "      <td>102967.000000</td>\n",
       "      <td>102967.000000</td>\n",
       "      <td>102967.000000</td>\n",
       "      <td>102967.000000</td>\n",
       "      <td>102967.000000</td>\n",
       "      <td>102967.000000</td>\n",
       "      <td>102967.000000</td>\n",
       "      <td>102967.000000</td>\n",
       "      <td>102967.000000</td>\n",
       "      <td>102967.000000</td>\n",
       "      <td>102967.000000</td>\n",
       "      <td>102967.000000</td>\n",
       "      <td>102967.000000</td>\n",
       "      <td>102967.000000</td>\n",
       "      <td>102967.000000</td>\n",
       "      <td>102967.000000</td>\n",
       "    </tr>\n",
       "    <tr>\n",
       "      <th>mean</th>\n",
       "      <td>0.389581</td>\n",
       "      <td>111.473997</td>\n",
       "      <td>2016.156934</td>\n",
       "      <td>27.329018</td>\n",
       "      <td>15.786271</td>\n",
       "      <td>0.977944</td>\n",
       "      <td>2.590014</td>\n",
       "      <td>1.898230</td>\n",
       "      <td>0.111133</td>\n",
       "      <td>0.007595</td>\n",
       "      <td>0.014014</td>\n",
       "      <td>0.070663</td>\n",
       "      <td>0.024377</td>\n",
       "      <td>0.201744</td>\n",
       "      <td>86.702099</td>\n",
       "      <td>2.446842</td>\n",
       "      <td>104.606121</td>\n",
       "      <td>0.053260</td>\n",
       "      <td>0.605825</td>\n",
       "    </tr>\n",
       "    <tr>\n",
       "      <th>std</th>\n",
       "      <td>0.487658</td>\n",
       "      <td>107.429228</td>\n",
       "      <td>0.706187</td>\n",
       "      <td>13.284131</td>\n",
       "      <td>8.792920</td>\n",
       "      <td>1.003862</td>\n",
       "      <td>1.905747</td>\n",
       "      <td>0.461633</td>\n",
       "      <td>0.410813</td>\n",
       "      <td>0.091924</td>\n",
       "      <td>0.117550</td>\n",
       "      <td>0.636065</td>\n",
       "      <td>0.408056</td>\n",
       "      <td>0.624900</td>\n",
       "      <td>110.785023</td>\n",
       "      <td>16.945466</td>\n",
       "      <td>47.232655</td>\n",
       "      <td>0.225803</td>\n",
       "      <td>0.799359</td>\n",
       "    </tr>\n",
       "    <tr>\n",
       "      <th>min</th>\n",
       "      <td>0.000000</td>\n",
       "      <td>0.000000</td>\n",
       "      <td>2015.000000</td>\n",
       "      <td>1.000000</td>\n",
       "      <td>1.000000</td>\n",
       "      <td>0.000000</td>\n",
       "      <td>0.000000</td>\n",
       "      <td>0.000000</td>\n",
       "      <td>0.000000</td>\n",
       "      <td>0.000000</td>\n",
       "      <td>0.000000</td>\n",
       "      <td>0.000000</td>\n",
       "      <td>0.000000</td>\n",
       "      <td>0.000000</td>\n",
       "      <td>1.000000</td>\n",
       "      <td>0.000000</td>\n",
       "      <td>0.000000</td>\n",
       "      <td>0.000000</td>\n",
       "      <td>0.000000</td>\n",
       "    </tr>\n",
       "    <tr>\n",
       "      <th>25%</th>\n",
       "      <td>0.000000</td>\n",
       "      <td>26.000000</td>\n",
       "      <td>2016.000000</td>\n",
       "      <td>17.000000</td>\n",
       "      <td>8.000000</td>\n",
       "      <td>0.000000</td>\n",
       "      <td>1.000000</td>\n",
       "      <td>2.000000</td>\n",
       "      <td>0.000000</td>\n",
       "      <td>0.000000</td>\n",
       "      <td>0.000000</td>\n",
       "      <td>0.000000</td>\n",
       "      <td>0.000000</td>\n",
       "      <td>0.000000</td>\n",
       "      <td>9.000000</td>\n",
       "      <td>0.000000</td>\n",
       "      <td>72.990000</td>\n",
       "      <td>0.000000</td>\n",
       "      <td>0.000000</td>\n",
       "    </tr>\n",
       "    <tr>\n",
       "      <th>50%</th>\n",
       "      <td>0.000000</td>\n",
       "      <td>79.000000</td>\n",
       "      <td>2016.000000</td>\n",
       "      <td>28.000000</td>\n",
       "      <td>16.000000</td>\n",
       "      <td>1.000000</td>\n",
       "      <td>2.000000</td>\n",
       "      <td>2.000000</td>\n",
       "      <td>0.000000</td>\n",
       "      <td>0.000000</td>\n",
       "      <td>0.000000</td>\n",
       "      <td>0.000000</td>\n",
       "      <td>0.000000</td>\n",
       "      <td>0.000000</td>\n",
       "      <td>14.000000</td>\n",
       "      <td>0.000000</td>\n",
       "      <td>96.300000</td>\n",
       "      <td>0.000000</td>\n",
       "      <td>0.000000</td>\n",
       "    </tr>\n",
       "    <tr>\n",
       "      <th>75%</th>\n",
       "      <td>1.000000</td>\n",
       "      <td>168.000000</td>\n",
       "      <td>2017.000000</td>\n",
       "      <td>38.000000</td>\n",
       "      <td>24.000000</td>\n",
       "      <td>2.000000</td>\n",
       "      <td>3.000000</td>\n",
       "      <td>2.000000</td>\n",
       "      <td>0.000000</td>\n",
       "      <td>0.000000</td>\n",
       "      <td>0.000000</td>\n",
       "      <td>0.000000</td>\n",
       "      <td>0.000000</td>\n",
       "      <td>0.000000</td>\n",
       "      <td>229.000000</td>\n",
       "      <td>0.000000</td>\n",
       "      <td>127.800000</td>\n",
       "      <td>0.000000</td>\n",
       "      <td>1.000000</td>\n",
       "    </tr>\n",
       "    <tr>\n",
       "      <th>max</th>\n",
       "      <td>1.000000</td>\n",
       "      <td>629.000000</td>\n",
       "      <td>2017.000000</td>\n",
       "      <td>53.000000</td>\n",
       "      <td>31.000000</td>\n",
       "      <td>16.000000</td>\n",
       "      <td>41.000000</td>\n",
       "      <td>4.000000</td>\n",
       "      <td>3.000000</td>\n",
       "      <td>9.000000</td>\n",
       "      <td>1.000000</td>\n",
       "      <td>25.000000</td>\n",
       "      <td>25.000000</td>\n",
       "      <td>18.000000</td>\n",
       "      <td>535.000000</td>\n",
       "      <td>379.000000</td>\n",
       "      <td>510.000000</td>\n",
       "      <td>3.000000</td>\n",
       "      <td>5.000000</td>\n",
       "    </tr>\n",
       "  </tbody>\n",
       "</table>\n",
       "</div>"
      ],
      "text/plain": [
       "         is_canceled      lead_time  arrival_date_year  \\\n",
       "count  102967.000000  102967.000000      102967.000000   \n",
       "mean        0.389581     111.473997        2016.156934   \n",
       "std         0.487658     107.429228           0.706187   \n",
       "min         0.000000       0.000000        2015.000000   \n",
       "25%         0.000000      26.000000        2016.000000   \n",
       "50%         0.000000      79.000000        2016.000000   \n",
       "75%         1.000000     168.000000        2017.000000   \n",
       "max         1.000000     629.000000        2017.000000   \n",
       "\n",
       "       arrival_date_week_number  arrival_date_day_of_month  \\\n",
       "count             102967.000000              102967.000000   \n",
       "mean                  27.329018                  15.786271   \n",
       "std                   13.284131                   8.792920   \n",
       "min                    1.000000                   1.000000   \n",
       "25%                   17.000000                   8.000000   \n",
       "50%                   28.000000                  16.000000   \n",
       "75%                   38.000000                  24.000000   \n",
       "max                   53.000000                  31.000000   \n",
       "\n",
       "       stays_in_weekend_nights  stays_in_week_nights         adults  \\\n",
       "count            102967.000000         102967.000000  102967.000000   \n",
       "mean                  0.977944              2.590014       1.898230   \n",
       "std                   1.003862              1.905747       0.461633   \n",
       "min                   0.000000              0.000000       0.000000   \n",
       "25%                   0.000000              1.000000       2.000000   \n",
       "50%                   1.000000              2.000000       2.000000   \n",
       "75%                   2.000000              3.000000       2.000000   \n",
       "max                  16.000000             41.000000       4.000000   \n",
       "\n",
       "            children         babies  is_repeated_guest  \\\n",
       "count  102967.000000  102967.000000      102967.000000   \n",
       "mean        0.111133       0.007595           0.014014   \n",
       "std         0.410813       0.091924           0.117550   \n",
       "min         0.000000       0.000000           0.000000   \n",
       "25%         0.000000       0.000000           0.000000   \n",
       "50%         0.000000       0.000000           0.000000   \n",
       "75%         0.000000       0.000000           0.000000   \n",
       "max         3.000000       9.000000           1.000000   \n",
       "\n",
       "       previous_cancellations  previous_bookings_not_canceled  \\\n",
       "count           102967.000000                   102967.000000   \n",
       "mean                 0.070663                        0.024377   \n",
       "std                  0.636065                        0.408056   \n",
       "min                  0.000000                        0.000000   \n",
       "25%                  0.000000                        0.000000   \n",
       "50%                  0.000000                        0.000000   \n",
       "75%                  0.000000                        0.000000   \n",
       "max                 25.000000                       25.000000   \n",
       "\n",
       "       booking_changes          agent  days_in_waiting_list            adr  \\\n",
       "count    102967.000000  102967.000000         102967.000000  102967.000000   \n",
       "mean          0.201744      86.702099              2.446842     104.606121   \n",
       "std           0.624900     110.785023             16.945466      47.232655   \n",
       "min           0.000000       1.000000              0.000000       0.000000   \n",
       "25%           0.000000       9.000000              0.000000      72.990000   \n",
       "50%           0.000000      14.000000              0.000000      96.300000   \n",
       "75%           0.000000     229.000000              0.000000     127.800000   \n",
       "max          18.000000     535.000000            379.000000     510.000000   \n",
       "\n",
       "       required_car_parking_spaces  total_of_special_requests  \n",
       "count                102967.000000              102967.000000  \n",
       "mean                      0.053260                   0.605825  \n",
       "std                       0.225803                   0.799359  \n",
       "min                       0.000000                   0.000000  \n",
       "25%                       0.000000                   0.000000  \n",
       "50%                       0.000000                   0.000000  \n",
       "75%                       0.000000                   1.000000  \n",
       "max                       3.000000                   5.000000  "
      ]
     },
     "execution_count": 14,
     "metadata": {},
     "output_type": "execute_result"
    }
   ],
   "source": [
    "hotel.describe()"
   ]
  },
  {
   "cell_type": "markdown",
   "id": "c7b6cc8b",
   "metadata": {},
   "source": [
    "# Incomplete:\n",
    "There are certainly some outliers such as... number of adults etc."
   ]
  },
  {
   "cell_type": "code",
   "execution_count": 15,
   "id": "fd0ca563",
   "metadata": {},
   "outputs": [
    {
     "data": {
      "text/html": [
       "<div>\n",
       "<style scoped>\n",
       "    .dataframe tbody tr th:only-of-type {\n",
       "        vertical-align: middle;\n",
       "    }\n",
       "\n",
       "    .dataframe tbody tr th {\n",
       "        vertical-align: top;\n",
       "    }\n",
       "\n",
       "    .dataframe thead th {\n",
       "        text-align: right;\n",
       "    }\n",
       "</style>\n",
       "<table border=\"1\" class=\"dataframe\">\n",
       "  <thead>\n",
       "    <tr style=\"text-align: right;\">\n",
       "      <th></th>\n",
       "      <th>index</th>\n",
       "      <th>is_canceled</th>\n",
       "    </tr>\n",
       "  </thead>\n",
       "  <tbody>\n",
       "    <tr>\n",
       "      <th>0</th>\n",
       "      <td>0</td>\n",
       "      <td>62853</td>\n",
       "    </tr>\n",
       "    <tr>\n",
       "      <th>1</th>\n",
       "      <td>1</td>\n",
       "      <td>40114</td>\n",
       "    </tr>\n",
       "  </tbody>\n",
       "</table>\n",
       "</div>"
      ],
      "text/plain": [
       "   index  is_canceled\n",
       "0      0        62853\n",
       "1      1        40114"
      ]
     },
     "execution_count": 15,
     "metadata": {},
     "output_type": "execute_result"
    }
   ],
   "source": [
    "hotel[\"is_canceled\"].value_counts().reset_index().sort_values(by=\"is_canceled\",ascending=False)"
   ]
  },
  {
   "cell_type": "markdown",
   "id": "834b534f",
   "metadata": {},
   "source": [
    "# Data Understanding 2\n",
    "\n",
    "Visualize the any important attributes appropriately. Important: Provide an interpretation for any charts or graphs."
   ]
  },
  {
   "cell_type": "markdown",
   "id": "f91f14ae",
   "metadata": {},
   "source": [
    "## What type of hotel has more bookings?"
   ]
  },
  {
   "cell_type": "code",
   "execution_count": 13,
   "id": "537174e4",
   "metadata": {},
   "outputs": [
    {
     "data": {
      "image/png": "[encoded data removed]",
      "text/plain": [
       "<Figure size 360x288 with 1 Axes>"
      ]
     },
     "metadata": {},
     "output_type": "display_data"
    }
   ],
   "source": [
    "# Count for both hotel types\n",
    "sns.set(style = \"darkgrid\")\n",
    "plt.figure(figsize=(5,4))\n",
    "plt.title('Hotel Type', fontdict = {'fontsize': 15})\n",
    "sns.countplot(data=hotel, x = 'hotel')\n",
    "plt.show()"
   ]
  },
  {
   "cell_type": "markdown",
   "id": "f4e86ce9",
   "metadata": {},
   "source": [
    "From the graph above, majority of the bookings were made in city hotels. This could be because city hotels tend to be cheaper, everything is more accessible for individuals or small groups of visitors. Resort prices could reduce the price to increase bookings."
   ]
  },
  {
   "cell_type": "markdown",
   "id": "78a37276",
   "metadata": {},
   "source": [
    "## Which are the most busy months?"
   ]
  },
  {
   "cell_type": "code",
   "execution_count": 16,
   "id": "d4764f5a",
   "metadata": {
    "scrolled": false
   },
   "outputs": [
    {
     "data": {
      "text/plain": [
       "Text(0, 0.5, 'Count')"
      ]
     },
     "execution_count": 16,
     "metadata": {},
     "output_type": "execute_result"
    },
    {
     "data": {
      "image/png": "[encoded data removed]",
      "text/plain": [
       "<Figure size 1440x360 with 1 Axes>"
      ]
     },
     "metadata": {},
     "output_type": "display_data"
    }
   ],
   "source": [
    "#Which are the most busy months?\n",
    "plt.figure(figsize=(20,5))\n",
    "\n",
    "# data we will use in a list\n",
    "l2 = ['hotel','arrival_date_month']\n",
    "\n",
    "# plotting\n",
    "sns.countplot(data = hotel[l2],x= \"arrival_date_month\",hue=\"hotel\",order=[\"January\",\"February\",\"March\",\"April\",\"May\",\"June\",\n",
    "                                                                              \"July\",\"August\",\"September\",\"October\",\"November\",\"December\"]).set_title(\n",
    "'Visualization of Number of Visitors Each Month')\n",
    "plt.xlabel('Month')\n",
    "plt.ylabel('Count')"
   ]
  },
  {
   "cell_type": "markdown",
   "id": "c28a4d33",
   "metadata": {},
   "source": [
    "From the graph above, we can see that August is the busiest month for both City hotels and Resort hotels whereas bookings are lowest during January for both types of hotels. This could be because of weather conditions as people prefer going for vacation during more comfortable seasons such as Spring or Summer and not during Winter."
   ]
  },
  {
   "cell_type": "markdown",
   "id": "b50b31d2",
   "metadata": {},
   "source": [
    "## Cancellation rates in the two types of hotels"
   ]
  },
  {
   "cell_type": "code",
   "execution_count": 15,
   "id": "f4c4c62d",
   "metadata": {
    "scrolled": true
   },
   "outputs": [
    {
     "name": "stderr",
     "output_type": "stream",
     "text": [
      "C:\\Users\\drsco\\anaconda3_new\\lib\\site-packages\\seaborn\\_decorators.py:36: FutureWarning: Pass the following variable as a keyword arg: x. From version 0.12, the only valid positional argument will be `data`, and passing other arguments without an explicit keyword will result in an error or misinterpretation.\n",
      "  warnings.warn(\n"
     ]
    },
    {
     "data": {
      "text/plain": [
       "Text(0.5, 0, 'Bookings Cancelled')"
      ]
     },
     "execution_count": 15,
     "metadata": {},
     "output_type": "execute_result"
    },
    {
     "data": {
      "image/png": "[encoded data removed]",
      "text/plain": [
       "<Figure size 432x288 with 1 Axes>"
      ]
     },
     "metadata": {},
     "output_type": "display_data"
    }
   ],
   "source": [
    "#Replace the 1s and 0s in the is_cancelled column to cancelled and not cancelled\n",
    "hotel['is_canceled'] = hotel.is_canceled.replace([1,0],[\"Cancelled\",\"Not Cancelled\"])\n",
    "cancelled_data = hotel['is_canceled']\n",
    "\n",
    "# Plotting\n",
    "sns.countplot(cancelled_data).set_title(\"Visualization of Cancellation\")\n",
    "plt.xlabel(\"Bookings Cancelled\")"
   ]
  },
  {
   "cell_type": "markdown",
   "id": "c29ac83e",
   "metadata": {},
   "source": [
    "From the graph above, We can see that more than 60% of the bookings were not cancelled."
   ]
  },
  {
   "cell_type": "code",
   "execution_count": 16,
   "id": "eecd5d34",
   "metadata": {},
   "outputs": [
    {
     "data": {
      "text/plain": [
       "Text(0.5, 1.0, 'Cancellation rates in city and resort hotel')"
      ]
     },
     "execution_count": 16,
     "metadata": {},
     "output_type": "execute_result"
    },
    {
     "data": {
      "image/png": "[encoded data removed]",
      "text/plain": [
       "<Figure size 432x288 with 1 Axes>"
      ]
     },
     "metadata": {},
     "output_type": "display_data"
    }
   ],
   "source": [
    "# Let's look into how much of bookings were cancelled in each type of hotel\n",
    "lst2 = ['is_canceled', 'hotel']\n",
    "type_of_hotel_canceled = hotel[lst2]\n",
    "canceled_hotel = type_of_hotel_canceled[type_of_hotel_canceled['is_canceled'] == 'Cancelled'].groupby(['hotel']).size().reset_index(name = 'count')\n",
    "canceled_hotel\n",
    "sns.barplot(data = canceled_hotel, x = 'hotel', y = 'count').set_title('Cancellation rates in city and resort hotel')"
   ]
  },
  {
   "cell_type": "markdown",
   "id": "9748da17",
   "metadata": {},
   "source": [
    "From the cancellation graph showing the hotel types, we can see that city hotels have three times more cancellations than resort hotels and that is because city hotels have more bookings as we have seen earlier."
   ]
  },
  {
   "cell_type": "markdown",
   "id": "3ac7c9d7",
   "metadata": {},
   "source": [
    "## Who travels and in which group?"
   ]
  },
  {
   "cell_type": "code",
   "execution_count": 17,
   "id": "b6d052fb",
   "metadata": {},
   "outputs": [
    {
     "data": {
      "text/plain": [
       "[Text(0.5, 1.0, 'Number of children'),\n",
       " Text(551.7838235294118, 0.5, 'Total number'),\n",
       " Text(0.5, 21.5, 'Group size')]"
      ]
     },
     "execution_count": 17,
     "metadata": {},
     "output_type": "execute_result"
    },
    {
     "data": {
      "image/png": "[encoded data removed]",
      "text/plain": [
       "<Figure size 864x360 with 3 Axes>"
      ]
     },
     "metadata": {},
     "output_type": "display_data"
    }
   ],
   "source": [
    "hotel_num = hotel[[\"lead_time\",\"stays_in_weekend_nights\",\"stays_in_week_nights\",\"adults\",\"children\",\"babies\",\"previous_cancellations\",\"previous_bookings_not_canceled\",\"booking_changes\",\"days_in_waiting_list\",\"required_car_parking_spaces\",\"total_of_special_requests\"]]\n",
    "fig, ax = plt.subplots(1,3,figsize=(12,5))\n",
    "fig.tight_layout(pad=5.0)\n",
    "sns.countplot(x=hotel_num.adults, ax=ax[0], palette=\"crest\").set(title=\"Number of adults\", ylabel=\"Total number\", xlabel=\"Group size\")\n",
    "\n",
    "sns.countplot(x=hotel_num.babies, ax=ax[1], palette=\"crest\").set(title=\"Number of babies\", ylabel=\"Total number\", xlabel=\"Group size\")\n",
    "\n",
    "sns.countplot(x=hotel_num.children, ax=ax[2], palette=\"crest\").set(title=\"Number of children\", ylabel=\"Total number\", xlabel=\"Group size\")"
   ]
  },
  {
   "cell_type": "markdown",
   "id": "56c92854",
   "metadata": {},
   "source": [
    "From the graphs above, we can see that most reservations were made by adults without children or babies. Approximately 74% of adults travel with another adult, most likely the two adults are couples travel together. Travelling with babies or children is rare. From the graph \"Number of adults\" we can see that there is a column 0, this could be that the bookings were made by teenagers and young adults (below 18 years old), who travel alone or with friends/ spouse."
   ]
  },
  {
   "cell_type": "markdown",
   "id": "e98fde54",
   "metadata": {},
   "source": [
    "## Lead time (the number of days from booking to arrival date), Booking changes"
   ]
  },
  {
   "cell_type": "code",
   "execution_count": 18,
   "id": "853cb158",
   "metadata": {
    "scrolled": false
   },
   "outputs": [
    {
     "data": {
      "text/plain": [
       "<seaborn.axisgrid.JointGrid at 0x249c7afa0d0>"
      ]
     },
     "execution_count": 18,
     "metadata": {},
     "output_type": "execute_result"
    },
    {
     "data": {
      "image/png": "[encoded data removed]",
      "text/plain": [
       "<Figure size 576x360 with 2 Axes>"
      ]
     },
     "metadata": {},
     "output_type": "display_data"
    },
    {
     "data": {
      "image/png": "[encoded data removed]",
      "text/plain": [
       "<Figure size 432x432 with 3 Axes>"
      ]
     },
     "metadata": {},
     "output_type": "display_data"
    }
   ],
   "source": [
    "days_to_dep_list = []\n",
    "\n",
    "for days in hotel_num[\"lead_time\"]:\n",
    "    if days <= 100:\n",
    "        days_to_dep_list.append(days)\n",
    "\n",
    "fig, ax = plt.subplots(1,2, figsize=(8,5))\n",
    "fig.tight_layout(pad=3)\n",
    "    \n",
    "sns.histplot(hotel_num.lead_time, bins=50, color=\"olive\", ax=ax[0]).set(xlabel= \"Lead time\",title=\"                                                       Days from booking to check-in\")\n",
    "sns.histplot(days_to_dep_list, bins=30, color=\"olive\", ax=ax[1]).set(xlabel=\"Lead time\")\n",
    "sns.jointplot(x=hotel.lead_time, y=hotel.booking_changes, color=\"olive\")"
   ]
  },
  {
   "cell_type": "markdown",
   "id": "07df585e",
   "metadata": {},
   "source": [
    "From the graph above, we can see that It seems the longer people book in advance the less they are likely to change their original reservation."
   ]
  },
  {
   "cell_type": "markdown",
   "id": "a8a34420",
   "metadata": {},
   "source": [
    "## Correlations Plot"
   ]
  },
  {
   "cell_type": "code",
   "execution_count": 19,
   "id": "04fca54c",
   "metadata": {},
   "outputs": [
    {
     "data": {
      "text/plain": [
       "<AxesSubplot:>"
      ]
     },
     "execution_count": 19,
     "metadata": {},
     "output_type": "execute_result"
    },
    {
     "data": {
      "image/png": "[encoded data removed]",
      "text/plain": [
       "<Figure size 1440x1080 with 2 Axes>"
      ]
     },
     "metadata": {},
     "output_type": "display_data"
    }
   ],
   "source": [
    "plt.figure(figsize=(20,15))\n",
    "\n",
    "corr= hotel.corr()\n",
    "matrix = np.triu(corr)\n",
    "sns.heatmap(corr, annot=True, mask=matrix)"
   ]
  },
  {
   "cell_type": "markdown",
   "id": "f79a4061",
   "metadata": {},
   "source": [
    "From the plots, We see lot of correlation among the following variables:\n",
    "1. stays_in_week_nights & stays_in_weekend_nights are highly correlated. \n",
    "2.  Arrival_date_week_number & arrival_date_year are negatively correlated.\n",
    "3. Previous_booking_not_cancelled & Is_repeated_guest are positvely correlated."
   ]
  },
  {
   "cell_type": "markdown",
   "id": "bbba02df",
   "metadata": {},
   "source": [
    "### Final Preprocessing Of Data"
   ]
  },
  {
   "cell_type": "code",
   "execution_count": 17,
   "id": "7c0c44e4",
   "metadata": {},
   "outputs": [],
   "source": [
    "#Converted arrival_date_month to a numerical variable\n",
    "hotel[\"arrival_date_month\"] = hotel[\"arrival_date_month\"].replace({\"January\":1,\"February\":2,\n",
    "                                                                  \"March\":3,\"April\":4,\n",
    "                                                                  \"May\":5,\"June\":6,\n",
    "                                                                  \"July\":7,\"August\":8,\n",
    "                                                                  \"September\":9,\"October\":10,\n",
    "                                                                  \"November\":11,\"December\":12})"
   ]
  },
  {
   "cell_type": "markdown",
   "id": "fbe14da4",
   "metadata": {},
   "source": [
    "We removed the reservation_status and reservation_status_date because of multicolinearity with the response variable is_cancelled."
   ]
  },
  {
   "cell_type": "code",
   "execution_count": 18,
   "id": "34a4bbbd",
   "metadata": {},
   "outputs": [],
   "source": [
    "new_hotel = hotel.drop(columns=[\"reservation_status\",\"reservation_status_date\"])"
   ]
  },
  {
   "cell_type": "code",
   "execution_count": 19,
   "id": "56aa1804",
   "metadata": {},
   "outputs": [],
   "source": [
    "new_hotel['is_canceled']= new_hotel['is_canceled'].replace([\"Cancelled\",\"Not Cancelled\"],[1,0])"
   ]
  },
  {
   "cell_type": "code",
   "execution_count": 20,
   "id": "139aece1",
   "metadata": {},
   "outputs": [],
   "source": [
    "new_hotel.reset_index(inplace=True,drop=True)"
   ]
  },
  {
   "cell_type": "markdown",
   "id": "dc4ad8bd",
   "metadata": {},
   "source": [
    "Final dataframe before one-hot encoding and scaling"
   ]
  },
  {
   "cell_type": "code",
   "execution_count": 21,
   "id": "6a382ab3",
   "metadata": {
    "scrolled": true
   },
   "outputs": [
    {
     "name": "stdout",
     "output_type": "stream",
     "text": [
      "<class 'pandas.core.frame.DataFrame'>\n",
      "RangeIndex: 102967 entries, 0 to 102966\n",
      "Data columns (total 28 columns):\n",
      " #   Column                          Non-Null Count   Dtype  \n",
      "---  ------                          --------------   -----  \n",
      " 0   hotel                           102967 non-null  object \n",
      " 1   is_canceled                     102967 non-null  int64  \n",
      " 2   lead_time                       102967 non-null  int64  \n",
      " 3   arrival_date_year               102967 non-null  int64  \n",
      " 4   arrival_date_month              102967 non-null  int64  \n",
      " 5   arrival_date_week_number        102967 non-null  int64  \n",
      " 6   arrival_date_day_of_month       102967 non-null  int64  \n",
      " 7   stays_in_weekend_nights         102967 non-null  int64  \n",
      " 8   stays_in_week_nights            102967 non-null  int64  \n",
      " 9   adults                          102967 non-null  int64  \n",
      " 10  children                        102967 non-null  float64\n",
      " 11  babies                          102967 non-null  int64  \n",
      " 12  meal                            102967 non-null  object \n",
      " 13  market_segment                  102967 non-null  object \n",
      " 14  distribution_channel            102967 non-null  object \n",
      " 15  is_repeated_guest               102967 non-null  int64  \n",
      " 16  previous_cancellations          102967 non-null  int64  \n",
      " 17  previous_bookings_not_canceled  102967 non-null  int64  \n",
      " 18  reserved_room_type              102967 non-null  object \n",
      " 19  assigned_room_type              102967 non-null  object \n",
      " 20  booking_changes                 102967 non-null  int64  \n",
      " 21  deposit_type                    102967 non-null  object \n",
      " 22  agent                           102967 non-null  float64\n",
      " 23  days_in_waiting_list            102967 non-null  int64  \n",
      " 24  customer_type                   102967 non-null  object \n",
      " 25  adr                             102967 non-null  float64\n",
      " 26  required_car_parking_spaces     102967 non-null  int64  \n",
      " 27  total_of_special_requests       102967 non-null  int64  \n",
      "dtypes: float64(3), int64(17), object(8)\n",
      "memory usage: 22.0+ MB\n"
     ]
    }
   ],
   "source": [
    "new_hotel.info()"
   ]
  },
  {
   "cell_type": "markdown",
   "id": "5838e5c1",
   "metadata": {},
   "source": [
    "#### One-Hot-Encoding and Standard Scaling our data"
   ]
  },
  {
   "cell_type": "code",
   "execution_count": 22,
   "id": "4ad92edb",
   "metadata": {},
   "outputs": [],
   "source": [
    "X = new_hotel.drop(\"is_canceled\",axis=1)\n",
    "y = new_hotel[\"is_canceled\"]"
   ]
  },
  {
   "cell_type": "code",
   "execution_count": 23,
   "id": "b8ce02c3",
   "metadata": {},
   "outputs": [],
   "source": [
    "from imblearn.under_sampling import RandomUnderSampler\n",
    "\n",
    "# Undersample the dataset using the RandomUnderSampler \n",
    "# Set all class sizes equal to the smallest class.\n",
    "us = RandomUnderSampler(sampling_strategy={0:20000,1:20000})\n",
    "X_us, y_us = us.fit_resample(X, y)\n",
    "\n",
    "# Plot the new class distributions for y using the same funnction as above. \n",
    "# plot_class_dist(y_us)\n",
    "\n"
   ]
  },
  {
   "cell_type": "code",
   "execution_count": 24,
   "id": "5e45cbcb",
   "metadata": {},
   "outputs": [
    {
     "data": {
      "text/html": [
       "<div>\n",
       "<style scoped>\n",
       "    .dataframe tbody tr th:only-of-type {\n",
       "        vertical-align: middle;\n",
       "    }\n",
       "\n",
       "    .dataframe tbody tr th {\n",
       "        vertical-align: top;\n",
       "    }\n",
       "\n",
       "    .dataframe thead th {\n",
       "        text-align: right;\n",
       "    }\n",
       "</style>\n",
       "<table border=\"1\" class=\"dataframe\">\n",
       "  <thead>\n",
       "    <tr style=\"text-align: right;\">\n",
       "      <th></th>\n",
       "      <th>hotel</th>\n",
       "      <th>lead_time</th>\n",
       "      <th>arrival_date_year</th>\n",
       "      <th>arrival_date_month</th>\n",
       "      <th>arrival_date_week_number</th>\n",
       "      <th>arrival_date_day_of_month</th>\n",
       "      <th>stays_in_weekend_nights</th>\n",
       "      <th>stays_in_week_nights</th>\n",
       "      <th>adults</th>\n",
       "      <th>children</th>\n",
       "      <th>...</th>\n",
       "      <th>reserved_room_type</th>\n",
       "      <th>assigned_room_type</th>\n",
       "      <th>booking_changes</th>\n",
       "      <th>deposit_type</th>\n",
       "      <th>agent</th>\n",
       "      <th>days_in_waiting_list</th>\n",
       "      <th>customer_type</th>\n",
       "      <th>adr</th>\n",
       "      <th>required_car_parking_spaces</th>\n",
       "      <th>total_of_special_requests</th>\n",
       "    </tr>\n",
       "  </thead>\n",
       "  <tbody>\n",
       "    <tr>\n",
       "      <th>0</th>\n",
       "      <td>City Hotel</td>\n",
       "      <td>124</td>\n",
       "      <td>2016</td>\n",
       "      <td>3</td>\n",
       "      <td>12</td>\n",
       "      <td>15</td>\n",
       "      <td>1</td>\n",
       "      <td>5</td>\n",
       "      <td>2</td>\n",
       "      <td>0.0</td>\n",
       "      <td>...</td>\n",
       "      <td>A</td>\n",
       "      <td>A</td>\n",
       "      <td>0</td>\n",
       "      <td>No Deposit</td>\n",
       "      <td>27.0</td>\n",
       "      <td>0</td>\n",
       "      <td>Transient</td>\n",
       "      <td>48.33</td>\n",
       "      <td>0</td>\n",
       "      <td>1</td>\n",
       "    </tr>\n",
       "    <tr>\n",
       "      <th>1</th>\n",
       "      <td>City Hotel</td>\n",
       "      <td>140</td>\n",
       "      <td>2016</td>\n",
       "      <td>7</td>\n",
       "      <td>32</td>\n",
       "      <td>31</td>\n",
       "      <td>2</td>\n",
       "      <td>5</td>\n",
       "      <td>3</td>\n",
       "      <td>0.0</td>\n",
       "      <td>...</td>\n",
       "      <td>D</td>\n",
       "      <td>D</td>\n",
       "      <td>1</td>\n",
       "      <td>No Deposit</td>\n",
       "      <td>9.0</td>\n",
       "      <td>0</td>\n",
       "      <td>Transient-Party</td>\n",
       "      <td>132.48</td>\n",
       "      <td>0</td>\n",
       "      <td>0</td>\n",
       "    </tr>\n",
       "    <tr>\n",
       "      <th>2</th>\n",
       "      <td>City Hotel</td>\n",
       "      <td>204</td>\n",
       "      <td>2015</td>\n",
       "      <td>10</td>\n",
       "      <td>40</td>\n",
       "      <td>2</td>\n",
       "      <td>1</td>\n",
       "      <td>2</td>\n",
       "      <td>1</td>\n",
       "      <td>0.0</td>\n",
       "      <td>...</td>\n",
       "      <td>A</td>\n",
       "      <td>A</td>\n",
       "      <td>1</td>\n",
       "      <td>No Deposit</td>\n",
       "      <td>7.0</td>\n",
       "      <td>0</td>\n",
       "      <td>Transient</td>\n",
       "      <td>59.07</td>\n",
       "      <td>0</td>\n",
       "      <td>0</td>\n",
       "    </tr>\n",
       "    <tr>\n",
       "      <th>3</th>\n",
       "      <td>Resort Hotel</td>\n",
       "      <td>3</td>\n",
       "      <td>2015</td>\n",
       "      <td>12</td>\n",
       "      <td>53</td>\n",
       "      <td>28</td>\n",
       "      <td>0</td>\n",
       "      <td>0</td>\n",
       "      <td>2</td>\n",
       "      <td>0.0</td>\n",
       "      <td>...</td>\n",
       "      <td>A</td>\n",
       "      <td>A</td>\n",
       "      <td>0</td>\n",
       "      <td>No Deposit</td>\n",
       "      <td>240.0</td>\n",
       "      <td>0</td>\n",
       "      <td>Transient</td>\n",
       "      <td>0.00</td>\n",
       "      <td>0</td>\n",
       "      <td>1</td>\n",
       "    </tr>\n",
       "    <tr>\n",
       "      <th>4</th>\n",
       "      <td>City Hotel</td>\n",
       "      <td>40</td>\n",
       "      <td>2016</td>\n",
       "      <td>9</td>\n",
       "      <td>37</td>\n",
       "      <td>6</td>\n",
       "      <td>0</td>\n",
       "      <td>2</td>\n",
       "      <td>2</td>\n",
       "      <td>0.0</td>\n",
       "      <td>...</td>\n",
       "      <td>A</td>\n",
       "      <td>B</td>\n",
       "      <td>0</td>\n",
       "      <td>No Deposit</td>\n",
       "      <td>9.0</td>\n",
       "      <td>0</td>\n",
       "      <td>Transient</td>\n",
       "      <td>87.30</td>\n",
       "      <td>0</td>\n",
       "      <td>1</td>\n",
       "    </tr>\n",
       "    <tr>\n",
       "      <th>...</th>\n",
       "      <td>...</td>\n",
       "      <td>...</td>\n",
       "      <td>...</td>\n",
       "      <td>...</td>\n",
       "      <td>...</td>\n",
       "      <td>...</td>\n",
       "      <td>...</td>\n",
       "      <td>...</td>\n",
       "      <td>...</td>\n",
       "      <td>...</td>\n",
       "      <td>...</td>\n",
       "      <td>...</td>\n",
       "      <td>...</td>\n",
       "      <td>...</td>\n",
       "      <td>...</td>\n",
       "      <td>...</td>\n",
       "      <td>...</td>\n",
       "      <td>...</td>\n",
       "      <td>...</td>\n",
       "      <td>...</td>\n",
       "      <td>...</td>\n",
       "    </tr>\n",
       "    <tr>\n",
       "      <th>39995</th>\n",
       "      <td>City Hotel</td>\n",
       "      <td>188</td>\n",
       "      <td>2016</td>\n",
       "      <td>6</td>\n",
       "      <td>23</td>\n",
       "      <td>2</td>\n",
       "      <td>0</td>\n",
       "      <td>3</td>\n",
       "      <td>2</td>\n",
       "      <td>0.0</td>\n",
       "      <td>...</td>\n",
       "      <td>A</td>\n",
       "      <td>A</td>\n",
       "      <td>0</td>\n",
       "      <td>Non Refund</td>\n",
       "      <td>1.0</td>\n",
       "      <td>0</td>\n",
       "      <td>Transient</td>\n",
       "      <td>65.00</td>\n",
       "      <td>0</td>\n",
       "      <td>0</td>\n",
       "    </tr>\n",
       "    <tr>\n",
       "      <th>39996</th>\n",
       "      <td>City Hotel</td>\n",
       "      <td>192</td>\n",
       "      <td>2016</td>\n",
       "      <td>5</td>\n",
       "      <td>20</td>\n",
       "      <td>12</td>\n",
       "      <td>0</td>\n",
       "      <td>3</td>\n",
       "      <td>2</td>\n",
       "      <td>0.0</td>\n",
       "      <td>...</td>\n",
       "      <td>A</td>\n",
       "      <td>A</td>\n",
       "      <td>0</td>\n",
       "      <td>Non Refund</td>\n",
       "      <td>39.0</td>\n",
       "      <td>42</td>\n",
       "      <td>Transient</td>\n",
       "      <td>135.00</td>\n",
       "      <td>0</td>\n",
       "      <td>0</td>\n",
       "    </tr>\n",
       "    <tr>\n",
       "      <th>39997</th>\n",
       "      <td>City Hotel</td>\n",
       "      <td>286</td>\n",
       "      <td>2016</td>\n",
       "      <td>10</td>\n",
       "      <td>43</td>\n",
       "      <td>16</td>\n",
       "      <td>1</td>\n",
       "      <td>0</td>\n",
       "      <td>2</td>\n",
       "      <td>0.0</td>\n",
       "      <td>...</td>\n",
       "      <td>A</td>\n",
       "      <td>A</td>\n",
       "      <td>0</td>\n",
       "      <td>Non Refund</td>\n",
       "      <td>44.0</td>\n",
       "      <td>0</td>\n",
       "      <td>Transient</td>\n",
       "      <td>90.00</td>\n",
       "      <td>0</td>\n",
       "      <td>0</td>\n",
       "    </tr>\n",
       "    <tr>\n",
       "      <th>39998</th>\n",
       "      <td>City Hotel</td>\n",
       "      <td>68</td>\n",
       "      <td>2016</td>\n",
       "      <td>2</td>\n",
       "      <td>8</td>\n",
       "      <td>17</td>\n",
       "      <td>0</td>\n",
       "      <td>2</td>\n",
       "      <td>2</td>\n",
       "      <td>0.0</td>\n",
       "      <td>...</td>\n",
       "      <td>A</td>\n",
       "      <td>A</td>\n",
       "      <td>0</td>\n",
       "      <td>Non Refund</td>\n",
       "      <td>37.0</td>\n",
       "      <td>0</td>\n",
       "      <td>Transient</td>\n",
       "      <td>75.00</td>\n",
       "      <td>0</td>\n",
       "      <td>0</td>\n",
       "    </tr>\n",
       "    <tr>\n",
       "      <th>39999</th>\n",
       "      <td>City Hotel</td>\n",
       "      <td>414</td>\n",
       "      <td>2015</td>\n",
       "      <td>12</td>\n",
       "      <td>49</td>\n",
       "      <td>5</td>\n",
       "      <td>2</td>\n",
       "      <td>1</td>\n",
       "      <td>2</td>\n",
       "      <td>0.0</td>\n",
       "      <td>...</td>\n",
       "      <td>A</td>\n",
       "      <td>A</td>\n",
       "      <td>0</td>\n",
       "      <td>Non Refund</td>\n",
       "      <td>1.0</td>\n",
       "      <td>0</td>\n",
       "      <td>Transient</td>\n",
       "      <td>62.00</td>\n",
       "      <td>0</td>\n",
       "      <td>0</td>\n",
       "    </tr>\n",
       "  </tbody>\n",
       "</table>\n",
       "<p>40000 rows × 27 columns</p>\n",
       "</div>"
      ],
      "text/plain": [
       "              hotel  lead_time  arrival_date_year  arrival_date_month  \\\n",
       "0        City Hotel        124               2016                   3   \n",
       "1        City Hotel        140               2016                   7   \n",
       "2        City Hotel        204               2015                  10   \n",
       "3      Resort Hotel          3               2015                  12   \n",
       "4        City Hotel         40               2016                   9   \n",
       "...             ...        ...                ...                 ...   \n",
       "39995    City Hotel        188               2016                   6   \n",
       "39996    City Hotel        192               2016                   5   \n",
       "39997    City Hotel        286               2016                  10   \n",
       "39998    City Hotel         68               2016                   2   \n",
       "39999    City Hotel        414               2015                  12   \n",
       "\n",
       "       arrival_date_week_number  arrival_date_day_of_month  \\\n",
       "0                            12                         15   \n",
       "1                            32                         31   \n",
       "2                            40                          2   \n",
       "3                            53                         28   \n",
       "4                            37                          6   \n",
       "...                         ...                        ...   \n",
       "39995                        23                          2   \n",
       "39996                        20                         12   \n",
       "39997                        43                         16   \n",
       "39998                         8                         17   \n",
       "39999                        49                          5   \n",
       "\n",
       "       stays_in_weekend_nights  stays_in_week_nights  adults  children  ...  \\\n",
       "0                            1                     5       2       0.0  ...   \n",
       "1                            2                     5       3       0.0  ...   \n",
       "2                            1                     2       1       0.0  ...   \n",
       "3                            0                     0       2       0.0  ...   \n",
       "4                            0                     2       2       0.0  ...   \n",
       "...                        ...                   ...     ...       ...  ...   \n",
       "39995                        0                     3       2       0.0  ...   \n",
       "39996                        0                     3       2       0.0  ...   \n",
       "39997                        1                     0       2       0.0  ...   \n",
       "39998                        0                     2       2       0.0  ...   \n",
       "39999                        2                     1       2       0.0  ...   \n",
       "\n",
       "       reserved_room_type assigned_room_type booking_changes deposit_type  \\\n",
       "0                       A                  A               0   No Deposit   \n",
       "1                       D                  D               1   No Deposit   \n",
       "2                       A                  A               1   No Deposit   \n",
       "3                       A                  A               0   No Deposit   \n",
       "4                       A                  B               0   No Deposit   \n",
       "...                   ...                ...             ...          ...   \n",
       "39995                   A                  A               0   Non Refund   \n",
       "39996                   A                  A               0   Non Refund   \n",
       "39997                   A                  A               0   Non Refund   \n",
       "39998                   A                  A               0   Non Refund   \n",
       "39999                   A                  A               0   Non Refund   \n",
       "\n",
       "       agent  days_in_waiting_list    customer_type     adr  \\\n",
       "0       27.0                     0        Transient   48.33   \n",
       "1        9.0                     0  Transient-Party  132.48   \n",
       "2        7.0                     0        Transient   59.07   \n",
       "3      240.0                     0        Transient    0.00   \n",
       "4        9.0                     0        Transient   87.30   \n",
       "...      ...                   ...              ...     ...   \n",
       "39995    1.0                     0        Transient   65.00   \n",
       "39996   39.0                    42        Transient  135.00   \n",
       "39997   44.0                     0        Transient   90.00   \n",
       "39998   37.0                     0        Transient   75.00   \n",
       "39999    1.0                     0        Transient   62.00   \n",
       "\n",
       "      required_car_parking_spaces  total_of_special_requests  \n",
       "0                               0                          1  \n",
       "1                               0                          0  \n",
       "2                               0                          0  \n",
       "3                               0                          1  \n",
       "4                               0                          1  \n",
       "...                           ...                        ...  \n",
       "39995                           0                          0  \n",
       "39996                           0                          0  \n",
       "39997                           0                          0  \n",
       "39998                           0                          0  \n",
       "39999                           0                          0  \n",
       "\n",
       "[40000 rows x 27 columns]"
      ]
     },
     "execution_count": 24,
     "metadata": {},
     "output_type": "execute_result"
    }
   ],
   "source": [
    "X_us"
   ]
  },
  {
   "cell_type": "code",
   "execution_count": 28,
   "id": "20a10980",
   "metadata": {},
   "outputs": [],
   "source": [
    "#One hot encode specific columns without standardizing and scaling continuous variables\n",
    "from sklearn.preprocessing import OneHotEncoder\n",
    "categorical_features = [\"hotel\", 'meal','market_segment','distribution_channel',\n",
    "                        'reserved_room_type', 'assigned_room_type', 'deposit_type','customer_type']\n",
    "\n",
    "ohe = OneHotEncoder(drop=\"first\")\n",
    "\n",
    "hotel_object = X_us.select_dtypes('object')\n",
    "ohe.fit(hotel_object)\n",
    "\n",
    "codes = ohe.transform(hotel_object).toarray()\n",
    "feature_names = ohe.get_feature_names(categorical_features)\n",
    "\n",
    "X_us = pd.concat([X_us.select_dtypes(exclude='object'), \n",
    "               pd.DataFrame(codes,columns=feature_names).astype(int)], axis=1)\n"
   ]
  },
  {
   "cell_type": "code",
   "execution_count": 29,
   "id": "6aa1aab9",
   "metadata": {
    "scrolled": true
   },
   "outputs": [
    {
     "data": {
      "text/html": [
       "<div>\n",
       "<style scoped>\n",
       "    .dataframe tbody tr th:only-of-type {\n",
       "        vertical-align: middle;\n",
       "    }\n",
       "\n",
       "    .dataframe tbody tr th {\n",
       "        vertical-align: top;\n",
       "    }\n",
       "\n",
       "    .dataframe thead th {\n",
       "        text-align: right;\n",
       "    }\n",
       "</style>\n",
       "<table border=\"1\" class=\"dataframe\">\n",
       "  <thead>\n",
       "    <tr style=\"text-align: right;\">\n",
       "      <th></th>\n",
       "      <th>lead_time</th>\n",
       "      <th>arrival_date_year</th>\n",
       "      <th>arrival_date_month</th>\n",
       "      <th>arrival_date_week_number</th>\n",
       "      <th>arrival_date_day_of_month</th>\n",
       "      <th>stays_in_weekend_nights</th>\n",
       "      <th>stays_in_week_nights</th>\n",
       "      <th>adults</th>\n",
       "      <th>children</th>\n",
       "      <th>babies</th>\n",
       "      <th>...</th>\n",
       "      <th>assigned_room_type_F</th>\n",
       "      <th>assigned_room_type_G</th>\n",
       "      <th>assigned_room_type_H</th>\n",
       "      <th>assigned_room_type_I</th>\n",
       "      <th>assigned_room_type_K</th>\n",
       "      <th>deposit_type_Non Refund</th>\n",
       "      <th>deposit_type_Refundable</th>\n",
       "      <th>customer_type_Group</th>\n",
       "      <th>customer_type_Transient</th>\n",
       "      <th>customer_type_Transient-Party</th>\n",
       "    </tr>\n",
       "  </thead>\n",
       "  <tbody>\n",
       "    <tr>\n",
       "      <th>0</th>\n",
       "      <td>339</td>\n",
       "      <td>2017</td>\n",
       "      <td>3</td>\n",
       "      <td>10</td>\n",
       "      <td>11</td>\n",
       "      <td>2</td>\n",
       "      <td>5</td>\n",
       "      <td>1</td>\n",
       "      <td>0.0</td>\n",
       "      <td>0</td>\n",
       "      <td>...</td>\n",
       "      <td>0</td>\n",
       "      <td>0</td>\n",
       "      <td>0</td>\n",
       "      <td>0</td>\n",
       "      <td>0</td>\n",
       "      <td>0</td>\n",
       "      <td>0</td>\n",
       "      <td>0</td>\n",
       "      <td>0</td>\n",
       "      <td>1</td>\n",
       "    </tr>\n",
       "    <tr>\n",
       "      <th>1</th>\n",
       "      <td>40</td>\n",
       "      <td>2017</td>\n",
       "      <td>6</td>\n",
       "      <td>23</td>\n",
       "      <td>8</td>\n",
       "      <td>0</td>\n",
       "      <td>1</td>\n",
       "      <td>2</td>\n",
       "      <td>0.0</td>\n",
       "      <td>0</td>\n",
       "      <td>...</td>\n",
       "      <td>0</td>\n",
       "      <td>0</td>\n",
       "      <td>0</td>\n",
       "      <td>0</td>\n",
       "      <td>0</td>\n",
       "      <td>0</td>\n",
       "      <td>0</td>\n",
       "      <td>0</td>\n",
       "      <td>1</td>\n",
       "      <td>0</td>\n",
       "    </tr>\n",
       "    <tr>\n",
       "      <th>2</th>\n",
       "      <td>12</td>\n",
       "      <td>2017</td>\n",
       "      <td>5</td>\n",
       "      <td>18</td>\n",
       "      <td>4</td>\n",
       "      <td>0</td>\n",
       "      <td>2</td>\n",
       "      <td>2</td>\n",
       "      <td>1.0</td>\n",
       "      <td>1</td>\n",
       "      <td>...</td>\n",
       "      <td>0</td>\n",
       "      <td>1</td>\n",
       "      <td>0</td>\n",
       "      <td>0</td>\n",
       "      <td>0</td>\n",
       "      <td>0</td>\n",
       "      <td>0</td>\n",
       "      <td>0</td>\n",
       "      <td>1</td>\n",
       "      <td>0</td>\n",
       "    </tr>\n",
       "    <tr>\n",
       "      <th>3</th>\n",
       "      <td>69</td>\n",
       "      <td>2015</td>\n",
       "      <td>10</td>\n",
       "      <td>44</td>\n",
       "      <td>25</td>\n",
       "      <td>2</td>\n",
       "      <td>1</td>\n",
       "      <td>1</td>\n",
       "      <td>0.0</td>\n",
       "      <td>0</td>\n",
       "      <td>...</td>\n",
       "      <td>0</td>\n",
       "      <td>0</td>\n",
       "      <td>0</td>\n",
       "      <td>0</td>\n",
       "      <td>0</td>\n",
       "      <td>0</td>\n",
       "      <td>0</td>\n",
       "      <td>0</td>\n",
       "      <td>0</td>\n",
       "      <td>1</td>\n",
       "    </tr>\n",
       "    <tr>\n",
       "      <th>4</th>\n",
       "      <td>42</td>\n",
       "      <td>2017</td>\n",
       "      <td>6</td>\n",
       "      <td>22</td>\n",
       "      <td>3</td>\n",
       "      <td>1</td>\n",
       "      <td>1</td>\n",
       "      <td>2</td>\n",
       "      <td>0.0</td>\n",
       "      <td>0</td>\n",
       "      <td>...</td>\n",
       "      <td>0</td>\n",
       "      <td>0</td>\n",
       "      <td>0</td>\n",
       "      <td>0</td>\n",
       "      <td>0</td>\n",
       "      <td>0</td>\n",
       "      <td>0</td>\n",
       "      <td>0</td>\n",
       "      <td>1</td>\n",
       "      <td>0</td>\n",
       "    </tr>\n",
       "    <tr>\n",
       "      <th>...</th>\n",
       "      <td>...</td>\n",
       "      <td>...</td>\n",
       "      <td>...</td>\n",
       "      <td>...</td>\n",
       "      <td>...</td>\n",
       "      <td>...</td>\n",
       "      <td>...</td>\n",
       "      <td>...</td>\n",
       "      <td>...</td>\n",
       "      <td>...</td>\n",
       "      <td>...</td>\n",
       "      <td>...</td>\n",
       "      <td>...</td>\n",
       "      <td>...</td>\n",
       "      <td>...</td>\n",
       "      <td>...</td>\n",
       "      <td>...</td>\n",
       "      <td>...</td>\n",
       "      <td>...</td>\n",
       "      <td>...</td>\n",
       "      <td>...</td>\n",
       "    </tr>\n",
       "    <tr>\n",
       "      <th>39995</th>\n",
       "      <td>257</td>\n",
       "      <td>2015</td>\n",
       "      <td>7</td>\n",
       "      <td>27</td>\n",
       "      <td>1</td>\n",
       "      <td>0</td>\n",
       "      <td>2</td>\n",
       "      <td>2</td>\n",
       "      <td>0.0</td>\n",
       "      <td>0</td>\n",
       "      <td>...</td>\n",
       "      <td>0</td>\n",
       "      <td>0</td>\n",
       "      <td>0</td>\n",
       "      <td>0</td>\n",
       "      <td>0</td>\n",
       "      <td>0</td>\n",
       "      <td>0</td>\n",
       "      <td>0</td>\n",
       "      <td>1</td>\n",
       "      <td>0</td>\n",
       "    </tr>\n",
       "    <tr>\n",
       "      <th>39996</th>\n",
       "      <td>24</td>\n",
       "      <td>2017</td>\n",
       "      <td>3</td>\n",
       "      <td>13</td>\n",
       "      <td>31</td>\n",
       "      <td>0</td>\n",
       "      <td>2</td>\n",
       "      <td>2</td>\n",
       "      <td>0.0</td>\n",
       "      <td>0</td>\n",
       "      <td>...</td>\n",
       "      <td>0</td>\n",
       "      <td>0</td>\n",
       "      <td>0</td>\n",
       "      <td>0</td>\n",
       "      <td>0</td>\n",
       "      <td>0</td>\n",
       "      <td>0</td>\n",
       "      <td>0</td>\n",
       "      <td>1</td>\n",
       "      <td>0</td>\n",
       "    </tr>\n",
       "    <tr>\n",
       "      <th>39997</th>\n",
       "      <td>78</td>\n",
       "      <td>2017</td>\n",
       "      <td>4</td>\n",
       "      <td>17</td>\n",
       "      <td>29</td>\n",
       "      <td>2</td>\n",
       "      <td>1</td>\n",
       "      <td>2</td>\n",
       "      <td>0.0</td>\n",
       "      <td>0</td>\n",
       "      <td>...</td>\n",
       "      <td>0</td>\n",
       "      <td>0</td>\n",
       "      <td>0</td>\n",
       "      <td>0</td>\n",
       "      <td>0</td>\n",
       "      <td>1</td>\n",
       "      <td>0</td>\n",
       "      <td>0</td>\n",
       "      <td>1</td>\n",
       "      <td>0</td>\n",
       "    </tr>\n",
       "    <tr>\n",
       "      <th>39998</th>\n",
       "      <td>88</td>\n",
       "      <td>2016</td>\n",
       "      <td>2</td>\n",
       "      <td>7</td>\n",
       "      <td>12</td>\n",
       "      <td>0</td>\n",
       "      <td>2</td>\n",
       "      <td>2</td>\n",
       "      <td>0.0</td>\n",
       "      <td>0</td>\n",
       "      <td>...</td>\n",
       "      <td>0</td>\n",
       "      <td>0</td>\n",
       "      <td>0</td>\n",
       "      <td>0</td>\n",
       "      <td>0</td>\n",
       "      <td>0</td>\n",
       "      <td>0</td>\n",
       "      <td>0</td>\n",
       "      <td>0</td>\n",
       "      <td>1</td>\n",
       "    </tr>\n",
       "    <tr>\n",
       "      <th>39999</th>\n",
       "      <td>120</td>\n",
       "      <td>2016</td>\n",
       "      <td>9</td>\n",
       "      <td>36</td>\n",
       "      <td>2</td>\n",
       "      <td>1</td>\n",
       "      <td>2</td>\n",
       "      <td>1</td>\n",
       "      <td>0.0</td>\n",
       "      <td>0</td>\n",
       "      <td>...</td>\n",
       "      <td>0</td>\n",
       "      <td>0</td>\n",
       "      <td>0</td>\n",
       "      <td>0</td>\n",
       "      <td>0</td>\n",
       "      <td>1</td>\n",
       "      <td>0</td>\n",
       "      <td>0</td>\n",
       "      <td>1</td>\n",
       "      <td>0</td>\n",
       "    </tr>\n",
       "  </tbody>\n",
       "</table>\n",
       "<p>40000 rows × 54 columns</p>\n",
       "</div>"
      ],
      "text/plain": [
       "       lead_time  arrival_date_year  arrival_date_month  \\\n",
       "0            339               2017                   3   \n",
       "1             40               2017                   6   \n",
       "2             12               2017                   5   \n",
       "3             69               2015                  10   \n",
       "4             42               2017                   6   \n",
       "...          ...                ...                 ...   \n",
       "39995        257               2015                   7   \n",
       "39996         24               2017                   3   \n",
       "39997         78               2017                   4   \n",
       "39998         88               2016                   2   \n",
       "39999        120               2016                   9   \n",
       "\n",
       "       arrival_date_week_number  arrival_date_day_of_month  \\\n",
       "0                            10                         11   \n",
       "1                            23                          8   \n",
       "2                            18                          4   \n",
       "3                            44                         25   \n",
       "4                            22                          3   \n",
       "...                         ...                        ...   \n",
       "39995                        27                          1   \n",
       "39996                        13                         31   \n",
       "39997                        17                         29   \n",
       "39998                         7                         12   \n",
       "39999                        36                          2   \n",
       "\n",
       "       stays_in_weekend_nights  stays_in_week_nights  adults  children  \\\n",
       "0                            2                     5       1       0.0   \n",
       "1                            0                     1       2       0.0   \n",
       "2                            0                     2       2       1.0   \n",
       "3                            2                     1       1       0.0   \n",
       "4                            1                     1       2       0.0   \n",
       "...                        ...                   ...     ...       ...   \n",
       "39995                        0                     2       2       0.0   \n",
       "39996                        0                     2       2       0.0   \n",
       "39997                        2                     1       2       0.0   \n",
       "39998                        0                     2       2       0.0   \n",
       "39999                        1                     2       1       0.0   \n",
       "\n",
       "       babies  ...  assigned_room_type_F  assigned_room_type_G  \\\n",
       "0           0  ...                     0                     0   \n",
       "1           0  ...                     0                     0   \n",
       "2           1  ...                     0                     1   \n",
       "3           0  ...                     0                     0   \n",
       "4           0  ...                     0                     0   \n",
       "...       ...  ...                   ...                   ...   \n",
       "39995       0  ...                     0                     0   \n",
       "39996       0  ...                     0                     0   \n",
       "39997       0  ...                     0                     0   \n",
       "39998       0  ...                     0                     0   \n",
       "39999       0  ...                     0                     0   \n",
       "\n",
       "       assigned_room_type_H  assigned_room_type_I  assigned_room_type_K  \\\n",
       "0                         0                     0                     0   \n",
       "1                         0                     0                     0   \n",
       "2                         0                     0                     0   \n",
       "3                         0                     0                     0   \n",
       "4                         0                     0                     0   \n",
       "...                     ...                   ...                   ...   \n",
       "39995                     0                     0                     0   \n",
       "39996                     0                     0                     0   \n",
       "39997                     0                     0                     0   \n",
       "39998                     0                     0                     0   \n",
       "39999                     0                     0                     0   \n",
       "\n",
       "       deposit_type_Non Refund  deposit_type_Refundable  customer_type_Group  \\\n",
       "0                            0                        0                    0   \n",
       "1                            0                        0                    0   \n",
       "2                            0                        0                    0   \n",
       "3                            0                        0                    0   \n",
       "4                            0                        0                    0   \n",
       "...                        ...                      ...                  ...   \n",
       "39995                        0                        0                    0   \n",
       "39996                        0                        0                    0   \n",
       "39997                        1                        0                    0   \n",
       "39998                        0                        0                    0   \n",
       "39999                        1                        0                    0   \n",
       "\n",
       "       customer_type_Transient  customer_type_Transient-Party  \n",
       "0                            0                              1  \n",
       "1                            1                              0  \n",
       "2                            1                              0  \n",
       "3                            0                              1  \n",
       "4                            1                              0  \n",
       "...                        ...                            ...  \n",
       "39995                        1                              0  \n",
       "39996                        1                              0  \n",
       "39997                        1                              0  \n",
       "39998                        0                              1  \n",
       "39999                        1                              0  \n",
       "\n",
       "[40000 rows x 54 columns]"
      ]
     },
     "execution_count": 29,
     "metadata": {},
     "output_type": "execute_result"
    }
   ],
   "source": [
    "X_us"
   ]
  },
  {
   "cell_type": "code",
   "execution_count": 30,
   "id": "6e52a715",
   "metadata": {},
   "outputs": [
    {
     "data": {
      "text/plain": [
       "0         0\n",
       "1         0\n",
       "2         0\n",
       "3         0\n",
       "4         1\n",
       "         ..\n",
       "102962    0\n",
       "102963    0\n",
       "102964    0\n",
       "102965    0\n",
       "102966    0\n",
       "Name: is_canceled, Length: 102967, dtype: int64"
      ]
     },
     "execution_count": 30,
     "metadata": {},
     "output_type": "execute_result"
    }
   ],
   "source": [
    "y"
   ]
  },
  {
   "cell_type": "markdown",
   "id": "a1387e31",
   "metadata": {},
   "source": [
    "### Standard Scaling All Continuous Variables"
   ]
  },
  {
   "cell_type": "code",
   "execution_count": 31,
   "id": "5988cede",
   "metadata": {},
   "outputs": [],
   "source": [
    "from sklearn.preprocessing import OneHotEncoder, StandardScaler\n",
    "continuous_variables = ['lead_time',\"arrival_date_month\",'arrival_date_year','arrival_date_week_number','arrival_date_day_of_month',\n",
    "                        'stays_in_weekend_nights','stays_in_week_nights','adults','children','babies',\n",
    "                        'is_repeated_guest','previous_cancellations','previous_bookings_not_canceled',\n",
    "                        'booking_changes','agent','days_in_waiting_list','adr','required_car_parking_spaces',\n",
    "                        'total_of_special_requests']\n",
    "stdsclr = StandardScaler()\n",
    "\n",
    "X_us[continuous_variables] = stdsclr.fit_transform(X_us[continuous_variables])"
   ]
  },
  {
   "cell_type": "code",
   "execution_count": 32,
   "id": "e7373c4a",
   "metadata": {
    "scrolled": true
   },
   "outputs": [
    {
     "data": {
      "text/plain": [
       "Index(['lead_time', 'arrival_date_year', 'arrival_date_month',\n",
       "       'arrival_date_week_number', 'arrival_date_day_of_month',\n",
       "       'stays_in_weekend_nights', 'stays_in_week_nights', 'adults', 'children',\n",
       "       'babies', 'is_repeated_guest', 'previous_cancellations',\n",
       "       'previous_bookings_not_canceled', 'booking_changes', 'agent',\n",
       "       'days_in_waiting_list', 'adr', 'required_car_parking_spaces',\n",
       "       'total_of_special_requests', 'hotel_Resort Hotel', 'meal_FB', 'meal_HB',\n",
       "       'meal_SC', 'meal_Undefined', 'market_segment_Complementary',\n",
       "       'market_segment_Corporate', 'market_segment_Direct',\n",
       "       'market_segment_Groups', 'market_segment_Offline TA/TO',\n",
       "       'market_segment_Online TA', 'distribution_channel_Direct',\n",
       "       'distribution_channel_GDS', 'distribution_channel_TA/TO',\n",
       "       'reserved_room_type_B', 'reserved_room_type_C', 'reserved_room_type_D',\n",
       "       'reserved_room_type_E', 'reserved_room_type_F', 'reserved_room_type_G',\n",
       "       'reserved_room_type_H', 'assigned_room_type_B', 'assigned_room_type_C',\n",
       "       'assigned_room_type_D', 'assigned_room_type_E', 'assigned_room_type_F',\n",
       "       'assigned_room_type_G', 'assigned_room_type_H', 'assigned_room_type_I',\n",
       "       'assigned_room_type_K', 'deposit_type_Non Refund',\n",
       "       'deposit_type_Refundable', 'customer_type_Group',\n",
       "       'customer_type_Transient', 'customer_type_Transient-Party'],\n",
       "      dtype='object')"
      ]
     },
     "execution_count": 32,
     "metadata": {},
     "output_type": "execute_result"
    }
   ],
   "source": [
    "X_us.columns"
   ]
  },
  {
   "cell_type": "markdown",
   "id": "4118cefb",
   "metadata": {},
   "source": [
    "# Modeling and Evaluation 1\n",
    "\n",
    "train and adjust parameters (GridSearch)"
   ]
  },
  {
   "cell_type": "code",
   "execution_count": 33,
   "id": "b85e445f",
   "metadata": {},
   "outputs": [],
   "source": [
    "from sklearn.model_selection import StratifiedShuffleSplit\n",
    "cv = StratifiedShuffleSplit(n_splits=3, test_size=0.10, random_state=0)"
   ]
  },
  {
   "cell_type": "code",
   "execution_count": 34,
   "id": "05e2f5a4",
   "metadata": {},
   "outputs": [],
   "source": [
    "from sklearn.model_selection import cross_validate\n",
    "\n",
    "def EvaluateClassifierEstimator(classifierEstimator, X, y, cv):\n",
    "   \n",
    "    #Perform cross validation \n",
    "    scores = cross_validate(classifierEstimator, X, y, scoring=['accuracy','precision','recall']\n",
    "                            , cv=cv, return_train_score=True)\n",
    "\n",
    "    Accavg = scores['test_accuracy'].mean()\n",
    "    Preavg = scores['test_precision'].mean()\n",
    "    Recavg = scores['test_recall'].mean()\n",
    "\n",
    "    print_str = \"The average accuracy for all cv folds is: \\t\\t\\t {Accavg:.5}\"\n",
    "    print_str2 = \"The average precision for all cv folds is: \\t\\t\\t {Preavg:.5}\"\n",
    "    print_str3 = \"The average recall for all cv folds is: \\t\\t\\t {Recavg:.5}\"\n",
    "\n",
    "    print(print_str.format(Accavg=Accavg))\n",
    "    print(print_str2.format(Preavg=Preavg))\n",
    "    print(print_str3.format(Recavg=Recavg))\n",
    "    print('*********************************************************')\n",
    "\n",
    "    print('Cross Validation Fold Mean Error Scores')\n",
    "    scoresResults = pd.DataFrame()\n",
    "    scoresResults['Accuracy'] = scores['test_accuracy']\n",
    "    scoresResults['Precision'] = scores['test_precision']\n",
    "    scoresResults['Recall'] = scores['test_recall']\n",
    "\n",
    "    return scoresResults"
   ]
  },
  {
   "cell_type": "code",
   "execution_count": 35,
   "id": "621bd4ef",
   "metadata": {
    "scrolled": false
   },
   "outputs": [
    {
     "name": "stdout",
     "output_type": "stream",
     "text": [
      "The average accuracy for all cv folds is: \t\t\t 0.77067\n",
      "The average precision for all cv folds is: \t\t\t 0.79079\n",
      "The average recall for all cv folds is: \t\t\t 0.73617\n",
      "*********************************************************\n",
      "Cross Validation Fold Mean Error Scores\n",
      "Wall time: 4.77 s\n"
     ]
    },
    {
     "data": {
      "text/html": [
       "<div>\n",
       "<style scoped>\n",
       "    .dataframe tbody tr th:only-of-type {\n",
       "        vertical-align: middle;\n",
       "    }\n",
       "\n",
       "    .dataframe tbody tr th {\n",
       "        vertical-align: top;\n",
       "    }\n",
       "\n",
       "    .dataframe thead th {\n",
       "        text-align: right;\n",
       "    }\n",
       "</style>\n",
       "<table border=\"1\" class=\"dataframe\">\n",
       "  <thead>\n",
       "    <tr style=\"text-align: right;\">\n",
       "      <th></th>\n",
       "      <th>Accuracy</th>\n",
       "      <th>Precision</th>\n",
       "      <th>Recall</th>\n",
       "    </tr>\n",
       "  </thead>\n",
       "  <tbody>\n",
       "    <tr>\n",
       "      <th>0</th>\n",
       "      <td>0.77125</td>\n",
       "      <td>0.795640</td>\n",
       "      <td>0.7300</td>\n",
       "    </tr>\n",
       "    <tr>\n",
       "      <th>1</th>\n",
       "      <td>0.77100</td>\n",
       "      <td>0.792341</td>\n",
       "      <td>0.7345</td>\n",
       "    </tr>\n",
       "    <tr>\n",
       "      <th>2</th>\n",
       "      <td>0.76975</td>\n",
       "      <td>0.784396</td>\n",
       "      <td>0.7440</td>\n",
       "    </tr>\n",
       "  </tbody>\n",
       "</table>\n",
       "</div>"
      ],
      "text/plain": [
       "   Accuracy  Precision  Recall\n",
       "0   0.77125   0.795640  0.7300\n",
       "1   0.77100   0.792341  0.7345\n",
       "2   0.76975   0.784396  0.7440"
      ]
     },
     "execution_count": 35,
     "metadata": {},
     "output_type": "execute_result"
    }
   ],
   "source": [
    "%%time\n",
    "from sklearn.linear_model import LogisticRegression\n",
    "\n",
    "clf = LogisticRegression(max_iter=10000)\n",
    "\n",
    "EvaluateClassifierEstimator(clf, X_us, y_us, cv)"
   ]
  },
  {
   "cell_type": "markdown",
   "id": "e1af1c36",
   "metadata": {},
   "source": [
    "### Using clustering to feature engineer"
   ]
  },
  {
   "cell_type": "code",
   "execution_count": 36,
   "id": "23e304d9",
   "metadata": {},
   "outputs": [],
   "source": [
    "from sklearn.cluster import AgglomerativeClustering\n",
    "from sklearn.cluster import KMeans\n",
    "from sklearn.cluster import DBSCAN"
   ]
  },
  {
   "cell_type": "markdown",
   "id": "be86bbc6",
   "metadata": {},
   "source": [
    "#### What to cluster"
   ]
  },
  {
   "cell_type": "code",
   "execution_count": 25,
   "id": "be3666a6",
   "metadata": {},
   "outputs": [],
   "source": [
    "X1 = X_us[['stays_in_week_nights','stays_in_weekend_nights']]\n",
    "X2 = X_us[['is_repeated_guest','previous_bookings_not_canceled']]\n",
    "X3 = X_us[['adr','stays_in_week_nights', 'adults', 'children','babies','stays_in_weekend_nights']]"
   ]
  },
  {
   "cell_type": "markdown",
   "id": "15e2554a",
   "metadata": {},
   "source": [
    "For Loops"
   ]
  },
  {
   "cell_type": "markdown",
   "id": "6019b56b",
   "metadata": {},
   "source": [
    "X1\n",
    "\n",
    "Average accuracy=  4 77.575 +- 0.35414215601459387"
   ]
  },
  {
   "cell_type": "code",
   "execution_count": 38,
   "id": "f7aff785",
   "metadata": {
    "scrolled": true
   },
   "outputs": [
    {
     "name": "stdout",
     "output_type": "stream",
     "text": [
      "Average accuracy=  3 76.98333333333332 +- 0.11606990230986869\n",
      "Average accuracy=  4 77.12499999999999 +- 0.03535533905932348\n",
      "Average accuracy=  5 76.95833333333333 +- 0.11960583412006154\n",
      "Average accuracy=  6 76.95833333333333 +- 0.17118865486811985\n",
      "Average accuracy=  7 76.96666666666667 +- 0.1940074454470483\n",
      "Average accuracy=  8 76.95833333333333 +- 0.18408935028645684\n",
      "Average accuracy=  9 77.05833333333332 +- 0.1359125535858325\n",
      "Average accuracy=  10 76.91666666666667 +- 0.13123346456686458\n",
      "Average accuracy=  11 77.11666666666667 +- 0.18295415333416867\n",
      "Wall time: 46.5 s\n"
     ]
    }
   ],
   "source": [
    "%%time\n",
    "from sklearn.cluster import KMeans\n",
    "from sklearn.model_selection import cross_val_score\n",
    "import numpy as np\n",
    "\n",
    "params = []\n",
    "for n in range(3,12):\n",
    "\n",
    "    X1 = X_us[['stays_in_week_nights','stays_in_weekend_nights']]\n",
    "\n",
    "    cls = KMeans(n_clusters=n, init='k-means++')\n",
    "    cls.fit(X1)\n",
    "    \n",
    "    newfeature = cls.labels_ # the labels from kmeans clustering\n",
    "    \n",
    "    original_X = X_us.drop(['stays_in_week_nights','stays_in_weekend_nights'], axis=1)\n",
    "    X_final = np.column_stack((original_X,pd.get_dummies(newfeature)))\n",
    "    \n",
    "    acc = cross_val_score(clf,X_final,y=y_us,cv=cv)\n",
    "    params.append((n,acc.mean()*100,acc.std()*100))\n",
    "    \n",
    "    print (\"Average accuracy= \",n, acc.mean()*100, \"+-\", acc.std()*100)\n",
    "    "
   ]
  },
  {
   "cell_type": "markdown",
   "id": "c08e57f4",
   "metadata": {},
   "source": [
    "X2\n",
    "\n",
    "Average accuracy=  6 77.69166666666666 +- 0.14481789330818762"
   ]
  },
  {
   "cell_type": "code",
   "execution_count": 39,
   "id": "d5d82487",
   "metadata": {},
   "outputs": [
    {
     "name": "stdout",
     "output_type": "stream",
     "text": [
      "Average accuracy=  3 76.95 +- 0.08164965809277268\n",
      "Average accuracy=  4 76.95833333333333 +- 0.08249579113843118\n",
      "Average accuracy=  5 76.95 +- 0.08164965809277268\n",
      "Average accuracy=  6 76.95833333333333 +- 0.08249579113843118\n",
      "Average accuracy=  7 76.95 +- 0.08164965809277268\n",
      "Average accuracy=  8 76.95 +- 0.08164965809277268\n",
      "Average accuracy=  9 76.94166666666668 +- 0.08249579113843043\n",
      "Average accuracy=  10 76.95 +- 0.08164965809277268\n",
      "Average accuracy=  11 76.95 +- 0.08164965809277268\n",
      "Wall time: 54.5 s\n"
     ]
    }
   ],
   "source": [
    "%%time\n",
    "from sklearn.cluster import KMeans\n",
    "from sklearn.model_selection import cross_val_score\n",
    "import numpy as np\n",
    "\n",
    "params = []\n",
    "for n in range(3,12):\n",
    "\n",
    "    X2 = X_us[['is_repeated_guest','previous_bookings_not_canceled']]\n",
    "\n",
    "    cls = KMeans(n_clusters=n, init='k-means++')\n",
    "    cls.fit(X2)\n",
    "    \n",
    "    newfeature = cls.labels_ # the labels from kmeans clustering\n",
    "    \n",
    "    original_X = X_us.drop(['arrival_date_week_number','arrival_date_year'], axis=1)\n",
    "    X_final = np.column_stack((original_X,pd.get_dummies(newfeature)))\n",
    "    \n",
    "    acc = cross_val_score(clf,X_final,y=y_us,cv=cv)\n",
    "    params.append((n,acc.mean()*100,acc.std()*100))\n",
    "    \n",
    "    print (\"Average accuracy= \",n, acc.mean()*100, \"+-\", acc.std()*100)"
   ]
  },
  {
   "cell_type": "markdown",
   "id": "f96e8a70",
   "metadata": {},
   "source": [
    "X3\n",
    "\n",
    "Average accuracy=  5 77.33333333333334 +- 0.10069204977995715"
   ]
  },
  {
   "cell_type": "code",
   "execution_count": 40,
   "id": "bd77c7d6",
   "metadata": {},
   "outputs": [
    {
     "name": "stdout",
     "output_type": "stream",
     "text": [
      "Average accuracy=  1 76.93333333333334 +- 0.19614337159899412\n",
      "Average accuracy=  2 76.9 +- 0.19472202409246198\n",
      "Average accuracy=  3 76.925 +- 0.15411035007422547\n",
      "Average accuracy=  4 77.175 +- 0.24065881796989538\n",
      "Average accuracy=  5 77.14999999999999 +- 0.09354143466934813\n",
      "Average accuracy=  6 77.07499999999999 +- 0.05400617248673136\n",
      "Average accuracy=  7 77.10833333333333 +- 0.13281147875424704\n",
      "Average accuracy=  8 77.18333333333334 +- 0.05137011669140669\n",
      "Average accuracy=  9 77.15833333333335 +- 0.0656167322834297\n",
      "Average accuracy=  10 77.11666666666666 +- 0.11785113019776065\n",
      "Average accuracy=  11 77.14999999999999 +- 0.1060660171779809\n",
      "Average accuracy=  12 77.15 +- 0.035355339059328715\n",
      "Average accuracy=  13 77.09166666666668 +- 0.10274023338281396\n",
      "Average accuracy=  14 77.00833333333334 +- 0.16996731711975965\n"
     ]
    }
   ],
   "source": [
    "from sklearn import metrics\n",
    "from scipy.spatial.distance import cdist\n",
    "import matplotlib.pyplot as plt\n",
    "\n",
    "params = []\n",
    "distortions = []\n",
    "inertias = []\n",
    "\n",
    "for n in range(1,15):\n",
    "\n",
    "    X3 = X_us[['adr','stays_in_week_nights', 'adults', 'children','babies','stays_in_weekend_nights']]\n",
    "\n",
    "    cls = KMeans(n_clusters=n, init='k-means++',random_state=1)\n",
    "    cls.fit(X3)\n",
    "    newfeature_1 = cls.labels_ # the labels from kmeans clustering\n",
    "    distortions.append(sum(np.min(cdist(X3, cls.cluster_centers_, 'euclidean'), axis=1)) / X3.shape[0])\n",
    "    inertias.append(cls.inertia_)\n",
    "    \n",
    "    original_X = X_us.drop(['is_repeated_guest','previous_bookings_not_canceled'], axis=1)\n",
    "    final_X = np.column_stack((original_X,pd.get_dummies(newfeature_1)))\n",
    "\n",
    "    acc = cross_val_score(clf,final_X,y=y_us,cv=cv)\n",
    "    params.append((n,acc.mean()*100,acc.std()*100))\n",
    "    \n",
    "    print (\"Average accuracy= \",n, acc.mean()*100, \"+-\", acc.std()*100)"
   ]
  },
  {
   "cell_type": "code",
   "execution_count": 41,
   "id": "31b2edd6",
   "metadata": {},
   "outputs": [
    {
     "data": {
      "image/png": "[encoded data removed]",
      "text/plain": [
       "<Figure size 432x288 with 1 Axes>"
      ]
     },
     "metadata": {},
     "output_type": "display_data"
    }
   ],
   "source": [
    "n_shape = range(1,15)\n",
    "plt.plot(n_shape, distortions, 'bx-')\n",
    "plt.xlabel('Values of K')\n",
    "plt.ylabel('Distortion')\n",
    "plt.title('The Elbow Method using Distortion')\n",
    "plt.show()"
   ]
  },
  {
   "cell_type": "code",
   "execution_count": 42,
   "id": "c51d101f",
   "metadata": {},
   "outputs": [
    {
     "data": {
      "image/png": "[encoded data removed]",
      "text/plain": [
       "<Figure size 432x288 with 1 Axes>"
      ]
     },
     "metadata": {},
     "output_type": "display_data"
    }
   ],
   "source": [
    "plt.plot(n_shape, inertias, 'bx-')\n",
    "plt.xlabel('Values of K')\n",
    "plt.ylabel('Inertia')\n",
    "plt.title('The Elbow Method using Inertia')\n",
    "plt.show()"
   ]
  },
  {
   "cell_type": "markdown",
   "id": "8234fcf4",
   "metadata": {},
   "source": [
    "2 For Loops for KMeans\n",
    "\n",
    "Average accuracy)=  7 3 77.39166666666667 +- 0.1940074454470483"
   ]
  },
  {
   "cell_type": "code",
   "execution_count": 43,
   "id": "ef8206b9",
   "metadata": {
    "scrolled": false
   },
   "outputs": [
    {
     "name": "stdout",
     "output_type": "stream",
     "text": [
      "Average accuracy)=  3 3 76.93333333333334 +- 0.11606990230986498\n",
      "Average accuracy)=  3 4 76.93333333333334 +- 0.11606990230986498\n",
      "Average accuracy)=  3 5 76.93333333333334 +- 0.11606990230986498\n",
      "Average accuracy)=  3 6 76.93333333333334 +- 0.11606990230986498\n",
      "Average accuracy)=  3 7 76.93333333333334 +- 0.11606990230986498\n",
      "Average accuracy)=  3 8 76.93333333333334 +- 0.11606990230986498\n",
      "Average accuracy)=  4 3 77.00833333333334 +- 0.05137011669141149\n",
      "Average accuracy)=  4 4 77.00833333333334 +- 0.05137011669141149\n",
      "Average accuracy)=  4 5 77.00833333333334 +- 0.05137011669141149\n",
      "Average accuracy)=  4 6 77.00833333333334 +- 0.05137011669141149\n",
      "Average accuracy)=  4 7 77.00833333333334 +- 0.05137011669141149\n",
      "Average accuracy)=  4 8 77.00833333333334 +- 0.05137011669141149\n",
      "Average accuracy)=  5 3 76.93333333333334 +- 0.09646530752325148\n",
      "Average accuracy)=  5 4 76.93333333333334 +- 0.09646530752325148\n",
      "Average accuracy)=  5 5 76.93333333333334 +- 0.09646530752325148\n",
      "Average accuracy)=  5 6 76.93333333333334 +- 0.09646530752325148\n",
      "Average accuracy)=  5 7 76.93333333333334 +- 0.09646530752325148\n",
      "Average accuracy)=  5 8 76.93333333333334 +- 0.09646530752325148\n",
      "Average accuracy)=  6 3 76.93333333333334 +- 0.20548046676563272\n",
      "Average accuracy)=  6 4 76.93333333333334 +- 0.20548046676563272\n",
      "Average accuracy)=  6 5 76.93333333333334 +- 0.20548046676563272\n",
      "Average accuracy)=  6 6 76.93333333333334 +- 0.20548046676563272\n",
      "Average accuracy)=  6 7 76.93333333333334 +- 0.20548046676563272\n",
      "Average accuracy)=  6 8 76.93333333333334 +- 0.20548046676563272\n",
      "Average accuracy)=  7 3 76.9 +- 0.34880749227427493\n",
      "Average accuracy)=  7 4 76.9 +- 0.34880749227427493\n",
      "Average accuracy)=  7 5 76.9 +- 0.34880749227427493\n",
      "Average accuracy)=  7 6 76.9 +- 0.34880749227427493\n",
      "Average accuracy)=  7 7 76.9 +- 0.34880749227427493\n",
      "Average accuracy)=  7 8 76.9 +- 0.34880749227427493\n",
      "Average accuracy)=  8 3 76.9 +- 0.16708281379802895\n",
      "Average accuracy)=  8 4 76.9 +- 0.16708281379802895\n",
      "Average accuracy)=  8 5 76.9 +- 0.16708281379802895\n",
      "Average accuracy)=  8 6 76.9 +- 0.16708281379802895\n",
      "Average accuracy)=  8 7 76.9 +- 0.16708281379802895\n",
      "Average accuracy)=  8 8 76.9 +- 0.16708281379802895\n"
     ]
    }
   ],
   "source": [
    "from sklearn.cluster import KMeans\n",
    "from sklearn.model_selection import cross_val_score\n",
    "import numpy as np\n",
    "\n",
    "X1 = X_us[['stays_in_week_nights','stays_in_weekend_nights']]\n",
    "X2 = X_us[['is_repeated_guest','previous_bookings_not_canceled']]\n",
    "\n",
    "params = []\n",
    "distortions = []\n",
    "inertias = []\n",
    "# we want to include ranges that have our best results from above\n",
    "for n in range(3,9):\n",
    "    for n2 in range(3,9):\n",
    "\n",
    "    \n",
    "        cls = KMeans(n_clusters=n, init='k-means++',random_state=1)\n",
    "        cls.fit(X1)\n",
    "        newfeature = cls.labels_ # the labels from kmeans clustering\n",
    "\n",
    "        cls2 = KMeans(n_clusters=n2, init='k-means++',random_state=1)\n",
    "        cls2.fit(X2)\n",
    "        newfeature2 = cls2.labels_ # the labels from kmeans clustering\n",
    "        \n",
    "        original_X = X_us.drop(['is_repeated_guest','previous_bookings_not_canceled',\n",
    "                           'stays_in_week_nights','stays_in_weekend_nights'], axis=1)\n",
    "        final_X = np.column_stack((original_X,pd.get_dummies(newfeature,pd.get_dummies(newfeature2))))\n",
    "\n",
    "        acc = cross_val_score(clf,final_X,y=y_us,cv=cv)\n",
    "        params.append((n,n2,acc.mean()*100,acc.std()*100))\n",
    "\n",
    "        print (\"Average accuracy)= \",n,n2, acc.mean()*100, \"+-\", acc.std()*100)\n",
    "\n",
    "        \n"
   ]
  },
  {
   "cell_type": "markdown",
   "id": "f09ed59d",
   "metadata": {},
   "source": [
    "#### DBSCN For loop"
   ]
  },
  {
   "cell_type": "markdown",
   "id": "6bd1654a",
   "metadata": {},
   "source": [
    "X1 - 0.125 6 Average accuracy =  77.0 +- 0.122474487139159\n",
    "\n",
    "X2 - 0.15 5 Average accuracy =  77.04166666666667 +- 0.11960583412005818\n",
    "\n",
    "X3 - 0.15 8 Average accuracy =  77.06666666666666 +- 0.21826334756181198"
   ]
  },
  {
   "cell_type": "code",
   "execution_count": 44,
   "id": "e140ab0f",
   "metadata": {},
   "outputs": [
    {
     "name": "stdout",
     "output_type": "stream",
     "text": [
      "0.1 5 Average accuracy =  77.00833333333334 +- 0.14481789330819167\n",
      "0.1 6 Average accuracy =  77.0 +- 0.122474487139159\n",
      "0.1 7 Average accuracy =  76.98333333333332 +- 0.1328114787542424\n",
      "0.1 8 Average accuracy =  77.0 +- 0.13385315336841164\n",
      "0.1 9 Average accuracy =  76.98333333333332 +- 0.11242281302693476\n",
      "0.125 5 Average accuracy =  77.00833333333334 +- 0.14481789330819167\n",
      "0.125 6 Average accuracy =  77.0 +- 0.122474487139159\n",
      "0.125 7 Average accuracy =  76.98333333333332 +- 0.1328114787542424\n",
      "0.125 8 Average accuracy =  77.0 +- 0.13385315336841164\n",
      "0.125 9 Average accuracy =  76.98333333333332 +- 0.11242281302693476\n",
      "0.15 5 Average accuracy =  77.00833333333334 +- 0.14481789330819167\n",
      "0.15 6 Average accuracy =  77.0 +- 0.122474487139159\n",
      "0.15 7 Average accuracy =  76.98333333333332 +- 0.1328114787542424\n",
      "0.15 8 Average accuracy =  77.0 +- 0.13385315336841164\n",
      "0.15 9 Average accuracy =  76.98333333333332 +- 0.11242281302693476\n"
     ]
    }
   ],
   "source": [
    "#X1\n",
    "\n",
    "params = []\n",
    "for eps in [0.1, 0.125, 0.15]:\n",
    "    for mpts in range(5,10):\n",
    "\n",
    "        # append on the clustering\n",
    "        cls = DBSCAN(eps=eps, min_samples=mpts)\n",
    "        cls.fit(X1)\n",
    "        newfeature_1 = cls.labels_ # the labels from kmeans clustering\n",
    "\n",
    "        original_X = X_us.drop(['stays_in_week_nights','stays_in_weekend_nights'], axis=1)\n",
    "        final_X = np.column_stack((original_X,pd.get_dummies(newfeature_1)))\n",
    "\n",
    "        acc = cross_val_score(clf,final_X,y=y_us,cv=cv)\n",
    "        params.append((eps,mpts,acc.mean()*100,acc.std()*100))\n",
    "\n",
    "        print (eps,mpts,\"Average accuracy = \", acc.mean()*100, \"+-\", acc.std()*100)"
   ]
  },
  {
   "cell_type": "code",
   "execution_count": 45,
   "id": "52104e99",
   "metadata": {},
   "outputs": [
    {
     "name": "stdout",
     "output_type": "stream",
     "text": [
      "0.1 5 Average accuracy =  77.04166666666667 +- 0.11960583412005818\n",
      "0.1 6 Average accuracy =  77.04166666666667 +- 0.11960583412005818\n",
      "0.1 7 Average accuracy =  77.025 +- 0.09354143466934713\n",
      "0.1 8 Average accuracy =  77.02499999999999 +- 0.11365151414154523\n",
      "0.1 9 Average accuracy =  77.02499999999999 +- 0.11365151414154523\n",
      "0.125 5 Average accuracy =  77.04166666666667 +- 0.11960583412005818\n",
      "0.125 6 Average accuracy =  77.04166666666667 +- 0.11960583412005818\n",
      "0.125 7 Average accuracy =  77.025 +- 0.09354143466934713\n",
      "0.125 8 Average accuracy =  77.02499999999999 +- 0.11365151414154523\n",
      "0.125 9 Average accuracy =  77.02499999999999 +- 0.11365151414154523\n",
      "0.15 5 Average accuracy =  77.04166666666667 +- 0.11960583412005818\n",
      "0.15 6 Average accuracy =  77.04166666666667 +- 0.11960583412005818\n",
      "0.15 7 Average accuracy =  77.025 +- 0.09354143466934713\n",
      "0.15 8 Average accuracy =  77.02499999999999 +- 0.11365151414154523\n",
      "0.15 9 Average accuracy =  77.02499999999999 +- 0.11365151414154523\n"
     ]
    }
   ],
   "source": [
    "#X2\n",
    "params = []\n",
    "for eps in [0.1, 0.125, 0.15]:\n",
    "    for mpts in range(5,10):\n",
    "\n",
    "        # append on the clustering\n",
    "        cls = DBSCAN(eps=eps, min_samples=mpts)\n",
    "        cls.fit(X2)\n",
    "        newfeature_1 = cls.labels_ # the labels from kmeans clustering\n",
    "\n",
    "        original_X = X_us.drop(['is_repeated_guest','previous_bookings_not_canceled'], axis=1)\n",
    "        final_X = np.column_stack((original_X,pd.get_dummies(newfeature_1)))\n",
    "\n",
    "        acc = cross_val_score(clf,final_X,y=y_us,cv=cv)\n",
    "        params.append((eps,mpts,acc.mean()*100,acc.std()*100))\n",
    "\n",
    "        print (eps,mpts,\"Average accuracy = \", acc.mean()*100, \"+-\", acc.std()*100)"
   ]
  },
  {
   "cell_type": "code",
   "execution_count": 46,
   "id": "de588e77",
   "metadata": {
    "scrolled": true
   },
   "outputs": [
    {
     "name": "stdout",
     "output_type": "stream",
     "text": [
      "0.1 5 Average accuracy =  76.99166666666667 +- 0.10274023338281396\n",
      "0.1 6 Average accuracy =  76.93333333333334 +- 0.15456030825826025\n",
      "0.1 7 Average accuracy =  76.86666666666667 +- 0.10474837574980676\n",
      "0.1 8 Average accuracy =  76.70833333333333 +- 0.15320646925708653\n",
      "0.1 9 Average accuracy =  76.70833333333333 +- 0.21826334756181293\n",
      "0.125 5 Average accuracy =  76.875 +- 0.2010389680302474\n",
      "0.125 6 Average accuracy =  76.85 +- 0.1744037461371356\n",
      "0.125 7 Average accuracy =  76.91666666666667 +- 0.20548046676563272\n",
      "0.125 8 Average accuracy =  76.91666666666667 +- 0.2695160271466068\n",
      "0.125 9 Average accuracy =  76.84166666666667 +- 0.23921166824012485\n",
      "0.15 5 Average accuracy =  76.85 +- 0.4242640687119289\n",
      "0.15 6 Average accuracy =  76.95833333333333 +- 0.2889155970559976\n",
      "0.15 7 Average accuracy =  77.0 +- 0.24065881796989153\n",
      "0.15 8 Average accuracy =  77.06666666666666 +- 0.21826334756181198\n",
      "0.15 9 Average accuracy =  77.06666666666668 +- 0.22391714737574295\n",
      "Wall time: 5min 19s\n"
     ]
    }
   ],
   "source": [
    "%%time \n",
    "#X3\n",
    "X3 = X_us[['adr','stays_in_week_nights', 'adults', 'children','babies','stays_in_weekend_nights']]\n",
    "from sklearn.cluster import DBSCAN\n",
    "\n",
    "params = []\n",
    "for eps in [0.1, 0.125, 0.15]:\n",
    "    for mpts in range(5,10):\n",
    "\n",
    "        # append on the clustering\n",
    "        cls = DBSCAN(eps=eps, min_samples=mpts)\n",
    "        cls.fit(X3)\n",
    "        newfeature_1 = cls.labels_ # the labels from kmeans clustering\n",
    "\n",
    "        original_X = X_us.drop(['adr','stays_in_week_nights', 'adults', 'children','babies','stays_in_weekend_nights'], axis=1)\n",
    "        final_X = np.column_stack((original_X,pd.get_dummies(newfeature_1)))\n",
    "\n",
    "        acc = cross_val_score(clf,final_X,y=y_us,cv=cv)\n",
    "        params.append((eps,mpts,acc.mean()*100,acc.std()*100))\n",
    "\n",
    "        print (eps,mpts,\"Average accuracy = \", acc.mean()*100, \"+-\", acc.std()*100)\n",
    "        \n"
   ]
  },
  {
   "cell_type": "markdown",
   "id": "441ab41f",
   "metadata": {},
   "source": [
    "#### AgglomerativeClustering For Loop"
   ]
  },
  {
   "cell_type": "markdown",
   "id": "5cf8f98e",
   "metadata": {},
   "source": [
    "C= 4 complete Average accuracy =  77.15833333333335 +- 0.042491829279940274"
   ]
  },
  {
   "cell_type": "code",
   "execution_count": 47,
   "id": "5d16e16b",
   "metadata": {
    "scrolled": true
   },
   "outputs": [
    {
     "name": "stdout",
     "output_type": "stream",
     "text": [
      "C= 4 ward Average accuracy =  77.13333333333333 +- 0.031180478223117685\n",
      "C= 4 complete Average accuracy =  77.15833333333335 +- 0.042491829279940274\n",
      "C= 4 average Average accuracy =  77.13333333333333 +- 0.17598926734952333\n"
     ]
    }
   ],
   "source": [
    "from sklearn.cluster import AgglomerativeClustering\n",
    "params = []\n",
    "for link in ['ward', 'complete', 'average']:\n",
    "    for n in range(4,5):\n",
    "\n",
    "        # append on the clustering\n",
    "        cls = AgglomerativeClustering(n_clusters=n, linkage=link)\n",
    "        cls.fit(X1)\n",
    "        newfeature_1 = cls.labels_ # the labels from kmeans clustering\n",
    "\n",
    "        original_X = X_us.drop(['stays_in_week_nights','stays_in_weekend_nights'], axis=1)\n",
    "        final_X = np.column_stack((original_X,pd.get_dummies(newfeature_1)))\n",
    "\n",
    "        acc = cross_val_score(clf,final_X,y=y_us,cv=cv)\n",
    "        params.append((link,n,acc.mean()*100,acc.std()*100))\n",
    "\n",
    "        print (\"C=\",n,link,\"Average accuracy = \", acc.mean()*100, \"+-\", acc.std()*100)"
   ]
  },
  {
   "cell_type": "markdown",
   "id": "1b49c743",
   "metadata": {},
   "source": [
    "C= 6 complete Average accuracy =  76.96666666666667 +- 0.06236095644623044"
   ]
  },
  {
   "cell_type": "code",
   "execution_count": 48,
   "id": "952f72b1",
   "metadata": {},
   "outputs": [
    {
     "name": "stdout",
     "output_type": "stream",
     "text": [
      "C= 6 ward Average accuracy =  77.01666666666668 +- 0.07168604389202303\n",
      "C= 6 complete Average accuracy =  76.96666666666667 +- 0.06236095644623044\n",
      "C= 6 average Average accuracy =  76.96666666666667 +- 0.06236095644623044\n"
     ]
    }
   ],
   "source": [
    "params = []\n",
    "for link in ['ward', 'complete', 'average']:\n",
    "    for n in range(6,7):\n",
    "\n",
    "        # append on the clustering\n",
    "        cls = AgglomerativeClustering(n_clusters=n, linkage=link)\n",
    "        cls.fit(X2)\n",
    "        newfeature_1 = cls.labels_ # the labels from kmeans clustering\n",
    "\n",
    "        original_X = X_us.drop(['is_repeated_guest','previous_bookings_not_canceled'], axis=1)\n",
    "        final_X = np.column_stack((original_X,pd.get_dummies(newfeature_1)))\n",
    "\n",
    "        acc = cross_val_score(clf,final_X,y=y_us,cv=cv)\n",
    "        params.append((link,n,acc.mean()*100,acc.std()*100))\n",
    "\n",
    "        print (\"C=\",n,link,\"Average accuracy = \", acc.mean()*100, \"+-\", acc.std()*100)"
   ]
  },
  {
   "cell_type": "markdown",
   "id": "83bd29c7",
   "metadata": {},
   "source": [
    "C= 5 ward Average accuracy =  77.14166666666667 +- 0.2896357866163793"
   ]
  },
  {
   "cell_type": "code",
   "execution_count": 49,
   "id": "f50eb533",
   "metadata": {},
   "outputs": [
    {
     "name": "stdout",
     "output_type": "stream",
     "text": [
      "C= 5 ward Average accuracy =  77.14166666666667 +- 0.2896357866163793\n",
      "C= 5 complete Average accuracy =  77.03333333333333 +- 0.36590830666833496\n",
      "C= 5 average Average accuracy =  77.04166666666667 +- 0.37767563978749175\n"
     ]
    }
   ],
   "source": [
    "#%%time \n",
    "\n",
    "X3 = X_us[['adr','stays_in_week_nights', 'adults', 'children','babies','stays_in_weekend_nights']]\n",
    "\n",
    "params = []\n",
    "for link in ['ward', 'complete', 'average']:\n",
    "    for n in range(5,6):\n",
    "\n",
    "        # append on the clustering\n",
    "        cls = AgglomerativeClustering(n_clusters=n, linkage=link)\n",
    "        cls.fit(X3)\n",
    "        newfeature_1 = cls.labels_ # the labels from kmeans clustering\n",
    "\n",
    "        original_X = X_us.drop(['adr','stays_in_week_nights', 'adults', 'children','babies','stays_in_weekend_nights'], axis=1)\n",
    "        final_X = np.column_stack((original_X,pd.get_dummies(newfeature_1)))\n",
    "\n",
    "        acc = cross_val_score(clf,final_X,y=y_us,cv=cv)\n",
    "        params.append((link,n,acc.mean()*100,acc.std()*100))\n",
    "\n",
    "        print (\"C=\",n,link,\"Average accuracy = \", acc.mean()*100, \"+-\", acc.std()*100)"
   ]
  },
  {
   "cell_type": "markdown",
   "id": "ee896a7c",
   "metadata": {},
   "source": [
    "#### Gaussian Mixture For Loop"
   ]
  },
  {
   "cell_type": "markdown",
   "id": "f3971a7a",
   "metadata": {},
   "source": [
    "Best Gausian\n",
    "\n",
    "X1\n",
    "GaussianMixture(covariance_type='diag', n_components=19)\n",
    "\n",
    "X2\n",
    "GaussianMixture(covariance_type='diag', n_components=19)\n",
    "\n",
    "X3\n",
    "GaussianMixture(covariance_type='diag', n_components=15)"
   ]
  },
  {
   "cell_type": "code",
   "execution_count": 50,
   "id": "723393d8",
   "metadata": {},
   "outputs": [
    {
     "data": {
      "text/plain": [
       "GaussianMixture(covariance_type='diag', n_components=19)"
      ]
     },
     "execution_count": 50,
     "metadata": {},
     "output_type": "execute_result"
    }
   ],
   "source": [
    "import itertools\n",
    "\n",
    "import numpy as np\n",
    "from scipy import linalg\n",
    "import matplotlib.pyplot as plt\n",
    "import matplotlib as mpl\n",
    "\n",
    "from sklearn import mixture\n",
    "#X1\n",
    "lowest_bic = np.infty\n",
    "bic = []\n",
    "n_components_range = range(4, 20)\n",
    "cv_types = ['spherical', 'diag', 'full']\n",
    "for cv_type in cv_types:\n",
    "    for n_components in n_components_range:\n",
    "        # Fit a mixture of Gaussians with EM\n",
    "        gmm = mixture.GaussianMixture(n_components=n_components, covariance_type=cv_type)\n",
    "        gmm.fit(X1)\n",
    "        bic.append(gmm.bic(X1))\n",
    "        if bic[-1] < lowest_bic:\n",
    "            lowest_bic = bic[-1]\n",
    "            best_gmm = gmm\n",
    "best_gmm"
   ]
  },
  {
   "cell_type": "code",
   "execution_count": 51,
   "id": "6b2a7fba",
   "metadata": {},
   "outputs": [
    {
     "data": {
      "text/plain": [
       "GaussianMixture(covariance_type='diag', n_components=19)"
      ]
     },
     "execution_count": 51,
     "metadata": {},
     "output_type": "execute_result"
    }
   ],
   "source": [
    "#X2\n",
    "lowest_bic = np.infty\n",
    "bic = []\n",
    "n_components_range = range(5,20)\n",
    "cv_types = ['spherical', 'diag', 'full']\n",
    "for cv_type in cv_types:\n",
    "    for n_components in n_components_range:\n",
    "        # Fit a mixture of Gaussians with EM\n",
    "        gmm = mixture.GaussianMixture(n_components=n_components, covariance_type=cv_type)\n",
    "        gmm.fit(X2)\n",
    "        bic.append(gmm.bic(X2))\n",
    "        if bic[-1] < lowest_bic:\n",
    "            lowest_bic = bic[-1]\n",
    "            best_gmm = gmm\n",
    "best_gmm"
   ]
  },
  {
   "cell_type": "code",
   "execution_count": 52,
   "id": "941cea18",
   "metadata": {},
   "outputs": [
    {
     "data": {
      "text/plain": [
       "GaussianMixture(covariance_type='diag', n_components=15)"
      ]
     },
     "execution_count": 52,
     "metadata": {},
     "output_type": "execute_result"
    }
   ],
   "source": [
    "#X3\n",
    "lowest_bic = np.infty\n",
    "bic = []\n",
    "n_components_range = range(7, 17)\n",
    "cv_types = ['spherical', 'diag', 'full']\n",
    "for cv_type in cv_types:\n",
    "    for n_components in n_components_range:\n",
    "        # Fit a mixture of Gaussians with EM\n",
    "        gmm = mixture.GaussianMixture(n_components=n_components, covariance_type=cv_type)\n",
    "        gmm.fit(X3)\n",
    "        bic.append(gmm.bic(X3))\n",
    "        if bic[-1] < lowest_bic:\n",
    "            lowest_bic = bic[-1]\n",
    "            best_gmm = gmm\n",
    "best_gmm"
   ]
  },
  {
   "cell_type": "code",
   "execution_count": 53,
   "id": "f4781a86",
   "metadata": {},
   "outputs": [
    {
     "ename": "AttributeError",
     "evalue": "'GaussianMixture' object has no attribute 'labels_'",
     "output_type": "error",
     "traceback": [
      "\u001b[1;31m---------------------------------------------------------------------------\u001b[0m",
      "\u001b[1;31mAttributeError\u001b[0m                            Traceback (most recent call last)",
      "\u001b[1;32m<timed exec>\u001b[0m in \u001b[0;36m<module>\u001b[1;34m\u001b[0m\n",
      "\u001b[1;31mAttributeError\u001b[0m: 'GaussianMixture' object has no attribute 'labels_'"
     ]
    }
   ],
   "source": [
    "# %%time\n",
    "# from sklearn import metrics as mt\n",
    "# X3 = X_us[['adr','stays_in_week_nights', 'adults', 'children','babies','stays_in_weekend_nights']]\n",
    "\n",
    "# clf_gmm = mixture.GaussianMixture(n_components=14, covariance_type='diag')\n",
    "# clf_gmm.fit(X3)\n",
    "\n",
    "# newfeature = clf_gmm.labels_ # the labels from kmeans clustering\n",
    "\n",
    "# X_change = X_us.drop(['adr','stays_in_week_nights', 'adults', 'children','babies','stays_in_weekend_nights'], axis=1)\n",
    "\n",
    "# X_new = np.column_stack((X_change,pd.get_dummies(newfeature)))\n",
    "\n",
    "# acc = cross_val_score(cls,X_new,y=y_us,cv=cv)\n",
    "\n",
    "# print (\"Average accuracy\", acc.mean()*100, \"+-\", acc.std()*100)\n",
    "\n",
    "\n",
    "# %%time\n",
    "# clf_gmm = mixture.GaussianMixture(n_components=18, covariance_type='diag')\n",
    "\n",
    "# for train, test in cv.split(X_train_scaled,y_train):\n",
    "#     clf_gmm.fit(X_train_scaled,y_train)\n",
    "#     yhat_gmm = clf_gmm.predict(X_test_scaled)\n",
    "    \n",
    "# total_accuracy_gmm = mt.accuracy_score(y_test, yhat_gmm)\n",
    "\n",
    "# print ('Accuracy of \"Gaussian Mixture\"', total_accuracy_gmm)"
   ]
  },
  {
   "cell_type": "markdown",
   "id": "cefef5f8",
   "metadata": {},
   "source": [
    "# Modeling and Evaluation 2\n",
    "\n",
    "evaluate and compare"
   ]
  },
  {
   "cell_type": "code",
   "execution_count": null,
   "id": "45d69225",
   "metadata": {},
   "outputs": [],
   "source": []
  },
  {
   "cell_type": "markdown",
   "id": "3e977907",
   "metadata": {},
   "source": [
    "# Modeling and Evaluation 3\n",
    "\n",
    "Visualize\n",
    "\n",
    "PCA\n",
    "https://www.scikit-yb.org/en/latest/\n",
    "\n",
    "Elbow graph\n",
    "https://www.scikit-yb.org/en/latest/api/cluster/elbow.html\n",
    "\n",
    "sill graph\n",
    "https://www.scikit-yb.org/en/latest/api/cluster/silhouette.html\n",
    "\n",
    "intercluster\n",
    "https://www.scikit-yb.org/en/latest/api/cluster/icdm.html\n",
    "\n",
    "denger gram"
   ]
  },
  {
   "cell_type": "code",
   "execution_count": 54,
   "id": "6983d0ad",
   "metadata": {},
   "outputs": [],
   "source": [
    "# Source: https://hdbscan.readthedocs.io/en/latest/comparing_clustering_algorithms.html\n",
    "import numpy as np\n",
    "import matplotlib.pyplot as plt\n",
    "import seaborn as sns\n",
    "import sklearn.cluster as cluster\n",
    "import time\n",
    "%matplotlib inline\n",
    "sns.set_context('poster')\n",
    "sns.set_color_codes()\n",
    "\n",
    "plot_kwds = {'alpha' : 0.25, 's' : 80, 'linewidths':0}\n",
    "def plot_clusters(data, algorithm, args, kwds):\n",
    "    start_time = time.time()\n",
    "    labels = algorithm(*args, **kwds).fit_predict(data)\n",
    "    end_time = time.time()\n",
    "    palette = sns.color_palette('deep', np.unique(labels).max() + 1)\n",
    "    colors = [palette[x] if x >= 0 else (0.0, 0.0, 0.0) for x in labels]\n",
    "    plt.scatter(data.T[0], data.T[1], c=colors, **plot_kwds)\n",
    "    frame = plt.gca()\n",
    "    frame.axes.get_xaxis().set_visible(False)\n",
    "    frame.axes.get_yaxis().set_visible(False)\n",
    "    plt.title('Clusters found by {}'.format(str(algorithm.__name__)), fontsize=24)\n",
    "    plt.text(-0.5, 0.7, 'Clustering took {:.2f} s'.format(end_time - start_time), fontsize=14)"
   ]
  },
  {
   "cell_type": "code",
   "execution_count": 55,
   "id": "e2e20dd5",
   "metadata": {},
   "outputs": [],
   "source": [
    "n=4\n",
    "n2=6\n",
    "n3 = 5\n",
    "\n",
    "X1 = X_us[['stays_in_week_nights','stays_in_weekend_nights']]\n",
    "X2 = X_us[['is_repeated_guest','previous_bookings_not_canceled']]\n",
    "X3 = X_us[['adr','stays_in_week_nights', 'adults', 'children','babies','stays_in_weekend_nights']]\n",
    "\n",
    "cls = KMeans(n_clusters=n, init='k-means++',random_state=1)\n",
    "cls.fit(X1)\n",
    "newfeature = cls.labels_ # the labels from kmeans clustering\n",
    "\n",
    "# append on the second clustering\n",
    "cls2 = KMeans(n_clusters=n2, init='k-means++',random_state=1)\n",
    "cls2.fit(X2)\n",
    "newfeature2 = cls2.labels_ # the labels from kmeans clustering\n",
    "\n",
    "# append on the third clustering\n",
    "cls3 = KMeans(n_clusters=n3, init='k-means++',random_state=1)\n",
    "cls3.fit(X3)\n",
    "newfeature3 = cls3.labels_ # the labels from kmeans clustering\n"
   ]
  },
  {
   "cell_type": "code",
   "execution_count": 56,
   "id": "fd0e2a80",
   "metadata": {
    "scrolled": true
   },
   "outputs": [
    {
     "data": {
      "image/png": "[encoded data removed]",
      "text/plain": [
       "<Figure size 432x288 with 1 Axes>"
      ]
     },
     "metadata": {
      "needs_background": "light"
     },
     "output_type": "display_data"
    }
   ],
   "source": [
    "X1 = X_us[['stays_in_week_nights','stays_in_weekend_nights']]\n",
    "X1=X1.values\n",
    "plt.figure()\n",
    "plt.scatter(X1[:, 1], X1[:, 0]+np.random.random(X1[:, 0].shape)/2, c=newfeature, cmap=plt.cm.rainbow, s=20, linewidths=0)\n",
    "plt.xlabel(''), plt.ylabel('')\n",
    "plt.grid()"
   ]
  },
  {
   "cell_type": "code",
   "execution_count": 57,
   "id": "972a6ca0",
   "metadata": {},
   "outputs": [
    {
     "data": {
      "image/png": "[encoded data removed]",
      "text/plain": [
       "<Figure size 432x288 with 1 Axes>"
      ]
     },
     "metadata": {
      "needs_background": "light"
     },
     "output_type": "display_data"
    }
   ],
   "source": [
    "X2 = X_us[['is_repeated_guest','previous_bookings_not_canceled']]\n",
    "X2=X2.values\n",
    "plt.figure()\n",
    "plt.scatter(X2[:, 1], X2[:, 0]+np.random.random(X2[:, 0].shape)/2, c=newfeature, cmap=plt.cm.rainbow, s=20, linewidths=0)\n",
    "plt.xlabel(''), plt.ylabel('')\n",
    "plt.grid()"
   ]
  },
  {
   "cell_type": "code",
   "execution_count": 58,
   "id": "6f616acd",
   "metadata": {},
   "outputs": [
    {
     "data": {
      "image/png": "[encoded data removed]",
      "text/plain": [
       "<Figure size 432x288 with 1 Axes>"
      ]
     },
     "metadata": {
      "needs_background": "light"
     },
     "output_type": "display_data"
    }
   ],
   "source": [
    "X3 = X_us[['adr','stays_in_week_nights', 'adults', 'children','babies','stays_in_weekend_nights']]\n",
    "X3=X3.values\n",
    "plt.figure()\n",
    "plt.scatter(X3[:, 1], X1[:, 0]+np.random.random(X3[:, 0].shape)/2, c=newfeature, cmap=plt.cm.rainbow, s=20, linewidths=0)\n",
    "plt.xlabel(''), plt.ylabel('')\n",
    "plt.grid()"
   ]
  },
  {
   "cell_type": "markdown",
   "id": "906c1cc1",
   "metadata": {},
   "source": [
    "#### KMeans Visuals"
   ]
  },
  {
   "cell_type": "code",
   "execution_count": 59,
   "id": "74d8b1ef",
   "metadata": {},
   "outputs": [
    {
     "name": "stderr",
     "output_type": "stream",
     "text": [
      "C:\\Users\\drsco\\anaconda3_new\\lib\\site-packages\\sklearn\\cluster\\_kmeans.py:792: FutureWarning: 'n_jobs' was deprecated in version 0.23 and will be removed in 1.0 (renaming of 0.25).\n",
      "  warnings.warn(\"'n_jobs' was deprecated in version 0.23 and will be\"\n"
     ]
    },
    {
     "data": {
      "image/png": "[encoded data removed]",
      "text/plain": [
       "<Figure size 432x288 with 1 Axes>"
      ]
     },
     "metadata": {
      "needs_background": "light"
     },
     "output_type": "display_data"
    }
   ],
   "source": [
    "kmeans = KMeans(init='random', # initialization\n",
    "        n_clusters=2,  # number of clusters\n",
    "        random_state=1,\n",
    "        n_init=15,       # number of different times to run k-means\n",
    "        n_jobs=-1)\n",
    "kmeans.fit(X1)\n",
    "# visualize the data\n",
    "centroids = kmeans.cluster_centers_\n",
    "plt.plot(X1[:, 1], X1[:, -1], 'r.', markersize=2) #plot the data\n",
    "# plt.scatter(centroids[:, 0], centroids[:, 1],\n",
    "#             marker='+', s=200, linewidths=3, color='k')  # plot the centroids\n",
    "plt.scatter(X1[:,0], X1[:,1], s=500)\n",
    "plt.show()"
   ]
  },
  {
   "cell_type": "code",
   "execution_count": 60,
   "id": "f92cebb1",
   "metadata": {},
   "outputs": [
    {
     "name": "stderr",
     "output_type": "stream",
     "text": [
      "C:\\Users\\drsco\\anaconda3_new\\lib\\site-packages\\sklearn\\cluster\\_kmeans.py:792: FutureWarning: 'n_jobs' was deprecated in version 0.23 and will be removed in 1.0 (renaming of 0.25).\n",
      "  warnings.warn(\"'n_jobs' was deprecated in version 0.23 and will be\"\n"
     ]
    },
    {
     "data": {
      "image/png": "[encoded data removed]",
      "text/plain": [
       "<Figure size 432x288 with 1 Axes>"
      ]
     },
     "metadata": {
      "needs_background": "light"
     },
     "output_type": "display_data"
    }
   ],
   "source": [
    "kmeans = KMeans(init='random', # initialization\n",
    "        n_clusters=2,  # number of clusters\n",
    "        random_state=1,\n",
    "        n_init=15,       # number of different times to run k-means\n",
    "        n_jobs=-1)\n",
    "kmeans.fit(X2)\n",
    "# visualize the data\n",
    "centroids = kmeans.cluster_centers_\n",
    "plt.plot(X2[:, 1], X2[:, -1], 'r.', markersize=2) #plot the data\n",
    "# plt.scatter(centroids[:, 0], centroids[:, 1],\n",
    "#             marker='+', s=200, linewidths=3, color='k')  # plot the centroids\n",
    "plt.scatter(X2[:,0], X2[:,1], s=500)\n",
    "plt.show()"
   ]
  },
  {
   "cell_type": "code",
   "execution_count": 61,
   "id": "d003abbf",
   "metadata": {},
   "outputs": [
    {
     "name": "stderr",
     "output_type": "stream",
     "text": [
      "C:\\Users\\drsco\\anaconda3_new\\lib\\site-packages\\sklearn\\cluster\\_kmeans.py:792: FutureWarning: 'n_jobs' was deprecated in version 0.23 and will be removed in 1.0 (renaming of 0.25).\n",
      "  warnings.warn(\"'n_jobs' was deprecated in version 0.23 and will be\"\n"
     ]
    },
    {
     "data": {
      "image/png": "[encoded data removed]",
      "text/plain": [
       "<Figure size 432x288 with 1 Axes>"
      ]
     },
     "metadata": {
      "needs_background": "light"
     },
     "output_type": "display_data"
    }
   ],
   "source": [
    "from sklearn.cluster import KMeans\n",
    "\n",
    "kmeans = KMeans(init='random', # initialization\n",
    "        n_clusters=2,  # number of clusters\n",
    "        random_state=1,\n",
    "        n_init=15,       # number of different times to run k-means\n",
    "        n_jobs=-1)\n",
    "kmeans.fit(X3)\n",
    "# visualize the data\n",
    "centroids = kmeans.cluster_centers_\n",
    "plt.plot(X3[:, 1], X3[:, -1], 'r.', markersize=2) #plot the data\n",
    "# plt.scatter(centroids[:, 0], centroids[:, 1],\n",
    "#             marker='+', s=200, linewidths=3, color='k')  # plot the centroids\n",
    "plt.scatter(X3[:,0], X3[:,1], s=500)\n",
    "plt.show()"
   ]
  },
  {
   "cell_type": "code",
   "execution_count": 62,
   "id": "6b80e872",
   "metadata": {},
   "outputs": [
    {
     "data": {
      "image/png": "[encoded data removed]",
      "text/plain": [
       "<Figure size 1440x720 with 1 Axes>"
      ]
     },
     "metadata": {
      "needs_background": "light"
     },
     "output_type": "display_data"
    }
   ],
   "source": [
    "# Plotting K-distance Graph\n",
    "distances = np.sort(X1, axis=0)\n",
    "distances = distances[:,1]\n",
    "plt.figure(figsize=(20,10))\n",
    "plt.plot(distances)\n",
    "plt.title('K-distance Graph',fontsize=20)\n",
    "plt.xlabel('Data Points sorted by distance',fontsize=14)\n",
    "plt.ylabel('Epsilon',fontsize=14)\n",
    "plt.show()"
   ]
  },
  {
   "cell_type": "code",
   "execution_count": 63,
   "id": "258ea46c",
   "metadata": {
    "scrolled": true
   },
   "outputs": [
    {
     "data": {
      "image/png": "[encoded data removed]",
      "text/plain": [
       "<Figure size 1440x720 with 1 Axes>"
      ]
     },
     "metadata": {
      "needs_background": "light"
     },
     "output_type": "display_data"
    }
   ],
   "source": [
    "# Plotting K-distance Graph\n",
    "distances = np.sort(X3, axis=0)\n",
    "distances = distances[:,1]\n",
    "plt.figure(figsize=(20,10))\n",
    "plt.plot(distances)\n",
    "plt.title('K-distance Graph',fontsize=20)\n",
    "plt.xlabel('Data Points sorted by distance',fontsize=14)\n",
    "plt.ylabel('Epsilon',fontsize=14)\n",
    "plt.show()"
   ]
  },
  {
   "cell_type": "code",
   "execution_count": 64,
   "id": "68bea02b",
   "metadata": {},
   "outputs": [
    {
     "data": {
      "image/png": "[encoded data removed]",
      "text/plain": [
       "<Figure size 432x288 with 1 Axes>"
      ]
     },
     "metadata": {
      "needs_background": "light"
     },
     "output_type": "display_data"
    }
   ],
   "source": [
    "plot_clusters(X1, cluster.KMeans, (), {'n_clusters':4})"
   ]
  },
  {
   "cell_type": "code",
   "execution_count": 65,
   "id": "1b615ed1",
   "metadata": {},
   "outputs": [
    {
     "data": {
      "image/png": "[encoded data removed]",
      "text/plain": [
       "<Figure size 432x288 with 1 Axes>"
      ]
     },
     "metadata": {
      "needs_background": "light"
     },
     "output_type": "display_data"
    }
   ],
   "source": [
    "plot_clusters(X2, cluster.KMeans, (), {'n_clusters':6})"
   ]
  },
  {
   "cell_type": "code",
   "execution_count": 66,
   "id": "8419e5eb",
   "metadata": {},
   "outputs": [
    {
     "data": {
      "image/png": "[encoded data removed]",
      "text/plain": [
       "<Figure size 432x288 with 1 Axes>"
      ]
     },
     "metadata": {
      "needs_background": "light"
     },
     "output_type": "display_data"
    }
   ],
   "source": [
    "plot_clusters(X3, cluster.KMeans, (), {'n_clusters':5})"
   ]
  },
  {
   "cell_type": "markdown",
   "id": "7783b2f9",
   "metadata": {},
   "source": [
    "#### DBSCAN"
   ]
  },
  {
   "cell_type": "code",
   "execution_count": 67,
   "id": "aacb95c9",
   "metadata": {
    "scrolled": true
   },
   "outputs": [
    {
     "data": {
      "image/png": "[encoded data removed]",
      "text/plain": [
       "<Figure size 432x288 with 1 Axes>"
      ]
     },
     "metadata": {
      "needs_background": "light"
     },
     "output_type": "display_data"
    }
   ],
   "source": [
    "plot_clusters(X3, cluster.DBSCAN, (), {'eps':0.025})"
   ]
  },
  {
   "cell_type": "code",
   "execution_count": 68,
   "id": "27e465c7",
   "metadata": {},
   "outputs": [
    {
     "data": {
      "image/png": "[encoded data removed]",
      "text/plain": [
       "<Figure size 432x288 with 1 Axes>"
      ]
     },
     "metadata": {
      "needs_background": "light"
     },
     "output_type": "display_data"
    }
   ],
   "source": [
    "plot_clusters(X1, cluster.DBSCAN, (), {'eps':0.025})"
   ]
  },
  {
   "cell_type": "markdown",
   "id": "7740e865",
   "metadata": {},
   "source": [
    "#### Agglomerative clustering"
   ]
  },
  {
   "cell_type": "code",
   "execution_count": 69,
   "id": "1a616eae",
   "metadata": {},
   "outputs": [
    {
     "data": {
      "image/png": "[encoded data removed]",
      "text/plain": [
       "<Figure size 432x288 with 1 Axes>"
      ]
     },
     "metadata": {
      "needs_background": "light"
     },
     "output_type": "display_data"
    },
    {
     "data": {
      "text/plain": [
       "<Figure size 720x720 with 0 Axes>"
      ]
     },
     "metadata": {},
     "output_type": "display_data"
    }
   ],
   "source": [
    "import numpy as np\n",
    "import matplotlib.pyplot as plt\n",
    "import pandas as pd\n",
    "import scipy.cluster.hierarchy as sch\n",
    "\n",
    "dendrogram = sch.dendrogram(sch.linkage(X3, method  = \"ward\"))\n",
    "plt.title('Dendrogram')\n",
    "plt.figure(figsize=(10, 10)) \n",
    "plt.show()"
   ]
  },
  {
   "cell_type": "code",
   "execution_count": null,
   "id": "7c228272",
   "metadata": {},
   "outputs": [],
   "source": [
    "#for some reason this code kills your kernel\n",
    "\n",
    "# dendrogram = sch.dendrogram(sch.linkage(X1, method  = \"ward\"))\n",
    "# plt.title('Dendrogram')\n",
    "# plt.figure(figsize=(10, 10)) \n",
    "# plt.show()"
   ]
  },
  {
   "cell_type": "code",
   "execution_count": null,
   "id": "52702a74",
   "metadata": {},
   "outputs": [],
   "source": [
    "# dendrogram = sch.dendrogram(sch.linkage(X2, method  = \"ward\"))\n",
    "# plt.title('Dendrogram')\n",
    "# plt.figure(figsize=(10, 10)) \n",
    "# plt.show()"
   ]
  },
  {
   "cell_type": "code",
   "execution_count": null,
   "id": "f99a86be",
   "metadata": {
    "scrolled": true
   },
   "outputs": [],
   "source": [
    "plot_clusters(X1, cluster.AgglomerativeClustering, (), {'n_clusters':6, 'linkage':'ward'})"
   ]
  },
  {
   "cell_type": "code",
   "execution_count": null,
   "id": "f3a4ae04",
   "metadata": {},
   "outputs": [],
   "source": [
    "plot_clusters(X3, cluster.AgglomerativeClustering, (), {'n_clusters':6, 'linkage':'ward'})"
   ]
  },
  {
   "cell_type": "markdown",
   "id": "57643766",
   "metadata": {},
   "source": [
    "#### Gaussian Models"
   ]
  },
  {
   "cell_type": "code",
   "execution_count": null,
   "id": "d3530f9b",
   "metadata": {},
   "outputs": [],
   "source": [
    "# Plot \n",
    "import matplotlib as mpl\n",
    "color_iter = itertools.cycle(['k', 'r', 'b', 'g', 'c', 'm', 'y'])\n",
    "plt.figure(figsize=(8,4))\n",
    "splot = plt.subplot(1,1,1)\n",
    "gmm = mixture.GaussianMixture(covariance_type='diag', n_components=17)\n",
    "gmm.fit(X1)\n",
    "Y_ = gmm.predict(X1)\n",
    "for i, (mean, covar, color) in enumerate(zip(gmm.means_, gmm.covariances_,\n",
    "                                             color_iter)):\n",
    "    if len(covar.shape)<2:\n",
    "        tmp = np.zeros((2,2))\n",
    "        np.fill_diagonal(tmp,covar)\n",
    "        covar = tmp\n",
    "    elif covar.shape[0] != covar.shape[1]:\n",
    "        covar = np.diag(covar)\n",
    "        \n",
    "    v, w = linalg.eigh(covar)\n",
    "    if not np.any(Y_ == i):\n",
    "        continue\n",
    "    plt.scatter(X1[Y_ == i, 0], X1[Y_ == i, 1], .8, color=color)\n",
    "\n",
    "    # Plot an ellipse to show the Gaussian component\n",
    "    angle = np.arctan2(w[0][1], w[0][0])\n",
    "    angle = 180 * angle / np.pi  # convert to degrees\n",
    "    v *= 4\n",
    "    ell = mpl.patches.Ellipse(mean, v[0], v[1], 180 + angle, color=color)\n",
    "    ell.set_clip_box(splot.bbox)\n",
    "    ell.set_alpha(.5)\n",
    "    splot.add_artist(ell)\n",
    "\n",
    "\n",
    "plt.title('Selected GMM')\n",
    "plt.show()"
   ]
  },
  {
   "cell_type": "code",
   "execution_count": null,
   "id": "5fa5835e",
   "metadata": {},
   "outputs": [],
   "source": [
    "import matplotlib as mpl\n",
    "color_iter = itertools.cycle(['k', 'r', 'b', 'g', 'c', 'm', 'y'])\n",
    "plt.figure(figsize=(8,4))\n",
    "splot = plt.subplot(1,1,1)\n",
    "gmm = mixture.GaussianMixture(covariance_type='diag', n_components=16)\n",
    "gmm.fit(X3)\n",
    "Y_ = gmm.predict(X3)\n",
    "for i, (mean, covar, color) in enumerate(zip(gmm.means_, gmm.covariances_,\n",
    "                                             color_iter)):\n",
    "    if len(covar.shape)<2:\n",
    "        tmp = np.zeros((2,2))\n",
    "        np.fill_diagonal(tmp,covar)\n",
    "        covar = tmp\n",
    "    elif covar.shape[0] != covar.shape[1]:\n",
    "        covar = np.diag(covar)\n",
    "        \n",
    "    v, w = linalg.eigh(covar)\n",
    "    if not np.any(Y_ == i):\n",
    "        continue\n",
    "    plt.scatter(X3[Y_ == i, 0], X3[Y_ == i, 1], .8, color=color)\n",
    "\n",
    "    # Plot an ellipse to show the Gaussian component\n",
    "    angle = np.arctan2(w[0][1], w[0][0])\n",
    "    angle = 180 * angle / np.pi  # convert to degrees\n",
    "    v *= 4\n",
    "    ell = mpl.patches.Ellipse(mean, v[0], v[1], 180 + angle, color=color)\n",
    "    ell.set_clip_box(splot.bbox)\n",
    "    ell.set_alpha(.5)\n",
    "    splot.add_artist(ell)\n",
    "\n",
    "\n",
    "plt.title('Selected GMM')\n",
    "plt.show()"
   ]
  },
  {
   "cell_type": "markdown",
   "id": "743b09be",
   "metadata": {},
   "source": [
    "# Modeling and Evaluation 4\n",
    "\n",
    "Summarize and ramifications"
   ]
  },
  {
   "cell_type": "markdown",
   "id": "045ce0f7",
   "metadata": {},
   "source": [
    "# Deployment\n",
    "\n",
    "Be critical of your performance and tell the reader how you current model might be usable by other parties. Did you achieve your goals? If not, can you reign in the utility of your modeling? How useful is your model for interested parties (i.e., the companies or organizations that might want to use it)? How would your deploy your model for interested parties? What other data should be collected? How often would the model need to be updated, etc.?\n"
   ]
  },
  {
   "cell_type": "markdown",
   "id": "4c25df60",
   "metadata": {},
   "source": [
    "# Exceptional Work\n",
    "\n",
    "You have free reign to provide additional analyses or combine analyses."
   ]
  },
  {
   "cell_type": "markdown",
   "id": "aca87e1d",
   "metadata": {},
   "source": [
    "Clustering using pairwise distances. Undersample to 1000 instances per class to get pairwise distances."
   ]
  },
  {
   "cell_type": "code",
   "execution_count": null,
   "id": "4e53150a",
   "metadata": {},
   "outputs": [],
   "source": [
    "from imblearn.under_sampling import RandomUnderSampler\n",
    "\n",
    "# Undersample the dataset using the RandomUnderSampler \n",
    "# Set all class sizes equal to the smallest class.\n",
    "us = RandomUnderSampler(sampling_strategy={0:5000,1:5000})\n",
    "X_pair, y_pair = us.fit_resample(X, y)"
   ]
  },
  {
   "cell_type": "code",
   "execution_count": null,
   "id": "3b52ee00",
   "metadata": {},
   "outputs": [],
   "source": [
    "#One hot encode specific columns without standardizing and scaling continuous variables\n",
    "from sklearn.preprocessing import OneHotEncoder\n",
    "categorical_features = [\"hotel\", 'meal','market_segment','distribution_channel',\n",
    "                        'reserved_room_type', 'assigned_room_type', 'deposit_type','customer_type']\n",
    "\n",
    "ohe = OneHotEncoder(drop=\"first\")\n",
    "\n",
    "hotel_object = X_pair.select_dtypes('object')\n",
    "ohe.fit(hotel_object)\n",
    "\n",
    "codes = ohe.transform(hotel_object).toarray()\n",
    "feature_names = ohe.get_feature_names(categorical_features)\n",
    "\n",
    "X_pair = pd.concat([X_pair.select_dtypes(exclude='object'), \n",
    "               pd.DataFrame(codes,columns=feature_names).astype(int)], axis=1)"
   ]
  },
  {
   "cell_type": "code",
   "execution_count": null,
   "id": "5742b594",
   "metadata": {},
   "outputs": [],
   "source": [
    "from sklearn.preprocessing import OneHotEncoder, StandardScaler\n",
    "continuous_variables = ['lead_time',\"arrival_date_month\",'arrival_date_year','arrival_date_week_number','arrival_date_day_of_month',\n",
    "                        'stays_in_weekend_nights','stays_in_week_nights','adults','children','babies',\n",
    "                        'is_repeated_guest','previous_cancellations','previous_bookings_not_canceled',\n",
    "                        'booking_changes','agent','days_in_waiting_list','adr','required_car_parking_spaces',\n",
    "                        'total_of_special_requests']\n",
    "stdsclr = StandardScaler()\n",
    "\n",
    "X_pair[continuous_variables] = stdsclr.fit_transform(X_pair[continuous_variables])"
   ]
  },
  {
   "cell_type": "code",
   "execution_count": null,
   "id": "5cc80c1a",
   "metadata": {},
   "outputs": [],
   "source": [
    "EvaluateClassifierEstimator(clf, X_pair, y_pair, cv)"
   ]
  },
  {
   "cell_type": "code",
   "execution_count": null,
   "id": "250ac376",
   "metadata": {},
   "outputs": [],
   "source": [
    "y_pair.shape"
   ]
  },
  {
   "cell_type": "markdown",
   "id": "7617c85b",
   "metadata": {},
   "source": [
    "Create pairwise distances for these variables"
   ]
  },
  {
   "cell_type": "code",
   "execution_count": null,
   "id": "604efff1",
   "metadata": {},
   "outputs": [],
   "source": [
    "from sklearn.metrics.pairwise import pairwise_distances\n",
    "\n",
    "X_choose = X_pair[['adr','stays_in_week_nights', 'adults', 'children','babies','stays_in_weekend_nights']]\n",
    "d = pairwise_distances(X_choose, metric='euclidean')\n",
    "cls = KMeans(n_clusters=11, init='k-means++',random_state=1)\n",
    "cls.fit(d)\n",
    "newfeature = cls.labels_\n",
    "X_change = X_pair.drop(['adr','stays_in_week_nights', 'adults', 'children','babies','stays_in_weekend_nights'], axis=1)\n",
    "X_new = np.column_stack((X_change,pd.get_dummies(newfeature)))\n",
    "acc = cross_val_score(clf,X_new,y=y_pair,cv=cv)\n",
    "print (\"Average accuracy\", acc.mean()*100, \"+-\", acc.std()*100)"
   ]
  },
  {
   "cell_type": "code",
   "execution_count": null,
   "id": "99c00047",
   "metadata": {},
   "outputs": [],
   "source": [
    "EvaluateClassifierEstimator(clf, X_new, y_pair, cv)"
   ]
  }
 ],
 "metadata": {
  "kernelspec": {
   "display_name": "Python 3",
   "language": "python",
   "name": "python3"
  },
  "language_info": {
   "codemirror_mode": {
    "name": "ipython",
    "version": 3
   },
   "file_extension": ".py",
   "mimetype": "text/x-python",
   "name": "python",
   "nbconvert_exporter": "python",
   "pygments_lexer": "ipython3",
   "version": "3.8.8"
  }
 },
 "nbformat": 4,
 "nbformat_minor": 5
}
