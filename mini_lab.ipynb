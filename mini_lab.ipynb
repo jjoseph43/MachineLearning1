{
 "cells": [
  {
   "cell_type": "markdown",
   "id": "b4533a11",
   "metadata": {},
   "source": [
    "# Mini-Lab: Logistic Regression and SVMs"
   ]
  },
  {
   "cell_type": "markdown",
   "id": "87b873ac",
   "metadata": {},
   "source": [
    "Names:\n",
    "Dylan Scott\n",
    "Jobin Joseph\n",
    "Nnenna Okpara\n",
    "Satvik Ajmera"
   ]
  },
  {
   "cell_type": "raw",
   "id": "3f1688cb",
   "metadata": {},
   "source": [
    "Instructions:\n",
    "You are to perform predictive analysis (classification) upon a data set: model the dataset using\n",
    "methods we have discussed in class: logistic regression and support vector machines, and making\n",
    "conclusions from the analysis. Follow the CRISP-DM framework in your analysis (you are not\n",
    "performing all of the CRISP-DM outline, only the portions relevant to the grading rubric outlined\n",
    "below). This report is worth 10% of the final grade. You may complete this assignment in teams of\n",
    "as many as three people.\n",
    "\n",
    "Write a report covering all the steps of the project. The format of the document can be PDF,\n",
    "*.ipynb, or HTML. You can write the report in whatever format you like, but it is easiest to turn in the\n",
    "rendered iPython notebook. The results should be reproducible using your report. Please carefully\n",
    "describe every assumption and every step in your report.\n",
    "\n",
    "SVM and Logistic Regression Modeling\n",
    "• [50 points] Create a logistic regression model and a support vector machine model for the\n",
    "classification task involved with your dataset. Assess how well each model performs (use\n",
    "80/20 training/testing split for your data). Adjust parameters of the models to make them more\n",
    "accurate. If your dataset size requires the use of stochastic gradient descent, then linear kernel\n",
    "only is fine to use.\n",
    "\n",
    "[pick performance stats]\n",
    "\n",
    "• [10 points] Discuss the advantages of each model for each classification task. Does one type\n",
    "of model offer superior performance over another in terms of prediction accuracy? In terms of\n",
    "training time or efficiency? Explain in detail.\n",
    "\n",
    "• [30 points] Use the weights from logistic regression to interpret the importance of different\n",
    "features for each classification task. Explain your interpretation in detail. Why do you think\n",
    "some variables are more important?\n",
    "\n",
    "• [10 points] Look at the chosen support vectors for the classification task. Do these provide\n",
    "any insight into the data? Explain."
   ]
  },
  {
   "cell_type": "code",
   "execution_count": null,
   "id": "a7aa276e",
   "metadata": {},
   "outputs": [],
   "source": []
  }
 ],
 "metadata": {
  "kernelspec": {
   "display_name": "Python 3 (ipykernel)",
   "language": "python",
   "name": "python3"
  },
  "language_info": {
   "codemirror_mode": {
    "name": "ipython",
    "version": 3
   },
   "file_extension": ".py",
   "mimetype": "text/x-python",
   "name": "python",
   "nbconvert_exporter": "python",
   "pygments_lexer": "ipython3",
   "version": "3.8.11"
  }
 },
 "nbformat": 4,
 "nbformat_minor": 5
}
